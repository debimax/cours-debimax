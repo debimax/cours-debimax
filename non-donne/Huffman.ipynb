{
 "cells": [
  {
   "cell_type": "code",
   "execution_count": 1,
   "metadata": {},
   "outputs": [
    {
     "data": {
      "application/javascript": [
       "IPython.Cell.options_default.cm_config.lineNumbers = true;"
      ],
      "text/plain": [
       "<IPython.core.display.Javascript object>"
      ]
     },
     "metadata": {},
     "output_type": "display_data"
    }
   ],
   "source": [
    "%%javascript\n",
    "IPython.Cell.options_default.cm_config.lineNumbers = true;"
   ]
  },
  {
   "cell_type": "code",
   "execution_count": 1,
   "metadata": {},
   "outputs": [
    {
     "data": {
      "text/html": [
       "<style>\n",
       "\n",
       "\n",
       "div.text_cell_render { font-size: 12pt;   line-height: 145%; }\n",
       "div.text_cell_render h1{text-align: center;font-size: 24pt; color:#ff0000;  text-decoration: underline;}\n",
       "div.text_cell_render h2{font-size: 20pt;color:#ff0000;  text-decoration: underline;}\n",
       "div.text_cell_render h3{font-size: 14pt;color:#ff0000;  text-decoration: underline;}\n",
       "div.text_cell_render h4{font-size: 12pt;color:#ff0000;  text-decoration: underline; }\n",
       "div.text_cell_render h5 {font-weight: 300;}\n",
       "\n",
       "\n",
       "div.cell.code_cell { /* area that contains code + output */\n",
       "    background: #ffffff;\n",
       "    border: none;\n",
       "    border-radius: 10px;\n",
       "    padding-top: 1ex;\n",
       "}\n",
       "\n",
       "div.input_area { /* box around box with code */\n",
       "    border: none;\n",
       "    background: #f5f5f5;\n",
       "    border: 1px solid #ccc;\n",
       "    border-radius: 10px;\n",
       "    padding-top: 0.5ex;\n",
       "    padding-bottom: 0.5ex;\n",
       "    padding-left: 0.5em;\n",
       "}\n",
       "\n",
       "div.input { /* box with code */\n",
       "}\n",
       "\n",
       "div.CodeMirror { /* code font */\n",
       "    font-family: \"Inconsolata-dz\", monospace;\n",
       "    font-size: 10pt;\n",
       "}\n",
       "\n",
       "\n",
       "\n",
       "\n",
       "\n",
       "/*div.text_cell_render  code { font-size: medium; border: 3px #ababab solid; background-color: #f5f5f5;}*/\n",
       "/*.rendered_html code { border: 3px #ababab solid; background-color:  #f5f5f5;}*/\n",
       ".rendered_html blockquote { margin: 1em 2em; background: red; }\n",
       ".rendered_html ol { list-style:decimal; margin: 1em 2em; }\n",
       "\n",
       "\n",
       "</style>"
      ],
      "text/plain": [
       "<IPython.core.display.HTML object>"
      ]
     },
     "execution_count": 1,
     "metadata": {},
     "output_type": "execute_result"
    }
   ],
   "source": [
    "# Charge ma feuille de style pour nbviewer\n",
    "from IPython.core.display import HTML\n",
    "from  urllib.request import urlopen\n",
    "# import urllib.request, urllib.parse, urllib.error\n",
    "\n",
    "url='https://github.com/debimax/cours-debimax/raw/master/documents/custom.css'\n",
    "with urlopen(url) as response:\n",
    "    styles = response.read().decode(\"utf8\")\n",
    "styles=\"<style>\\n{}\\n</style>\".format(styles)\n",
    "HTML(styles)"
   ]
  },
  {
   "cell_type": "markdown",
   "metadata": {},
   "source": [
    "# Codage de Huffman\n",
    "\n",
    "## Un exemple\n",
    "\n",
    "Nous allons compresser le mot  ***anticonstitutionnellement***.\n",
    "\n",
    "\n",
    "Il y a 25 caractères dans ce mot. chaque caractère étant codé par un octet de 8 bits (codage ASCII) cela signifie donc 25 octets, ou encore 200 bits.\n",
    "\n",
    "La table des fréquences des lettres de ce mot est donc.\n",
    "\n",
    "\n",
    "| Clé|a|c|s|u|m|o|l|i|e|n|t|\n",
    "| :---: |:---: |:---: |:---:|:---: |:---: |:---: |:---: |:---: |:---: |:---: |:---:|\n",
    "| Fréquence |1|1|1|1|1|2|2|3|3|5|5|\n",
    "\n",
    "\n",
    "Créer un nœud terminal pour chaque entrée du tableau :\n",
    "\n",
    "<center><b>step 0</b></center>\n",
    "![step 0](http://megamaths.hd.free.fr/~pi/statics/step0.svg \"Step 0\")\n",
    "\n",
    "![alt text](data:image/svg+xml,http://megamaths.hd.free.fr/~pi/statics/step0.svg \"title\")\n",
    "\n",
    "Ce qui nous fait pour l'instant 11 arbres contenant un seul nœud chacun.\n",
    "\n",
    "On commence l'itération: à chaque fois on supprime les deux arbres de gauche et on les remplace par un \"arbre somme\". Le nouvel arbre est inséré dans la liste en respectant l'ordre croissant, et on recommence jusqu'à ce qu'il ne reste plus qu'un seul arbre:\n",
    "\n",
    "<center><b>step 1</b></center>\n",
    "![step 1](http://megamaths.hd.free.fr/static/step1.svg \"Step 1\")\n",
    "\n",
    "\n",
    "\n",
    "<center><b>step 2</b></center>\n",
    "![step 2](http://megamaths.hd.free.fr/~pi/statics/step2.svg \"Step 2\")\n",
    "\n",
    "<center><b>step 3</b></center>\n",
    "![step 3](http://megamaths.hd.free.fr/~pi/statics/step3.svg \"Step 3\")\n",
    "\n",
    "<center><b>step 4</b></center>\n",
    "![step 4](http://megamaths.hd.free.fr/~pi/statics/step4.svg \"Step 4\")\n",
    "\n",
    "<center><b>step 5</b></center>\n",
    "![step 5](http://megamaths.hd.free.fr/~pi/statics/step5.svg \"Step 5\")\n",
    "\n",
    "Maintenant, le code associé à chaque Clé n'est autre que le chemin d'accès au nœud terminal correspondant, depuis la racine, en notant 0 la branche de gauche et 1 la branche de droite.\n",
    "\n",
    "Finalement on obtient:\n",
    "\n",
    "\n",
    "| Clé | Code binaire|\n",
    "| :----: | :------: |\n",
    "| n  | 00 |\n",
    "| t  | 01 |\n",
    "| i  | 100 |\n",
    "| e  | 101 |\n",
    "| a  | 11000 |\n",
    "| c  | 11001 |\n",
    "| o  | 1101 |\n",
    "| l  | 1110 |\n",
    "| m  | 11110 |\n",
    "| s | 111110 |\n",
    "| u | 111111 |\n",
    "\n",
    "\n",
    "Et voici maintenant, transcrit avec notre nouveau code, le mot de départ:\n",
    "\n",
    "110000001100110011101001111100110001111111011001101000010111101110101111101010001\n",
    "\n",
    "ce qui nous fait 81 bits, au lieu de 200 au départ! Cela correspond à un taux de compression de 60 \\%.\n",
    "\n",
    "\n",
    "Le fait d'avoir généré un code en se servant d'un arbre binaire assure qu'aucun code ne peut être le préfixe d'un autre. Vous pouvez vérifier qu'à l'aide de la table de codage, il n'y a aucune ambiguïté possible pour décoder notre mot compressé!\n",
    "\n",
    "\n",
    "En pratique, la table de codage étant spécifique à chaque fichier, il est indispensable de l'incorporer au fichier compressé, de manière à ce que le décryptage soit possible. Ce qui signifie que la taille du fichier compressé doit être augmentée d'autant. Dans le cas de notre fichier exemple, il faudrait incorporer AU MINIMUM 22 octets de plus pour insérer la table de codage, et le taux de compression n'est plus aussi bon.\n",
    "\n",
    "Toutefois, pour des fichiers suffisamment larges (à partir de quelques kilo-octets) le surplus de taille généré par la table de codage devient négligeable par rapport à l'ensemble du fichier. Concrètement, l'algorithme de Huffman permet d'obtenir des taux de compression typiques compris entre 30% et 60%. Sans être aussi bien que ce que réalise Winzip (en moyenne 20 % de mieux), c'est déjà pas mal!\n",
    "\n"
   ]
  },
  {
   "cell_type": "markdown",
   "metadata": {
    "collapsed": true
   },
   "source": [
    "[Testez ici](http://huffman.ooz.ie/?text=anticonstitutionnellement})"
   ]
  }
 ],
 "metadata": {
  "kernelspec": {
   "display_name": "Python 3",
   "language": "python",
   "name": "python3"
  },
  "language_info": {
   "codemirror_mode": {
    "name": "ipython",
    "version": 3
   },
   "file_extension": ".py",
   "mimetype": "text/x-python",
   "name": "python",
   "nbconvert_exporter": "python",
   "pygments_lexer": "ipython3",
   "version": "3.7.3"
  },
  "toc": {
   "base_numbering": 1,
   "nav_menu": {
    "height": "49px",
    "width": "252px"
   },
   "number_sections": true,
   "sideBar": true,
   "skip_h1_title": false,
   "title_cell": "Table of Contents",
   "title_sidebar": "Contents",
   "toc_cell": false,
   "toc_position": {},
   "toc_section_display": "block",
   "toc_window_display": false
  },
  "varInspector": {
   "cols": {
    "lenName": 16,
    "lenType": 16,
    "lenVar": 40
   },
   "kernels_config": {
    "python": {
     "delete_cmd_postfix": "",
     "delete_cmd_prefix": "del ",
     "library": "var_list.py",
     "varRefreshCmd": "print(var_dic_list())"
    },
    "r": {
     "delete_cmd_postfix": ") ",
     "delete_cmd_prefix": "rm(",
     "library": "var_list.r",
     "varRefreshCmd": "cat(var_dic_list()) "
    }
   },
   "types_to_exclude": [
    "module",
    "function",
    "builtin_function_or_method",
    "instance",
    "_Feature"
   ],
   "window_display": false
  }
 },
 "nbformat": 4,
 "nbformat_minor": 1
}
