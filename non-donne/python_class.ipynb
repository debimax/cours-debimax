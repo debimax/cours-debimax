{
 "cells": [
  {
   "cell_type": "code",
   "execution_count": 1,
   "metadata": {},
   "outputs": [
    {
     "data": {
      "application/javascript": [
       "IPython.Cell.options_default.cm_config.lineNumbers = true"
      ],
      "text/plain": [
       "<IPython.core.display.Javascript object>"
      ]
     },
     "metadata": {},
     "output_type": "display_data"
    }
   ],
   "source": [
    "%%javascript\n",
    "IPython.Cell.options_default.cm_config.lineNumbers = true"
   ]
  },
  {
   "cell_type": "code",
   "execution_count": 2,
   "metadata": {},
   "outputs": [
    {
     "data": {
      "text/html": [
       "<style>\n",
       "/* Pour le titre comme cela il n'y a pas de numérotation au */\n",
       "#titre{\n",
       "font-size: 24pt; \n",
       "color:#ff0000;\n",
       "text-decoration: underline;\n",
       "text-align: center;\n",
       "font-weight: bold;\n",
       "}\n",
       "\n",
       "div.text_cell_render { font-size: 12pt;   line-height: 145%; }\n",
       "div.text_cell_render h1{font-size: 24pt; color:#0000ff;  text-decoration: underline;}\n",
       "div.text_cell_render h2{font-size: 18pt;color:#0000ff;  text-decoration: underline;}\n",
       "div.text_cell_render h3{font-size: 14pt;color:#0000ff;  text-decoration: underline;}\n",
       "div.text_cell_render h4{font-size: 12pt;color:#0000ff;  text-decoration: underline; }\n",
       "div.text_cell_render h5 {font-weight: 300;}\n",
       "\n",
       "\n",
       "div.cell.code_cell { /* area that contains code + output */\n",
       "    background: #ffffff;\n",
       "    border: none;\n",
       "    border-radius: 10px;\n",
       "    padding-top: 1ex;\n",
       "}\n",
       "\n",
       "div.input_area { /* box around box with code */\n",
       "    border: none;\n",
       "    background: #f5f5f5;\n",
       "    border: 1px solid #ccc;\n",
       "    border-radius: 10px;\n",
       "    padding-top: 0.5ex;\n",
       "    padding-bottom: 0.5ex;\n",
       "    padding-left: 0.5em;\n",
       "}\n",
       "\n",
       "div.input { /* box with code */\n",
       "}\n",
       "\n",
       "div.CodeMirror { /* code font */\n",
       "    font-family: \"Inconsolata-dz\", monospace;\n",
       "    font-size: 10pt;\n",
       "}\n",
       "\n",
       "\n",
       "\n",
       "\n",
       "\n",
       "/*div.text_cell_render  code { font-size: medium; border: 3px #ababab solid; background-color: #f5f5f5;}*/\n",
       "/*.rendered_html code { border: 3px #ababab solid; background-color:  #f5f5f5;}*/\n",
       ".rendered_html blockquote { margin: 1em 2em; background: red; }\n",
       ".rendered_html ol { list-style:decimal; margin: 1em 2em; }\n",
       "\n",
       "\n",
       "/* classe pour inverse video */\n",
       ".reverse{\n",
       "    background-color: black;\n",
       "    color: white;\n",
       "}\n",
       "/*  strick   <s>texte/<s>*/\n",
       ".barre{\n",
       "\n",
       "}\n",
       "\n",
       "\n",
       "</style>"
      ],
      "text/plain": [
       "<IPython.core.display.HTML object>"
      ]
     },
     "execution_count": 2,
     "metadata": {},
     "output_type": "execute_result"
    }
   ],
   "source": [
    "# Charge ma feuille de style pour nbviewer\n",
    "from IPython.core.display import HTML\n",
    "from  urllib.request import urlopen\n",
    "# import urllib.request, urllib.parse, urllib.error\n",
    "\n",
    "url='https://github.com/debimax/cours-debimax/raw/master/static/custom.css'\n",
    "with urlopen(url) as response:\n",
    "    styles = response.read().decode(\"utf8\")\n",
    "styles=\"<style>\\n{}\\n</style>\".format(styles)\n",
    "HTML(styles)"
   ]
  },
  {
   "cell_type": "markdown",
   "metadata": {},
   "source": [
    "[Ref: https://zestedesavoir.com](https://zestedesavoir.com/tutoriels/1253/la-programmation-orientee-objet-en-python/1-object/#1-1-type)\n",
    "\n",
    "# Objet et caractéristiques\n",
    "\n",
    "Tout d’abord, qu’est-ce qu’un objet ?  \n",
    "Concrètement, un objet est constitué de 3 caractéristiques :\n",
    "\n",
    "- Un type, qui identifie le rôle de l’objet (int, str et list sont des exemples de types d’objets) ;\n",
    "- Des attributs, qui sont les propriétés de l’objet ;\n",
    "- Des méthodes, les opérations qui s’appliquent sur l’objet.\n",
    "Pour vous éclairer, prenons le code suivant :"
   ]
  },
  {
   "cell_type": "code",
   "execution_count": 5,
   "metadata": {},
   "outputs": [
    {
     "name": "stdout",
     "output_type": "stream",
     "text": [
      "5\n",
      "[5]\n"
     ]
    }
   ],
   "source": [
    "number = 5 # On instancie une variable `number` de type `int`\n",
    "print(number.numerator) # `numerator` est un attribut de `number`\n",
    "values = [] # Variable `values` de type `list`\n",
    "values.append(number) # `append` est une méthode de `values`\n",
    "print(values)"
   ]
  },
  {
   "cell_type": "markdown",
   "metadata": {},
   "source": [
    "Toute valeur en Python est donc un objet.\n",
    "\n",
    "## Exemple <!-- Il a une drôle de tête ce type-là-->\n",
    "\n",
    "Ainsi, tout objet est associé à un type. Un type définit la sémantique d’un objet. On sait par exemple que les objets de type int sont des nombres entiers, que l’on peut les additionner, les soustraire, etc.\n",
    "\n",
    "Pour la suite de ce cours, nous utiliserons un type ***User*** représentant un utilisateur sur un quelconque logiciel. Nous pouvons créer ce nouveau type à l’aide du code suivant :"
   ]
  },
  {
   "cell_type": "code",
   "execution_count": 2,
   "metadata": {},
   "outputs": [],
   "source": [
    "class User:\n",
    "    pass"
   ]
  },
  {
   "cell_type": "markdown",
   "metadata": {},
   "source": [
    "Nous reviendrons sur ce code par la suite, retenez simplement que nous avons maintenant à notre disposition un type User.\n",
    "\n",
    "Pour créer un objet de type User, il nous suffit de procéder ainsi :"
   ]
  },
  {
   "cell_type": "code",
   "execution_count": 3,
   "metadata": {},
   "outputs": [],
   "source": [
    "john = User()"
   ]
  },
  {
   "cell_type": "markdown",
   "metadata": {},
   "source": [
    "On dit alors que john est une instance de User.\n",
    "\n",
    "## Les attributs <!--Montre-moi tes attributs-->\n",
    "\n",
    "Ensuite, nous avons dit qu’un objet était constitué d’attributs. Ces derniers représentent des valeurs propres à l’objet.\n",
    "\n",
    "Nos objets de type ***User*** pourraient par exemple contenir un identifiant (***id***), un nom (***name***) et un mot de passe (***password***).\n",
    "\n",
    "En Python, nous pouvons facilement associer des valeurs à nos objets :"
   ]
  },
  {
   "cell_type": "code",
   "execution_count": 4,
   "metadata": {},
   "outputs": [
    {
     "name": "stdout",
     "output_type": "stream",
     "text": [
      "Bonjour, je suis john.\n",
      "Mon id est le 1.\n",
      "Mon mot de passe est 12345.\n"
     ]
    }
   ],
   "source": [
    "class User:\n",
    "    pass\n",
    "\n",
    "# Instanciation d'un objet de type User\n",
    "john = User()\n",
    "\n",
    "# Définition d'attributs pour cet objet\n",
    "john.id = 1\n",
    "john.name = 'john'\n",
    "john.password = '12345'\n",
    "\n",
    "print('Bonjour, je suis {}.'.format(john.name))\n",
    "print('Mon id est le {}.'.format(john.id))\n",
    "print('Mon mot de passe est {}.'.format(john.password))"
   ]
  },
  {
   "cell_type": "markdown",
   "metadata": {},
   "source": [
    "Nous avons instancié un objet nommé ***john***, de type ***User***, auquel nous avons attribué trois attributs. Puis nous avons affiché les valeurs de ces attributs.\n",
    "\n",
    "Notez que l’on peut redéfinir la valeur d’un attribut, et qu’un attribut peut aussi être supprimé à l’aide de l’opérateur ***del***."
   ]
  },
  {
   "cell_type": "code",
   "execution_count": 5,
   "metadata": {
    "scrolled": true
   },
   "outputs": [
    {
     "name": "stdout",
     "output_type": "stream",
     "text": [
      "mot de passe plus sécurisé !\n"
     ]
    },
    {
     "ename": "AttributeError",
     "evalue": "'User' object has no attribute 'password'",
     "output_type": "error",
     "traceback": [
      "\u001b[0;31m---------------------------------------------------------------------------\u001b[0m",
      "\u001b[0;31mAttributeError\u001b[0m                            Traceback (most recent call last)",
      "\u001b[0;32m<ipython-input-5-7757d09854ab>\u001b[0m in \u001b[0;36m<module>\u001b[0;34m()\u001b[0m\n\u001b[1;32m      2\u001b[0m \u001b[0mprint\u001b[0m\u001b[0;34m(\u001b[0m\u001b[0mjohn\u001b[0m\u001b[0;34m.\u001b[0m\u001b[0mpassword\u001b[0m\u001b[0;34m)\u001b[0m\u001b[0;34m\u001b[0m\u001b[0m\n\u001b[1;32m      3\u001b[0m \u001b[0;32mdel\u001b[0m \u001b[0mjohn\u001b[0m\u001b[0;34m.\u001b[0m\u001b[0mpassword\u001b[0m\u001b[0;34m\u001b[0m\u001b[0m\n\u001b[0;32m----> 4\u001b[0;31m \u001b[0mprint\u001b[0m\u001b[0;34m(\u001b[0m\u001b[0mjohn\u001b[0m\u001b[0;34m.\u001b[0m\u001b[0mpassword\u001b[0m\u001b[0;34m)\u001b[0m\u001b[0;34m\u001b[0m\u001b[0m\n\u001b[0m",
      "\u001b[0;31mAttributeError\u001b[0m: 'User' object has no attribute 'password'"
     ]
    }
   ],
   "source": [
    "john.password = 'mot de passe plus sécurisé !'\n",
    "print(john.password)\n",
    "del john.password\n",
    "print(john.password)"
   ]
  },
  {
   "cell_type": "markdown",
   "metadata": {},
   "source": [
    "Il est généralement déconseillé de nommer une valeur de la même manière qu’une fonction *built-in*. On évitera par exemple d’avoir une variable ***id***, ***type*** ou ***list***.\n",
    "\n",
    "Dans le cas d’un attribut, cela n’est pas gênant car ne fait pas partie du même espace de noms. En effet, ***john.id*** n’entre pas en conflit avec ***id***."
   ]
  },
  {
   "cell_type": "markdown",
   "metadata": {},
   "source": [
    "## Les méthodes <!--Discours de la méthode-->\n",
    "\n",
    "Enfin, les méthodes sont les opérations applicables sur les objets. Ce sont en fait des fonctions qui recoivent notre objet en premier paramètre.\n",
    "\n",
    "Nos objets ***User*** ne contiennent pas encore de méthode, nous découvrirons comment en ajouter dans le chapitre suivant. Mais nous pouvons déjà imaginer une méthode ***check_pwd*** (check password) pour vérifier qu’un mot de passe entré correspond bien au mot de passe de notre utilisateur.\n",
    "\n"
   ]
  },
  {
   "cell_type": "code",
   "execution_count": 10,
   "metadata": {},
   "outputs": [],
   "source": [
    "john.password = '12345'\n",
    "def user_check_pwd(user, password):\n",
    "    return user.password == password"
   ]
  },
  {
   "cell_type": "code",
   "execution_count": 11,
   "metadata": {},
   "outputs": [
    {
     "data": {
      "text/plain": [
       "False"
      ]
     },
     "execution_count": 11,
     "metadata": {},
     "output_type": "execute_result"
    }
   ],
   "source": [
    "user_check_pwd(john, 'toto')"
   ]
  },
  {
   "cell_type": "code",
   "execution_count": 12,
   "metadata": {},
   "outputs": [
    {
     "data": {
      "text/plain": [
       "True"
      ]
     },
     "execution_count": 12,
     "metadata": {},
     "output_type": "execute_result"
    }
   ],
   "source": [
    "user_check_pwd(john, '12345')"
   ]
  },
  {
   "cell_type": "markdown",
   "metadata": {},
   "source": [
    "Les méthodes recevant l’objet en paramètre, elles peuvent en lire et modifier les attributs. Souvenez-vous par exemple de la méthode ***append*** des listes, qui permet d’insérer un nouvel élément, elle modifie bien la liste en question.\n",
    "\n",
    "À travers cette partie nous avons défini et exploré la notion d’objet.\n",
    "\n",
    "Un terme a pourtant été omis, le terme « classe ». Il s’agit en Python d’un synonyme de « type ». Un objet étant le fruit d’une classe, il est temps de nous intéresser à cette dernière et à sa construction."
   ]
  },
  {
   "cell_type": "markdown",
   "metadata": {},
   "source": [
    "# Les classes <!--La classe à Dallas-->\n",
    "\n",
    "On définit une classe à l’aide du mot-clef class survolé plus tôt :"
   ]
  },
  {
   "cell_type": "code",
   "execution_count": 13,
   "metadata": {},
   "outputs": [],
   "source": [
    "class User:\n",
    "    pass"
   ]
  },
  {
   "cell_type": "markdown",
   "metadata": {},
   "source": [
    "(l’instruction ***pass*** sert ici à indiquer à Python que le corps de notre classe est vide)\n",
    "\n",
    "Il est conseillé en Python de nommer sa classe en ***CamelCase***, c'est à dire qu'un nom est composé d’une suite de mots dont la première lettre est une capitale. On préférera par exemple une classe ***MonNomDeClasse*** que ***mon_nom_de_classe***. Exception faite des types builtins qui sont couramment écrits en lettres minuscules.\n",
    "\n",
    "On instancie une classe de la même manière qu’on appelle une fonction, en suffixant son nom d’une paire de parenthèses. Cela est valable pour notre classe ***User***, mais aussi pour les autres classes évoquées plus haut."
   ]
  },
  {
   "cell_type": "code",
   "execution_count": 21,
   "metadata": {},
   "outputs": [
    {
     "data": {
      "text/plain": [
       "<__main__.User at 0x7f9278198f98>"
      ]
     },
     "execution_count": 21,
     "metadata": {},
     "output_type": "execute_result"
    }
   ],
   "source": [
    "User()"
   ]
  },
  {
   "cell_type": "code",
   "execution_count": 22,
   "metadata": {},
   "outputs": [
    {
     "data": {
      "text/plain": [
       "0"
      ]
     },
     "execution_count": 22,
     "metadata": {},
     "output_type": "execute_result"
    }
   ],
   "source": [
    "int()"
   ]
  },
  {
   "cell_type": "code",
   "execution_count": 23,
   "metadata": {},
   "outputs": [
    {
     "data": {
      "text/plain": [
       "''"
      ]
     },
     "execution_count": 23,
     "metadata": {},
     "output_type": "execute_result"
    }
   ],
   "source": [
    "str()"
   ]
  },
  {
   "cell_type": "code",
   "execution_count": 24,
   "metadata": {},
   "outputs": [
    {
     "data": {
      "text/plain": [
       "[]"
      ]
     },
     "execution_count": 24,
     "metadata": {},
     "output_type": "execute_result"
    }
   ],
   "source": [
    "list()"
   ]
  },
  {
   "cell_type": "markdown",
   "metadata": {},
   "source": [
    "La classe ***User*** est identique à celle du chapitre précédent, elle ne comporte aucune méthode. Pour définir une méthode dans une classe, il suffit de procéder comme pour une définition de fonction, mais dans le corps de la classe en question."
   ]
  },
  {
   "cell_type": "code",
   "execution_count": 25,
   "metadata": {},
   "outputs": [],
   "source": [
    "class User:\n",
    "    def check_pwd(self, password):\n",
    "        return self.password == password"
   ]
  },
  {
   "cell_type": "markdown",
   "metadata": {},
   "source": [
    "Notre nouvelle classe ***User*** possède maintenant une méthode ***check_pwd*** applicable sur tous ses objets."
   ]
  },
  {
   "cell_type": "code",
   "execution_count": 26,
   "metadata": {},
   "outputs": [
    {
     "name": "stdout",
     "output_type": "stream",
     "text": [
      "False\n",
      "True\n"
     ]
    }
   ],
   "source": [
    "john = User()\n",
    "john.id = 1\n",
    "john.name = 'john'\n",
    "john.password = '12345'\n",
    "print(john.check_pwd('toto'))"
   ]
  },
  {
   "cell_type": "code",
   "execution_count": null,
   "metadata": {},
   "outputs": [],
   "source": [
    "print(john.check_pwd('12345'))"
   ]
  },
  {
   "cell_type": "markdown",
   "metadata": {},
   "source": [
    "Quel est ce ***self*** reçu en premier paramètre par ***check_pwd*** ? Il s’agit simplement de l’objet sur lequel on applique la méthode, comme expliqué dans le chapitre précédent. Les autres paramètres de la méthode arrivent après.\n",
    "\n",
    "La méthode étant définie au niveau de la classe, elle n’a que ce moyen pour savoir quel objet est utilisé. C’est un comportement particulier de Python, mais retenez simplement qu’appeler ***john.check_pwd('12345')*** équivaut à l’appel ***User.check_pwd(john, '12345')***. C’est pourquoi ***john*** correspondra ici au paramère ***self*** de notre méthode."
   ]
  },
  {
   "cell_type": "code",
   "execution_count": null,
   "metadata": {},
   "outputs": [],
   "source": [
    "User.check_pwd(john, '12345')"
   ]
  },
  {
   "cell_type": "markdown",
   "metadata": {},
   "source": [
    "***self*** n’est pas un mot-clef du langage Python, le paramètre pourrait donc prendre n’importe quel autre nom. Mais il conservera toujours ce nom par convention.\n",
    "\n",
    "Notez aussi, dans le corps de la méthode check_pwd, que ***password*** et ***self.password*** sont bien deux valeurs distinctes : la première est le ***paramètre reçu par la méthode***, tandis que la seconde est ***l’attribut de notre objet***."
   ]
  },
  {
   "cell_type": "markdown",
   "metadata": {},
   "source": [
    "## Argumentons pour construire\n",
    "\n",
    "Nous avons vu qu’instancier une classe était semblable à un appel de fonction. Dans ce cas, comment passer des arguments à une classe, comme on le ferait pour une fonction ?\n",
    "\n",
    "Il faut pour cela comprendre les bases du mécanisme d’instanciation de Python. Quand on appelle une classe, un nouvel objet de ce type est construit en mémoire, puis initialisé. Cette initialisation permet d’assigner des valeurs à ses attributs.\n",
    "\n",
    "L’objet est initialisé à l’aide d’une méthode spéciale de sa classe, la méthode ***\\_\\_init\\_\\_***. Cette dernière recevra les arguments passés lors de l’instanciation."
   ]
  },
  {
   "cell_type": "code",
   "execution_count": 27,
   "metadata": {},
   "outputs": [],
   "source": [
    "class User:\n",
    "    def __init__(self, id, name, password):\n",
    "        self.id = id\n",
    "        self.name = name\n",
    "        self.password = password\n",
    "\n",
    "    def check_pwd(self, password):\n",
    "        return self.password == password"
   ]
  },
  {
   "cell_type": "markdown",
   "metadata": {},
   "source": [
    "Nous retrouvons dans cette méthode le paramètre ***self***, qui est donc utilisé pour modifier les attributs de l’objet."
   ]
  },
  {
   "cell_type": "code",
   "execution_count": 28,
   "metadata": {},
   "outputs": [
    {
     "name": "stdout",
     "output_type": "stream",
     "text": [
      "False\n",
      "True\n"
     ]
    }
   ],
   "source": [
    "john = User(1, 'john', '12345')\n",
    "print(john.check_pwd('toto'))\n",
    "print(john.check_pwd('12345'))"
   ]
  },
  {
   "cell_type": "markdown",
   "metadata": {},
   "source": [
    "## Encapsulation <!--Comment veux-tu que je t'encapsule ?-->\n",
    "\n",
    "### Les invariants <!--Au commencement étaient les invariants-->\n",
    "\n",
    "Les différents attributs de notre objet forment un état de cet objet, normalement stable. Ils sont en effet liés les uns aux autres, la modification d’un attribut pouvant avoir des conséquences sur un autre. Les invariants correspondent aux relations qui lient ces différents attributs.\n",
    "\n",
    "Imaginons que nos objets ***User*** soient dotés d’un attribut contenant une évaluation du mot de passe (savoir si ce mot de passe est assez sécurisé ou non), il doit alors être mis à jour chaque fois que nous modifions l’attribut ***password*** d'un objet ***User***.\n",
    "\n",
    "Dans le cas contraire, le mot de passe et l’évaluation ne seraient plus corrélés, et notre objet ***User*** ne serait alors plus dans un état stable. Il est donc important de veiller à ces invariants pour assurer la stabilité de nos objets.\n",
    "\n",
    "### Protection <!--Protège-moi-->\n",
    "\n",
    "Au sein d’un objet, les attributs peuvent avoir des sémantiques différentes. Certains attributs vont représenter des propriétés de l’objet et faire partie de son interface (tels que le prénom et le nom de nos objets ***User***). Ils pourront alors être lus et modifiés depuis l’extérieur de l’objet, on parle dans ce cas d’attributs publics.\n",
    "\n",
    "D’autres vont contenir des données internes à l’objet, n’ayant pas vocation à être accessibles depuis l’extérieur. Nous allons sécuriser notre stockage du mot de passe en ajoutant une méthode pour le hasher (à l’aide du module ***crypt***), afin de ne pas stocker d’informations sensibles dans l’objet. Ce condensat du mot de passe ne devrait pas être accessible de l’extérieur, et encore moins modifié (ce qui en altérerait la sécurité).\n",
    "\n",
    "De la même manière que pour les attributs, certaines méthodes vont avoir une portée publique et d’autres privée (on peut imaginer une méthode interne de la classe pour générer notre identifiant unique). On nomme encapsulation cette notion de protection des attributs et méthodes d’un objet, dans le respect de ses invariants.\n",
    "\n",
    "Certains langages implémentent dans leur syntaxe des outils pour gérer la visibilité des attributs et méthodes, mais il n’y a rien de tel en Python. Il existe à la place des conventions, qui indiquent aux développeurs quels attributs/méthodes sont ***publics ou privés***. Quand vous voyez un nom d’attribut ou méthode débuter par un ***\"_\"*** au sein d’un objet, il indique quelque chose d’interne à l’objet (privé), dont la modification peut avoir des conséquences graves sur la stabilité."
   ]
  },
  {
   "cell_type": "code",
   "execution_count": 7,
   "metadata": {},
   "outputs": [
    {
     "name": "stdout",
     "output_type": "stream",
     "text": [
      "True\n"
     ]
    }
   ],
   "source": [
    "import crypt\n",
    "\n",
    "class User:\n",
    "    def __init__(self, id, name, password):\n",
    "        self.id = id\n",
    "        self.name = name\n",
    "        self._salt = crypt.mksalt() # sel utilisé pour le hash du mot de passe\n",
    "        self._password = self._cryptpwd(password)\n",
    "\n",
    "    def _cryptpwd(self, password):\n",
    "        return crypt.crypt(password, self._salt)\n",
    "\n",
    "    def check_pwd(self, password):\n",
    "        return self._password == self._cryptpwd(password)\n",
    "john = User(1, 'john', '12345')\n",
    "print(john.check_pwd('12345'))"
   ]
  },
  {
   "cell_type": "markdown",
   "metadata": {},
   "source": [
    "On note toutefois qu’il ne s’agit que d’une convention, l’attribut ***\\_password*** étant parfaitement visible depuis l’extérieur."
   ]
  },
  {
   "cell_type": "code",
   "execution_count": 8,
   "metadata": {},
   "outputs": [
    {
     "name": "stdout",
     "output_type": "stream",
     "text": [
      "$6$TiSsVpbe5Dp3J6CM$ZN2YxOprbLgr2/6mhVcRHok7Cx1lMV1/TEcLPgX3CQDKz1ha0kfLy37U5j1kJHrbo72Q80CsIudpItuVoD3Ok0\n"
     ]
    }
   ],
   "source": [
    "print(john._password)"
   ]
  },
  {
   "cell_type": "markdown",
   "metadata": {},
   "source": [
    "Il reste possible de masquer un peu plus l’attribut à l’aide du préfixe ***\\_\\_***. Ce préfixe a pour effet de renommer l’attribut en y insérant le nom de la classe courante."
   ]
  },
  {
   "cell_type": "code",
   "execution_count": 9,
   "metadata": {},
   "outputs": [],
   "source": [
    "import crypt\n",
    "class User:\n",
    "    def __init__(self, id, name, password):\n",
    "        self.id = id\n",
    "        self.name = name\n",
    "        self.__salt = crypt.mksalt()\n",
    "        self.__password = self.__cryptpwd(password)\n",
    "\n",
    "    def __cryptpwd(self, password):\n",
    "        return crypt.crypt(password, self.__salt)\n",
    "\n",
    "    def check_pwd(self, password):\n",
    "        return self.__password == self.__cryptpwd(password)\n",
    "john = User(1, 'john', '12345')"
   ]
  },
  {
   "cell_type": "code",
   "execution_count": 10,
   "metadata": {},
   "outputs": [
    {
     "ename": "AttributeError",
     "evalue": "'User' object has no attribute '__password'",
     "output_type": "error",
     "traceback": [
      "\u001b[0;31m---------------------------------------------------------------------------\u001b[0m",
      "\u001b[0;31mAttributeError\u001b[0m                            Traceback (most recent call last)",
      "\u001b[0;32m<ipython-input-10-a071e6164c79>\u001b[0m in \u001b[0;36m<module>\u001b[0;34m()\u001b[0m\n\u001b[0;32m----> 1\u001b[0;31m \u001b[0mprint\u001b[0m\u001b[0;34m(\u001b[0m\u001b[0mjohn\u001b[0m\u001b[0;34m.\u001b[0m\u001b[0m__password\u001b[0m\u001b[0;34m)\u001b[0m\u001b[0;34m\u001b[0m\u001b[0m\n\u001b[0m",
      "\u001b[0;31mAttributeError\u001b[0m: 'User' object has no attribute '__password'"
     ]
    }
   ],
   "source": [
    "print(john.__password)"
   ]
  },
  {
   "cell_type": "code",
   "execution_count": 11,
   "metadata": {},
   "outputs": [
    {
     "name": "stdout",
     "output_type": "stream",
     "text": [
      "$6$c5UIBnwz9cy295v3$PoujTfoK/N4WpVnaC6iTliY64BydpXBIOcnqPhOe/i67yn4JmSXPsdHAk.G0A1/yYXTrp8KDmN6OOil9tRu9z.\n"
     ]
    }
   ],
   "source": [
    "print(john._User__password)"
   ]
  },
  {
   "cell_type": "markdown",
   "metadata": {},
   "source": [
    "Ce comportement pourra surtout être utile pour éviter des conflits de noms entre attributs internes de plusieurs classes sur un même objet, que nous verrons lors de l’héritage."
   ]
  },
  {
   "cell_type": "markdown",
   "metadata": {},
   "source": [
    "-----------------\n",
    "Le hashage d’un mot de passe correspond à une opération non-réversible qui permet de calculer un condensat (hash) du mot de passe. Ce condensat peut-être utilisé pour vérifier la validité d’un mot de passe, mais ne permet pas de retrouver le mot de passe d’origine."
   ]
  },
  {
   "cell_type": "markdown",
   "metadata": {},
   "source": [
    "#  Extension et héritage\n",
    "\n",
    "<!--Il n'est pas dans ce chapitre question de régler la succession de votre grand-tante par alliance, mais de nous intéresser à l'extension de classes.-->\n",
    "\n",
    "Imaginons que nous voulions définir une classe `Admin`, pour gérer des\n",
    "administrateurs, qui réutiliserait le même code que la classe `User`. Tout ce\n",
    "que nous savons faire actuellement c'est copier/coller le code de la classe\n",
    "`User` en changeant son nom pour `Admin`.\n",
    "\n",
    "Nous allons maintenant voir comment faire ça de manière plus élégante, grâce à\n",
    "l'héritage. Nous étudierons de plus les relations entre classes ansi créées.\n",
    "\n",
    "Nous utiliserons donc la classe `User` suivante pour la suite de ce chapitre."
   ]
  },
  {
   "cell_type": "code",
   "execution_count": 1,
   "metadata": {},
   "outputs": [],
   "source": [
    "import crypt\n",
    "class User:\n",
    "    def __init__(self, id, name, password):\n",
    "        self.id = id\n",
    "        self.name = name\n",
    "        self._salt = crypt.mksalt()\n",
    "        self._password = self._crypt_pwd(password)\n",
    "\n",
    "    def _crypt_pwd(self, password):\n",
    "        return crypt.crypt(password, self._salt)\n",
    "\n",
    "    def check_pwd(self, password):\n",
    "        return self._password == self._crypt_pwd(password)"
   ]
  },
  {
   "cell_type": "markdown",
   "metadata": {},
   "source": [
    "##  Hériter en toute simplicité\n",
    "\n",
    "L'héritage simple est le mécanisme permettant d'étendre une unique classe. Il\n",
    "consiste à créer une nouvelle classe (fille) qui bénéficiera des mêmes\n",
    "méthodes et attributs que sa classe mère. Il sera aisé d'en définir de\n",
    "nouveaux dans la classe fille, et cela n'altèrera pas le fonctionnement de la\n",
    "mère.\n",
    "\n",
    "Par exemple, nous voudrions étendre notre classe `User` pour ajouter la\n",
    "possibilité d'avoir des administrateurs. Les administrateurs (`Admin`)\n",
    "possèderaient une nouvelle méthode, `manage`, pour administrer le système."
   ]
  },
  {
   "cell_type": "code",
   "execution_count": 2,
   "metadata": {},
   "outputs": [],
   "source": [
    "class Admin(User):\n",
    "    def manage(self):\n",
    "        print('I am an über administrator!')"
   ]
  },
  {
   "cell_type": "markdown",
   "metadata": {},
   "source": [
    "En plus des méthodes de la classe `User` (`__init__`, `_crypt_pwd` et `check_pwd`), `Admin` possède aussi une méthode `manage`.\n"
   ]
  },
  {
   "cell_type": "code",
   "execution_count": 4,
   "metadata": {},
   "outputs": [
    {
     "data": {
      "text/plain": [
       "True"
      ]
     },
     "execution_count": 4,
     "metadata": {},
     "output_type": "execute_result"
    }
   ],
   "source": [
    "root = Admin(1, 'root', 'toor')\n",
    "root.check_pwd('toor')"
   ]
  },
  {
   "cell_type": "code",
   "execution_count": 5,
   "metadata": {},
   "outputs": [
    {
     "name": "stdout",
     "output_type": "stream",
     "text": [
      "I am an über administrator!\n"
     ]
    }
   ],
   "source": [
    "root.manage()"
   ]
  },
  {
   "cell_type": "code",
   "execution_count": 6,
   "metadata": {},
   "outputs": [
    {
     "ename": "AttributeError",
     "evalue": "'User' object has no attribute 'manage'",
     "output_type": "error",
     "traceback": [
      "\u001b[0;31m---------------------------------------------------------------------------\u001b[0m",
      "\u001b[0;31mAttributeError\u001b[0m                            Traceback (most recent call last)",
      "\u001b[0;32m<ipython-input-6-10571848b418>\u001b[0m in \u001b[0;36m<module>\u001b[0;34m()\u001b[0m\n\u001b[1;32m      1\u001b[0m \u001b[0mjohn\u001b[0m \u001b[0;34m=\u001b[0m \u001b[0mUser\u001b[0m\u001b[0;34m(\u001b[0m\u001b[0;36m2\u001b[0m\u001b[0;34m,\u001b[0m \u001b[0;34m'john'\u001b[0m\u001b[0;34m,\u001b[0m \u001b[0;34m'12345'\u001b[0m\u001b[0;34m)\u001b[0m\u001b[0;34m\u001b[0m\u001b[0m\n\u001b[0;32m----> 2\u001b[0;31m \u001b[0mjohn\u001b[0m\u001b[0;34m.\u001b[0m\u001b[0mmanage\u001b[0m\u001b[0;34m(\u001b[0m\u001b[0;34m)\u001b[0m\u001b[0;34m\u001b[0m\u001b[0m\n\u001b[0m",
      "\u001b[0;31mAttributeError\u001b[0m: 'User' object has no attribute 'manage'"
     ]
    }
   ],
   "source": [
    "john = User(2, 'john', '12345')\n",
    "john.manage()"
   ]
  },
  {
   "cell_type": "markdown",
   "metadata": {},
   "source": [
    "Nous pouvons avoir deux classes différentes héritant d'une même mère"
   ]
  },
  {
   "cell_type": "code",
   "execution_count": null,
   "metadata": {},
   "outputs": [],
   "source": [
    "class Guest(User):\n",
    "    pass"
   ]
  },
  {
   "cell_type": "markdown",
   "metadata": {},
   "source": [
    "`Admin` et `Guest` sont alors deux classes filles de `User`.\n",
    "\n",
    "L'héritage simple permet aussi d'hériter d'une classe qui hérite elle-même\n",
    "d'une autre classe."
   ]
  },
  {
   "cell_type": "code",
   "execution_count": 34,
   "metadata": {},
   "outputs": [],
   "source": [
    "class SuperAdmin(Admin):\n",
    "    pass"
   ]
  },
  {
   "cell_type": "markdown",
   "metadata": {},
   "source": [
    "`SuperAdmin` est alors la fille de `Admin`, elle-même la fille de `User`. On\n",
    "dit alors que `User` est une ancêtre de `SuperAdmin`.\n",
    "\n",
    "On peut constater quels sont les parents d'une classe à l'aide de l'attribut\n",
    "spécial `__bases__` des classes :"
   ]
  },
  {
   "cell_type": "code",
   "execution_count": null,
   "metadata": {},
   "outputs": [],
   "source": [
    "Admin.__bases__"
   ]
  },
  {
   "cell_type": "code",
   "execution_count": null,
   "metadata": {},
   "outputs": [],
   "source": [
    "Guest.__bases__"
   ]
  },
  {
   "cell_type": "code",
   "execution_count": null,
   "metadata": {},
   "outputs": [],
   "source": [
    "SuperAdmin.__bases__"
   ]
  },
  {
   "cell_type": "markdown",
   "metadata": {},
   "source": [
    "Que vaudrait alors `User.__bases__`, sachant que la classe `User` est définie\n",
    "sans héritage ?"
   ]
  },
  {
   "cell_type": "code",
   "execution_count": null,
   "metadata": {},
   "outputs": [],
   "source": [
    "User.__bases__"
   ]
  },
  {
   "cell_type": "markdown",
   "metadata": {},
   "source": [
    "On remarque que, sans que nous n'ayons rien demandé, `User` hérite de\n",
    "`object`. En fait, `object` est l'ancêtre de toute classe Python. Ainsi, quand\n",
    "aucune classe parente n'est définie, c'est `object` qui est choisi.\n",
    "\n",
    "### Sous-typage\n",
    "\n",
    "Nous avons vu que l'héritage permettait d'étendre le comportement d'une\n",
    "classe, mais ce n'est pas tout. L'héritage a aussi du sens au niveau des\n",
    "types, en créant un nouveau type compatible avec le parent.\n",
    "\n",
    "En Python, la fonction `isinstance` permet de tester si un objet est\n",
    "l'instance d'une certaine classe.\n"
   ]
  },
  {
   "cell_type": "code",
   "execution_count": null,
   "metadata": {},
   "outputs": [],
   "source": [
    "isinstance(root, Admin)"
   ]
  },
  {
   "cell_type": "code",
   "execution_count": null,
   "metadata": {},
   "outputs": [],
   "source": [
    "isinstance(root, User)"
   ]
  },
  {
   "cell_type": "code",
   "execution_count": null,
   "metadata": {},
   "outputs": [],
   "source": [
    "isinstance(root, Guest)"
   ]
  },
  {
   "cell_type": "code",
   "execution_count": null,
   "metadata": {},
   "outputs": [],
   "source": [
    "isinstance(root, object)"
   ]
  },
  {
   "cell_type": "markdown",
   "metadata": {},
   "source": [
    "Mais gardez toujours à l'esprit qu'en Python, on préfère se référer à la\n",
    "structure d'un objet qu'à son type (_duck-typing_), les tests à base de\n",
    "`isinstance` sont donc à utiliser pour des cas particuliers uniquement, où il\n",
    "serait difficile de procéder autrement.\n",
    "\n",
    "##  La redéfinition de méthodes, c'est super !\n",
    "\n",
    "Nous savons hériter d'une classe pour y insérer de nouvelles méthodes, mais\n",
    "nous ne savons pas étendre les méthodes déjà présentes dans la classe mère. La\n",
    "redéfinition est un concept qui permet de remplacer une méthode du parent.\n",
    "\n",
    "Nous voudrions que la classe `Guest` ne possède plus aucun mot de passe.\n",
    "Celle-ci devra modifier la méthode `check_pwd` pour accepter tout mot de\n",
    "passe, et simplifier la méthode `__init__`.\n",
    "\n",
    "On ne peut pas à proprement parler étendre le contenu d'une méthode, mais on\n",
    "peut la redéfinir :"
   ]
  },
  {
   "cell_type": "code",
   "execution_count": null,
   "metadata": {},
   "outputs": [],
   "source": [
    "class Guest(User):\n",
    "    def __init__(self, id, name):\n",
    "        self.id = id\n",
    "        self.name = name\n",
    "        self._salt = ''\n",
    "        self._password = ''\n",
    "    def check_pwd(self, password):\n",
    "        return True"
   ]
  },
  {
   "cell_type": "markdown",
   "metadata": {},
   "source": [
    "Cela fonctionne comme souhaité, mais vient avec un petit problème, le code de\n",
    "la méthode `__init__` est répété. En l'occurrence il ne s'agit que de 2 lignes\n",
    "de code, mais lorsque nous voudrons apporter des modifications à la méthode de\n",
    "la classe `User`, il faudra les répercuter sur `Guest`, ce qui donne vite\n",
    "quelque chose de difficile à maintenir.\n",
    "\n",
    "Heureusement, Python nous offre un moyen de remédier à ce mécanisme, super !\n",
    "Oui, `super`, littéralement, une fonction un peu spéciale en Python, qui nous\n",
    "permet d'utiliser la classe parente (_superclass_).\n",
    "\n",
    "`super` est une fonction qui prend initialement en paramètre une classe et une\n",
    "instance de cette classe. Elle retourne un objet _proxy_1 qui s'utilise comme\n",
    "une instance de la classe parente."
   ]
  },
  {
   "cell_type": "code",
   "execution_count": null,
   "metadata": {},
   "outputs": [],
   "source": [
    "guest = Guest(3, 'Guest')"
   ]
  },
  {
   "cell_type": "code",
   "execution_count": null,
   "metadata": {},
   "outputs": [],
   "source": [
    "guest.check_pwd('password')"
   ]
  },
  {
   "cell_type": "code",
   "execution_count": null,
   "metadata": {},
   "outputs": [],
   "source": [
    "super(Guest, guest).check_pwd('password')"
   ]
  },
  {
   "cell_type": "markdown",
   "metadata": {},
   "source": [
    "Au sein de la classe en question, les arguments de `super` peuvent être omis\n",
    "(ils correspondront à la classe et à l'instance courantes), ce qui nous permet\n",
    "de simplifier notre méthode `__init__` et d'éviter les répétitions."
   ]
  },
  {
   "cell_type": "code",
   "execution_count": null,
   "metadata": {},
   "outputs": [],
   "source": [
    "class Guest(User):\n",
    "    def __init__(self, id, name):\n",
    "        super().__init__(id, name, '')\n",
    "    def check_pwd(self, password):\n",
    "        return True"
   ]
  },
  {
   "cell_type": "markdown",
   "metadata": {},
   "source": [
    "On notera tout de même que contrairement aux versions précédentes,\n",
    "l'initialisateur de `User` est appelé en plus de celui de `Guest`, et donc\n",
    "qu'un sel et un _hash_ du mot de passe sont générés alors qu'ils ne serviront\n",
    "pas.\n",
    "\n",
    "Ça n'est pas très grave dans le cas présent, mais pensez-y dans vos\n",
    "développements futurs, afin de ne pas exécuter d'opérations coûteuses\n",
    "inutilement.\n",
    "\n",
    "* * *\n",
    "\n",
    "  1. Un _proxy_ est un intermédiaire transparent entre deux entités. ↩\n",
    "\n",
    "##  Une classe avec deux classes mères.\n",
    "\n",
    "Avec l'héritage simple, nous pouvions étendre le comportement d'une classe.\n",
    "L'héritage multiple va nous permettre de le faire pour plusieurs classes à la\n",
    "fois.\n",
    "\n",
    "Il nous suffit de préciser plusieurs classes entre parenthèses lors de la\n",
    "création de notre classe fille."
   ]
  },
  {
   "cell_type": "code",
   "execution_count": null,
   "metadata": {},
   "outputs": [],
   "source": [
    "class A:\n",
    "    def foo(self):\n",
    "        return '!'\n",
    "class B:\n",
    "    def bar(self):\n",
    "        return '?'\n",
    "class C(A, B):\n",
    "    pass"
   ]
  },
  {
   "cell_type": "markdown",
   "metadata": {},
   "source": [
    "Notre classe `C` a donc deux mères : `A` et `B`. Cela veut aussi dire que les\n",
    "objets de type `C` possèdent à la fois les méthodes `foo` et `bar`."
   ]
  },
  {
   "cell_type": "code",
   "execution_count": null,
   "metadata": {},
   "outputs": [],
   "source": [
    "c = C()"
   ]
  },
  {
   "cell_type": "code",
   "execution_count": null,
   "metadata": {},
   "outputs": [],
   "source": [
    "c.foo()"
   ]
  },
  {
   "cell_type": "code",
   "execution_count": null,
   "metadata": {},
   "outputs": [],
   "source": [
    "c.bar()"
   ]
  },
  {
   "cell_type": "markdown",
   "metadata": {},
   "source": [
    "### Ordre d'héritage\n",
    "\n",
    "L'ordre dans lequel on hérite des parents est important, il détermine dans\n",
    "quel ordre les méthodes seront recherchées dans les classes mères. Ainsi, dans\n",
    "le cas où la méthode existe dans plusieurs parents, celle de la première\n",
    "classe sera conservée."
   ]
  },
  {
   "cell_type": "code",
   "execution_count": null,
   "metadata": {},
   "outputs": [],
   "source": [
    "class A:\n",
    "    def foo(self):\n",
    "        return '!'\n",
    "class B:\n",
    "    def foo(self):\n",
    "        return '?'\n",
    "class C(A, B):\n",
    "    pass\n",
    "class D(B, A):\n",
    "    pass    "
   ]
  },
  {
   "cell_type": "code",
   "execution_count": null,
   "metadata": {},
   "outputs": [],
   "source": [
    "C().foo()"
   ]
  },
  {
   "cell_type": "code",
   "execution_count": null,
   "metadata": {},
   "outputs": [],
   "source": [
    "D().foo()"
   ]
  },
  {
   "cell_type": "markdown",
   "metadata": {},
   "source": [
    "Cet ordre dans lequel les classes parentes sont explorées pour la recherche\n",
    "des méthodes est appelé _Method Resolution Order_ (_MRO_). On peut le\n",
    "connaître à l'aide de la méthode `mro` des classes."
   ]
  },
  {
   "cell_type": "code",
   "execution_count": null,
   "metadata": {},
   "outputs": [],
   "source": [
    "A.mro()"
   ]
  },
  {
   "cell_type": "code",
   "execution_count": null,
   "metadata": {},
   "outputs": [],
   "source": [
    "B.mro()"
   ]
  },
  {
   "cell_type": "code",
   "execution_count": null,
   "metadata": {},
   "outputs": [],
   "source": [
    "C.mro()"
   ]
  },
  {
   "cell_type": "code",
   "execution_count": null,
   "metadata": {},
   "outputs": [],
   "source": [
    "D.mro()"
   ]
  },
  {
   "cell_type": "markdown",
   "metadata": {},
   "source": [
    "C'est aussi ce _MRO_ qui est utilisé par `super` pour trouver à quelle classe\n",
    "faire appel. `super` se charge d'explorer le _MRO_ de la classe de l'instance\n",
    "qui lui est donnée en second paramètre, et de retourner un _proxy_ sur la\n",
    "classe juste à droite de celle donnée en premier paramètre.\n",
    "\n",
    "Ainsi, avec `c` une instance de `C`, `super(C, c)` retournera un objet se\n",
    "comportant comme une instance de `A`, `super(A, c)` comme une instance de `B`,\n",
    "et `super(B, c)` comme une instance de `object`."
   ]
  },
  {
   "cell_type": "code",
   "execution_count": null,
   "metadata": {},
   "outputs": [],
   "source": [
    "c = C()\n",
    "c.foo() # C.foo == A.foo"
   ]
  },
  {
   "cell_type": "code",
   "execution_count": null,
   "metadata": {},
   "outputs": [],
   "source": [
    "super(C, c).foo() # A.foo"
   ]
  },
  {
   "cell_type": "code",
   "execution_count": null,
   "metadata": {},
   "outputs": [],
   "source": [
    "super(A, c).foo() # B.foo"
   ]
  },
  {
   "cell_type": "code",
   "execution_count": null,
   "metadata": {},
   "outputs": [],
   "source": [
    "super(B, c).foo() # object.foo -> méthode introuvable"
   ]
  },
  {
   "cell_type": "markdown",
   "metadata": {},
   "source": [
    "Les classes parentes n'ont alors pas besoin de se connaître les unes les\n",
    "autres pour se référencer."
   ]
  },
  {
   "cell_type": "code",
   "execution_count": null,
   "metadata": {},
   "outputs": [],
   "source": [
    "class A:\n",
    "    def __init__(self):\n",
    "        print(\"Début initialisation d'un objet de type A\")\n",
    "        super().__init__()\n",
    "        print(\"Fin initialisation d'un objet de type A\")\n",
    "\n",
    "class B:\n",
    "    def __init__(self):\n",
    "        print(\"Début initialisation d'un objet de type B\")\n",
    "        super().__init__()\n",
    "        print(\"Fin initialisation d'un objet de type B\")\n",
    "\n",
    "class C(A, B):\n",
    "    def __init__(self):\n",
    "        print(\"Début initialisation d'un objet de type C\")\n",
    "        super().__init__()\n",
    "        print(\"Fin initialisation d'un objet de type C\")\n",
    "\n",
    "class D(B, A):\n",
    "    def __init__(self):\n",
    "        print(\"Début initialisation d'un objet de type D\")\n",
    "        super().__init__()\n",
    "        print(\"Fin initialisation d'un objet de type D\")"
   ]
  },
  {
   "cell_type": "code",
   "execution_count": null,
   "metadata": {},
   "outputs": [],
   "source": [
    "C()"
   ]
  },
  {
   "cell_type": "code",
   "execution_count": null,
   "metadata": {},
   "outputs": [],
   "source": [
    "D()"
   ]
  },
  {
   "cell_type": "markdown",
   "metadata": {},
   "source": [
    "La méthode `__init__` des classes parentes n'est pas appelée automatiquement,\n",
    "et l'appel doit donc être réalisé explicitement.\n",
    "\n",
    "C'est ainsi le `super().__init__()` présent dans la classe `C` qui appelle\n",
    "l'initialiseur de la classe `A`, qui appelle lui-même celui de la classe `B`.\n",
    "Inversement, pour la classe `D`, `super().__init__()` appelle l'initialiseur\n",
    "de `B` qui appelle celui de `A`.\n",
    "\n",
    "On notera que les exemple donnés n'utilisent jamais plus de deux classes\n",
    "mères, mais il est possible d'en avoir autant que vous le souhaitez."
   ]
  },
  {
   "cell_type": "code",
   "execution_count": null,
   "metadata": {},
   "outputs": [],
   "source": [
    "class A:\n",
    "    pass\n",
    "\n",
    "class B:\n",
    "    pass\n",
    "\n",
    "class C:\n",
    "    pass\n",
    "\n",
    "class D:\n",
    "    pass\n",
    "\n",
    "class E(A, B, C, D):\n",
    "    pass"
   ]
  },
  {
   "cell_type": "markdown",
   "metadata": {},
   "source": [
    "### Mixins\n",
    "\n",
    "Les _mixins_ sont des classes dédiées à une fonctionnalité particulière,\n",
    "utilisable en héritant d'une classe de base et de ce _mixin_.\n",
    "\n",
    "Par exemple, plusieurs types que l'on connaît sont appelés séquences (`str`,\n",
    "`list`, `tuple`). Ils ont en commun le fait d'implémenter l'opérateur `[]` et\n",
    "de gérer le _slicing_. On peut ainsi obtenir l'objet en ordre inverse à l'aide\n",
    "de `obj[::-1]`.\n",
    "\n",
    "Un _mixin_ qui pourrait nous être utile serait une classe avec une méthode\n",
    "`reverse` pour nous retourner l'objet inversé."
   ]
  },
  {
   "cell_type": "code",
   "execution_count": null,
   "metadata": {},
   "outputs": [],
   "source": [
    "class Reversable:\n",
    "    def reverse(self):\n",
    "        return self[::-1]\n",
    "\n",
    "class ReversableStr(Reversable, str):\n",
    "    pass\n",
    "\n",
    "class ReversableTuple(Reversable, tuple):\n",
    "    pass"
   ]
  },
  {
   "cell_type": "code",
   "execution_count": null,
   "metadata": {},
   "outputs": [],
   "source": [
    "s = ReversableStr('abc')\n",
    "s"
   ]
  },
  {
   "cell_type": "code",
   "execution_count": null,
   "metadata": {},
   "outputs": [],
   "source": [
    "s.reverse()"
   ]
  },
  {
   "cell_type": "code",
   "execution_count": null,
   "metadata": {},
   "outputs": [],
   "source": [
    "ReversableTuple((1, 2, 3)).reverse()"
   ]
  },
  {
   "cell_type": "markdown",
   "metadata": {},
   "source": [
    "Ou encore nous pourrions vouloir ajouter la gestion d'une photo de profil à\n",
    "nos classes `User` et dérivées."
   ]
  },
  {
   "cell_type": "code",
   "execution_count": null,
   "metadata": {},
   "outputs": [],
   "source": [
    "class ProfilePicture:\n",
    "    def __init__(self, *args, **kwargs):\n",
    "        super().__init__(*args, **kwargs)\n",
    "        self.picture = '{}-{}.png'.format(self.id, self.name)\n",
    "\n",
    "class UserPicture(ProfilePicture, User):\n",
    "    pass\n",
    "\n",
    "class AdminPicture(ProfilePicture, Admin):\n",
    "    pass\n",
    "\n",
    "class GuestPicture(ProfilePicture, Guest):\n",
    "    pass"
   ]
  },
  {
   "cell_type": "code",
   "execution_count": null,
   "metadata": {},
   "outputs": [],
   "source": [
    "john = UserPicture(1, 'john', '12345')\n",
    "john.picture"
   ]
  },
  {
   "cell_type": "markdown",
   "metadata": {},
   "source": [
    "##  TP : Fils de discussion\n",
    "\n",
    "Vous vous souvenez de la classe `Post` pour représenter un message ? Nous\n",
    "aimerions maintenant pouvoir instancier des fils de discussion (`Thread`) sur\n",
    "notre forum.\n",
    "\n",
    "Qu'est-ce qu'un fil de discussion ?\n",
    "\n",
    "  * Un message associé à un auteur et à une date ;\n",
    "  * Mais qui comporte aussi un titre ;\n",
    "  * Et une liste de posts (les réponses).\n",
    "\n",
    "Le premier point indique clairement que nous allons réutiliser le code de la\n",
    "classe `Post`, donc en hériter.\n",
    "\n",
    "Notre nouvelle classe sera initialisée avec un titre, un auteur et un message.\n",
    "`Thread` sera dotée d'une méthode `answer` recevant un auteur et un texte, et\n",
    "s'occupant de créer le post correspondant et de l'ajouter au fil. Nous\n",
    "changerons aussi la méthode `format` du `Thread` afin qu'elle concatène au fil\n",
    "l'ensemble de ses réponses.\n",
    "\n",
    "La classe `Post` restera inchangée. Enfin, nous supprimerons la méthode `post`\n",
    "de la classe `User`, pour lui en ajouter deux nouvelles :\n",
    "\n",
    "  * `new_thread(title, message)` pour créer un nouveau fil de discussion associé à cet utilisateur ;\n",
    "  * `answer_thread(thread, message)` pour répondre à un fil existant."
   ]
  },
  {
   "cell_type": "code",
   "execution_count": 36,
   "metadata": {},
   "outputs": [
    {
     "name": "stdout",
     "output_type": "stream",
     "text": [
      "<div><span>Par john le 05/01/2018 à 23:44:13</span><p>Bienvenue à tous</p></div>\n",
      "<div><span>Par peter le 05/01/2018 à 23:44:13</span><p>Merci</p></div>\n"
     ]
    }
   ],
   "source": [
    "import crypt\n",
    "import datetime\n",
    "\n",
    "class User:\n",
    "    def __init__(self, id, name, password):\n",
    "        self.id = id\n",
    "        self.name = name\n",
    "        self._salt = crypt.mksalt()\n",
    "        self._password = self._crypt_pwd(password)\n",
    "\n",
    "    def _crypt_pwd(self, password):\n",
    "        return crypt.crypt(password, self._salt)\n",
    "\n",
    "    def check_pwd(self, password):\n",
    "        return self._password == self._crypt_pwd(password)\n",
    "\n",
    "    def new_thread(self, title, message):\n",
    "        return Thread(title, self, message)\n",
    "\n",
    "    def answer_thread(self, thread, message):\n",
    "        thread.answer(self, message)\n",
    "\n",
    "class Post:\n",
    "    def __init__(self, author, message):\n",
    "        self.author = author\n",
    "        self.message = message\n",
    "        self.date = datetime.datetime.now()\n",
    "\n",
    "    def format(self):\n",
    "        date = self.date.strftime('le %d/%m/%Y à %H:%M:%S')\n",
    "        return '<div><span>Par {} {}</span><p>{}</p></div>'.format(self.author.name, date, self.message)\n",
    "\n",
    "class Thread(Post):\n",
    "    def __init__(self, title, author, message):\n",
    "        super().__init__(author, message)\n",
    "        self.title = title\n",
    "        self.posts = []\n",
    "\n",
    "    def answer(self, author, message):\n",
    "        self.posts.append(Post(author, message))\n",
    "\n",
    "    def format(self):\n",
    "        posts = [super().format()]\n",
    "        posts += [p.format() for p in self.posts]\n",
    "        return '\\n'.join(posts)\n",
    "\n",
    "if __name__ == '__main__':\n",
    "    john = User(1, 'john', '12345')\n",
    "    peter = User(2, 'peter', 'toto')\n",
    "    thread = john.new_thread('Bienvenue', 'Bienvenue à tous')\n",
    "    peter.answer_thread(thread, 'Merci')\n",
    "    print(thread.format())"
   ]
  },
  {
   "cell_type": "markdown",
   "metadata": {},
   "source": [
    "#  Opérateurs\n",
    "\n",
    "Il est maintenant temps de nous intéresser aux opérateurs du langage Python\n",
    "(`+`, `-`, `*`, etc.). En effet, un code respectant la philosophie du langage\n",
    "se doit de les utiliser à bon escient.\n",
    "\n",
    "Ils sont une manière claire de représenter des opérations élémentaires\n",
    "(addition, concaténation, …) entre deux objets. `a + b` est en effet plus\n",
    "lisible qu'un `add(a, b)` ou encore `a.add(b)`.\n",
    "\n",
    "Ce chapitre a pour but de vous présenter les mécanismes mis en jeu par ces\n",
    "différents opérateurs, et la manière de les implémenter.\n",
    "\n",
    "  * Des méthodes un peu spéciales \n",
    "  * Doux opérateurs \n",
    "  * TP : Arithmétique simple \n"
   ]
  },
  {
   "cell_type": "code",
   "execution_count": null,
   "metadata": {},
   "outputs": [],
   "source": []
  },
  {
   "cell_type": "code",
   "execution_count": null,
   "metadata": {},
   "outputs": [],
   "source": []
  },
  {
   "cell_type": "code",
   "execution_count": null,
   "metadata": {},
   "outputs": [],
   "source": []
  },
  {
   "cell_type": "markdown",
   "metadata": {},
   "source": [
    "# Programmation orientée objet avancée\n",
    "\n",
    "Dans ce chapitre, nous allons nous intéresser à des concepts plus avancés de programmation orientée objet disponibles en Python, tels que les attributs/méthodes de classe ou les propriétés.\n",
    "\n",
    "## Les attributs entrent en classe\n",
    "\n",
    "Nous avons déjà rencontré un attribut de classe, quand nous nous intéressions aux parents d’une classe. Souvenez-vous de __bases__, nous ne l’utilisions pas sur des instances mais sur notre classe directement.\n",
    "\n",
    "En Python, les classes sont des objets comme les autres, et peuvent donc posséder leurs propres attributs."
   ]
  },
  {
   "cell_type": "code",
   "execution_count": 19,
   "metadata": {},
   "outputs": [
    {
     "name": "stdout",
     "output_type": "stream",
     "text": [
      "simple_user\n"
     ]
    }
   ],
   "source": [
    "class User:\n",
    "    pass\n",
    "User.type = 'simple_user'\n",
    "print(User.type)"
   ]
  },
  {
   "cell_type": "markdown",
   "metadata": {},
   "source": [
    "Les attributs de classe peuvent aussi se définir dans le corps de la classe, de la même manière que les méthodes."
   ]
  },
  {
   "cell_type": "code",
   "execution_count": 24,
   "metadata": {},
   "outputs": [
    {
     "name": "stdout",
     "output_type": "stream",
     "text": [
      "Simple_User\n"
     ]
    }
   ],
   "source": [
    "class User:\n",
    "    type = 'Simple_User'\n",
    "print(User.type)"
   ]
  },
  {
   "cell_type": "markdown",
   "metadata": {},
   "source": [
    "On notera à l’inverse qu’il est aussi possible de définir une méthode de la classe depuis l’extérieur :"
   ]
  },
  {
   "cell_type": "code",
   "execution_count": 25,
   "metadata": {},
   "outputs": [
    {
     "name": "stdout",
     "output_type": "stream",
     "text": [
      "<User>\n"
     ]
    }
   ],
   "source": [
    "def User_repr(self):\n",
    "    return '<User>'\n",
    "User.__repr__ = User_repr\n",
    "print(User())"
   ]
  },
  {
   "cell_type": "markdown",
   "metadata": {},
   "source": [
    "L’avantage des attributs de classe, c’est qu’ils sont aussi disponibles pour les instances de cette classe. Ils sont partagés par toutes les instances."
   ]
  },
  {
   "cell_type": "code",
   "execution_count": 44,
   "metadata": {},
   "outputs": [
    {
     "name": "stdout",
     "output_type": "stream",
     "text": [
      "simple_user\n",
      "admin\n"
     ]
    }
   ],
   "source": [
    "john = User()\n",
    "print(john.type)\n",
    "User.type = 'admin'\n",
    "print(john.type)"
   ]
  },
  {
   "cell_type": "markdown",
   "metadata": {},
   "source": [
    "C’est le fonctionnement du ***MRO*** de Python, il cherche d’abord si l’attribut existe dans l’objet, puis si ce n’est pas le cas, le cherche dans les classes parentes.\n",
    "\n",
    "Attention donc, quand l’attribut est redéfini dans l’objet, il sera trouvé en premier, et n’affectera pas la classe."
   ]
  },
  {
   "cell_type": "code",
   "execution_count": 45,
   "metadata": {},
   "outputs": [
    {
     "name": "stdout",
     "output_type": "stream",
     "text": [
      "admin\n",
      "superadmin\n",
      "admin\n",
      "admin\n"
     ]
    }
   ],
   "source": [
    "john = User()\n",
    "print(john.type)\n",
    "john.type = 'superadmin'\n",
    "print(john.type)\n",
    "print(User.type)\n",
    "joe = User()\n",
    "print(joe.type)"
   ]
  },
  {
   "cell_type": "markdown",
   "metadata": {},
   "source": [
    "Attention aussi, quand l’attribut de classe est un objet mutable, il peut être modifié par n’importe quelle instance de la classe."
   ]
  },
  {
   "cell_type": "code",
   "execution_count": 50,
   "metadata": {},
   "outputs": [
    {
     "name": "stdout",
     "output_type": "stream",
     "text": [
      "[<__main__.User object at 0x7f92780b3a58>, <__main__.User object at 0x7f92780b3a90>]\n"
     ]
    }
   ],
   "source": [
    "class User:\n",
    "    users = []\n",
    "john, joe = User(), User()\n",
    "john.users.append(john)\n",
    "joe.users.append(joe)\n",
    "print(john.users)"
   ]
  },
  {
   "cell_type": "markdown",
   "metadata": {},
   "source": [
    "L’attribut de classe est aussi conservé lors de l’héritage, et partagé avec les classes filles (sauf lorsque les classes filles redéfinissent l’attribut, de la même manière que pour les instances)."
   ]
  },
  {
   "cell_type": "code",
   "execution_count": 51,
   "metadata": {},
   "outputs": [
    {
     "name": "stdout",
     "output_type": "stream",
     "text": [
      "[<__main__.User object at 0x7f92780b3a58>, <__main__.User object at 0x7f92780b3a90>]\n"
     ]
    }
   ],
   "source": [
    "class Guest(User):\n",
    "    pass\n",
    "print(Guest.users)"
   ]
  },
  {
   "cell_type": "code",
   "execution_count": 58,
   "metadata": {},
   "outputs": [
    {
     "name": "stdout",
     "output_type": "stream",
     "text": [
      "[]\n"
     ]
    }
   ],
   "source": [
    "class Admin(User):\n",
    "    users = []\n",
    "print(Admin.users)"
   ]
  },
  {
   "cell_type": "markdown",
   "metadata": {},
   "source": [
    "## La méthode pour avoir la classe\n",
    "\n",
    "Comme pour les attributs, des méthodes peuvent être définies au niveau de la classe. C’est par exemple le cas de la méthode mro."
   ]
  },
  {
   "cell_type": "code",
   "execution_count": 56,
   "metadata": {},
   "outputs": [
    {
     "data": {
      "text/plain": [
       "[int, object]"
      ]
     },
     "execution_count": 56,
     "metadata": {},
     "output_type": "execute_result"
    }
   ],
   "source": [
    "int.mro()"
   ]
  },
  {
   "cell_type": "markdown",
   "metadata": {},
   "source": [
    "Les méthodes de classe constituent des opérations relatives à la classe mais à aucune instance. Elles recevront la classe courante en premier paramètre (nommé cls, correspondant au self des méthodes d’instance), et auront donc accès aux autres attributs et méthodes de classe.\n",
    "\n",
    "Reprenons notre classe User, à laquelle nous voudrions ajouter le stockage de tous les utilisateurs, et la génération automatique de l’id. Il nous suffirait d’une même méthode de classe pour stocker l’utilisateur dans un attribut de classe ***users***, et qui lui attribuerait un ***id*** en fonction du nombre d’utilisateurs déjà enregistrés."
   ]
  },
  {
   "cell_type": "code",
   "execution_count": 59,
   "metadata": {},
   "outputs": [
    {
     "ename": "TypeError",
     "evalue": "object() takes no parameters",
     "output_type": "error",
     "traceback": [
      "\u001b[0;31m---------------------------------------------------------------------------\u001b[0m",
      "\u001b[0;31mTypeError\u001b[0m                                 Traceback (most recent call last)",
      "\u001b[0;32m<ipython-input-59-53902cc659c5>\u001b[0m in \u001b[0;36m<module>\u001b[0;34m()\u001b[0m\n\u001b[0;32m----> 1\u001b[0;31m \u001b[0mroot\u001b[0m \u001b[0;34m=\u001b[0m \u001b[0mAdmin\u001b[0m\u001b[0;34m(\u001b[0m\u001b[0;34m'root'\u001b[0m\u001b[0;34m,\u001b[0m \u001b[0;34m'toor'\u001b[0m\u001b[0;34m)\u001b[0m\u001b[0;34m\u001b[0m\u001b[0m\n\u001b[0m\u001b[1;32m      2\u001b[0m \u001b[0mprint\u001b[0m\u001b[0;34m(\u001b[0m\u001b[0mroot\u001b[0m\u001b[0;34m)\u001b[0m\u001b[0;34m\u001b[0m\u001b[0m\n\u001b[1;32m      3\u001b[0m \u001b[0mprint\u001b[0m\u001b[0;34m(\u001b[0m\u001b[0mUser\u001b[0m\u001b[0;34m(\u001b[0m\u001b[0;34m'john'\u001b[0m\u001b[0;34m,\u001b[0m \u001b[0;34m'12345'\u001b[0m\u001b[0;34m)\u001b[0m\u001b[0;34m)\u001b[0m\u001b[0;34m\u001b[0m\u001b[0m\n",
      "\u001b[0;31mTypeError\u001b[0m: object() takes no parameters"
     ]
    }
   ],
   "source": [
    "root = Admin('root', 'toor')\n",
    "print(root)\n",
    "print(User('john', '12345'))"
   ]
  },
  {
   "cell_type": "code",
   "execution_count": 60,
   "metadata": {},
   "outputs": [
    {
     "data": {
      "text/plain": [
       "[]"
      ]
     },
     "execution_count": 60,
     "metadata": {},
     "output_type": "execute_result"
    }
   ],
   "source": [
    "Admin.users"
   ]
  },
  {
   "cell_type": "code",
   "execution_count": 61,
   "metadata": {},
   "outputs": [
    {
     "ename": "TypeError",
     "evalue": "object() takes no parameters",
     "output_type": "error",
     "traceback": [
      "\u001b[0;31m---------------------------------------------------------------------------\u001b[0m",
      "\u001b[0;31mTypeError\u001b[0m                                 Traceback (most recent call last)",
      "\u001b[0;32m<ipython-input-61-4106de3f0551>\u001b[0m in \u001b[0;36m<module>\u001b[0;34m()\u001b[0m\n\u001b[0;32m----> 1\u001b[0;31m \u001b[0mAdmin\u001b[0m\u001b[0;34m(\u001b[0m\u001b[0;34m'root'\u001b[0m\u001b[0;34m,\u001b[0m \u001b[0;34m'toor'\u001b[0m\u001b[0;34m)\u001b[0m\u001b[0;34m\u001b[0m\u001b[0m\n\u001b[0m",
      "\u001b[0;31mTypeError\u001b[0m: object() takes no parameters"
     ]
    }
   ],
   "source": [
    "Admin('root', 'toor')"
   ]
  },
  {
   "cell_type": "code",
   "execution_count": 62,
   "metadata": {},
   "outputs": [
    {
     "ename": "TypeError",
     "evalue": "object() takes no parameters",
     "output_type": "error",
     "traceback": [
      "\u001b[0;31m---------------------------------------------------------------------------\u001b[0m",
      "\u001b[0;31mTypeError\u001b[0m                                 Traceback (most recent call last)",
      "\u001b[0;32m<ipython-input-62-1ca6a8effc20>\u001b[0m in \u001b[0;36m<module>\u001b[0;34m()\u001b[0m\n\u001b[0;32m----> 1\u001b[0;31m \u001b[0mUser\u001b[0m\u001b[0;34m(\u001b[0m\u001b[0;34m'john'\u001b[0m\u001b[0;34m,\u001b[0m \u001b[0;34m'12345'\u001b[0m\u001b[0;34m)\u001b[0m\u001b[0;34m\u001b[0m\u001b[0m\n\u001b[0m",
      "\u001b[0;31mTypeError\u001b[0m: object() takes no parameters"
     ]
    }
   ],
   "source": [
    "User('john', '12345')"
   ]
  },
  {
   "cell_type": "code",
   "execution_count": 63,
   "metadata": {},
   "outputs": [
    {
     "ename": "TypeError",
     "evalue": "object() takes no parameters",
     "output_type": "error",
     "traceback": [
      "\u001b[0;31m---------------------------------------------------------------------------\u001b[0m",
      "\u001b[0;31mTypeError\u001b[0m                                 Traceback (most recent call last)",
      "\u001b[0;32m<ipython-input-63-2d831aae1c1f>\u001b[0m in \u001b[0;36m<module>\u001b[0;34m()\u001b[0m\n\u001b[0;32m----> 1\u001b[0;31m \u001b[0mguest\u001b[0m \u001b[0;34m=\u001b[0m \u001b[0mGuest\u001b[0m\u001b[0;34m(\u001b[0m\u001b[0;34m'guest'\u001b[0m\u001b[0;34m)\u001b[0m\u001b[0;34m\u001b[0m\u001b[0m\n\u001b[0m",
      "\u001b[0;31mTypeError\u001b[0m: object() takes no parameters"
     ]
    }
   ],
   "source": [
    "guest = Guest('guest')"
   ]
  },
  {
   "cell_type": "markdown",
   "metadata": {},
   "source": [
    "Les méthodes de classe se définissent comme les méthodes habituelles, à la différence près qu’elles sont précédées du décorateur classmethod."
   ]
  },
  {
   "cell_type": "code",
   "execution_count": 12,
   "metadata": {},
   "outputs": [],
   "source": [
    "import crypt\n",
    "\n",
    "class User:\n",
    "    users = []\n",
    "\n",
    "    def __init__(self, name, password):\n",
    "        self.name = name\n",
    "        self._salt = crypt.mksalt()\n",
    "        self._password = self._crypt_pwd(password)\n",
    "        self.register(self)\n",
    "\n",
    "    @classmethod\n",
    "    def register(cls, user):\n",
    "        cls.users.append(user)\n",
    "        user.id = len(cls.users)\n",
    "\n",
    "    def _crypt_pwd(self, password):\n",
    "        return crypt.crypt(password, self._salt)\n",
    "\n",
    "    def check_pwd(self, password):\n",
    "        return self._password == self._crypt_pwd(password)\n",
    "\n",
    "    def __repr__(self):\n",
    "        return '<User: {}, {}>'.format(self.id, self.name)\n",
    "class Guest(User):\n",
    "    def __init__(self, name):\n",
    "        super().__init__(name, '')\n",
    "\n",
    "    def check_pwd(self, password):\n",
    "        return True\n",
    "\n",
    "class Admin(User):\n",
    "    def manage(self):\n",
    "        print('I am an über administrator!')"
   ]
  },
  {
   "cell_type": "code",
   "execution_count": 13,
   "metadata": {},
   "outputs": [],
   "source": [
    "root = Admin('root', 'toor')"
   ]
  },
  {
   "cell_type": "code",
   "execution_count": 14,
   "metadata": {},
   "outputs": [
    {
     "data": {
      "text/plain": [
       "<User: 1, root>"
      ]
     },
     "execution_count": 14,
     "metadata": {},
     "output_type": "execute_result"
    }
   ],
   "source": [
    "root"
   ]
  },
  {
   "cell_type": "code",
   "execution_count": 15,
   "metadata": {},
   "outputs": [
    {
     "data": {
      "text/plain": [
       "<User: 2, john>"
      ]
     },
     "execution_count": 15,
     "metadata": {},
     "output_type": "execute_result"
    }
   ],
   "source": [
    "User('john', '12345')"
   ]
  },
  {
   "cell_type": "code",
   "execution_count": 16,
   "metadata": {},
   "outputs": [],
   "source": [
    "guest = Guest('guest')"
   ]
  },
  {
   "cell_type": "code",
   "execution_count": 17,
   "metadata": {},
   "outputs": [
    {
     "data": {
      "text/plain": [
       "<User: 3, guest>"
      ]
     },
     "execution_count": 17,
     "metadata": {},
     "output_type": "execute_result"
    }
   ],
   "source": [
    "guest"
   ]
  },
  {
   "cell_type": "code",
   "execution_count": 18,
   "metadata": {},
   "outputs": [
    {
     "data": {
      "text/plain": [
       "<User: 4, jean>"
      ]
     },
     "execution_count": 18,
     "metadata": {},
     "output_type": "execute_result"
    }
   ],
   "source": [
    "User('jean', '0000')"
   ]
  },
  {
   "cell_type": "code",
   "execution_count": null,
   "metadata": {},
   "outputs": [],
   "source": []
  }
 ],
 "metadata": {
  "kernelspec": {
   "display_name": "Python 3",
   "language": "python",
   "name": "python3"
  },
  "language_info": {
   "codemirror_mode": {
    "name": "ipython",
    "version": 3
   },
   "file_extension": ".py",
   "mimetype": "text/x-python",
   "name": "python",
   "nbconvert_exporter": "python",
   "pygments_lexer": "ipython3",
   "version": "3.6.4+"
  },
  "latex_envs": {
   "LaTeX_envs_menu_present": true,
   "autocomplete": true,
   "bibliofile": "biblio.bib",
   "cite_by": "apalike",
   "current_citInitial": 1,
   "eqLabelWithNumbers": true,
   "eqNumInitial": 1,
   "hotkeys": {
    "equation": "Ctrl-E",
    "itemize": "Ctrl-I"
   },
   "labels_anchors": false,
   "latex_user_defs": false,
   "report_style_numbering": false,
   "user_envs_cfg": false
  },
  "toc": {
   "colors": {
    "hover_highlight": "#DAA520",
    "navigate_num": "#000000",
    "navigate_text": "#333333",
    "running_highlight": "#FF0000",
    "selected_highlight": "#FFD700",
    "sidebar_border": "#EEEEEE",
    "wrapper_background": "#FFFFFF"
   },
   "moveMenuLeft": true,
   "nav_menu": {
    "height": "49px",
    "width": "252px"
   },
   "navigate_menu": true,
   "number_sections": true,
   "sideBar": true,
   "threshold": 4,
   "toc_cell": false,
   "toc_section_display": "block",
   "toc_window_display": false,
   "widenNotebook": false
  }
 },
 "nbformat": 4,
 "nbformat_minor": 2
}
