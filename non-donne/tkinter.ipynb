{
 "cells": [
  {
   "cell_type": "markdown",
   "metadata": {},
   "source": [
    "# <center>Présentation de Tkinter</center>\n",
    "\n",
    "*ce cours est inspiré de plusieurs cours de collègues  Frédéric junier.*\n",
    "\n",
    "*On utilisera dans un premier ipython3*\n",
    "\n",
    "L'acronyme anglais pour interface graphique est ***GUI*** pour ***graphical user interface***. \n",
    "\n",
    "Pour réaliser des interfaces graphiques, nous allons utiliser le module tkinter de la bibliothèque standard de Python. Ce module s'interface avec la bibliothèque graphique TK qui est multiplateformes. Il existe d'autres modules d'interfaces graphiques comme pyGTK, wxPython mais tkinter est le module livré clef en mains et il est bien documenté sur le web.\n",
    "\n",
    "Pour un complément d'information :\n",
    "- Le cours d'isn de [Fabrice sincère](http://fsincere.free.fr/isn/python/cours_python_tkinter.php)\n",
    "- La documentation officielle de [tkinter](http://infohost.nmt.edu/tcc/help/pubs/tkinter/web/index.html)\n",
    "- Le classique  [openclassrooms (ex site du zéro)](http://fr.openclassrooms.com/informatique/cours/apprenez-a-programmer-en-python/des-interfaces-graphiques-avec-tkinter)\n",
    "- La [documentation officielle Python](http://docs.python.org/3.3/library/tkinter.html)\n",
    "- Le livre [Apprendre Python 3 de Gérard Swinnen](http://inforef.be/swi/python.htm)\n",
    "\n",
    "Par ailleurs, si le design des widgets vous déplaît, vous êtes libre de modifier les couleurs ou les différents paramètres visuels ...\n",
    "\n",
    "\n",
    "## ***I Un premier exemple***\n",
    "\n",
    "\n",
    "\n",
    "\n"
   ]
  },
  {
   "cell_type": "code",
   "execution_count": 3,
   "metadata": {
    "collapsed": true
   },
   "outputs": [],
   "source": [
    "from tkinter import *\n",
    "fen = Tk()\n",
    "a = Frame(fen)\n",
    "b = Label(fen,text=\"Une étiquette\")\n",
    "c = Label(a,text=\"Une autre étiquette\")\n",
    "d = Button(a,text=\"Quitter\" ,command=fen.quit)"
   ]
  },
  {
   "cell_type": "markdown",
   "metadata": {},
   "source": [
    "Une fenêtre racine (Top-Level window) est créée avec *fen = Tk()*.  \n",
    "  <center><img src=\"./images/tkinter1.png\"></center>\n",
    "\n",
    "On va d'abord faire apparaître nos widget enfants avec une ***méthode de placement***. Il en existe trois: ***place, pack*** et ***grid***.   \n",
    "On en choisit une pour tous les widget mais il ne faut pas mélanger les méthodes de placement. \n",
    "\n",
    "Testons d'abord la méthode ***pack*** dont l'option ***side*** possède quatre valeurs possibles : ***TOP,BOTTOM, RIGHT, LEFT***.\n",
    "\n",
    "Avec *pack* ou *grid*, si la géométrie du widget parent n'a pas été fixée, c'est le parent qui adapte ses dimensions à celles de ses enfants. En général, si on utilise *pack* ou *grid*, on ne fixe pas les dimensions de la fenêtre parent.    \n",
    "On peut néanmoins le faire avec la ***méthode geometry***, par exemple avec *fen.geometry('300x100')* où 300 est la largeur en pixels de la fenêtre et 100 sa hauteur."
   ]
  },
  {
   "cell_type": "markdown",
   "metadata": {},
   "source": [
    "\n",
    "\n",
    "\n",
    "Les fenêtres et leurs widget sont des objets, au sens de la Programmation Orientée Objet, ils possèdent des propriétés ou attributs et des fonctions ou méthodes qui permettent des les manipuler. Lorsqu'on crée un widget Button avec tkinter on appelle le constructeur de la classe ***Button*** en lui passant certaines options sous la forme de paramètres nommés.\n",
    "\n",
    "Il faut toujours préciser en premier le widget parent dans lequel on construit notre widget.\n",
    "Dans le code minimal ci-dessous, on crée une fenêtre racine fen avec deux widget enfants : un Frame et un Label. Le widget Frame possède lui-même deux widget enfants : un Button et un Label.\n",
    "\n",
    "\n",
    "Les Label affichent un texte qui est celui précisé par l'option text.  \n",
    "Les Button sont des boutons de commande, cliquer dessus déclenche la fonction passée en valeur de l'option command. Ici il s'agit de la méthode destroy de la fenêtre parente."
   ]
  },
  {
   "cell_type": "code",
   "execution_count": 5,
   "metadata": {
    "collapsed": false
   },
   "outputs": [],
   "source": [
    "a.pack(side=\"left\")\n",
    "b.pack(side=\"top\")\n",
    "d.pack(side=\"top\")\n",
    "c.pack(side=\"top\")"
   ]
  },
  {
   "cell_type": "markdown",
   "metadata": {},
   "source": [
    "On obtient à peu-près ceci :  \n",
    "  <center><img src=\"./images/tkinter2.png\"></center>  \n",
    "On peut mettre un peu d'***espace*** autour des widget, par exemple autour du Button , avec les options ***padx*** et ***pady*** de la méthode ***pack***.\n",
    "\n",
    "On peut aussi modifier des options par défaut de certains widget avec ***la méthode config*** ou avec l'opérateur crochet. Les valeurs des options sont stockées dans un dictionnaire dont les clefs sont les options sous forme de chaîne de caractères.\n",
    "\n",
    "Pour les couleurs, on peut utiliser les couleurs prédéfinies ('red','black', 'green') ou utiliser la notation hexadécimale (Geany propose un outil palette de couleurs).\n",
    "\n",
    "Pour avoir **la liste** des options d'un widget, on utilise la **méthode keys**  \n",
    "On peut aussi donner **un titre** à notre fenêtre racine avec la **méthode title**.\n",
    "\n",
    "Pour **redimensionner** la fenêtre racine, on peut utiliser la **méthode geometry** :\n",
    "\n"
   ]
  },
  {
   "cell_type": "markdown",
   "metadata": {},
   "source": [
    "## ***II Découverte de quelques widgets***\n",
    "\n",
    "##  a Les boutons (button)\n"
   ]
  },
  {
   "cell_type": "code",
   "execution_count": 2,
   "metadata": {
    "collapsed": false
   },
   "outputs": [
    {
     "name": "stdout",
     "output_type": "stream",
     "text": [
      "['activebackground', 'activeforeground', 'anchor', 'background', 'bd', 'bg', 'bitmap', 'borderwidth', 'command', 'compound', 'cursor', 'default', 'disabledforeground', 'fg', 'font', 'foreground', 'height', 'highlightbackground', 'highlightcolor', 'highlightthickness', 'image', 'justify', 'overrelief', 'padx', 'pady', 'relief', 'repeatdelay', 'repeatinterval', 'state', 'takefocus', 'text', 'textvariable', 'underline', 'width', 'wraplength']\n"
     ]
    }
   ],
   "source": [
    "from tkinter import *\n",
    "MyButton = Button(text=\"Button\",  command=quit)\n",
    "#self.quitButton = Button(self, text=\"Quit\", command=self.quit)\n",
    "print(MyButton.keys())"
   ]
  },
  {
   "cell_type": "markdown",
   "metadata": {},
   "source": [
    "ref: http://tkinter.fdex.eu/doc/labw.html\n",
    "\n",
    "- ***activebackground:*** Couleur de fond lorsque la souris survole le bouton.\n",
    "- ***activeforeground:*** Couleur du texte lorsque la souris survole le bouton.\n",
    "- ***anchor:*** Précise la position du texte sur le bouton. Voir [_Le système d'ancrage_](sa.html#ancrage). Par exemple, `anchor=\"ne\"` positionne le texte dans le bord supérieur droit (nord est) du bouton.\n",
    "- ***borderwidth:*** (ou ***bd***) largeur de la bordure du bouton ; Voir [_Les dimensions_](sa.html#dimensions). Par défaut, sa valeur est 2 pixels.\n",
    "- ***background:*** (ou ***bg***) Couleur de fond.\n",
    "- ***bitmap:*** Nom de l'un des bitmaps standards à afficher sur le bouton à la place du du texte.\n",
    "- ***command:*** Fonction ou méthode à appeler lorsqu'on clique sur le bouton.\n",
    "- ***cursor:*** Pour indiquer le pointeur de la souris à afficher lorsqu'on survole le bouton.\n",
    "- ***default:*** `'normal'` est la valeur par défaut; utiliser `'disabled'` si le bouton doit être désactivé (grisé et ne répondant pas au clic de la souris).\n",
    "- ***disabledforeground:*** Couleur du texte lorsque le bouton est désactivé.\n",
    "- ***foreground:*** (ou ***fg***), Couleur du texte.\n",
    "- ***font:*** Police de caractère a utiliser pour le texte sur le bouton.\n",
    "- ***height:*** Hauteur du bouton en nombre de ligne (si le bouton possède une étiquette textuelle) ou en pixel (pour les images).\n",
    "- ***highlightbackground:*** Couleur de la ligne qui indique que le bouton n'a pas le focus.\n",
    "- ***highlightcolor:*** Couleur de ligne qui indique que le bouton a le focus.\n",
    "- ***highlightthickness:*** Épaisseur de la ligne de focus.\n",
    "- ***image:*** Image a afficher sur le bouton (à la place du texte).\n",
    "- ***justify:*** `'left'`, `'center'` ou `'right'` pour indiquer la position du texte.\n",
    "- ***overrelief:*** Le style de relief à utiliser lorsque la souris est sur le bouton; la valeur par défaut est `'raised'`. Voir [_Les styles de relief_](sa.html#reliefs).\n",
    "- ***padx:*** Marge additionnelle à gauche et à droite du texte. Voir [_Les dimensions_](sa.html#dimensions) pour les valeurs possibles.\n",
    "- ***pady:*** Marge additionnelle en haut et bas du texte.\n",
    "- ***relief:*** Précise le type de relief appliqué au bouton. (Voir [_Les styles de relief_](sa.html#reliefs)).\n",
    "- ***repeatdelay:*** Voir l'argument suivant.\n",
    "- ***repeatinterval:*** Normalement, un bouton est déclenché une seule fois lorsque l'utilisateur relâche le bouton de la souris. si vous souhaitez que le bouton soit déclenché à des intervalles réguliers lorsque l'utilisateur maintient le bouton de la souris enfoncé, positionner cette option a un certain nombre de millisecondes à attendre entre chaque répétition et donner une valeur à l'option repeatdelay (ms) pour indiquer un délai après lequel le bouton est déclenché. Par exemple, si `repeatdelay=500` et `repeatinterval=100`, le bouton sera déclenché après une demi-seconde puis redéclenché tous les dixièmes de secondes juqu'à ce que l'utilisateur relâche le bouton de la souris. Si l'utilisateur relache le bouton avant la durée repeatdelay, le bouton se déclenche normalement.\n",
    "- ***state:*** Positionner cette option à `'disabled'` pour griser le bouton et le rendre inactif. Sa valeur est 'active' lorsque la souris est sur le bouton et `'normal'` autrement.\n",
    "- ***takefocus:*** Normalement, en utilisant la touche Tab, on peut donner le focus aux bouton (voir [_Focus: réception des saisies clavier_](focus.html#focus)), et l'appui sur la barre espace a le même effet qu'un clic sur le bouton. Vous pouvez mettre ***takefocus*** a zéro pour empêcher cela.\n",
    "- ***text:*** Le texte a afficher sur le bouton.\n",
    "- ***textvariable:*** Une instance d'un `StringVar()` qui sera associée au texte du bouton. Si la variable est modifiée, un nouveau texte est affiché sur le bouton. Voir [_Variables de contrôle: Les valeurs sous les widgets_](ctrvar.html#ctrlvariables).\n",
    "- ***underline:*** Par défaut, vaut -1, indiquant qu'aucun caractère du texte du bouton n'est souligné. Si sa valeur est positive ou nulle, le caractère correspondant du texte est souligné. Par exemple, `underline=1` indique que le deuxième caractère du texte sera souligné.\n",
    "- ***width:*** Largeur du bouton en nombre de lettres (si du texte est affiché) ou en pixels (pour une image).\n",
    "- ***wraplength:*** Si on indique une valeur positive, le texte est affiché avec autant de lignes qu'il faut pour tenir dans la largeur fixé par wraplength. Pour les différentes valeurs possibles, Voir [_Les dimensions_](sa.html#dimensions).  "
   ]
  },
  {
   "cell_type": "code",
   "execution_count": 4,
   "metadata": {
    "collapsed": false
   },
   "outputs": [],
   "source": []
  },
  {
   "cell_type": "markdown",
   "metadata": {},
   "source": []
  },
  {
   "cell_type": "code",
   "execution_count": 6,
   "metadata": {
    "collapsed": false
   },
   "outputs": [
    {
     "data": {
      "text/plain": [
       "['bd',\n",
       " 'borderwidth',\n",
       " 'class',\n",
       " 'relief',\n",
       " 'background',\n",
       " 'bg',\n",
       " 'colormap',\n",
       " 'container',\n",
       " 'cursor',\n",
       " 'height',\n",
       " 'highlightbackground',\n",
       " 'highlightcolor',\n",
       " 'highlightthickness',\n",
       " 'padx',\n",
       " 'pady',\n",
       " 'takefocus',\n",
       " 'visual',\n",
       " 'width']"
      ]
     },
     "execution_count": 6,
     "metadata": {},
     "output_type": "execute_result"
    }
   ],
   "source": [
    "d.pack(side=\"top\" ,padx=10,pady=10)\n",
    "fen.title(\"Premier exemple avec tkinter\")\n",
    "a.keys()"
   ]
  },
  {
   "cell_type": "code",
   "execution_count": 7,
   "metadata": {
    "collapsed": false
   },
   "outputs": [
    {
     "data": {
      "text/plain": [
       "''"
      ]
     },
     "execution_count": 7,
     "metadata": {},
     "output_type": "execute_result"
    }
   ],
   "source": [
    "d.config(relief=\"flat\")\n",
    "a[\"background\"]= \"#F3F378\"\n",
    "fen.geometry(\"300x100\")"
   ]
  },
  {
   "cell_type": "markdown",
   "metadata": {},
   "source": [
    "<center><img src=\"./images/tkinter3.png\"></center>  \n",
    "\n",
    "Si on recopie les commandes précédentes dans un script Python et qu'on l'exécute, contrairement au test dans la console, aucune fenêtre n'apparaît. En fait dans la console, lorsqu'on crée une fenêtre racine avec ***Tk()***, le réceptionnaire d'événements et automatiquement déclenché.\n",
    "\n",
    "Le réceptionnaire d'événements est la fonction de tkinter qui met en place tous les éléments graphiques et qui scrutent tous les événements qui peuvent se produire dans l'interface graphique (par exemple un clic sur le bouton Quitter). On peut le comparer à une boucle infinie, qui s'exécute en tâche de fonds et qui réagit aux événements déclenchés par l'utilisateur.\n",
    "\n",
    "Le réceptionnaire d'événements est en général appelé en fin de script, une fois que tous les widgets et toutes les actions liées à des événements ont été définis. L'appel se fait par la méthode mainloop de la fenêtre racine.\n"
   ]
  },
  {
   "cell_type": "code",
   "execution_count": null,
   "metadata": {
    "collapsed": false
   },
   "outputs": [],
   "source": [
    "fen.mainloop()"
   ]
  },
  {
   "cell_type": "markdown",
   "metadata": {},
   "source": [
    "#### Méthode Synthèse des widget et des méthodes déjà rencontrés\n",
    "\n",
    "- Une fenêtre racine (Top-Level window) est créée avec ***fen = Tk()***.\n",
    "\n",
    "<center><table>\n",
    "<tr> <th> Méthode </th><th> Effet</th></tr>\n",
    "<tr> <td> fen = Tk() </td><td> Crée une fenêtre racine</td></tr>\n",
    "<tr> <td> fen.title('Titre') </td><td>  Donne un titre</td></tr>\n",
    "<tr> <td> fen.geometry('400x600') </td><td>  Redimensionne la fenêtre en 400 pixels de large sur 600 de haut</td></tr>\n",
    "</table>\n",
    "</center>\n",
    "\n",
    "- Une étiquette de texte est créée avec ***a = Label(fen)***.  \n",
    "   On n'est pas obligé d'affecter le widget à une variable mais ce peut être utile de disposer d'une référence si on veut y accéder par la suite.\n",
    "   \n",
    " Lors de la création du widget, on peut préciser dans le constructeur Label les valeurs d'un certain nombre d'options.\n",
    "<center><table>\n",
    "<tr> <th> Options  </th><th> Effet  </th><th> Syntaxe</th></tr>\n",
    "<tr> <td>text  </td><td>  mise en forme   </td><td>  text=('Arial',10,'bold','italic')</td></tr>\n",
    "<tr> <td> fg  </td><td>  couleur du texte  </td><td>    fg='white' ou fg='#ffffff'</td></tr>\n",
    "<tr> <td> bg  </td><td> couleur du fonds  </td><td>   bg='white' ou bg='#ffffff'</td></tr>\n",
    "<tr> <td>width, height  </td><td> largeur et hauteur </td><td>  width=100 ou height='2cm'</td></tr>\n",
    "</table>\n",
    "</center>\n",
    "\n",
    "- Un bouton de commande est créé avec b = Button(fen). Les options width, height, fg, bg sont les mêmes que pour un widget Label mais on peut lui ajouter l'option command pour qu'un clic  sur le bouton déclenche une fonction.\n",
    "\n",
    "<center><table>\n",
    "<tr> <th>Options </th><th> Effet </th><th> Syntaxe</th></tr>\n",
    "<tr> <td> command </td><td> précise la fonction à déclencher lors du clic </td><td>command=fonction</td></tr>\n",
    "</table></center>\n",
    "\n",
    "\n",
    "Attention, il ne faut pas mettre de parenthèse après le nom de la fonction.\n",
    "\n",
    "- Un cadre rectangulaire est créée avec a = Frame(fen). Un Frame est surtout utilisé comme conteneur pour d'autres widget.\n",
    "- Méthodes universelles pour les widget.\n",
    "\n",
    "<center><table>\n",
    "<tr> <td>   widget.cget('option') ou widget['option'] </td><td> Retourne la valeur courante de l'option</td></tr>\n",
    "<tr> <td>   widget.config(option=value) ou <br />widget['option']=value  </td><td> Change la valeur courante de l'option </td></tr>\n",
    "<tr> <td>  widget.pack(side=value,fill=value,padx=10,pady=15)<br />\n",
    "où side=LEFT,TOP,RIGHT,BOTTOM <br />\n",
    "et fill='x','y','both','none' </td><td> Méthode de placement géométrique <br /> (indispensable pour le rendre visible)</td></tr>\n",
    "</table></center>\n",
    "\n",
    "\n",
    "### 8.1.3    Méthode de placement grid et widget Canvas\n",
    "\n",
    "#### Méthode de placement grid\n",
    "La méthode grid permet de placer les widget dans la fenêtre racine en la quadrillant avec une grille.  \n",
    "Chaque widget est repéré par sa ligne row et sa colonne col.\n",
    "\n",
    "Les lignes sont numérotées dans l'ordre croissant de haut en bas et les colonnes de gauche à droite.\n",
    "\n",
    "<center><table>\n",
    "<tr> <th> Options </th><th> Effet </th></tr>\n",
    "<tr> <td> row=. . . et column=. . .   </td><td>  Numéro de ligne et le numéro de colonne</td></tr>\n",
    "<tr> <td> rowspan=. . . et columnspan=. . . </td><td> Nombre de lignes et de colonnes occupées par le widget</td></tr>\n",
    "<tr> <td> padx=. . . et pady=. . .       </td><td>   Ecart en pixels entre le widget et les bords de la grille<br />\n",
    "                                  Côté duquel le widget est collé à la grille, valeurs :</td></tr>\n",
    "<tr> <td> sticky=. . .  </td><td>   'nw','n','ne','w','center','e','sw','s','se'</td></tr>\n",
    "</table></center>\n",
    "\n",
    "\n",
    "#### widget Canvas\n",
    "\n",
    "Un ***widget Canvas*** est une aire rectangulaire destinée à recevoir des dessins (lignes, polygones), des images . . . Un Canvas peut contenir d'autres widget mais aussi d'autres types d'objets graphiques (ou items) comme des lignes, des rectangles, des ovales, des images, des textes . . .\n",
    "\n",
    "Les ***items*** sont repérés par leurs coordonnées dans un repère dont l'origine est le coin supérieur gauche du Canvas. L'axe des abscisse orienté vers la droite est le côté supérieur et l'axe des ordonnées orienté vers le bas est le côté gauche. Autrement dit le point (0 ; 0) est en haut à gauche, et les abscisses toujours positives et comptées en pixels augmentent en allant vers la droite du Canvas tandis que les ordonnées positives augmentent en allant vers le bas.\n",
    "\n",
    "Les items successivement créés dans un Canvas sont rangés dans une pile, c'est-à-dire que le dernier item créé est placé au-dessus de la pile et peut éventuellement dissimulé les items en dessous. En bas de la pile il y a le Canvas qui est visible par son fonds (option 'bg')\n",
    "\n",
    "- On crée un *Canvas* de fenêtre parent fen avec avec :"
   ]
  },
  {
   "cell_type": "code",
   "execution_count": null,
   "metadata": {
    "collapsed": false
   },
   "outputs": [],
   "source": [
    "c = Canvas(fen)"
   ]
  },
  {
   "cell_type": "markdown",
   "metadata": {},
   "source": [
    "  On peut de plus préciser des options comme width,height,bg . . .\n",
    "- Dans le Canvas c, on crée une ligne reliant le point $x_1 ; y_1$ au point $x_2 ; y_2$ avec\n"
   ]
  },
  {
   "cell_type": "code",
   "execution_count": null,
   "metadata": {
    "collapsed": false
   },
   "outputs": [],
   "source": [
    "ligne = c.create_line(x1 , y1 ,x2 , y2 ,options)"
   ]
  },
  {
   "cell_type": "markdown",
   "metadata": {},
   "source": [
    "<center><table>\n",
    "<tr> <th>Options </th><th>  Effet </th></tr>\n",
    "<tr> <td>width </td><td>   Epaisseur de la ligne en pixels </td></tr>\n",
    "<tr> <td>fill  </td><td>   Couleur de la ligne </td></tr>\n",
    "</table></center>\n",
    "\n",
    "- Dans le *Canvas* c, on crée un rectangle dont le sommet supérieur gauche et le sommet inférieur\n",
    "  droit ont pour coordonnées $x_1 ; y_1$ et $x_2 ; y_2$ avec\n"
   ]
  },
  {
   "cell_type": "code",
   "execution_count": null,
   "metadata": {
    "collapsed": false
   },
   "outputs": [],
   "source": [
    "rectangle = c.create_rectangle(x1 , y1 ,x2 , y2 ,options)"
   ]
  },
  {
   "cell_type": "markdown",
   "metadata": {},
   "source": [
    "<center><table>\n",
    "<tr> <th>Options </th><th> Effet</th></tr>\n",
    "<tr> <td>width  </td><td>  Epaisseur de la ligne en pixels</td></tr>\n",
    "<tr> <td>fill  </td><td>   Couleur de remplissage du rectangle</td></tr>\n",
    "<tr> <td>outline </td><td> Couleur du bord</td></tr>\n",
    "</table></center>\n",
    "\n",
    "- Dans le Canvas c, on crée un ovale inscrit dans un rectangle dont le sommet supérieur gauche et le sommet inférieur droit ont pour coordonnées $x_1 ; y_1$ et $x_2 ; y_2$ avec"
   ]
  },
  {
   "cell_type": "code",
   "execution_count": null,
   "metadata": {
    "collapsed": false
   },
   "outputs": [],
   "source": [
    "ovale= c.create_oval(x1 , y1 ,x2 , y2 ,options)"
   ]
  },
  {
   "cell_type": "markdown",
   "metadata": {},
   "source": [
    "   Les options sont les mêmes que pour les rectangles.  \n",
    "   Pour créer un cercle il suffit de choisir un carré comme rectangle exinscrit.\n",
    "  \n",
    "- Dans le Canvas c, on crée un texte au point de coordonnées $x ; y$ avec\n"
   ]
  },
  {
   "cell_type": "code",
   "execution_count": null,
   "metadata": {
    "collapsed": false
   },
   "outputs": [],
   "source": [
    "texte = c.create_text(x,y,options)"
   ]
  },
  {
   "cell_type": "markdown",
   "metadata": {},
   "source": [
    "\n",
    "<center><table>\n",
    "<tr> <th>Options</th><th> Effet</th></tr>\n",
    "<tr> <td>anchor </td><td>  Précise la position d'attache du texte par rapport à (x,y).<br />\n",
    "Valeurs possibles : 'n','e','s' . . . comme pour l'option sticky de la méthode grid.</td></tr>\n",
    "<tr> <td>fill  </td><td>  Couleur du texte</td></tr>\n",
    "<tr> <td>font </td><td>   Paramétrage de la police de caractères (Voir Label)</td></tr>\n",
    "<tr> <td>text  </td><td>  Chaîne de caractères contenant le texte à afficher</td></tr>\n",
    "</table></center>\n",
    "\n",
    "- Dans le Canvas c, on peut insérer une image de format gif 1 selon cette procédure :\n",
    "  - on charge l'image dans une variable globale :\n"
   ]
  },
  {
   "cell_type": "code",
   "execution_count": null,
   "metadata": {
    "collapsed": false
   },
   "outputs": [],
   "source": [
    "fichierimg = PhotoImage(file= 'chemin' )"
   ]
  },
  {
   "cell_type": "markdown",
   "metadata": {},
   "source": [
    "-   - on place l'image dans c au point de au point de coordonnées x ; y en remplissant au moins  l'option image :\n"
   ]
  },
  {
   "cell_type": "code",
   "execution_count": null,
   "metadata": {
    "collapsed": false
   },
   "outputs": [],
   "source": [
    "texte = c.create_image(x,y,image=fichierimg,anchor= 'nw' )"
   ]
  },
  {
   "cell_type": "markdown",
   "metadata": {},
   "source": [
    "- Méthodes des widget Canvas :\n",
    "\n",
    "<center><table>\n",
    "<tr> <th>   Méthode </th><th>   Effet</th></tr>\n",
    "<tr> <td>  c.itemconfig(item,option='valeur') </td><td>  Change la valeur d'une option d'un item du Canvas c</td></tr>\n",
    "<tr> <td>  c.itemcget(item,option='valeur') </td><td> Accède à la valeur d'une option d'un item du Canvas c</td></tr>\n",
    "<tr> <td>    c.tag_raise(item) </td><td> Fait monter (ou descendre) l'item dans la hiérarchie</td></tr>\n",
    "<tr> <td>    c.tag_lower(item) </td><td>  d'affichage du Canvas</td></tr>\n",
    "</table></center>\n",
    "\n",
    "- state est une option commune à tous les items précédents, elle peut prendre trois valeurs NORMAL par défaut, DISABLED qui désactive les réactions de l'item aux clics de souris et HIDDEN qui rend invisible l'item ce qui peut être intéressant.\n",
    "- Par ailleurs on peut faire référence aux items soit par le nom de variable qui leur a été assigné,   soit par leur identifiant, un entier retourné lors de leur création, soit par un tag, une chaîne de   caractère identifiant l'item. Pour avoir un tuple de tous les identifiants d'items créés dans l'ordre,   on peut appeler la méthode find_all du widget Canvas.\n"
   ]
  },
  {
   "cell_type": "markdown",
   "metadata": {},
   "source": [
    "#### Exercice 1\n",
    "   \n",
    "Tester les commandes suivantes, avec ipython3 ou dans un script,pour découvrir différentes méthodes des widget Canvas :"
   ]
  },
  {
   "cell_type": "code",
   "execution_count": 15,
   "metadata": {
    "collapsed": false
   },
   "outputs": [],
   "source": [
    " from tkinter import*"
   ]
  },
  {
   "cell_type": "code",
   "execution_count": null,
   "metadata": {
    "collapsed": false
   },
   "outputs": [],
   "source": []
  },
  {
   "cell_type": "code",
   "execution_count": null,
   "metadata": {
    "collapsed": true
   },
   "outputs": [],
   "source": []
  },
  {
   "cell_type": "code",
   "execution_count": null,
   "metadata": {
    "collapsed": true
   },
   "outputs": [],
   "source": []
  },
  {
   "cell_type": "markdown",
   "metadata": {},
   "source": [
    "## II  Gestionnaires de positionnement\n",
    "\n",
    "*(ref: http://tkinter.fdex.eu/doc/gp.html#la-methode-grid)*\n",
    "\n",
    "Par la suite nous discuterons des composants graphiques - widgets, les briques de construction de la GUI de votre application. Comment organiser les widgets dans une fenêtre ?\n",
    "\n",
    "Bien qu’il y ait différents gestionnaires de positionnement (geometry managers) dans tkinter, nous retiendrons plus spécialement le gestionnaire ***grid()***. Ce gestionnaire <<découpe>> chaque fenêtre ou cadre en une grille formée de lignes et de colonnes.\n",
    "\n",
    "- Une cellulle *(cell)* est la zone d’intersection d’une ligne et d’une colonne.\n",
    "- La largeur de chaque colonne est la largeur de la plus large cellule qu’elle contient.\n",
    "- La hauteur de chaque ligne est la hauteur de la plus large ligne qu’elle contient.\n",
    "- Pour les composants graphiques *(widgets)* qui n’occupent pas toute la surface de leur cellule, on peut indiquer quoi faire de l’espace restant : à l’extérieur du widget, ou en étirant celui-ci pour le combler dans la direction horizontale ou verticale.\n",
    "\n",
    "\n",
    "    Il est possible de regrouper (spanning) plusieurs cellule en une plus large (ou plus haute).\n",
    "\n",
    "Lorsqu’on crée un widget, il n’apparaît pas jusqu’à ce qu’il soit positionné au moyen d’un gestionnaire de positionnement. Ainsi, construction et placement du widget se font en deux temps:\n",
    "\n",
    "truc = Constructeur(parent, ...)\n",
    "truc.grid(...)\n",
    "\n",
    "où Constructeur est l’une des classes de widget comme Button, Frame, ... et parent est le widget parent dans lequel le widget enfant est construit. Tous les widgets dispose de la méthode .grid() qui s’utilise pour préciser son emplacement dans une grille.\n",
    "La méthode .grid()\n",
    "\n",
    "Pour afficher un widget w sur l’écran de votre application:\n",
    "\n",
    "w.grid(option=valeur, ...)\n",
    "\n",
    "    Cette méthode enregistre le widget w dans le gestionnaire de grille. Si vous ne faites pas ça, votre widget existera sans pour autant apparaître à l’écran. Voici les options possibles:\n",
    "    Paramètres:\t\n",
    "\n",
    "        column – Le numéro de la colonne où vous souhaitez placer votre widget en partant de zéro. Sa valeur par défaut est 0.\n",
    "        columnspan – Normalement un widget occupe seulement une cellule. Cependant, vous pouvez regrouper plusieurs cellules d’une ligne en indiquant via columnspan le nombre de cellules à regrouper. Par exemple, w.grid(row=0, column=2, columnspan=3) aura pour effet de placer w dans une cellule qui s’étale sur les colonnes 2, 3 et 4 de la ligne 0.\n",
    "        in_ – Pour enregistrer w comme enfant d’un certain widget w2, utiliser in_=w2. Le nouveau parent w2 doit-être un descendant du parent utilisé pour la construction du widget w.\n",
    "        ipadx – marge interne horizontale (en x). Cette dimension est ajoutée à l’intérieur du widget sur ses côtés gauche et droit.\n",
    "        ipady – marge interne verticale (en y). Cette dimension est ajoutée à l’intérieur du widget sur ses côtés haut et bas.\n",
    "        padx – Marge externe horizontale.\n",
    "        pady – Marge externe verticale.\n",
    "        row – Le numéro de ligne où vous souhaitez placer votre widget en partant de zéro. Sa valeur par défaut est le numéro de de la première ligne inoccupée.\n",
    "        rowspan – Normalement un widget occupe seulement une cellule. Cependant, vous pouvez regrouper plusieurs cellules d’une colonne en indiquant via rowspan le nombre de cellules à fusionner. Cette option peut-être utilisée en combinaison avec columnspan afin de préciser un bloc de cellules. Par exemple, w.grid(row=3, column=2, rowspan=4, columnspan=5) aura pour effet de placer w dans une zone obtenue en fusionnant 20 cellules, avec les numéros de lignes 3 - 6 et les numéros de colonnes 2 - 7.\n",
    "        sticky –\n",
    "\n",
    "        Cette option détermine la façon de distribuer l’espace inoccupé par un widget à l’intérieur d’une cellule.\n",
    "            Si vous ne donnez aucune valeur à l’attribut sticky, le comportement par défaut est de centrer le widget dans sa cellule.\n",
    "            Vous pouvez positionner le widget dans un des coins de la cellule en indiquant sticky='ne' (nord-est: en haut à droite), 'se' (en bas à droite), 'sw' (en bas à gauche), ou 'nw' (en haut à gauche).\n",
    "            Vous pouvez centrer le widget contre l’un des bords de la cellule en utilisant sticky='n' (centré en haut), 'e' (centré à droite), ‘s’ (centré en bas), ou ‘w’ (centré à gauche).\n",
    "            Utilisez sticky='ns' pour l’étirer verticalement tout en le laissant centré horizontalement.\n",
    "            Utilisez sticky='ew' pour l’étirer horizontalement tout en le laissant centré verticalement.\n",
    "            Utilisez sticky='nesw' pour l’étirer dans les deux directions afin de remplir la cellule.\n",
    "            Les autres combinaisons fonctionneront aussi. Par exemple, sticky='nsw' l’étirera verticalement en le plaçant contre le bord gauche de la cellule.\n",
    "\n",
    "Autres méthodes du gestionnaire de grille\n",
    "\n",
    "Ces méthodes relatives au placement dans une grille sont définies sur tous les widgets w:\n",
    "\n",
    "w.grid_bbox(column=None, row=None, col2=None, row2=None)\n",
    "\n",
    "    Retourne un tuple à 4 éléments qui décrit la boîte englobante (bounding box) de tout ou partie de la grille associée au widget w. Les deux premiers nombres sont les coordonnées x et y du coin supérieur gauche de la zone, et les deux autres sa largeur et sa hauteur.\n",
    "\n",
    "    Si vous précisez les arguments column et row, la boîte englobante retournée décrit la zone de la cellule correspondante. Si vous renseignez aussi les arguments col2 et row2, la boîte englobante retournée décrit la zone du grillage qui va de la colonne column à col2 inclus et de la ligne row à row2 inclus.\n",
    "\n",
    "    Par exemple, w.grid_bbox(0, 0, 1, 1) retourne la boîte englobante de quatre cellules et non pas une.\n",
    "\n",
    "w.grid_forget()\n",
    "\n",
    "    Cette méthode fait disparaître w de l’écran. Il existe toujours, il est simplement invisible. Vous pouvez utiliser .grid() pour le faire apparaître de nouveau, mais ses options de grille auront été oubliées.\n",
    "\n",
    "w.grid_info()\n",
    "\n",
    "    Retourne un dictionnaire dont les clés sont les noms des options de grille de w avec les valeurs correspondantes de ces options.\n",
    "\n",
    "w.grid_location(x, y)\n",
    "\n",
    "    Étant donné des coordonnées (x, y) relatives au widget conteneur, cette méthode retourne un tuple (col, row) qui décrit quelle cellule du système de grille de w contient ces coordonnées à l’écran.\n",
    "\n",
    "w.grid_propagate()\n",
    "\n",
    "    Normalement, tous les widgets propagent leurs dimensions, ce qui veut dire qu’ils s’ajustent pour s’adapter à leur contenu. Cependant, il arrive qu’on veuille forcer un widget à être d’une certaine taille indépendamment de la taille de son contenu. Pour faire cela, appeler w.grid_propagate(0) où w est le widget dont vous voulez forcer la taille.\n",
    "\n",
    "w.grid_remove()\n",
    "\n",
    "    Cette méthode ressemble à .grid_forget(), mais les options de grille ne sont pas perdues. Ainsi, si vous appellez .grid() à nouveau, les mêmes options de grilles seront utilisées.\n",
    "\n",
    "w.grid_size()\n",
    "\n",
    "    Retourne un tuple à deux éléments qui contient le nombre de colonnes et de lignes dans le système de grille de w.\n",
    "\n",
    "w.grid_slaves(row=None, column=None)\n",
    "\n",
    "    Retourne la liste des widgets gérés par w. Si aucun argument n’est fourni, la liste est exhaustive. Utilisez l’argument row= pour selectionner ceux qui se trouvent dans une ligne particulière. De même, utilisez column= pour sélectionner ceux qui se trouvent dans une colonne particulière.\n",
    "\n",
    "Configuration de la taille des lignes et des colonnes\n",
    "\n",
    "Sauf à prendre certaines précautions, la largeur d’une colonne pour un certain widget sera égal à la largeur de sa plus large cellule et la hauteur d’une ligne sera égal à la hauteur de sa plus haute cellule. L’attribut sticky controle seulement son emplacement dans la cellule s’il ne la remplit pas complètement.\n",
    "\n",
    "Si vous souhaitez controler plus finement cet ajustement automatique des colonnes et des lignes, utilisez ces méthodes sur le widget parent qui contient la grille de positionnement.\n",
    "\n",
    "w.columnconfigure(N, option=valeur, ...)\n",
    "\n",
    "    Dans la grille du widget w, configure la colonne numéro N de telle sorte que les options fournies aient les valeurs indiquées (voir plus bas).\n",
    "\n",
    "w.rowconfigure(N, option=valeur, ...)\n",
    "\n",
    "    Dans la grille du widget w, configure la ligne numéro N de telle sorte que les options fournies aient les valeurs indiquées.\n",
    "    Paramètres:\t\n",
    "\n",
    "        minsize – la taille minimum de la ligne (ou colonne) en pixels. Si il n’y a rien dans la ligne (ou colonne) indiquée, elle n’apparaîtra pas, même si vous utilisez cette option.\n",
    "        pad – marge en pixels à ajouter autour de la plus large cellule de la ligne (ou colonne).\n",
    "        weight –\n",
    "\n",
    "        Pour rendre une ligne (ou colonne) étirable lors d’un redimensionnement, utilisez cette option en fournissant une valeur qui donne le poid relatif de cette ligne (ou colonne) lors de la distribution de l’espace supplémentaire.\n",
    "\n",
    "        Par exemple, si un widget w contient une grille, le code qui suit attribura trois quarts (3/4) de l’espace supplémentaire à la première colonne et un quart (1/4) à la seconde:\n",
    "\n",
    "        w.columnconfigure(0, weight=3)\n",
    "        w.columnconfigure(1, weight=1)\n",
    "\n",
    "        Si cette option n’est pas utilisée, les lignes et colonnes ne seront pas étirées.\n"
   ]
  },
  {
   "cell_type": "code",
   "execution_count": null,
   "metadata": {
    "collapsed": true
   },
   "outputs": [],
   "source": []
  }
 ],
 "metadata": {
  "kernelspec": {
   "display_name": "Python 3",
   "language": "python",
   "name": "python3"
  },
  "language_info": {
   "codemirror_mode": {
    "name": "ipython",
    "version": 3
   },
   "file_extension": ".py",
   "mimetype": "text/x-python",
   "name": "python",
   "nbconvert_exporter": "python",
   "pygments_lexer": "ipython3",
   "version": "3.5.2+"
  }
 },
 "nbformat": 4,
 "nbformat_minor": 0
}
