{
 "cells": [
  {
   "cell_type": "markdown",
   "metadata": {},
   "source": [
    "# moteur de recherche"
   ]
  },
  {
   "cell_type": "markdown",
   "metadata": {},
   "source": [
    "## Affiner la recherche\n",
    "\n",
    "De nombreuses astuces permettent d'optimiser la recherche. Des opérateurs aux paramètres du moteur de recherche, découvrez comment affiner la recherche!\n",
    "\n",
    " \n",
    "### Les symboles pris en compte par Google\n",
    "\n",
    "Le moteur de recherche permet d'utiliser de nombreux opérateurs pour affiner une recherche. Ceux-ci fonctionnent sur le moteur classique, ainsi que sur Google Images et autres déclinaisons.\n",
    "\n",
    "- ***Les guillemets*** permettent de rechercher l'ensemble d’une expression.\n",
    "- ***Ajouter une tiret*** devant un mot permet de l'exclure de la recherche.\n",
    "- ***Ajouter un tilde (~)*** devant un mot permet d'inclure les synonymes de celui-ci.\n",
    "- ***Utiliser une étoile (&#42;)*** à la place des mots inconnus permet de les trouver : très utile lorsqu'on est à la recherche d'une expression oubliée. Exemple : Galette &#42; je t'aime.\n",
    "- ***L'opérateur OR*** permet de rechercher un mot ou un autre.\n",
    "\n",
    " \n",
    "### Ce que Google ne prend pas en compte\n",
    "\n",
    "Si Google prend en compte un certain nombre d'opérateurs, il ne regarde absolument pas :\n",
    "\n",
    "- La casse (minuscule/majuscule).\n",
    "- Les signes de ponctuation en règle générale.\n",
    "- Les caractères spéciaux, sauf &#43;, &#64;, &amp;, &#37;, &#36;, &#35;, &#45; et &#95;.\n",
    "- Les mots de structure usuels (articles courts, conjonctions&#8230;).\n",
    "\n",
    " \n",
    "### Rechercher sur un seul site\n",
    "\n",
    "L'opérateur site: permet de délimiter la recherche au site Internet de votre choix. Exemple : outils site:blogdumoderateur.com permet de découvrir les outils présentés sur votre blog préféré. Il suffit de ne pas indiquer de mot-clef dans la requête pour visualiser l'ensemble des pages indexées.\n",
    "\n",
    "  <center><img src=\"./images/recherche-delimitee-site.png\"></center>\n",
    "  \n",
    "  Obtenir des résultats de recherche dépersonnalisés\n",
    "\n",
    "Certains jugent la personnalisation des résultats comme étant une bonne chose, d’autres non. Quel que soit votre avis sur la question, il est possible de neutraliser les résultats. Il suffit d’ajouter l’opérateur &pws=0 à la fin de l’adresse URL des résultats de recherche. Vous pouvez automatiser cette action en ajoutant un moteur de recherche dans Google Chrome par exemple, avec comme adresse :\n",
    "\n",
    "https://www.google.com/search?q=%s&pws=0\n",
    "\n",
    " \n",
    "Rechercher un type de fichier spécifique\n",
    "\n",
    "Il peut être utile de limiter les résultats à un seul type de fichier. Il suffit d’ajouter filetype: suivi de l’extension choisie pour délimiter la recherche. Exemple : filetype:PDF pour rechercher des documents, ou filetype:PNG pour rechercher les images correspondantes sur Google Images.\n",
    "\n",
    " \n",
    "Afficher un aperçu des pages\n",
    "\n",
    "Avant de vous rendre sur un site référencé dans les résultats de recherche, vous pouvez afficher un aperçu visuel. Il suffit de survoler le résultat puis cliquer sur la double flèche présente à droite."
   ]
  },
  {
   "cell_type": "markdown",
   "metadata": {},
   "source": [
    "http://www.blogdumoderateur.com/astuces-recherche-google/"
   ]
  }
 ],
 "metadata": {
  "kernelspec": {
   "display_name": "Python 3",
   "language": "python",
   "name": "python3"
  },
  "language_info": {
   "codemirror_mode": {
    "name": "ipython",
    "version": 3
   },
   "file_extension": ".py",
   "mimetype": "text/x-python",
   "name": "python",
   "nbconvert_exporter": "python",
   "pygments_lexer": "ipython3",
   "version": "3.6.4+"
  },
  "toc": {
   "colors": {
    "hover_highlight": "#DAA520",
    "navigate_num": "#000000",
    "navigate_text": "#333333",
    "running_highlight": "#FF0000",
    "selected_highlight": "#FFD700",
    "sidebar_border": "#EEEEEE",
    "wrapper_background": "#FFFFFF"
   },
   "moveMenuLeft": true,
   "nav_menu": {
    "height": "118px",
    "width": "252px"
   },
   "navigate_menu": true,
   "number_sections": true,
   "sideBar": true,
   "threshold": 4,
   "toc_cell": false,
   "toc_section_display": "block",
   "toc_window_display": false,
   "widenNotebook": false
  }
 },
 "nbformat": 4,
 "nbformat_minor": 1
}
