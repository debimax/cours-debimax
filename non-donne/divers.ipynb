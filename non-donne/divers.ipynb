{
 "cells": [
  {
   "cell_type": "code",
   "execution_count": 1,
   "metadata": {
    "collapsed": false
   },
   "outputs": [
    {
     "data": {
      "application/javascript": [
       "IPython.Cell.options_default.cm_config.lineNumbers = false;"
      ],
      "text/plain": [
       "<IPython.core.display.Javascript object>"
      ]
     },
     "metadata": {},
     "output_type": "display_data"
    }
   ],
   "source": [
    "%%javascript\n",
    "IPython.Cell.options_default.cm_config.lineNumbers = false;"
   ]
  },
  {
   "cell_type": "code",
   "execution_count": 2,
   "metadata": {
    "collapsed": false
   },
   "outputs": [
    {
     "data": {
      "text/html": [
       "<style>\n",
       "\n",
       "\n",
       "div.text_cell_render { font-size: 12pt;   line-height: 145%; }\n",
       "div.text_cell_render h1{text-align: center;font-size: 24pt; color:#ff0000;  text-decoration: underline;}\n",
       "div.text_cell_render h2{font-size: 20pt;color:#ff0000;  text-decoration: underline;}\n",
       "div.text_cell_render h3{font-size: 14pt;color:#ff0000;  text-decoration: underline;}\n",
       "div.text_cell_render h4{font-size: 12pt;color:#ff0000;  text-decoration: underline; }\n",
       "div.text_cell_render h5 {font-weight: 300;}\n",
       "\n",
       "\n",
       "div.cell.code_cell { /* area that contains code + output */\n",
       "    background: #ffffff;\n",
       "    border: none;\n",
       "    border-radius: 10px;\n",
       "    padding-top: 1ex;\n",
       "}\n",
       "\n",
       "div.input_area { /* box around box with code */\n",
       "    border: none;\n",
       "    background: #f5f5f5;\n",
       "    border: 1px solid #ccc;\n",
       "    border-radius: 10px;\n",
       "    padding-top: 0.5ex;\n",
       "    padding-bottom: 0.5ex;\n",
       "    padding-left: 0.5em;\n",
       "}\n",
       "\n",
       "div.input { /* box with code */\n",
       "}\n",
       "\n",
       "div.CodeMirror { /* code font */\n",
       "    font-family: \"Inconsolata-dz\", monospace;\n",
       "    font-size: 10pt;\n",
       "}\n",
       "\n",
       "\n",
       "\n",
       "\n",
       "\n",
       "/*div.text_cell_render  code { font-size: medium; border: 3px #ababab solid; background-color: #f5f5f5;}*/\n",
       "/*.rendered_html code { border: 3px #ababab solid; background-color:  #f5f5f5;}*/\n",
       ".rendered_html blockquote { margin: 1em 2em; background: red; }\n",
       ".rendered_html ol { list-style:decimal; margin: 1em 2em; }\n",
       "\n",
       "\n",
       "</style>"
      ],
      "text/plain": [
       "<IPython.core.display.HTML object>"
      ]
     },
     "execution_count": 2,
     "metadata": {},
     "output_type": "execute_result"
    }
   ],
   "source": [
    "# Charge ma feuille de style pour nbviewer\n",
    "from IPython.core.display import HTML\n",
    "import urllib.request, urllib.parse, urllib.error\n",
    "import sys\n",
    "url='https://github.com/debimax/cours-debimax/raw/master/documents/custom.css'\n",
    "import urllib.request\n",
    "with urllib.request.urlopen(url) as response:\n",
    "    styles = response.read().decode(\"utf8\")\n",
    "styles=\"<style>\\n{}\\n</style>\".format(styles)\n",
    "HTML(styles)"
   ]
  },
  {
   "cell_type": "markdown",
   "metadata": {},
   "source": [
    "# Pour les projets\n",
    "## 1) Travailler en groupe"
   ]
  },
  {
   "cell_type": "markdown",
   "metadata": {},
   "source": [
    "Lorsque l'on travaille en groupe, la difficulté est poarfois de tout réassembler.\n",
    "\n",
    "Il est possible d'appeler une fonction contenu dans un autre fichier python donc il est possible d'utiliser une fonction crée par une autre personne dans un autre fichier.\n",
    "\n",
    "Voici un exemple."
   ]
  },
  {
   "cell_type": "markdown",
   "metadata": {},
   "source": [
    "\n",
    "***file1.py***\n",
    "```python\n",
    "import file2\n",
    "\n",
    "def fonc1(num):\n",
    "    print(num)\n",
    "    return 0\n",
    "\n",
    "def main(args):\n",
    "    nb=float(input(\"Entrer un réel:\\n\"))\n",
    "    print(\"Votre nombre est {}:  \".format(nb))\n",
    "    print(\"Le double est: {}\".format(file2.double(nb)))\n",
    "    return\n",
    "\n",
    "if __name__ == '__main__':\n",
    "    import sys\n",
    "    sys.exit(main(sys.argv))\n",
    "```"
   ]
  },
  {
   "cell_type": "markdown",
   "metadata": {},
   "source": [
    "\n",
    "***file2.py***\n",
    "```python\n",
    "def double(num):\n",
    "    return num*2\n",
    "\n",
    "def main(args):\n",
    "    print(\"ok\")\n",
    "    \n",
    "if __name__ == '__main__':\n",
    "    import sys\n",
    "    sys.exit(main(sys.argv))\n",
    "```"
   ]
  },
  {
   "cell_type": "markdown",
   "metadata": {},
   "source": [
    "Dans le ***file1.py***, on a importé le fichier ***file2.py*** puis on on exécute la fonction double avec ***file2.double()***\n",
    "\n",
    "À quoi sert la partie ***if \\_\\_name\\_\\_ == '\\_\\_main\\_\\_':***  jusqu'à la fin?\n",
    "\n",
    "Cette partie sert à une chose,  c'est d'éviter que le code soit exécuté lors de l'import depuis un autre scrite, ce que l'on ne souhaite pas en général.  \n",
    "Il ne faut pas exécuter le code file2.py mais on peut utiliser les fonctions définies dans ce fichier.\n"
   ]
  },
  {
   "cell_type": "markdown",
   "metadata": {},
   "source": [
    "## 2) écouter un son\n",
    "### a) Si on utilise tkinter"
   ]
  },
  {
   "cell_type": "markdown",
   "metadata": {},
   "source": [
    "Si vous utilisez tkinter alors il est préférable d'utiliser ***tkSnack***. Il vous faut un fihier wav.  \n",
    "Voici un exemple utilisant le fichier audio sample.wav qui se touve dans le même dossier que le fichier python.\n",
    "\n",
    "```python\n",
    "from tkinter  import *\n",
    "import  tkSnack\n",
    "import os.path\n",
    "\n",
    "def main():\n",
    "\tcurrent_dir = os.path.dirname(os.path.abspath(__file__))\n",
    "\taudio1='sample.wav'\n",
    "\troot = Tk()\n",
    "\ttkSnack.initializeSnack(root)\n",
    "\tsnd = tkSnack.Sound()\n",
    "\tb1 = Button(root, text=\"play\", command = play)\n",
    "\tb2 = Button(root, text=\"stop\", command = stop)\n",
    "\tb3 = Button(root, text=\"Quit\", command = quit)\n",
    "\tb1.grid(row=1,column=0)\n",
    "\tb2.grid(row=1,column=1)\n",
    "\tb3.grid(row=2,column=1, sticky=\"W\")\n",
    "\n",
    "    def play():\n",
    "\t\tsnd.read(current_dir+\"/\"+audio1)\n",
    "\t\tsnd.play()\n",
    "\tdef stop():\n",
    "\t\tsnd.stop()\n",
    "\troot.mainloop()\n",
    "if __name__ == '__main__':\n",
    "\tmain()\n",
    "```\n"
   ]
  },
  {
   "cell_type": "markdown",
   "metadata": {},
   "source": [
    "### b) Avec pygame\n"
   ]
  },
  {
   "cell_type": "code",
   "execution_count": null,
   "metadata": {
    "collapsed": true
   },
   "outputs": [],
   "source": []
  }
 ],
 "metadata": {
  "celltoolbar": "Raw Cell Format",
  "kernelspec": {
   "display_name": "Python 3",
   "language": "python",
   "name": "python3"
  },
  "language_info": {
   "codemirror_mode": {
    "name": "ipython",
    "version": 3
   },
   "file_extension": ".py",
   "mimetype": "text/x-python",
   "name": "python",
   "nbconvert_exporter": "python",
   "pygments_lexer": "ipython3",
   "version": "3.5.2+"
  }
 },
 "nbformat": 4,
 "nbformat_minor": 0
}
