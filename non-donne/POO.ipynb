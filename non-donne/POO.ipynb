{
 "cells": [
  {
   "cell_type": "code",
   "execution_count": 1,
   "metadata": {},
   "outputs": [
    {
     "data": {
      "application/javascript": [
       "IPython.Cell.options_default.cm_config.lineNumbers = true"
      ],
      "text/plain": [
       "<IPython.core.display.Javascript object>"
      ]
     },
     "metadata": {},
     "output_type": "display_data"
    }
   ],
   "source": [
    "%%javascript\n",
    "IPython.Cell.options_default.cm_config.lineNumbers = true"
   ]
  },
  {
   "cell_type": "code",
   "execution_count": 1,
   "metadata": {},
   "outputs": [
    {
     "data": {
      "text/html": [
       "<style>\n",
       "/* Pour le titre comme cela il n'y a pas de numérotation au */\n",
       "#titre{\n",
       "font-size: 24pt; \n",
       "color:#ff0000;\n",
       "text-decoration: underline;\n",
       "text-align: center;\n",
       "font-weight: bold;\n",
       "}\n",
       "\n",
       "div.text_cell_render { font-size: 12pt;   line-height: 145%; }\n",
       "div.text_cell_render h1{font-size: 24pt; color:#0000ff;  text-decoration: underline;}\n",
       "div.text_cell_render h2{font-size: 18pt;color:#0000ff;  text-decoration: underline;}\n",
       "div.text_cell_render h3{font-size: 14pt;color:#0000ff;  text-decoration: underline;}\n",
       "div.text_cell_render h4{font-size: 12pt;color:#0000ff;  text-decoration: underline; }\n",
       "div.text_cell_render h5 {font-weight: 300;}\n",
       "\n",
       "\n",
       "div.cell.code_cell { /* area that contains code + output */\n",
       "    background: #ffffff;\n",
       "    border: none;\n",
       "    border-radius: 10px;\n",
       "    padding-top: 1ex;\n",
       "}\n",
       "\n",
       "div.input_area { /* box around box with code */\n",
       "    border: none;\n",
       "    background: #f5f5f5;\n",
       "    border: 1px solid #ccc;\n",
       "    border-radius: 10px;\n",
       "    padding-top: 0.5ex;\n",
       "    padding-bottom: 0.5ex;\n",
       "    padding-left: 0.5em;\n",
       "}\n",
       "\n",
       "div.input { /* box with code */\n",
       "}\n",
       "\n",
       "div.CodeMirror { /* code font */\n",
       "    font-family: \"Inconsolata-dz\", monospace;\n",
       "    font-size: 10pt;\n",
       "}\n",
       "\n",
       "\n",
       "\n",
       "\n",
       "\n",
       "/*div.text_cell_render  code { font-size: medium; border: 3px #ababab solid; background-color: #f5f5f5;}*/\n",
       "/*.rendered_html code { border: 3px #ababab solid; background-color:  #f5f5f5;}*/\n",
       ".rendered_html blockquote { margin: 1em 2em; background: red; }\n",
       ".rendered_html ol { list-style:decimal; margin: 1em 2em; }\n",
       "\n",
       "\n",
       "/* classe pour inverse video */\n",
       ".reverse{\n",
       "    background-color: black;\n",
       "    color: white;\n",
       "}\n",
       "/*  strick   <s>texte/<s>*/\n",
       ".barre{\n",
       "\n",
       "}\n",
       "\n",
       "\n",
       "</style>"
      ],
      "text/plain": [
       "<IPython.core.display.HTML object>"
      ]
     },
     "execution_count": 1,
     "metadata": {},
     "output_type": "execute_result"
    }
   ],
   "source": [
    "# Charge ma feuille de style pour nbviewer\n",
    "from IPython.core.display import HTML\n",
    "from  urllib.request import urlopen\n",
    "# import urllib.request, urllib.parse, urllib.error\n",
    "\n",
    "url='https://github.com/debimax/cours-debimax/raw/master/static/custom.css'\n",
    "with urlopen(url) as response:\n",
    "    styles = response.read().decode(\"utf8\")\n",
    "styles=\"<style>\\n{}\\n</style>\".format(styles)\n",
    "HTML(styles)"
   ]
  },
  {
   "cell_type": "markdown",
   "metadata": {},
   "source": [
    "<div id=\"titre\"> Programmation orienté objet</div>\n",
    "\n"
   ]
  },
  {
   "cell_type": "markdown",
   "metadata": {},
   "source": [
    "# Objet et caractéristiques\n",
    "\n",
    "\n",
    "Tout d’abord, qu’est-ce qu’un objet ? En introduction, nous avons dit qu’un objet avait des propriétés et pouvait être manipulé par des opérations, c’est bien beau tout ça mais qu’est-ce que ça peut bien vouloir dire concrétement ?\n",
    "\n",
    "En introduction, nous avons décrit un objet comme une valeur possédant des propriétés et manipulée par des opérations.\n",
    "\n",
    "Concrètement, un objet est constitué de 3 caractéristiques :\n",
    "\n",
    "- Un type, qui identifie le rôle de l’objet (int, str et list sont des exemples de types d’objets) ;\n",
    "- Des attributs, qui sont les propriétés de l’objet ;\n",
    "- Des méthodes, les opérations qui s’appliquent sur l’objet.\n",
    "\n",
    "Pour vous éclairer, prenons le code suivant :\n",
    "\n"
   ]
  },
  {
   "cell_type": "code",
   "execution_count": 5,
   "metadata": {},
   "outputs": [
    {
     "data": {
      "text/plain": [
       "5"
      ]
     },
     "execution_count": 5,
     "metadata": {},
     "output_type": "execute_result"
    }
   ],
   "source": [
    "number = 5 # On instancie une variable `number` de type `int`\n",
    "number.numerator # `numerator` est un attribut de `number` 5 "
   ]
  },
  {
   "cell_type": "code",
   "execution_count": 9,
   "metadata": {},
   "outputs": [
    {
     "data": {
      "text/plain": [
       "[5]"
      ]
     },
     "execution_count": 9,
     "metadata": {},
     "output_type": "execute_result"
    }
   ],
   "source": [
    "values = [] # Variable `values` de type `list` \n",
    "values.append(number) # `append` est une méthode de `values` \n",
    "values"
   ]
  },
  {
   "cell_type": "markdown",
   "metadata": {},
   "source": [
    "Toute valeur en Python est donc un objet.\n",
    "\n",
    "\n",
    "\n",
    "## Il a une drôle de tête ce type-là\n",
    "\n",
    "\n",
    "Ainsi, tout objet est associé à un type. Un type définit la sémantique d’un objet. On sait par exemple que les objets de type int sont des nombres entiers, que l’on peut les additionner, les soustraire, etc.\n",
    "\n",
    "Pour la suite de ce cours, nous utiliserons un type User représentant un utilisateur sur un quelconque logiciel. Nous pouvons créer ce nouveau type à l’aide du code suivant :"
   ]
  },
  {
   "cell_type": "code",
   "execution_count": 11,
   "metadata": {},
   "outputs": [],
   "source": [
    "class User:  \n",
    "    pass"
   ]
  },
  {
   "cell_type": "markdown",
   "metadata": {},
   "source": [
    "Nous reviendrons sur ce code par la suite, retenez simplement que nous avons maintenant à notre disposition un type User.\n",
    "\n",
    "Pour créer un objet de type User, il nous suffit de procéder ainsi :\n",
    "\n",
    "```python\n",
    "john = User()\n",
    "```\n",
    "\n",
    "On dit alors que john est une instance de *User*."
   ]
  },
  {
   "cell_type": "markdown",
   "metadata": {},
   "source": [
    "## Montre-moi tes attributs\n",
    "\n",
    "\n",
    "Ensuite, nous avons dit qu’un objet était constitué d’attributs. Ces derniers représentent des valeurs propres à l’objet.\n",
    "\n",
    "Nos objets de type User pourraient par exemple contenir un identifiant (id), un nom (name) et un mot de passe (password).\n",
    "\n",
    "En Python, nous pouvons facilement associer des valeurs à nos objets :"
   ]
  },
  {
   "cell_type": "code",
   "execution_count": 29,
   "metadata": {},
   "outputs": [
    {
     "name": "stdout",
     "output_type": "stream",
     "text": [
      "Bonjour, je suis john.\n",
      "Mon id est le 1.\n",
      "Mon mot de passe est 12345.\n"
     ]
    }
   ],
   "source": [
    "class User: \n",
    "    pass \n",
    "\n",
    "### Instanciation d'un objet de type User \n",
    "john = User() \n",
    "\n",
    "### Définition d'attributs pour cet objet \n",
    "john.id = 1 \n",
    "john.name = 'john' \n",
    "john.password = '12345' \n",
    "print('Bonjour, je suis {}.'.format(john.name)) \n",
    "print('Mon id est le {}.'.format(john.id)) \n",
    "print('Mon mot de passe est {}.'.format(john.password))"
   ]
  },
  {
   "cell_type": "markdown",
   "metadata": {},
   "source": [
    "Nous avons instancié un objet nommé john, de type User, auquel nous avons attribué trois attributs. Puis nous avons affiché les valeurs de ces attributs.\n",
    "\n",
    "Notez que l’on peut redéfinir la valeur d’un attribut, et qu’un attribut peut aussi être supprimé à l’aide de l’opérateur del."
   ]
  },
  {
   "cell_type": "code",
   "execution_count": 26,
   "metadata": {},
   "outputs": [
    {
     "data": {
      "text/plain": [
       "'mot de passe plus sécurisé !'"
      ]
     },
     "execution_count": 26,
     "metadata": {},
     "output_type": "execute_result"
    }
   ],
   "source": [
    "john.password = 'mot de passe plus sécurisé !'\n",
    "john.password"
   ]
  },
  {
   "cell_type": "code",
   "execution_count": 15,
   "metadata": {},
   "outputs": [
    {
     "ename": "AttributeError",
     "evalue": "'User' object has no attribute 'password'",
     "output_type": "error",
     "traceback": [
      "\u001b[0;31m---------------------------------------------------------------------------\u001b[0m",
      "\u001b[0;31mAttributeError\u001b[0m                            Traceback (most recent call last)",
      "\u001b[0;32m<ipython-input-15-09e3aee98082>\u001b[0m in \u001b[0;36m<module>\u001b[0;34m()\u001b[0m\n\u001b[1;32m      1\u001b[0m \u001b[0;32mdel\u001b[0m \u001b[0mjohn\u001b[0m\u001b[0;34m.\u001b[0m\u001b[0mpassword\u001b[0m\u001b[0;34m\u001b[0m\u001b[0m\n\u001b[0;32m----> 2\u001b[0;31m \u001b[0mjohn\u001b[0m\u001b[0;34m.\u001b[0m\u001b[0mpassword\u001b[0m\u001b[0;34m\u001b[0m\u001b[0m\n\u001b[0m",
      "\u001b[0;31mAttributeError\u001b[0m: 'User' object has no attribute 'password'"
     ]
    }
   ],
   "source": [
    "del john.password\n",
    "john.password"
   ]
  },
  {
   "cell_type": "markdown",
   "metadata": {},
   "source": [
    "***attention*** Il est généralement déconseillé de nommer une valeur de la même manière qu’une fonction *built-in*.  \n",
    "On évitera par exemple d'avoir une variable ***id, type*** ou ***list***.  \n",
    "Dans le cas d’un attribut, cela n’est pas gênant car ne fait pas partie du même espace de noms.  \n",
    "En effet, john.id n’entre pas en conflit avec id.\n",
    "\n",
    "## Discours de la méthode\n",
    "\n",
    "\n",
    "Enfin, les méthodes sont les opérations applicables sur les objets. Ce sont en fait des fonctions qui recoivent notre objet en premier paramètre.\n",
    "\n",
    "Nos objets User ne contiennent pas encore de méthode, nous découvrirons comment en ajouter dans le chapitre suivant. Mais nous pouvons déjà imaginer une méthode check_pwd (check password) pour vérifier qu’un mot de passe entré correspond bien au mot de passe de notre utilisateur."
   ]
  },
  {
   "cell_type": "code",
   "execution_count": 27,
   "metadata": {},
   "outputs": [
    {
     "data": {
      "text/plain": [
       "False"
      ]
     },
     "execution_count": 27,
     "metadata": {},
     "output_type": "execute_result"
    }
   ],
   "source": [
    "def user_check_pwd(user, password):\n",
    "    return user.password == password\n",
    "user_check_pwd(john, 'toto')"
   ]
  },
  {
   "cell_type": "code",
   "execution_count": 30,
   "metadata": {},
   "outputs": [
    {
     "data": {
      "text/plain": [
       "True"
      ]
     },
     "execution_count": 30,
     "metadata": {},
     "output_type": "execute_result"
    }
   ],
   "source": [
    "user_check_pwd(john, '12345')"
   ]
  },
  {
   "cell_type": "markdown",
   "metadata": {},
   "source": [
    "Les méthodes recevant l’objet en paramètre, elles peuvent en lire et modifier les attributs. Souvenez-vous par exemple de la méthode append des listes, qui permet d’insérer un nouvel élément, elle modifie bien la liste en question."
   ]
  },
  {
   "cell_type": "markdown",
   "metadata": {},
   "source": [
    "# Classes\n",
    "\n",
    "Une classe est en fait la définition d’un type. int, str ou encore list sont des exemples de classes. User en est une autre.\n",
    "\n",
    "Une classe décrit la structure des objets du type qu’elle définit : quelles méthodes vont être applicables sur ces objets.\n",
    "\n",
    "## La classe à Dallas\n",
    "\n",
    "\n",
    "On définit une classe à l’aide du mot-clef class survolé plus tôt :"
   ]
  },
  {
   "cell_type": "code",
   "execution_count": 33,
   "metadata": {},
   "outputs": [],
   "source": [
    "class User: \n",
    "    pass"
   ]
  },
  {
   "cell_type": "markdown",
   "metadata": {},
   "source": [
    "(l’instruction pass sert ici à indiquer à Python que le corps de notre classe est vide)\n",
    "\n",
    "Il est conseillé en Python de nommer sa classe en CamelCase, c’est à dire qu’un nom est composé d’une suite de mots dont la première lettre est une capitale. On préférera par exemple une classe MonNomDeClasse que mon_nom_de_classe. Exception faite des types builtins qui sont couramment écrits en lettres minuscules.\n",
    "\n",
    "On instancie une classe de la même manière qu’on appelle une fonction, en suffixant son nom d’une paire de parenthèses. Cela est valable pour notre classe User, mais aussi pour les autres classes évoquées plus haut."
   ]
  },
  {
   "cell_type": "code",
   "execution_count": 34,
   "metadata": {},
   "outputs": [
    {
     "data": {
      "text/plain": [
       "<__main__.User at 0x7f65fc557048>"
      ]
     },
     "execution_count": 34,
     "metadata": {},
     "output_type": "execute_result"
    }
   ],
   "source": [
    "User()"
   ]
  },
  {
   "cell_type": "code",
   "execution_count": 35,
   "metadata": {},
   "outputs": [
    {
     "data": {
      "text/plain": [
       "0"
      ]
     },
     "execution_count": 35,
     "metadata": {},
     "output_type": "execute_result"
    }
   ],
   "source": [
    "int()"
   ]
  },
  {
   "cell_type": "code",
   "execution_count": 36,
   "metadata": {},
   "outputs": [
    {
     "data": {
      "text/plain": [
       "''"
      ]
     },
     "execution_count": 36,
     "metadata": {},
     "output_type": "execute_result"
    }
   ],
   "source": [
    " str()"
   ]
  },
  {
   "cell_type": "code",
   "execution_count": 37,
   "metadata": {},
   "outputs": [
    {
     "data": {
      "text/plain": [
       "[]"
      ]
     },
     "execution_count": 37,
     "metadata": {},
     "output_type": "execute_result"
    }
   ],
   "source": [
    "list()"
   ]
  },
  {
   "cell_type": "markdown",
   "metadata": {},
   "source": [
    "La classe ***User*** est identique à celle du chapitre précédent, elle ne comporte aucune méthode. Pour définir une méthode dans une classe, il suffit de procéder comme pour une définition de fonction, mais dans le corps de la classe en question."
   ]
  },
  {
   "cell_type": "code",
   "execution_count": 38,
   "metadata": {},
   "outputs": [],
   "source": [
    "class User: \n",
    "    def check_pwd(self, password):\n",
    "        return self.password == password"
   ]
  },
  {
   "cell_type": "markdown",
   "metadata": {},
   "source": [
    "Notre nouvelle classe User possède maintenant une méthode ***check_pwd*** applicable sur tous ses objets."
   ]
  },
  {
   "cell_type": "code",
   "execution_count": 39,
   "metadata": {},
   "outputs": [
    {
     "data": {
      "text/plain": [
       "False"
      ]
     },
     "execution_count": 39,
     "metadata": {},
     "output_type": "execute_result"
    }
   ],
   "source": [
    "john = User()\n",
    "john.id = 1\n",
    "john.name = 'john'\n",
    "john.password = '12345'\n",
    "john.check_pwd('toto')"
   ]
  },
  {
   "cell_type": "code",
   "execution_count": 40,
   "metadata": {},
   "outputs": [
    {
     "data": {
      "text/plain": [
       "True"
      ]
     },
     "execution_count": 40,
     "metadata": {},
     "output_type": "execute_result"
    }
   ],
   "source": [
    "john.check_pwd('12345')"
   ]
  },
  {
   "cell_type": "markdown",
   "metadata": {},
   "source": [
    "\n",
    "Quel est ce self reçu en premier paramètre par check_pwd ? Il s’agit simplement de l’objet sur lequel on applique la méthode, comme expliqué dans le chapitre précédent. Les autres paramètres de la méthode arrivent après.\n",
    "\n",
    "La méthode étant définie au niveau de la classe, elle n’a que ce moyen pour savoir quel objet est utilisé. C’est un comportement particulier de Python, mais retenez simplement qu’appeler ***john.check_pwd('12345')*** équivaut à l’appel ***User.check_pwd(john, '12345')***. C’est pourquoi john correspondra ici au paramère self de notre méthode.\n",
    "\n",
    "self n’est pas un mot-clef du langage Python, le paramètre pourrait donc prendre n’importe quel autre nom. Mais il conservera toujours ce nom par convention.\n",
    "\n",
    "Notez aussi, dans le corps de la méthode check_pwd, que password et self.password sont bien deux valeurs distinctes : la première est le paramètre reçu par la méthode, tandis que la seconde est l’attribut de notre objet.\n",
    "\n",
    "\n",
    "## Argumentons pour construire\n"
   ]
  },
  {
   "cell_type": "code",
   "execution_count": null,
   "metadata": {},
   "outputs": [],
   "source": []
  }
 ],
 "metadata": {
  "kernelspec": {
   "display_name": "Python 3",
   "language": "python",
   "name": "python3"
  },
  "language_info": {
   "codemirror_mode": {
    "name": "ipython",
    "version": 3
   },
   "file_extension": ".py",
   "mimetype": "text/x-python",
   "name": "python",
   "nbconvert_exporter": "python",
   "pygments_lexer": "ipython3",
   "version": "3.6.4+"
  },
  "toc": {
   "colors": {
    "hover_highlight": "#DAA520",
    "navigate_num": "#000000",
    "navigate_text": "#333333",
    "running_highlight": "#FF0000",
    "selected_highlight": "#FFD700",
    "sidebar_border": "#EEEEEE",
    "wrapper_background": "#FFFFFF"
   },
   "moveMenuLeft": true,
   "nav_menu": {
    "height": "12px",
    "width": "252px"
   },
   "navigate_menu": true,
   "number_sections": true,
   "sideBar": true,
   "threshold": 4,
   "toc_cell": false,
   "toc_section_display": "block",
   "toc_window_display": false,
   "widenNotebook": false
  }
 },
 "nbformat": 4,
 "nbformat_minor": 2
}
