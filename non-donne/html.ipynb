{
 "cells": [
  {
   "cell_type": "markdown",
   "metadata": {},
   "source": [
    "#Cours en test"
   ]
  },
  {
   "cell_type": "markdown",
   "metadata": {},
   "source": [
    "# 4 html"
   ]
  },
  {
   "cell_type": "markdown",
   "metadata": {},
   "source": [
    "## a. Balises de base\n",
    "<table><tr><th>Balises</th><th>Description.</th></tr>\n",
    "<tr><td>&lt;!DOCTYPE&gt;</td><td>Définit le type de document.</td></tr>\n",
    "<tr><td>&lt;html&gt;</td><td> Définit un document HTML.</td></tr>\n",
    "<tr><td>&lt;title&gt;</td><td> Définit un titre pour le document.</td></tr>\n",
    "<tr><td>&lt;body&gt;</td><td> Définit le corps de document.</td></tr>\n",
    "<tr><td>&lt;h1&gt; à &lt;h6&gt;</td><td> Définit les titre l'entête HTML.</td></tr>\n",
    "<tr><td>&lt;header&gt;</td><td> Définit l'entête HTML.</td></tr>\n",
    "<tr><td>&lt;p&gt;</td><td> \tDéfinit un paragraphe</td></tr>\n",
    "<tr><td>&lt;br&gt;</td><td> Insère un seul saut de ligne </td></tr>\n",
    "<!-- <tr><td>&lt;hr&gt;</td><td> Définit un changement thématique dans le contenu </td></tr> -->\n",
    "<tr><td>&lt;!--...--&gt;</td><td> Définit un commentaire </td></tr>\n",
    "</table>"
   ]
  },
  {
   "cell_type": "markdown",
   "metadata": {},
   "source": [
    "## b. formatage \n",
    "<table><tr><th>Balises</th><th>Description</th></tr>\n",
    "<tr><td>&lt;acronym&gt; </td><td><i>Non pris en charge en HTML5</i>. Utilisez &lt;abbr&gt;  au lieu.<br />\n",
    "Définit un acronyme.</td></tr>\n",
    "<tr><td>&lt;abbr&gt; </td><td>Defines an abbreviation or an acronym.</td></tr>\n",
    "<tr><td>&lt;address&gt; </td><td>Définit les coordonnées de l'auteur(propriétaire) d'un document(article).</td></tr>\n",
    "<tr><td>&lt;b&gt; </td><td>Définit le texte en gras.</td></tr>\n",
    "<tr><td>&lt;bdi&gt; </td><td>Isole une portée (span) de texte pouvant être formaté dans une direction différente de celle du texte qui l'entoure.</td></tr>\n",
    "<tr><td>&lt;bdo&gt; </td><td>Remplace la direction de texte actuel.</td></tr>\n",
    "<tr><td>&lt;big&gt; </td><td><i>Non pris en charge en HTML5</i>. Utilisez CSS à la place.<br />Définit texte en grand.</td></tr>\n",
    "<tr><td>&lt;blockquote&gt; </td><td>Définit une section qui est cité d'une autre source</td></tr>\n",
    "<tr><td>&lt;center&gt; </td><td><i>Non pris en charge en HTML5. Utilisez CSS à la place</i>. Définit texte centré.</td></tr>\n",
    "<tr><td>&lt;cite&gt; </td><td>Définit le titre d'une œuvre.</td></tr>\n",
    "<tr><td>&lt;code&gt; </td><td>Définit un morceau de code informatique.</td></tr>\n",
    "<tr><td>&lt;del&gt; </td><td>Définit le texte qui a été supprimé d'un document.</td></tr>\n",
    "<tr><td>&lt;dfn&gt; </td><td>dfn (pour Definition Element) représente la définition d'un terme.</td></tr>\n",
    "<tr><td>&lt;em&gt; </td><td> Marquer un texte sur lequel on veut insister.</td></tr>\n",
    "<tr><td>&lt;font&gt; </td><td><i>Non pris en charge en HTML5. Utilisez CSS à la place</i>. Définit la police, la couleur, et la taille du texte.</td></tr>\n",
    "<tr><td>&lt;i&gt; </td><td>représente un morceau de texte qui se différencie du texte principal. Cela peut par exemple être le cas pour des termes techniques, l'expression des pensées d'un personnage ... </td></tr>\n",
    "<tr><td>&lt;ins&gt; </td><td>Définit un texte qui a été inséré dans un document.</td></tr>\n",
    "<tr><td>&lt;kbd&gt; </td><td>Définit la saisie au clavier.</td></tr>\n",
    "<tr><td>&lt;mark&gt; </td><td>Définit un texte marquée(mis en évidence).</td></tr>\n",
    "<tr><td>&lt;meter&gt; </td><td>Définit une mesure scalaire dans une gamme (ou une proportion) connue.</td></tr>\n",
    "<tr><td>&lt;pre&gt; </td><td>Définit texte préformaté.</td></tr>\n",
    "<tr><td>&lt;progress&gt; </td><td>Représente la progression d'une tâche.</td></tr>\n",
    "<tr><td>&lt;q&gt; </td><td>Définit une courte citation.</td></tr>\n",
    "<tr><td>&lt;rp&gt; </td><td>Définit ce qui fera office de parenthèse aux navigateurs qui n'offrent pas le support des annotations Ruby.</td></tr>\n",
    "<tr><td>&lt;rt&gt; </td><td>Définit une explication/prononciation des caractères (pour la typographie Asie de l'Est).</td></tr>\n",
    "<tr><td>&lt;ruby&gt; </td><td>Définit une annotation rubis (pour la typographie Asie de l'Est).</td></tr>\n",
    "<tr><td>&lt;s&gt; </td><td> Affiche du texte barré au sens où celui-ci n'est plus plus d'actualité ou n'est plus pertinent. L'élément s ne doit pas être utilisé pour indiquer des suppressions.</td></tr>\n",
    "<tr><td>&lt;samp&gt; </td><td><it>(Sample Text)</it> Produit un élément en bloc affiché avec la police monotype par défaut du navigateur. Cet élément a été conçu pour représenter des informations produites par un programme informatique.</td></tr>\n",
    "<tr><td>&lt;small&gt; </td><td>Définit un texte plus petit.</td></tr>\n",
    "<tr><td>&lt;strike&gt; </td><td><i>Non pris en charge en HTML5</i>. Utilisez &lt;del&gt; à la place.<br />Définit un texte barré</td></tr>\n",
    "<tr><td>&lt;strong&gt; </td><td>Définit un texte important.</td></tr>\n",
    "<tr><td>&lt;sub&gt; </td><td>Définit un texte indicé.</td></tr>\n",
    "<tr><td>&lt;sup&gt; </td><td>Définit un texte en exposant.</td></tr>\n",
    "<tr><td>&lt;time&gt; </td><td>Définit une date/heure.</td></tr>\n",
    "<tr><td>&lt;tt&gt; </td><td><i>Non pris en charge en HTML5. Utilisez CSS à la place</i>. Définit le texte de téléscripteur.</td></tr>\n",
    "<tr><td>&lt;u&gt; </td><td> (Underline) permet d'afficher un texte souligné. </td></tr>\n",
    "<tr><td>&lt;var&gt; </td><td>Définit une variable.</td></tr>\n",
    "<tr><td>&lt;wbr&gt; </td><td>Définit un possible saut de ligne.</td></tr>\n",
    "</table>"
   ]
  },
  {
   "cell_type": "markdown",
   "metadata": {},
   "source": [
    "## c. Formulaires et entrée\n",
    "\n",
    "<table><tr><th>Balises</th><th>Description</th></tr>\n",
    "<tr><td>&lt;form&gt;</td><td>Définit un formulaire HTML pour l'entrée de l'utilisateur.</td></tr>\n",
    "<tr><td>&lt;input&gt;</td><td>Définit un contrôle d'entrée.</td></tr>\n",
    "<tr><td>&lt;textarea&gt;</td><td>définit un contrôle d'entrée multiligne (zone de texte).</td></tr>\n",
    "<tr><td>&lt;touche&gt;</td><td>Définit un bouton cliquable.</td></tr>\n",
    "<tr><td>&lt;select&gt;</td><td>Définit une liste déroulante.</td></tr>\n",
    "<tr><td>&lt;optgroup&gt;</td><td>Définit un groupe d'options connexes dans une liste déroulante.</td></tr>\n",
    "<tr><td>&lt;option&gt;</td><td>Définit une option dans une liste déroulante.</td></tr>\n",
    "<tr><td>&lt;label&gt;</td><td>Définit une étiquette pour un élément &lt;input>.</td></tr>\n",
    "<tr><td>&lt;fieldset&gt;</td><td>Groupes liés éléments sous une forme.</td></tr>\n",
    "<tr><td>&lt;legend&gt;</td><td>Définit une légende pour un élément &lt;fieldset>.</td></tr>\n",
    "<tr><td>&lt;datalist&gt;</td><td>Indique une liste d'options prédéfinies pour les contrôles d'entrée.</td></tr>\n",
    "<tr><td>&lt;keygen&gt;</td><td>définit un champ de générateur de clé à paire (pour formes).</td></tr>\n",
    "<tr><td>&lt;output&gt;</td><td>Définit le résultat d'un calcul.</td></tr>\n",
    "\n",
    "</table>\n"
   ]
  },
  {
   "cell_type": "markdown",
   "metadata": {},
   "source": [
    "## d. Images\n",
    "\n",
    "<table><tr><th>Balises</th><th>Description</th></tr>\n",
    "<tr><td>&lt;img&gt;</td><td>Définit une image.</td></tr>\n",
    "<tr><td>&lt;carte&gt;</td><td>Définit une image-map côté client.</td></tr>\n",
    "<tr><td>&lt;area&gt;</td><td>définit une zone dans une image-carte.</td></tr>\n",
    "<tr><td>&lt;canvas&gt;</td><td>Utilisé pour dessiner des graphiques, à la volée, par l'intermédiaire de scripts (habituellement JavaScript).</td></tr>\n",
    "<tr><td>&lt;figcaption&gt;</td><td>Définit une légende pour un *&lt;figure&gt;* élément.</td></tr>\n",
    "<tr><td>&lt;figure&gt;</td><td>Indique contenu autonome.</td></tr>\n",
    "</table>"
   ]
  },
  {
   "cell_type": "markdown",
   "metadata": {},
   "source": [
    "## e.  Audio/Video\n",
    "\n",
    "<table><tr><th>Balises</th><th>Description</th></tr>\n",
    "<tr><td>&lt;audio&gt;</td><td>Définit contenu sonore.</td></tr>\n",
    "<tr><td>&lt;source&gt;</td><td>Définit multiples ressources médiatiques pour les éléments des médias (*&lt;video&gt;* et *&lt;audio&gt;*).</td></tr>\n",
    "<tr><td>&lt;piste&gt;</td><td>Définit pistes de texte pour les éléments des médias (*&lt;video&gt;* et *&lt;audio&gt;*).</td></tr>\n",
    "<tr><td>&lt;video&gt;</td><td>Définit une vidéo ou un film.</td></tr>\n",
    "</table>"
   ]
  },
  {
   "cell_type": "markdown",
   "metadata": {},
   "source": [
    "## f.  Liens\n",
    "\n",
    "<table><tr><th>Balises</th><th>Description</th></tr>\n",
    "<tr><td>&lt;a&gt;</td><td>Définit un hyperlien.</td></tr>\n",
    "<tr><td>&lt;link&gt;</td><td>définit la relation entre un document et une ressource externe (les plus utilisés pour relier aux feuilles de style).</td></tr>\n",
    "<tr><td>&lt;nav&gt;</td><td>Définit les liens de navigation.</td></tr>\n",
    "</table>"
   ]
  },
  {
   "cell_type": "markdown",
   "metadata": {},
   "source": [
    "## g. Listes\n",
    "\n",
    "<table><tr><th>Balises</th><th>Description</th></tr>\n",
    "<tr><td>&lt;ul&gt;</td><td>Définit une liste non ordonnée.</td></tr>\n",
    "<tr><td>&lt;ol&gt;</td><td>Définit une liste ordonnée.</td></tr>\n",
    "<tr><td>&lt;li&gt;</td><td>Définit un élément de la liste.</td></tr>\n",
    "<tr><td>&lt;dir&gt;</td><td>*Non pris en charge en HTML5. Utilisez &lt;ul&gt;.*<br />\n",
    "Définit une liste de répertoire.</td></tr>\n",
    "<tr><td>&lt;dl&gt;</td><td>définit une liste de description.</td></tr>\n",
    "<tr><td>&lt;dt&gt;</td><td>Définit un terme/nom dans une liste de description.</td></tr>\n",
    "<tr><td>&lt;dd&gt;</td><td>Définit une description d'un terme/nom dans une liste de description.</td></tr>\n",
    "<tr><td>&lt;menu&gt;</td><td>Définit une liste/menu de commandes.</td></tr>\n",
    "<tr><td>&lt;menuitem&gt;</td><td>Définit un élément de commande/Menu que l'utilisateur peut invoquer à partir d'un menu popup.</td></tr>\n",
    "</table>\n",
    "\n"
   ]
  },
  {
   "cell_type": "markdown",
   "metadata": {},
   "source": [
    "## h.  Tables\n",
    "\n",
    "<table><tr><th>Balises</th><th>Description</th></tr>\n",
    "<tr><td>&lt;table&gt;</td><td>définit une table.</td></tr>\n",
    "<tr><td>&lt;caption&gt;</td><td>Définit une légende de table.</td></tr>\n",
    "<tr><td>&lt;th&gt;</td><td>définit une cellule d'en-tête dans un tableau.</td></tr>\n",
    "<tr><td>&lt;tr&gt;</td><td>Définit une ligne dans une table.</td></tr>\n",
    "<tr><td>&lt;td&gt;</td><td>Définit une cellule dans un tableau.</td></tr>\n",
    "<tr><td>&lt;thead&gt;</td><td>Groupes le contenu d'en-tête dans un tableau.</td></tr>\n",
    "<tr><td>&lt;tbody&gt;</td><td>Groupes le contenu du corps dans un tableau.</td></tr>\n",
    "<tr><td>&lt;tfoot&gt;</td><td>Groupes le contenu du pied de page dans un tableau.</td></tr>\n",
    "<tr><td>&lt;col&gt;</td><td>spécifie les propriétés de chaque colonne dans un &lt;colgroup&gt; élément.</td></tr>\n",
    "<tr><td>&lt;colgroup&gt;</td><td>Indique un groupe d'une ou plusieurs colonnes dans un tableau de mise en forme.</td></tr>\n",
    "</table>"
   ]
  },
  {
   "cell_type": "markdown",
   "metadata": {},
   "source": [
    "## i.  Styles and Semantics\n",
    "\n",
    "<table><tr><th>Balises</th><th>Description</th></tr>\n",
    "<tr><td>&lt;style&gt;</td><td>Définit informations de style pour un document.</td></tr>\n",
    "<tr><td>&lt;div&gt;</td><td>définit une section dans un document.</td></tr>\n",
    "<tr><td>&lt;span&gt;</td><td>définit une section dans un document.</td></tr>\n",
    "<tr><td>&lt;header&gt;</td><td>Définit un en-tête d'un document ou de l'article.</td></tr>\n",
    "<tr><td>&lt;hgroup&gt;</td><td>définit un groupe de rubriques.</td></tr>\n",
    "<tr><td>&lt;footer&gt;</td><td>Définit un pied de page d'un document ou de l'article.</td></tr>\n",
    "<tr><td>&lt;section&gt;</td><td>Définit une section dans un document.</td></tr>\n",
    "<tr><td>&lt;article&gt;</td><td>Définit un article.</td></tr>\n",
    "<tr><td>&lt;aside&gt;</td><td>Définit contenu mis à part le contenu de la page.</td></tr>\n",
    "<tr><td>&lt;détails&gt;</td><td>Définit des détails supplémentaires que l'utilisateur peut afficher ou masquer.</td></tr>\n",
    "<tr><td>&lt;dialog&gt;</td><td>Définit une boîte de dialogue ou la fenêtre.</td></tr>\n",
    "<tr><td>&lt;summary&gt;</td><td>Définit une rubrique visible pour un &lt;détails&gt; élément.</td></tr>\n",
    "</table>"
   ]
  },
  {
   "cell_type": "markdown",
   "metadata": {},
   "source": [
    "## j.  Meta Info\n",
    "\n",
    "\n",
    "<table><tr><th>Balises</th><th>Description</th></tr>\n",
    "<tr><td>&lt;head&gt;</td><td>Définit informations sur le document.</td></tr>\n",
    "<tr><td>&lt;meta&gt;</td><td>Définit les métadonnées sur un document HTML.</td></tr>\n",
    "<tr><td>&lt;base&gt;</td><td>Indique l'URL de base / cible pour toutes les URL relatives dans un document.</td></tr>\n",
    "<tr><td>&lt;basefont&gt;</td><td>*Non pris en charge en HTML5. Utilisez CSS à la place.*<br />\n",
    "Indique une couleur par défaut, la taille, et la police pour tout le texte dans un document.</td></tr>\n",
    "</table>\n"
   ]
  },
  {
   "cell_type": "markdown",
   "metadata": {},
   "source": [
    "## k. Programmation\n",
    "\n",
    "<table><tr><th>Balises</th><th>Description</th></tr>\n",
    "<tr><td>&lt;script&gt;</td><td>Définit un script côté client.</td></tr>\n",
    "<tr><td>&lt;noscript&gt;</td><td>définit un autre contenu pour les utilisateurs qui ne supportent pas les scripts côté client.</td></tr>\n",
    "<tr><td>&lt;applet&gt;</td><td>*Non pris en charge en HTML5. Utilisez &lt;object&gt; à la place..*<br />\n",
    "Définit une applet intégrée.</td></tr>\n",
    "<tr><td>&lt;embed&gt;</td><td>définit un conteneur pour une (non-HTML) application externe.</td></tr>\n",
    "<tr><td>&lt;object&gt;</td><td>Définit un objet incorporé.</td></tr>\n",
    "<tr><td>&lt;param&gt;</td><td>définit un paramètre pour un objet.</td></tr>\n",
    "</table>"
   ]
  }
 ],
 "metadata": {
  "kernelspec": {
   "display_name": "Python 3",
   "language": "python",
   "name": "python3"
  },
  "language_info": {
   "codemirror_mode": {
    "name": "ipython",
    "version": 3
   },
   "file_extension": ".py",
   "mimetype": "text/x-python",
   "name": "python",
   "nbconvert_exporter": "python",
   "pygments_lexer": "ipython3",
   "version": "3.5.2+"
  }
 },
 "nbformat": 4,
 "nbformat_minor": 0
}
