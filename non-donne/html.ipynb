{
 "metadata": {
  "name": "",
  "signature": "sha256:7746074e312ce0e89739cfcc547226f124de03253eb367003ffeebc0eaffe6c7"
 },
 "nbformat": 3,
 "nbformat_minor": 0,
 "worksheets": [
  {
   "cells": [
    {
     "cell_type": "markdown",
     "metadata": {},
     "source": [
      "#Cours en test"
     ]
    },
    {
     "cell_type": "markdown",
     "metadata": {},
     "source": [
      "# 4 html"
     ]
    },
    {
     "cell_type": "markdown",
     "metadata": {},
     "source": [
      "## a. Balises de base\n",
      "<table><tr><th>Balises</th><th>Description.</th></tr>\n",
      "<tr><td>&lt;!DOCTYPE&gt;</td><td>D\u00e9finit le type de document.</td></tr>\n",
      "<tr><td>&lt;html&gt;</td><td> D\u00e9finit un document HTML.</td></tr>\n",
      "<tr><td>&lt;title&gt;</td><td> D\u00e9finit un titre pour le document.</td></tr>\n",
      "<tr><td>&lt;body&gt;</td><td> D\u00e9finit le corps de document.</td></tr>\n",
      "<tr><td>&lt;h1&gt; \u00e0 &lt;h6&gt;</td><td> D\u00e9finit les titre l'ent\u00eate HTML.</td></tr>\n",
      "<tr><td>&lt;header&gt;</td><td> D\u00e9finit l'ent\u00eate HTML.</td></tr>\n",
      "<tr><td>&lt;p&gt;</td><td> \tD\u00e9finit un paragraphe</td></tr>\n",
      "<tr><td>&lt;br&gt;</td><td> Ins\u00e8re un seul saut de ligne </td></tr>\n",
      "<!-- <tr><td>&lt;hr&gt;</td><td> D\u00e9finit un changement th\u00e9matique dans le contenu </td></tr> -->\n",
      "<tr><td>&lt;!--...--&gt;</td><td> D\u00e9finit un commentaire </td></tr>\n",
      "</table>"
     ]
    },
    {
     "cell_type": "markdown",
     "metadata": {},
     "source": [
      "## b. formatage \n",
      "<table><tr><th>Balises</th><th>Description</th></tr>\n",
      "<tr><td>&lt;acronym&gt; </td><td><i>Non pris en charge en HTML5</i>. Utilisez &lt;abbr&gt;  au lieu.<br />\n",
      "D\u00e9finit un acronyme.</td></tr>\n",
      "<tr><td>&lt;abbr&gt; </td><td>Defines an abbreviation or an acronym.</td></tr>\n",
      "<tr><td>&lt;address&gt; </td><td>D\u00e9finit les coordonn\u00e9es de l'auteur(propri\u00e9taire) d'un document(article).</td></tr>\n",
      "<tr><td>&lt;b&gt; </td><td>D\u00e9finit le texte en gras.</td></tr>\n",
      "<tr><td>&lt;bdi&gt; </td><td>Isole une port\u00e9e (span) de texte pouvant \u00eatre format\u00e9 dans une direction diff\u00e9rente de celle du texte qui l'entoure.</td></tr>\n",
      "<tr><td>&lt;bdo&gt; </td><td>Remplace la direction de texte actuel.</td></tr>\n",
      "<tr><td>&lt;big&gt; </td><td><i>Non pris en charge en HTML5</i>. Utilisez CSS \u00e0 la place.<br />D\u00e9finit texte en grand.</td></tr>\n",
      "<tr><td>&lt;blockquote&gt; </td><td>D\u00e9finit une section qui est cit\u00e9 d'une autre source</td></tr>\n",
      "<tr><td>&lt;center&gt; </td><td><i>Non pris en charge en HTML5. Utilisez CSS \u00e0 la place</i>. D\u00e9finit texte centr\u00e9.</td></tr>\n",
      "<tr><td>&lt;cite&gt; </td><td>D\u00e9finit le titre d'une \u0153uvre.</td></tr>\n",
      "<tr><td>&lt;code&gt; </td><td>D\u00e9finit un morceau de code informatique.</td></tr>\n",
      "<tr><td>&lt;del&gt; </td><td>D\u00e9finit le texte qui a \u00e9t\u00e9 supprim\u00e9 d'un document.</td></tr>\n",
      "<tr><td>&lt;dfn&gt; </td><td>dfn (pour Definition Element) repr\u00e9sente la d\u00e9finition d'un terme.</td></tr>\n",
      "<tr><td>&lt;em&gt; </td><td> Marquer un texte sur lequel on veut insister.</td></tr>\n",
      "<tr><td>&lt;font&gt; </td><td><i>Non pris en charge en HTML5. Utilisez CSS \u00e0 la place</i>. D\u00e9finit la police, la couleur, et la taille du texte.</td></tr>\n",
      "<tr><td>&lt;i&gt; </td><td>repr\u00e9sente un morceau de texte qui se diff\u00e9rencie du texte principal. Cela peut par exemple \u00eatre le cas pour des termes techniques, l'expression des pens\u00e9es d'un personnage ... </td></tr>\n",
      "<tr><td>&lt;ins&gt; </td><td>D\u00e9finit un texte qui a \u00e9t\u00e9 ins\u00e9r\u00e9 dans un document.</td></tr>\n",
      "<tr><td>&lt;kbd&gt; </td><td>D\u00e9finit la saisie au clavier.</td></tr>\n",
      "<tr><td>&lt;mark&gt; </td><td>D\u00e9finit un texte marqu\u00e9e(mis en \u00e9vidence).</td></tr>\n",
      "<tr><td>&lt;meter&gt; </td><td>D\u00e9finit une mesure scalaire dans une gamme (ou une proportion) connue.</td></tr>\n",
      "<tr><td>&lt;pre&gt; </td><td>D\u00e9finit texte pr\u00e9format\u00e9.</td></tr>\n",
      "<tr><td>&lt;progress&gt; </td><td>Repr\u00e9sente la progression d'une t\u00e2che.</td></tr>\n",
      "<tr><td>&lt;q&gt; </td><td>D\u00e9finit une courte citation.</td></tr>\n",
      "<tr><td>&lt;rp&gt; </td><td>D\u00e9finit ce qui fera office de parenth\u00e8se aux navigateurs qui n'offrent pas le support des annotations Ruby.</td></tr>\n",
      "<tr><td>&lt;rt&gt; </td><td>D\u00e9finit une explication/prononciation des caract\u00e8res (pour la typographie Asie de l'Est).</td></tr>\n",
      "<tr><td>&lt;ruby&gt; </td><td>D\u00e9finit une annotation rubis (pour la typographie Asie de l'Est).</td></tr>\n",
      "<tr><td>&lt;s&gt; </td><td> Affiche du texte barr\u00e9 au sens o\u00f9 celui-ci n'est plus plus d'actualit\u00e9 ou n'est plus pertinent. L'\u00e9l\u00e9ment s ne doit pas \u00eatre utilis\u00e9 pour indiquer des suppressions.</td></tr>\n",
      "<tr><td>&lt;samp&gt; </td><td><it>(Sample Text)</it> Produit un \u00e9l\u00e9ment en bloc affich\u00e9 avec la police monotype par d\u00e9faut du navigateur. Cet \u00e9l\u00e9ment a \u00e9t\u00e9 con\u00e7u pour repr\u00e9senter des informations produites par un programme informatique.</td></tr>\n",
      "<tr><td>&lt;small&gt; </td><td>D\u00e9finit un texte plus petit.</td></tr>\n",
      "<tr><td>&lt;strike&gt; </td><td><i>Non pris en charge en HTML5</i>. Utilisez &lt;del&gt; \u00e0 la place.<br />D\u00e9finit un texte barr\u00e9</td></tr>\n",
      "<tr><td>&lt;strong&gt; </td><td>D\u00e9finit un texte important.</td></tr>\n",
      "<tr><td>&lt;sub&gt; </td><td>D\u00e9finit un texte indic\u00e9.</td></tr>\n",
      "<tr><td>&lt;sup&gt; </td><td>D\u00e9finit un texte en exposant.</td></tr>\n",
      "<tr><td>&lt;time&gt; </td><td>D\u00e9finit une date/heure.</td></tr>\n",
      "<tr><td>&lt;tt&gt; </td><td><i>Non pris en charge en HTML5. Utilisez CSS \u00e0 la place</i>. D\u00e9finit le texte de t\u00e9l\u00e9scripteur.</td></tr>\n",
      "<tr><td>&lt;u&gt; </td><td> (Underline) permet d'afficher un texte soulign\u00e9. </td></tr>\n",
      "<tr><td>&lt;var&gt; </td><td>D\u00e9finit une variable.</td></tr>\n",
      "<tr><td>&lt;wbr&gt; </td><td>D\u00e9finit un possible saut de ligne.</td></tr>\n",
      "</table>"
     ]
    },
    {
     "cell_type": "markdown",
     "metadata": {},
     "source": [
      "## c. Formulaires et entr\u00e9e\n",
      "\n",
      "<table><tr><th>Balises</th><th>Description</th></tr>\n",
      "<tr><td>&lt;form&gt;</td><td>D\u00e9finit un formulaire HTML pour l'entr\u00e9e de l'utilisateur.</td></tr>\n",
      "<tr><td>&lt;input&gt;</td><td>D\u00e9finit un contr\u00f4le d'entr\u00e9e.</td></tr>\n",
      "<tr><td>&lt;textarea&gt;</td><td>d\u00e9finit un contr\u00f4le d'entr\u00e9e multiligne (zone de texte).</td></tr>\n",
      "<tr><td>&lt;touche&gt;</td><td>D\u00e9finit un bouton cliquable.</td></tr>\n",
      "<tr><td>&lt;select&gt;</td><td>D\u00e9finit une liste d\u00e9roulante.</td></tr>\n",
      "<tr><td>&lt;optgroup&gt;</td><td>D\u00e9finit un groupe d'options connexes dans une liste d\u00e9roulante.</td></tr>\n",
      "<tr><td>&lt;option&gt;</td><td>D\u00e9finit une option dans une liste d\u00e9roulante.</td></tr>\n",
      "<tr><td>&lt;label&gt;</td><td>D\u00e9finit une \u00e9tiquette pour un \u00e9l\u00e9ment &lt;input>.</td></tr>\n",
      "<tr><td>&lt;fieldset&gt;</td><td>Groupes li\u00e9s \u00e9l\u00e9ments sous une forme.</td></tr>\n",
      "<tr><td>&lt;legend&gt;</td><td>D\u00e9finit une l\u00e9gende pour un \u00e9l\u00e9ment &lt;fieldset>.</td></tr>\n",
      "<tr><td>&lt;datalist&gt;</td><td>Indique une liste d'options pr\u00e9d\u00e9finies pour les contr\u00f4les d'entr\u00e9e.</td></tr>\n",
      "<tr><td>&lt;keygen&gt;</td><td>d\u00e9finit un champ de g\u00e9n\u00e9rateur de cl\u00e9 \u00e0 paire (pour formes).</td></tr>\n",
      "<tr><td>&lt;output&gt;</td><td>D\u00e9finit le r\u00e9sultat d'un calcul.</td></tr>\n",
      "\n",
      "</table>\n"
     ]
    },
    {
     "cell_type": "markdown",
     "metadata": {},
     "source": [
      "## d. Images\n",
      "\n",
      "<table><tr><th>Balises</th><th>Description</th></tr>\n",
      "<tr><td>&lt;img&gt;</td><td>D\u00e9finit une image.</td></tr>\n",
      "<tr><td>&lt;carte&gt;</td><td>D\u00e9finit une image-map c\u00f4t\u00e9 client.</td></tr>\n",
      "<tr><td>&lt;area&gt;</td><td>d\u00e9finit une zone dans une image-carte.</td></tr>\n",
      "<tr><td>&lt;canvas&gt;</td><td>Utilis\u00e9 pour dessiner des graphiques, \u00e0 la vol\u00e9e, par l'interm\u00e9diaire de scripts (habituellement JavaScript).</td></tr>\n",
      "<tr><td>&lt;figcaption&gt;</td><td>D\u00e9finit une l\u00e9gende pour un *&lt;figure&gt;* \u00e9l\u00e9ment.</td></tr>\n",
      "<tr><td>&lt;figure&gt;</td><td>Indique contenu autonome.</td></tr>\n",
      "</table>"
     ]
    },
    {
     "cell_type": "markdown",
     "metadata": {},
     "source": [
      "## e.  Audio/Video\n",
      "\n",
      "<table><tr><th>Balises</th><th>Description</th></tr>\n",
      "<tr><td>&lt;audio&gt;</td><td>D\u00e9finit contenu sonore.</td></tr>\n",
      "<tr><td>&lt;source&gt;</td><td>D\u00e9finit multiples ressources m\u00e9diatiques pour les \u00e9l\u00e9ments des m\u00e9dias (*&lt;video&gt;* et *&lt;audio&gt;*).</td></tr>\n",
      "<tr><td>&lt;piste&gt;</td><td>D\u00e9finit pistes de texte pour les \u00e9l\u00e9ments des m\u00e9dias (*&lt;video&gt;* et *&lt;audio&gt;*).</td></tr>\n",
      "<tr><td>&lt;video&gt;</td><td>D\u00e9finit une vid\u00e9o ou un film.</td></tr>\n",
      "</table>"
     ]
    },
    {
     "cell_type": "markdown",
     "metadata": {},
     "source": [
      "## f.  Liens\n",
      "\n",
      "<table><tr><th>Balises</th><th>Description</th></tr>\n",
      "<tr><td>&lt;a&gt;</td><td>D\u00e9finit un hyperlien.</td></tr>\n",
      "<tr><td>&lt;link&gt;</td><td>d\u00e9finit la relation entre un document et une ressource externe (les plus utilis\u00e9s pour relier aux feuilles de style).</td></tr>\n",
      "<tr><td>&lt;nav&gt;</td><td>D\u00e9finit les liens de navigation.</td></tr>\n",
      "</table>"
     ]
    },
    {
     "cell_type": "markdown",
     "metadata": {},
     "source": [
      "## g. Listes\n",
      "\n",
      "<table><tr><th>Balises</th><th>Description</th></tr>\n",
      "<tr><td>&lt;ul&gt;</td><td>D\u00e9finit une liste non ordonn\u00e9e.</td></tr>\n",
      "<tr><td>&lt;ol&gt;</td><td>D\u00e9finit une liste ordonn\u00e9e.</td></tr>\n",
      "<tr><td>&lt;li&gt;</td><td>D\u00e9finit un \u00e9l\u00e9ment de la liste.</td></tr>\n",
      "<tr><td>&lt;dir&gt;</td><td>*Non pris en charge en HTML5. Utilisez &lt;ul&gt;.*<br />\n",
      "D\u00e9finit une liste de r\u00e9pertoire.</td></tr>\n",
      "<tr><td>&lt;dl&gt;</td><td>d\u00e9finit une liste de description.</td></tr>\n",
      "<tr><td>&lt;dt&gt;</td><td>D\u00e9finit un terme/nom dans une liste de description.</td></tr>\n",
      "<tr><td>&lt;dd&gt;</td><td>D\u00e9finit une description d'un terme/nom dans une liste de description.</td></tr>\n",
      "<tr><td>&lt;menu&gt;</td><td>D\u00e9finit une liste/menu de commandes.</td></tr>\n",
      "<tr><td>&lt;menuitem&gt;</td><td>D\u00e9finit un \u00e9l\u00e9ment de commande/Menu que l'utilisateur peut invoquer \u00e0 partir d'un menu popup.</td></tr>\n",
      "</table>\n",
      "\n"
     ]
    },
    {
     "cell_type": "markdown",
     "metadata": {},
     "source": [
      "## h.  Tables\n",
      "\n",
      "<table><tr><th>Balises</th><th>Description</th></tr>\n",
      "<tr><td>&lt;table&gt;</td><td>d\u00e9finit une table.</td></tr>\n",
      "<tr><td>&lt;caption&gt;</td><td>D\u00e9finit une l\u00e9gende de table.</td></tr>\n",
      "<tr><td>&lt;th&gt;</td><td>d\u00e9finit une cellule d'en-t\u00eate dans un tableau.</td></tr>\n",
      "<tr><td>&lt;tr&gt;</td><td>D\u00e9finit une ligne dans une table.</td></tr>\n",
      "<tr><td>&lt;td&gt;</td><td>D\u00e9finit une cellule dans un tableau.</td></tr>\n",
      "<tr><td>&lt;thead&gt;</td><td>Groupes le contenu d'en-t\u00eate dans un tableau.</td></tr>\n",
      "<tr><td>&lt;tbody&gt;</td><td>Groupes le contenu du corps dans un tableau.</td></tr>\n",
      "<tr><td>&lt;tfoot&gt;</td><td>Groupes le contenu du pied de page dans un tableau.</td></tr>\n",
      "<tr><td>&lt;col&gt;</td><td>sp\u00e9cifie les propri\u00e9t\u00e9s de chaque colonne dans un &lt;colgroup&gt; \u00e9l\u00e9ment.</td></tr>\n",
      "<tr><td>&lt;colgroup&gt;</td><td>Indique un groupe d'une ou plusieurs colonnes dans un tableau de mise en forme.</td></tr>\n",
      "</table>"
     ]
    },
    {
     "cell_type": "markdown",
     "metadata": {},
     "source": [
      "## i.  Styles and Semantics\n",
      "\n",
      "<table><tr><th>Balises</th><th>Description</th></tr>\n",
      "<tr><td>&lt;style&gt;</td><td>D\u00e9finit informations de style pour un document.</td></tr>\n",
      "<tr><td>&lt;div&gt;</td><td>d\u00e9finit une section dans un document.</td></tr>\n",
      "<tr><td>&lt;span&gt;</td><td>d\u00e9finit une section dans un document.</td></tr>\n",
      "<tr><td>&lt;header&gt;</td><td>D\u00e9finit un en-t\u00eate d'un document ou de l'article.</td></tr>\n",
      "<tr><td>&lt;hgroup&gt;</td><td>d\u00e9finit un groupe de rubriques.</td></tr>\n",
      "<tr><td>&lt;footer&gt;</td><td>D\u00e9finit un pied de page d'un document ou de l'article.</td></tr>\n",
      "<tr><td>&lt;section&gt;</td><td>D\u00e9finit une section dans un document.</td></tr>\n",
      "<tr><td>&lt;article&gt;</td><td>D\u00e9finit un article.</td></tr>\n",
      "<tr><td>&lt;aside&gt;</td><td>D\u00e9finit contenu mis \u00e0 part le contenu de la page.</td></tr>\n",
      "<tr><td>&lt;d\u00e9tails&gt;</td><td>D\u00e9finit des d\u00e9tails suppl\u00e9mentaires que l'utilisateur peut afficher ou masquer.</td></tr>\n",
      "<tr><td>&lt;dialog&gt;</td><td>D\u00e9finit une bo\u00eete de dialogue ou la fen\u00eatre.</td></tr>\n",
      "<tr><td>&lt;summary&gt;</td><td>D\u00e9finit une rubrique visible pour un &lt;d\u00e9tails&gt; \u00e9l\u00e9ment.</td></tr>\n",
      "</table>"
     ]
    },
    {
     "cell_type": "markdown",
     "metadata": {},
     "source": [
      "## j.  Meta Info\n",
      "\n",
      "\n",
      "<table><tr><th>Balises</th><th>Description</th></tr>\n",
      "<tr><td>&lt;head&gt;</td><td>D\u00e9finit informations sur le document.</td></tr>\n",
      "<tr><td>&lt;meta&gt;</td><td>D\u00e9finit les m\u00e9tadonn\u00e9es sur un document HTML.</td></tr>\n",
      "<tr><td>&lt;base&gt;</td><td>Indique l'URL de base / cible pour toutes les URL relatives dans un document.</td></tr>\n",
      "<tr><td>&lt;basefont&gt;</td><td>*Non pris en charge en HTML5. Utilisez CSS \u00e0 la place.*<br />\n",
      "Indique une couleur par d\u00e9faut, la taille, et la police pour tout le texte dans un document.</td></tr>\n",
      "</table>\n"
     ]
    },
    {
     "cell_type": "markdown",
     "metadata": {},
     "source": [
      "## k. Programmation\n",
      "\n",
      "<table><tr><th>Balises</th><th>Description</th></tr>\n",
      "<tr><td>&lt;script&gt;</td><td>D\u00e9finit un script c\u00f4t\u00e9 client.</td></tr>\n",
      "<tr><td>&lt;noscript&gt;</td><td>d\u00e9finit un autre contenu pour les utilisateurs qui ne supportent pas les scripts c\u00f4t\u00e9 client.</td></tr>\n",
      "<tr><td>&lt;applet&gt;</td><td>*Non pris en charge en HTML5. Utilisez &lt;object&gt; \u00e0 la place..*<br />\n",
      "D\u00e9finit une applet int\u00e9gr\u00e9e.</td></tr>\n",
      "<tr><td>&lt;embed&gt;</td><td>d\u00e9finit un conteneur pour une (non-HTML) application externe.</td></tr>\n",
      "<tr><td>&lt;object&gt;</td><td>D\u00e9finit un objet incorpor\u00e9.</td></tr>\n",
      "<tr><td>&lt;param&gt;</td><td>d\u00e9finit un param\u00e8tre pour un objet.</td></tr>\n",
      "</table>"
     ]
    }
   ],
   "metadata": {}
  }
 ]
}