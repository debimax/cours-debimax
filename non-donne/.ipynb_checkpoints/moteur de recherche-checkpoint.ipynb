{
 "metadata": {
  "name": "",
  "signature": "sha256:db6615d77479ccc60409f41e0f823ac9376845bb0ae711e5f3b57eac34f43b1c"
 },
 "nbformat": 3,
 "nbformat_minor": 0,
 "worksheets": [
  {
   "cells": [
    {
     "cell_type": "markdown",
     "metadata": {},
     "source": [
      "# moteur de recherche"
     ]
    },
    {
     "cell_type": "markdown",
     "metadata": {},
     "source": [
      "## Affiner la recherche\n",
      "\n",
      "De nombreuses astuces permettent d'optimiser la recherche. Des op\u00e9rateurs aux param\u00e8tres du moteur de recherche, d\u00e9couvrez comment affiner la recherche!\n",
      "\n",
      " \n",
      "### Les symboles pris en compte par Google\n",
      "\n",
      "Le moteur de recherche permet d'utiliser de nombreux op\u00e9rateurs pour affiner une recherche. Ceux-ci fonctionnent sur le moteur classique, ainsi que sur Google Images et autres d\u00e9clinaisons.\n",
      "\n",
      "- ***Les guillemets*** permettent de rechercher l'ensemble d\u2019une expression.\n",
      "- ***Ajouter une tiret*** devant un mot permet de l'exclure de la recherche.\n",
      "- ***Ajouter un tilde (~)*** devant un mot permet d'inclure les synonymes de celui-ci.\n",
      "- ***Utiliser une \u00e9toile (&#42;)*** \u00e0 la place des mots inconnus permet de les trouver : tr\u00e8s utile lorsqu'on est \u00e0 la recherche d'une expression oubli\u00e9e. Exemple : Galette &#42; je t'aime.\n",
      "- ***L'op\u00e9rateur OR*** permet de rechercher un mot ou un autre.\n",
      "\n",
      " \n",
      "### Ce que Google ne prend pas en compte\n",
      "\n",
      "Si Google prend en compte un certain nombre d'op\u00e9rateurs, il ne regarde absolument pas :\n",
      "\n",
      "- La casse (minuscule/majuscule).\n",
      "- Les signes de ponctuation en r\u00e8gle g\u00e9n\u00e9rale.\n",
      "- Les caract\u00e8res sp\u00e9ciaux, sauf &#43;, &#64;, &amp;, &#37;, &#36;, &#35;, &#45; et &#95;.\n",
      "- Les mots de structure usuels (articles courts, conjonctions&#8230;).\n",
      "\n",
      " \n",
      "### Rechercher sur un seul site\n",
      "\n",
      "L'op\u00e9rateur site: permet de d\u00e9limiter la recherche au site Internet de votre choix. Exemple : outils site:blogdumoderateur.com permet de d\u00e9couvrir les outils pr\u00e9sent\u00e9s sur votre blog pr\u00e9f\u00e9r\u00e9. Il suffit de ne pas indiquer de mot-clef dans la requ\u00eate pour visualiser l'ensemble des pages index\u00e9es.\n",
      "\n",
      "  <center><img src=\"./images/recherche-delimitee-site.png\"></center>\n",
      "  \n",
      "  Obtenir des r\u00e9sultats de recherche d\u00e9personnalis\u00e9s\n",
      "\n",
      "Certains jugent la personnalisation des r\u00e9sultats comme \u00e9tant une bonne chose, d\u2019autres non. Quel que soit votre avis sur la question, il est possible de neutraliser les r\u00e9sultats. Il suffit d\u2019ajouter l\u2019op\u00e9rateur &pws=0 \u00e0 la fin de l\u2019adresse URL des r\u00e9sultats de recherche. Vous pouvez automatiser cette action en ajoutant un moteur de recherche dans Google Chrome par exemple, avec comme adresse :\n",
      "\n",
      "https://www.google.com/search?q=%s&pws=0\n",
      "\n",
      " \n",
      "Rechercher un type de fichier sp\u00e9cifique\n",
      "\n",
      "Il peut \u00eatre utile de limiter les r\u00e9sultats \u00e0 un seul type de fichier. Il suffit d\u2019ajouter filetype: suivi de l\u2019extension choisie pour d\u00e9limiter la recherche. Exemple : filetype:PDF pour rechercher des documents, ou filetype:PNG pour rechercher les images correspondantes sur Google Images.\n",
      "\n",
      " \n",
      "Afficher un aper\u00e7u des pages\n",
      "\n",
      "Avant de vous rendre sur un site r\u00e9f\u00e9renc\u00e9 dans les r\u00e9sultats de recherche, vous pouvez afficher un aper\u00e7u visuel. Il suffit de survoler le r\u00e9sultat puis cliquer sur la double fl\u00e8che pr\u00e9sente \u00e0 droite."
     ]
    },
    {
     "cell_type": "markdown",
     "metadata": {},
     "source": [
      "http://www.blogdumoderateur.com/astuces-recherche-google/"
     ]
    }
   ],
   "metadata": {}
  }
 ]
}