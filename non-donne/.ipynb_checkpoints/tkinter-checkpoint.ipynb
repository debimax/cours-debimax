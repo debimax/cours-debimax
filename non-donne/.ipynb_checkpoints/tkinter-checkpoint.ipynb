{
 "metadata": {
  "name": "",
  "signature": "sha256:4390c7e2bb28bdac8b1bdbf72b64c9fa7234842f758be9b3803bf89336f180af"
 },
 "nbformat": 3,
 "nbformat_minor": 0,
 "worksheets": [
  {
   "cells": [
    {
     "cell_type": "markdown",
     "metadata": {},
     "source": [
      "# <center>Pr\u00e9sentation de Tkinter</center>\n",
      "\n",
      "*ce cours est issue du cours de Fr\u00e9d\u00e9ric junier.*\n",
      "\n",
      "*On utilisera dans un premier ipython3*\n",
      "\n",
      "## 8.1 D\u00e9couverte de quelques widgets\n",
      "### 8.1.1   Qu'est ce qu'un GUI ?\n",
      "\n",
      "L'ex\u00e9cution d'un programme ne se limite pas \u00e0 des calculs, elle peut n\u00e9cessiter des \u00e9changes avec les p\u00e9riph\u00e9riques (et don l'utilisateur) sous la forme d'Entr\u00e9s/Sorties (E/S).   \n",
      "En 1984, le Macintosh d'Apple \u00e9tait le premier ordinateur personnel o\u00f9 l'interface entre l'utilisateur et les programmes (dont le syst\u00e8me d'exploitation) se faisait \u00e0 travers une interface graphique.   \n",
      "L'acronyme anglais pour interface graphique est GUI pour graphical user interface. \n",
      "\n",
      "Pour r\u00e9aliser des interfaces graphiques, nous allons utiliser le module tkinter de la biblioth\u00e8que standard de Python. Ce module s'interface avec la biblioth\u00e8que graphique TK qui est multiplateformes. Il existe d'autres modules d'interfaces graphiques comme pyGTK, wxPython mais tkinter est le module livr\u00e9 clef en mains et il est bien document\u00e9 sur le web.\n",
      "\n",
      "Pour importer le module tkinter sous Python 3 :"
     ]
    },
    {
     "cell_type": "code",
     "collapsed": false,
     "input": [
      " from tkinter import *"
     ],
     "language": "python",
     "metadata": {},
     "outputs": [],
     "prompt_number": 2
    },
    {
     "cell_type": "markdown",
     "metadata": {},
     "source": [
      "Pour un compl\u00e9ment d'information :\n",
      "- Le cours d'isn de [Fabrice sinc\u00e8re](http://fsincere.free.fr/isn/python/cours_python_tkinter.php)\n",
      "- La documentation officielle de [tkinter](http://infohost.nmt.edu/tcc/help/pubs/tkinter/web/index.html)\n",
      "- Le classique  [openclassrooms (ex site du z\u00e9ro)](http://fr.openclassrooms.com/informatique/cours/apprenez-a-programmer-en-python/des-interfaces-graphiques-avec-tkinter)\n",
      "- La [documentation officielle Python](http://docs.python.org/3.3/library/tkinter.html)\n",
      "- Le livre [Apprendre Python 3 de G\u00e9rard Swinnen](http://inforef.be/swi/python.htm)\n",
      "\n",
      "Par ailleurs, si le design des widgets vous d\u00e9pla\u00eet, vous \u00eates libre de modifier les couleurs ou les diff\u00e9rents\n",
      "param\u00e8tres visuels ...\n",
      "\n",
      "\n",
      "### 8.1.2    Premier exemple et glossaire\n",
      "Une interface graphique doit comporter au moins une fen\u00eatre racine dans laquelle on va disposer des \u00e9l\u00e9ments appel\u00e9s widgets. On dit que ce sont les enfants de la fen\u00eatre racine et qu'elle est leur parent.  \n",
      "Un widget peut lui m\u00eame contenir des widgets enfants.\n",
      "\n",
      "Les fen\u00eatres et leurs widget sont des objets, au sens de la Programmation Orient\u00e9e Objet, ils poss\u00e8dent des propri\u00e9t\u00e9s ou attributs et des fonctions ou m\u00e9thodes qui permettent des les manipuler. Lorsqu'on cr\u00e9e un widget Button avec tkinter on appelle le constructeur de la classe ***Button*** en lui passant certaines options sous la forme de param\u00e8tres nomm\u00e9s.\n",
      "\n",
      "Il faut toujours pr\u00e9ciser en premier le widget parent dans lequel on construit notre widget.\n",
      "Dans le code minimal ci-dessous, on cr\u00e9e une fen\u00eatre racine fen avec deux widget enfants : un Frame et un Label. Le widget Frame poss\u00e8de lui-m\u00eame deux widget enfants : un Button et un Label.\n",
      "\n",
      "\n",
      "Les Label affichent un texte qui est celui pr\u00e9cis\u00e9 par l'option text.  \n",
      "Les Button sont des boutons de commande, cliquer dessus d\u00e9clenche la fonction pass\u00e9e en valeur de l'option command. Ici il s'agit de la m\u00e9thode destroy de la fen\u00eatre parente."
     ]
    },
    {
     "cell_type": "code",
     "collapsed": false,
     "input": [
      "from tkinter import *\n",
      "fen = Tk()\n",
      "a = Frame(fen)\n",
      "b = Label(fen,text=\"Une \u00e9tiquette\")\n",
      "c = Label(a,text=\"Une autre \u00e9tiquette\")\n",
      "d = Button(a,text=\"Quitter\" ,command=fen.quit)"
     ],
     "language": "python",
     "metadata": {},
     "outputs": [],
     "prompt_number": 4
    },
    {
     "cell_type": "markdown",
     "metadata": {},
     "source": [
      "Une fen\u00eatre racine (Top-Level window) est cr\u00e9\u00e9e avec *fen = Tk()*.  \n",
      "  <center><img src=\"./images/tkinter1.png\"></center>\n",
      "\n",
      "On va d'abord faire appara\u00eetre nos widget enfants avec une ***m\u00e9thode de placement***. Il en existe trois: ***place, pack*** et ***grid***.   \n",
      "On en choisit une pour tous les widget mais il ne faut pas m\u00e9langer les m\u00e9thodes de placement. \n",
      "\n",
      "Testons d'abord la m\u00e9thode ***pack*** dont l'option ***side*** poss\u00e8de quatre valeurs possibles : ***TOP,BOTTOM, RIGHT, LEFT***.\n",
      "\n",
      "Notons que les valeurs des options sont pass\u00e9es soit sous forme d'entiers s'il s'agit de dimensions (en pixels), soit sous forme de constantes tkinter en capitales d'imprimeries, soit sous forme de cha\u00eene de caract\u00e8res, entre quotes et en minuscules.  \n",
      "Ainsi, l'option *side* de la *m\u00e9thode pack* peut prendre (entre autres) la valeur *TOP* (sans quote) ou *'top'*, mais pas 'Top'.\n",
      "\n",
      "Avec *pack* ou *grid*, si la g\u00e9om\u00e9trie du widget parent n'a pas \u00e9t\u00e9 fix\u00e9e, c'est le parent qui adapte ses dimensions \u00e0 celles de ses enfants. En g\u00e9n\u00e9ral, si on utilise *pack* ou *grid*, on ne fixe pas les dimensions de la fen\u00eatre parent.    \n",
      "On peut n\u00e9anmoins le faire avec la ***m\u00e9thode geometry***, par exemple avec *fen.geometry('300x100')* o\u00f9 300 est la largeur en pixels de la fen\u00eatre et 100 sa hauteur."
     ]
    },
    {
     "cell_type": "code",
     "collapsed": false,
     "input": [
      "a.pack(side=\"left\")\n",
      "b.pack(side=\"top\")\n",
      "d.pack(side=\"top\")\n",
      "c.pack(side=\"top\")"
     ],
     "language": "python",
     "metadata": {},
     "outputs": [],
     "prompt_number": 5
    },
    {
     "cell_type": "markdown",
     "metadata": {},
     "source": [
      "On obtient \u00e0 peu-pr\u00e8s ceci :  \n",
      "  <center><img src=\"./images/tkinter2.png\"></center>  \n",
      "On peut mettre un peu d'***espace*** autour des widget, par exemple autour du Button , avec les options ***padx*** et ***pady*** de la m\u00e9thode ***pack***.\n",
      "\n",
      "On peut aussi modifier des options par d\u00e9faut de certains widget avec ***la m\u00e9thode config*** ou avec l'op\u00e9rateur crochet. Les valeurs des options sont stock\u00e9es dans un dictionnaire dont les clefs sont les options sous forme de cha\u00eene de caract\u00e8res.\n",
      "\n",
      "Pour les couleurs, on peut utiliser les couleurs pr\u00e9d\u00e9finies ('red','black', 'green') ou utiliser la notation hexad\u00e9cimale (Geany propose un outil palette de couleurs).\n",
      "\n",
      "Pour avoir **la liste** des options d'un widget, on utilise la **m\u00e9thode keys**  \n",
      "On peut aussi donner **un titre** \u00e0 notre fen\u00eatre racine avec la **m\u00e9thode title**.\n",
      "\n",
      "Pour **redimensionner** la fen\u00eatre racine, on peut utiliser la **m\u00e9thode geometry** :\n",
      "\n"
     ]
    },
    {
     "cell_type": "code",
     "collapsed": false,
     "input": [
      "d.pack(side=\"top\" ,padx=10,pady=10)\n",
      "fen.title(\"Premier exemple avec tkinter\")\n",
      "a.keys()"
     ],
     "language": "python",
     "metadata": {},
     "outputs": [
      {
       "metadata": {},
       "output_type": "pyout",
       "prompt_number": 6,
       "text": [
        "['bd',\n",
        " 'borderwidth',\n",
        " 'class',\n",
        " 'relief',\n",
        " 'background',\n",
        " 'bg',\n",
        " 'colormap',\n",
        " 'container',\n",
        " 'cursor',\n",
        " 'height',\n",
        " 'highlightbackground',\n",
        " 'highlightcolor',\n",
        " 'highlightthickness',\n",
        " 'padx',\n",
        " 'pady',\n",
        " 'takefocus',\n",
        " 'visual',\n",
        " 'width']"
       ]
      }
     ],
     "prompt_number": 6
    },
    {
     "cell_type": "code",
     "collapsed": false,
     "input": [
      "d.config(relief=\"flat\")\n",
      "a[\"background\"]= \"#F3F378\"\n",
      "fen.geometry(\"300x100\")"
     ],
     "language": "python",
     "metadata": {},
     "outputs": [
      {
       "metadata": {},
       "output_type": "pyout",
       "prompt_number": 7,
       "text": [
        "''"
       ]
      }
     ],
     "prompt_number": 7
    },
    {
     "cell_type": "markdown",
     "metadata": {},
     "source": [
      "<center><img src=\"./images/tkinter3.png\"></center>  \n",
      "\n",
      "Si on recopie les commandes pr\u00e9c\u00e9dentes dans un script Python et qu'on l'ex\u00e9cute, contrairement au test dans la console, aucune fen\u00eatre n'appara\u00eet. En fait dans la console, lorsqu'on cr\u00e9e une fen\u00eatre racine avec ***Tk()***, le r\u00e9ceptionnaire d'\u00e9v\u00e9nements et automatiquement d\u00e9clench\u00e9.\n",
      "\n",
      "Le r\u00e9ceptionnaire d'\u00e9v\u00e9nements est la fonction de tkinter qui met en place tous les \u00e9l\u00e9ments graphiques et qui scrutent tous les \u00e9v\u00e9nements qui peuvent se produire dans l'interface graphique (par exemple un clic sur le bouton Quitter). On peut le comparer \u00e0 une boucle infinie, qui s'ex\u00e9cute en t\u00e2che de fonds et qui r\u00e9agit aux \u00e9v\u00e9nements d\u00e9clench\u00e9s par l'utilisateur.\n",
      "\n",
      "Le r\u00e9ceptionnaire d'\u00e9v\u00e9nements est en g\u00e9n\u00e9ral appel\u00e9 en fin de script, une fois que tous les widgets et toutes les actions li\u00e9es \u00e0 des \u00e9v\u00e9nements ont \u00e9t\u00e9 d\u00e9finis. L'appel se fait par la m\u00e9thode mainloop de la fen\u00eatre racine.\n"
     ]
    },
    {
     "cell_type": "code",
     "collapsed": false,
     "input": [
      "fen.mainloop()"
     ],
     "language": "python",
     "metadata": {},
     "outputs": []
    },
    {
     "cell_type": "markdown",
     "metadata": {},
     "source": [
      "#### M\u00e9thode Synth\u00e8se des widget et des m\u00e9thodes d\u00e9j\u00e0 rencontr\u00e9s\n",
      "\n",
      "- Une fen\u00eatre racine (Top-Level window) est cr\u00e9\u00e9e avec ***fen = Tk()***.\n",
      "\n",
      "<center><table>\n",
      "<tr> <th> M\u00e9thode </th><th> Effet</th></tr>\n",
      "<tr> <td> fen = Tk() </td><td> Cr\u00e9e une fen\u00eatre racine</td></tr>\n",
      "<tr> <td> fen.title('Titre') </td><td>  Donne un titre</td></tr>\n",
      "<tr> <td> fen.geometry('400x600') </td><td>  Redimensionne la fen\u00eatre en 400 pixels de large sur 600 de haut</td></tr>\n",
      "</table>\n",
      "</center>\n",
      "\n",
      "- Une \u00e9tiquette de texte est cr\u00e9\u00e9e avec ***a = Label(fen)***.  \n",
      "   On n'est pas oblig\u00e9 d'affecter le widget \u00e0 une variable mais ce peut \u00eatre utile de disposer d'une r\u00e9f\u00e9rence si on veut y acc\u00e9der par la suite.\n",
      "   \n",
      " Lors de la cr\u00e9ation du widget, on peut pr\u00e9ciser dans le constructeur Label les valeurs d'un certain nombre d'options.\n",
      "<center><table>\n",
      "<tr> <th> Options  </th><th> Effet  </th><th> Syntaxe</th></tr>\n",
      "<tr> <td>text  </td><td>  mise en forme   </td><td>  text=('Arial',10,'bold','italic')</td></tr>\n",
      "<tr> <td> fg  </td><td>  couleur du texte  </td><td>    fg='white' ou fg='#ffffff'</td></tr>\n",
      "<tr> <td> bg  </td><td> couleur du fonds  </td><td>   bg='white' ou bg='#ffffff'</td></tr>\n",
      "<tr> <td>width, height  </td><td> largeur et hauteur </td><td>  width=100 ou height='2cm'</td></tr>\n",
      "</table>\n",
      "</center>\n",
      "\n",
      "- Un bouton de commande est cr\u00e9\u00e9 avec b = Button(fen). Les options width, height, fg, bg sont les m\u00eames que pour un widget Label mais on peut lui ajouter l'option command pour qu'un clic  sur le bouton d\u00e9clenche une fonction.\n",
      "\n",
      "<center><table>\n",
      "<tr> <th>Options </th><th> Effet </th><th> Syntaxe</th></tr>\n",
      "<tr> <td> command </td><td> pr\u00e9cise la fonction \u00e0 d\u00e9clencher lors du clic </td><td>command=fonction</td></tr>\n",
      "</table></center>\n",
      "\n",
      "\n",
      "Attention, il ne faut pas mettre de parenth\u00e8se apr\u00e8s le nom de la fonction.\n",
      "\n",
      "- Un cadre rectangulaire est cr\u00e9\u00e9e avec a = Frame(fen). Un Frame est surtout utilis\u00e9 comme conteneur pour d'autres widget.\n",
      "- M\u00e9thodes universelles pour les widget.\n",
      "\n",
      "<center><table>\n",
      "<tr> <td>   widget.cget('option') ou widget['option'] </td><td> Retourne la valeur courante de l'option</td></tr>\n",
      "<tr> <td>   widget.config(option=value) ou <br />widget['option']=value  </td><td> Change la valeur courante de l'option </td></tr>\n",
      "<tr> <td>  widget.pack(side=value,fill=value,padx=10,pady=15)<br />\n",
      "o\u00f9 side=LEFT,TOP,RIGHT,BOTTOM <br />\n",
      "et fill='x','y','both','none' </td><td> M\u00e9thode de placement g\u00e9om\u00e9trique <br /> (indispensable pour le rendre visible)</td></tr>\n",
      "</table></center>\n",
      "\n",
      "\n",
      "### 8.1.3    M\u00e9thode de placement grid et widget Canvas\n",
      "\n",
      "#### M\u00e9thode de placement grid\n",
      "La m\u00e9thode grid permet de placer les widget dans la fen\u00eatre racine en la quadrillant avec une grille.  \n",
      "Chaque widget est rep\u00e9r\u00e9 par sa ligne row et sa colonne col.\n",
      "\n",
      "Les lignes sont num\u00e9rot\u00e9es dans l'ordre croissant de haut en bas et les colonnes de gauche \u00e0 droite.\n",
      "\n",
      "<center><table>\n",
      "<tr> <th> Options </th><th> Effet </th></tr>\n",
      "<tr> <td> row=. . . et column=. . .   </td><td>  Num\u00e9ro de ligne et le num\u00e9ro de colonne</td></tr>\n",
      "<tr> <td> rowspan=. . . et columnspan=. . . </td><td> Nombre de lignes et de colonnes occup\u00e9es par le widget</td></tr>\n",
      "<tr> <td> padx=. . . et pady=. . .       </td><td>   Ecart en pixels entre le widget et les bords de la grille<br />\n",
      "                                  C\u00f4t\u00e9 duquel le widget est coll\u00e9 \u00e0 la grille, valeurs :</td></tr>\n",
      "<tr> <td> sticky=. . .  </td><td>   'nw','n','ne','w','center','e','sw','s','se'</td></tr>\n",
      "</table></center>\n",
      "\n",
      "\n",
      "#### widget Canvas\n",
      "\n",
      "Un ***widget Canvas*** est une aire rectangulaire destin\u00e9e \u00e0 recevoir des dessins (lignes, polygones), des images . . . Un Canvas peut contenir d'autres widget mais aussi d'autres types d'objets graphiques (ou items) comme des lignes, des rectangles, des ovales, des images, des textes . . .\n",
      "\n",
      "Les ***items*** sont rep\u00e9r\u00e9s par leurs coordonn\u00e9es dans un rep\u00e8re dont l'origine est le coin sup\u00e9rieur gauche du Canvas. L'axe des abscisse orient\u00e9 vers la droite est le c\u00f4t\u00e9 sup\u00e9rieur et l'axe des ordonn\u00e9es orient\u00e9 vers le bas est le c\u00f4t\u00e9 gauche. Autrement dit le point (0 ; 0) est en haut \u00e0 gauche, et les abscisses toujours positives et compt\u00e9es en pixels augmentent en allant vers la droite du Canvas tandis que les ordonn\u00e9es positives augmentent en allant vers le bas.\n",
      "\n",
      "Les items successivement cr\u00e9\u00e9s dans un Canvas sont rang\u00e9s dans une pile, c'est-\u00e0-dire que le dernier item cr\u00e9\u00e9 est plac\u00e9 au-dessus de la pile et peut \u00e9ventuellement dissimul\u00e9 les items en dessous. En bas de la pile il y a le Canvas qui est visible par son fonds (option 'bg')\n",
      "\n",
      "- On cr\u00e9e un *Canvas* de fen\u00eatre parent fen avec avec :"
     ]
    },
    {
     "cell_type": "code",
     "collapsed": false,
     "input": [
      "c = Canvas(fen)"
     ],
     "language": "python",
     "metadata": {},
     "outputs": []
    },
    {
     "cell_type": "markdown",
     "metadata": {},
     "source": [
      "  On peut de plus pr\u00e9ciser des options comme width,height,bg . . .\n",
      "- Dans le Canvas c, on cr\u00e9e une ligne reliant le point $x_1 ; y_1$ au point $x_2 ; y_2$ avec\n"
     ]
    },
    {
     "cell_type": "code",
     "collapsed": false,
     "input": [
      "ligne = c.create_line(x1 , y1 ,x2 , y2 ,options)"
     ],
     "language": "python",
     "metadata": {},
     "outputs": []
    },
    {
     "cell_type": "markdown",
     "metadata": {},
     "source": [
      "<center><table>\n",
      "<tr> <th>Options </th><th>  Effet </th></tr>\n",
      "<tr> <td>width </td><td>   Epaisseur de la ligne en pixels </td></tr>\n",
      "<tr> <td>fill  </td><td>   Couleur de la ligne </td></tr>\n",
      "</table></center>\n",
      "\n",
      "- Dans le *Canvas* c, on cr\u00e9e un rectangle dont le sommet sup\u00e9rieur gauche et le sommet inf\u00e9rieur\n",
      "  droit ont pour coordonn\u00e9es $x_1 ; y_1$ et $x_2 ; y_2$ avec\n"
     ]
    },
    {
     "cell_type": "code",
     "collapsed": false,
     "input": [
      "rectangle = c.create_rectangle(x1 , y1 ,x2 , y2 ,options)"
     ],
     "language": "python",
     "metadata": {},
     "outputs": []
    },
    {
     "cell_type": "markdown",
     "metadata": {},
     "source": [
      "<center><table>\n",
      "<tr> <th>Options </th><th> Effet</th></tr>\n",
      "<tr> <td>width  </td><td>  Epaisseur de la ligne en pixels</td></tr>\n",
      "<tr> <td>fill  </td><td>   Couleur de remplissage du rectangle</td></tr>\n",
      "<tr> <td>outline </td><td> Couleur du bord</td></tr>\n",
      "</table></center>\n",
      "\n",
      "- Dans le Canvas c, on cr\u00e9e un ovale inscrit dans un rectangle dont le sommet sup\u00e9rieur gauche et le sommet inf\u00e9rieur droit ont pour coordonn\u00e9es $x_1 ; y_1$ et $x_2 ; y_2$ avec"
     ]
    },
    {
     "cell_type": "code",
     "collapsed": false,
     "input": [
      "ovale= c.create_oval(x1 , y1 ,x2 , y2 ,options)"
     ],
     "language": "python",
     "metadata": {},
     "outputs": []
    },
    {
     "cell_type": "markdown",
     "metadata": {},
     "source": [
      "   Les options sont les m\u00eames que pour les rectangles.  \n",
      "   Pour cr\u00e9er un cercle il suffit de choisir un carr\u00e9 comme rectangle exinscrit.\n",
      "  \n",
      "- Dans le Canvas c, on cr\u00e9e un texte au point de coordonn\u00e9es $x ; y$ avec\n"
     ]
    },
    {
     "cell_type": "code",
     "collapsed": false,
     "input": [
      "texte = c.create_text(x,y,options)"
     ],
     "language": "python",
     "metadata": {},
     "outputs": []
    },
    {
     "cell_type": "markdown",
     "metadata": {},
     "source": [
      "\n",
      "<center><table>\n",
      "<tr> <th>Options</th><th> Effet</th></tr>\n",
      "<tr> <td>anchor </td><td>  Pr\u00e9cise la position d'attache du texte par rapport \u00e0 (x,y).<br />\n",
      "Valeurs possibles : 'n','e','s' . . . comme pour l'option sticky de la m\u00e9thode grid.</td></tr>\n",
      "<tr> <td>fill  </td><td>  Couleur du texte</td></tr>\n",
      "<tr> <td>font </td><td>   Param\u00e9trage de la police de caract\u00e8res (Voir Label)</td></tr>\n",
      "<tr> <td>text  </td><td>  Cha\u00eene de caract\u00e8res contenant le texte \u00e0 afficher</td></tr>\n",
      "</table></center>\n",
      "\n",
      "- Dans le Canvas c, on peut ins\u00e9rer une image de format gif 1 selon cette proc\u00e9dure :\n",
      "  - on charge l'image dans une variable globale :\n"
     ]
    },
    {
     "cell_type": "code",
     "collapsed": false,
     "input": [
      "fichierimg = PhotoImage(file= 'chemin' )"
     ],
     "language": "python",
     "metadata": {},
     "outputs": []
    },
    {
     "cell_type": "markdown",
     "metadata": {},
     "source": [
      "-   - on place l'image dans c au point de au point de coordonn\u00e9es x ; y en remplissant au moins  l'option image :\n"
     ]
    },
    {
     "cell_type": "code",
     "collapsed": false,
     "input": [
      "texte = c.create_image(x,y,image=fichierimg,anchor= 'nw' )"
     ],
     "language": "python",
     "metadata": {},
     "outputs": []
    },
    {
     "cell_type": "markdown",
     "metadata": {},
     "source": [
      "- M\u00e9thodes des widget Canvas :\n",
      "\n",
      "<center><table>\n",
      "<tr> <th>   M\u00e9thode </th><th>   Effet</th></tr>\n",
      "<tr> <td>  c.itemconfig(item,option='valeur') </td><td>  Change la valeur d'une option d'un item du Canvas c</td></tr>\n",
      "<tr> <td>  c.itemcget(item,option='valeur') </td><td> Acc\u00e8de \u00e0 la valeur d'une option d'un item du Canvas c</td></tr>\n",
      "<tr> <td>    c.tag_raise(item) </td><td> Fait monter (ou descendre) l'item dans la hi\u00e9rarchie</td></tr>\n",
      "<tr> <td>    c.tag_lower(item) </td><td>  d'affichage du Canvas</td></tr>\n",
      "</table></center>\n",
      "\n",
      "- state est une option commune \u00e0 tous les items pr\u00e9c\u00e9dents, elle peut prendre trois valeurs NORMAL par d\u00e9faut, DISABLED qui d\u00e9sactive les r\u00e9actions de l'item aux clics de souris et HIDDEN qui rend invisible l'item ce qui peut \u00eatre int\u00e9ressant.\n",
      "- Par ailleurs on peut faire r\u00e9f\u00e9rence aux items soit par le nom de variable qui leur a \u00e9t\u00e9 assign\u00e9,   soit par leur identifiant, un entier retourn\u00e9 lors de leur cr\u00e9ation, soit par un tag, une cha\u00eene de   caract\u00e8re identifiant l'item. Pour avoir un tuple de tous les identifiants d'items cr\u00e9\u00e9s dans l'ordre,   on peut appeler la m\u00e9thode find_all du widget Canvas.\n"
     ]
    },
    {
     "cell_type": "markdown",
     "metadata": {},
     "source": [
      "#### Exercice 1\n",
      "   \n",
      "Tester les commandes suivantes, avec ipython3 ou dans un script,pour d\u00e9couvrir diff\u00e9rentes m\u00e9thodes des widget Canvas :"
     ]
    },
    {
     "cell_type": "code",
     "collapsed": false,
     "input": [
      " from tkinter import*"
     ],
     "language": "python",
     "metadata": {},
     "outputs": [],
     "prompt_number": 15
    },
    {
     "cell_type": "code",
     "collapsed": false,
     "input": [],
     "language": "python",
     "metadata": {},
     "outputs": []
    }
   ],
   "metadata": {}
  }
 ]
}