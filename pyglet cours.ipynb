{
 "metadata": {
  "name": "",
  "signature": "sha256:0f31e6defc07dd9632584e5c78a553f1b81e02d36ba3effba26e919b5bce01b9"
 },
 "nbformat": 3,
 "nbformat_minor": 0,
 "worksheets": [
  {
   "cells": [
    {
     "cell_type": "code",
     "collapsed": false,
     "input": [
      "%%javascript\n",
      "IPython.Cell.options_default.cm_config.lineNumbers = true;"
     ],
     "language": "python",
     "metadata": {},
     "outputs": [
      {
       "javascript": [
        "IPython.Cell.options_default.cm_config.lineNumbers = true;"
       ],
       "metadata": {},
       "output_type": "display_data",
       "text": [
        "<IPython.core.display.Javascript at 0x7f5d56fc2ba8>"
       ]
      }
     ],
     "prompt_number": 1
    },
    {
     "cell_type": "code",
     "collapsed": false,
     "input": [
      "# Charge ma feuille de style pour nbviewer\n",
      "from IPython import utils\n",
      "from IPython.core.display import HTML\n",
      "import os\n",
      "def css_styling():\n",
      "    base = utils.path.get_ipython_dir()\n",
      "    styles = \"<style>\\n%s\\n</style>\" % (open('./documents/custom.css','r').read())\n",
      "    return HTML(styles)\n",
      "css_styling()"
     ],
     "language": "python",
     "metadata": {},
     "outputs": [
      {
       "html": [
        "<style>\n",
        "/*\n",
        "Placeholder for custom user CSS\n",
        "\n",
        "mainly to be overridden in profile/static/custom/custom.css\n",
        "\n",
        "This will always be an empty file in IPython\n",
        "*/\n",
        "\n",
        "\n",
        "/*@import url('http://fonts.googleapis.com/css?family=Crimson+Text');\n",
        "@import url('http://fonts.googleapis.com/css?family=Kameron');\n",
        "@import url('http://fonts.googleapis.com/css?family=Lato:200');\n",
        "@import url('http://fonts.googleapis.com/css?family=Lato:300');\n",
        "@import url('http://fonts.googleapis.com/css?family=Lato:400');\n",
        "@import url('http://fonts.googleapis.com/css?family=Source+Code+Pro');\n",
        "*/\n",
        "\n",
        "/* Change code font \n",
        ".CodeMirror pre {\n",
        "    font-family: 'Source Code Pro', Consolas, monocco, monospace;\n",
        "}*/\n",
        "\n",
        "\n",
        "div.text_cell_render {\n",
        "    /*font-family: \"Crimson Text\";*/\n",
        "    font-size: 12pt;\n",
        "    line-height: 145%; /* added for some line spacing of text. */\n",
        "}\n",
        "\n",
        "div.text_cell_render h1,{\n",
        "    text-align: center;\n",
        "}\n",
        "div.text_cell_render h2,\n",
        "div.text_cell_render h3,\n",
        "div.text_cell_render h4,\n",
        "div.text_cell_render h5,\n",
        "div.text_cell_render h6 {\n",
        "    /*font-family: 'Kameron';*/\n",
        "    font-weight: 300;\n",
        "}\n",
        "\n",
        "div.text_cell_render h1 {\n",
        "    font-size: 24pt;\n",
        "}\n",
        "\n",
        "div.text_cell_render h2 {\n",
        "    font-size: 18pt;\n",
        "}\n",
        "\n",
        "div.text_cell_render h3 {\n",
        "    font-size: 14pt;\n",
        "}\n",
        "\n",
        ".rendered_html pre,\n",
        ".rendered_html code {\n",
        "    font-size: medium;\n",
        "    background: #f5f5f5;\n",
        "}\n",
        "\n",
        "\n",
        ".rendered_html blockquote {\n",
        "    margin: 1em 2em;\n",
        "    background: red;\n",
        "}\n",
        "\n",
        ".rendered_html ol {\n",
        "    list-style:decimal;\n",
        "    margin: 1em 2em;\n",
        "}\n",
        "\n",
        "div.text_cell_render { font-size: 12pt;   line-height: 145%; }\n",
        "div.text_cell_render h1{text-align: center;font-size: 24pt; color:#ff0000;}\n",
        "div.text_cell_render h2{font-size: 20pt;color:#ff0000}\n",
        "div.text_cell_render h3{font-size: 14pt;color:#ff0000},\n",
        "div.text_cell_render h3{font-size: 12pt;color:#ff0000},\n",
        "div.text_cell_render h6 {font-weight: 300;}\n",
        ".rendered_html {font-size: 18pt; font-color :#ff0000;}\n",
        ".rendered_html code { font-size: medium;  background: #f5f5f5;}\n",
        ".rendered_html blockquote { margin: 1em 2em; background: red; }\n",
        ".rendered_html ol { list-style:decimal;    margin: 1em 2em;}\n",
        "body{counter-reset:  h2 h3 h4;}\n",
        "h2:before {\n",
        "  content: counter(h2,upper-roman) \"  \";\n",
        "  counter-increment: h2;\n",
        "}\n",
        "h3:before {\n",
        "  content: counter(h2,upper-roman) \".\" counter(h3) \"  \";\n",
        "  counter-increment: h3;\n",
        "}\n",
        "h4:before {\n",
        "  content: counter(h2,upper-roman) \".\" counter(h3) \".\" counter(h4, lower-alpha) \")  \";\n",
        "  counter-increment: h4;\n",
        "}\n",
        "h2 { counter-reset: h3; }\n",
        "h3 { counter-reset: h4;}\n",
        "h2.unnumbered, h3.unnumbered {\n",
        "  counter-reset: none;\n",
        "}\n",
        "h2.unnumbered:before, \n",
        "h3.unnumbered:before,\n",
        "h4.unnumbered:before{\n",
        "  content: none;\n",
        "  counter-increment: none;\n",
        "}\n",
        "\n",
        "\n",
        "</style>"
       ],
       "metadata": {},
       "output_type": "pyout",
       "prompt_number": 3,
       "text": [
        "<IPython.core.display.HTML at 0x7f5d56d052e8>"
       ]
      }
     ],
     "prompt_number": 3
    },
    {
     "cell_type": "heading",
     "level": 1,
     "metadata": {},
     "source": [
      "pyglet"
     ]
    },
    {
     "cell_type": "markdown",
     "metadata": {},
     "source": [
      "## D\u00e9buter avec pyglet"
     ]
    },
    {
     "cell_type": "markdown",
     "metadata": {},
     "source": [
      "pyglet utilise la librairie OpenGL alors que pygame utilise Sdl.  \n",
      "pyglet a tr\u00e8s peu de d\u00e9pendance \u00e0 la diff\u00e9rence de pygame.\n",
      "\n",
      "OpenGL est une librairie exploitant la carte graphique d'un ordinateur permettant ainsi aux d\u00e9veloppeurs de programmer des applications 2D et 3D. Cela permet en autres de d\u00e9velopper des jeux-vid\u00e9o. \n",
      "\n",
      "Commen\u00e7ont par un exemple tr\u00e8s simple, le classique Hello world"
     ]
    },
    {
     "cell_type": "code",
     "collapsed": false,
     "input": [
      "import pyglet\n",
      "window = pyglet.window.Window(width=400, height=200,resizable=True,caption='Hello') # la fen\u00eatre\n",
      "pyglet.gl.glClearColor(0.2, 0.4, 0.5, 1.0)  # La couleur de fond\n",
      "\n",
      "@window.event   # ceci s'appelle un d\u00e9corateur et sert \n",
      "def on_draw():    \n",
      "    label = pyglet.text.Label('Hello, world', font_name='Times New Roman', font_size=36, color=(255,0,0,255),  \n",
      "            x=window.width//2, y=window.height//2, anchor_x='center', anchor_y='center')\n",
      "    window.clear()\n",
      "    label.draw()\n",
      "\n",
      "pyglet.app.run()"
     ],
     "language": "python",
     "metadata": {},
     "outputs": [],
     "prompt_number": 4
    },
    {
     "cell_type": "markdown",
     "metadata": {},
     "source": [
      "```python\n",
      "#!/usr/bin/env python3\n",
      "import pyglet\n",
      "window = pyglet.window.Window(width=400, height=200,resizable=True,caption='Hello') # la fen\u00eatre\n",
      "pyglet.gl.glClearColor(0.2, 0.4, 0.5, 1.0)  # La couleur de fond\n",
      "@window.event   # ceci s'appelle un d\u00e9corateur et sert \n",
      "def on_draw():    \n",
      "    label = pyglet.text.Label('Hello, world', font_name='Times New Roman', font_size=36, color=(255,0,0,255),  \n",
      "            x=window.width//2, y=window.height//2, anchor_x='center', anchor_y='center')\n",
      "    window.clear()\n",
      "    label.draw()\n",
      "\n",
      "pyglet.app.run()\n",
      "```"
     ]
    },
    {
     "cell_type": "markdown",
     "metadata": {},
     "source": [
      "## Dessiner"
     ]
    },
    {
     "cell_type": "markdown",
     "metadata": {},
     "source": [
      "### Des polygones"
     ]
    },
    {
     "cell_type": "code",
     "collapsed": false,
     "input": [],
     "language": "python",
     "metadata": {},
     "outputs": [],
     "prompt_number": 19
    },
    {
     "cell_type": "code",
     "collapsed": false,
     "input": [],
     "language": "python",
     "metadata": {},
     "outputs": [],
     "prompt_number": 6
    },
    {
     "cell_type": "markdown",
     "metadata": {},
     "source": [
      "### Cercles"
     ]
    },
    {
     "cell_type": "markdown",
     "metadata": {},
     "source": [
      "C'est plus difficile de tracer des cercles car il n'y a pas de fonctions natives.  \n",
      "J'utilise donc une fonction pour cela, la fonction ***circle(x, y, radius)***"
     ]
    },
    {
     "cell_type": "code",
     "collapsed": false,
     "input": [
      "from pyglet.gl import *\n",
      "from math import pi, sin, cos\n",
      "window = pyglet.window.Window(width=400, height=400,resizable=True)\n",
      "glClearColor(0.2, 0.4, 0.5, 1.0)\n",
      "\n",
      "def circle(x, y, radius):\n",
      "    iterations = int(2*radius*pi)\n",
      "    s = sin(2*pi /iterations)\n",
      "    c = cos(2*pi /iterations)\n",
      "    dx, dy = radius, 0\n",
      "    glBegin(GL_TRIANGLE_FAN)\n",
      "    glVertex2f(x, y)\n",
      "    for i in range(iterations+1):\n",
      "        glVertex2f(x+dx, y+dy)\n",
      "        dx, dy = (dx*c - dy*s), (dy*c + dx*s)\n",
      "    glEnd()\n",
      "    \n",
      "@window.event\n",
      "def on_draw():\n",
      "    glClear(GL_COLOR_BUFFER_BIT)\n",
      "    glColor3f(1,0, 0)\n",
      "    circle(window.width//2, window.height//2, 50)\n",
      "pyglet.app.run()"
     ],
     "language": "python",
     "metadata": {},
     "outputs": [],
     "prompt_number": 1
    },
    {
     "cell_type": "heading",
     "level": 2,
     "metadata": {},
     "source": [
      "Pour les jeux"
     ]
    },
    {
     "cell_type": "markdown",
     "metadata": {},
     "source": [
      "L'objet de base que nous allons utiliser dans notre jeu est le ***Sprite***. Les ***Sprites*** sont essentiellement des images qui repr\u00e9sentent des parties de notre jeu (joueur, monstres, effets, ...), qui peut \u00eatre d\u00e9plac\u00e9, redimensionn\u00e9, pivot\u00e9, ... \n",
      "\n",
      "Les sprites ont des variables x, y, l'\u00e9chelle, la rotation, etc...\n",
      "\n",
      "Regardons un exemple de  sprite."
     ]
    },
    {
     "cell_type": "code",
     "collapsed": false,
     "input": [
      "import pyglet\n",
      "\n",
      "window = pyglet.window.Window(resizable=True,caption='Test1')\n",
      "mouche1 = pyglet.image.load('images/mouche1.png')\n",
      "background = pyglet.image.load('images/background.png')\n",
      "\n",
      "@window.event\n",
      "def on_draw():\n",
      "\twindow.clear()\n",
      "\tbackground.blit(0, 0, 0, width=window.width, height=window.height)\n",
      "\tmouche.draw()\n",
      "\n",
      "if __name__ == '__main__':\n",
      "\tmouche = pyglet.sprite.Sprite(mouche1, x=100, y=10)\n",
      "\tpyglet.app.run()"
     ],
     "language": "python",
     "metadata": {},
     "outputs": [],
     "prompt_number": 7
    },
    {
     "cell_type": "code",
     "collapsed": false,
     "input": [],
     "language": "python",
     "metadata": {},
     "outputs": [],
     "prompt_number": 0
    },
    {
     "cell_type": "code",
     "collapsed": false,
     "input": [
      "import pyglet\n",
      "\n",
      "window = pyglet.window.Window(resizable=True,caption='Test1')\n",
      "mouche1 = pyglet.image.load('images/mouche1.png')\n",
      "mouche2 = pyglet.image.load('images/mouche2.png')\n",
      "background = pyglet.image.load('images/background.png')\n",
      "#pyglet.gl.glClearColor(0.2, 0.4, 0.5, 1.0)\n",
      "keys = pyglet.window.key.KeyStateHandler()\n",
      "window.push_handlers(keys)\n",
      "\n",
      "@window.event\n",
      "def on_draw():\n",
      "\twindow.clear()\n",
      "\tbackground.blit(0, 0, 0, width=window.width, height=window.height)\n",
      "\tmouche.draw()\n",
      "\n",
      "def update(dt):\n",
      "\tdelta= dt * 300\n",
      "\tif keys[pyglet.window.key.LEFT]:\n",
      "\t\tmouche.image = mouche2\n",
      "\t\tif mouche.x>=delta and mouche.x<=window.width:\n",
      "\t\t\tmouche.x -= delta\n",
      "\tif keys[pyglet.window.key.RIGHT]:\n",
      "\t\tmouche.image = mouche1\n",
      "\t\tif mouche.x>=0 and mouche.x<=window.width-mouche.width-delta:\n",
      "\t\t\tmouche.x += delta\n",
      "\tif keys[pyglet.window.key.UP]:\n",
      "\t\tif mouche.y>=0 and mouche.y<=window.height-mouche.height-delta:\n",
      "\t\t\tmouche.y += delta\n",
      "\tif keys[pyglet.window.key.DOWN]:\n",
      "\t\tif mouche.y>=0+delta and mouche.y<=window.height-mouche.height:\n",
      "\t\t\tmouche.y -= delta\n",
      "\n",
      "\n",
      "if __name__ == '__main__':\n",
      "\tmouche = pyglet.sprite.Sprite(mouche1, x=0, y=window.height//2)\n",
      "\tpyglet.clock.schedule_interval(update, 1/60.)\n",
      "\tpyglet.app.run()"
     ],
     "language": "python",
     "metadata": {},
     "outputs": [],
     "prompt_number": 5
    },
    {
     "cell_type": "code",
     "collapsed": false,
     "input": [],
     "language": "python",
     "metadata": {},
     "outputs": []
    }
   ],
   "metadata": {}
  }
 ]
}