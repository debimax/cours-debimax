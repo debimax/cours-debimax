{
 "cells": [
  {
   "cell_type": "code",
   "execution_count": 1,
   "metadata": {},
   "outputs": [
    {
     "data": {
      "application/javascript": [
       "IPython.Cell.options_default.cm_config.lineNumbers = true;"
      ],
      "text/plain": [
       "<IPython.core.display.Javascript object>"
      ]
     },
     "metadata": {},
     "output_type": "display_data"
    }
   ],
   "source": [
    "%%javascript\n",
    "IPython.Cell.options_default.cm_config.lineNumbers = true;"
   ]
  },
  {
   "cell_type": "code",
   "execution_count": 2,
   "metadata": {},
   "outputs": [
    {
     "data": {
      "text/html": [
       "<style>\n",
       "/* Pour le titre comme cela il n'y a pas de numérotation au */\n",
       "#titre{\n",
       "font-size: 24pt; \n",
       "color:#ff0000;\n",
       "text-decoration: underline;\n",
       "text-align: center;\n",
       "font-weight: bold;\n",
       "}\n",
       "\n",
       "div.text_cell_render { font-size: 12pt;   line-height: 145%; }\n",
       "div.text_cell_render h1{font-size: 24pt; color:#0000ff;  text-decoration: underline;}\n",
       "div.text_cell_render h2{font-size: 18pt;color:#0000ff;  text-decoration: underline;}\n",
       "div.text_cell_render h3{font-size: 14pt;color:#0000ff;  text-decoration: underline;}\n",
       "div.text_cell_render h4{font-size: 12pt;color:#0000ff;  text-decoration: underline; }\n",
       "div.text_cell_render h5 {font-weight: 300;}\n",
       "\n",
       "\n",
       "div.cell.code_cell { /* area that contains code + output */\n",
       "    background: #ffffff;\n",
       "    border: none;\n",
       "    border-radius: 10px;\n",
       "    padding-top: 1ex;\n",
       "}\n",
       "\n",
       "div.input_area { /* box around box with code */\n",
       "    border: none;\n",
       "    background: #f5f5f5;\n",
       "    border: 1px solid #ccc;\n",
       "    border-radius: 10px;\n",
       "    padding-top: 0.5ex;\n",
       "    padding-bottom: 0.5ex;\n",
       "    padding-left: 0.5em;\n",
       "}\n",
       "\n",
       "div.input { /* box with code */\n",
       "}\n",
       "\n",
       "div.CodeMirror { /* code font */\n",
       "    font-family: \"Inconsolata-dz\", monospace;\n",
       "    font-size: 10pt;\n",
       "}\n",
       "\n",
       "\n",
       "\n",
       "\n",
       "\n",
       "/*div.text_cell_render  code { font-size: medium; border: 3px #ababab solid; background-color: #f5f5f5;}*/\n",
       "/*.rendered_html code { border: 3px #ababab solid; background-color:  #f5f5f5;}*/\n",
       ".rendered_html blockquote { margin: 1em 2em; background: red; }\n",
       ".rendered_html ol { list-style:decimal; margin: 1em 2em; }\n",
       "\n",
       "\n",
       "/* classe pour inverse video */\n",
       ".reverse{\n",
       "    background-color: black;\n",
       "    color: white;\n",
       "}\n",
       "/*  strick   <s>texte/<s>*/\n",
       ".barre{\n",
       "\n",
       "}\n",
       "\n",
       "\n",
       "</style>"
      ],
      "text/plain": [
       "<IPython.core.display.HTML object>"
      ]
     },
     "execution_count": 2,
     "metadata": {},
     "output_type": "execute_result"
    }
   ],
   "source": [
    "# Charge ma feuille de style pour nbviewer\n",
    "from IPython.core.display import HTML\n",
    "from  urllib.request import urlopen\n",
    "# import urllib.request, urllib.parse, urllib.error\n",
    "\n",
    "url='https://github.com/debimax/cours-debimax/raw/master/static/custom.css'\n",
    "with urlopen(url) as response:\n",
    "    styles = response.read().decode(\"utf8\")\n",
    "styles=\"<style>\\n{}\\n</style>\".format(styles)\n",
    "HTML(styles)"
   ]
  },
  {
   "cell_type": "markdown",
   "metadata": {},
   "source": [
    "<div id=\"titre\">Les bases de python3</p>"
   ]
  },
  {
   "cell_type": "markdown",
   "metadata": {},
   "source": [
    "# Hello World\n",
    "On ne va pas y échapper, quand on apprend un langage, le premier programme étudié est le programme qui affiche \"Hello World!\".\n",
    "On utilisera ipython qui est shell python amélioré."
   ]
  },
  {
   "cell_type": "code",
   "execution_count": null,
   "metadata": {},
   "outputs": [],
   "source": [
    "print(\"Hello World !\")"
   ]
  },
  {
   "cell_type": "markdown",
   "metadata": {},
   "source": [
    "C'est relativement simple."
   ]
  },
  {
   "cell_type": "markdown",
   "metadata": {},
   "source": [
    "# La syntaxe générale\n",
    "\n",
    "## indentation\n",
    "\n",
    "Python oblige donc le développeur à structurer son code a l'aide des ***indentations*** : ce sont elles qui détermineront les blocs (séquences d'instructions liées) et non les accolades comme dans la majorité des langages.\n"
   ]
  },
  {
   "cell_type": "code",
   "execution_count": null,
   "metadata": {},
   "outputs": [],
   "source": [
    "def f(x):\n",
    "    return x**2\n",
    "print(f(3))"
   ]
  },
  {
   "cell_type": "markdown",
   "metadata": {},
   "source": [
    "## Commentaires \n",
    "Le caractère **\\#** permet d'indiquer que tous les caractères suivants sur la même ligne ne doivent pas être interprétés. il s'agit de commentaires"
   ]
  },
  {
   "cell_type": "code",
   "execution_count": null,
   "metadata": {},
   "outputs": [],
   "source": [
    "print(\"ligne 1\")\n",
    "#print(\"ligne 2\")\n",
    "print(\"ligne 3\")"
   ]
  },
  {
   "cell_type": "markdown",
   "metadata": {},
   "source": [
    "##  Variables\n",
    "\n",
    "Python utilise le symbole ***=*** pour affecter une valeur à une variable.  \n",
    "par exemple:"
   ]
  },
  {
   "cell_type": "code",
   "execution_count": 1,
   "metadata": {},
   "outputs": [],
   "source": [
    "a=2"
   ]
  },
  {
   "cell_type": "code",
   "execution_count": 2,
   "metadata": {},
   "outputs": [
    {
     "data": {
      "text/plain": [
       "False"
      ]
     },
     "execution_count": 2,
     "metadata": {},
     "output_type": "execute_result"
    }
   ],
   "source": [
    "a==12"
   ]
  },
  {
   "cell_type": "markdown",
   "metadata": {},
   "source": [
    "Attention: a=12 place la valeur 12 dans la variable a mais a==12 vérifie si la variable a est égale à 12, c'est donc un boléen. (***True*** ici car a est bien égal à 12).\n"
   ]
  },
  {
   "cell_type": "code",
   "execution_count": null,
   "metadata": {},
   "outputs": [],
   "source": [
    "a=2"
   ]
  },
  {
   "cell_type": "code",
   "execution_count": null,
   "metadata": {},
   "outputs": [],
   "source": [
    "a"
   ]
  },
  {
   "cell_type": "code",
   "execution_count": null,
   "metadata": {},
   "outputs": [],
   "source": [
    "a=a+3"
   ]
  },
  {
   "cell_type": "code",
   "execution_count": null,
   "metadata": {},
   "outputs": [],
   "source": [
    "a"
   ]
  },
  {
   "cell_type": "markdown",
   "metadata": {},
   "source": [
    "Vous avez aussi la possibilité d'effectuer des affectations de variables multiples avec une même\n",
    "valeur :\n"
   ]
  },
  {
   "cell_type": "code",
   "execution_count": null,
   "metadata": {},
   "outputs": [],
   "source": [
    "a=b=1"
   ]
  },
  {
   "cell_type": "code",
   "execution_count": null,
   "metadata": {},
   "outputs": [],
   "source": [
    "a"
   ]
  },
  {
   "cell_type": "code",
   "execution_count": null,
   "metadata": {},
   "outputs": [],
   "source": [
    "b"
   ]
  },
  {
   "cell_type": "markdown",
   "metadata": {},
   "source": [
    "Et vous pouvez également effectuer des affectations multiples de variables ayant des valeurs différentes en séparant les noms de variables et les valeurs par des virgules :"
   ]
  },
  {
   "cell_type": "code",
   "execution_count": null,
   "metadata": {},
   "outputs": [],
   "source": [
    " a,b = 2,3"
   ]
  },
  {
   "cell_type": "code",
   "execution_count": null,
   "metadata": {},
   "outputs": [],
   "source": [
    "a"
   ]
  },
  {
   "cell_type": "code",
   "execution_count": null,
   "metadata": {},
   "outputs": [],
   "source": [
    "b"
   ]
  },
  {
   "cell_type": "markdown",
   "metadata": {},
   "source": [
    "Ce mécanisme peut paraître anodin, mais il permet de réaliser très simplement une permutation de valeurs sans avoir recours a une variable intermédiaire :"
   ]
  },
  {
   "cell_type": "code",
   "execution_count": null,
   "metadata": {},
   "outputs": [],
   "source": [
    "a=2\n",
    "b=3\n",
    "a,b = b,a"
   ]
  },
  {
   "cell_type": "code",
   "execution_count": null,
   "metadata": {},
   "outputs": [],
   "source": [
    "a"
   ]
  },
  {
   "cell_type": "code",
   "execution_count": null,
   "metadata": {},
   "outputs": [],
   "source": [
    "b"
   ]
  },
  {
   "cell_type": "markdown",
   "metadata": {},
   "source": [
    "## Les opérateurs"
   ]
  },
  {
   "cell_type": "markdown",
   "metadata": {},
   "source": [
    "Il existe de nombreux opérateurs comme l'addition ***+*** la soustraction ***-*** la multiplication ***\\****  et la division ***\\\\*** \n",
    "\n",
    "En voici d'autre que l'on utilise souvent.\n",
    "\n",
    "7***//***2 est le ***quotient*** de la division euclidienne de 7 par 2"
   ]
  },
  {
   "cell_type": "code",
   "execution_count": null,
   "metadata": {},
   "outputs": [],
   "source": [
    "7//2"
   ]
  },
  {
   "cell_type": "markdown",
   "metadata": {},
   "source": [
    "7***%***2 est le ***reste*** de la division euclidienne."
   ]
  },
  {
   "cell_type": "code",
   "execution_count": null,
   "metadata": {},
   "outputs": [],
   "source": [
    "7%2"
   ]
  },
  {
   "cell_type": "markdown",
   "metadata": {},
   "source": [
    "7\\*\\*2 pour 7 à la ***puissance*** 2"
   ]
  },
  {
   "cell_type": "code",
   "execution_count": null,
   "metadata": {},
   "outputs": [],
   "source": [
    "7**2"
   ]
  },
  {
   "cell_type": "markdown",
   "metadata": {},
   "source": [
    "***sqrt(2)*** pour la ***racine carré*** de 2.  \n",
    "Attention il faut auparavant importer la librairie ***math***"
   ]
  },
  {
   "cell_type": "code",
   "execution_count": null,
   "metadata": {},
   "outputs": [],
   "source": [
    "import math\n",
    "math.sqrt(2)"
   ]
  },
  {
   "cell_type": "markdown",
   "metadata": {},
   "source": [
    "ou alors"
   ]
  },
  {
   "cell_type": "code",
   "execution_count": null,
   "metadata": {},
   "outputs": [],
   "source": [
    "from math import sqrt\n",
    "sqrt(2)"
   ]
  },
  {
   "cell_type": "markdown",
   "metadata": {},
   "source": [
    "# Les différents types de données\n",
    "\n",
    "Pour pouvoir travailler sur les types, nous aurons besoin de faire appel à une fonction : la fonction **_type()_**.  \n",
    "Le rôle de cette fonction est d'afficher le type de l'élément qui lui est passé en paramètre. \n",
    "\n",
    "## Les données numériques\n",
    "Parmi les données manipulables, on va bien entendu pouvoir utiliser des nombres. Ceux-ci sont classés en quatre types numériques :     \n",
    "### Entier  \n",
    "Python permet de représenter les entiers sur 32 bits (de -2147483648=-$2^{31}$ à 2147483647=$2^{31}-1$).   \n",
    "La représentation des entiers dépend de la version python 2 ou 3, du système utilisé (32 ou 64 bit). On utilisera le module sys pour connaitre la valeur max."
   ]
  },
  {
   "cell_type": "code",
   "execution_count": null,
   "metadata": {},
   "outputs": [],
   "source": [
    "type(2)"
   ]
  },
  {
   "cell_type": "markdown",
   "metadata": {},
   "source": [
    "On peut convertir aussi un nombre ou un texte en entier avec la fonction ***int()***"
   ]
  },
  {
   "cell_type": "code",
   "execution_count": null,
   "metadata": {},
   "outputs": [],
   "source": [
    "type(int(\"16\"))"
   ]
  },
  {
   "cell_type": "markdown",
   "metadata": {},
   "source": [
    "### Flottant\n",
    "pour les nombres flottants. Le symbole utilisé pour déterminer la partie décimale est le\n",
    "point. On peut également utiliser la lettre E ou e pour signaler un exposant en base 10 (101, 102,\n",
    "etc.).\n"
   ]
  },
  {
   "cell_type": "markdown",
   "metadata": {},
   "source": [
    "type(3.14)"
   ]
  },
  {
   "cell_type": "code",
   "execution_count": null,
   "metadata": {},
   "outputs": [],
   "source": [
    "2e3"
   ]
  },
  {
   "cell_type": "code",
   "execution_count": null,
   "metadata": {},
   "outputs": [],
   "source": [
    "type(2e1)"
   ]
  },
  {
   "cell_type": "markdown",
   "metadata": {},
   "source": [
    "On peut convertir aussi un nombre ou un texte en flottant avec la fonction ***float()***"
   ]
  },
  {
   "cell_type": "code",
   "execution_count": null,
   "metadata": {},
   "outputs": [],
   "source": [
    "float(3)"
   ]
  },
  {
   "cell_type": "code",
   "execution_count": null,
   "metadata": {},
   "outputs": [],
   "source": [
    "type(float(3))"
   ]
  },
  {
   "cell_type": "code",
   "execution_count": null,
   "metadata": {},
   "outputs": [],
   "source": [
    "float('3')"
   ]
  },
  {
   "cell_type": "markdown",
   "metadata": {},
   "source": [
    "### Problème avec les flottants \n",
    "L'interpréteur interactif peut être utilisé comme une calculette. Pour l'instant nous ne parlerons que des opérations élémentaires **+,-,* ** et **/** auxquelles nous ajouterons le quotient de la division euclidienne noté **//** (ou **_div_** ) et le reste de la division euclidienne noté **%** (ou **_mod_** ). Voici quelques exemples de calculs : "
   ]
  },
  {
   "cell_type": "code",
   "execution_count": null,
   "metadata": {},
   "outputs": [],
   "source": [
    "7/3"
   ]
  },
  {
   "cell_type": "code",
   "execution_count": null,
   "metadata": {},
   "outputs": [],
   "source": [
    "7.0/3"
   ]
  },
  {
   "cell_type": "code",
   "execution_count": null,
   "metadata": {},
   "outputs": [],
   "source": [
    "7//3"
   ]
  },
  {
   "cell_type": "code",
   "execution_count": null,
   "metadata": {},
   "outputs": [],
   "source": [
    "7%3"
   ]
  },
  {
   "cell_type": "markdown",
   "metadata": {},
   "source": [
    "Les résultats paraissent ici logiques: 7/3 et 7.0/3.0 donnent le même résultat sous la forme d'un flottant et 7//3 a pour résultat 2 qui est bien le quotient de la division euclidienne de 7 par 3.  \n",
    "Si vous utilisez les calculs en Python, l'usage de la division peut donc être source d'erreur et il faudra donc bien se souvenir de la version de Python employée. Mais il y a pire ... et ce n'est pas l'apanage de Python.\n",
    "\n",
    "Le phénomène que je m'apprête à souligner est vrai pour absolument tous les langages, mais il est bien souvent oublié. Quel est le résultat d'une opération simple telle que 0.7 + 0.1 ? \n",
    "\n",
    "Vous pensez que le résultat est 0.8 ? Testons donc en Python :\n"
   ]
  },
  {
   "cell_type": "code",
   "execution_count": null,
   "metadata": {},
   "outputs": [],
   "source": [
    "0.7+0.1"
   ]
  },
  {
   "cell_type": "markdown",
   "metadata": {},
   "source": [
    "On dirait qu'il y a un problème ... En fait cela provient de la représentation des flottants en machine :  \n",
    "ils sont arrondis !\n",
    "En Python, la solution consistera a utiliser un module spécial, le module **_Decimal_**."
   ]
  },
  {
   "cell_type": "code",
   "execution_count": null,
   "metadata": {},
   "outputs": [],
   "source": [
    "from decimal import *\n",
    "Decimal('0.1')+Decimal('0.7')"
   ]
  },
  {
   "cell_type": "markdown",
   "metadata": {},
   "source": [
    "**Si vous manipulez des flottants pour des calculs précis, méfiez vous !  **"
   ]
  },
  {
   "cell_type": "markdown",
   "metadata": {},
   "source": [
    "## Les chaîne caractères\n",
    "Les chaînes de caractères sont encadrées par des apostrophes ou des guillemets. Le choix de l'un ou de l'autre n'a aucun impact au niveau des performances.  \n",
    "La concaténation (assemblage de plusieurs chaînes pour n'en produire qu'une seule) se fait à l'aide de l'opérateur +. Enfin, l'opérateur * permet de répéter une chaîne. Voyons cela sous forme d'exemples :"
   ]
  },
  {
   "cell_type": "code",
   "execution_count": null,
   "metadata": {},
   "outputs": [],
   "source": [
    "a=\"Hello \"\n",
    "b=\"World !\"\n",
    "a+b"
   ]
  },
  {
   "cell_type": "code",
   "execution_count": null,
   "metadata": {},
   "outputs": [],
   "source": [
    "3*a"
   ]
  },
  {
   "cell_type": "markdown",
   "metadata": {},
   "source": [
    "L'accès à un caractère particulier de la chaîne se fait en indiquant sa position entre crochets (le premier caractère est à la position 0) :"
   ]
  },
  {
   "cell_type": "code",
   "execution_count": null,
   "metadata": {},
   "outputs": [],
   "source": [
    "a[0]"
   ]
  },
  {
   "cell_type": "markdown",
   "metadata": {},
   "source": [
    "En Python, on peut faire beaucoup de choses avec les chaînes de caractères ... nous verrons cela plus en détail dans l'article consacré aux chaînes et aux listes.  \n",
    "\n",
    "## Les boléens\n",
    "Les valeurs booléennes sont notées **_True_** et **_False_** (attention à la majuscule). \n",
    "\n",
    "Dans le cadre d'un test, les valeurs **_0_**, **_\"\"_** (la chaîne vide) et **_None_** sont considérées comme étant égales à **_False_**. Ces valeurs sont retournées comme résultats des tests réalisés à l'aide des opérateurs de comparaison :  \n",
    "**==** pour l'égalité, **!=** pour la différence, puis **<**, **>**, **<=** , et **>=**.  \n",
    "Exemple :"
   ]
  },
  {
   "cell_type": "code",
   "execution_count": null,
   "metadata": {},
   "outputs": [],
   "source": [
    "2==3"
   ]
  },
  {
   "cell_type": "code",
   "execution_count": null,
   "metadata": {},
   "outputs": [],
   "source": [
    "2<=3"
   ]
  },
  {
   "cell_type": "markdown",
   "metadata": {},
   "source": [
    "Pour combiner les tests, on utilise les opérateurs booléens (ou connecteurs logiques): \n",
    "\n",
    "\n",
    "\n",
    "**_and_** (et), **_or_** (ou), ***xor*** et ***not*** (non).\n",
    "\n",
    "- et : <condition1> et <condition2> est vraie si les deux conditions sont vraies simultanément.\n",
    "- ou : <condition1> ou <condition2> est vraie si au moins une des deux conditions est vraie.\n",
    "- xor : xor est un ou exclusif (eXclusive OR). La condition <condition1> xor <condition2> est vraie si exactement une des deux conditions est vraie.\n",
    "- non : non(<condition1>) est le contraire de <condition1>.\n",
    "\n",
    "<div style=\"width: 200px; float:left\">\n",
    "<table>\n",
    "<tr><th>et</th><th>V</th><th>F</th></tr>\n",
    "<tr><td>**V**</td><td>V</td><td>F</td><tr>\n",
    "<tr><td>**F**</td><td>F</td><td>F</td><tr>\n",
    "</table>\n",
    "</div>\n",
    "<div style=\"width: 200px; float:left\">\n",
    "<table>\n",
    "<tr><th>ou</th><th>V</th><th>F</th></tr>\n",
    "<tr><td>**V**</td><td>V</td><td>V</td><tr>\n",
    "<tr><td>**F**</td><td>V</td><td>F</td><tr>\n",
    "</table>\n",
    "</div>\n",
    "<div style=\"width: 200px; float:left\">\n",
    "<table>\n",
    "<tr><th>xor</th><th>V</th><th>F</th></tr>\n",
    "<tr><td>**V**</td><td>F</td><td>V</td><tr>\n",
    "<tr><td>**F**</td><td>V</td><td>F</td><tr>\n",
    "</table>\n",
    "</div>\n",
    "<div style=\"width: 200px; float:left\">\n",
    "<table>\n",
    "<tr><th>not</th><th>V</th><th>F</th></tr>\n",
    "<tr><td></td><td>F</td><td>V</td><tr>\n",
    "</table>\n",
    "</div>\n"
   ]
  },
  {
   "cell_type": "markdown",
   "metadata": {},
   "source": [
    "Voici un comparatif entre l'algorithmique et python: \n",
    "\n",
    "<table>\n",
    "<tr><th>Algorithmique</th><th>python</th></tr>\n",
    "<tr><td>a=b</td><td>a==b</td><tr>\n",
    "<tr><td>a&ne;b</td><td>a!=b</td><tr>\n",
    "<tr><td>A et B</td><td>A and B<br /> A & B</td><tr>\n",
    "<tr><td>A ou B</td><td>A or B <br /> A &#124; B</td><tr>\n",
    "<tr><td>A xor B</td><td>A ^ B</td><tr>\n",
    "<tr><td>non A </td><td>not(A)</td><tr>\n",
    "</table>"
   ]
  },
  {
   "cell_type": "code",
   "execution_count": null,
   "metadata": {},
   "outputs": [],
   "source": [
    "1>2 and True"
   ]
  },
  {
   "cell_type": "code",
   "execution_count": null,
   "metadata": {},
   "outputs": [],
   "source": [
    "2>1 and True"
   ]
  },
  {
   "cell_type": "code",
   "execution_count": null,
   "metadata": {},
   "outputs": [],
   "source": [
    "1>2 or True"
   ]
  },
  {
   "cell_type": "markdown",
   "metadata": {},
   "source": [
    "## retenir\n",
    "\n",
    "Les différents types entiers, flottants, complexes, chaînes de caractères, boléens, listes,  tuples et dictionnaires.\n",
    "\n",
    "- ***entier***: 3  \n",
    "- ***flottant***: 2.3  \n",
    "- ***chaînes de caractères (string)***: 'ICN'  \n",
    "- ***Boléen***: True  \n",
    "\n",
    "On aura toujours à l'esprit que $0.2+0.7=0.8999999999999999$\\neq0.9$\n",
    "\n",
    "- ***int()*** permet de convertir, un nombre ou une chaîne de caractère en un entier.  \n",
    "- ***float()*** permet de convertir, un nombre ou une chaîne de caractère en un flottant.\n",
    "\n",
    "- Quelques opérateur déjà vu et très utiles\n",
    "\n",
    "<html><table>\n",
    "    <tr><th>Opération</th><th>algorithme </th><th>python</th></tr>\n",
    "    <tr><td>addition</td><td>2+3</td><td>2+3</td>\n",
    "    <tr><td>Soustraction</td><td>12-5</td><td>12-5</td>\n",
    "    <tr><td>Multiplication </td><td> 3*6 </td><td>3*6 </td>\n",
    "    <tr><td>Division </td><td> 7/2 </td><td> 7/2</td>\n",
    "    <tr><td>Quotient de la division euclidienne </td><td> 7 div 2 ou div(7,2) </td><td> 7//2 </td>  \n",
    "    <tr><td>Reste de la division euclidienne </td><td>  7 mod 2 ou mod(7,2) </td><td>  7%2 </td>\n",
    "    <tr><td>puissance </td><td> $7^2$ </td><td>7\\*\\*2</td>\n",
    "    <tr><td>racine carrée </td><td> $\\sqrt{2}$ ou sqrt(2) </td><td> sqrt(2)</td> \n",
    "  </table>\n",
    "</html>"
   ]
  },
  {
   "cell_type": "markdown",
   "metadata": {},
   "source": [
    "# Les entrées et les sorties  E/S\n",
    "\n",
    "## Entrer des données\n",
    "Il est parfois nécessaire d'entrer des données"
   ]
  },
  {
   "cell_type": "code",
   "execution_count": null,
   "metadata": {},
   "outputs": [],
   "source": [
    "a=input(\"Entrer un texte a: \")\n",
    "type(a)"
   ]
  },
  {
   "cell_type": "code",
   "execution_count": null,
   "metadata": {},
   "outputs": [],
   "source": [
    "b=int(input(\"Entrer un entier b: \"))\n",
    "type(b)"
   ]
  },
  {
   "cell_type": "code",
   "execution_count": null,
   "metadata": {},
   "outputs": [],
   "source": [
    "c=float(input(\"Entrer un réel c: \"))\n",
    "type(c)"
   ]
  },
  {
   "cell_type": "markdown",
   "metadata": {},
   "source": [
    "Attention  *b=int(input(\"Entrer un entier b: \"))*   indique une erreur si on saisit par exemple 2.3  \n",
    "Pour arrondir 2.3 à 2 On utilisera ***float*** et ***int***."
   ]
  },
  {
   "cell_type": "code",
   "execution_count": null,
   "metadata": {
    "collapsed": true
   },
   "outputs": [],
   "source": [
    "d=int(float(input(\"Entrer un réel c: \")))\n",
    "print(d)"
   ]
  },
  {
   "cell_type": "markdown",
   "metadata": {},
   "source": [
    "## Afficher un texte ou la valeur d'une variable\n",
    "\n",
    "On utilise pour afficher un texte ou la valeur d'une variable la fonction ***print()***"
   ]
  },
  {
   "cell_type": "code",
   "execution_count": null,
   "metadata": {},
   "outputs": [],
   "source": [
    "print('toto')"
   ]
  },
  {
   "cell_type": "code",
   "execution_count": null,
   "metadata": {},
   "outputs": [],
   "source": [
    "a='Meilland jean claude'\n",
    "b='Lebowski Jeff'\n",
    "print(a,b)"
   ]
  },
  {
   "cell_type": "code",
   "execution_count": null,
   "metadata": {},
   "outputs": [],
   "source": [
    "print(a)"
   ]
  },
  {
   "cell_type": "code",
   "execution_count": null,
   "metadata": {},
   "outputs": [],
   "source": [
    "print(a,b,sep='\\n')  # sep signifie séparateur  et \\n pour newline"
   ]
  },
  {
   "cell_type": "markdown",
   "metadata": {},
   "source": [
    "On peut assi afficher du texte et des variables. Il existe plusieurs méthodes\n",
    "\n",
    "  ### méthode 1"
   ]
  },
  {
   "cell_type": "code",
   "execution_count": null,
   "metadata": {},
   "outputs": [],
   "source": [
    "a=12\n",
    "print(\"La valeur de la variable a est \",str(a),\".\",sep='') # par defaut sep est un espace"
   ]
  },
  {
   "cell_type": "markdown",
   "metadata": {},
   "source": [
    "#### ii. Méthode 2"
   ]
  },
  {
   "cell_type": "code",
   "execution_count": null,
   "metadata": {},
   "outputs": [],
   "source": [
    "print(\"La valeur de la variable a est \" + str(a) + \".\") # autre forme avec des +"
   ]
  },
  {
   "cell_type": "markdown",
   "metadata": {},
   "source": [
    "### Méthode 3  avec la méthode format()\n",
    "\n",
    "Avec python3  il est conseillé d'utiliser cette méthode"
   ]
  },
  {
   "cell_type": "code",
   "execution_count": null,
   "metadata": {},
   "outputs": [],
   "source": [
    "print(\"La valeur de la variable a est {}.\".format(a)) # Cette méthode est à préférer"
   ]
  },
  {
   "cell_type": "markdown",
   "metadata": {},
   "source": [
    "On remplace {} par le contenu de la variable a. Peu importe ici si a est un texte, un flottant Le résultat sera affiché.\n",
    "\n",
    "Voici des exemple un peu plus complexe"
   ]
  },
  {
   "cell_type": "code",
   "execution_count": null,
   "metadata": {},
   "outputs": [],
   "source": [
    "a=4\n",
    "b=5\n",
    "print(\"Le produit de {} par {} est {}\".format(a,b,a*b))"
   ]
  },
  {
   "cell_type": "code",
   "execution_count": null,
   "metadata": {},
   "outputs": [],
   "source": [
    " print(\"{0}*{1}={2} et {0}/{1}={3}\".format(a,b,a*b,a/b))"
   ]
  },
  {
   "cell_type": "markdown",
   "metadata": {},
   "source": [
    "## À retenir\n",
    "\n",
    "- On utilise le caractre ***\\#*** pour écrire un commentaire\n",
    "- Python utilise le symbole ***=*** pour affecter une valeur à une variable.  \n",
    "Attention à ne pas confondre a=12 et a==12.\n",
    "- ***input(\"texte\")***  permet de saisir du texte pour un programme.  \n",
    "- Il faudra éventuellement convertir ce texte dans le type voulu avec ***int()*** ou ***float()***\n",
    "- On utilise de préférence la méthode ***format()*** pour afficher du texte et des variables.  \n",
    "<html><br /><code>print(\"Le produit de {} par {} est {}\".format(a,b,a*b))</code></html>"
   ]
  },
  {
   "cell_type": "markdown",
   "metadata": {},
   "source": [
    "# Les structures de boucle et de test\n",
    "\n",
    "## Les structures de test\n",
    "\n",
    "### Si ...  alors ...  sinon\n",
    "<html>\n",
    "<div  style=\"background-color:#80BFFF\">\n",
    "<code style=\"background-color:#80BFFF\">\n",
    "if condition:\n",
    "    # Traitement bloc 1\n",
    "else:\n",
    "    # Traitement bloc 2\n",
    "</code></div></html>\n",
    "\n",
    "  Pour les tests multiples, il faudra enchaîner les if en cascade grâce à l'instruction elif, contraction de else if :\n",
    "\n",
    "  <html>\n",
    "<div  style=\"background-color:#80BFFF\">\n",
    "<code style=\"background-color:#80BFFF\">\n",
    "if condition:\n",
    "           # Traitement bloc 1\n",
    "elif:\n",
    "    # Traitement bloc 2\n",
    "else:\n",
    "    # Traitement bloc 3\n",
    "</code></div></html>\n",
    "\n",
    "  Par exemple:"
   ]
  },
  {
   "cell_type": "code",
   "execution_count": null,
   "metadata": {},
   "outputs": [],
   "source": [
    "a=3\n",
    "if a>1:\n",
    "    print('a>1')\n",
    "else:\n",
    "    print('a<=2')"
   ]
  },
  {
   "cell_type": "markdown",
   "metadata": {},
   "source": [
    "## Les structures de boucle\n",
    "\n",
    "Pour les boucles il existe deux structures. \n",
    "\n",
    "### La boucle for\n",
    "La boucle **_for_** prend ses valeurs dans une liste :\n",
    "\n",
    "**for *variable* in *liste_valeurs* **. À chaque itération la variable prendra pour valeur un élément de la liste."
   ]
  },
  {
   "cell_type": "code",
   "execution_count": null,
   "metadata": {},
   "outputs": [],
   "source": [
    "for e in [ 'pomme' , 'poire' , 'kiwi' ]:\n",
    "    print(e)"
   ]
  },
  {
   "cell_type": "markdown",
   "metadata": {},
   "source": [
    "Pour créer une boucle équivalente aux boucles traditionnelles << pour i allant de m à n, faire ... >>, nous utiliserons la fonction ***range()***.  \n",
    "La syntaxe générale est ***for i in range(m,n,p):***  \n",
    "**i prend alors toutes les valeurs de m à n-1 par pas de p**"
   ]
  },
  {
   "cell_type": "code",
   "execution_count": null,
   "metadata": {},
   "outputs": [],
   "source": [
    "for i in range(0,4):\n",
    "    print(i)"
   ]
  },
  {
   "cell_type": "code",
   "execution_count": null,
   "metadata": {},
   "outputs": [],
   "source": [
    "for i in range(4):\n",
    "    print(i)"
   ]
  },
  {
   "cell_type": "code",
   "execution_count": null,
   "metadata": {},
   "outputs": [],
   "source": [
    "for i in range(0,6,2):\n",
    "    print(i)"
   ]
  },
  {
   "cell_type": "code",
   "execution_count": null,
   "metadata": {},
   "outputs": [],
   "source": [
    "for i in range(4,0,-1):\n",
    "    print(i)"
   ]
  },
  {
   "cell_type": "markdown",
   "metadata": {},
   "source": [
    "Le mot-clé **_continue_** permet de passer à l'itération suivante et le mot-clé **_break_** permet de sortir de la boucle :"
   ]
  },
  {
   "cell_type": "code",
   "execution_count": null,
   "metadata": {},
   "outputs": [],
   "source": [
    "for i in range(0,10):\n",
    "    if i==2:\n",
    "        continue\n",
    "    if i==6:\n",
    "        break\n",
    "    print(i)"
   ]
  },
  {
   "cell_type": "markdown",
   "metadata": {},
   "source": [
    "###  La boucle while\n",
    "\n",
    "La seconde structure de boucle est le *<< tant que >>* : tant qu'une condition est vraie, on boucle.  \n",
    "Attention : dans ce type de boucle on utilise une variable de boucle dont la valeur doit changer pour pouvoir sortir de la boucle :"
   ]
  },
  {
   "cell_type": "code",
   "execution_count": null,
   "metadata": {},
   "outputs": [],
   "source": [
    "i=0\n",
    "while i<4:\n",
    "    print(i)\n",
    "    i+=1 #équivalent à i=i+1"
   ]
  },
  {
   "cell_type": "markdown",
   "metadata": {},
   "source": [
    "La boucle **_while_** accepte elle aussi les mots-clés **_continue_** et **_break_**.\n",
    "\n",
    "\n",
    "## À retenir.\n",
    "\n",
    "Il faut absolument savoir utiliser les test ***if*** et boucles ***for*** et ***while***\n",
    "\n",
    "Il n'y a que les exercices qui vous permettrons de vous familiariser avec ceci. "
   ]
  },
  {
   "cell_type": "markdown",
   "metadata": {
    "collapsed": true
   },
   "source": [
    "#  Les fonctions\n",
    "\n",
    "Les fonctions se définissent de la façon suivante\n",
    "```python\n",
    "def nomfonction(arg):\n",
    "    instruction\n",
    "    return variable\n",
    "```\n",
    "Par exemple pour la fonction carré on écrira:"
   ]
  },
  {
   "cell_type": "code",
   "execution_count": null,
   "metadata": {},
   "outputs": [],
   "source": [
    "def carre(x):\n",
    "    y=x**2\n",
    "    return y\n",
    "print(carre(4))\n",
    "print(carre(6))"
   ]
  },
  {
   "cell_type": "markdown",
   "metadata": {
    "collapsed": true
   },
   "source": [
    "# Exercices"
   ]
  },
  {
   "cell_type": "markdown",
   "metadata": {},
   "source": [
    "**Exercice 1**:  (Récoltes)\n",
    "1.   Votre programme doit lire un entier, qui représente la longueur du côté d'un champ carré. Il doit ensuite afficher la masse que l'on pourra récolter de ce champ si l'on suppose que la production sera de 23 kg par mètre carré.\n",
    "2.   Transformer ce programme en fonction"
   ]
  },
  {
   "cell_type": "code",
   "execution_count": null,
   "metadata": {},
   "outputs": [],
   "source": []
  },
  {
   "cell_type": "markdown",
   "metadata": {
    "collapsed": true
   },
   "source": [
    "**Exercice 2**: (Transport des bagages)\n",
    "1. Votre programme lira deux entiers : le nombre de paquets et la masse d'un paquet. Si la masse totale est strictement supérieur à 105 Kg, votre programme devra alors afficher le texte \"Surcharge !\".\n",
    "2. Transformer ce programme en fonction"
   ]
  },
  {
   "cell_type": "code",
   "execution_count": null,
   "metadata": {
    "collapsed": true
   },
   "outputs": [],
   "source": []
  },
  {
   "cell_type": "markdown",
   "metadata": {
    "collapsed": true
   },
   "source": [
    "**Exercice 3**: (Bornes kilométriques)\n",
    "1.  Votre programme doit lire deux entiers, correspondant à deux numéros de bornes kilométriques, et il doit afficher la distance séparant ces deux bornes. Notez que le résultat doit être un nombre positif ou nul.\n",
    "2.  Transformer ce programme en fonction"
   ]
  },
  {
   "cell_type": "code",
   "execution_count": null,
   "metadata": {},
   "outputs": [],
   "source": []
  },
  {
   "cell_type": "markdown",
   "metadata": {},
   "source": [
    "**Exercice 4**: (Tarifs dégressifs)\n",
    "1.  Votre programme lira un entier, l'heure d'arrivée, qui sera compris entre 0 et 12 inclus (soit midi à minuit). Le prix de base est de 10 pièces plus 5 pièces pour toute heure après midi. Il ne peut cependant pas dépasser 53 pièces. Votre programme devra afficher le prix à payer correspondant à l'heure d'arrivée donnée.\n",
    "2.  Transformer ce programme en fonction"
   ]
  },
  {
   "cell_type": "code",
   "execution_count": null,
   "metadata": {},
   "outputs": [],
   "source": []
  },
  {
   "cell_type": "markdown",
   "metadata": {},
   "source": [
    "**Exercice 5**: (Tarif du bateau)\n",
    "1.  Votre programme doit lire l'âge d'une personne et afficher soit \"Tarif réduit\" si cette personne a strictement moins de 21 ans, soit \"Tarif plein\" dans le cas contraire.\n",
    "2.  Transformer ce programme en fonction"
   ]
  },
  {
   "cell_type": "code",
   "execution_count": null,
   "metadata": {},
   "outputs": [],
   "source": []
  },
  {
   "cell_type": "markdown",
   "metadata": {},
   "source": [
    "**Exercice 6**: (Traversée du pont)\n",
    "1.  Votre programme doit lire deux entiers, compris entre 1 et 6, la valeur de chaque dé. Si la somme est supérieure ou égale à 10 alors vous devez payer une taxe spéciale (36 pièces), sinon vous payez deux fois la somme des valeurs des deux dés. Votre programme devra afficher le texte \"Taxe spéciale !\" ou bien \"Taxe régulière\", selon le cas, puis la somme à payer (sans indiquer l'unité).\n",
    "2.  Transformer ce programme en fonction"
   ]
  },
  {
   "cell_type": "code",
   "execution_count": null,
   "metadata": {},
   "outputs": [],
   "source": []
  },
  {
   "cell_type": "markdown",
   "metadata": {},
   "source": [
    "**Exercice 7**: (Mot de passe du village)\n",
    "1.  Votre programme doit lire un entier : le code fourni par l'utilisateur. Si ce code correspond au code secret, qui est 64741, alors le programme devra afficher le texte \"Bon festin !\". Sinon, il devra afficher \"Allez-vous en !\".\n",
    "2.  Transformer ce programme en fonction"
   ]
  },
  {
   "cell_type": "code",
   "execution_count": null,
   "metadata": {},
   "outputs": [],
   "source": []
  },
  {
   "cell_type": "markdown",
   "metadata": {},
   "source": [
    "**Exercice 8**: (Les punitions)\n",
    "1.  Votre programme doit lire un entier, le nombre de lignes souhaité, et écrira autant de fois que demandé la phrase << Je dois suivre en cours >>.\n",
    "2.  Transformer ce programme en fonction"
   ]
  },
  {
   "cell_type": "code",
   "execution_count": null,
   "metadata": {},
   "outputs": [],
   "source": []
  },
  {
   "cell_type": "markdown",
   "metadata": {},
   "source": [
    "**Exercice 9**: Soit les points $A(x_a,y_a)$ et $B(x_b,y_b)$ dans un repère orthonormé.\n",
    "\n",
    "a)  Créer un programme pour calculer la distance ***AB***.\n",
    "\n",
    "\n",
    "\n",
    "<html><div style=\"width: 400px; float:left\">\n",
    "    <table>\n",
    "    <tr><th>Variables:></th><th>xA, yA xB, yB</th></tr>\n",
    "    <tr><th>Entrée:</th><th>1 2 4 6</th></tr>\n",
    "    <tr><th>Sortie:</th><th>5</th>\n",
    "    </table>\n",
    "    </div>\n",
    "\n",
    "    <table>\n",
    "    <tr><th>Variables:></th><th>xA, yA xB, yB</th></tr>\n",
    "    <tr><th>Entrée:</th><th>1 2 5 7</th></tr>\n",
    "    <tr><th>Sortie:</th><th>6.4031242374328485</th>\n",
    "    </table></html>\n",
    "</html>\n",
    "\n",
    "\n",
    "\n",
    "Aide! Pour utiliser la racine carré  (square root en anglais) il faut importer la librairie ***math***.  \n",
    "Par exemple pour calculer $\\sqrt(2)$\n",
    "<html>\n",
    "<div  style=\"background-color:#80BFFF\">\n",
    "<code style=\"background-color:#80BFFF\">import math\n",
    "math.sqrt(2)\n",
    "</code></div></html>"
   ]
  },
  {
   "cell_type": "code",
   "execution_count": null,
   "metadata": {},
   "outputs": [],
   "source": []
  },
  {
   "cell_type": "markdown",
   "metadata": {},
   "source": [
    "# Le module turtle\n",
    "\n",
    "\n",
    "Le module turtle est un ensemble d’outils permettant de dessiner à l’aide d’instructions simples comme Scratch \n",
    "\n",
    "Il faut au début importer le module ***turtle*** avec   \n",
    "\n",
    "```python\n",
    "from  turtle import *\n",
    "```\n",
    "\n",
    "Les principales fonctions du module turtle sont :\n",
    "\n",
    "  commande |  \n",
    " :---- | :-----  \n",
    " • ***reset()*** | On efface tout et on recommence  \n",
    " • ***goto(x,y)*** | Aller à l’endroit de coordonnées x et y  \n",
    " • ***forward(distance)*** | Avancer d’une distance donnée\n",
    " • ***backward(distance)*** | Reculer  \n",
    " • ***up()***  |  Relever le crayon (pour pouvoir avancer sans dessiner)  \n",
    " • ***down()***  | Abaisser le crayon (pour pouvoir recommencer à dessiner)  \n",
    " • ***color(couleur)*** |  Couleur peut être une chaîne prédéfinie (’red’, ’blue’, ’green’, etc.)  \n",
    " • ***left(angle)***  | Tourner à gauche d’un angle donné (exprimé en degré)  \n",
    " • ***right(angle)***  | Tourner à droite  \n",
    " • ***width(épaisseur)***  | Choisir l’épaisseur du tracé  \n",
    " • ***fill(1)***  | Remplir un contour fermé à l’aide de la couleur sélectionnée (on termine la construction par fill(0))  \n",
    " • ***write(texte)***  |  texte doit être une chaîne de caractères délimitée avec des \" ou des ’\n"
   ]
  },
  {
   "cell_type": "code",
   "execution_count": 1,
   "metadata": {},
   "outputs": [],
   "source": [
    "from  turtle  import *  #On importe le module\n",
    "def triangle(n):        #On définit une fonction triangle\n",
    "    down()              #stylo en position écriture\n",
    "    for i in range(3):  #Pour i allant de 0 à 3 faire\n",
    "        forward(n)      #On avance de n\n",
    "        left(120)       #On tourne à gauche de 120°\n",
    "    up()                #On releve le stylo\n",
    "\n",
    "def draw():\n",
    "    reset()             #On efface tout\n",
    "    color('blue')       #On met la couleur bleue\n",
    "    up()                #stylo en position écriture\n",
    "    goto(-200,-100)     #On va au point de coordonnées (-200,-100)\n",
    "    down()              #stylo en position écriture\n",
    "    cote=100            #cote prend la valeur 100\n",
    "    for i in range (5): #Pour i allant de 0 à 4 faire\n",
    "        triangle(cote)\n",
    "        forward(cote)   #On avance de cote\n",
    "        cote=cote-20    #cote prend la valeur cote-20\n",
    "\n",
    "write(\"Appuyez sur la touche entrer\")\n",
    "onkey(draw, \"Return\")   # Si on appuie sur la touche  Entrer on exécute la fonction draw\n",
    "onkey(bye, \"Escape\" )   # bye() est une fonction interne de turtle.\n",
    "listen()                #On écoute pour savoir s'il y a des évènements.\n",
    "mainloop()              # Le programme fonctionne en boucle"
   ]
  }
 ],
 "metadata": {
  "kernelspec": {
   "display_name": "Python 3",
   "language": "python",
   "name": "python3"
  },
  "language_info": {
   "codemirror_mode": {
    "name": "ipython",
    "version": 3
   },
   "file_extension": ".py",
   "mimetype": "text/x-python",
   "name": "python",
   "nbconvert_exporter": "python",
   "pygments_lexer": "ipython3",
   "version": "3.6.4rc1"
  },
  "latex_envs": {
   "LaTeX_envs_menu_present": true,
   "autocomplete": true,
   "bibliofile": "biblio.bib",
   "cite_by": "apalike",
   "current_citInitial": 1,
   "eqLabelWithNumbers": true,
   "eqNumInitial": 1,
   "hotkeys": {
    "equation": "Ctrl-E",
    "itemize": "Ctrl-I"
   },
   "labels_anchors": false,
   "latex_user_defs": false,
   "report_style_numbering": false,
   "user_envs_cfg": false
  },
  "toc": {
   "colors": {
    "hover_highlight": "#DAA520",
    "navigate_num": "#000000",
    "navigate_text": "#333333",
    "running_highlight": "#FF0000",
    "selected_highlight": "#FFD700",
    "sidebar_border": "#EEEEEE",
    "wrapper_background": "#FFFFFF"
   },
   "moveMenuLeft": true,
   "nav_menu": {
    "height": "512px",
    "width": "252px"
   },
   "navigate_menu": true,
   "number_sections": true,
   "sideBar": false,
   "threshold": 4,
   "toc_cell": false,
   "toc_position": {
    "height": "350px",
    "left": "1px",
    "right": "1475px",
    "top": "107px",
    "width": "302px"
   },
   "toc_section_display": "block",
   "toc_window_display": false,
   "widenNotebook": false
  }
 },
 "nbformat": 4,
 "nbformat_minor": 1
}
