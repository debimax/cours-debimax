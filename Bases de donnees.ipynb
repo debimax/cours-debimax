{
 "cells": [
  {
   "cell_type": "code",
   "execution_count": 2,
   "metadata": {},
   "outputs": [
    {
     "data": {
      "application/javascript": [
       "IPython.Cell.options_default.cm_config.lineNumbers = true"
      ],
      "text/plain": [
       "<IPython.core.display.Javascript object>"
      ]
     },
     "metadata": {},
     "output_type": "display_data"
    }
   ],
   "source": [
    "%%javascript\n",
    "IPython.Cell.options_default.cm_config.lineNumbers = true"
   ]
  },
  {
   "cell_type": "code",
   "execution_count": 3,
   "metadata": {},
   "outputs": [
    {
     "data": {
      "text/html": [
       "<style>\n",
       "/* Pour le titre comme cela il n'y a pas de numérotation au */\n",
       "#titre{\n",
       "font-size: 24pt; \n",
       "color:#ff0000;\n",
       "text-decoration: underline;\n",
       "text-align: center;\n",
       "font-weight: bold;\n",
       "}\n",
       "\n",
       "div.text_cell_render { font-size: 12pt;   line-height: 145%; }\n",
       "div.text_cell_render h1{font-size: 24pt; color:#0000ff;  text-decoration: underline;}\n",
       "div.text_cell_render h2{font-size: 18pt;color:#0000ff;  text-decoration: underline;}\n",
       "div.text_cell_render h3{font-size: 14pt;color:#0000ff;  text-decoration: underline;}\n",
       "div.text_cell_render h4{font-size: 12pt;color:#0000ff;  text-decoration: underline; }\n",
       "div.text_cell_render h5 {font-weight: 300;}\n",
       "\n",
       "\n",
       "div.cell.code_cell { /* area that contains code + output */\n",
       "    background: #ffffff;\n",
       "    border: none;\n",
       "    border-radius: 10px;\n",
       "    padding-top: 1ex;\n",
       "}\n",
       "\n",
       "div.input_area { /* box around box with code */\n",
       "    border: none;\n",
       "    background: #f5f5f5;\n",
       "    border: 1px solid #ccc;\n",
       "    border-radius: 10px;\n",
       "    padding-top: 0.5ex;\n",
       "    padding-bottom: 0.5ex;\n",
       "    padding-left: 0.5em;\n",
       "}\n",
       "\n",
       "div.input { /* box with code */\n",
       "}\n",
       "\n",
       "div.CodeMirror { /* code font */\n",
       "    font-family: \"Inconsolata-dz\", monospace;\n",
       "    font-size: 10pt;\n",
       "}\n",
       "\n",
       "\n",
       "\n",
       "\n",
       "\n",
       "/*div.text_cell_render  code { font-size: medium; border: 3px #ababab solid; background-color: #f5f5f5;}*/\n",
       "/*.rendered_html code { border: 3px #ababab solid; background-color:  #f5f5f5;}*/\n",
       ".rendered_html blockquote { margin: 1em 2em; background: red; }\n",
       ".rendered_html ol { list-style:decimal; margin: 1em 2em; }\n",
       "\n",
       "\n",
       "/* classe pour inverse video */\n",
       ".reverse{\n",
       "    background-color: black;\n",
       "    color: white;\n",
       "}\n",
       "/*  strick   <s>texte/<s>*/\n",
       ".barre{\n",
       "\n",
       "}\n",
       "\n",
       "\n",
       "</style>"
      ],
      "text/plain": [
       "<IPython.core.display.HTML object>"
      ]
     },
     "execution_count": 3,
     "metadata": {},
     "output_type": "execute_result"
    }
   ],
   "source": [
    "# Charge ma feuille de style pour nbviewer\n",
    "from IPython.core.display import display, HTML\n",
    "from  urllib.request import urlopen\n",
    "# import urllib.request, urllib.parse, urllib.error\n",
    "\n",
    "url='https://github.com/debimax/cours-debimax/raw/master/static/custom.css'\n",
    "with urlopen(url) as response:\n",
    "    styles = response.read().decode(\"utf8\")\n",
    "styles=\"<style>\\n{}\\n</style>\".format(styles)\n",
    "HTML(styles)"
   ]
  },
  {
   "cell_type": "markdown",
   "metadata": {},
   "source": [
    "# Bases de données\n",
    "\n",
    "## Généralité sur les bases de données\n",
    "\n",
    "### Le langage SQL et les bases de données\n",
    "\n",
    "La ***base de données (BDD)*** est un système qui enregistre des informations. Ces informations sont toujours classées. On peut donc faire des recherches sur ces données.  \n",
    "Les ***SGBD (Systèmes de Gestion de Bases de Données)*** sont les programmes qui se chargent du stockage de vos données.\n",
    "\n",
    "Les plus connus sont :  \n",
    "- MySQL : libre et gratuit, c’est probablement le SGBD le plus connu.\n",
    "- PostgreSQL : libre et gratuit comme MySQL, avec plus de fonctionnalités mais un peu\n",
    "moins connu ;\n",
    "- SQLite : libre et gratuit, très léger et adapté pour des petites bases de donnée ;\n",
    "- Oracle : utilisé par les très grosses entreprises ;\n",
    "\n",
    "Vous donnez les ordres au SGBD en langage ***SQL (Structured Query Language)***.  \n",
    "Voici un exemple de commande en langage SQL, pour vous donner une idée :\n",
    "\n",
    "```python\n",
    "SELECT id, auteur, message, datemsg FROM livreor ORDER BY datemsg DESC\n",
    "```\n",
    "\n",
    "Pour communiquer avec une base de donnée (créer, modifier, faire une requête) on le fait avec:  \n",
    "- **un logiciel:** sqlitebrowser pour sqlite, pgadmin pour postgree.\n",
    "- **php :** phpmyadmin pour mysql ou phppgadmin pour postgree.\n",
    "- **python :** (import sqlite3) , il y a aussi des modules pour mysql et postgree.\n",
    "\n",
    "## Structure d’une base de données\n",
    "\n",
    "Avec les bases de données, il faut utiliser un vocabulaire précis.  \n",
    "Une table est représentée sous la forme d’un tableau ; par exemple, le tableau suivante vous montre à quoi peut ressembler le contenu d’une table appelée << eleve >>.\n",
    "\n",
    "\n",
    "id | nom | prénom | classe | date_naissance | LV1 | LV2 \n",
    " :-: | :-: | :-: | :-: |:-: | :-: |:-: \n",
    "1 | AREZ |  Michael | TS2 | 1995  | anglais | espagnol\n",
    "2  | ASSONG  | Yasmine  |  TS3  | 1995 | anglais  | espagnol\n",
    "\n"
   ]
  },
  {
   "cell_type": "markdown",
   "metadata": {},
   "source": [
    "## Lire les bases de données\n",
    "\n",
    "\n",
    "Télécharger les deux bases de donnée suivantes:  \n",
    "- [isn.sqlite3](http://megamaths.free.fr/pdf/bases/isn.sqlite3)\n",
    "- [communes.sqlite3](http://megamaths.free.fr/pdf/bases/communes.sqlite3)\n",
    "\n",
    "Créer le dossier ***documents***  et mettre les bases de données dans ce dossier.  \n",
    "\n",
    "\n",
    "\n",
    "### Avec un logiciel sqlitebrowser\n",
    "\n",
    "Ouvrez sqlitebrowser : Menu&#8594;Développement&#8594;SQLite database browser  \n",
    "Ouvrer alors la base *isn.sqlite3*, cliquer alors sur l’onglet *browse data* pour voir la base.  \n",
    "On peut bien sur modifier les entrées, en ajouter et enlever.  \n",
    "\n",
    "### Avec python\n",
    "Dans le shell python executez le code suivant  (le chemin de la base est biensur à adapter chez vous)."
   ]
  },
  {
   "cell_type": "code",
   "execution_count": 79,
   "metadata": {},
   "outputs": [
    {
     "data": {
      "text/plain": [
       "[('table',\n",
       "  'eleves',\n",
       "  'eleves',\n",
       "  3,\n",
       "  'CREATE TABLE eleves (id INTEGER PRIMARY KEY, nom TEXT, prenom TEXT, classe TEXT, annee_naissance NUMERIC, LV1 , LV2 )')]"
      ]
     },
     "execution_count": 79,
     "metadata": {},
     "output_type": "execute_result"
    }
   ],
   "source": [
    "import sqlite3          # import du module\n",
    "con = sqlite3.connect('documents/isn.sqlite3')      # ouverture de la base\n",
    "c = con.cursor()        # obtention d'un curseur\n",
    "c.execute(\"SELECT * FROM sqlite_master\") # la requête\n",
    "c.fetchall()     #fetch signifie récupérer en anglais"
   ]
  },
  {
   "cell_type": "markdown",
   "metadata": {},
   "source": [
    "La même requète mais en une seule ligne"
   ]
  },
  {
   "cell_type": "code",
   "execution_count": 81,
   "metadata": {},
   "outputs": [
    {
     "data": {
      "text/plain": [
       "[('table',\n",
       "  'eleves',\n",
       "  'eleves',\n",
       "  3,\n",
       "  'CREATE TABLE eleves (id INTEGER PRIMARY KEY, nom TEXT, prenom TEXT, classe TEXT, annee_naissance NUMERIC, LV1 , LV2 )')]"
      ]
     },
     "execution_count": 81,
     "metadata": {},
     "output_type": "execute_result"
    }
   ],
   "source": [
    "c.execute(\"SELECT * FROM sqlite_master\").fetchall()"
   ]
  },
  {
   "cell_type": "code",
   "execution_count": 86,
   "metadata": {},
   "outputs": [
    {
     "data": {
      "text/plain": [
       "[(1, 'ACHARD', 'Quentin', 'TS3', 1995, 'anglais', 'espagnol'),\n",
       " (2, 'AREZKI', 'Yasmine', 'TS2', 1995, 'anglais', 'espagnol'),\n",
       " (3, 'ASSING', 'Michael', 'TS3', 1995, 'anglais', 'espagnol'),\n",
       " (4, 'BAILLUS', ' Anthony', 'TS3', 1995, 'anglais', 'espagnol'),\n",
       " (5, 'BELLEZZA-BERGER', 'Anaïs', 'TS3', 1995, 'anglais', 'espagnol')]"
      ]
     },
     "execution_count": 86,
     "metadata": {},
     "output_type": "execute_result"
    }
   ],
   "source": [
    "c.execute(\"SELECT * FROM eleves\").fetchall()[:5] # pour voir toute la table, [:5] pour les 5 premiers"
   ]
  },
  {
   "cell_type": "markdown",
   "metadata": {},
   "source": [
    "On utilise des bases de données pour effectuer des ***requêtes*** et avoir rapidement un résultat.  "
   ]
  },
  {
   "cell_type": "code",
   "execution_count": 92,
   "metadata": {},
   "outputs": [
    {
     "data": {
      "text/plain": [
       "[(1, 'ACHARD', 'Quentin', 'TS3', 1995, 'anglais', 'espagnol'),\n",
       " (3, 'ASSING', 'Michael', 'TS3', 1995, 'anglais', 'espagnol'),\n",
       " (4, 'BAILLUS', ' Anthony', 'TS3', 1995, 'anglais', 'espagnol'),\n",
       " (5, 'BELLEZZA-BERGER', 'Anaïs', 'TS3', 1995, 'anglais', 'espagnol'),\n",
       " (6, 'BEN AZOUZ', 'Nassim', 'TS3', 1994, 'anglais', 'espagnol'),\n",
       " (14, 'BROCHENIN', 'Léna', 'TS3', 1995, 'anglais', 'espagnol'),\n",
       " (22, 'CHASANE', 'Mélanie', 'TS3', 1995, 'anglais', 'espagnol'),\n",
       " (27, 'DE LA VAISSIERE', 'Arnaud', 'TS3', 1994, 'anglais', 'espagnol'),\n",
       " (30, 'DERMECHE', 'linda', 'TS3', 1995, 'anglais', 'espagnol'),\n",
       " (34, 'DINH', 'Nicolas', 'TS3', 1994, 'anglais', 'espagnol')]"
      ]
     },
     "execution_count": 92,
     "metadata": {},
     "output_type": "execute_result"
    }
   ],
   "source": [
    "# Par exemple pour afficher tous les champs des élèves de TS3\n",
    "c.execute(\"SELECT * FROM eleves WHERE classe='TS3'\").fetchall()[:10]"
   ]
  },
  {
   "cell_type": "code",
   "execution_count": 91,
   "metadata": {},
   "outputs": [
    {
     "data": {
      "text/plain": [
       "[('ACHARD', 'Quentin'),\n",
       " ('ASSING', 'Michael'),\n",
       " ('BAILLUS', ' Anthony'),\n",
       " ('BELLEZZA-BERGER', 'Anaïs'),\n",
       " ('BEN AZOUZ', 'Nassim'),\n",
       " ('BROCHENIN', 'Léna'),\n",
       " ('CHASANE', 'Mélanie'),\n",
       " ('DE LA VAISSIERE', 'Arnaud'),\n",
       " ('DERMECHE', 'linda'),\n",
       " ('DINH', 'Nicolas')]"
      ]
     },
     "execution_count": 91,
     "metadata": {},
     "output_type": "execute_result"
    }
   ],
   "source": [
    "# On affiche seulement le champs  nom et  prenom\n",
    "c.execute(\"SELECT nom, prenom FROM eleves WHERE classe='TS3'\").fetchall()[:10]"
   ]
  },
  {
   "cell_type": "code",
   "execution_count": 90,
   "metadata": {},
   "outputs": [
    {
     "data": {
      "text/plain": [
       "[(6, 'BEN AZOUZ', 'Nassim', 'TS3', 1994, 'anglais', 'espagnol'),\n",
       " (27, 'DE LA VAISSIERE', 'Arnaud', 'TS3', 1994, 'anglais', 'espagnol'),\n",
       " (34, 'DINH', 'Nicolas', 'TS3', 1994, 'anglais', 'espagnol'),\n",
       " (40, 'FERRAZI', 'Elsa', 'TS3', 1994, 'anglais', 'espagnol'),\n",
       " (47, 'GONZALEZ', 'Simon', 'TS3', 1994, 'anglais', 'espagnol'),\n",
       " (49, 'GRAS', 'Jérémy', 'TS3', 1994, 'anglais', 'espagnol'),\n",
       " (56, 'JACQUET', 'Laura', 'TS3', 1994, 'anglais', 'espagnol'),\n",
       " (64, 'MAHOUR BACHA', 'Hanène', 'TS3', 1994, 'anglais', 'espagnol'),\n",
       " (71, 'MERLIN', 'Alexis', 'TS3', 1994, 'anglais', 'espagnol'),\n",
       " (75, 'MORA', 'Quentin', 'TS3', 1994, 'anglais', 'italien')]"
      ]
     },
     "execution_count": 90,
     "metadata": {},
     "output_type": "execute_result"
    }
   ],
   "source": [
    "# tous les champs des élèves de TS3 classés par année de naissance\n",
    "c.execute(\"SELECT * FROM eleves WHERE classe='TS3' ORDER BY annee_naissance\").fetchall()[:10]"
   ]
  },
  {
   "cell_type": "code",
   "execution_count": 94,
   "metadata": {},
   "outputs": [
    {
     "data": {
      "text/plain": [
       "[(1, 'ACHARD', 'Quentin', 'TS3', 1995, 'anglais', 'espagnol'),\n",
       " (3, 'ASSING', 'Michael', 'TS3', 1995, 'anglais', 'espagnol'),\n",
       " (4, 'BAILLUS', ' Anthony', 'TS3', 1995, 'anglais', 'espagnol'),\n",
       " (5, 'BELLEZZA-BERGER', 'Anaïs', 'TS3', 1995, 'anglais', 'espagnol'),\n",
       " (6, 'BEN AZOUZ', 'Nassim', 'TS3', 1994, 'anglais', 'espagnol'),\n",
       " (14, 'BROCHENIN', 'Léna', 'TS3', 1995, 'anglais', 'espagnol'),\n",
       " (22, 'CHASANE', 'Mélanie', 'TS3', 1995, 'anglais', 'espagnol'),\n",
       " (27, 'DE LA VAISSIERE', 'Arnaud', 'TS3', 1994, 'anglais', 'espagnol'),\n",
       " (30, 'DERMECHE', 'linda', 'TS3', 1995, 'anglais', 'espagnol'),\n",
       " (34, 'DINH', 'Nicolas', 'TS3', 1994, 'anglais', 'espagnol')]"
      ]
     },
     "execution_count": 94,
     "metadata": {},
     "output_type": "execute_result"
    }
   ],
   "source": [
    "# tous les champs des élèves de TS3 classés par l'id\n",
    "c.execute(\"SELECT * FROM eleves WHERE classe='TS3' ORDER BY id\").fetchall()[:10]"
   ]
  },
  {
   "cell_type": "code",
   "execution_count": 95,
   "metadata": {},
   "outputs": [
    {
     "data": {
      "text/plain": [
       "[(1, 'ACHARD', 'Quentin', 'TS3', 1995, 'anglais', 'espagnol'),\n",
       " (75, 'MORA', 'Quentin', 'TS3', 1994, 'anglais', 'italien')]"
      ]
     },
     "execution_count": 95,
     "metadata": {},
     "output_type": "execute_result"
    }
   ],
   "source": [
    "c.execute(\"SELECT * FROM eleves WHERE ( prenom = 'Quentin' ) \").fetchall()"
   ]
  },
  {
   "cell_type": "code",
   "execution_count": 96,
   "metadata": {},
   "outputs": [
    {
     "data": {
      "text/plain": [
       "[(1, 'ACHARD', 'Quentin', 'TS3', 1995, 'anglais', 'espagnol')]"
      ]
     },
     "execution_count": 96,
     "metadata": {},
     "output_type": "execute_result"
    }
   ],
   "source": [
    "c.execute(\"SELECT * FROM eleves WHERE ( nom = 'ACHARD' AND prenom = 'Quentin' ) \").fetchall()"
   ]
  },
  {
   "cell_type": "code",
   "execution_count": 97,
   "metadata": {},
   "outputs": [
    {
     "data": {
      "text/plain": [
       "[(93, 'SAJIDE', 'Soufiane', 'TS3', 1994, 'anglais', 'espagnol'),\n",
       " (94, 'SOUQUE', 'Julie', 'TS3', 1995, 'anglais', 'espagnol')]"
      ]
     },
     "execution_count": 97,
     "metadata": {},
     "output_type": "execute_result"
    }
   ],
   "source": [
    "c.execute(\"SELECT * FROM eleves WHERE nom LIKE 's%' \").fetchall()"
   ]
  },
  {
   "cell_type": "markdown",
   "metadata": {},
   "source": [
    "On peut bien sur modifier une base de donnée"
   ]
  },
  {
   "cell_type": "code",
   "execution_count": 75,
   "metadata": {},
   "outputs": [
    {
     "data": {
      "text/plain": [
       "[(96, 'TISSIER VERSE', 'Eva', 'TS2', 1994, 'anglais', 'italien'),\n",
       " (97, 'TOURNE', ' Louna', 'TS1', 1995, 'anglais', 'espagnol'),\n",
       " (98, 'TRINH', 'Van Thibaut', 'TS3', 1995, 'anglais', 'espagnol'),\n",
       " (99, 'VERGHADE', 'Jérémy', 'TS2', 1995, 'anglais', 'espagnol'),\n",
       " (100, 'Simpson', 'bart', 'TS3', 1995, None, None)]"
      ]
     },
     "execution_count": 75,
     "metadata": {},
     "output_type": "execute_result"
    }
   ],
   "source": [
    "#pour ajouter\n",
    "c.execute(\"INSERT INTO eleves (nom, prenom, classe,annee_naissance) VALUES ('Simpson', 'bart', 'TS3', 1995)\")\n",
    "con.commit() # pour valider l'écriture de la base\n",
    "c.execute(\"SELECT * FROM eleves\").fetchall()[-5:]"
   ]
  },
  {
   "cell_type": "code",
   "execution_count": 76,
   "metadata": {},
   "outputs": [
    {
     "data": {
      "text/plain": [
       "[(96, 'TISSIER VERSE', 'Eva', 'TS2', 1994, 'anglais', 'italien'),\n",
       " (97, 'TOURNE', ' Louna', 'TS1', 1995, 'anglais', 'espagnol'),\n",
       " (98, 'TRINH', 'Van Thibaut', 'TS3', 1995, 'anglais', 'espagnol'),\n",
       " (99, 'VERGHADE', 'Jérémy', 'TS2', 1995, 'anglais', 'espagnol'),\n",
       " (100, 'Simpson', 'lisa', 'TS3', 1995, None, None)]"
      ]
     },
     "execution_count": 76,
     "metadata": {},
     "output_type": "execute_result"
    }
   ],
   "source": [
    "# pour modifier\n",
    "c.execute(\"UPDATE eleves SET prenom='lisa' WHERE nom='Simpson' AND prenom='bart'\")\n",
    "con.commit()\n",
    "c.execute(\"SELECT * FROM eleves\").fetchall()[-5:]"
   ]
  },
  {
   "cell_type": "code",
   "execution_count": 77,
   "metadata": {},
   "outputs": [
    {
     "data": {
      "text/plain": [
       "[(95, 'THIZY', ' Kévin', 'TS1', 1995, 'anglais', 'espagnol'),\n",
       " (96, 'TISSIER VERSE', 'Eva', 'TS2', 1994, 'anglais', 'italien'),\n",
       " (97, 'TOURNE', ' Louna', 'TS1', 1995, 'anglais', 'espagnol'),\n",
       " (98, 'TRINH', 'Van Thibaut', 'TS3', 1995, 'anglais', 'espagnol'),\n",
       " (99, 'VERGHADE', 'Jérémy', 'TS2', 1995, 'anglais', 'espagnol')]"
      ]
     },
     "execution_count": 77,
     "metadata": {},
     "output_type": "execute_result"
    }
   ],
   "source": [
    "# effacer\n",
    "c.execute(\"DELETE FROM eleves WHERE nom='Simpson'\") # tous les simpson seront effacés\n",
    "con.commit()\n",
    "c.execute(\"SELECT * FROM eleves\").fetchall()[-5:]"
   ]
  },
  {
   "cell_type": "markdown",
   "metadata": {},
   "source": [
    "## Exercices \n",
    "\n",
    "***Exercice 1** Les communes en France communes.sqlite3*\n",
    "\n",
    "La base de donnée *communes.sqlite3* se trouve dans le dossier documents.  \n",
    "Cette table porte sur les communes en france ref : (IGN)\n",
    "\n",
    "id | code_comm |  insee_com | nom_comm | statut | x_chf_lieu | y_chf_lieu  | x_centroid  | y_centroid  \n",
    "  :---: | :---: | :---: | :---: | :---: | :---: | :---: | :---: | :---:  \n",
    "1 | '271' | '29271' | 'SAINT-VOUGAY' | 'Commune simple' | 1743 | 68564 | 1737 |  65559  \n",
    "\n",
    "\n",
    "z_moyen |superficie |population | code_cant |  code_arr | code_dept | nom_dept | code_reg| nom_region  \n",
    " :---: | :---: | :---: | :---: | :---: | :---: | :---: | :---:| :---:  \n",
    " 88 | 1483 |  0.9 | '31' | '3' | '29'  | 'FINISTERE' |  '53' |  'BRETAGNE'  "
   ]
  },
  {
   "cell_type": "code",
   "execution_count": 1,
   "metadata": {},
   "outputs": [
    {
     "data": {
      "text/plain": [
       "[('table',\n",
       "  'communes',\n",
       "  'communes',\n",
       "  3,\n",
       "  'CREATE TABLE communes (id INTEGER PRIMARY KEY, code_comm VARCHAR, insee_com VARCHAR, nom_comm VARCHAR, statut VARCHAR, x_chf_lieu INTEGER, y_chf_lieu INTEGER, x_centroid INTEGER, y_centroid INTEGER, z_moyen INTEGER, superficie INTEGER, population FLOAT, code_cant VARCHAR, code_arr VARCHAR, code_dept VARCHAR, nom_dept VARCHAR, code_reg VARCHAR, nom_region VARCHAR)')]"
      ]
     },
     "execution_count": 1,
     "metadata": {},
     "output_type": "execute_result"
    }
   ],
   "source": [
    "import sqlite3 # import du module\n",
    "# ouverture de la base\n",
    "con = sqlite3.connect('documents/communes.sqlite3')\n",
    "# obtention d'un curseur\n",
    "c = con.cursor()\n",
    "c.execute(\"SELECT * FROM sqlite_master\").fetchall() # la requête"
   ]
  },
  {
   "cell_type": "markdown",
   "metadata": {},
   "source": [
    " À l'aide de ***python*** et ***sqlite3*** répondez aux questions suivantes :\n",
    " \n",
    "***1\\.*** Quelles sont les caractéristiques de la communes qui a pour id 586 ?  "
   ]
  },
  {
   "cell_type": "markdown",
   "metadata": {},
   "source": [
    "c.execute(\"SELECT * FROM ........... \").fetchall()"
   ]
  },
  {
   "cell_type": "markdown",
   "metadata": {},
   "source": [
    "***2\\.*** La liste des régions  "
   ]
  },
  {
   "cell_type": "code",
   "execution_count": null,
   "metadata": {},
   "outputs": [],
   "source": [
    "c.execute(\"SELECT DISTINCT  ... FROM  ... \").fetchall()"
   ]
  },
  {
   "cell_type": "markdown",
   "metadata": {},
   "source": [
    "***3\\.*** Obtenez de même la liste  La liste des régions  classée par ordre alphabétique.  "
   ]
  },
  {
   "cell_type": "code",
   "execution_count": null,
   "metadata": {},
   "outputs": [],
   "source": [
    "c.execute(\"SELECT DISTINCT ... FROM  ...  ORDER BY ... \").fetchall()"
   ]
  },
  {
   "cell_type": "markdown",
   "metadata": {},
   "source": [
    "***4\\.*** Donner le nom des villes des sous prefectures de la région Picardie. "
   ]
  },
  {
   "cell_type": "code",
   "execution_count": null,
   "metadata": {},
   "outputs": [],
   "source": []
  },
  {
   "cell_type": "markdown",
   "metadata": {},
   "source": [
    "***5\\.*** Combien y a t il de communes en france ? "
   ]
  },
  {
   "cell_type": "code",
   "execution_count": null,
   "metadata": {},
   "outputs": [],
   "source": []
  },
  {
   "cell_type": "markdown",
   "metadata": {},
   "source": [
    "***6\\.*** Combien y a t il de Sous-préfecture dans ma base de donnée ? "
   ]
  },
  {
   "cell_type": "code",
   "execution_count": null,
   "metadata": {},
   "outputs": [],
   "source": []
  },
  {
   "cell_type": "markdown",
   "metadata": {},
   "source": [
    "***7\\.*** Combien y a t il de communes dans le département de l’isère ?"
   ]
  },
  {
   "cell_type": "code",
   "execution_count": null,
   "metadata": {},
   "outputs": [],
   "source": []
  },
  {
   "cell_type": "markdown",
   "metadata": {},
   "source": [
    "***8\\.*** Combien y a t il de communes dans le département de l’isère entre 10 000 habitants et 20 000 habitants ?"
   ]
  },
  {
   "cell_type": "code",
   "execution_count": null,
   "metadata": {},
   "outputs": [],
   "source": []
  },
  {
   "cell_type": "markdown",
   "metadata": {},
   "source": [
    "***9\\.*** Les 3 communes de l’isère qui ont la plus grande superficie."
   ]
  },
  {
   "cell_type": "code",
   "execution_count": null,
   "metadata": {},
   "outputs": [],
   "source": []
  },
  {
   "cell_type": "markdown",
   "metadata": {},
   "source": [
    "***10\\.*** Citer les 10 communes les plus peuplés dans le département de l’isère."
   ]
  },
  {
   "cell_type": "code",
   "execution_count": null,
   "metadata": {},
   "outputs": [],
   "source": []
  },
  {
   "cell_type": "markdown",
   "metadata": {},
   "source": [
    "***11\\.*** Les 10 les moins peuplés."
   ]
  },
  {
   "cell_type": "code",
   "execution_count": null,
   "metadata": {},
   "outputs": [],
   "source": []
  },
  {
   "cell_type": "markdown",
   "metadata": {},
   "source": [
    "***12\\.*** Le nombre de communes en france dont le nom commence par “Gren“ "
   ]
  },
  {
   "cell_type": "code",
   "execution_count": null,
   "metadata": {},
   "outputs": [],
   "source": []
  },
  {
   "cell_type": "markdown",
   "metadata": {},
   "source": [
    "***13\\.*** Le nom des communes du département de l’isère dont le nom commence par “Gre“  "
   ]
  },
  {
   "cell_type": "code",
   "execution_count": null,
   "metadata": {},
   "outputs": [],
   "source": []
  },
  {
   "cell_type": "markdown",
   "metadata": {},
   "source": [
    "## Résumé des commande sql\n",
    "\n",
    "### Obtention des données\n",
    "\n",
    "```SQL\n",
    "SELECT <liste des noms de colonnes> FROM <liste des noms de tables>\n",
    "SELECT  * FROM tab1                      #toutes les colonnes\n",
    "SELECT  col1,col3 FROM tab1              #une partie des colonnes\n",
    "SELECT  DISTINCT col1 FROM tab1          #élimine les doublons\n",
    "SELECT  nom AS \"nom personne\" FROM tab1  #renommage des colonnes\n",
    "SELECT  nom \"nom personne\" FROM tab1     #Oracle : mot clé AS facultatif\n",
    "```\n",
    "\n",
    "### Expression des restrictions\n",
    "\n",
    "```SQL\n",
    "SELECT * FROM tab1 WHERE <condition(s)>\n",
    "SELECT * FROM tab1 WHERE ville IN ('Brest ','Rennes ','Paris ')\n",
    "SELECT * FROM tab1 WHERE age NOT BETWEEN 15 AND 20\n",
    "SELECT * FROM tab1 WHERE travail IS NULL\n",
    "SELECT * FROM tab1 WHERE travail IS NOT NULL\n",
    "```\n",
    "\n",
    "```sql\n",
    "> >= < <= = <>         #comparateur arithmétiques\n",
    "AND OR NOT             #comparateur logique\n",
    "%                      #n’importe quelle séquence de car.\n",
    "_                      #n’importe quel caractère\n",
    "```\n",
    "\n",
    "### Tri et présentation des résultats\n",
    "\n",
    "```SQL\n",
    "SELECT * FROM tab1 ORDER BY col1                #tri ascendant par défaut\n",
    "SELECT * FROM tab1 ORDER BY col5,col7           #tri par col5 puis tri par col7\n",
    "SELECT * FROM tab1 ORDER BY age ASC, sexe DESC  #ASC ascendant,  DESC descendant\n",
    "```\n",
    "\n",
    "### Expression des jointures\n",
    "\n",
    "```SQL\n",
    "SELECT * FROM tab1,tab2       #jointure sans qualification =  produit cartésien  \n",
    "SELECT * FROM tab1,tab2 WHERE tab1.col1=tab2.col2    #jointure avec égalité = équijointure  \n",
    "SELECT * FROM tab1 t1,tab2 t2,tab3 t3 WHERE t1.col1=t2.col2 AND t2.col2=t3.col3   #jointures en cascades\n",
    "```\n",
    "\n",
    "### Expression des manipulations de données\n",
    "\n",
    "```SQL\n",
    "SELECT designation,prix*1.196 AS \"P. TTC\" FROM tab1 YEAR, MONTH, DATE     #date\n",
    "SUBSTRING, UPPER, LOWER, CHARACTER_LENGTH    #manipulation de chaînes de car.\n",
    "```\n",
    "\n",
    "\n",
    "### Les fonctions statistiques\n",
    "\n",
    "```SQL\n",
    "AVG     #moyenne\n",
    "COUNT   #nombre d éléments\n",
    "MAX     #maximum\n",
    "MIN     #minimum\n",
    "SUM     #somme\n",
    "\n",
    "SELECT COUNT(*)FROM tab1\n",
    "SELECT SUM(col1) FROM tab2\n",
    "```\n",
    "\n",
    "### Regroupements\n",
    "\n",
    "\n",
    "```SQL\n",
    "SELECT * FROM tab1 GROUP BY col1\n",
    "```\n",
    "\n",
    "### Sous-requêtes SQL\n",
    "\n",
    "\n",
    "```SQL\n",
    "SELECT * FROM tab1 WHERE prix > (SELECT MIN(prix) FROM tab2)\n",
    "SELECT * FROM tab1 WHERE nom NOT IN (SELECT nom FROM tab2)\n",
    "SELECT * FROM tab1 WHERE prix > ALL (SELECT prix FROM tab2)  #sup. à ttes les valeurs\n",
    "SELECT * FROM tab1 WHERE prix > ANY (SELECT prix FROM tab2)  #sup. à au moins 1\n",
    "```\n",
    "\n",
    "### Opérateurs ensemblistes\n",
    "\n",
    "S'intercalent entre deux sélections\n",
    "\n",
    "```SQL\n",
    "UNION\n",
    "INTERSECT\n",
    "EXCEPT\n",
    "```\n",
    "\n",
    "\n",
    "### Insertions\n",
    "\n",
    "```SQL\n",
    "INSERT INTO tab1 VALUES ('abc',5,7)          #toutes les valeurs doivent être renseignées\n",
    "INSERT INTO tab1(col1,col7) VALUES ('abc',7) #on ne renseigne que les colonnes indiquées, les cols non précisées sont mises à NULL)\n",
    "INSERT INTO tab1 SELECT * FROM tab2\n",
    "```\n",
    "\n",
    "###  Mises à jour\n",
    "```SQL\n",
    "UPDATE tab1 SET col7='abc' WHERE col1=1\n",
    "```\n",
    "\n",
    "### Suppressions\n",
    "\n",
    "```SQL\n",
    "DELETE FROM tab1 WHERE col1=1\n",
    "DELETE FROM tab1 WHERE col1 IN (SELECT no FROM tab2)\n",
    "DELETE FROM tab1          #vide complètement la table\n",
    "```\n",
    "\n"
   ]
  },
  {
   "cell_type": "markdown",
   "metadata": {},
   "source": [
    "## Aide mémoire \n",
    "\n",
    "[Ref](http://sql.sh/ressources/document/mysql-aide-memoire-sql.pdf)\n",
    "\n"
   ]
  }
 ],
 "metadata": {
  "kernelspec": {
   "display_name": "Python 3",
   "language": "python",
   "name": "python3"
  },
  "language_info": {
   "codemirror_mode": {
    "name": "ipython",
    "version": 3
   },
   "file_extension": ".py",
   "mimetype": "text/x-python",
   "name": "python",
   "nbconvert_exporter": "python",
   "pygments_lexer": "ipython3",
   "version": "3.6.4"
  },
  "latex_envs": {
   "LaTeX_envs_menu_present": true,
   "autocomplete": true,
   "bibliofile": "biblio.bib",
   "cite_by": "apalike",
   "current_citInitial": 1,
   "eqLabelWithNumbers": true,
   "eqNumInitial": 1,
   "hotkeys": {
    "equation": "Ctrl-E",
    "itemize": "Ctrl-I"
   },
   "labels_anchors": false,
   "latex_user_defs": false,
   "report_style_numbering": false,
   "user_envs_cfg": false
  },
  "toc": {
   "colors": {
    "hover_highlight": "#DAA520",
    "navigate_num": "#000000",
    "navigate_text": "#333333",
    "running_highlight": "#FF0000",
    "selected_highlight": "#FFD700",
    "sidebar_border": "#EEEEEE",
    "wrapper_background": "#FFFFFF"
   },
   "moveMenuLeft": true,
   "nav_menu": {
    "height": "415px",
    "width": "252px"
   },
   "navigate_menu": true,
   "number_sections": true,
   "sideBar": true,
   "threshold": "3",
   "toc_cell": false,
   "toc_section_display": "block",
   "toc_window_display": false,
   "widenNotebook": false
  }
 },
 "nbformat": 4,
 "nbformat_minor": 2
}
