{
 "metadata": {
  "name": "",
  "signature": "sha256:6a0baa3b305fdc291c1678c14f0887199864fca39b279bff69181047ad9a258d"
 },
 "nbformat": 3,
 "nbformat_minor": 0,
 "worksheets": [
  {
   "cells": [
    {
     "cell_type": "markdown",
     "metadata": {},
     "source": [
      "#<center>Utilisation de Pygame</center>\n",
      "\n",
      "## 1) Premiers pas avec Pygame - Ouvrir une simple fen\u00eatre\n",
      "\n",
      "La premiere chose \u00e0 faire est d\u2019initialiser le module Pygame et de d\u00e9finir la taille horizontale de sa fenetre  en pixel(surface_x) et la taille verticale (surface_y)"
     ]
    },
    {
     "cell_type": "code",
     "collapsed": false,
     "input": [
      "pygame.init()\n",
      "surface_x = 600\n",
      "surface_y = 400"
     ],
     "language": "python",
     "metadata": {},
     "outputs": []
    },
    {
     "cell_type": "markdown",
     "metadata": {},
     "source": [
      "Ensuite, on se sert de ces variables pour d\u00e9finir notre surface et notre fen\u00eatre."
     ]
    },
    {
     "cell_type": "code",
     "collapsed": false,
     "input": [
      "main_surface = pygame.display.set_mode((surface_x, surface_y))"
     ],
     "language": "python",
     "metadata": {},
     "outputs": []
    },
    {
     "cell_type": "markdown",
     "metadata": {},
     "source": [
      "A ce stade, si on execute notre code, nous apercevrons une fen\u00eatre de 600/400 s\u2019ouvrir et se refermer instantan\u00e9ment.\n",
      "\n",
      "Pour guarder cette fen\u00eatre ouverte, il faut rajouter une boucle infinie :"
     ]
    },
    {
     "cell_type": "code",
     "collapsed": false,
     "input": [
      "while True :\n",
      "     my_event = pygame.event.poll()\n",
      "     if my_event.type == pygame.QUIT :\n",
      "          break"
     ],
     "language": "python",
     "metadata": {},
     "outputs": []
    },
    {
     "cell_type": "markdown",
     "metadata": {},
     "source": [
      "Dans les lignes de code si dessus, tant que le module Pygame ne recoit pas un signal de fin, la fen\u00eatre reste ouverte.\n",
      "ous venons de cr\u00e9er notre premiere fenetre avec Pygame.\n",
      "\n",
      "Afin de rendre ce bout de code propre, il est conseill\u00e9 de cr\u00e9er une fonction main et de quitter proprement le programme en sortie de notre boucle."
     ]
    },
    {
     "cell_type": "code",
     "collapsed": false,
     "input": [
      "import pygame\n",
      "from pygame.locals import *\n",
      "\n",
      "def main():\n",
      "    pygame.init()\n",
      "    surface_x = 600\n",
      "    surface_y = 400\n",
      "\n",
      "    main_surface = pygame.display.set_mode((surface_x, surface_y))\n",
      "    while True:\n",
      "        my_event = pygame.event.poll()\n",
      "        if my_event.type == pygame.QUIT:\n",
      "            break\n",
      "\n",
      "    pygame.quit()\n",
      "\n",
      "main() "
     ],
     "language": "python",
     "metadata": {},
     "outputs": [],
     "prompt_number": 3
    },
    {
     "cell_type": "markdown",
     "metadata": {},
     "source": [
      "<center><img src=\"./Images/pygame2-1.png\" width=\"400\"></center>"
     ]
    },
    {
     "cell_type": "markdown",
     "metadata": {},
     "source": [
      "## 2) Gestion des images avec Pygame\n",
      "Maintenant que nous savons ouvrir une fen\u00eatre avec Pygame, nous allons pouvoir planter le d\u00e9cor et afficher des images.\n",
      "\n",
      "Heureusement, pour cela Pygame \u00e0 pr\u00e9vu de nous simplifier le travail en mettant \u00e0 notre disposition des m\u00e9thodes pr\u00eates \u00e0 \u00eatre utilis\u00e9s.  \n",
      "N'oubliez pas de rajouter une image nomm\u00e9  << background.png >> de taille 600x400.\n",
      "Nous allons pouvoir afficher notre premi\u00e8re image en utilisant trois de ces m\u00e9thodes\n",
      "\n",
      "Une m\u00e9thode qui cr\u00e9er un objet avec l'emplacement de notre image :\n"
     ]
    },
    {
     "cell_type": "code",
     "collapsed": false,
     "input": [
      "background = pygame.image.load(<< background.png >>).convert()"
     ],
     "language": "python",
     "metadata": {},
     "outputs": []
    },
    {
     "cell_type": "markdown",
     "metadata": {},
     "source": [
      "La m\u00e9thode \"blit\" qui charge l\u2019objet contenant notre image dans notre fen\u00eatre :"
     ]
    },
    {
     "cell_type": "code",
     "collapsed": false,
     "input": [
      "main_surface.blit(background, (0,0))"
     ],
     "language": "python",
     "metadata": {},
     "outputs": []
    },
    {
     "cell_type": "markdown",
     "metadata": {},
     "source": [
      "On peut remarquer que les arguments sont l'objet que l'on \u00e0 cr\u00e9\u00e9 ainsi que la position de l'image dans notre fen\u00eatre.\n",
      "\n",
      "Une m\u00e9thode qui permet de conserver l\u2019affichage de notre image pendant l\u2019ex\u00e9cution :"
     ]
    },
    {
     "cell_type": "code",
     "collapsed": false,
     "input": [
      "pygame.display.flip()"
     ],
     "language": "python",
     "metadata": {},
     "outputs": []
    },
    {
     "cell_type": "markdown",
     "metadata": {},
     "source": [
      "Voici le r\u00e9sum\u00e9 d'un exemple pour l'affichage d'une fenetre Pygame avec une image de fond int\u00e9gr\u00e9 :"
     ]
    },
    {
     "cell_type": "code",
     "collapsed": false,
     "input": [],
     "language": "python",
     "metadata": {},
     "outputs": []
    },
    {
     "cell_type": "code",
     "collapsed": false,
     "input": [
      "import pygame                                                                                                  \n",
      "from pygame.locals import *\n",
      "                                                                               \n",
      "def main():\n",
      "    pygame.init()\n",
      "    surface_x = 600\n",
      "    surface_y = 400\n",
      "    main_surface = pygame.display.set_mode((surface_x, surface_y))\n",
      "                                       \n",
      "    background = pygame.image.load(\"background.png\").convert()\n",
      "    main_surface.blit(background, (0,0))\n",
      "    pygame.display.flip()\n",
      "                                                             \n",
      "    while True:\n",
      "        my_event = pygame.event.poll()\n",
      "        if my_event.type == pygame.QUIT:\n",
      "            break\n",
      "    pygame.quit()\n",
      "main()"
     ],
     "language": "python",
     "metadata": {},
     "outputs": []
    },
    {
     "cell_type": "markdown",
     "metadata": {},
     "source": [
      "<center><img src=\"./images/pygame2-2.png\" width=\"400\"></center>"
     ]
    },
    {
     "cell_type": "markdown",
     "metadata": {},
     "source": [
      "## 3) La gestion des \u00e9v\u00e9nements\n",
      "\n",
      "Les \u00e9v\u00e9nements peuvent \u00eatre g\u00e9n\u00e9r\u00e9s \u00e0 tout moment, m\u00eame si votre programme est en cours d\u2019ex\u00e9cution. Pygame va les stocker dans un file d\u2019attente, jusqu'\u00e0 ce que nous soyons pr\u00eat \u00e0 les g\u00e9rer ou ex\u00e9cuter une action.\n",
      "\n",
      "Il y a plusieurs moyens afin d'nteragir avec un programme, notamment avec un clavier et/ou une souris. Il y a donc diff\u00e9rents \u00e9v\u00e9nements afin de pouvoir d\u00e9terminer quelle touche a \u00e9t\u00e9 press\u00e9e. Pygame va encore plus loin en pr\u00e9cisant si la touche est toujours press\u00e9e ou non. Voici les principaux \u00e9v\u00e9nements :\n",
      "\n",
      " \n",
      "\n",
      "<table>\n",
      "<tr><td>QUIT</td><td> L'utilisateur \u00e0 cliqu\u00e9 sur le bouton de fermeture</td></tr>\n",
      "<tr><td>ACTIVEEVENT </td><td> Pygame \u00e0 \u00e9t\u00e9 activ\u00e9 ou cach\u00e9</td></tr>\n",
      "<tr><td>KEYDOWN </td><td> Une touche \u00e0 \u00e9t\u00e9 press\u00e9e</td></tr>\n",
      "<tr><td>KEYUP </td><td> Une touche \u00e0 \u00e9t\u00e9 rel\u00e2ch\u00e9e</td></tr>\n",
      "<tr><td>MOUSEMOTION </td><td> Mouvement de la souris</td></tr>\n",
      "<tr><td>MOUSEBUTTONDOWN </td><td> Un bouton de la souris \u00e0 \u00e9t\u00e9 press\u00e9</td></tr>\n",
      "<tr><td>MOUSEBUTTONUP </td><td> Un bouton de la souris \u00e0 \u00e9t\u00e9 rel\u00e2ch\u00e9</td></tr>\n",
      "<tr><td>JOYAXISMOTION </td><td> Mouvement du joystick ou du pad</td></tr>\n",
      "<tr><td>JOYBALLMOTION </td><td> Mouvement de la boule du Joystick</td></tr>\n",
      "<tr><td>JOYBUTTONDOWN </td><td> Le bouton du joystick ou du pad \u00e0 \u00e9t\u00e9 press\u00e9</td></tr>\n",
      "<tr><td>JOYBUTTONUP </td><td> Le bouton du joystick ou du pad \u00e0 \u00e9t\u00e9 rel\u00e2ch\u00e9</td></tr>\n",
      "<tr><td>VIDEORESIZE </td><td> La fen\u00eatre Pygame \u00e0 \u00e9t\u00e9 redimenssionn\u00e9</td></tr>\n",
      "<tr><td>VIDEOEXPOSE </td><td> Une partie de la fen\u00eatre ou toute la fen\u00eatre Pygame \u00e0 \u00e9t\u00e9 masqu\u00e9 par une autre</td></tr>\n",
      "<tr><td>USEREVENT </td><td> Un \u00e9v\u00eanement utilisateur est intervenu</td></tr>\n",
      "<table>\n",
      "\n",
      "Mais au fait: on \u00e0 d\u00e9j\u00e0 utilis\u00e9 une gestion d'\u00e9v\u00eanement dans les chapitres pr\u00e9c\u00e9dent, non ??\n",
      "\n",
      "Oui tout \u00e0 fait ! revenons sur cette partie du code:"
     ]
    },
    {
     "cell_type": "code",
     "collapsed": false,
     "input": [
      "while True:                                                                                  \n",
      "        my_event = pygame.event.poll()                                                           \n",
      "        if my_event.type == pygame.QUIT:                                                         \n",
      "            break                                                                                "
     ],
     "language": "python",
     "metadata": {},
     "outputs": []
    },
    {
     "cell_type": "markdown",
     "metadata": {},
     "source": [
      "On r\u00e9cup\u00e8re ici le premier \u00e9v\u00e9nement stock\u00e9 dans la liste avec la fonction ***pygame.event.poll()***\n",
      "\n",
      "Si l'\u00e9v\u00e9nement que l'on obient est de type ***QUIT***, l'utilisateur \u00e0 cliqu\u00e9 sur la fermeture de la fen\u00eatre on arr\u00eate donc le programme par l'instruction break.\n",
      "\n",
      "\n",
      "Voyons comment ajouter \u00e0 notre example la possibilit\u00e9 pour l'itilisateur de ferm\u00e9 le programme en pressant une touche :\n",
      "\n",
      "Tout d'abord allons voir sur la documention officielle le code de la touche que l'on veut g\u00e9rer:\n",
      "\n",
      "http://www.pygame.org/docs/ref/key.html\n",
      "\n",
      "La touche qui nous int\u00e9resse pourrait \u00e9tre la touche ***ESCAPE*** par example. Chaque touche est rattach\u00e9 \u00e0 une constante dans notre cas, la documentation indique: ***K_ESCAPE***"
     ]
    },
    {
     "cell_type": "code",
     "collapsed": false,
     "input": [
      "while True:                                                                                  \n",
      "        my_event = pygame.event.poll()                                                           \n",
      "        if my_event.type == pygame.QUIT:                                                         \n",
      "            break                                                                                \n",
      "        if my_event.type == KEYDOWN and my_event.key == K_ESCAPE:                                 \n",
      "            break "
     ],
     "language": "python",
     "metadata": {},
     "outputs": []
    },
    {
     "cell_type": "markdown",
     "metadata": {},
     "source": [
      "Explication: Si l'\u00e9v\u00e9nement que l'on obtient est de type ***KEYDOWN***, cela signifie qu'une touche \u00e0 \u00e9t\u00e9 press\u00e9. Si cette touche est de type ***K_ESCAPE*** cela signifie que c'\u00e9tait la touche escape !\n",
      "\n",
      "*[Ref: http://www.toastyourgame.com/fr/tutorial/debuter-avec-pygame](http://www.toastyourgame.com/fr/tutorial/debuter-avec-pygame)*"
     ]
    }
   ],
   "metadata": {}
  }
 ]
}