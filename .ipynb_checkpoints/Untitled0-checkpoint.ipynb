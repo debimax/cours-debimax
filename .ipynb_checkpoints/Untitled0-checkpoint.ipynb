{
 "metadata": {
  "name": "",
  "signature": "sha256:1abdba93eeada38b0b3a106ce8a74d9de3d0f4690448b93d1d688a693cd82ebc"
 },
 "nbformat": 3,
 "nbformat_minor": 0,
 "worksheets": []
}