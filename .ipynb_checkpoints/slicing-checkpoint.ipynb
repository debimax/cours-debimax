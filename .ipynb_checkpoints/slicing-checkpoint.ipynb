{
 "metadata": {
  "name": "",
  "signature": "sha256:4e789e269aeef6fb23835faa122c42048a41eee8b8189d8b5c6abc067227cd25"
 },
 "nbformat": 3,
 "nbformat_minor": 0,
 "worksheets": [
  {
   "cells": [
    {
     "cell_type": "markdown",
     "metadata": {},
     "source": [
      "# <center>Le slicing et les structures de liste</center> # \n",
      "---\n",
      "\n",
      "## 2.1 Compl\u00e9ment  pour la cha\u00eene de caract\u00e8res.\n",
      "\n",
      "Une cha\u00eene de caract\u00e8res est une liste particuli\u00e8re ne contenant que des caract\u00e8res.  \n",
      "Comme pour une liste, on peut acc\u00e9der \u00e0 ses \u00e9l\u00e9ments (les caract\u00e8res) en sp\u00e9cifiant un indice :"
     ]
    },
    {
     "cell_type": "code",
     "collapsed": false,
     "input": [
      "chaine= \"Lyc\u00e9e Pablo Neruda\"\n",
      "chaine[0]"
     ],
     "language": "python",
     "metadata": {},
     "outputs": [
      {
       "metadata": {},
       "output_type": "pyout",
       "prompt_number": 2,
       "text": [
        "'L'"
       ]
      }
     ],
     "prompt_number": 2
    },
    {
     "cell_type": "markdown",
     "metadata": {},
     "source": [
      "Par contre, il est impossible de modifier une cha\u00eene de caract\u00e8res ! On dit alors qu'il s'agit d'une liste\n",
      "non modifiable :"
     ]
    },
    {
     "cell_type": "code",
     "collapsed": false,
     "input": [
      "chaine[1]= \"a\""
     ],
     "language": "python",
     "metadata": {},
     "outputs": [
      {
       "ename": "TypeError",
       "evalue": "'str' object does not support item assignment",
       "output_type": "pyerr",
       "traceback": [
        "\u001b[0;31m---------------------------------------------------------------------------\u001b[0m\n\u001b[0;31mTypeError\u001b[0m                                 Traceback (most recent call last)",
        "\u001b[0;32m<ipython-input-3-9227b6c9858e>\u001b[0m in \u001b[0;36m<module>\u001b[0;34m()\u001b[0m\n\u001b[0;32m----> 1\u001b[0;31m \u001b[0mchaine\u001b[0m\u001b[0;34m[\u001b[0m\u001b[0;36m1\u001b[0m\u001b[0;34m]\u001b[0m\u001b[0;34m=\u001b[0m \u001b[0;34m\"a\"\u001b[0m\u001b[0;34m\u001b[0m\u001b[0m\n\u001b[0m",
        "\u001b[0;31mTypeError\u001b[0m: 'str' object does not support item assignment"
       ]
      }
     ],
     "prompt_number": 3
    },
    {
     "cell_type": "markdown",
     "metadata": {},
     "source": [
      "Si vous d\u00e9cidiez de lui ajouter des caract\u00e8res en fin de cha\u00eene \u00e0 l'aide d'une concat\u00e9nation du type suivant :"
     ]
    },
    {
     "cell_type": "code",
     "collapsed": false,
     "input": [
      "chaine=chaine+\"!\"\n",
      "chaine"
     ],
     "language": "python",
     "metadata": {},
     "outputs": []
    },
    {
     "cell_type": "markdown",
     "metadata": {},
     "source": [
      "Il existe de nombreuse m\u00e9thode pour les cha\u00eenes de carat\u00e8res.\n",
      "Ouvrez ipython3 puis tapez"
     ]
    },
    {
     "cell_type": "code",
     "collapsed": false,
     "input": [
      "x='Pablo Neruda'"
     ],
     "language": "python",
     "metadata": {},
     "outputs": [],
     "prompt_number": 1
    },
    {
     "cell_type": "markdown",
     "metadata": {},
     "source": [
      "tapez alors juste ***x. (n'oubliez oas le point) puis appuyez sur la tabulation***, vous devez voir toutes les m\u00e9thodes.\n",
      "\n",
      "a | b | c | d \n",
      ":-----------: | :----------:    |  :-----------: |  :-----------: \n",
      "x.capitalize | x.isalnum      |    x.join      |    x.rsplit \n",
      "x.casefold   |   x.isalpha     |  x.ljust        | x.rstrip \n",
      "x.center     |   x.isdecimal   |  x.lower       |  x.split\n",
      "x.count      |   x.isdigit     |  x.lstrip      |  x.splitlines\n",
      "x.encode     |   x.isidentifier|  x.maketrans   |  x.startswith\n",
      "x.endswith   |   x.islower     |  x.partition   |  x.strip\n",
      "x.expandtabs |   x.isnumeric   |  x.replace     |  x.swapcase\n",
      "x.find       |   x.isprintable |  x.rfind       |  x.title\n",
      "x.format     |   x.isspace     |  x.rindex      |  x.translate\n",
      "x.format_map |   x.istitle     |  x.rjust       |  x.upper\n",
      "x.index      |   x.isupper     |  x.rpartition  |  x.zfill\n"
     ]
    },
    {
     "cell_type": "markdown",
     "metadata": {},
     "source": [
      "Inutile de toutes les conna\u00eetre. Je vous propose de voir ici les fonctions les plus utiles.\n",
      "\n",
      "\n",
      "### a. Couper et joindre\n",
      "\n",
      "La fonction ***split()*** permet de ***d\u00e9couper*** la cha\u00eene de caract\u00e8res qui lui est pass\u00e9e en param\u00e8tre suivant un ou des caract\u00e8re(s) de s\u00e9paration et renvoie une liste des cha\u00eenes d\u00e9coup\u00e9es. Les caract\u00e8res de s\u00e9paration lui sont \u00e9galement pass\u00e9s en param\u00e8tre et, si ce n'est pas le cas, ce sera le caract\u00e8re espace qui sera utilis\u00e9 :"
     ]
    },
    {
     "cell_type": "code",
     "collapsed": false,
     "input": [
      "str=\"Pablo Neruda Saint martin d'h\u00e8re\"\n",
      "str.split()"
     ],
     "language": "python",
     "metadata": {},
     "outputs": [
      {
       "metadata": {},
       "output_type": "pyout",
       "prompt_number": 5,
       "text": [
        "['Pablo', 'Neruda', 'Saint', 'martin', \"d'h\u00e8re\"]"
       ]
      }
     ],
     "prompt_number": 5
    },
    {
     "cell_type": "code",
     "collapsed": false,
     "input": [
      "str.split(' ',2)"
     ],
     "language": "python",
     "metadata": {},
     "outputs": [
      {
       "metadata": {},
       "output_type": "pyout",
       "prompt_number": 6,
       "text": [
        "['Pablo', 'Neruda', \"Saint martin d'h\u00e8re\"]"
       ]
      }
     ],
     "prompt_number": 6
    },
    {
     "cell_type": "markdown",
     "metadata": {},
     "source": [
      "L'op\u00e9ration inverse s'appelle ***join()***. Elle consiste a rendre une liste de cha\u00eenes de caract\u00e8res pour former une cha\u00eene en concat\u00e9nant tous les \u00e9l\u00e9ments et en les assemblant \u00e0 l'aide d'un caract\u00e8re.\n",
      "\n",
      "Cette m\u00e9thode prend en param\u00e8tre une liste de caract\u00e8res et s'applique \u00e0 une cha\u00eene de caract\u00e8res d\u00e9signant le ou les caract\u00e8re(s) de liaison :"
     ]
    },
    {
     "cell_type": "code",
     "collapsed": false,
     "input": [
      "l=str.split()\n",
      "l"
     ],
     "language": "python",
     "metadata": {},
     "outputs": [
      {
       "metadata": {},
       "output_type": "pyout",
       "prompt_number": 5,
       "text": [
        "['Pablo', 'Neruda', 'Saint', 'martin', \"d'h\u00e8re\"]"
       ]
      }
     ],
     "prompt_number": 5
    },
    {
     "cell_type": "code",
     "collapsed": false,
     "input": [
      "' - '.join(l)"
     ],
     "language": "python",
     "metadata": {},
     "outputs": [
      {
       "metadata": {},
       "output_type": "pyout",
       "prompt_number": 6,
       "text": [
        "\"Pablo - Neruda - Saint - martin - d'h\u00e8re\""
       ]
      }
     ],
     "prompt_number": 6
    },
    {
     "cell_type": "markdown",
     "metadata": {},
     "source": [
      "On peut faire aussi la transformation  directement"
     ]
    },
    {
     "cell_type": "code",
     "collapsed": false,
     "input": [
      "' - '.join(\"Pablo Neruda Saint martin d'h\u00e8re\".split())"
     ],
     "language": "python",
     "metadata": {},
     "outputs": [
      {
       "metadata": {},
       "output_type": "pyout",
       "prompt_number": 3,
       "text": [
        "\"Pablo - Neruda - Saint - martin - d'h\u00e8re\""
       ]
      }
     ],
     "prompt_number": 3
    },
    {
     "cell_type": "markdown",
     "metadata": {},
     "source": [
      "### b. Majuscule et minuscule\n",
      "\n",
      "Deux autres m\u00e9thodes standards peuvent \u00eatre utiles:\n",
      "\n",
      "***lower()*** et ***upper()*** permettant respectivement de convertir les caract\u00e8res d'une cha\u00eene en minuscules ou en majuscules.  \n",
      "Attention, bien que parlant de << conversion >>, ces m\u00e9thodes ne modifient pas la cha\u00eene de d\u00e9part mais renvoient une nouvelle cha\u00eene :"
     ]
    },
    {
     "cell_type": "code",
     "collapsed": false,
     "input": [
      "'Pablo Neruda'.lower()"
     ],
     "language": "python",
     "metadata": {},
     "outputs": [
      {
       "metadata": {},
       "output_type": "pyout",
       "prompt_number": 7,
       "text": [
        "'pablo neruda'"
       ]
      }
     ],
     "prompt_number": 7
    },
    {
     "cell_type": "code",
     "collapsed": false,
     "input": [
      "'Pablo Neruda'.upper()"
     ],
     "language": "python",
     "metadata": {},
     "outputs": [
      {
       "metadata": {},
       "output_type": "pyout",
       "prompt_number": 8,
       "text": [
        "'PABLO NERUDA'"
       ]
      }
     ],
     "prompt_number": 8
    },
    {
     "cell_type": "markdown",
     "metadata": {},
     "source": [
      "La fonction ***capitalize()*** permet de ne mettre en majuscule que la premi\u00e8re lettre d'une cha\u00eene :"
     ]
    },
    {
     "cell_type": "code",
     "collapsed": false,
     "input": [
      "'pablo neruda'.capitalize()"
     ],
     "language": "python",
     "metadata": {},
     "outputs": [
      {
       "metadata": {},
       "output_type": "pyout",
       "prompt_number": 9,
       "text": [
        "'Pablo neruda'"
       ]
      }
     ],
     "prompt_number": 9
    },
    {
     "cell_type": "markdown",
     "metadata": {},
     "source": [
      "Si maintenant nous souhaitons que la premi\u00e8re lettre de chaque mot soit une majuscule, que pouvons-nous faire?  \n",
      "En utilisant les quelques fonctions vues pr\u00e9c\u00e9demment, cela est tout \u00e0 fait r\u00e9alisable :"
     ]
    },
    {
     "cell_type": "code",
     "collapsed": false,
     "input": [
      "p='une petite phrase de test'\n",
      "l=p.split()\n",
      "l"
     ],
     "language": "python",
     "metadata": {},
     "outputs": [
      {
       "metadata": {},
       "output_type": "pyout",
       "prompt_number": 12,
       "text": [
        "['une', 'petite', 'phrase', 'de', 'test']"
       ]
      }
     ],
     "prompt_number": 12
    },
    {
     "cell_type": "code",
     "collapsed": false,
     "input": [
      "i=0\n",
      "for s in l:\n",
      "    l[i] = s.capitalize()\n",
      "    i += 1\n",
      "' '.join(l)"
     ],
     "language": "python",
     "metadata": {},
     "outputs": [
      {
       "metadata": {},
       "output_type": "pyout",
       "prompt_number": 15,
       "text": [
        "'Une Petite Phrase De Test'"
       ]
      }
     ],
     "prompt_number": 15
    },
    {
     "cell_type": "markdown",
     "metadata": {},
     "source": [
      "On peut m\u00eame le faire beaucoup plus << simplement >>, en utilisant la compr\u00e9hension de listes"
     ]
    },
    {
     "cell_type": "code",
     "collapsed": false,
     "input": [
      "' '.join([s.capitalize() for s in p.split()])"
     ],
     "language": "python",
     "metadata": {},
     "outputs": [
      {
       "metadata": {},
       "output_type": "pyout",
       "prompt_number": 16,
       "text": [
        "'Une Petite Phrase De Test'"
       ]
      }
     ],
     "prompt_number": 16
    },
    {
     "cell_type": "markdown",
     "metadata": {},
     "source": [
      "On reverra les compr\u00e9hensions de listes un peu plus tard\n",
      "\n",
      "### c. rechercher un caract\u00e8re, une position etc... dans une cha\u00eene."
     ]
    },
    {
     "cell_type": "markdown",
     "metadata": {},
     "source": [
      "- La fonction ***len()*** permet de compter le nombre de caract\u00e8res."
     ]
    },
    {
     "cell_type": "code",
     "collapsed": false,
     "input": [
      "len('Pablo Neruda')"
     ],
     "language": "python",
     "metadata": {},
     "outputs": [
      {
       "metadata": {},
       "output_type": "pyout",
       "prompt_number": 20,
       "text": [
        "12"
       ]
      }
     ],
     "prompt_number": 20
    },
    {
     "cell_type": "markdown",
     "metadata": {},
     "source": [
      "- La m\u00e9thode ***count()*** permet de compter le nombre d'occurrences d'une sous cha\u00eene dans une cha\u00eene de caract\u00e8res.   \n",
      "Le premier param\u00e8tre est la cha\u00eene dans laquelle effectuer la recherche et le second param\u00e8tre est la sous cha\u00eene :"
     ]
    },
    {
     "cell_type": "code",
     "collapsed": false,
     "input": [
      "'Pablo Neruda'.count('a')"
     ],
     "language": "python",
     "metadata": {},
     "outputs": [
      {
       "metadata": {},
       "output_type": "pyout",
       "prompt_number": 1,
       "text": [
        "2"
       ]
      }
     ],
     "prompt_number": 1
    },
    {
     "cell_type": "markdown",
     "metadata": {},
     "source": [
      "- La fonction ***find()*** permet de trouver l'indice de la premi\u00e8re occurrence d'une sous cha\u00eene. Les param\u00e8tres sont les m\u00eames que pour la fonction ***count()***  \n",
      "En cas d'\u00e9chec, ***find()*** renvoie la valeur -1 ( 0 correspond \u00e0 l'indice du premier caract\u00e8re):\n",
      "On utilisera ***rfind()*** pour la derni\u00e8re ocurrence."
     ]
    },
    {
     "cell_type": "code",
     "collapsed": false,
     "input": [
      "'Pablo Neruda'.find('a')"
     ],
     "language": "python",
     "metadata": {},
     "outputs": [
      {
       "metadata": {},
       "output_type": "pyout",
       "prompt_number": 23,
       "text": [
        "1"
       ]
      }
     ],
     "prompt_number": 23
    },
    {
     "cell_type": "code",
     "collapsed": false,
     "input": [
      "'Pablo Neruda'.find('aa')"
     ],
     "language": "python",
     "metadata": {},
     "outputs": [
      {
       "metadata": {},
       "output_type": "pyout",
       "prompt_number": 29,
       "text": [
        "-1"
       ]
      }
     ],
     "prompt_number": 29
    },
    {
     "cell_type": "code",
     "collapsed": false,
     "input": [
      "'Pablo Neruda'.rfind('a')"
     ],
     "language": "python",
     "metadata": {},
     "outputs": [
      {
       "metadata": {},
       "output_type": "pyout",
       "prompt_number": 26,
       "text": [
        "11"
       ]
      }
     ],
     "prompt_number": 26
    },
    {
     "cell_type": "markdown",
     "metadata": {},
     "source": [
      "- ***index()*** est identique \u00e0 ***find()*** mais retourne une erreur en cas d'\u00e9chec"
     ]
    },
    {
     "cell_type": "code",
     "collapsed": false,
     "input": [
      "'Pablo Neruda'.index('a')"
     ],
     "language": "python",
     "metadata": {},
     "outputs": [
      {
       "metadata": {},
       "output_type": "pyout",
       "prompt_number": 30,
       "text": [
        "1"
       ]
      }
     ],
     "prompt_number": 30
    },
    {
     "cell_type": "code",
     "collapsed": false,
     "input": [
      "'Pablo Neruda'.index('aa')"
     ],
     "language": "python",
     "metadata": {},
     "outputs": [
      {
       "ename": "ValueError",
       "evalue": "substring not found",
       "output_type": "pyerr",
       "traceback": [
        "\u001b[0;31m---------------------------------------------------------------------------\u001b[0m\n\u001b[0;31mValueError\u001b[0m                                Traceback (most recent call last)",
        "\u001b[0;32m<ipython-input-31-ffbd3410cd22>\u001b[0m in \u001b[0;36m<module>\u001b[0;34m()\u001b[0m\n\u001b[0;32m----> 1\u001b[0;31m \u001b[0;34m'Pablo Neruda'\u001b[0m\u001b[0;34m.\u001b[0m\u001b[0mindex\u001b[0m\u001b[0;34m(\u001b[0m\u001b[0;34m'aa'\u001b[0m\u001b[0;34m)\u001b[0m\u001b[0;34m\u001b[0m\u001b[0m\n\u001b[0m",
        "\u001b[0;31mValueError\u001b[0m: substring not found"
       ]
      }
     ],
     "prompt_number": 31
    },
    {
     "cell_type": "markdown",
     "metadata": {},
     "source": [
      "Avec les m\u00e9thode qui renvoie une ***ValueError***  on utlilise g\u00e9n\u00e9ralement la \"condition\"  try except.  \n",
      "<html>\n",
      "<div  style=\"background-color:#c6c6c7\">\n",
      "<code style=\"background-color:#c6c6c7\">try:  Quelquechose\n",
      "except:  S'il y a une erreur alors autre chose\n",
      "</code></div>"
     ]
    },
    {
     "cell_type": "code",
     "collapsed": false,
     "input": [
      "try: print('Pablo Neruda'.index('aa'))\n",
      "except:  print(\"Il n'y a pas de aa\")"
     ],
     "language": "python",
     "metadata": {},
     "outputs": [
      {
       "output_type": "stream",
       "stream": "stdout",
       "text": [
        "Il n'y a pas de aa\n"
       ]
      }
     ],
     "prompt_number": 7
    },
    {
     "cell_type": "markdown",
     "metadata": {},
     "source": [
      "- La fonction ***replace()*** permet, comme son nom l'indique, de remplacer une sous cha\u00eene par une autre \u00e0 l'int\u00e9rieur d'une cha\u00eene de caract\u00e8res.  \n",
      "Les param\u00e8tres sont, dans l'ordre : la cha\u00eene de caract\u00e8res \u00e0 modifier, la sous cha\u00eene \u00e0 remplacer, la sous cha\u00eene de remplacement,et, \u00e9ventuellement, le nombre maximum d'occurrences \u00e0 remplacer (si non sp\u00e9cifi\u00e9, toutes les occurrences seront remplac\u00e9es).\n",
      "\n",
      "\n"
     ]
    },
    {
     "cell_type": "code",
     "collapsed": false,
     "input": [
      "'Pablo Neruda'.replace('a','1')"
     ],
     "language": "python",
     "metadata": {},
     "outputs": [
      {
       "metadata": {},
       "output_type": "pyout",
       "prompt_number": 28,
       "text": [
        "'P1blo Nerud1'"
       ]
      }
     ],
     "prompt_number": 28
    },
    {
     "cell_type": "markdown",
     "metadata": {},
     "source": [
      "Pour des recerches un peu plus compl\u00e8te on utilisera le module ***re***  (regex)\n",
      "\n",
      "### d. Convertion\n",
      "\n",
      "***str.encode(encoding=\"utf-8\", errors=\"strict\")*** Retourne une version cod\u00e9e de la cha\u00eene comme un objet ***bytes***.   L'encodage par d\u00e9faut est \"utf-8\"."
     ]
    },
    {
     "cell_type": "code",
     "collapsed": false,
     "input": [
      "'Pablo Neruda'.encode('utf8')"
     ],
     "language": "python",
     "metadata": {},
     "outputs": [
      {
       "metadata": {},
       "output_type": "pyout",
       "prompt_number": 22,
       "text": [
        "b'Pablo Neruda'"
       ]
      }
     ],
     "prompt_number": 22
    },
    {
     "cell_type": "markdown",
     "metadata": {},
     "source": [
      "*## \u00c0 retenir:\n",
      "\n",
      "Il faut savoir utiliser  ***split()*** , ***join()*** , ***len()*** , ***count()*** , ***find()*** , ***index()*** , ***rfind()***, ***replace()***.\n",
      "\n",
      "### b. Exercice string\n",
      "\n",
      "**Exercice 1**:  \n",
      "\u00c9crire un programme qui dans une phrase compte:\n",
      "\n",
      "- a) le nombre de voyelle.  \n",
      " Entr\u00e9e: 'Un matin'  \n",
      " Sortie: 3\n",
      "- b) Le nombre de carat\u00e8res (on utilisera la m\u00e9thode **isalnum()** qui retourne True si le carac\u00e8re est une lettre ou un chiffres)  \n",
      "  Entr\u00e9e: \"l'avis n\u00b01\"  \n",
      " Sortie: 7"
     ]
    },
    {
     "cell_type": "markdown",
     "metadata": {},
     "source": [
      "***Exercice 2**:  \n",
      "\u00c9crire un programme qui teste si la cha\u00eene *str* est une adresse mail.  On va simplifier sur le fait que *str* doit se terminer par @\\*\\*\\*\\*\\.\\*\\*  \n",
      "- Un seul caract\u00e8re @\n",
      "- Un seul caract\u00e8re .(point) apr\u00e8s @."
     ]
    },
    {
     "cell_type": "markdown",
     "metadata": {},
     "source": [
      "***Exercice 3:***  \n",
      "\u00c9crire un programme qui d\u00e9termine si une cha\u00eene de caract\u00e8res est un palindrome  (un mot qui  pour lequel la signification est la m\u00eame dans les deux sens de lecture, par exemple *ressasser*."
     ]
    },
    {
     "cell_type": "markdown",
     "metadata": {},
     "source": [
      "***Exercice 4:***  \n",
      "Demandez la saisie d'un message puis afficher ce dernier de fa\u00e7on indent\u00e9e.\n",
      "\n",
      "Exemple:  si str='toto'  \n",
      "t  \n",
      "to  \n",
      "tot  \n",
      "toto  "
     ]
    },
    {
     "cell_type": "markdown",
     "metadata": {},
     "source": [
      "## 2.2 Les sp\u00e9cificit\u00e9s des tuples\n",
      "\n",
      "Les tuples sont \u00e9galement des listes non modifiables (les cha\u00eenes de caract\u00e8res sont donc en fait des tuples particuliers) :"
     ]
    },
    {
     "cell_type": "code",
     "collapsed": false,
     "input": [
      "t=(1,2,3)\n",
      "t[0]"
     ],
     "language": "python",
     "metadata": {},
     "outputs": [
      {
       "metadata": {},
       "output_type": "pyout",
       "prompt_number": 8,
       "text": [
        "1"
       ]
      }
     ],
     "prompt_number": 8
    },
    {
     "cell_type": "code",
     "collapsed": false,
     "input": [
      "t[0]=0"
     ],
     "language": "python",
     "metadata": {},
     "outputs": [
      {
       "ename": "TypeError",
       "evalue": "'tuple' object does not support item assignment",
       "output_type": "pyerr",
       "traceback": [
        "\u001b[0;31m---------------------------------------------------------------------------\u001b[0m\n\u001b[0;31mTypeError\u001b[0m                                 Traceback (most recent call last)",
        "\u001b[0;32m<ipython-input-9-525eef5334c1>\u001b[0m in \u001b[0;36m<module>\u001b[0;34m()\u001b[0m\n\u001b[0;32m----> 1\u001b[0;31m \u001b[0mt\u001b[0m\u001b[0;34m[\u001b[0m\u001b[0;36m0\u001b[0m\u001b[0;34m]\u001b[0m\u001b[0;34m=\u001b[0m\u001b[0;36m0\u001b[0m\u001b[0;34m\u001b[0m\u001b[0m\n\u001b[0m",
        "\u001b[0;31mTypeError\u001b[0m: 'tuple' object does not support item assignment"
       ]
      }
     ],
     "prompt_number": 9
    },
    {
     "cell_type": "markdown",
     "metadata": {},
     "source": [
      "Attention de ne pas utiliser le mot-cl\u00e9 tuple comme nom de variable: \n",
      "ce dernier permet de cr\u00e9er un tuple de mani\u00e8re explicite. Il vous faudra utiliser en param\u00e8tre. . . une liste. Il permet donc d'effectuer une conversion :"
     ]
    },
    {
     "cell_type": "code",
     "collapsed": false,
     "input": [
      "l=[1,2,3]\n",
      "t=tuple(l)\n",
      "t"
     ],
     "language": "python",
     "metadata": {},
     "outputs": [
      {
       "metadata": {},
       "output_type": "pyout",
       "prompt_number": 32,
       "text": [
        "(1, 2, 3)"
       ]
      }
     ],
     "prompt_number": 32
    },
    {
     "cell_type": "code",
     "collapsed": false,
     "input": [
      "l"
     ],
     "language": "python",
     "metadata": {},
     "outputs": []
    },
    {
     "cell_type": "code",
     "collapsed": false,
     "input": [
      "t=tuple('1234')\n",
      "t"
     ],
     "language": "python",
     "metadata": {},
     "outputs": []
    },
    {
     "cell_type": "markdown",
     "metadata": {},
     "source": [
      "Tout comme avec les cha\u00eenes, il sera possible de concat\u00e9ner des tuples et avoir la sensation d'avoir modifi\u00e9 un tuple alors que nous aurons simplement r\u00e9affect\u00e9 une variable :"
     ]
    },
    {
     "cell_type": "code",
     "collapsed": false,
     "input": [
      "t=(1,2,3)\n",
      "t=t+(4,5,6)\n",
      "t"
     ],
     "language": "python",
     "metadata": {},
     "outputs": [
      {
       "metadata": {},
       "output_type": "pyout",
       "prompt_number": 9,
       "text": [
        "(1, 2, 3, 4, 5, 6)"
       ]
      }
     ],
     "prompt_number": 9
    },
    {
     "cell_type": "markdown",
     "metadata": {},
     "source": [
      "Pour rappel, un tuple ne contenant qu'un seul \u00e9l\u00e9ment est not\u00e9 entre parenth\u00e8ses, mais avec une virgule pr\u00e9c\u00e9dant la derni\u00e8re parenth\u00e8se:  \n",
      "Quel peut \u00eatre l'int\u00e9r\u00eat d'utiliser ce type plut\u00f4t qu'une liste ?\n",
      "\n",
      "Tout d'abord, les donn\u00e9es ne peuvent pas \u00eatre modifi\u00e9es par erreur mais surtout, leur impl\u00e9mentation en machine fait qu'elles occupent moins d'espace m\u00e9moire et que leur traitement par l'interpr\u00e9teur est plus rapide que pour des valeurs identiques mais stock\u00e9es sous forme de listes.  \n",
      "\n",
      "De plus, de par leur aspect non modifiable, les valeurs contenues dans un tuple peuvent \u00eatre utilis\u00e9es en tant que cl\u00e9 pour acc\u00e9der \u00e0 une valeur dans un dictionnaire (alors que c'est beaucoup plus dangereux avec les valeurs contenues dans une liste) :\n"
     ]
    },
    {
     "cell_type": "code",
     "collapsed": false,
     "input": [
      "l=['cle1','cle2','cle3']\n",
      "t=('cle1','cle2','cle3')\n",
      "d={'cle1':1,'cle2':2,'cle3':3}\n",
      "d[l[0]]"
     ],
     "language": "python",
     "metadata": {},
     "outputs": []
    },
    {
     "cell_type": "code",
     "collapsed": false,
     "input": [
      "l[0]= 'cle_modifiee'\n",
      "d[l[0]]"
     ],
     "language": "python",
     "metadata": {},
     "outputs": []
    },
    {
     "cell_type": "markdown",
     "metadata": {},
     "source": [
      "Les tuples dispose de deux m\u00e9thodes ***count()*** et ***t.index***. Leur utilisation est semblable aux cha\u00eenes de caract\u00e8re.\n",
      "\n",
      "### \u00c0 retenir\n",
      "\n",
      "Les tuples s'\u00e9crivent avec des parenth\u00e8ses et ne sont pas modifiables."
     ]
    },
    {
     "cell_type": "markdown",
     "metadata": {},
     "source": [
      "## 2.3 Les sp\u00e9cificit\u00e9s des listes\n",
      "\n",
      "Nous avons vu que les listes \u00e9taient des \u00e9l\u00e9ments modifiables pouvant contenir diff\u00e9rents types de donn\u00e9es.  \n",
      "Il est bien s\u00fbr possible de modifier les \u00e9l\u00e9ments d'une liste:"
     ]
    },
    {
     "cell_type": "code",
     "collapsed": false,
     "input": [
      "l=[1,2,3,4]\n",
      "l"
     ],
     "language": "python",
     "metadata": {},
     "outputs": [
      {
       "metadata": {},
       "output_type": "pyout",
       "prompt_number": 7,
       "text": [
        "[1, 2, 3, 4]"
       ]
      }
     ],
     "prompt_number": 7
    },
    {
     "cell_type": "code",
     "collapsed": false,
     "input": [
      "l[0]=0\n",
      "l"
     ],
     "language": "python",
     "metadata": {},
     "outputs": [
      {
       "metadata": {},
       "output_type": "pyout",
       "prompt_number": 8,
       "text": [
        "[0, 2, 3, 4]"
       ]
      }
     ],
     "prompt_number": 8
    },
    {
     "cell_type": "markdown",
     "metadata": {},
     "source": [
      "Plusieurs **m\u00e9thodes** peuvent \u00eatre employ\u00e9es pour ajouter des \u00e9l\u00e9ments a une liste existante (sans r\u00e9affectation).  \n",
      "Voici la liste des m\u00e9thodes pour les listes."
     ]
    },
    {
     "cell_type": "markdown",
     "metadata": {},
     "source": [
      "| a | b | c | d | e | f\n",
      "| :---: |  :---: |  :---: |     :---: |     :---: |   :---:\n",
      "| l.append | l.copy | l.extend | l.insert | l.remove | l.sort     \n",
      "| l.clear | l.count |  l.index | l.pop | l.reverse"
     ]
    },
    {
     "cell_type": "markdown",
     "metadata": {},
     "source": [
      "### a. Ajouter des \u00e9l\u00e9ments\n",
      "La m\u00e9thode ***append(x)*** permet de rajouter l'\u00e9l\u00e9ment x \u00e0 la fin de la liste."
     ]
    },
    {
     "cell_type": "code",
     "collapsed": false,
     "input": [
      "l=[1,2,3,4]\n",
      "l.append(5)\n",
      "l"
     ],
     "language": "python",
     "metadata": {},
     "outputs": [
      {
       "metadata": {},
       "output_type": "pyout",
       "prompt_number": 11,
       "text": [
        "[1, 2, 3, 4, 5]"
       ]
      }
     ],
     "prompt_number": 11
    },
    {
     "cell_type": "markdown",
     "metadata": {},
     "source": [
      "La m\u00e9thode ***insert(n,x)*** permet d'ins\u00e9rer l'\u00e9l\u00e9ment x dans la liste \u00e0 l'indice n."
     ]
    },
    {
     "cell_type": "code",
     "collapsed": false,
     "input": [
      "l=[1,2,3,4]\n",
      "l.insert(1,8)\n",
      "l"
     ],
     "language": "python",
     "metadata": {},
     "outputs": [
      {
       "metadata": {},
       "output_type": "pyout",
       "prompt_number": 16,
       "text": [
        "[1, 8, 2, 3, 4]"
       ]
      }
     ],
     "prompt_number": 16
    },
    {
     "cell_type": "markdown",
     "metadata": {},
     "source": [
      "La m\u00e9thode ***extend(l2)*** permet de r\u00e9aliser la concat\u00e9nation de deux listes sans r\u00e9affectation.  \n",
      "Cette op\u00e9ration est r\u00e9alisable avec r\u00e9affectation en utilisant l'op\u00e9rateur **+** :"
     ]
    },
    {
     "cell_type": "code",
     "collapsed": false,
     "input": [
      "l1=[1,2,3]\n",
      "l2=[4,5,6]\n",
      "l1.extend(l2)\n",
      "l1"
     ],
     "language": "python",
     "metadata": {},
     "outputs": [
      {
       "metadata": {},
       "output_type": "pyout",
       "prompt_number": 2,
       "text": [
        "[1, 2, 3, 4, 5, 6]"
       ]
      }
     ],
     "prompt_number": 2
    },
    {
     "cell_type": "code",
     "collapsed": false,
     "input": [
      "l1=[1,2,3]\n",
      "l1=l1+l2  #On peur remplacer par l1+=l2\n",
      "l1"
     ],
     "language": "python",
     "metadata": {},
     "outputs": [
      {
       "metadata": {},
       "output_type": "pyout",
       "prompt_number": 3,
       "text": [
        "[1, 2, 3, 4, 5, 6]"
       ]
      }
     ],
     "prompt_number": 3
    },
    {
     "cell_type": "markdown",
     "metadata": {},
     "source": [
      "### b. Supprimer des \u00e9l\u00e9ments"
     ]
    },
    {
     "cell_type": "markdown",
     "metadata": {},
     "source": [
      "- La m\u00e9thode ***clear()*** (depuis python3.3) permet d'effacer la liste"
     ]
    },
    {
     "cell_type": "code",
     "collapsed": false,
     "input": [
      "l.clear()\n",
      "l"
     ],
     "language": "python",
     "metadata": {},
     "outputs": [
      {
       "metadata": {},
       "output_type": "pyout",
       "prompt_number": 10,
       "text": [
        "[]"
       ]
      }
     ],
     "prompt_number": 10
    },
    {
     "cell_type": "markdown",
     "metadata": {},
     "source": [
      "Si la version de python est inf\u00e9rieur \u00e0 3.2 alors on utilisera"
     ]
    },
    {
     "cell_type": "code",
     "collapsed": false,
     "input": [
      "l=[]"
     ],
     "language": "python",
     "metadata": {},
     "outputs": [],
     "prompt_number": 4
    },
    {
     "cell_type": "markdown",
     "metadata": {},
     "source": [
      "- ***remove(x)*** supprime la premi\u00e8re occurrence de x."
     ]
    },
    {
     "cell_type": "code",
     "collapsed": false,
     "input": [
      "l=[1,2,3,1]\n",
      "l.remove(1)\n",
      "l"
     ],
     "language": "python",
     "metadata": {},
     "outputs": [
      {
       "metadata": {},
       "output_type": "pyout",
       "prompt_number": 17,
       "text": [
        "[2, 3, 1]"
       ]
      }
     ],
     "prompt_number": 17
    },
    {
     "cell_type": "code",
     "collapsed": false,
     "input": [
      "l.remove(1)\n",
      "l"
     ],
     "language": "python",
     "metadata": {},
     "outputs": [
      {
       "metadata": {},
       "output_type": "pyout",
       "prompt_number": 18,
       "text": [
        "[2, 3]"
       ]
      }
     ],
     "prompt_number": 18
    },
    {
     "cell_type": "code",
     "collapsed": false,
     "input": [
      "l.remove(1)"
     ],
     "language": "python",
     "metadata": {},
     "outputs": [
      {
       "ename": "ValueError",
       "evalue": "list.remove(x): x not in list",
       "output_type": "pyerr",
       "traceback": [
        "\u001b[0;31m---------------------------------------------------------------------------\u001b[0m\n\u001b[0;31mValueError\u001b[0m                                Traceback (most recent call last)",
        "\u001b[0;32m<ipython-input-19-ce3fdfde5d67>\u001b[0m in \u001b[0;36m<module>\u001b[0;34m()\u001b[0m\n\u001b[0;32m----> 1\u001b[0;31m \u001b[0ml\u001b[0m\u001b[0;34m.\u001b[0m\u001b[0mremove\u001b[0m\u001b[0;34m(\u001b[0m\u001b[0;36m1\u001b[0m\u001b[0;34m)\u001b[0m\u001b[0;34m\u001b[0m\u001b[0m\n\u001b[0m",
        "\u001b[0;31mValueError\u001b[0m: list.remove(x): x not in list"
       ]
      }
     ],
     "prompt_number": 19
    },
    {
     "cell_type": "markdown",
     "metadata": {},
     "source": [
      "- La m\u00e9thode ***l.pop([i])*** Retourne l'\u00e9l\u00e9ment de la liste l d'indice i et supprime cet \u00e9l\u00e9ment  de la liste."
     ]
    },
    {
     "cell_type": "code",
     "collapsed": false,
     "input": [
      "l=[1,2,3,1]\n",
      "a=l.pop(2)\n",
      "print(a)\n",
      "print(l)"
     ],
     "language": "python",
     "metadata": {},
     "outputs": [
      {
       "output_type": "stream",
       "stream": "stdout",
       "text": [
        "3\n",
        "[1, 2, 1]\n"
       ]
      }
     ],
     "prompt_number": 10
    },
    {
     "cell_type": "markdown",
     "metadata": {},
     "source": [
      "- La fonction ***del*** supprime aussi un \u00e9l\u00e9ment pr\u00e9cis en fonction de son indice :"
     ]
    },
    {
     "cell_type": "code",
     "collapsed": false,
     "input": [
      "l=[1,2,3,1]\n",
      "del l[2]\n",
      "l"
     ],
     "language": "python",
     "metadata": {},
     "outputs": [
      {
       "metadata": {},
       "output_type": "pyout",
       "prompt_number": 56,
       "text": [
        "[1, 2, 1]"
       ]
      }
     ],
     "prompt_number": 56
    },
    {
     "cell_type": "markdown",
     "metadata": {},
     "source": [
      "### c. Autres m\u00e9thodes\n",
      "\n",
      "- Pour savoir si un \u00e9l\u00e9ment appartient bien \u00e0 une liste on utilise le mot-cl\u00e9 **_in_**.  \n",
      "Si l'\u00e9l\u00e9ment test\u00e9 est dans la liste, la valeur retourn\u00e9e sera **_True_** et sinon ce sera **_False_**:"
     ]
    },
    {
     "cell_type": "code",
     "collapsed": false,
     "input": [
      "distrib = ['debian','ubuntu','fedora']\n",
      "'debian' in distrib"
     ],
     "language": "python",
     "metadata": {},
     "outputs": [
      {
       "metadata": {},
       "output_type": "pyout",
       "prompt_number": 2,
       "text": [
        "True"
       ]
      }
     ],
     "prompt_number": 2
    },
    {
     "cell_type": "code",
     "collapsed": false,
     "input": [
      "'mandriva' in distrib"
     ],
     "language": "python",
     "metadata": {},
     "outputs": [
      {
       "metadata": {},
       "output_type": "pyout",
       "prompt_number": 3,
       "text": [
        "False"
       ]
      }
     ],
     "prompt_number": 3
    },
    {
     "cell_type": "markdown",
     "metadata": {},
     "source": [
      "- Il est \u00e9galement possible d'obtenir l'indice de la premi\u00e8re occurrence d'un \u00e9l\u00e9ment par la m\u00e9thode **_index()_**:"
     ]
    },
    {
     "cell_type": "code",
     "collapsed": false,
     "input": [
      "distrib.index('ubuntu')"
     ],
     "language": "python",
     "metadata": {},
     "outputs": [
      {
       "metadata": {},
       "output_type": "pyout",
       "prompt_number": 4,
       "text": [
        "1"
       ]
      }
     ],
     "prompt_number": 4
    },
    {
     "cell_type": "markdown",
     "metadata": {},
     "source": [
      "- Pour conna\u00eetre la taille d'une liste (nombre d'\u00e9l\u00e9ments qu'elle contient), on pourra utiliser comme pour les cha\u00eene de caract\u00e8re la fonction **_len()_**:\n",
      "\n",
      "Mais attention : cette fonction ne compte que les \u00e9l\u00e9ments de _<< premier niveau >>_ ! Si vous avez une structure de liste complexe contenant des sous-listes, chaque sous-liste ne comptera que comme un seul \u00e9l\u00e9ment:"
     ]
    },
    {
     "cell_type": "code",
     "collapsed": false,
     "input": [
      "l=[1,2,['a','b',['000','001','010']]]\n",
      "len(l)"
     ],
     "language": "python",
     "metadata": {},
     "outputs": [
      {
       "metadata": {},
       "output_type": "pyout",
       "prompt_number": 23,
       "text": [
        "3"
       ]
      }
     ],
     "prompt_number": 23
    },
    {
     "cell_type": "code",
     "collapsed": false,
     "input": [
      "l[2]"
     ],
     "language": "python",
     "metadata": {},
     "outputs": [
      {
       "metadata": {},
       "output_type": "pyout",
       "prompt_number": 25,
       "text": [
        "['a', 'b', ['000', '001', '010']]"
       ]
      }
     ],
     "prompt_number": 25
    },
    {
     "cell_type": "code",
     "collapsed": false,
     "input": [
      "l[2][2]"
     ],
     "language": "python",
     "metadata": {},
     "outputs": [
      {
       "metadata": {},
       "output_type": "pyout",
       "prompt_number": 27,
       "text": [
        "['000', '001', '010']"
       ]
      }
     ],
     "prompt_number": 27
    },
    {
     "cell_type": "code",
     "collapsed": false,
     "input": [
      "l[2][2][1]"
     ],
     "language": "python",
     "metadata": {},
     "outputs": [
      {
       "metadata": {},
       "output_type": "pyout",
       "prompt_number": 28,
       "text": [
        "'001'"
       ]
      }
     ],
     "prompt_number": 28
    },
    {
     "cell_type": "markdown",
     "metadata": {},
     "source": [
      "### d. Les compr\u00e9hensions de listes\n",
      "\n",
      "Nous souhaitons obtenir la liste des carr\u00e9s pour i allant de 0 \u00e0 20.  \n",
      "Une premi\u00e8re m\u00e9thode peut \u00eatre celle-ci"
     ]
    },
    {
     "cell_type": "code",
     "collapsed": false,
     "input": [
      "carre=[]                 # On cr\u00e9er une liste vide\n",
      "for i in range(21):      # pour i allant de 0 \u00e0 20\n",
      "    carre.append(i**2)   # On ajoute le carr\u00e9\n",
      "print(carre)             # On affiche la liste"
     ],
     "language": "python",
     "metadata": {},
     "outputs": [
      {
       "output_type": "stream",
       "stream": "stdout",
       "text": [
        "[0, 1, 4, 9, 16, 25, 36, 49, 64, 81, 100, 121, 144, 169, 196, 225, 256, 289, 324, 361, 400]\n"
       ]
      }
     ],
     "prompt_number": 49
    },
    {
     "cell_type": "markdown",
     "metadata": {},
     "source": [
      "Python impl\u00e9mente un m\u00e9canisme appel\u00e9 << **_compr\u00e9hension de listes_** >>, permettant d'utiliser une fonction qui sera appliqu\u00e9e sur chacun des \u00e9l\u00e9ments d'une liste."
     ]
    },
    {
     "cell_type": "code",
     "collapsed": false,
     "input": [
      "l=[i**2 for i in range(21)]\n",
      "print(l)"
     ],
     "language": "python",
     "metadata": {},
     "outputs": [
      {
       "output_type": "stream",
       "stream": "stdout",
       "text": [
        "[0, 1, 4, 9, 16, 25, 36, 49, 64, 81, 100, 121, 144, 169, 196, 225, 256, 289, 324, 361, 400]\n"
       ]
      }
     ],
     "prompt_number": 50
    },
    {
     "cell_type": "markdown",
     "metadata": {},
     "source": [
      "\u00c0 l'aide de l'instruction _for i in range(21)_, on r\u00e9cup\u00e8re les entiers i de 0 \u00e0 20, et on place les carr\u00e9 (i\\*\\*2 ) dans la liste.    \n",
      "Ce m\u00e9canisme peut produire des r\u00e9sultats plus complexes et on peut aussi appliquer une condition aux \u00e9l\u00e9ments *i* \u00e0 utiliser."
     ]
    },
    {
     "cell_type": "code",
     "collapsed": false,
     "input": [
      "carre=[i**2 for i in range(21) if i%2==0 and i>2]  # si i est pair et strictement sup\u00e9rieur \u00e0 2\n",
      "carre"
     ],
     "language": "python",
     "metadata": {},
     "outputs": [
      {
       "metadata": {},
       "output_type": "pyout",
       "prompt_number": 52,
       "text": [
        "[16, 36, 64, 100, 144, 196, 256, 324, 400]"
       ]
      }
     ],
     "prompt_number": 52
    },
    {
     "cell_type": "code",
     "collapsed": false,
     "input": [
      "import random\n",
      "l=[random.randint(1,6) for i in range(20)]\n",
      "l # liste de 20 nombres al\u00e9atoires entre 1 et 6"
     ],
     "language": "python",
     "metadata": {},
     "outputs": [
      {
       "metadata": {},
       "output_type": "pyout",
       "prompt_number": 41,
       "text": [
        "[1, 5, 3, 2, 2, 5, 5, 5, 2, 5, 2, 4, 2, 2, 6, 6, 3, 6, 1, 2]"
       ]
      }
     ],
     "prompt_number": 41
    },
    {
     "cell_type": "markdown",
     "metadata": {},
     "source": [
      "Il y a donc diff\u00e9rentes fa\u00e7on de construire une liste"
     ]
    },
    {
     "cell_type": "markdown",
     "metadata": {},
     "source": [
      "ou par compr\u00e9hension"
     ]
    },
    {
     "cell_type": "markdown",
     "metadata": {},
     "source": [
      "les compr\u00e9hensions de listes peuvent \u00e9galement \u00eatre utilis\u00e9s avec les dictionnaires."
     ]
    },
    {
     "cell_type": "markdown",
     "metadata": {},
     "source": [
      "### e. \u00c0 retenir\n",
      "\n",
      "Il faut savoir ajouter, rechercher , enlever un \u00e9l\u00e9ment dans une liste\n",
      "Les m\u00e9thodes \u00e0 connaitre sont *append(), insert(), remove(), count(), index(), pop()* ou la fonction *del*\n",
      "\n",
      "### f. Exercices\n",
      "\n",
      "**Exercice 1**:  Soit  $(u_n)$ la suite d\u00e9finie par $ \\left\\lbrace  \\begin{array}{l}\n",
      "u_0=1,2 \\\\\n",
      "u_{n+1}=-2u_n+1\n",
      "  \\end{array}\\right.$\n",
      "  \n",
      "Afficher dans une liste tous les termes de la suite $(u_n)$ puis afficher la somme avec la fonction *sum()*."
     ]
    },
    {
     "cell_type": "markdown",
     "metadata": {},
     "source": [
      "**Exercice 2**: On met un grain de riz sur la 1\u00b0 case d'un \u00e9chiquier, deux sur la deuxi\u00e8me, 4 sur la troisi\u00e8me, 8 sur la quatri\u00e8me etc....  \n",
      "Combien y a t il de grain de grain sur l'\u00e9chiquier?  On fera apparaitre dans une liste le nombre de nombre de grain de chaque case.  \n",
      "idem pour un damier"
     ]
    },
    {
     "cell_type": "markdown",
     "metadata": {},
     "source": [
      "**Exercice 3**:  \n",
      "\u00c9crire un programme qui  inverse les mots (s\u00e9par\u00e9s par un espace) d'une phrase.\n",
      "\n",
      "Entr\u00e9e: 'Un matin nous partons, le cerveau plein de flamme'  \n",
      "sortie: 'flamme de plein cerveau le partons, nous matin un'"
     ]
    },
    {
     "cell_type": "markdown",
     "metadata": {},
     "source": [
      "***Exercice 4:***  \n",
      "Soit $(u_n)$ et $(v_n)$ les suites d\u00e9finies par $u_0=2,\\quad \\forall n \\in N \\ v_{n+1}=\\dfrac{2}{u_n}$ et $u_{n+1}=\\dfrac{u_n+v_n}{2}$.\n",
      "\n",
      "D\u00e9terminer dans les listes U et V les termes des suites $(u_n)$ et $(v_n)$"
     ]
    },
    {
     "cell_type": "markdown",
     "metadata": {},
     "source": [
      "***Exercice 5:***  *Une marche al\u00e9atoire*  \n",
      "\n",
      "<center><img src=\"./images/slicing-ex5.png\" width=\"300\" style=\"float:right\"></center>\n",
      "Un point $M$ peut se d\u00e9placer sur un quadrillage d'un pas dans l'une des quatre directions. Les quatre d\u00e9placements possibles se font au hasard (ils sont donc \u00e9quiprobables). La position de $M$ est rep\u00e9r\u00e9e par ses coordonn\u00e9es $(x;y)$ enti\u00e8res dans le rep\u00e8re indiqu\u00e9 sur la figure. Au d\u00e9part $M$ est en $(0,0)$.\n",
      "\n",
      "On continue les d\u00e9placements jusqu'\u00e0 ce que $M$ sorte du cercle de centre $O$ et de rayon 10.\n",
      "\n",
      "On appelle $N$ le nombre de pas duquel $M$ sort du cercle pour la premi\u00e8re fois *($N$ est donc une variable al\u00e9atoire)*.\n",
      "\n",
      "Le but de l'exercice est d'essayer, en utilisant des simulations, d'avoir une id\u00e9e des probabilit\u00e9s des \u00e9v\u00e8nements suivants:\n",
      "\n",
      "- A: << $M$ sort du cercle en moins de 20 pas >> (soit $N\\leq 20)$,\n",
      "- B: << $M$ sort du cercle apr\u00e8s un nombre de pas compris entre 21 et 30 >> (soit $20<N\\leq 30)$,\n",
      "- C: << $M$ sort du cercle apr\u00e8s un nombre de pas compris entre 31 et 40 >> (soit $30<N\\leq 40)$,\n",
      "- D: << $M$ sort du cercle en plus de 40 pas >> (soit $40<N)$,\n",
      "\n",
      "Simuler un programme pour faire une simulation, puis pour faire 2000 simulations. \n",
      "\n",
      "On Mettra  les nombres N dans une liste L. \n"
     ]
    },
    {
     "cell_type": "markdown",
     "metadata": {},
     "source": [
      "## 2.4 Les sp\u00e9cificit\u00e9s des dictionnaires\n",
      "Comme nous l'avons vu, les dictionnaires sont des listes d'\u00e9l\u00e9ments indic\u00e9s par des cl\u00e9s.  \n",
      "Comme pour les listes, la commande **_del_** permet de supprimer un \u00e9l\u00e9ment et son mot cl\u00e9 , << **_in_** >> permet de v\u00e9rifier l'existence d'une cl\u00e9 :"
     ]
    },
    {
     "cell_type": "code",
     "collapsed": false,
     "input": [
      "d={'cle1':1, 'cle2':2, 'cle3':3}\n",
      "del d['cle2']\n",
      "d"
     ],
     "language": "python",
     "metadata": {},
     "outputs": []
    },
    {
     "cell_type": "code",
     "collapsed": false,
     "input": [
      "'cle1' in d"
     ],
     "language": "python",
     "metadata": {},
     "outputs": []
    },
    {
     "cell_type": "code",
     "collapsed": false,
     "input": [
      "'cle2' in d"
     ],
     "language": "python",
     "metadata": {},
     "outputs": []
    },
    {
     "cell_type": "markdown",
     "metadata": {},
     "source": [
      "Vous aurez pu remarquer lors de l'affichage du dictionnaire **_d_**, que les couples _cl\u00e9/valeur_ n'\u00e9taient pas affich\u00e9s dans l'ordre de cr\u00e9ation.  \n",
      "C'est tout \u00e0 fait normal car les dictionnaires ne sont pas ordonn\u00e9s !  \n",
      "Plusieurs m\u00e9thodes permettent de r\u00e9cup\u00e9rer des listes de cl\u00e9s, de valeurs et de couples _cl\u00e9/valeur_ :"
     ]
    },
    {
     "cell_type": "code",
     "collapsed": false,
     "input": [
      "courses ={'pommes':3, 'poires':5 , 'kiwis':7}\n",
      "courses.keys()"
     ],
     "language": "python",
     "metadata": {},
     "outputs": []
    },
    {
     "cell_type": "code",
     "collapsed": false,
     "input": [
      "courses.values()"
     ],
     "language": "python",
     "metadata": {},
     "outputs": []
    },
    {
     "cell_type": "code",
     "collapsed": false,
     "input": [
      "courses.items()"
     ],
     "language": "python",
     "metadata": {},
     "outputs": []
    },
    {
     "cell_type": "markdown",
     "metadata": {},
     "source": [
      "Ces m\u00e9thodes renvoient **des objets it\u00e9rables**: ce ne sont pas des listes et ils ne consomment donc pas autant de place m\u00e9moire que pour stocker une liste, on ne stocke qu'un _pointeur_ vers l'\u00e9l\u00e9ment courant.  \n",
      "Avec ces structures vous pourrez toujours utiliser les boucles **_for_** classiques, par contre vous n'aurez plus un acc\u00e8s direct aux valeurs en sp\u00e9cifiant leur indice.\n",
      "\n",
      "Dans un dictionnaire, pour obtenir la valeur correspondant \u00e0 une cl\u00e9 on peut bien entendu utiliser la notation classique **_dictionnaire[cl\u00e9]_**, mais on peut aussi utiliser la m\u00e9thode **_get()_** qui renvoie la valeur associ\u00e9e a la cl\u00e9 pass\u00e9e en premier param\u00e8tre ou, si elle n'existe pas, la valeur pass\u00e9e en second param\u00e9tr\u00e9 :"
     ]
    },
    {
     "cell_type": "code",
     "collapsed": false,
     "input": [
      "courses ={ 'pommes':3, 'poires':5 , 'kiwis':7}\n",
      "courses.get( 'pommes' , 'stock epuise' )"
     ],
     "language": "python",
     "metadata": {},
     "outputs": []
    },
    {
     "cell_type": "code",
     "collapsed": false,
     "input": [
      "courses.get('salades' , 'stock epuise')"
     ],
     "language": "python",
     "metadata": {},
     "outputs": []
    },
    {
     "cell_type": "markdown",
     "metadata": {},
     "source": [
      "On peut fusionner deux dictionnaires avec la m\u00e9thode **_update()_** : Notez que si une cl\u00e9 existe d\u00e9j\u00e0, la valeur stock\u00e9e sera \u00e9cras\u00e9e:"
     ]
    },
    {
     "cell_type": "code",
     "collapsed": false,
     "input": [
      "courses ={ 'pommes':3, 'poires':5 , 'kiwis':7}\n",
      "courses2={ 'kiwis':3, 'salades':2}\n",
      "courses.update(courses2)\n",
      "courses"
     ],
     "language": "python",
     "metadata": {},
     "outputs": []
    },
    {
     "cell_type": "markdown",
     "metadata": {},
     "source": [
      "## 2.5 Le slicing\n",
      "\n",
      "Le **_slicing_** est une m\u00e9thode applicable \u00e0 tous les objets de type liste ordonn\u00e9e (donc pas aux dictionnaires). ll s'agit d'un << d\u00e9coupage en tranches >> des \u00e9l\u00e9ments d'une liste de mani\u00e8re \u00e0 r\u00e9cup\u00e9rer des objets respectant cette d\u00e9coupe.\n",
      "\n",
      "Pour cela, nous devrons sp\u00e9cifier l'indice de l'\u00e9l\u00e9ment de d\u00e9part, l'indice de l'\u00e9l\u00e9ment d'arriv\u00e9e (qui ne sera pas compris dans la plage) et le pas de d\u00e9placement. Pour une variable v donn\u00e9e, l'\u00e9criture se fera en utilisant la notation entre crochets et en s\u00e9parant chacun des param\u00e8tres par le caract\u00e8re deux-points: **_v[d\u00e9but:fin:pas]_**. Cette \u00e9criture peut se traduire par : << les caract\u00e8res de la variable **_v_** depuis l'indice **_d\u00e9but_** jusqu'\u00e0 l'indice **_fin_** non compris avec un d\u00e9placement de **_pas_** caract\u00e8re(s) >>.  \n",
      "\n",
      "Pour bien comprendre le fonctionnement du slicing, nous commencerons par l'appliquer aux cha\u00eenes de caract\u00e8res avant de voir les listes et les tuples.\n",
      "\n",
      "### a)    Le slicing sur une cha\u00eene de carat\u00e8re\n",
      "\n",
      "Voici un premier exemple simple"
     ]
    },
    {
     "cell_type": "code",
     "collapsed": false,
     "input": [
      "c='Pablo Neruda'\n",
      "c[:5]"
     ],
     "language": "python",
     "metadata": {},
     "outputs": []
    },
    {
     "cell_type": "code",
     "collapsed": false,
     "input": [
      "c[6:12]"
     ],
     "language": "python",
     "metadata": {},
     "outputs": []
    },
    {
     "cell_type": "markdown",
     "metadata": {},
     "source": [
      "Vous avez remarque que dans ce code aucune indication de pas n'a \u00e9t\u00e9 donn\u00e9e : c'est la valeur par d\u00e9faut qui est alors utilis\u00e9e, c'est-a-dire **_1_**. De m\u00eame, si la valeur de d\u00e9but est omise, la valeur par d\u00e9faut utilis\u00e9e sera **_0_** et si la valeur de fin est omise, la valeur par d\u00e9faut utilis\u00e9e sera la _taille de la cha\u00eene+1_."
     ]
    },
    {
     "cell_type": "code",
     "collapsed": false,
     "input": [
      "c[:5] # \u00e9quivaut \u00e0 c[0:5], \u00e9quivaut \u00e0 c[0:5:1]"
     ],
     "language": "python",
     "metadata": {},
     "outputs": []
    },
    {
     "cell_type": "code",
     "collapsed": false,
     "input": [
      "c[6:] # \u00e9quivaut \u00e0 c[6:12], \u00e9quivaut \u00e0 c[6:12:1]"
     ],
     "language": "python",
     "metadata": {},
     "outputs": []
    },
    {
     "cell_type": "markdown",
     "metadata": {},
     "source": [
      "Du fait de ces valeurs par d\u00e9faut, que pensez vous que l'on s\u00e9lectionne en tapant: c[:] ou encore c[::]?  \n",
      "La cha\u00eene enti\u00e8re, bien s\u00fbr :"
     ]
    },
    {
     "cell_type": "code",
     "collapsed": false,
     "input": [
      "c[:]"
     ],
     "language": "python",
     "metadata": {},
     "outputs": []
    },
    {
     "cell_type": "markdown",
     "metadata": {},
     "source": [
      "Il devient alors tr\u00e8s simple d'inverser une cha\u00eene en utilisant le pas :"
     ]
    },
    {
     "cell_type": "code",
     "collapsed": false,
     "input": [
      "c[::-1]"
     ],
     "language": "python",
     "metadata": {},
     "outputs": []
    },
    {
     "cell_type": "markdown",
     "metadata": {},
     "source": [
      "Une premi\u00e8re solution pour effectuer une copie peut \u00eatre d'utiliser le slicing.  \n",
      "En effet, l'op\u00e9ration [:] renvoie une nouvelle liste, ce qui r\u00e9sout le probl\u00e8me des pointeurs vers la m\u00eame zone m\u00e9moire, comme le montrent l'exemple suivant :"
     ]
    },
    {
     "cell_type": "code",
     "collapsed": false,
     "input": [
      "listea =[1, 2, 3]\n",
      "listeb =listea[:]\n",
      "listea"
     ],
     "language": "python",
     "metadata": {},
     "outputs": []
    },
    {
     "cell_type": "code",
     "collapsed": false,
     "input": [
      "listeb"
     ],
     "language": "python",
     "metadata": {},
     "outputs": []
    },
    {
     "cell_type": "code",
     "collapsed": false,
     "input": [
      "listeb[0]=0\n",
      "listeb"
     ],
     "language": "python",
     "metadata": {},
     "outputs": []
    },
    {
     "cell_type": "code",
     "collapsed": false,
     "input": [
      "listea"
     ],
     "language": "python",
     "metadata": {},
     "outputs": []
    },
    {
     "cell_type": "markdown",
     "metadata": {},
     "source": [
      "Cette copie peut para\u00eetre satisfaisante... et elle l'est, mais \u00e0 condition de ne manipuler que des listes de premier niveau ne comportant aucune sous-liste :"
     ]
    },
    {
     "cell_type": "code",
     "collapsed": false,
     "input": [
      "listea=[1,2,3,[4,5,6]]\n",
      "listeb =listea[:]\n",
      "listea"
     ],
     "language": "python",
     "metadata": {},
     "outputs": []
    },
    {
     "cell_type": "code",
     "collapsed": false,
     "input": [
      "listeb"
     ],
     "language": "python",
     "metadata": {},
     "outputs": []
    },
    {
     "cell_type": "code",
     "collapsed": false,
     "input": [
      "listeb[3][0]=0\n",
      "listeb"
     ],
     "language": "python",
     "metadata": {},
     "outputs": []
    },
    {
     "cell_type": "code",
     "collapsed": false,
     "input": [
      "listea"
     ],
     "language": "python",
     "metadata": {},
     "outputs": []
    },
    {
     "cell_type": "markdown",
     "metadata": {},
     "source": [
      "En effet, le slicing n'effectue pas de copie r\u00e9cursive: en cas de sous-liste, on retombe dans la probl\u00e9matique des pointeurs m\u00e9moire. La solution est alors d'utiliser un module sp\u00e9cifique, le module **_copy_**, qui permet d'effectuer une copie r\u00e9cursive. Bien que n'ayant pas encore approfondi la manipulation des modules, voici comment r\u00e9aliser une copie de liste par cette m\u00e9thode:"
     ]
    },
    {
     "cell_type": "code",
     "collapsed": false,
     "input": [
      "from copy   import *\n",
      "listea=[1,2,3,[4,5,6]]\n",
      "listeb=deepcopy(listea)\n",
      "listea"
     ],
     "language": "python",
     "metadata": {},
     "outputs": []
    },
    {
     "cell_type": "code",
     "collapsed": false,
     "input": [
      "listeb"
     ],
     "language": "python",
     "metadata": {},
     "outputs": []
    },
    {
     "cell_type": "code",
     "collapsed": false,
     "input": [
      "listeb[3][0]=0\n",
      "listeb"
     ],
     "language": "python",
     "metadata": {},
     "outputs": []
    },
    {
     "cell_type": "code",
     "collapsed": false,
     "input": [
      "listea"
     ],
     "language": "python",
     "metadata": {},
     "outputs": []
    },
    {
     "cell_type": "markdown",
     "metadata": {},
     "source": [
      "Le probl\u00e8me est exactement le m\u00eame avec la copie de dictionnaires. Il faudra utiliser ici la m\u00e9thode **_copy()_**:"
     ]
    },
    {
     "cell_type": "code",
     "collapsed": false,
     "input": [
      "dicoa={ 'cle1':1, 'cle2':2, 'cle3':3}\n",
      "dicob=dicoa.copy()\n",
      "dicoa"
     ],
     "language": "python",
     "metadata": {},
     "outputs": []
    },
    {
     "cell_type": "code",
     "collapsed": false,
     "input": [
      "dicob"
     ],
     "language": "python",
     "metadata": {},
     "outputs": []
    },
    {
     "cell_type": "code",
     "collapsed": false,
     "input": [
      "dicob['cle1']=0"
     ],
     "language": "python",
     "metadata": {},
     "outputs": []
    },
    {
     "cell_type": "code",
     "collapsed": false,
     "input": [
      "dicob"
     ],
     "language": "python",
     "metadata": {},
     "outputs": []
    },
    {
     "cell_type": "code",
     "collapsed": false,
     "input": [
      "dicoa"
     ],
     "language": "python",
     "metadata": {},
     "outputs": [
      {
       "ename": "NameError",
       "evalue": "name 'dicoa' is not defined",
       "output_type": "pyerr",
       "traceback": [
        "\u001b[0;31m---------------------------------------------------------------------------\u001b[0m\n\u001b[0;31mNameError\u001b[0m                                 Traceback (most recent call last)",
        "\u001b[0;32m<ipython-input-2-69f2ada99a19>\u001b[0m in \u001b[0;36m<module>\u001b[0;34m()\u001b[0m\n\u001b[0;32m----> 1\u001b[0;31m \u001b[0mdicoa\u001b[0m\u001b[0;34m\u001b[0m\u001b[0m\n\u001b[0m",
        "\u001b[0;31mNameError\u001b[0m: name 'dicoa' is not defined"
       ]
      }
     ],
     "prompt_number": 2
    },
    {
     "cell_type": "markdown",
     "metadata": {},
     "source": [
      "## Conclusion\n",
      "\n",
      "Les structures de liste en Python sont particuli\u00e8rement fournies et il existe pour chacune d'elles de nombreuses m\u00e9thodes permettant de manipuler leurs \u00e9l\u00e9ments.  \n",
      "Le slicing repr\u00e9sente un raccourci efficace pour r\u00e9cup\u00e9rer ou modifier des \u00e9l\u00e9ments d'une liste: il masque la complexit\u00e9 des op\u00e9rations sous une syntaxe claire et lisible... pour peu que l'on ait pris le temps de se familiariser avec elle."
     ]
    }
   ],
   "metadata": {}
  }
 ]
}