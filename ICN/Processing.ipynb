{
 "cells": [
  {
   "cell_type": "code",
   "execution_count": 1,
   "metadata": {
    "collapsed": false
   },
   "outputs": [
    {
     "data": {
      "application/javascript": [
       "IPython.Cell.options_default.cm_config.lineNumbers = true"
      ],
      "text/plain": [
       "<IPython.core.display.Javascript object>"
      ]
     },
     "metadata": {},
     "output_type": "display_data"
    }
   ],
   "source": [
    "%%javascript\n",
    "IPython.Cell.options_default.cm_config.lineNumbers = true"
   ]
  },
  {
   "cell_type": "code",
   "execution_count": 1,
   "metadata": {
    "collapsed": false
   },
   "outputs": [
    {
     "data": {
      "text/html": [
       "<style>\n",
       "\n",
       "\n",
       "div.text_cell_render { font-size: 12pt;   line-height: 145%; }\n",
       "div.text_cell_render h1{text-align: center;font-size: 24pt; color:#ff0000;  text-decoration: underline;}\n",
       "div.text_cell_render h2{font-size: 20pt;color:#ff0000;  text-decoration: underline;}\n",
       "div.text_cell_render h3{font-size: 14pt;color:#ff0000;  text-decoration: underline;}\n",
       "div.text_cell_render h4{font-size: 12pt;color:#ff0000;  text-decoration: underline; }\n",
       "div.text_cell_render h5 {font-weight: 300;}\n",
       "\n",
       "\n",
       "div.cell.code_cell { /* area that contains code + output */\n",
       "    background: #ffffff;\n",
       "    border: none;\n",
       "    border-radius: 10px;\n",
       "    padding-top: 1ex;\n",
       "}\n",
       "\n",
       "div.input_area { /* box around box with code */\n",
       "    border: none;\n",
       "    background: #f5f5f5;\n",
       "    border: 1px solid #ccc;\n",
       "    border-radius: 10px;\n",
       "    padding-top: 0.5ex;\n",
       "    padding-bottom: 0.5ex;\n",
       "    padding-left: 0.5em;\n",
       "}\n",
       "\n",
       "div.input { /* box with code */\n",
       "}\n",
       "\n",
       "div.CodeMirror { /* code font */\n",
       "    font-family: \"Inconsolata-dz\", monospace;\n",
       "    font-size: 10pt;\n",
       "}\n",
       "\n",
       "\n",
       "\n",
       "\n",
       "\n",
       "/*div.text_cell_render  code { font-size: medium; border: 3px #ababab solid; background-color: #f5f5f5;}*/\n",
       "/*.rendered_html code { border: 3px #ababab solid; background-color:  #f5f5f5;}*/\n",
       ".rendered_html blockquote { margin: 1em 2em; background: red; }\n",
       ".rendered_html ol { list-style:decimal; margin: 1em 2em; }\n",
       "\n",
       "\n",
       "/* classe pour inverse video */\n",
       ".reverse{\n",
       "    background-color: black;\n",
       "    color: white;\n",
       "}\n",
       "\n",
       "\n",
       "</style>"
      ],
      "text/plain": [
       "<IPython.core.display.HTML object>"
      ]
     },
     "execution_count": 1,
     "metadata": {},
     "output_type": "execute_result"
    }
   ],
   "source": [
    "# Charge ma feuille de style pour nbviewer\n",
    "from IPython.core.display import display, HTML\n",
    "from  urllib.request import urlopen\n",
    "# import urllib.request, urllib.parse, urllib.error\n",
    "\n",
    "url='https://github.com/debimax/cours-debimax/raw/master/documents/custom.css'\n",
    "with urlopen(url) as response:\n",
    "    styles = response.read().decode(\"utf8\")\n",
    "styles=\"<style>\\n{}\\n</style>\".format(styles)\n",
    "HTML(styles)"
   ]
  },
  {
   "cell_type": "code",
   "execution_count": 4,
   "metadata": {
    "collapsed": false
   },
   "outputs": [
    {
     "data": {
      "text/html": [
       "<script>alert('Hello World!');</script>"
      ],
      "text/plain": [
       "<IPython.core.display.HTML object>"
      ]
     },
     "metadata": {},
     "output_type": "display_data"
    }
   ],
   "source": [
    "js = \"<script>alert('Hello World!');</script>\"\n",
    "display(HTML(js))"
   ]
  },
  {
   "cell_type": "markdown",
   "metadata": {
    "collapsed": true
   },
   "source": [
    "# processing\n"
   ]
  },
  {
   "cell_type": "code",
   "execution_count": 39,
   "metadata": {
    "collapsed": true
   },
   "outputs": [],
   "source": [
    " from IPython.display import HTML"
   ]
  },
  {
   "cell_type": "code",
   "execution_count": 2,
   "metadata": {
    "collapsed": false
   },
   "outputs": [],
   "source": [
    "processing_code = \"\"\" \n",
    "int i = 0;\n",
    "void setup() {\n",
    " size(400, 400);\n",
    " stroke(0,0,0,100);\n",
    " colorMode(HSB);\n",
    "}\n",
    "void draw() {\n",
    " i++;\n",
    " fill(255 * sin(i / 240.0) * sin(i / 240.0), 200, 175, 50);\n",
    " ellipse(mouseX, mouseY, 50, 50);\n",
    "}\n",
    "\"\"\""
   ]
  },
  {
   "cell_type": "code",
   "execution_count": 3,
   "metadata": {
    "collapsed": false
   },
   "outputs": [
    {
     "data": {
      "text/html": [
       "\n",
       "<script type=\"text/javascript\" src=\"processing.min.js\"></script> \n",
       "<script type=\"text/javascript\">\n",
       "  var processingCode = ` \n",
       "int i = 0;\n",
       "void setup() {\n",
       " size(400, 400);\n",
       " stroke(0,0,0,100);\n",
       " colorMode(HSB);\n",
       "}\n",
       "void draw() {\n",
       " i++;\n",
       " fill(255 * sin(i / 240.0) * sin(i / 240.0), 200, 175, 50);\n",
       " ellipse(mouseX, mouseY, 50, 50);\n",
       "}\n",
       "`;\n",
       "  var myCanvas = document.getElementById(\"canvas1\");\n",
       "  var jsCode = Processing.compile(processingCode);\n",
       "  var processingInstance = new Processing(myCanvas, jsCode);\n",
       " </script>\n",
       "<canvas id=\"canvas1\"> </canvas>    \n"
      ],
      "text/plain": [
       "<IPython.core.display.HTML object>"
      ]
     },
     "execution_count": 3,
     "metadata": {},
     "output_type": "execute_result"
    }
   ],
   "source": [
    "html_template_process = \"\"\"\n",
    "<script type=\"text/javascript\" src=\"processing.min.js\"></script> \n",
    "<script type=\"text/javascript\">\n",
    "  var processingCode = `{}`;\n",
    "  var myCanvas = document.getElementById(\"canvas1\");\n",
    "  var jsCode = Processing.compile(processingCode);\n",
    "  var processingInstance = new Processing(myCanvas, jsCode);\n",
    " </script>\n",
    "<canvas id=\"canvas1\"> </canvas>    \n",
    "\"\"\"\n",
    "\n",
    "html_code = html_template_process.format(processing_code)\n",
    "HTML(html_code)"
   ]
  },
  {
   "cell_type": "code",
   "execution_count": null,
   "metadata": {
    "collapsed": false,
    "scrolled": true
   },
   "outputs": [],
   "source": []
  },
  {
   "cell_type": "code",
   "execution_count": 141,
   "metadata": {
    "collapsed": true
   },
   "outputs": [],
   "source": [
    "processing_code2='''\n",
    "function setup() {\n",
    "  createCanvas(640, 480);\n",
    "}\n",
    "\n",
    "function draw() {\n",
    "  if (mouseIsPressed) {\n",
    "    fill(0);\n",
    "  } else {\n",
    "    fill(255);\n",
    "  }\n",
    "  ellipse(mouseX, mouseY, 80, 80);\n",
    "}\n",
    "'''"
   ]
  },
  {
   "cell_type": "code",
   "execution_count": 142,
   "metadata": {
    "collapsed": false
   },
   "outputs": [],
   "source": [
    "html_template_p5 = \"\"\"\n",
    "<script type=\"text/javascript\" src=\"p5.min.js\"></script> \n",
    "<script type=\"text/javascript\" src=\"processing.min.js\"></script> \n",
    "<script type=\"text/javascript\">\n",
    "  var processingCode = `{}`;\n",
    "  var myCanvas = document.getElementById(\"canvas2\");\n",
    "  var jsCode = Processing.compile(processingCode);\n",
    "  var processingInstance = new Processing(myCanvas, jsCode);\n",
    " </script>\n",
    "<canvas id=\"canvas2\"> </canvas>    \n",
    "\"\"\""
   ]
  },
  {
   "cell_type": "code",
   "execution_count": 143,
   "metadata": {
    "collapsed": false
   },
   "outputs": [
    {
     "data": {
      "text/html": [
       "\n",
       "<script type=\"text/javascript\" src=\"p5.min.js\"></script> \n",
       "<script type=\"text/javascript\" src=\"processing.min.js\"></script> \n",
       "<script type=\"text/javascript\">\n",
       "  var processingCode = `\n",
       "function setup() {\n",
       "  createCanvas(640, 480);\n",
       "}\n",
       "\n",
       "function draw() {\n",
       "  if (mouseIsPressed) {\n",
       "    fill(0);\n",
       "  } else {\n",
       "    fill(255);\n",
       "  }\n",
       "  ellipse(mouseX, mouseY, 80, 80);\n",
       "}\n",
       "`;\n",
       "  var myCanvas = document.getElementById(\"canvas2\");\n",
       "  var jsCode = Processing.compile(processingCode);\n",
       "  var processingInstance = new Processing(myCanvas, jsCode);\n",
       " </script>\n",
       "<canvas id=\"canvas2\"> </canvas>    \n"
      ],
      "text/plain": [
       "<IPython.core.display.HTML object>"
      ]
     },
     "execution_count": 143,
     "metadata": {},
     "output_type": "execute_result"
    }
   ],
   "source": [
    "html_code = html_template_p5.format(processing_code2)\n",
    "HTML(html_code)"
   ]
  },
  {
   "cell_type": "code",
   "execution_count": 148,
   "metadata": {
    "collapsed": false
   },
   "outputs": [],
   "source": [
    "html_template_p5 = \"\"\"\n",
    "    <script src=\"https://cdnjs.cloudflare.com/ajax/libs/p5.js/0.4.18/p5.min.js\"></script>\n",
    "    <script src=\"https://cdnjs.cloudflare.com/ajax/libs/p5.js/0.4.18/addons/p5.dom.min.js\"></script>\n",
    "    <script>\n",
    "function setup(){\n",
    "  createElement('h1','je suis un titre h1');\n",
    "  createP(\"je suis le premier paragraphe, j'apparais avant le 'canvas'\")\n",
    "  createCanvas(400,400);\n",
    "  background(240);\n",
    "  createP(\"je suis un paragraphe ajouté à la page depuis le script JavaScript !\")\n",
    "}\n",
    "function draw(){\n",
    "}</script>\n",
    "\"\"\"\n"
   ]
  },
  {
   "cell_type": "code",
   "execution_count": 149,
   "metadata": {
    "collapsed": false
   },
   "outputs": [
    {
     "data": {
      "text/html": [
       "\n",
       "    <script src=\"https://cdnjs.cloudflare.com/ajax/libs/p5.js/0.4.18/p5.min.js\"></script>\n",
       "    <script src=\"https://cdnjs.cloudflare.com/ajax/libs/p5.js/0.4.18/addons/p5.dom.min.js\"></script>\n",
       "    <script>\n",
       "function setup(){\n",
       "  createElement('h1','je suis un titre h1');\n",
       "  createP(\"je suis le premier paragraphe, j'apparais avant le 'canvas'\")\n",
       "  createCanvas(400,400);\n",
       "  background(240);\n",
       "  createP(\"je suis un paragraphe ajouté à la page depuis le script JavaScript !\")\n",
       "}\n",
       "function draw(){\n",
       "}</script>\n"
      ],
      "text/plain": [
       "<IPython.core.display.HTML object>"
      ]
     },
     "execution_count": 149,
     "metadata": {},
     "output_type": "execute_result"
    }
   ],
   "source": [
    "html_code = html_template_p5\n",
    "HTML(html_code)"
   ]
  },
  {
   "cell_type": "code",
   "execution_count": 1,
   "metadata": {
    "collapsed": false
   },
   "outputs": [
    {
     "name": "stderr",
     "output_type": "stream",
     "text": [
      "ERROR:root:Cell magic `%%brython` not found.\n"
     ]
    }
   ],
   "source": []
  },
  {
   "cell_type": "code",
   "execution_count": null,
   "metadata": {
    "collapsed": true
   },
   "outputs": [],
   "source": []
  }
 ],
 "metadata": {
  "kernelspec": {
   "display_name": "Python 3",
   "language": "python",
   "name": "python3"
  },
  "language_info": {
   "codemirror_mode": {
    "name": "ipython",
    "version": 3
   },
   "file_extension": ".py",
   "mimetype": "text/x-python",
   "name": "python",
   "nbconvert_exporter": "python",
   "pygments_lexer": "ipython3",
   "version": "3.5.3"
  }
 },
 "nbformat": 4,
 "nbformat_minor": 1
}
