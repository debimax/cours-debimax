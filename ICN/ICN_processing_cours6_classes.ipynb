{
 "cells": [
  {
   "cell_type": "code",
   "execution_count": 2,
   "metadata": {
    "collapsed": false
   },
   "outputs": [
    {
     "data": {
      "application/javascript": [
       "IPython.Cell.options_default.cm_config.lineNumbers = true"
      ],
      "text/plain": [
       "<IPython.core.display.Javascript object>"
      ]
     },
     "metadata": {},
     "output_type": "display_data"
    }
   ],
   "source": [
    "%%javascript\n",
    "IPython.Cell.options_default.cm_config.lineNumbers = true"
   ]
  },
  {
   "cell_type": "code",
   "execution_count": 3,
   "metadata": {
    "collapsed": false
   },
   "outputs": [
    {
     "data": {
      "text/html": [
       "<style>\n",
       "\n",
       "\n",
       "div.text_cell_render { font-size: 12pt;   line-height: 145%; }\n",
       "div.text_cell_render h1{text-align: center;font-size: 24pt; color:#ff0000;  text-decoration: underline;}\n",
       "div.text_cell_render h2{font-size: 20pt;color:#ff0000;  text-decoration: underline;}\n",
       "div.text_cell_render h3{font-size: 14pt;color:#ff0000;  text-decoration: underline;}\n",
       "div.text_cell_render h4{font-size: 12pt;color:#ff0000;  text-decoration: underline; }\n",
       "div.text_cell_render h5 {font-weight: 300;}\n",
       "\n",
       "\n",
       "div.cell.code_cell { /* area that contains code + output */\n",
       "    background: #ffffff;\n",
       "    border: none;\n",
       "    border-radius: 10px;\n",
       "    padding-top: 1ex;\n",
       "}\n",
       "\n",
       "div.input_area { /* box around box with code */\n",
       "    border: none;\n",
       "    background: #f5f5f5;\n",
       "    border: 1px solid #ccc;\n",
       "    border-radius: 10px;\n",
       "    padding-top: 0.5ex;\n",
       "    padding-bottom: 0.5ex;\n",
       "    padding-left: 0.5em;\n",
       "}\n",
       "\n",
       "div.input { /* box with code */\n",
       "}\n",
       "\n",
       "div.CodeMirror { /* code font */\n",
       "    font-family: \"Inconsolata-dz\", monospace;\n",
       "    font-size: 10pt;\n",
       "}\n",
       "\n",
       "\n",
       "\n",
       "\n",
       "\n",
       "/*div.text_cell_render  code { font-size: medium; border: 3px #ababab solid; background-color: #f5f5f5;}*/\n",
       "/*.rendered_html code { border: 3px #ababab solid; background-color:  #f5f5f5;}*/\n",
       ".rendered_html blockquote { margin: 1em 2em; background: red; }\n",
       ".rendered_html ol { list-style:decimal; margin: 1em 2em; }\n",
       "\n",
       "\n",
       "</style>"
      ],
      "text/plain": [
       "<IPython.core.display.HTML object>"
      ]
     },
     "execution_count": 3,
     "metadata": {},
     "output_type": "execute_result"
    }
   ],
   "source": [
    "# Charge ma feuille de style pour nbviewer\n",
    "from IPython.core.display import display,HTML\n",
    "from  urllib.request import urlopen\n",
    "# import urllib.request, urllib.parse, urllib.error\n",
    "\n",
    "url='https://github.com/debimax/cours-debimax/raw/master/documents/custom.css'\n",
    "with urlopen(url) as response:\n",
    "    styles = response.read().decode(\"utf8\")\n",
    "styles=\"<style>\\n{}\\n</style>\".format(styles)\n",
    "HTML(styles)"
   ]
  },
  {
   "cell_type": "code",
   "execution_count": 4,
   "metadata": {
    "collapsed": true
   },
   "outputs": [],
   "source": [
    "html_template = \"\"\"\n",
    "<script type=\"text/javascript\" src=\"processing.min.js\"></script> \n",
    "<script type=\"text/javascript\">\n",
    "  var processingCode = `{0}`;\n",
    "  var myCanvas = document.getElementById(\"canvas`{1}`\");\n",
    "  var jsCode = Processing.compile(processingCode);\n",
    "  var processingInstance = new Processing(myCanvas, jsCode);\n",
    " </script>\n",
    "<canvas id=\"canvas`{1}`\"> </canvas>    \n",
    "\"\"\""
   ]
  },
  {
   "cell_type": "markdown",
   "metadata": {},
   "source": [
    "# Processing\n",
    "\n",
    "## IV Définir une classe\n",
    "\n",
    "\n",
    "Avant de créer un objet, vous devez définir une classe. Une classe est la spécification d'un objet.  \n",
    "En utilisant une analogie architecturale, une classe est comme un plan pour une maison, et l'objet est comme la maison elle-même. Chaque maison faite à partir du plan peut avoir des variations, et le plan n'est que la spécification, pas une structure construite.  \n",
    "\n",
    "Par exemple, une maison peut être bleue et une autre rouge; Une maison pourrait venir avec une cheminée et une autre sans. De même avec les objets, la classe définit les types de données et les comportements, mais chaque objet (maison) fait à partir d'une seule classe (blueprint) a des variables (couleur, cheminée) qui sont définies à différentes valeurs. Pour utiliser un terme plus technique, chaque objet est une instance d'une classe et chaque instance possède son propre ensemble de champs et de méthodes.\n",
    "\n",
    "Avant d'écrire une classe, nous vous recommandons un peu de planification. Pensez à quels champs et méthodes votre classe devrait avoir. Faites un peu de remue-méninges pour imaginer toutes les options possibles, puis prioriser et faire votre meilleure estimation de ce qui va fonctionner. Vous allez apporter des changements pendant le processus de programmation, mais il est important d'avoir un bon début.\n",
    "\n",
    "Les champs dans une classe peuvent être n'importe quel type de données. Une classe peut contenir simultanément plusieurs booléens, flottant, images, chaînes, etc. Gardez à l'esprit que l'une des raisons de faire une classe est de regrouper les éléments de données connexes. Pour vos méthodes, sélectionnez les noms clairs et décidez des valeurs de retour (le cas échéant). Les méthodes sont utilisées pour modifier les valeurs des champs et pour effectuer des actions en fonction des valeurs des champs.\n",
    "\n",
    "Pour notre première classe, nous convertirons un de nos exemples précédents (Exemple 8-9). Nous commençons par faire une liste des champs de l'exemple:\n",
    "\n",
    "- x\n",
    "- y\n",
    "- diamètre\n",
    "- vitesse\n",
    "\n",
    "\n",
    "L'étape suivante consiste à déterminer quelles méthodes peuvent être utiles pour la classe. En examinant la fonction ***draw()*** de l'exemple que nous adaptons, nous voyons deux composants principaux. La position de la forme est mise à jour et dessinée sur l'écran. Créons deux méthodes pour notre classe, une pour chaque tâche:\n",
    "\n",
    "```python\n",
    "def move()\n",
    "def display()\n",
    "```\n",
    "Lorsque nous écrire ensuite la classe en fonction des listes de champs et de méthodes, nous allons suivre les étapes suivantes:\n",
    "\n",
    "1. Écrivez la définition de la classe.\n",
    "2. Ecrivez une méthode \\_\\_init\\_\\_ (expliquée sous peu) pour initialiser l'objet et affecter des valeurs aux champs.\n",
    "3. Ajoutez les méthodes.\n",
    "\n",
    "Tout d'abord, nous écrivons la définition de la classe:\n",
    "\n",
    "```python\n",
    "class JitterBug(object):\n",
    "```\n",
    "\n",
    "Notez que la classe de mots clés est en minuscules et que le nom JitterBug est en majuscules. Nommer la classe avec une lettre majuscule n'est pas nécessaire, mais c'est une convention (que nous encourageons fortement) utilisé pour indiquer que c'est une classe. (La classe mot-clé, cependant, doit être en minuscules parce que c'est une règle du langage de programmation.)\n",
    "\n",
    "Deuxièmement, nous ajoutons une méthode \\_\\_init\\_\\_ (deux caractères de soulignement avant init et deux caractères de soulignement après). Python appelle cette méthode automatiquement lorsqu'un objet (une instance de la classe) est créé. Le but de la méthode \\_\\_init\\_\\_ est d'affecter les valeurs initiales aux champs de l'objet. Vous pouvez utiliser les paramètres passés à \\_\\_init\\_\\_ pour initialiser les champs de l'objet ou vous pouvez initialiser des champs à une valeur qui ne change pas d'un objet à l'autre. Pour la classe JitterBug, nous avons décidé que les valeurs de x, y et de diamètre seront transmises, mais la valeur de la vitesse sera la même pour chaque objet appartenant à la classe.\n",
    "\n",
    "Le code à l'intérieur de la méthode \\_\\_init\\_\\_ est exécuté une fois lors de la création de l'objet. Comme nous l'avons vu précédemment, nous transmettons trois paramètres à cette méthode lorsque l'objet est initialisé. Chacune des valeurs transmises est affectée à une variable temporaire qui n'existe que lorsque le code de la méthode \\_\\_init\\_\\_ est exécuté. Pour clarifier cela, nous avons ajouté le nom temp à chacune de ces variables, mais ils peuvent être nommés avec les termes que vous préférez. Dans cet exemple, ces variables ne sont utilisées que pour affecter les valeurs aux champs qui font partie de la classe. Notez également que la méthode \\_\\_init\\_\\_ ne renvoie jamais une valeur et n'a donc pas de déclaration de retour.  \n",
    "\n",
    "Après avoir ajouté la méthode \\_\\_init\\_\\_, la classe ressemble à ceci:\n",
    "\n",
    "```python\n",
    "class JitterBug(object):\n",
    "  def __init__(self, tempX, tempY, tempDiameter):\n",
    "    self.x = tempX\n",
    "    self.y = tempY\n",
    "    self.diameter = tempDiameter\n",
    "    self.speed = 0.5\n",
    "```\n",
    "\n"
   ]
  },
  {
   "cell_type": "code",
   "execution_count": null,
   "metadata": {
    "collapsed": true
   },
   "outputs": [],
   "source": []
  }
 ],
 "metadata": {
  "kernelspec": {
   "display_name": "Python 3",
   "language": "python",
   "name": "python3"
  },
  "language_info": {
   "codemirror_mode": {
    "name": "ipython",
    "version": 3
   },
   "file_extension": ".py",
   "mimetype": "text/x-python",
   "name": "python",
   "nbconvert_exporter": "python",
   "pygments_lexer": "ipython3",
   "version": "3.5.2+"
  }
 },
 "nbformat": 4,
 "nbformat_minor": 1
}
