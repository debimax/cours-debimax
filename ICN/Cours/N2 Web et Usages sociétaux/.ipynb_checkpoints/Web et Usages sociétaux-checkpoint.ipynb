{
 "cells": [
  {
   "cell_type": "code",
   "execution_count": 1,
   "metadata": {
    "collapsed": false
   },
   "outputs": [
    {
     "data": {
      "application/javascript": [
       "IPython.Cell.options_default.cm_config.lineNumbers = true;"
      ],
      "text/plain": [
       "<IPython.core.display.Javascript object>"
      ]
     },
     "metadata": {},
     "output_type": "display_data"
    }
   ],
   "source": [
    "%%javascript\n",
    "IPython.Cell.options_default.cm_config.lineNumbers = true;"
   ]
  },
  {
   "cell_type": "code",
   "execution_count": 2,
   "metadata": {
    "collapsed": false
   },
   "outputs": [
    {
     "data": {
      "text/html": [
       "<style>\n",
       "/* Pour le titre comme cela il n'y a pas de numérotation au */\n",
       "#titre{\n",
       "font-size: 24pt; \n",
       "color:#ff0000;\n",
       "text-decoration: underline;\n",
       "text-align: center;\n",
       "font-weight: bold;\n",
       "}\n",
       "\n",
       "div.text_cell_render { font-size: 12pt;   line-height: 145%; }\n",
       "div.text_cell_render h1{font-size: 24pt; color:#0000ff;  text-decoration: underline;}\n",
       "div.text_cell_render h2{font-size: 18pt;color:#0000ff;  text-decoration: underline;}\n",
       "div.text_cell_render h3{font-size: 14pt;color:#0000ff;  text-decoration: underline;}\n",
       "div.text_cell_render h4{font-size: 12pt;color:#0000ff;  text-decoration: underline; }\n",
       "div.text_cell_render h5 {font-weight: 300;}\n",
       "\n",
       "\n",
       "div.cell.code_cell { /* area that contains code + output */\n",
       "    background: #ffffff;\n",
       "    border: none;\n",
       "    border-radius: 10px;\n",
       "    padding-top: 1ex;\n",
       "}\n",
       "\n",
       "div.input_area { /* box around box with code */\n",
       "    border: none;\n",
       "    background: #f5f5f5;\n",
       "    border: 1px solid #ccc;\n",
       "    border-radius: 10px;\n",
       "    padding-top: 0.5ex;\n",
       "    padding-bottom: 0.5ex;\n",
       "    padding-left: 0.5em;\n",
       "}\n",
       "\n",
       "div.input { /* box with code */\n",
       "}\n",
       "\n",
       "div.CodeMirror { /* code font */\n",
       "    font-family: \"Inconsolata-dz\", monospace;\n",
       "    font-size: 10pt;\n",
       "}\n",
       "\n",
       "\n",
       "\n",
       "\n",
       "\n",
       "/*div.text_cell_render  code { font-size: medium; border: 3px #ababab solid; background-color: #f5f5f5;}*/\n",
       "/*.rendered_html code { border: 3px #ababab solid; background-color:  #f5f5f5;}*/\n",
       ".rendered_html blockquote { margin: 1em 2em; background: red; }\n",
       ".rendered_html ol { list-style:decimal; margin: 1em 2em; }\n",
       "\n",
       "\n",
       "/* classe pour inverse video */\n",
       ".reverse{\n",
       "    background-color: black;\n",
       "    color: white;\n",
       "}\n",
       "/*  strick   <s>texte/<s>*/\n",
       ".barre{\n",
       "\n",
       "}\n",
       "\n",
       "\n",
       "</style>"
      ],
      "text/plain": [
       "<IPython.core.display.HTML object>"
      ]
     },
     "execution_count": 2,
     "metadata": {},
     "output_type": "execute_result"
    }
   ],
   "source": [
    "# Charge ma feuille de style pour nbviewer\n",
    "from IPython.core.display import HTML\n",
    "from  urllib.request import urlopen\n",
    "# import urllib.request, urllib.parse, urllib.error\n",
    "\n",
    "url='https://github.com/debimax/cours-debimax/raw/master/static/custom.css'\n",
    "with urlopen(url) as response:\n",
    "    styles = response.read().decode(\"utf8\")\n",
    "styles=\"<style>\\n{}\\n</style>\".format(styles)\n",
    "HTML(styles)"
   ]
  },
  {
   "cell_type": "markdown",
   "metadata": {
    "collapsed": true
   },
   "source": [
    "# Comment le web est devenu social ?\n",
    "\n",
    "Le Web social, connu aussi sous le nom de Web 2.0, a transformé les usages. Aujourd'hui, plus d'une dizaine de réseaux sociaux ont dépassé les 100 millions d'utilisateurs ; Wikipédia est une gigantesque encyclopédie construite par ses propres utilisateurs. Comment le Web a évolué d'un Web documentaire à un Web social ? Comment ont émergé les réseaux sociaux qui sont au cœur du Web 2.0 ? Des chercheurs tentent de répondre à ces question et modélisent les usages sociaux du Web...\n",
    "\n",
    "\n",
    "##  Vidéo"
   ]
  },
  {
   "cell_type": "code",
   "execution_count": 1,
   "metadata": {
    "collapsed": false
   },
   "outputs": [
    {
     "data": {
      "text/html": [
       "<center>\n",
       "<video width=\"540\" controls>\n",
       "  <source src=\"web social-LD1.mp4\" type=\"video/mp4\">\n",
       "</video>\n",
       "</center>"
      ],
      "text/plain": [
       "<IPython.core.display.HTML object>"
      ]
     },
     "metadata": {},
     "output_type": "display_data"
    }
   ],
   "source": [
    "%%HTML\n",
    "<center>\n",
    "<video width=\"540\" controls>\n",
    "  <source src=\"web social-LD1.mp4\" type=\"video/mp4\">\n",
    "</video>\n",
    "</center>"
   ]
  },
  {
   "cell_type": "code",
   "execution_count": 2,
   "metadata": {
    "collapsed": false
   },
   "outputs": [
    {
     "data": {
      "text/html": [
       "<center>\n",
       "<video width=\"540\" controls>\n",
       "  <source src=\"web social-LD2.mp4\" type=\"video/mp4\">\n",
       "</video>\n",
       "</center>"
      ],
      "text/plain": [
       "<IPython.core.display.HTML object>"
      ]
     },
     "metadata": {},
     "output_type": "display_data"
    }
   ],
   "source": [
    "%%HTML\n",
    "<center>\n",
    "<video width=\"540\" controls>\n",
    "  <source src=\"web social-LD2.mp4\" type=\"video/mp4\">\n",
    "</video>\n",
    "</center>"
   ]
  },
  {
   "cell_type": "markdown",
   "metadata": {},
   "source": [
    "## Glossaire\n",
    "\n",
    "*(la plupart des définitions sont reprises de Wikipédia)*\n",
    "\n",
    "-    Internet : un ensemble de standards et de technologies qui permettent de relier les ordinateurs et les réseaux entre eux.\n",
    "-    Web : (World Wide Web, parfois aussi appelé la Toile) une des applications d'Internet qui permet de lier et consulter à distance des documents (ex. un journal), des interfaces d'applications (ex. un service de réservation), des données (ex. les températures d'une ville), etc.\n",
    "-    Lien : élément qui établit des liaisons. Lorsqu'on parle de graphes, les liens sont ce qui relie les différents sommets.\n",
    "-    Graphe (noeuds, arcs) : un type de structure de données composé de sommets (aussi appelés points, noeuds) reliés par des liens (aussi appelés arrêtes ou arcs).\n",
    "-    Graphe orienté : si les liens d'un graphe sont orientés (l'orientation est matérialisée par des flèches), cela signifie que la relation va dans un seul sens, est asymétrique. Le graphe est donc orienté.\n",
    "-    Graphe étiqueté : il s'agit d'un graphe dont les liens sont étiquetés par un chiffre, un symbole, une lettre, etc.\n",
    "-    Matrice d'adjacence : outil mathématique qui permet de modéliser sous forme d'un tableau (ou matrice) les liens d'un graphe et donc, dans notre cas, les relations d'un réseau.\n",
    "-    Centralité d'intermédiarité : une mesure, parmi d'autres, de la centralité d'un sommet d'un graphe. Elle capture le nombre de fois où un noeud agit, dans un graphe, comme un point de passage le long du plus court chemin entre deux autres nœuds.\n",
    "-    Web social : évolution du Web caractérisée par l'interaction entre les utilisateurs et la production de contenus par ces derniers.\n",
    "-    Réseau social : côté Web, il s'agit d'une application qui utilise les sciences et technologies de l'information et de la communication pour mettre en relation des personnes. Hors monde numérique, un réseau social est un groupement de personnes qui a un sens.\n",
    "\n",
    "*A propos de l'auteur:  Fabien GANDON est directeur de recherche chez Inria et responsable de l'équipe Wimmics*"
   ]
  },
  {
   "cell_type": "code",
   "execution_count": null,
   "metadata": {
    "collapsed": true
   },
   "outputs": [],
   "source": []
  }
 ],
 "metadata": {
  "kernelspec": {
   "display_name": "Python 3",
   "language": "python",
   "name": "python3"
  },
  "language_info": {
   "codemirror_mode": {
    "name": "ipython",
    "version": 3
   },
   "file_extension": ".py",
   "mimetype": "text/x-python",
   "name": "python",
   "nbconvert_exporter": "python",
   "pygments_lexer": "ipython3",
   "version": "3.5.4"
  },
  "latex_envs": {
   "LaTeX_envs_menu_present": true,
   "autocomplete": true,
   "bibliofile": "biblio.bib",
   "cite_by": "apalike",
   "current_citInitial": 1,
   "eqLabelWithNumbers": true,
   "eqNumInitial": 1,
   "hotkeys": {
    "equation": "Ctrl-E",
    "itemize": "Ctrl-I"
   },
   "labels_anchors": false,
   "latex_user_defs": false,
   "report_style_numbering": false,
   "user_envs_cfg": false
  },
  "toc": {
   "colors": {
    "hover_highlight": "#DAA520",
    "navigate_num": "#000000",
    "navigate_text": "#333333",
    "running_highlight": "#FF0000",
    "selected_highlight": "#FFD700",
    "sidebar_border": "#EEEEEE",
    "wrapper_background": "#FFFFFF"
   },
   "moveMenuLeft": true,
   "nav_menu": {
    "height": "12px",
    "width": "252px"
   },
   "navigate_menu": true,
   "number_sections": true,
   "sideBar": true,
   "threshold": 4,
   "toc_cell": false,
   "toc_section_display": "block",
   "toc_window_display": false,
   "widenNotebook": false
  }
 },
 "nbformat": 4,
 "nbformat_minor": 2
}
