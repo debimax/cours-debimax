{
 "cells": [
  {
   "cell_type": "markdown",
   "metadata": {},
   "source": [
    "# Comment la médecine est devenue numérique\n",
    "\n",
    "Dans l'enquête [les Français et le nouveau monde\n",
    "numérique](https://www.inria.fr/actualite/actualites-inria/barometre-les-\n",
    "francais-le-numerique)  publiée par Inria en 2011, 88% des sondés estimaient que\n",
    "le numérique avait une utilité en médecine. Ce nombre était porté à 91% dans\n",
    "[l'édition 2014 de ce baromètre](https://www.inria.fr/actualite/mediacenter/les-\n",
    "francais-et-le-numerique).\n",
    "\n",
    "Dans les années 80 à 90, l'informatique a révolutionné l'imagerie médicale en\n",
    "permettant la reconstruction d'images en trois dimensions du corps du patient.\n",
    "Depuis, ce sont tous les aspects de la médecine qui ont été touchés :\n",
    "l'archivage numérique en masse ([PACS](http://www.em-\n",
    "consulte.com/en/article/121349)), l'aide au diagnostic ([Computer Aided\n",
    "Diagnosis](https://en.wikipedia.org/wiki/Computer-aided_diagnosis) en anglais),\n",
    "la gestion du parcours de soins d'un patient ([Système d'Information Hospitalier\n",
    "](https://fr.wikipedia.org/wiki/Système_d%27information_hospitalier)), la télé-\n",
    "médecine, et plus récemment la chirurgie ainsi que l'analyse automatisée des\n",
    "masses de données et des phénomènes biologiques complexes (ce qu'on appelle la\n",
    "[bio-informatique](https://fr.wikipedia.org/wiki/Bio-informatique)) sont des\n",
    "exemples marquants du profond impact du numérique sur la médecine. Nous abordons\n",
    "ici quelques aspects de cette révolution...\n",
    "\n",
    "Note: la vidéo ci-dessous est extraite de la table ronde [Enjeux et perspectives\n",
    "du numérique](http://videos.univ-lorraine.fr/index.php?act=view&amp;id=3625) qui\n",
    "s'est tenue à l'occasion des 40 ans du laboratoire [Loria](http://www.loria.fr)\n",
    "de Nancy."
   ]
  },
  {
   "cell_type": "code",
   "execution_count": 3,
   "metadata": {
    "attributes": {
     "classes": [],
     "id": "",
     "n": "3"
    },
    "collapsed": false
   },
   "outputs": [
    {
     "data": {
      "text/html": [
       "<video  controls>\n",
       "  <source src=\"https://d381hmu4snvm3e.cloudfront.net/videos/XJiSyAyFMIjp/LD.mp4\" type=\"video/mp4\">\n",
       "</video>"
      ],
      "text/plain": [
       "<IPython.core.display.HTML object>"
      ]
     },
     "metadata": {},
     "output_type": "display_data"
    }
   ],
   "source": [
    "%%HTML\n",
    "<video  controls>\n",
    "  <source src=\"https://d381hmu4snvm3e.cloudfront.net/videos/XJiSyAyFMIjp/LD.mp4\" type=\"video/mp4\">\n",
    "</video>"
   ]
  },
  {
   "cell_type": "markdown",
   "metadata": {},
   "source": [
    "## Glossaire\n",
    "\n",
    "- **Chirurgie conservative** : (ou conservatrice) approche chirurgicale ciblée\n",
    "qui a pour but de retirer la partie malade tout en préservant au maximum la\n",
    "partie saine de l'organe atteint.\n",
    "- [Médecine régénérative](http://www.futura-sciences.com/sante/definitions/medecine-medecine-regenerative-12503/): (ou\n",
    "régénératrice) approche thérapeutique qui vise à remplacer la partie endommagée d'un organe par un tissu cellulaire créé pour l'occasion, ou en stimulant une repousse du tissu à restaurer. (Voir aussi [l'histoire du chien Rocky](http://passeurdesciences.blog.lemonde.fr/2013/04/28/les-incroyables-promesses-de-la-medecine-regeneratrice/))\n",
    "- **Chirurgie ambulatoire** : mode de prise en charge permettant de raccourcir à une seule journée le temps d'hospitalisation pour une intervention chirurgicale.  \n",
    "Le patient entre donc le matin pour être opéré le jour même et peut ressortir le soir. (*Source* [Hopital.fr](http://www.hopital.fr/Vos-dossiers-sante/Prises-en-charge/Chirurgie-ambulatoire#64797))\n",
    "- La chirurgie ambulatoire est un mode de prise en charge permettant de raccourcir à une seule journée votre hospitalisation pour une intervention\n",
    "chirurgicale. Vous rentrez donc le matin pour être opéré le jour même et\n",
    "ressortir le soir - [Chirurgie-ambulatoire](http://www.hopital.fr/Vos-dossiers-sante/Prises-en-charge/Chirurgie-ambulatoire#64797)\n",
    "- **Chirurgie robotique** : (ou chirurgie robotisée) approche chirurgicale où le\n",
    "chirurgien manipule un robot qui porte les instruments chirurgicaux. L'approche\n",
    "est [mini-invasive](http://www.chirurgie-mini-invasive.com/) et le\n",
    "[robot](https://fr.wikipedia.org/wiki/Robot_m%C3%A9dical)  est essentiellement\n",
    "passif (c'est un [cobot(https://fr.wikipedia.org/wiki/Cobotique)) du fait des\n",
    "fortes contraintes de sécurité liées à la manipulation.\n",
    "- **Télémédecine** : La télémédecine est une forme de pratique médicale à\n",
    "distance utilisant les technologies de l'information et de la communication.\n",
    "Elle met en rapport, entre eux ou avec un patient, un ou plusieurs\n",
    "professionnels de santé, parmi lesquels figure nécessairement un professionnel\n",
    "médical et, le cas échéant, d'autres professionnels apportant leurs soins au\n",
    "patient. (*Source* [Article L6316-1 du Code de la santé publique](https://www.le\n",
    "gifrance.gouv.fr/affichCodeArticle.do?cidTexte=LEGITEXT000006072665&amp;idArticl\n",
    "e=LEGIARTI000020891327&amp;dateTexte=&amp;categorieLien=cid))\n",
    "- **Certification (des gestes)** : démarche impliquant une formation à\n",
    "l'exécution de gestes thérapeutiques ou chirurgicaux, et qui obéit aux exigences\n",
    "d'un référentiel (national voire international) en vue de la délivrance d'un\n",
    "certificat par une autorité responsable.\n",
    "- **Simulation** : la [simulation\n",
    "informatique](https://fr.wikipedia.org/wiki/Simulation_informatique) ou\n",
    "**numérique** désigne l'exécution d'un [Programme\n",
    "informatique[https://fr.wikipedia.org/wiki/Programme_informatique] sur un\n",
    "[Ordinateur](https://fr.wikipedia.org/wiki/Ordinateur) ou\n",
    "[réseau](https://fr.wikipedia.org/wiki/R%C3%A9seau_informatique) en vue de\n",
    "simuler un [phénomène physique\n",
    "réel](https://fr.wikipedia.org/wiki/Simulation_de_ph%C3%A9nom%C3%A8nes) et\n",
    "complexe. La vidéo évoque la simulation d’entraînement qui aide à former ou\n",
    "préparer des médecins à des gestes thérapeutiques ou chirurgicaux, dans des\n",
    "conditions contrôlées, reproduisant l'environnement complexe de leur\n",
    "intervention (cas médical, complications, outils, salle, équipe).\n",
    "- **Exosquelette** : dispositif robotique passif (qu'on peut classer parmi les\n",
    "[cobots](https://fr.wikipedia.org/wiki/Cobotique) qui revêt ou vient en soutien\n",
    "d'un membre ou d'une partie du corps d'un individu pour renforcer cette\n",
    "dernière, souvent dans un but de restaurer une fonction motrice perdue ou\n",
    "détériorée.\n",
    "\n",
    "\n",
    "\n",
    "## A propos de l'auteur\n",
    "\n",
    "Nguyen Tran est médecin et biochimiste, maître de conférences à la faculté de\n",
    "médecine&nbsp;de l'Université de Nancy et directeur de l'[École de Chirurgie de\n",
    "Nancy](http://www.ecoledechirurgie-nancy.fr/).\n",
    "\n",
    "# Idée reçue : La bioinformatique, c’est l’analyse du génome humain\n",
    "\n",
    "*François Rechenmann*\n",
    "\n",
    "Le séquençage du [génome](https://interstices.info/jcms/p_81700/display.jsp?id=c_6366)  humain est effectif. Seuls 10% de sa séquence restent inconnus, car inaccessibles aux techniques actuelles de séquençage, c’est-à-dire d’obtention de la succession des  [nucléotides](https://interstices.info/jcms/p_81700/display.jsp?id=c_6383) le long d’une molécule d’ADN. Le résultat de ce processus physico-chimique, largement automatisé, est une longue séquence des lettres – A, C, G ou T –, initiales des motifs chimiques qui distinguent les quatre types de nucléotides. La séquence du génome humain en comporte près de 3 milliards. Seules des méthodes informatiques appropriées sont susceptibles d’analyser ce texte, d’identifier des passages pertinents (en particulier les [gènes](https://interstices.info/jcms/p_81700/display.jsp?id=c_6365)) et de les interpréter. Pour autant, la bioinformatique, ce domaine d’activité scientifique à l’interface de la biologie et de l’informatique, ne se limite pas à l’analyse des séquences génomiques humaines, loin s'en faut !\n",
    "\n",
    "## Analyser les génomes humains... et tous les autres\n",
    "\n",
    "\n",
    "<figure><center>\n",
    "  <img src=\"https://interstices.info/upload/id-recue-15/bioinformatique.jpg\" alt=\"bioinformatique.jpg\" style=\"\" />\n",
    "  <figcaption>\"La double hélice, « cliché » de la bioinformatique.<br />Image © UNC-CH Center for Bioinformatics</figcaption>\n",
    "</center>\n",
    "</figure>\n",
    "\n",
    "Depuis 1995, date de l’obtention de la première séquence complète du génome d’un organisme vivant, la bactérie H. influenzae, de très nombreux génomes ont été intégralement séquencés, toujours plus vite et moins cher, grâce aux progrès constants des techniques de séquençage. Autant de chaînes de caractères dont les informaticiens sont friands et pour lesquelles ils ont élaboré de puissants algorithmes et développé des programmes efficaces.  \n",
    "Les bioinformaticiens se sont largement appuyés sur ce vaste patrimoine pour élaborer des méthodes d’analyse des « textes » génomiques. Il s’agit d’identifier les régions codantes des gènes, qui portent l’information utilisée par la cellule pour synthétiser les protéines, mais aussi les régions impliquées dans la régulation de l’expression de ces gènes. Ou de rechercher des sous-séquences qui se répètent au sein du génome, ou encore des sous-séquences qui forment des palindromes, etc.\n"
   ]
  },
  {
   "cell_type": "markdown",
   "metadata": {
    "collapsed": true
   },
   "source": [
    "## Analyser, mais pas seulement les génomes\n",
    "\n",
    "Produits des gènes, les molécules d’ARN, chaînes de ribonucléotides, et les protéines, chaînes d’acides aminés, acquièrent leurs fonctions en se repliant dans l’espace. La détermination expérimentale de cette structure tridimensionnelle reste un processus long et coûteux. Sa prédiction à partir de la séquence constitue de ce fait un défi pour la bioinformatique, et ce depuis plusieurs dizaines d’années, alors même que se trouve contestée l’hypothèse que toute l’information déterminant ce repliement se trouverait dans la séquence...\n",
    "\n",
    "Outre ce problème critique, la bioinformatique dite structurale a développé de nombreux algorithmes et programmes destinés à analyser, visualiser et manipuler ces structures moléculaires tridimensionnelles.\n",
    "\n",
    "## Au-delà de l'analyse : structurer et diffuser les connaissances\n",
    "\n",
    "Les séquences, ainsi que les informations qu’elles portent ou auxquelles elles sont associées, sont répertoriées, quand elles sont rendues publiques, dans de grandes bases de données. Ainsi, face à une nouvelle séquence d’intérêt, la première action d’un biologiste est désormais de la comparer au contenu de ces bases pour retrouver d’éventuelles séquences similaires, auxquelles peuvent être attachées des informations susceptibles de le renseigner sur la nature et les fonctions de sa séquence. Cette recherche de séquences similaires repose sur l’emploi de programmes de la famille Blast.\n",
    "\n",
    "Les bases de données sont progressivement devenues le moyen privilégié pour la communauté des chercheurs en biologie de rassembler, structurer, croiser et diffuser les données et les connaissances qu’ils acquièrent sur les organismes vivants. La consultation du numéro spécial annuel de la revue NAR (Nucleic Acids Research) consacré aux bases de données permet de mesurer leur diversité et leur intérêt stratégique.\n",
    "Explorer de nouveaux champs de recherche\n",
    "\n",
    "Les progrès des techniques de séquençage permettent également des démarches systématiques inimaginables il y a encore quelques années. La métagénomique consiste ainsi à séquencer tout l’[ADN](https://interstices.info/jcms/p_81700/display.jsp?id=c_6324) présent dans un échantillon, que ce soit une goutte d’océan ou un prélèvement du contenu de l'estomac. L’objectif est alors d’identifier les micro-organismes présents grâce à ces fragments de leur ADN. Par ailleurs, la disponibilité de la séquence de nombreuses souches d’un même organisme microbien permet de déterminer ce qui les différencie, en vue, par exemple, de caractériser leur aptitude à causer une maladie.\n",
    "\n",
    "![Primates_PHYML](https://interstices.info/upload/id-recue-15/Primates_PHYML.gif)\n",
    "\n",
    "*Arbre phylogénétique incorporant 217 des 233 espèces actuelles de primates, reconstruit par l’algorithme PhyML, conçu par Stéphane Guindon et Olivier Gascuel.  \n",
    "© E. Douzery, P.-H. Fabre (CNRS / ISEM), O. Gascuel, S. Guindon (CNRS / LIRMM) et F. Chevenet (IRD)*\n",
    "\n",
    "\n",
    "La disponibilité de séquences relatives à un nombre sans cesse croissant d’organismes différents modifie profondément la problématique de la reconstruction des arbres phylogénétiques. Ces arbres - au sens informatique du terme - rendent compte de l’histoire évolutive de ces espèces. Les algorithmes les plus récents sont capables de comparer plusieurs dizaines de milliers de séquences d’un même gène chez autant d’organismes et de proposer un arbre qui rende compte au mieux des similarités et dissimilarités, et de ce fait de la proximité évolutive des espèces.\n"
   ]
  },
  {
   "cell_type": "markdown",
   "metadata": {},
   "source": [
    "## Étudier la dynamique des interactions\n",
    "\n",
    "Les molécules ne peuvent être analysées de façon isolée. L’expression d’un gène, c’est-à-dire l’exploitation par la machinerie cellulaire de l’information qu’il porte, varie dans le temps, régulée par le produit d’autres gènes, eux-mêmes sous l’influence d’autres produits de gènes. Les « puces à ADN » et autres dispositifs expérimentaux permettent de mesurer ces niveaux d’expression, en fonction de conditions environnementales contrôlées. Les données qu’elles produisent font l’objet d’analyses statistiques.\n",
    "\n",
    "Les interactions moléculaires composent donc des réseaux complexes que les biologistes cherchent à reconstituer afin d’en comprendre la dynamique. Ces réseaux peuvent être représentés par des graphes, troisième classe d’objets, après les chaînes de caractères et les arbres, que les informaticiens connaissent bien. Mais l’étude de la dynamique des interactions nécessite le recours à des modèles appropriés, des plus simples – réseaux booléens –, aux plus complexes – systèmes d’équations différentielles, voire aux dérivées partielles, ou encore simulation stochastique.\n",
    "\n",
    "Sans prétendre à l’exhaustivité, ce panorama rapide de la bioinformatique laisse entrevoir un domaine de recherche motivé par des problématiques biologiques extrêmement diverses et empruntant à de nombreux domaines de l’informatique fondamentale et des mathématiques appliquées : algorithmique, modélisation des données et des connaissances, probabilités et statistiques, optimisation combinatoire…\n",
    "\n",
    "L’analyse des génomes humains, si elle est porteuse d’espoirs thérapeutiques et d’avancées scientifiques enthousiasmantes, ne constitue vraiment qu’une partie de l’activité des bioinformaticiens."
   ]
  },
  {
   "cell_type": "markdown",
   "metadata": {},
   "source": [
    "\n",
    "## Pour aller plus loin\n",
    "\n",
    "-  FUN propose un Cours de Bioinformatique : [algorithmes et génomes](https://www.fun-mooc.fr/courses/inria/41003S02/session02/about)  \n",
    "- Interstices propose également []une série d'articles sur la bioinformatique](https://interstices.info/jcms/n_48109/portail-resultats-de-recherche?text=bioinformatique&types=generated.Auteur&types=generated.DocumentInterstices&types=generated.IdeeRecue&types=generated.ImagesRecherche&types=generated.Quiz&typesOff=generated.Action&typesOff=generated.AnnonceAccueil&typesOff=generated.Article&typesOff=generated.SmallNews&typesOff=generated.CompteRenduWiki&typesOff=generated.DocumentPrive&typesOff=generated.CalendarEvent&typesOff=generated.Faq&typesOff=generated.FaqEntry&typesOff=generated.DynamicForm&typesOff=generated.DFormQuestion&typesOff=generated.GlossaryEntry&typesOff=generated.ImageSemaine&typesOff=generated.Interview&typesOff=generated.ListeDesAuteurs&typesOff=generated.MiseEnAvantVariante&typesOff=generated.Newsletter&typesOff=generated.NewsletterContent&typesOff=generated.IntersticesNewsletterContent&typesOff=generated.QuestionDeQuiz&typesOff=generated.EventResource&typesOff=generated.TestCompleteContent&typesOff=generated.WebPage&typesOff=generated.AbstractNewsletterContentCustom&textSearch=true&catName=true&jsp=plugins%2FIntersticesV2%2Fjsp%2FqueryCustom.jsp)\n",
    "-  N. Ayache à créé un [cours sur l'informatique pour l'imagerie médicale au Collège de France](http://www.college-de-france.fr/site/nicholas-ayache/) (2013-2014). Sa [conférence inaugurale](http://www.college-de-france.fr/site/nicholas-ayache/inaugural-lecture-2014-04-10-18h00.htm) donne un bon aperçu des succès et enjeux de la recherche dans ce domaine.\n",
    "- [Le corps : vues de l’intérieur](https://interstices.info/jcms/ni_76010/le-corps-vues-de-l-interieur) par Isabelle Bloch, Interstices, 26 novembre 2013 ; cet article propose également une bonne introduction à l'imagerie médicale.\n",
    "- [Une assistance numérique pour les personnes âgées : le projet DomAssist](https://interstices.info/jcms/p_82365/une-assistance-numerique-pour-les-personnes-agees-le-projet-domassist) par  Lucile Dupuy , Charles Consel  et Hélène Sauzéon, Interstices, 17 février 2016\n",
    "- L'informatique peut venir également en aide [aux enfants sourds](http://www.canal-u.tv/video/cerimes/je_peux_voir_les_mots_que_tu_dis_prix_ffup_du_meilleur_documentaire.8700).\n",
    "\n"
   ]
  },
  {
   "cell_type": "code",
   "execution_count": null,
   "metadata": {
    "collapsed": true
   },
   "outputs": [],
   "source": []
  }
 ],
 "metadata": {
  "kernelspec": {
   "display_name": "Python 3",
   "language": "python",
   "name": "python3"
  },
  "language_info": {
   "codemirror_mode": {
    "name": "ipython",
    "version": 3
   },
   "file_extension": ".py",
   "mimetype": "text/x-python",
   "name": "python",
   "nbconvert_exporter": "python",
   "pygments_lexer": "ipython3",
   "version": "3.5.4"
  },
  "latex_envs": {
   "LaTeX_envs_menu_present": true,
   "autocomplete": true,
   "bibliofile": "biblio.bib",
   "cite_by": "apalike",
   "current_citInitial": 1,
   "eqLabelWithNumbers": true,
   "eqNumInitial": 1,
   "hotkeys": {
    "equation": "Ctrl-E",
    "itemize": "Ctrl-I"
   },
   "labels_anchors": false,
   "latex_user_defs": false,
   "report_style_numbering": false,
   "user_envs_cfg": false
  },
  "toc": {
   "colors": {
    "hover_highlight": "#DAA520",
    "navigate_num": "#000000",
    "navigate_text": "#333333",
    "running_highlight": "#FF0000",
    "selected_highlight": "#FFD700",
    "sidebar_border": "#EEEEEE",
    "wrapper_background": "#FFFFFF"
   },
   "moveMenuLeft": true,
   "nav_menu": {
    "height": "99px",
    "width": "252px"
   },
   "navigate_menu": true,
   "number_sections": true,
   "sideBar": true,
   "threshold": 4,
   "toc_cell": false,
   "toc_section_display": "block",
   "toc_window_display": false,
   "widenNotebook": false
  }
 },
 "nbformat": 4,
 "nbformat_minor": 2
}
