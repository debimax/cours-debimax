{
 "cells": [
  {
   "cell_type": "code",
   "execution_count": 1,
   "metadata": {
    "collapsed": false
   },
   "outputs": [
    {
     "data": {
      "application/javascript": [
       "IPython.Cell.options_default.cm_config.lineNumbers = true;"
      ],
      "text/plain": [
       "<IPython.core.display.Javascript object>"
      ]
     },
     "metadata": {},
     "output_type": "display_data"
    }
   ],
   "source": [
    "%%javascript\n",
    "IPython.Cell.options_default.cm_config.lineNumbers = true;"
   ]
  },
  {
   "cell_type": "code",
   "execution_count": 2,
   "metadata": {
    "collapsed": false
   },
   "outputs": [
    {
     "data": {
      "text/html": [
       "<style>\n",
       "/* Pour le titre comme cela il n'y a pas de numérotation au */\n",
       "#titre{\n",
       "font-size: 24pt; \n",
       "color:#ff0000;\n",
       "text-decoration: underline;\n",
       "text-align: center;\n",
       "font-weight: bold;\n",
       "}\n",
       "\n",
       "div.text_cell_render { font-size: 12pt;   line-height: 145%; }\n",
       "div.text_cell_render h1{font-size: 24pt; color:#0000ff;  text-decoration: underline;}\n",
       "div.text_cell_render h2{font-size: 18pt;color:#0000ff;  text-decoration: underline;}\n",
       "div.text_cell_render h3{font-size: 14pt;color:#0000ff;  text-decoration: underline;}\n",
       "div.text_cell_render h4{font-size: 12pt;color:#0000ff;  text-decoration: underline; }\n",
       "div.text_cell_render h5 {font-weight: 300;}\n",
       "\n",
       "\n",
       "div.cell.code_cell { /* area that contains code + output */\n",
       "    background: #ffffff;\n",
       "    border: none;\n",
       "    border-radius: 10px;\n",
       "    padding-top: 1ex;\n",
       "}\n",
       "\n",
       "div.input_area { /* box around box with code */\n",
       "    border: none;\n",
       "    background: #f5f5f5;\n",
       "    border: 1px solid #ccc;\n",
       "    border-radius: 10px;\n",
       "    padding-top: 0.5ex;\n",
       "    padding-bottom: 0.5ex;\n",
       "    padding-left: 0.5em;\n",
       "}\n",
       "\n",
       "div.input { /* box with code */\n",
       "}\n",
       "\n",
       "div.CodeMirror { /* code font */\n",
       "    font-family: \"Inconsolata-dz\", monospace;\n",
       "    font-size: 10pt;\n",
       "}\n",
       "\n",
       "\n",
       "\n",
       "\n",
       "\n",
       "/*div.text_cell_render  code { font-size: medium; border: 3px #ababab solid; background-color: #f5f5f5;}*/\n",
       "/*.rendered_html code { border: 3px #ababab solid; background-color:  #f5f5f5;}*/\n",
       ".rendered_html blockquote { margin: 1em 2em; background: red; }\n",
       ".rendered_html ol { list-style:decimal; margin: 1em 2em; }\n",
       "\n",
       "\n",
       "/* classe pour inverse video */\n",
       ".reverse{\n",
       "    background-color: black;\n",
       "    color: white;\n",
       "}\n",
       "/*  strick   <s>texte/<s>*/\n",
       ".barre{\n",
       "\n",
       "}\n",
       "\n",
       "\n",
       "</style>"
      ],
      "text/plain": [
       "<IPython.core.display.HTML object>"
      ]
     },
     "execution_count": 2,
     "metadata": {},
     "output_type": "execute_result"
    }
   ],
   "source": [
    "# Charge ma feuille de style pour nbviewer\n",
    "from IPython.core.display import HTML\n",
    "from  urllib.request import urlopen\n",
    "# import urllib.request, urllib.parse, urllib.error\n",
    "\n",
    "url='https://github.com/debimax/cours-debimax/raw/master/static/custom.css'\n",
    "with urlopen(url) as response:\n",
    "    styles = response.read().decode(\"utf8\")\n",
    "styles=\"<style>\\n{}\\n</style>\".format(styles)\n",
    "HTML(styles)"
   ]
  },
  {
   "cell_type": "markdown",
   "metadata": {},
   "source": [
    "# Démonter un ordinateur\n",
    "\n",
    "Tout le monde a un ordinateur, un smartphone ou peut-être une télé connectée. Tous ces objets ont été créés sur le même modèle, la même architecture. Sans chercher pour le moment à entrer dans le détail du fonctionnement d'un ordinateur, cette vidéo propose d'en démonter un afin d'en montrer les différents éléments, véritables organes d'un ordinateur...\n",
    "\n",
    "## Vidéo"
   ]
  },
  {
   "cell_type": "code",
   "execution_count": 3,
   "metadata": {
    "collapsed": false
   },
   "outputs": [
    {
     "data": {
      "text/html": [
       "<center>\n",
       "<video width=\"540\" controls>\n",
       "  <source src=\"démonter un ordinateur-LD.mp4\" type=\"video/mp4\">\n",
       "</video>\n",
       "</center>"
      ],
      "text/plain": [
       "<IPython.core.display.HTML object>"
      ]
     },
     "metadata": {},
     "output_type": "display_data"
    }
   ],
   "source": [
    "%%HTML\n",
    "<center>\n",
    "<video width=\"540\" controls>\n",
    "  <source src=\"démonter un ordinateur-LD.mp4\" type=\"video/mp4\">\n",
    "</video>\n",
    "</center>"
   ]
  },
  {
   "cell_type": "markdown",
   "metadata": {},
   "source": [
    "*Auteur: Erwan Kerrien est chercheur en imagerie médicale dans l’équipe Inria MAGRIT.*\n",
    "\n",
    "## Glossaire\n",
    "\n",
    "-    carte mère : circuit imprimé qui rassemble un ensemble de ports permettant d'y connecter les différents éléments de l'ordinateur (processeur, cartes mémoire, carte graphique, disques durs et autres périphériques) et d'assurer leur liaison à travers des circuits imprimés dont le comportement est piloté par le BIOS, programme contenu dans la mémoire morte (ROM) et lancé au démarrage pour notamment détecter et configurer tous les éléments connectés.\n",
    "-    processeur : (ou CPU, pour Central Processing Unit) dispositif électronique de calcul, chargé d'exécuter les différentes instructions d'un programme. Ce faisant des données numériques sont traitées, manipulées et échangées avec les autres composants de l'ordinateur (mémoire vive (RAM), disques durs, autres périphériques) par l'intermédiaire de la carte mère. Quand le processeur est construit sur un seul circuit intégré, on parle de microprocesseur.\n",
    "-    RAM : (Random Access Memory ou mémoire vive) est un circuit imprimé sur une carte qui permet de stocker les données et instructions employées dans un programme informatique. Contrairement à la mémoire morte (ROM), le contenu de la mémoire vive peut être modifié et offre donc un espace de stockage dynamique pour le processeur.\n",
    "-    périphérique : dispositif électronique connecté à un ordinateur, plus précisément sur un des ports de la carte mère.\n",
    "-    port : prise permettant de connecter un périphérique à un ordinateur. Les ports sont placés sur la carte mère qui assure la liaison avec les autres périphériques et le processeur.\n"
   ]
  },
  {
   "cell_type": "markdown",
   "metadata": {},
   "source": [
    "# Le système d'exploitation en trois idées clé\n",
    "\n",
    "Lorsque je lance une application de lecture d'une vidéo, les images apparaissent à l'écran et du son sort des haut-parleurs. Et en même temps mon lecteur de mail me prévient de l'arrivée d'un nouveau message auquel je peux répondre, en entrant du texte au clavier, sans avoir à quitter mon lecteur vidéo (ce qui m'obligerait peut-être à recommencer la lecture depuis le début alors que je vais enfin savoir comment le héros va s'en sortir !?). Comment une application peut-elle interagir avec les périphériques matériels ? Comment deux applications peuvent-elles tourner en même temps sur un seul processeur ? C'est grâce au système d'exploitation, une couche logicielle intermédiaire entre la couche applicative et la couche matérielle, que nous vous proposons de découvrir en trois concepts clé...\n",
    "\n",
    "## Vidéo"
   ]
  },
  {
   "cell_type": "code",
   "execution_count": 4,
   "metadata": {
    "collapsed": false
   },
   "outputs": [
    {
     "data": {
      "text/html": [
       "<center>\n",
       "<video width=\"540\" controls>\n",
       "  <source src=\"Comprendre le système d exploitation-LD.mp4\" type=\"video/mp4\">\n",
       "</video>\n",
       "</center>"
      ],
      "text/plain": [
       "<IPython.core.display.HTML object>"
      ]
     },
     "metadata": {},
     "output_type": "display_data"
    }
   ],
   "source": [
    "%%HTML\n",
    "<center>\n",
    "<video width=\"540\" controls>\n",
    "  <source src=\"Comprendre le système d exploitation-LD.mp4\" type=\"video/mp4\">\n",
    "</video>\n",
    "</center>"
   ]
  },
  {
   "cell_type": "markdown",
   "metadata": {},
   "source": [
    "*Auteur: Damien Saucez est Chargé de Recherches Inria dans l'équipe DIANA.*\n",
    "\n",
    "## Glossaire\n",
    "\n",
    "-    Operating System (OS) : expression anglaise qui signifie \"système d'exploitation\". Ensemble de programmes qui gèrent l'utilisation des ressources matérielles d'un ordinateur par des applications qui y sont lancées : ressources de stockage des mémoires et des disques durs, ressources de calcul du processeur, ressources de communication vers des périphériques ou via le réseau. Le système d'exploitation accepte ou refuse ces demandes, puis réserve les ressources en question pour éviter que leur utilisation n'interfère avec d'autres demandes provenant d'autres logiciels. (Source : Wikipédia)\n",
    "-   Application : Une application ou un applicatif est, dans le domaine informatique, un programme (ou un ensemble logiciel) directement utilisé par l'utilisateur pour réaliser une tâche, ou un ensemble de tâches élémentaires d'un même domaine ou formant un tout. Typiquement, un éditeur de texte, un navigateur web, un lecteur multimédia, un jeu vidéo, sont des applications. (Source Wikipédia)\n",
    "-    Mémoire : dispositif électronique qui sert à stocker des données (valeurs, instructions de programmes). Dans un ordinateur, il existe trois grands types de mémoire externe au processeur: la mémoire vive (RAM) (carte branchée sur la carte mère), la mémoire morte (ROM) (circuit intégré à la carte mère) et la mémoire de masse (disques durs, et autres supports de stockage périphérique). Le processeur intègre aussi plusieurs niveaux de mémoire, notamment de la mémoire cache (placée dans la puce qui contient le processeur) et les registres (internes au processeur).\n",
    "-    Mémoire virtuelle : mécanisme qui permet de simuler la présence d'un type de mémoire en utilisant un autre type (par exemple un disque dur). Il est utilisé par exemple pour simuler la présence de mémoire vive en utilisant de la mémoire de masse. (Source Wikipédia)\n",
    "-    Processus : la forme que prend un programme quand il est exécuté au sein d'un système d'exploitation. Une instance de processus comprend en général : un ensemble d'instructions (souvent copiées dans la RAM depuis le disque dur), une place, appelée espace d'adressage, réservée en mémoire vive pour stocker les données qu'il manipule, et les ressources matérielles et logicielles que le programme utilise. (Source Wikipédia)\n",
    "-    Ordonnanceur : composant logiciel du système d'exploitation qui est en charge d'allouer du temps processeur aux processus. Le choix du processus élu pour s'exécuter sur le processeur à un temps donné est fait par une procédure d'ordonnancement et implique de gérer les changements de contexte.\n",
    "\n",
    "-    Mémoire : dispositif électronique qui sert à stocker des données (valeurs, instructions de programmes). Dans un ordinateur, il existe trois grands types de mémoire externe au processeur: la mémoire vive (RAM) (carte branchée sur la carte mère), la mémoire morte (ROM) (circuit intégré à la carte mère) et la mémoire de masse (disques durs, et autres supports de stockage périphérique). Le processeur intègre aussi plusieurs niveaux de mémoire, notamment de la mémoire cache (placée dans la puce qui contient le processeur) et les registres (internes au processeur).\n",
    "-    Mémoire virtuelle : mécanisme qui permet de simuler la présence d'un type de mémoire en utilisant un autre type (par exemple un disque dur). Il est utilisé par exemple pour simuler la présence de mémoire vive en utilisant de la mémoire de masse. (Source Wikipédia)\n",
    "-    Processus : la forme que prend un programme quand il est exécuté au sein d'un système d'exploitation. Une instance de processus comprend en général : un ensemble d'instructions (souvent copiées dans la RAM depuis le disque dur), une place, appelée espace d'adressage, réservée en mémoire vive pour stocker les données qu'il manipule, et les ressources matérielles et logicielles que le programme utilise. (Source Wikipédia)\n",
    "-    Ordonnanceur : composant logiciel du système d'exploitation qui est en charge d'allouer du temps processeur aux processus. Le choix du processus élu pour s'exécuter sur le processeur à un temps donné est fait par une procédure d'ordonnancement et implique de gérer les changements de contexte."
   ]
  },
  {
   "cell_type": "markdown",
   "metadata": {},
   "source": [
    "# Le numérique, la loi et notre vie privée\n",
    "\n",
    "La collecte massive de données modifie-t-elle la notion de \"vie privée\" ? Le droit doit-il s'adapter à une société devenue numérique ? Pourquoi et comment expliquer les résultats d'un algorithme ? L'articulation entre droit et techniques pose autant de questions de droit, société, éthique auxquelles tout citoyen doit être sensible...\n",
    "\n",
    "## Vidéo"
   ]
  },
  {
   "cell_type": "code",
   "execution_count": 5,
   "metadata": {
    "collapsed": false,
    "scrolled": true
   },
   "outputs": [
    {
     "data": {
      "text/html": [
       "<center>\n",
       "<video width=\"540\" controls>\n",
       "  <source src=\"Le numérique, la loi et notre vie privée-LD.mp4\" type=\"video/mp4\">\n",
       "</video>\n",
       "</center>"
      ],
      "text/plain": [
       "<IPython.core.display.HTML object>"
      ]
     },
     "metadata": {},
     "output_type": "display_data"
    }
   ],
   "source": [
    "%%HTML\n",
    "<center>\n",
    "<video width=\"540\" controls>\n",
    "  <source src=\"Le numérique, la loi et notre vie privée-LD.mp4\" type=\"video/mp4\">\n",
    "</video>\n",
    "</center>"
   ]
  },
  {
   "cell_type": "markdown",
   "metadata": {},
   "source": [
    "*Auteur: Daniel Le Métayer est directeur de recherche au centre de recherche Inria Grenoble Spécialiste en protection de la vie privée, *\n",
    "\n",
    "## Glossaire\n",
    "\n",
    "-    Internet des objets (IoT) : représente l'extension d'Internet à des choses et à des lieux du monde physique.\n",
    "-    Big data : parfois appelées données massives, désignent des ensembles de données qui deviennent tellement volumineux qu'ils en deviennent difficiles à traiter avec des outils classiques de gestion de base de données ou de gestion de l'information. Le big data offre de nouvelles perspectives en matière d'analyse de données, notamment à des fins prédictives, avec des retombées espérées dans de nombreux domaines (santé, environnement, gestion de risques...).\n",
    "-    Technique d'anonymisation : technique consistant à transformer des jeux de données (par effacement de certains attributs, généralisation, bruitage, ...), afin de rendre très difficile ou impossible la « ré-identification » ou l'inférence de connaissances sur des personnes.\n",
    "-    Algorithme de prédiction : algorithme permettant de déterminer pour de nouvelles données des caractéristiques à partir de la connaissance de données d’apprentissage. En quelque sorte, l’algorithme apprend des règles en se basant sur les données d’apprentissage et les applique à de nouvelles données. Cela se fait, entre autre, à l’aide de probabilités, de statistiques et de régressions.\n",
    "-    Algorithme d'aide à la prise de décision : algorithme permettant d'apporter des informations utiles pour la prise de décision (par exemple en fournissant un classement, comme les algorithmes de recommandation ou les moteurs de recherche, ou en classant des éléments dans des catégories). Dans certains cas, ces algorithmes peuvent même être utilisés dans des processus entièrement automatisés.\n",
    "-    Code logiciel embarqué :  un système embarqué est défini comme un système électronique et informatique autonome, fonctionnant souvent en temps réel, spécialisé dans une tâche bien précise et intégré dans un système (voiture, train, avion...)."
   ]
  },
  {
   "cell_type": "markdown",
   "metadata": {},
   "source": [
    "# Quiz N1 (7 points possibles)\n",
    "\n",
    "1. L'architecture « de von Neumann » a peu évolué depuis les premiers ordinateurs. Mais comment la caractériser ?\n",
    "\n",
    "Cocher les trois assertions exactes.  \n",
    "\n",
    "- Il y a très simplement une unité centrale qui lit et écrit dans une mémoire et dialogue avec les entrées-sorties.\n",
    "- Cette architecture est complètement inspirée de celle du cerveau humain.  \n",
    "- L'unité centrale a une unité de commande qui déroule les instructions du programme et une unité de calcul où sont cablées les opérations de base.  \n",
    "- La machine peut donc modifier son propre programme dans la mémoire.  \n",
    "- Non impossible, le programme (ou \"code\") ne peut jamais être modifié.  \n",
    "- sans réponse\n",
    "\n",
    "2. Pourrions-nous équiper toute l'Éducation Nationale avec des Raspberry-Pi dans les salles informatiques ?\n",
    "\n",
    "Il y a sûrement des obstacles à cette idée : cela nécessite une formation technique collective plus forte que des produits commerciaux clés en main, cela va à l'encontre des intérêts financiers des majors du domaine, et cela réclame plus de travail de la part des personnels qu'un produit clé en main.\n",
    "\n",
    "Mais parmi les arguments en faveur de cette proposition quels sont les cinq exacts (un est faux):\n",
    "Celà diminue drastiquement les coûts de déploiement du matériel.\n",
    "Le processeur est aussi puissant que celui des ordinateurs domestiques actuels.\n",
    "La prise en main est vraiment immédiate : moins d'une heure quand on a le matériel.\n",
    "On montre que l'informatique se développe bien plus à travers des objets connectés de ce type que de simples ordinateurs.\n",
    "Cela montre la possibilité d'utiliser du matériel de récupération, qui est un geste d'éducation citoyenne.\n",
    "C'est un levier pour permettre de soulever le capot de l'informatique et pas uniquement en consommer les produits.\n",
    "- sans réponse\n",
    "\n",
    "3. Que signifie l'acronyme IHM ?\n",
    "\n",
    "Attention, plusieurs réponses à cocher.\n",
    "Interfaces Homme-Machine\n",
    "Interactions Homme-Machine\n",
    "Interventions Homme-Machine\n",
    "Internet Homme-Machine\n",
    "- sans réponse\n",
    "\n",
    "4. En bref, à quoi sert un système d'exploitation ?\n",
    "\n",
    "Choisissez la réponse que quelqu'un pourrait donner à sa garagiste ou à son fleuriste.\n",
    "C'est la couche logicielle qui permet -entre autres- de rendre transparent aux éléments applicatifs, les composants matériels ou micro-programmés de la machine pour n'avoir à spécifier que les aspects logiques du logiciel.\n",
    "C'est le truc qui exploite l'ordinateur.\n",
    "Dans le smartphone ou l'ordinateur, c'est tout simplement le logiciel qui fait le lien entre les applications et le matériel utilisé.\n",
    "C'est un logiciel spécifique aux ordinateurs, devenu inutile dans les smartphones qui sont basés sur des applications, donc pas besoin d'en parler à ma garagiste ou mon fleuriste.\n",
    "- sans réponse\n",
    "\n",
    "5. On parle beaucoup de transparence des algorithmes, par exemple pour les admissions post-bac, ou pour un système de vote.\n",
    "\n",
    "Quel niveau de complexité pose cette exigence ?\n",
    "\n",
    "Choisir la bonne réponse.\n",
    "Rendre public le code source d'un développeur est contraire aux règles de la protection intellectuelle, cela doit rester secret, comme les brevets.\n",
    "C'est facile, il suffit de rendre public tous les codes sources des programmes.\n",
    "Il faut publier les codes sources, mais aussi en publier une analyse pour expliquer leur fonctionnement.\n",
    "Aucun. De toute façon un algorithme a un comportement plus ou moins imprévisible, donc cette notion de \"code ouvert\" est un leurre.\n",
    "- sans réponse\n",
    "\n",
    "6. Quatre \"libertés fondamentales\" définissent le logiciel libre, d'autres en découlent.\n",
    "\n",
    "Cocher les quatre éléments qui sont à la base de la démarche.\n",
    "La liberté d'exécuter le code du logiciel pour faire ce qu'on veut.\n",
    "La liberté d'obtenir toute l'aide et assistance dont on a besoin pour l'utiliser.\n",
    "La liberté d'étudier le fonctionnement du logiciel.\n",
    "La liberté de distribuer le logiciel, y compris de le vendre.\n",
    "La liberté de distribuer le logiciel, mais uniquement gratuitement.\n",
    "La liberté de distribuer le logiciel, mais uniquement sous la même licence.\n",
    "La liberté de modifier le logiciel, avant de le redistribuer.\n",
    "- sans réponse\n",
    "\n",
    "7. Protéger la vie privée est un droit majeur (article 9 du code civil). Mais alors, pourquoi peut-on étaler sur la place publique certaines informations personnelles ?\n",
    "\n",
    "Avec nos données numériques ces questions prennent un grande ampleur et touchent plus de gens.\n",
    "\n",
    "Qu'en dit -en bref- la loi ?\n",
    "La loi ne dit rien, de toute façon liberté d'expression et droit à la vie privée sont inconciliables dans les faits.\n",
    "C'est la contribution de l'information à un débat d'intérêt général (procès, vie politique, …) qui fonde principalement la jurisprudence sur ce sujet.\n",
    "C'est la notion de personne publique ou non, le levier de la loi, un personnage public ne rentre plus dans le cadre de l'article 9.\n",
    "En fait la loi s'applique complètement différement dans l'espace numérique. "
   ]
  },
  {
   "cell_type": "code",
   "execution_count": null,
   "metadata": {
    "collapsed": true
   },
   "outputs": [],
   "source": []
  }
 ],
 "metadata": {
  "kernelspec": {
   "display_name": "Python 3",
   "language": "python",
   "name": "python3"
  },
  "language_info": {
   "codemirror_mode": {
    "name": "ipython",
    "version": 3
   },
   "file_extension": ".py",
   "mimetype": "text/x-python",
   "name": "python",
   "nbconvert_exporter": "python",
   "pygments_lexer": "ipython3",
   "version": "3.5.4"
  },
  "latex_envs": {
   "LaTeX_envs_menu_present": true,
   "autocomplete": true,
   "bibliofile": "biblio.bib",
   "cite_by": "apalike",
   "current_citInitial": 1,
   "eqLabelWithNumbers": true,
   "eqNumInitial": 1,
   "hotkeys": {
    "equation": "Ctrl-E",
    "itemize": "Ctrl-I"
   },
   "labels_anchors": false,
   "latex_user_defs": false,
   "report_style_numbering": false,
   "user_envs_cfg": false
  },
  "toc": {
   "colors": {
    "hover_highlight": "#DAA520",
    "navigate_num": "#000000",
    "navigate_text": "#333333",
    "running_highlight": "#FF0000",
    "selected_highlight": "#FFD700",
    "sidebar_border": "#EEEEEE",
    "wrapper_background": "#FFFFFF"
   },
   "moveMenuLeft": true,
   "nav_menu": {
    "height": "211px",
    "width": "252px"
   },
   "navigate_menu": true,
   "number_sections": true,
   "sideBar": true,
   "threshold": 4,
   "toc_cell": false,
   "toc_section_display": "block",
   "toc_window_display": false,
   "widenNotebook": false
  }
 },
 "nbformat": 4,
 "nbformat_minor": 2
}
