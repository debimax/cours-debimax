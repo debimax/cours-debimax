{
 "cells": [
  {
   "cell_type": "code",
   "execution_count": 1,
   "metadata": {
    "collapsed": false
   },
   "outputs": [
    {
     "data": {
      "application/javascript": [
       "IPython.Cell.options_default.cm_config.lineNumbers = true"
      ],
      "text/plain": [
       "<IPython.core.display.Javascript object>"
      ]
     },
     "metadata": {},
     "output_type": "display_data"
    }
   ],
   "source": [
    "%%javascript\n",
    "IPython.Cell.options_default.cm_config.lineNumbers = true"
   ]
  },
  {
   "cell_type": "code",
   "execution_count": 2,
   "metadata": {
    "collapsed": false
   },
   "outputs": [
    {
     "data": {
      "text/html": [
       "<style>\n",
       "\n",
       "\n",
       "div.text_cell_render { font-size: 12pt;   line-height: 145%; }\n",
       "div.text_cell_render h1{text-align: center;font-size: 24pt; color:#ff0000;  text-decoration: underline;}\n",
       "div.text_cell_render h2{font-size: 20pt;color:#ff0000;  text-decoration: underline;}\n",
       "div.text_cell_render h3{font-size: 14pt;color:#ff0000;  text-decoration: underline;}\n",
       "div.text_cell_render h4{font-size: 12pt;color:#ff0000;  text-decoration: underline; }\n",
       "div.text_cell_render h5 {font-weight: 300;}\n",
       "\n",
       "\n",
       "div.cell.code_cell { /* area that contains code + output */\n",
       "    background: #ffffff;\n",
       "    border: none;\n",
       "    border-radius: 10px;\n",
       "    padding-top: 1ex;\n",
       "}\n",
       "\n",
       "div.input_area { /* box around box with code */\n",
       "    border: none;\n",
       "    background: #f5f5f5;\n",
       "    border: 1px solid #ccc;\n",
       "    border-radius: 10px;\n",
       "    padding-top: 0.5ex;\n",
       "    padding-bottom: 0.5ex;\n",
       "    padding-left: 0.5em;\n",
       "}\n",
       "\n",
       "div.input { /* box with code */\n",
       "}\n",
       "\n",
       "div.CodeMirror { /* code font */\n",
       "    font-family: \"Inconsolata-dz\", monospace;\n",
       "    font-size: 10pt;\n",
       "}\n",
       "\n",
       "\n",
       "\n",
       "\n",
       "\n",
       "/*div.text_cell_render  code { font-size: medium; border: 3px #ababab solid; background-color: #f5f5f5;}*/\n",
       "/*.rendered_html code { border: 3px #ababab solid; background-color:  #f5f5f5;}*/\n",
       ".rendered_html blockquote { margin: 1em 2em; background: red; }\n",
       ".rendered_html ol { list-style:decimal; margin: 1em 2em; }\n",
       "\n",
       "\n",
       "</style>"
      ],
      "text/plain": [
       "<IPython.core.display.HTML object>"
      ]
     },
     "execution_count": 2,
     "metadata": {},
     "output_type": "execute_result"
    }
   ],
   "source": [
    "# Charge ma feuille de style pour nbviewer\n",
    "from IPython.core.display import display,HTML\n",
    "from  urllib.request import urlopen\n",
    "# import urllib.request, urllib.parse, urllib.error\n",
    "\n",
    "url='https://github.com/debimax/cours-debimax/raw/master/documents/custom.css'\n",
    "with urlopen(url) as response:\n",
    "    styles = response.read().decode(\"utf8\")\n",
    "styles=\"<style>\\n{}\\n</style>\".format(styles)\n",
    "HTML(styles)"
   ]
  },
  {
   "cell_type": "code",
   "execution_count": 3,
   "metadata": {
    "collapsed": true
   },
   "outputs": [],
   "source": [
    "html_template = \"\"\"\n",
    "<script type=\"text/javascript\" src=\"processing.min.js\"></script> \n",
    "<script type=\"text/javascript\">\n",
    "  var processingCode = `{0}`;\n",
    "  var myCanvas = document.getElementById(\"canvas`{1}`\");\n",
    "  var jsCode = Processing.compile(processingCode);\n",
    "  var processingInstance = new Processing(myCanvas, jsCode);\n",
    " </script>\n",
    "<canvas id=\"canvas`{1}`\"> </canvas>    \n",
    "\"\"\""
   ]
  },
  {
   "cell_type": "markdown",
   "metadata": {},
   "source": [
    "# Processing\n",
    "\n",
    "## III Les couleurs\n",
    "\n",
    "Dessiner une image à l'écran, c'est changer la couleur des pixels. Les pixels sont des petites zones, le plus souvent carrées, qui possèdent une couleur. Chaque couleur se définit par trois canaux qui sont le rouge, le vert et le bleu. Une valeur de 100% de chacun de ces trois canaux donne du blanc. Une valeur de 0% de chacun de ces trois canaux donne du noir. Il s'agit de lumière, et non de peinture. Ainsi, plus la valeur de chaque canal sera importante, plus la couleur sera lumineuse.\n",
    "\n",
    "Par exemple, 100% de rouge, 80% de vert et 20% de bleu vont donner ensemble la couleur orange. La méthode fill() nous permet de spécifier la couleur des prochaines formes à dessiner. Chaque canal d'une couleur peut être donné sur une échelle de 0 à 255. Ainsi, 80% de 255 donne 204, et 20% de 255 donne 51."
   ]
  },
  {
   "cell_type": "markdown",
   "metadata": {},
   "source": [
    "### 1) La couleur de fond\n",
    "\n",
    "On peut changer la couleur de fond en appelant la méthode ***background()***. Attention : rajouter background() à la suite d'une composition déjà existante, l'effacerait !\n",
    "```java\n",
    "background(0, 0, 0);\n",
    "```"
   ]
  },
  {
   "cell_type": "code",
   "execution_count": 5,
   "metadata": {
    "collapsed": false
   },
   "outputs": [
    {
     "data": {
      "text/html": [
       "\n",
       "<script type=\"text/javascript\" src=\"processing.min.js\"></script> \n",
       "<script type=\"text/javascript\">\n",
       "  var processingCode = `\n",
       "background(0, 0, 0);\n",
       "`;\n",
       "  var myCanvas = document.getElementById(\"canvas`III1`\");\n",
       "  var jsCode = Processing.compile(processingCode);\n",
       "  var processingInstance = new Processing(myCanvas, jsCode);\n",
       " </script>\n",
       "<canvas id=\"canvas`III1`\"> </canvas>    \n"
      ],
      "text/plain": [
       "<IPython.core.display.HTML object>"
      ]
     },
     "execution_count": 5,
     "metadata": {},
     "output_type": "execute_result"
    }
   ],
   "source": [
    "code = \"\"\"\n",
    "background(0, 0, 0);\n",
    "\"\"\"\n",
    "HTML(html_template.format(code,'III1'))"
   ]
  },
  {
   "cell_type": "markdown",
   "metadata": {},
   "source": [
    "### 2) La couleur de remplissage\n",
    "\n",
    "A chaque fois que l'on dessine une forme, on le fait avec la couleur de remplissage qui est choisie à ce moment-là. On le fait en appelant la méthode ***fill()***.\n",
    "```java\n",
    "fill(127);\n",
    "rect(25, 25, 50, 50);\n",
    "```"
   ]
  },
  {
   "cell_type": "code",
   "execution_count": 10,
   "metadata": {
    "collapsed": false
   },
   "outputs": [
    {
     "data": {
      "text/html": [
       "\n",
       "<script type=\"text/javascript\" src=\"processing.min.js\"></script> \n",
       "<script type=\"text/javascript\">\n",
       "  var processingCode = `\n",
       "fill(127);\n",
       "rect(25, 25, 50, 50);\n",
       "`;\n",
       "  var myCanvas = document.getElementById(\"canvas`III3`\");\n",
       "  var jsCode = Processing.compile(processingCode);\n",
       "  var processingInstance = new Processing(myCanvas, jsCode);\n",
       " </script>\n",
       "<canvas id=\"canvas`III3`\"> </canvas>    \n"
      ],
      "text/plain": [
       "<IPython.core.display.HTML object>"
      ]
     },
     "execution_count": 10,
     "metadata": {},
     "output_type": "execute_result"
    }
   ],
   "source": [
    "code = \"\"\"\n",
    "fill(127);\n",
    "rect(25, 25, 50, 50);\n",
    "\"\"\"\n",
    "HTML(html_template.format(code,'III3'))"
   ]
  },
  {
   "cell_type": "markdown",
   "metadata": {},
   "source": [
    "On peut désactiver le remplissage des formes en appelant la méthode noFill().\n",
    "\n",
    "### 3) La couleur du contour\n",
    "\n",
    "Pour changer la couleur du contour des formes que l'on dessine, on doit appeler la méthode stroke() avec comme paramètres les canaux de la couleur désirée. Appeler noStroke() désactive la couleur de contour. A titre d'illustration, voici un dessin de masque africain utilisant ces deux instructions :\n",
    "\n",
    "\n",
    "```java\n",
    "size(200, 200);\n",
    "smooth();\n",
    "background(255); // on dessine un fond blanc\n",
    "stroke(#000000); // le contour sera noir\n",
    "fill(#FFCC66);  // le remplissage sera jaune\n",
    "strokeWeight(3);\n",
    "translate(width / 2, height / 2);\n",
    "ellipse(0, 0, 100, 180); // forme elliptique du masque\n",
    "ellipse(0, 60, 20, 25); // ellipse de la bouche\n",
    "stroke(255, 0, 0); // le contour sera rouge\n",
    "ellipse(28, -30, 25, 10);  // ellipse de l'oeil droit\n",
    "stroke(0, 0, 255); // le contour sera bleu\n",
    "ellipse(-27, -30, 25, 10); // ellipse de l'oeil gauche\n",
    "noFill(); // les prochaines formes n'auront pas de remplissage\n",
    "stroke(#000000);  // le contour des prochaines formes sera noir\n",
    "bezier(-30, -70, -5, -60, -5, 0, -5, 20); // courbe du sourcil droit\n",
    "bezier(30, -70, 5, -60, 5, 0, 5, 20); // courbe du sourcil gauche\n",
    "line(-5, 20, 5, 20); // ligne du nez pour joindre l'extrémité des courbes\n",
    "```"
   ]
  },
  {
   "cell_type": "code",
   "execution_count": 11,
   "metadata": {
    "collapsed": false
   },
   "outputs": [
    {
     "data": {
      "text/html": [
       "\n",
       "<script type=\"text/javascript\" src=\"processing.min.js\"></script> \n",
       "<script type=\"text/javascript\">\n",
       "  var processingCode = `\n",
       "size(200, 200);\n",
       "smooth();\n",
       "background(255); // on dessine un fond blanc\n",
       "\n",
       "stroke(#000000); // le contour sera noir\n",
       "fill(#FFCC66);  // le remplissage sera jaune\n",
       "strokeWeight(3);\n",
       "\n",
       "translate(width / 2, height / 2);\n",
       "\n",
       "ellipse(0, 0, 100, 180); // forme elliptique du masque\n",
       "\n",
       "ellipse(0, 60, 20, 25); // ellipse de la bouche\n",
       "\n",
       "stroke(255, 0, 0); // le contour sera rouge\n",
       "ellipse(28, -30, 25, 10);  // ellipse de l'oeil droit\n",
       "\n",
       "stroke(0, 0, 255); // le contour sera bleu\n",
       "ellipse(-27, -30, 25, 10); // ellipse de l'oeil gauche\n",
       "noFill(); // les prochaines formes n'auront pas de remplissage\n",
       "stroke(#000000);  // le contour des prochaines formes sera noir\n",
       "bezier(-30, -70, -5, -60, -5, 0, -5, 20); // courbe du sourcil droit\n",
       "bezier(30, -70, 5, -60, 5, 0, 5, 20); // courbe du sourcil gauche\n",
       "line(-5, 20, 5, 20); // ligne du nez pour joindre l'extrémité des courbes\n",
       "`;\n",
       "  var myCanvas = document.getElementById(\"canvas`III4`\");\n",
       "  var jsCode = Processing.compile(processingCode);\n",
       "  var processingInstance = new Processing(myCanvas, jsCode);\n",
       " </script>\n",
       "<canvas id=\"canvas`III4`\"> </canvas>    \n"
      ],
      "text/plain": [
       "<IPython.core.display.HTML object>"
      ]
     },
     "execution_count": 11,
     "metadata": {},
     "output_type": "execute_result"
    }
   ],
   "source": [
    "code=\"\"\"\n",
    "size(200, 200);\n",
    "smooth();\n",
    "background(255); // on dessine un fond blanc\n",
    "stroke(#000000); // le contour sera noir\n",
    "fill(#FFCC66);  // le remplissage sera jaune\n",
    "strokeWeight(3);\n",
    "translate(width / 2, height / 2);\n",
    "ellipse(0, 0, 100, 180); // forme elliptique du masque\n",
    "ellipse(0, 60, 20, 25); // ellipse de la bouche\n",
    "stroke(255, 0, 0); // le contour sera rouge\n",
    "ellipse(28, -30, 25, 10);  // ellipse de l'oeil droit\n",
    "stroke(0, 0, 255); // le contour sera bleu\n",
    "ellipse(-27, -30, 25, 10); // ellipse de l'oeil gauche\n",
    "noFill(); // les prochaines formes n'auront pas de remplissage\n",
    "stroke(#000000);  // le contour des prochaines formes sera noir\n",
    "bezier(-30, -70, -5, -60, -5, 0, -5, 20); // courbe du sourcil droit\n",
    "bezier(30, -70, 5, -60, 5, 0, 5, 20); // courbe du sourcil gauche\n",
    "line(-5, 20, 5, 20); // ligne du nez pour joindre l'extrémité des courbes\n",
    "\"\"\"\n",
    "HTML(html_template.format(code,'III4'))"
   ]
  },
  {
   "cell_type": "code",
   "execution_count": null,
   "metadata": {
    "collapsed": true
   },
   "outputs": [],
   "source": []
  }
 ],
 "metadata": {
  "kernelspec": {
   "display_name": "Python 3",
   "language": "python",
   "name": "python3"
  },
  "language_info": {
   "codemirror_mode": {
    "name": "ipython",
    "version": 3
   },
   "file_extension": ".py",
   "mimetype": "text/x-python",
   "name": "python",
   "nbconvert_exporter": "python",
   "pygments_lexer": "ipython3",
   "version": "3.5.2+"
  }
 },
 "nbformat": 4,
 "nbformat_minor": 1
}
