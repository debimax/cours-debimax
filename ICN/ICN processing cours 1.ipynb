{
 "cells": [
  {
   "cell_type": "code",
   "execution_count": 1,
   "metadata": {
    "collapsed": false
   },
   "outputs": [
    {
     "data": {
      "application/javascript": [
       "IPython.Cell.options_default.cm_config.lineNumbers = true"
      ],
      "text/plain": [
       "<IPython.core.display.Javascript object>"
      ]
     },
     "metadata": {},
     "output_type": "display_data"
    }
   ],
   "source": [
    "%%javascript\n",
    "IPython.Cell.options_default.cm_config.lineNumbers = true"
   ]
  },
  {
   "cell_type": "code",
   "execution_count": 2,
   "metadata": {
    "collapsed": false
   },
   "outputs": [
    {
     "data": {
      "text/html": [
       "<style>\n",
       "\n",
       "\n",
       "div.text_cell_render { font-size: 12pt;   line-height: 145%; }\n",
       "div.text_cell_render h1{text-align: center;font-size: 24pt; color:#ff0000;  text-decoration: underline;}\n",
       "div.text_cell_render h2{font-size: 20pt;color:#ff0000;  text-decoration: underline;}\n",
       "div.text_cell_render h3{font-size: 14pt;color:#ff0000;  text-decoration: underline;}\n",
       "div.text_cell_render h4{font-size: 12pt;color:#ff0000;  text-decoration: underline; }\n",
       "div.text_cell_render h5 {font-weight: 300;}\n",
       "\n",
       "\n",
       "div.cell.code_cell { /* area that contains code + output */\n",
       "    background: #ffffff;\n",
       "    border: none;\n",
       "    border-radius: 10px;\n",
       "    padding-top: 1ex;\n",
       "}\n",
       "\n",
       "div.input_area { /* box around box with code */\n",
       "    border: none;\n",
       "    background: #f5f5f5;\n",
       "    border: 1px solid #ccc;\n",
       "    border-radius: 10px;\n",
       "    padding-top: 0.5ex;\n",
       "    padding-bottom: 0.5ex;\n",
       "    padding-left: 0.5em;\n",
       "}\n",
       "\n",
       "div.input { /* box with code */\n",
       "}\n",
       "\n",
       "div.CodeMirror { /* code font */\n",
       "    font-family: \"Inconsolata-dz\", monospace;\n",
       "    font-size: 10pt;\n",
       "}\n",
       "\n",
       "\n",
       "\n",
       "\n",
       "\n",
       "/*div.text_cell_render  code { font-size: medium; border: 3px #ababab solid; background-color: #f5f5f5;}*/\n",
       "/*.rendered_html code { border: 3px #ababab solid; background-color:  #f5f5f5;}*/\n",
       ".rendered_html blockquote { margin: 1em 2em; background: red; }\n",
       ".rendered_html ol { list-style:decimal; margin: 1em 2em; }\n",
       "\n",
       "\n",
       "</style>"
      ],
      "text/plain": [
       "<IPython.core.display.HTML object>"
      ]
     },
     "execution_count": 2,
     "metadata": {},
     "output_type": "execute_result"
    }
   ],
   "source": [
    "# Charge ma feuille de style pour nbviewer\n",
    "from IPython.core.display import display,HTML\n",
    "from  urllib.request import urlopen\n",
    "# import urllib.request, urllib.parse, urllib.error\n",
    "\n",
    "url='https://github.com/debimax/cours-debimax/raw/master/documents/custom.css'\n",
    "with urlopen(url) as response:\n",
    "    styles = response.read().decode(\"utf8\")\n",
    "styles=\"<style>\\n{}\\n</style>\".format(styles)\n",
    "HTML(styles)"
   ]
  },
  {
   "cell_type": "code",
   "execution_count": 3,
   "metadata": {
    "collapsed": true
   },
   "outputs": [],
   "source": [
    "html_template = \"\"\"\n",
    "<script type=\"text/javascript\" src=\"processing.min.js\"></script> \n",
    "<script type=\"text/javascript\">\n",
    "  var processingCode = `{0}`;\n",
    "  var myCanvas = document.getElementById(\"canvas`{1}`\");\n",
    "  var jsCode = Processing.compile(processingCode);\n",
    "  var processingInstance = new Processing(myCanvas, jsCode);\n",
    " </script>\n",
    "<canvas id=\"canvas`{1}`\"> </canvas>    \n",
    "\"\"\""
   ]
  },
  {
   "cell_type": "code",
   "execution_count": 4,
   "metadata": {
    "collapsed": false
   },
   "outputs": [],
   "source": [
    "#js = \"<script>alert('Hello World!');</script>\"\n",
    "#display(HTML(js))"
   ]
  },
  {
   "cell_type": "markdown",
   "metadata": {},
   "source": [
    "# Processing\n",
    "\n",
    "Ouvrez processing. \n",
    "\n",
    "\n",
    "## I bases\n",
    "\n",
    "### 1) L'interface\n",
    "\n",
    "L'interface d'utilisation de Processing est composée de deux fenêtres distinctes : la fenêtre principale dans laquelle vous allez créer votre projet et la fenêtre de visualisation dans laquelle vos créations (dessins, animations, vidéos) apparaissent.\n",
    "\n",
    "On trouve plus précisément les éléments suivants dans l'interface :\n",
    "\n",
    "1. Barre d'actions\n",
    "2. Barre d'onglets\n",
    "3. Zone d'édition (pour y saisir votre programme)\n",
    "4. Console (destinée aux tests et messages d'erreur)\n",
    "5. Fenêtre de visualisation (espace de dessin)\n",
    "6. Liste déroulante pour les modes\n",
    "\n",
    "![image processing](images/v2_Processing_Les_bases_interface.png)"
   ]
  },
  {
   "cell_type": "markdown",
   "metadata": {},
   "source": [
    "### 2) Hello World\n",
    "\n",
    "On ne va pas y échapper, quand on apprend un langage, le premier programme étudié est le programme qui affiche \"Hello World!\".\n",
    "\n",
    "\n",
    "#### a. avec java\n",
    "Ouvrez processing   (mode java) et tapez\n",
    "\n",
    "```java\n",
    "text(\"Hello World!\", 10, 20);\n",
    "```\n",
    "\n",
    "Vous devriez voir s'afficher la petite fenêtre de visualisation par défaut de 100 x 100 pixels, avec le mot << Hello World! >> écrit en blanc :"
   ]
  },
  {
   "cell_type": "code",
   "execution_count": 5,
   "metadata": {
    "collapsed": false
   },
   "outputs": [
    {
     "data": {
      "text/html": [
       "\n",
       "<script type=\"text/javascript\" src=\"processing.min.js\"></script> \n",
       "<script type=\"text/javascript\">\n",
       "  var processingCode = ` \n",
       "text(\"Hello World!\", 10, 20);\n",
       "`;\n",
       "  var myCanvas = document.getElementById(\"canvas`1`\");\n",
       "  var jsCode = Processing.compile(processingCode);\n",
       "  var processingInstance = new Processing(myCanvas, jsCode);\n",
       " </script>\n",
       "<canvas id=\"canvas`1`\"> </canvas>    \n"
      ],
      "text/plain": [
       "<IPython.core.display.HTML object>"
      ]
     },
     "execution_count": 5,
     "metadata": {},
     "output_type": "execute_result"
    }
   ],
   "source": [
    "processing_code = \"\"\" \n",
    "text(\"Hello World!\", 10, 20);\n",
    "\"\"\"\n",
    "html_code = html_template.format(processing_code,1)\n",
    "HTML(html_code)"
   ]
  },
  {
   "cell_type": "markdown",
   "metadata": {},
   "source": [
    "#### b. avec P5.js\n",
    "\n",
    "Ouvrez un nouveau script mode p5.js\n",
    "\n",
    "Écrire alors \n",
    "\n",
    "```javascript\n",
    "function setup() {\n",
    "    createCanvas(100,100);\n",
    "}\n",
    "\n",
    "function draw() {\n",
    "    text(\"Hello World!\", 10, 20);\n",
    "}\n",
    "```\n",
    "\n",
    "Tester en cliquant sur *run*. C'est cette fois le navigateur qui s'ouvre pour montrer l'image avec le texte."
   ]
  },
  {
   "cell_type": "markdown",
   "metadata": {},
   "source": [
    "#### c. avec python\n",
    "\n",
    "Ouvrez un nouveau script mode python\n",
    "\n",
    "Écrire alors \n",
    "\n",
    "```python\n",
    "text(\"Hello World!\", 10, 20)\n",
    "```\n",
    "\n",
    "Chacun de ces langages ont des points forts et des faiblesses. Nous étudierons cette année javascript (avec p5.js) et python."
   ]
  },
  {
   "cell_type": "code",
   "execution_count": 6,
   "metadata": {
    "collapsed": false
   },
   "outputs": [
    {
     "data": {
      "text/html": [
       "\n",
       "<script type=\"text/javascript\" src=\"processing.min.js\"></script> \n",
       "<script type=\"text/javascript\">\n",
       "  var processingCode = ` \n",
       "text(\"Hello World!\", 10, 20)\n",
       "`;\n",
       "  var myCanvas = document.getElementById(\"canvas`2`\");\n",
       "  var jsCode = Processing.compile(processingCode);\n",
       "  var processingInstance = new Processing(myCanvas, jsCode);\n",
       " </script>\n",
       "<canvas id=\"canvas`2`\"> </canvas>    \n"
      ],
      "text/plain": [
       "<IPython.core.display.HTML object>"
      ]
     },
     "execution_count": 6,
     "metadata": {},
     "output_type": "execute_result"
    }
   ],
   "source": [
    "code = \"\"\" \n",
    "text(\"Hello World!\", 10, 20)\n",
    "\"\"\"\n",
    "HTML(html_template.format(code,2))"
   ]
  },
  {
   "cell_type": "markdown",
   "metadata": {},
   "source": [
    "##  II) Espace de dessin\n",
    "\n",
    "\n",
    "### 1) fenêtre\n",
    "\n",
    "L'espace de dessin constitue l'espace de représentation proprement dit. Cette fenêtre de visualisation affichera vos réalisations dans Processing en 2 ou 3 dimensions.\n",
    "\n",
    "Cet espace est créé par l'instruction size() qui prend deux arguments : ***size(largeur,hauteur);***.\n",
    "\n",
    "Par exemple, dans la fenêtre d'édition du logiciel Processing, saisissez la commande suivante :\n",
    "```java\n",
    "size(200, 20)\n",
    "```\n",
    "affichera une fenêtre de 200 pixels sur 20pixels."
   ]
  },
  {
   "cell_type": "code",
   "execution_count": 7,
   "metadata": {
    "collapsed": false
   },
   "outputs": [
    {
     "data": {
      "text/html": [
       "\n",
       "<script type=\"text/javascript\" src=\"processing.min.js\"></script> \n",
       "<script type=\"text/javascript\">\n",
       "  var processingCode = `\n",
       "size(200, 20)\n",
       "`;\n",
       "  var myCanvas = document.getElementById(\"canvas`3`\");\n",
       "  var jsCode = Processing.compile(processingCode);\n",
       "  var processingInstance = new Processing(myCanvas, jsCode);\n",
       " </script>\n",
       "<canvas id=\"canvas`3`\"> </canvas>    \n"
      ],
      "text/plain": [
       "<IPython.core.display.HTML object>"
      ]
     },
     "execution_count": 7,
     "metadata": {},
     "output_type": "execute_result"
    }
   ],
   "source": [
    "code = \"\"\"\n",
    "size(200, 20)\n",
    "\"\"\"\n",
    "HTML(html_template.format(code,3))"
   ]
  },
  {
   "cell_type": "markdown",
   "metadata": {},
   "source": [
    "Au sein d'un programme, on peut connaître à tout moment la taille de l'espace de dessin utilisé au moyen des mots-clés ***width*** et ***height***.  \n",
    "Ces instructions sont très utiles lorsque l'on souhaite notamment dessiner des formes qui puissent s'adapter ultérieurement aux éventuels changements de dimension de la fenêtre de visualisation.\n",
    "\n",
    "\n",
    "### 2 Les axes\n",
    "\n",
    "Quand on travaille en 2 dimensions (2D), on utilise deux axes de coordonnées *x* et *y* correspondant respectivement à la largeur (axe horizontal) et à la hauteur (axe vertical) d'une situation.  \n",
    "\n",
    "Par convention de la mesure de l'espace, le coin en haut à gauche correspond aux valeurs *x=0* et *y=0*. Les valeurs *x* sont croissantes vers la droite et les valeurs y sont croissantes vers le bas, contrairement à notre habitude du plan cartésien.   \n",
    "\n",
    "Ces valeurs *x* et *y* peuvent s'étendre théoriquement à l'infini, même si, en réalité, les contraintes de la taille de votre fenêtre vont délimiter la taille maximale d’une surface de création visible. C'est donc dans cet espace que nous allons dessiner.\n",
    "\n",
    "![repère2D](images/Processing-espace-coordonnees-fr-old.png)\n",
    "\n",
    "Quand on travaille en 3 dimensions (3D), en plus des deux axes de coordonnées, on a un troisième axe de coordonnées Z, exprimant la profondeur :\n",
    "\n",
    "![repère2D](images/Processing-Presentation-installation-coordonnees3D_02-fr-old.png)\n",
    "\n",
    "Dans ce cas précis, on utilise la commande size avec un troisième paramètre indiquant que l'on travaille dans un espace en 3D  \n",
    "\n",
    "```java\n",
    "size(100, 100, P3D);\n",
    "```\n",
    "\n",
    "\n",
    "### 3 Les formes\n",
    "\n",
    "Beaucoup de formes prédéfinies sont fournies par Processing. En voici les principales :\n",
    "\n",
    "#### 3.a. Le point\n",
    "\n",
    "Pour commencer à dessiner, nous allons partir d'un point. Sur l'écran, un point est l'équivalent d'un pixel localisé dans la fenêtre de visualisation par deux axes de coordonnées, x et y correspondant respectivement à la largeur (axe horizontal) et à la hauteur (axe vertical) de l'espace de dessin. En suivant ce principe, la création d'un point dans Processing s'effectue à l'aide de l'instruction  point(x,y). Dans cet exemple, le point est très petit. Il est placé au centre de la fenêtre de visualisation.\n",
    "\n",
    "```java\n",
    "point(50, 50);\n",
    "```"
   ]
  },
  {
   "cell_type": "code",
   "execution_count": 8,
   "metadata": {
    "collapsed": false
   },
   "outputs": [
    {
     "data": {
      "text/html": [
       "\n",
       "<script type=\"text/javascript\" src=\"processing.min.js\"></script> \n",
       "<script type=\"text/javascript\">\n",
       "  var processingCode = ` \n",
       "point(50,50)\n",
       "`;\n",
       "  var myCanvas = document.getElementById(\"canvas`II3a`\");\n",
       "  var jsCode = Processing.compile(processingCode);\n",
       "  var processingInstance = new Processing(myCanvas, jsCode);\n",
       " </script>\n",
       "<canvas id=\"canvas`II3a`\"> </canvas>    \n"
      ],
      "text/plain": [
       "<IPython.core.display.HTML object>"
      ]
     },
     "execution_count": 8,
     "metadata": {},
     "output_type": "execute_result"
    }
   ],
   "source": [
    "code = \"\"\" \n",
    "point(50,50)\n",
    "\"\"\"\n",
    "HTML(html_template.format(code,'II3a'))"
   ]
  },
  {
   "cell_type": "markdown",
   "metadata": {},
   "source": [
    "Notez que le cadre de la fenêtre de visualisation (l'espace de dessin) a une dimension de 100x100, ce qui explique que le point soit situé en plein milieu. Si on le dessinait en dehors du cadre  (hors champ), avec par exemple l'instruction size(150,150), on ne le verrait pas.\n",
    "\n",
    "#### 3.b. La ligne\n",
    "\n",
    "Par définition, une ligne (AB) est constituée par une infinité de points entre un point de départ A et un point d'arrivée B. Pour la construire, nous allons nous intéresser uniquement aux coordonnées x et y de A et de B.\n",
    "\n",
    "Ainsi, si par exemple dans la fenêtre par défaut, le point A se situe dans la région en bas à gauche de votre fenêtre, et que le point B se situe en haut à droite, les instructions suivantes, peuvent dessiner cette ligne sous la forme ***line(xA,yA,xB,yB)*** :\n",
    "```java\n",
    "line(15, 90, 95, 10);\n",
    "```"
   ]
  },
  {
   "cell_type": "code",
   "execution_count": 9,
   "metadata": {
    "collapsed": false
   },
   "outputs": [
    {
     "data": {
      "text/html": [
       "\n",
       "<script type=\"text/javascript\" src=\"processing.min.js\"></script> \n",
       "<script type=\"text/javascript\">\n",
       "  var processingCode = `line(15, 90, 95, 10);`;\n",
       "  var myCanvas = document.getElementById(\"canvas`II3b`\");\n",
       "  var jsCode = Processing.compile(processingCode);\n",
       "  var processingInstance = new Processing(myCanvas, jsCode);\n",
       " </script>\n",
       "<canvas id=\"canvas`II3b`\"> </canvas>    \n"
      ],
      "text/plain": [
       "<IPython.core.display.HTML object>"
      ]
     },
     "execution_count": 9,
     "metadata": {},
     "output_type": "execute_result"
    }
   ],
   "source": [
    "code = \"line(15, 90, 95, 10);\"\n",
    "HTML(html_template.format(code,'II3b'))"
   ]
  },
  {
   "cell_type": "markdown",
   "metadata": {},
   "source": [
    "#### 3.c. Le rectangle\n",
    "\n",
    "Un rectangle se dessine par quatre valeurs en faisant l'appel de ***rect(x,y,largeur,hauteur)***.  \n",
    "La première paire de valeurs *x* et *y*, par défaut (mode CORNER) correspond au coin supérieur gauche du rectangle, à l'instar du point.  \n",
    "En revanche la seconde paire de valeurs ne va pas se référer à la position du coin inférieur droit, mais à la largeur (sur l'axe des *x*, horizontal) et à la hauteur (sur l'axe des *y*, vertical) de ce rectangle.\n",
    "\n",
    "```java\n",
    "rect(10, 10, 80, 40);\n",
    "```"
   ]
  },
  {
   "cell_type": "code",
   "execution_count": 10,
   "metadata": {
    "collapsed": false
   },
   "outputs": [
    {
     "data": {
      "text/html": [
       "\n",
       "<script type=\"text/javascript\" src=\"processing.min.js\"></script> \n",
       "<script type=\"text/javascript\">\n",
       "  var processingCode = `rect(10, 10, 80, 60);`;\n",
       "  var myCanvas = document.getElementById(\"canvas`II3ci`\");\n",
       "  var jsCode = Processing.compile(processingCode);\n",
       "  var processingInstance = new Processing(myCanvas, jsCode);\n",
       " </script>\n",
       "<canvas id=\"canvas`II3ci`\"> </canvas>    \n"
      ],
      "text/plain": [
       "<IPython.core.display.HTML object>"
      ]
     },
     "execution_count": 10,
     "metadata": {},
     "output_type": "execute_result"
    }
   ],
   "source": [
    "code = \"rect(10, 10, 80, 60);\"\n",
    "HTML(html_template.format(code,'II3ci'))"
   ]
  },
  {
   "cell_type": "markdown",
   "metadata": {},
   "source": [
    "Pour que la première paire de valeurs corresponde au centre (le croisement des deux diagonales aux coordonnées 50, 50) du rectangle, il faut utiliser le mode CENTER comme suit :\n",
    "\n",
    "```java\n",
    "rectMode(CENTER);\n",
    "rect(50, 50, 80, 40);\n",
    "```"
   ]
  },
  {
   "cell_type": "code",
   "execution_count": 11,
   "metadata": {
    "collapsed": false
   },
   "outputs": [
    {
     "data": {
      "text/html": [
       "\n",
       "<script type=\"text/javascript\" src=\"processing.min.js\"></script> \n",
       "<script type=\"text/javascript\">\n",
       "  var processingCode = `\n",
       "rectMode(CENTER);\n",
       "rect(50, 50, 80, 40);\n",
       "`;\n",
       "  var myCanvas = document.getElementById(\"canvas`II3cii`\");\n",
       "  var jsCode = Processing.compile(processingCode);\n",
       "  var processingInstance = new Processing(myCanvas, jsCode);\n",
       " </script>\n",
       "<canvas id=\"canvas`II3cii`\"> </canvas>    \n"
      ],
      "text/plain": [
       "<IPython.core.display.HTML object>"
      ]
     },
     "execution_count": 11,
     "metadata": {},
     "output_type": "execute_result"
    }
   ],
   "source": [
    "code = \"\"\"\n",
    "rectMode(CENTER);\n",
    "rect(50, 50, 80, 40);\n",
    "\"\"\"\n",
    "HTML(html_template.format(code,'II3cii'))"
   ]
  },
  {
   "cell_type": "markdown",
   "metadata": {},
   "source": [
    "### 3.d. L'ellipse\n",
    "\n",
    "Comme pour le rectangle, l'ellipse se construit sous les modes CENTER (par défaut), et CORNER.  \n",
    "Ainsi l'instruction suivante produit un cercle dont les coordonnées du centre sont les deux premières valeurs entre parenthèses. La troisième valeur correspond à la grandeur du diamètre sur l'axe horizontal (x) et la quatrième à la grandeur du diamètre sur l'axe vertical : notez que si les 3e et 4e valeurs sont identiques, on dessine un cercle et dans le cas contraire, une ellipse quelconque :\n",
    "\n",
    "```java\n",
    "ellipse(50, 50, 80, 80);\n",
    "```\n",
    "\n",
    "Amusez-vous à faire varier les 3e et 4e valeurs et observez-en les résultats."
   ]
  },
  {
   "cell_type": "code",
   "execution_count": 12,
   "metadata": {
    "collapsed": false
   },
   "outputs": [
    {
     "data": {
      "text/html": [
       "\n",
       "<script type=\"text/javascript\" src=\"processing.min.js\"></script> \n",
       "<script type=\"text/javascript\">\n",
       "  var processingCode = `\n",
       "ellipse(50, 50, 80, 80);\n",
       "`;\n",
       "  var myCanvas = document.getElementById(\"canvas`II3d`\");\n",
       "  var jsCode = Processing.compile(processingCode);\n",
       "  var processingInstance = new Processing(myCanvas, jsCode);\n",
       " </script>\n",
       "<canvas id=\"canvas`II3d`\"> </canvas>    \n"
      ],
      "text/plain": [
       "<IPython.core.display.HTML object>"
      ]
     },
     "execution_count": 12,
     "metadata": {},
     "output_type": "execute_result"
    }
   ],
   "source": [
    "code = \"\"\"\n",
    "ellipse(50, 50, 80, 80);\n",
    "\"\"\"\n",
    "HTML(html_template.format(code,'II3d'))"
   ]
  },
  {
   "cell_type": "markdown",
   "metadata": {},
   "source": [
    "### 3.e. Le triangle\n",
    "\n",
    "Le triangle est un plan constitué de trois points. L'invocation de triangle(x1,y1,x2,y2,x3,y3) définit les trois points de ce triangle :\n",
    "\n",
    "```java\n",
    "triangle(10, 90, 50, 10, 90, 90);\n",
    "```"
   ]
  },
  {
   "cell_type": "code",
   "execution_count": 13,
   "metadata": {
    "collapsed": false
   },
   "outputs": [
    {
     "data": {
      "text/html": [
       "\n",
       "<script type=\"text/javascript\" src=\"processing.min.js\"></script> \n",
       "<script type=\"text/javascript\">\n",
       "  var processingCode = `\n",
       "ellipse(50, 50, 80, 80);\n",
       "`;\n",
       "  var myCanvas = document.getElementById(\"canvas`II3e`\");\n",
       "  var jsCode = Processing.compile(processingCode);\n",
       "  var processingInstance = new Processing(myCanvas, jsCode);\n",
       " </script>\n",
       "<canvas id=\"canvas`II3e`\"> </canvas>    \n"
      ],
      "text/plain": [
       "<IPython.core.display.HTML object>"
      ]
     },
     "execution_count": 13,
     "metadata": {},
     "output_type": "execute_result"
    }
   ],
   "source": [
    "code = \"\"\"\n",
    "ellipse(50, 50, 80, 80);\n",
    "\"\"\"\n",
    "HTML(html_template.format(code,'II3e'))"
   ]
  },
  {
   "cell_type": "markdown",
   "metadata": {},
   "source": [
    "### 3.f. L'arc\n",
    "\n",
    "Un arc ou section de cercle, peut se dessiner avec l'appel de ***arc(x, y, largeur, hauteur, début, fin)***, où la paire x, y définit le centre du cercle, la seconde paire ses dimensions et la troisième paire, le début et la fin de l'angle d'arc en radians :\n",
    "```java\n",
    "arc(50, 50, 90, 90, 0, PI);\n",
    "```"
   ]
  },
  {
   "cell_type": "code",
   "execution_count": 14,
   "metadata": {
    "collapsed": false
   },
   "outputs": [
    {
     "data": {
      "text/html": [
       "\n",
       "<script type=\"text/javascript\" src=\"processing.min.js\"></script> \n",
       "<script type=\"text/javascript\">\n",
       "  var processingCode = `\n",
       "arc(50, 50, 90, 90, 0, PI);\n",
       "`;\n",
       "  var myCanvas = document.getElementById(\"canvas`II3f`\");\n",
       "  var jsCode = Processing.compile(processingCode);\n",
       "  var processingInstance = new Processing(myCanvas, jsCode);\n",
       " </script>\n",
       "<canvas id=\"canvas`II3f`\"> </canvas>    \n"
      ],
      "text/plain": [
       "<IPython.core.display.HTML object>"
      ]
     },
     "execution_count": 14,
     "metadata": {},
     "output_type": "execute_result"
    }
   ],
   "source": [
    "code = \"\"\"\n",
    "arc(50, 50, 90, 90, 0, PI);\n",
    "\"\"\"\n",
    "HTML(html_template.format(code,'II3f'))"
   ]
  },
  {
   "cell_type": "markdown",
   "metadata": {},
   "source": [
    "### 3.g. Le quadrilatère\n",
    "\n",
    "Le quadrilatère se construit en spécifiant quatre paires de coordonnées *x* et *y* sous la forme ***quad(x1,y1,x2,y2,x3,y3,x4,y4)*** dans le sens horaire :\n",
    "```java\n",
    "quad(10, 10, 30, 15, 90, 80, 20, 80);\n",
    "```"
   ]
  },
  {
   "cell_type": "code",
   "execution_count": 15,
   "metadata": {
    "collapsed": false
   },
   "outputs": [
    {
     "data": {
      "text/html": [
       "\n",
       "<script type=\"text/javascript\" src=\"processing.min.js\"></script> \n",
       "<script type=\"text/javascript\">\n",
       "  var processingCode = `\n",
       "quad(10, 10, 30, 15, 90, 80, 20, 80);\n",
       "`;\n",
       "  var myCanvas = document.getElementById(\"canvas`II3g`\");\n",
       "  var jsCode = Processing.compile(processingCode);\n",
       "  var processingInstance = new Processing(myCanvas, jsCode);\n",
       " </script>\n",
       "<canvas id=\"canvas`II3g`\"> </canvas>    \n"
      ],
      "text/plain": [
       "<IPython.core.display.HTML object>"
      ]
     },
     "execution_count": 15,
     "metadata": {},
     "output_type": "execute_result"
    }
   ],
   "source": [
    "code = \"\"\"\n",
    "quad(10, 10, 30, 15, 90, 80, 20, 80);\n",
    "\"\"\"\n",
    "HTML(html_template.format(code,'II3g'))"
   ]
  },
  {
   "cell_type": "markdown",
   "metadata": {},
   "source": [
    "### 3h. Courbe\n",
    "\n",
    "Une courbe se dessine à l'aide de ***curve(x1, y1, x2, y2, x3, y3, x4, y4)***, où *x1* et *y1* définissent le premier point de contrôle, *x4* et *y4* le second point de contrôle , *x2* et *y2* le point de départ de la courbe et *x3, y3* le point d'arrivée de la courbe :\n",
    "```java\n",
    "curve(0, 300, 10, 60, 90, 60, 200, 100);\n",
    "```"
   ]
  },
  {
   "cell_type": "code",
   "execution_count": 16,
   "metadata": {
    "collapsed": false
   },
   "outputs": [
    {
     "data": {
      "text/html": [
       "\n",
       "<script type=\"text/javascript\" src=\"processing.min.js\"></script> \n",
       "<script type=\"text/javascript\">\n",
       "  var processingCode = `\n",
       "curve(0, 300, 10, 60, 90, 60, 200, 100);\n",
       "`;\n",
       "  var myCanvas = document.getElementById(\"canvas`II3h`\");\n",
       "  var jsCode = Processing.compile(processingCode);\n",
       "  var processingInstance = new Processing(myCanvas, jsCode);\n",
       " </script>\n",
       "<canvas id=\"canvas`II3h`\"> </canvas>    \n"
      ],
      "text/plain": [
       "<IPython.core.display.HTML object>"
      ]
     },
     "execution_count": 16,
     "metadata": {},
     "output_type": "execute_result"
    }
   ],
   "source": [
    "code = \"\"\"\n",
    "curve(0, 300, 10, 60, 90, 60, 200, 100);\n",
    "\"\"\"\n",
    "HTML(html_template.format(code,'II3h'))"
   ]
  },
  {
   "cell_type": "markdown",
   "metadata": {},
   "source": [
    "### 3.i. Courbe Bézier\n",
    "\n",
    " La fonction ***bezier*** permet de dessiner une courbe de Bésier. Si le coeur vous en dit, vous en apprendrez plus sur les courbes de Bézier [ici](https://fr.wikipedia.org/wiki/Courbe_de_B%C3%A9zier) (je vous préviens, c'est très compliqué).\n",
    "\n",
    "La courbe de type Bézier se construit à l'aide de ***bezier(x1,y1,x2,y2,x3,y3,x4,y4)***\n",
    "```java\n",
    "bezier(10, 10, 70, 30, 30, 70, 90, 90);\n",
    "```"
   ]
  },
  {
   "cell_type": "code",
   "execution_count": 17,
   "metadata": {
    "collapsed": false
   },
   "outputs": [
    {
     "data": {
      "text/html": [
       "\n",
       "<script type=\"text/javascript\" src=\"processing.min.js\"></script> \n",
       "<script type=\"text/javascript\">\n",
       "  var processingCode = `\n",
       "bezier(10, 10, 70, 30, 30, 70, 90, 90);\n",
       "`;\n",
       "  var myCanvas = document.getElementById(\"canvas`II3i`\");\n",
       "  var jsCode = Processing.compile(processingCode);\n",
       "  var processingInstance = new Processing(myCanvas, jsCode);\n",
       " </script>\n",
       "<canvas id=\"canvas`II3i`\"> </canvas>    \n"
      ],
      "text/plain": [
       "<IPython.core.display.HTML object>"
      ]
     },
     "execution_count": 17,
     "metadata": {},
     "output_type": "execute_result"
    }
   ],
   "source": [
    "code = \"\"\"\n",
    "bezier(10, 10, 70, 30, 30, 70, 90, 90);\n",
    "\"\"\"\n",
    "HTML(html_template.format(code,'II3i'))"
   ]
  },
  {
   "cell_type": "markdown",
   "metadata": {},
   "source": [
    "### 3.j. Courbe lissée\n",
    "\n",
    "L'appel de ***curveVertex()*** dessine plusieurs paires de coordonnées x et y, entre deux points de contrôle, sous la forme ***curveVertex(point de contrôle initial,xN,yN,xN,yN,xN,yN, point de contrôle final)*** ce qui permet de construire des courbes lissées :\n",
    "```java\n",
    "beginShape();\n",
    "curveVertex(0, 100);\n",
    "curveVertex(10, 90);\n",
    "curveVertex(25, 70);\n",
    "curveVertex(50, 10);\n",
    "curveVertex(75, 70);\n",
    "curveVertex(90, 90);\n",
    "curveVertex(100, 100);\n",
    "endShape();\n",
    "```"
   ]
  },
  {
   "cell_type": "code",
   "execution_count": 18,
   "metadata": {
    "collapsed": false
   },
   "outputs": [
    {
     "data": {
      "text/html": [
       "\n",
       "<script type=\"text/javascript\" src=\"processing.min.js\"></script> \n",
       "<script type=\"text/javascript\">\n",
       "  var processingCode = `\n",
       "beginShape();\n",
       "curveVertex(0, 100);\n",
       "curveVertex(10, 90);\n",
       "curveVertex(25, 70);\n",
       "curveVertex(50, 10);\n",
       "curveVertex(75, 70);\n",
       "curveVertex(90, 90);\n",
       "curveVertex(100, 100);\n",
       "endShape();\n",
       "`;\n",
       "  var myCanvas = document.getElementById(\"canvas`II3j`\");\n",
       "  var jsCode = Processing.compile(processingCode);\n",
       "  var processingInstance = new Processing(myCanvas, jsCode);\n",
       " </script>\n",
       "<canvas id=\"canvas`II3j`\"> </canvas>    \n"
      ],
      "text/plain": [
       "<IPython.core.display.HTML object>"
      ]
     },
     "execution_count": 18,
     "metadata": {},
     "output_type": "execute_result"
    }
   ],
   "source": [
    "code = \"\"\"\n",
    "beginShape();\n",
    "curveVertex(0, 100);\n",
    "curveVertex(10, 90);\n",
    "curveVertex(25, 70);\n",
    "curveVertex(50, 10);\n",
    "curveVertex(75, 70);\n",
    "curveVertex(90, 90);\n",
    "curveVertex(100, 100);\n",
    "endShape();\n",
    "\"\"\"\n",
    "HTML(html_template.format(code,'II3j'))"
   ]
  },
  {
   "cell_type": "markdown",
   "metadata": {},
   "source": [
    "### 3.k. Formes libres\n",
    "\n",
    "Plusieurs formes libres peuvent être dessinés par une succession de points en utilisant la suite d'instructions beginShape(),vertex(x,y),...,endShape(). Chaque point se construit par ses coordonnées x et y. La fonction CLOSE dans endShape(CLOSE) indique que la figure sera fermée, c'est-à-dire que le dernier point sera relié au premier, comme dans l'exemple ci-dessous de dessin d'un hexagone :\n",
    "\n",
    "```java\n",
    "beginShape();\n",
    "vertex(50, 10);\n",
    "vertex(85, 30);\n",
    "vertex(85, 70);\n",
    "vertex(50, 90);\n",
    "vertex(15, 70);\n",
    "vertex(15, 30);\n",
    "endShape(CLOSE);\n",
    "```"
   ]
  },
  {
   "cell_type": "code",
   "execution_count": 19,
   "metadata": {
    "collapsed": false
   },
   "outputs": [
    {
     "data": {
      "text/html": [
       "\n",
       "<script type=\"text/javascript\" src=\"processing.min.js\"></script> \n",
       "<script type=\"text/javascript\">\n",
       "  var processingCode = `\n",
       "beginShape();\n",
       "vertex(50, 10);\n",
       "vertex(85, 30);\n",
       "vertex(85, 70);\n",
       "vertex(50, 90);\n",
       "vertex(15, 70);\n",
       "vertex(15, 30);\n",
       "endShape(CLOSE);\n",
       "`;\n",
       "  var myCanvas = document.getElementById(\"canvas`II3k`\");\n",
       "  var jsCode = Processing.compile(processingCode);\n",
       "  var processingInstance = new Processing(myCanvas, jsCode);\n",
       " </script>\n",
       "<canvas id=\"canvas`II3k`\"> </canvas>    \n"
      ],
      "text/plain": [
       "<IPython.core.display.HTML object>"
      ]
     },
     "execution_count": 19,
     "metadata": {},
     "output_type": "execute_result"
    }
   ],
   "source": [
    "code = \"\"\"\n",
    "beginShape();\n",
    "vertex(50, 10);\n",
    "vertex(85, 30);\n",
    "vertex(85, 70);\n",
    "vertex(50, 90);\n",
    "vertex(15, 70);\n",
    "vertex(15, 30);\n",
    "endShape(CLOSE);\n",
    "\"\"\"\n",
    "HTML(html_template.format(code,'II3k'))"
   ]
  },
  {
   "cell_type": "markdown",
   "metadata": {},
   "source": [
    "### 3.l. Contours\n",
    "Vous avez remarqué que jusqu'à présent, toutes les figures données en exemple comportent un contour, ainsi qu'une surface de remplissage. Si vous voulez rendre invisible le contour, utilisez noStroke() en faisant bien attention de le placer avant la forme à dessiner :\n",
    "\n",
    "```java\n",
    "noStroke();\n",
    "quad(10, 10, 30, 15, 90, 80, 20, 80);\n",
    "```"
   ]
  },
  {
   "cell_type": "code",
   "execution_count": 20,
   "metadata": {
    "collapsed": false
   },
   "outputs": [
    {
     "data": {
      "text/html": [
       "\n",
       "<script type=\"text/javascript\" src=\"processing.min.js\"></script> \n",
       "<script type=\"text/javascript\">\n",
       "  var processingCode = `\n",
       "noStroke();\n",
       "quad(10, 10, 30, 15, 90, 80, 20, 80);\n",
       "`;\n",
       "  var myCanvas = document.getElementById(\"canvas`II3l`\");\n",
       "  var jsCode = Processing.compile(processingCode);\n",
       "  var processingInstance = new Processing(myCanvas, jsCode);\n",
       " </script>\n",
       "<canvas id=\"canvas`II3l`\"> </canvas>    \n"
      ],
      "text/plain": [
       "<IPython.core.display.HTML object>"
      ]
     },
     "execution_count": 20,
     "metadata": {},
     "output_type": "execute_result"
    }
   ],
   "source": [
    "code = \"\"\"\n",
    "noStroke();\n",
    "quad(10, 10, 30, 15, 90, 80, 20, 80);\n",
    "\"\"\"\n",
    "HTML(html_template.format(code,'II3l'))"
   ]
  },
  {
   "cell_type": "markdown",
   "metadata": {},
   "source": [
    "### 3.m. Remplissage\n",
    "\n",
    "De la même manière, il est possible de dessiner des formes sans surface de remplissage avec l'instruction  ***noFill()*** :\n",
    "```java\n",
    "noFill();\n",
    "quad(10, 10, 30, 15, 90, 80, 20, 80);\n",
    "```\n",
    "Par défaut, l'arrière-fond de la fenêtre de visualisation (l'espace de dessin) est gris neutre, les contours des figures sont noirs, et la surface de remplissage est blanche. Vous apprendrez au prochain chapitre comment modifier les couleurs à votre convenance."
   ]
  },
  {
   "cell_type": "code",
   "execution_count": 21,
   "metadata": {
    "collapsed": false
   },
   "outputs": [
    {
     "data": {
      "text/html": [
       "\n",
       "<script type=\"text/javascript\" src=\"processing.min.js\"></script> \n",
       "<script type=\"text/javascript\">\n",
       "  var processingCode = `\n",
       "noFill();\n",
       "quad(10, 10, 30, 15, 90, 80, 20, 80);\n",
       "`;\n",
       "  var myCanvas = document.getElementById(\"canvas`II3m`\");\n",
       "  var jsCode = Processing.compile(processingCode);\n",
       "  var processingInstance = new Processing(myCanvas, jsCode);\n",
       " </script>\n",
       "<canvas id=\"canvas`II3m`\"> </canvas>    \n"
      ],
      "text/plain": [
       "<IPython.core.display.HTML object>"
      ]
     },
     "execution_count": 21,
     "metadata": {},
     "output_type": "execute_result"
    }
   ],
   "source": [
    "code = \"\"\"\n",
    "noFill();\n",
    "quad(10, 10, 30, 15, 90, 80, 20, 80);\n",
    "\"\"\"\n",
    "HTML(html_template.format(code,'II3m'))"
   ]
  },
  {
   "cell_type": "markdown",
   "metadata": {},
   "source": [
    "### 3.n. Primitives 3D\n",
    "\n",
    "Les formes prédéfinies disponibles en 3 dimensions (primitives 3D) peuvent être réalisées de manière simple en appelant size(x, y, P3D) au début de notre sketch puis en employant en fonction de vos besoins les instructions  sphere(taille) et box(longueur, largeur, profondeur). Il est également possible de produire des effets d'éclairage sur nos formes tridimensionnelles à l'aide de ***lights()***.\n",
    "\n",
    "#### 3.n.i La sphère\n",
    "```java\n",
    "size(100, 100, P3D);\n",
    "noStroke();\n",
    "lights();  // éclairer l'objet 3D  \n",
    "translate(50, 50, 0);  // translation\n",
    "sphere(28);\n",
    "```"
   ]
  },
  {
   "cell_type": "code",
   "execution_count": 22,
   "metadata": {
    "collapsed": false
   },
   "outputs": [
    {
     "data": {
      "text/html": [
       "\n",
       "<script type=\"text/javascript\" src=\"processing.min.js\"></script> \n",
       "<script type=\"text/javascript\">\n",
       "  var processingCode = `\n",
       "size(100, 100, P3D);\n",
       "noStroke();\n",
       "lights();\n",
       "translate(50,50,0);\n",
       "sphere(28);\n",
       "`;\n",
       "  var myCanvas = document.getElementById(\"canvas`II3ni`\");\n",
       "  var jsCode = Processing.compile(processingCode);\n",
       "  var processingInstance = new Processing(myCanvas, jsCode);\n",
       " </script>\n",
       "<canvas id=\"canvas`II3ni`\"> </canvas>    \n"
      ],
      "text/plain": [
       "<IPython.core.display.HTML object>"
      ]
     },
     "execution_count": 22,
     "metadata": {},
     "output_type": "execute_result"
    }
   ],
   "source": [
    "code = \"\"\"\n",
    "size(100, 100, P3D);\n",
    "noStroke();\n",
    "lights();\n",
    "translate(50,50,0);\n",
    "sphere(28);\n",
    "\"\"\"\n",
    "HTML(html_template.format(code,'II3ni'))"
   ]
  },
  {
   "cell_type": "markdown",
   "metadata": {},
   "source": [
    "\n",
    "#### 3.n.ii La boîte\n",
    "```java\n",
    "size(100, 100, P3D);\n",
    "noStroke();\n",
    "lights();\n",
    "translate(50, 50, 0);\n",
    "rotateY(0.5);   //rotation selon l'axe (yy')\n",
    "box(40);\n",
    "```"
   ]
  },
  {
   "cell_type": "code",
   "execution_count": 23,
   "metadata": {
    "collapsed": false
   },
   "outputs": [
    {
     "data": {
      "text/html": [
       "\n",
       "<script type=\"text/javascript\" src=\"processing.min.js\"></script> \n",
       "<script type=\"text/javascript\">\n",
       "  var processingCode = `\n",
       "size(100, 100, P3D);\n",
       "noStroke();\n",
       "lights();\n",
       "translate(50, 50, 0);\n",
       "rotateY(0.5); \n",
       "box(40);\n",
       "`;\n",
       "  var myCanvas = document.getElementById(\"canvas`II3nii`\");\n",
       "  var jsCode = Processing.compile(processingCode);\n",
       "  var processingInstance = new Processing(myCanvas, jsCode);\n",
       " </script>\n",
       "<canvas id=\"canvas`II3nii`\"> </canvas>    \n"
      ],
      "text/plain": [
       "<IPython.core.display.HTML object>"
      ]
     },
     "execution_count": 23,
     "metadata": {},
     "output_type": "execute_result"
    }
   ],
   "source": [
    "code = \"\"\"\n",
    "size(100, 100, P3D);\n",
    "noStroke();\n",
    "lights();\n",
    "translate(50, 50, 0);\n",
    "rotateY(0.5); \n",
    "box(40);\n",
    "\"\"\"\n",
    "HTML(html_template.format(code,'II3nii'))"
   ]
  },
  {
   "cell_type": "markdown",
   "metadata": {
    "collapsed": true
   },
   "source": [
    "### 4 Exercice:\n",
    "\n",
    "#### exercice 1:  \n",
    "Créer à l'aide de processing un bonhomme pacman.\n",
    "<img src='https://upload.wikimedia.org/wikipedia/commons/thumb/0/06/Pac_Man.svg/2000px-Pac_Man.svg.png'  width=100px />"
   ]
  },
  {
   "cell_type": "markdown",
   "metadata": {},
   "source": [
    "Créer "
   ]
  }
 ],
 "metadata": {
  "kernelspec": {
   "display_name": "Python 3",
   "language": "python",
   "name": "python3"
  },
  "language_info": {
   "codemirror_mode": {
    "name": "ipython",
    "version": 3
   },
   "file_extension": ".py",
   "mimetype": "text/x-python",
   "name": "python",
   "nbconvert_exporter": "python",
   "pygments_lexer": "ipython3",
   "version": "3.5.2+"
  }
 },
 "nbformat": 4,
 "nbformat_minor": 1
}
