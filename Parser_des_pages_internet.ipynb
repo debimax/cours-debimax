{
 "cells": [
  {
   "cell_type": "code",
   "execution_count": 3,
   "metadata": {
    "collapsed": false
   },
   "outputs": [
    {
     "data": {
      "application/javascript": [
       "IPython.Cell.options_default.cm_config.lineNumbers = true;"
      ],
      "text/plain": [
       "<IPython.core.display.Javascript object>"
      ]
     },
     "metadata": {},
     "output_type": "display_data"
    }
   ],
   "source": [
    "%%javascript\n",
    "IPython.Cell.options_default.cm_config.lineNumbers = true;"
   ]
  },
  {
   "cell_type": "code",
   "execution_count": 4,
   "metadata": {
    "collapsed": false
   },
   "outputs": [
    {
     "data": {
      "text/html": [
       "<style>\n",
       "\n",
       "\n",
       "div.text_cell_render { font-size: 12pt;   line-height: 145%; }\n",
       "div.text_cell_render h1{text-align: center;font-size: 24pt; color:#ff0000;  text-decoration: underline;}\n",
       "div.text_cell_render h2{font-size: 20pt;color:#ff0000;  text-decoration: underline;}\n",
       "div.text_cell_render h3{font-size: 14pt;color:#ff0000;  text-decoration: underline;}\n",
       "div.text_cell_render h4{font-size: 12pt;color:#ff0000;  text-decoration: underline; }\n",
       "div.text_cell_render h5 {font-weight: 300;}\n",
       "\n",
       "\n",
       "div.cell.code_cell { /* area that contains code + output */\n",
       "    background: #ffffff;\n",
       "    border: none;\n",
       "    border-radius: 10px;\n",
       "    padding-top: 1ex;\n",
       "}\n",
       "\n",
       "div.input_area { /* box around box with code */\n",
       "    border: none;\n",
       "    background: #f5f5f5;\n",
       "    border: 1px solid #ccc;\n",
       "    border-radius: 10px;\n",
       "    padding-top: 0.5ex;\n",
       "    padding-bottom: 0.5ex;\n",
       "    padding-left: 0.5em;\n",
       "}\n",
       "\n",
       "div.input { /* box with code */\n",
       "}\n",
       "\n",
       "div.CodeMirror { /* code font */\n",
       "    font-family: \"Inconsolata-dz\", monospace;\n",
       "    font-size: 10pt;\n",
       "}\n",
       "\n",
       "\n",
       "\n",
       "\n",
       "\n",
       "/*div.text_cell_render  code { font-size: medium; border: 3px #ababab solid; background-color: #f5f5f5;}*/\n",
       "/*.rendered_html code { border: 3px #ababab solid; background-color:  #f5f5f5;}*/\n",
       ".rendered_html blockquote { margin: 1em 2em; background: red; }\n",
       ".rendered_html ol { list-style:decimal; margin: 1em 2em; }\n",
       "\n",
       "\n",
       "</style>"
      ],
      "text/plain": [
       "<IPython.core.display.HTML object>"
      ]
     },
     "execution_count": 4,
     "metadata": {},
     "output_type": "execute_result"
    }
   ],
   "source": [
    "# Charge ma feuille de style pour nbviewer\n",
    "from IPython.core.display import HTML\n",
    "from  urllib.request import urlopen\n",
    "# import urllib.request, urllib.parse, urllib.error\n",
    "\n",
    "url='https://github.com/debimax/cours-debimax/raw/master/documents/custom.css'\n",
    "with urlopen(url) as response:\n",
    "    styles = response.read().decode(\"utf8\")\n",
    "styles=\"<style>\\n{}\\n</style>\".format(styles)\n",
    "HTML(styles)"
   ]
  },
  {
   "cell_type": "markdown",
   "metadata": {},
   "source": [
    "Nous aurons besoin pour cette leçon du module ***bs4***  \n",
    "Dans la console de pyzo taper:\n",
    "\n",
    "```bash\n",
    "pip install  bs4\n",
    "```"
   ]
  },
  {
   "cell_type": "markdown",
   "metadata": {},
   "source": [
    "# Parser des pages internet"
   ]
  },
  {
   "cell_type": "markdown",
   "metadata": {},
   "source": [
    "La majorité des programmes de smartphone utlise des sites internet pour donner un resultat.  \n",
    "\n",
    "C'est ce que j'utilise dans ma deuxième cellule. On utilise le module ***urllib***. Nous utiliserons pour les recherche le module ***bs4.BeautifulSoup***\n",
    "\n",
    "Ouvrez pyzo puis dans la console écrire:\n",
    "\n",
    "```bash\n",
    "pip install bz4\n",
    "```\n",
    "\n",
    "\n",
    "\n",
    "## 1° exemple avec le site du lycée.\n",
    "\n",
    "Ouvrez un navigateur puis dans un onglet aller sur [le site du lycée](http://www.ac-grenoble.fr/lycee/pabloneruda.smh/)\n",
    "\n",
    "\n",
    "### a) Récupérer le code"
   ]
  },
  {
   "cell_type": "code",
   "execution_count": 2,
   "metadata": {
    "collapsed": true
   },
   "outputs": [],
   "source": [
    "from urllib.request import urlopen\n",
    "from bs4 import BeautifulSoup\n",
    "url=\"http://www.ac-grenoble.fr/lycee/pabloneruda.smh/\"\n",
    "f = urlopen(url)\n",
    "html = f.read()\n",
    "soup = BeautifulSoup(html, \"html.parser\")"
   ]
  },
  {
   "cell_type": "markdown",
   "metadata": {},
   "source": [
    "### b) voir le code\n",
    "\n",
    "#### i) Méthode 1: avec python\n",
    "\n",
    "Si on veut voir le code html recu avec \n",
    "\n",
    "```python\n",
    "print(soup)\n",
    "```\n",
    "\n",
    "attention celui du lycée est assez long.  \n",
    "Je préfère plustôt une autre méthode. Ouvrez ***firefox***  ou ***chrome*** et selectionner une partie du texte qui nous intéresse, par exemple le texte du premier évènements puis  \n",
    "\n",
    "#### ii) Méthode2:  Avec un inspecteur de code.\n",
    "\n",
    "- ***firefox***: clic droit -> Éxaminer l'élément\n",
    "- ***chrome***: clic droit -> Inspect\n",
    "\n",
    "<!-- ![title](./images/archi_10.jpg  \"ShowMyImage\") -->\n",
    "\n",
    " <img src=\"./images/site-pablo.png\" alt=\"site-pablo\"  width=800/>\n",
    "\n",
    "Voici le texte qui nous interesse:\n",
    "\n",
    "```html\n",
    "<div class=\"descshort ic-decshort\">\n",
    "<i>Qu’est ce que Grenoble Energie Campus (GEC)? </i>\t\t\t\n",
    "<:div>\n",
    "```\n",
    "\n",
    "#### iii) Méthode3:  code source de la selection\n",
    "\n",
    "\n",
    "- Avec ***firefox*** On sélectionne la partie de la page internet qui nous intéresse puis clic droit -> code source de la selection et on obtient directement dans un onglet le code html qui nous intéresse.\n",
    "- Avec ***chrome*** cela necessite des extensions cependant avec le raccourci CTRL+U on obtient le code source de toute la page. \n",
    "\n",
    "\n",
    "\n",
    "```html\n",
    "<div class=\"title-header ic-title-header ic-float-left\">\n",
    "<h2>\n",
    "<a href=\"/lycee/pabloneruda.smh/index.php/110-qu-est-ce-que-grenoble-energie-campus-gec\" title=\"Qu’est ce que Grenoble Energie Campus (GEC)?\">Qu’est ce que Grenoble Energie Campus (GEC)?</a>\n",
    "</h2>\n",
    "</div>\n",
    "```\n",
    "\n",
    "Nous allons utiliser la classe de la balise \t&lt;div&gt; pour récupérer le texte."
   ]
  },
  {
   "cell_type": "markdown",
   "metadata": {},
   "source": [
    "### c) Analyser le code\n",
    "\n",
    "On recherche la balse div ayant pour classe *title-header ic-title-header ic-float-left\"*"
   ]
  },
  {
   "cell_type": "code",
   "execution_count": 3,
   "metadata": {
    "collapsed": false
   },
   "outputs": [
    {
     "data": {
      "text/plain": [
       "<div class=\"title-header ic-title-header ic-float-left\">\n",
       "<h2>\n",
       "<a href=\"/lycee/pabloneruda.smh/index.php/110-qu-est-ce-que-grenoble-energie-campus-gec\" title=\"Qu’est ce que Grenoble Energie Campus (GEC)?\">Qu’est ce que Grenoble Energie Campus (GEC)?</a>\n",
       "</h2>\n",
       "</div>"
      ]
     },
     "execution_count": 3,
     "metadata": {},
     "output_type": "execute_result"
    }
   ],
   "source": [
    "soup.find('div',attrs={\"class\":\"title-header ic-title-header ic-float-left\"})"
   ]
  },
  {
   "cell_type": "markdown",
   "metadata": {},
   "source": [
    "Puis obtenir le contenue de la balise &lt;a&gt; &lt;/a&gt;"
   ]
  },
  {
   "cell_type": "code",
   "execution_count": 4,
   "metadata": {
    "collapsed": false
   },
   "outputs": [
    {
     "data": {
      "text/plain": [
       "<a href=\"/lycee/pabloneruda.smh/index.php/110-qu-est-ce-que-grenoble-energie-campus-gec\" title=\"Qu’est ce que Grenoble Energie Campus (GEC)?\">Qu’est ce que Grenoble Energie Campus (GEC)?</a>"
      ]
     },
     "execution_count": 4,
     "metadata": {},
     "output_type": "execute_result"
    }
   ],
   "source": [
    "soup.find('div',attrs={\"class\":\"title-header ic-title-header ic-float-left\"}).a"
   ]
  },
  {
   "cell_type": "markdown",
   "metadata": {},
   "source": [
    "et enfin obtenir seulement le texte affiché à l'écran."
   ]
  },
  {
   "cell_type": "code",
   "execution_count": 5,
   "metadata": {
    "collapsed": false
   },
   "outputs": [
    {
     "data": {
      "text/plain": [
       "'Qu’est ce que Grenoble Energie Campus (GEC)?'"
      ]
     },
     "execution_count": 5,
     "metadata": {},
     "output_type": "execute_result"
    }
   ],
   "source": [
    "soup.find('div',attrs={\"class\":\"title-header ic-title-header ic-float-left\"}).a.text"
   ]
  },
  {
   "cell_type": "markdown",
   "metadata": {},
   "source": [
    "C'est ce que l'on voulait alors on va obtenir la liste en remplaçant ***soup.find*** par ***soup.find_all***"
   ]
  },
  {
   "cell_type": "code",
   "execution_count": 6,
   "metadata": {
    "collapsed": false
   },
   "outputs": [
    {
     "name": "stdout",
     "output_type": "stream",
     "text": [
      "Qu’est ce que Grenoble Energie Campus (GEC)?\n",
      "Sortie Biennale de la danse à Lyon\n",
      "Sortie vélo des élèves de 1ère STI2D Architecture et Construction\n",
      "Sortie des élèves de Terminale STI2D Architecture et Construction à la Bastille les 8 et 9 septembre 2016\n",
      "Certificats de scolarité\n"
     ]
    }
   ],
   "source": [
    "for i in soup.find_all('div',attrs={\"class\":\"title-header ic-title-header ic-float-left\"}):\n",
    "    print(i.a.text)"
   ]
  },
  {
   "cell_type": "markdown",
   "metadata": {},
   "source": [
    "## 2° exemple:  obtenir la liste des film de Charly chaplin\n",
    "\n",
    "Depuis le site [wikipedia](https://fr.wikipedia.org/wiki/Charlie_Chaplin) on essaye d'obtenir toute la liste des longs métrages de *Charlie Chaplin*.\n",
    "\n",
    "On utilise la même méthode que précédemment."
   ]
  },
  {
   "cell_type": "code",
   "execution_count": 19,
   "metadata": {
    "collapsed": true
   },
   "outputs": [],
   "source": [
    "from urllib.request import urlopen\n",
    "from bs4 import BeautifulSoup\n",
    "url=\"https://fr.wikipedia.org/wiki/Charlie_Chaplin\"\n",
    "\n",
    "f = urlopen(url)\n",
    "html = f.read()\n",
    "soup = BeautifulSoup(html, \"html.parser\")"
   ]
  },
  {
   "cell_type": "markdown",
   "metadata": {},
   "source": [
    "Le problème ici est que la liste qui nous intéresse n'a pas d'***id***, c'est donc plus difficile.\n",
    "\n",
    "```html\n",
    "<h3><span class=\"mw-headline\" id=\"Longs_m.C3.A9trages\">Longs métrages</span></h3>\n",
    "<ul>\n",
    "<li><i><a href=\"/wiki/Le_Kid\" title=\"Le Kid\">Le Kid</a></i> (1921)</li>\n",
    "<li><i><a href=\"/wiki/L%27Opinion_publique\" title=\"L'Opinion publique\">L'Opinion publique</a></i> (1923)</li>\n",
    "<li><i><a href=\"/wiki/La_Ru%C3%A9e_vers_l%27or\" title=\"La Ruée vers l'or\">La Ruée vers l'or</a></i> (1925)</li>\n",
    "```"
   ]
  },
  {
   "cell_type": "markdown",
   "metadata": {
    "collapsed": true
   },
   "source": [
    "### a) 1° Méthode avec beautifullsoup\n",
    "\n",
    "\n",
    "On cherche toutes les balises &lt;h3&gt;"
   ]
  },
  {
   "cell_type": "code",
   "execution_count": null,
   "metadata": {
    "collapsed": true
   },
   "outputs": [],
   "source": [
    "soup.find_all('h3')"
   ]
  },
  {
   "cell_type": "markdown",
   "metadata": {},
   "source": [
    "La balise &lt;h3&gt; n'a pas d'attribut mas la balise span si. Nous allons donc utiliser cette balise."
   ]
  },
  {
   "cell_type": "code",
   "execution_count": null,
   "metadata": {
    "collapsed": true
   },
   "outputs": [],
   "source": [
    "soup.find('span',attrs={\"id\":\"Longs_m.C3.A9trages\"})"
   ]
  },
  {
   "cell_type": "markdown",
   "metadata": {},
   "source": [
    "On utilise *find* à la place de *find_all*  car il y a unicité de l'*id*  dans une page internet.\n",
    "\n",
    "Nous utilisons ensuite la méthode ***parent*** pour remonter à la balise &lt;h3&gt; qui nous intéresse."
   ]
  },
  {
   "cell_type": "code",
   "execution_count": null,
   "metadata": {
    "collapsed": true
   },
   "outputs": [],
   "source": [
    "soup.find('span',attrs={\"id\":\"Longs_m.C3.A9trages\"}).parent"
   ]
  },
  {
   "cell_type": "markdown",
   "metadata": {},
   "source": [
    "Et enfin nous utiliserons  la méthode  ***find_next_sibling()***  qui permet d'obtenir la balise suivante."
   ]
  },
  {
   "cell_type": "code",
   "execution_count": null,
   "metadata": {
    "collapsed": true
   },
   "outputs": [],
   "source": [
    "soup.find('span',attrs={\"id\":\"Longs_m.C3.A9trages\"}).parent.find_next_sibling()"
   ]
  },
  {
   "cell_type": "markdown",
   "metadata": {},
   "source": [
    "On peut ainsi ne récupérer que le texte."
   ]
  },
  {
   "cell_type": "code",
   "execution_count": null,
   "metadata": {
    "collapsed": true
   },
   "outputs": [],
   "source": [
    "text=soup.find('span',attrs={\"id\":\"Longs_m.C3.A9trages\"}).parent.find_next_sibling().text"
   ]
  },
  {
   "cell_type": "code",
   "execution_count": null,
   "metadata": {
    "collapsed": true
   },
   "outputs": [],
   "source": [
    "print(text)"
   ]
  },
  {
   "cell_type": "markdown",
   "metadata": {},
   "source": [
    "On doir obtenir:\n",
    "```python\n",
    "print(text)\n",
    "```\n",
    "\n",
    "Le Kid (1921)  \n",
    "L'Opinion publique (1923)  \n",
    "La Ruée vers l'or (1925)  \n",
    "Le Cirque (1928)  \n",
    "Les Lumières de la ville (1931)  \n",
    "Les Temps modernes (1936)  \n",
    "Le Dictateur (1940)  \n",
    "Monsieur Verdoux (1947)  \n",
    "Les Feux de la rampe (1952)  \n",
    "Un roi à New York (1957)  \n",
    "La Comtesse de Hong-Kong (1967)  \n"
   ]
  },
  {
   "cell_type": "markdown",
   "metadata": {},
   "source": [
    "### b) 2° méthode  avec le module re\n",
    "\n",
    "Ce module est bien plus difficile à bien utiliser mais c'est bien lui que je préfère  car c'est le plus efficace.  \n",
    "On peut tout faire avec des expressions régulières (***regex***  ou ***motif***  en français)\n",
    "\n",
    "Lisez bien la partie *expressions régulières*   sur [mon memento]()."
   ]
  },
  {
   "cell_type": "code",
   "execution_count": null,
   "metadata": {
    "collapsed": true
   },
   "outputs": [],
   "source": [
    "import re\n",
    "from urllib.request import urlopen\n",
    "url=\"https://fr.wikipedia.org/wiki/Charlie_Chaplin\"\n",
    "\n",
    "f = urlopen(url)\n",
    "html = f.read()\n",
    "code=html.decode('utf8')\n",
    "\n",
    "liste=re.findall(r\"<h3><span class=\\\"mw-headline\\\" id=\\\"Longs_m.C3.A9trages\\\">.*?(<ul>.*?</ul>)\", code,re.DOTALL)\n",
    "print(liste)"
   ]
  },
  {
   "cell_type": "markdown",
   "metadata": {},
   "source": [
    "Voici ce que fait ma regex.\n",
    "\n",
    "- ```html \n",
    "<h3><span class=\\\"mw-headline\\\" id=\\\"Longs_m.C3.A9trages\\\">    Le code doit commencer par <h3><span class=\"mw-headline\" id=\"Longs_m.C3.A9trages\">\n",
    "```\n",
    "- ```html\n",
    ".*?(<ul>         n'import quel caractère (.) au moins (*)  jusqu'à la première (?) balise <ul>.\n",
    "```     \n",
    "- ```html\n",
    ".*?</ul>)        n'importe quel caractère (.)  au moins (*)  jusqu'à la première (?) balise </ul>.  \n",
    "```  \n",
    "- ```html\n",
    "On ne récupère que le texte qu'il y a entre les parenthèses (<ul>.*?</ul>), c'est à dire ici entre les balises <ul> et  </ul>. \n",
    "```\n",
    "- ```html\n",
    "L'option re.DOTALL est utilisé parceque la recherche se fait sur plusieurs lignes.\n",
    "```"
   ]
  },
  {
   "cell_type": "markdown",
   "metadata": {},
   "source": [
    "Il ne reste plus qu'à enlever les balises html.  \n",
    "Étant donné que nous avons utilisé le module ***re***, nous utiliserons encore ce même module.\n",
    "\n",
    "```python\n",
    "liste=re.sub(r'<[^>]+>', '', liste[0])\n",
    "print(liste)\n",
    "```\n",
    "\n",
    "Un peu d'explication:\n",
    "\n",
    "- ```html\n",
    "<            Un caractère <\n",
    "```\n",
    "- ```html\n",
    "[^>]+        Un caractère qui n'est pas >  au moins une fois (+).\n",
    "```\n",
    "- ```html\n",
    ">            Le caractère >\n",
    "```  \n",
    "\n",
    "\n",
    "On remplace toutes les balises par \"\", donc on enlève tout."
   ]
  },
  {
   "cell_type": "markdown",
   "metadata": {},
   "source": [
    "\n",
    "```python\n",
    "liste=re.sub(r'<[^>]+>', '', liste[0])\n",
    "print(liste)\n",
    "``` \n"
   ]
  },
  {
   "cell_type": "code",
   "execution_count": null,
   "metadata": {
    "collapsed": true
   },
   "outputs": [],
   "source": [
    "liste=re.sub(r'<[^>]+>', '', liste[0])\n",
    "print(liste)"
   ]
  },
  {
   "cell_type": "markdown",
   "metadata": {
    "collapsed": true
   },
   "source": [
    "## 3 Exercice\n",
    "\n",
    "- Exercice 1: Obtenir la liste des équipes du classement de la [lidl starligue](http://mobile.ff-handball.org/championnats-nationaux/d1m/).\n",
    "- Exercice 2: Choisir  [données](http://argonautica.jason.oceanobs.com/html/argonautica/affiche_donnees_fr.html)\n",
    "- Exercice 3:   Déterminer les valeurs en € des entreprises du cac 40 sur le site  [http://www.boursier.com/actions/paris](http://www.boursier.com/actions/paris)  \n",
    "*aide: J'ai à nouveau utiliser .parent.find_next_sibling()*"
   ]
  },
  {
   "cell_type": "code",
   "execution_count": 8,
   "metadata": {
    "collapsed": false
   },
   "outputs": [],
   "source": [
    "from urllib.request import urlopen\n",
    "url=\"http://argonautica.jason.oceanobs.com/documents/argonautica/localisations/sakari/sakari.txt\"\n",
    "f = urlopen(url)\n",
    "html = f.read()"
   ]
  },
  {
   "cell_type": "code",
   "execution_count": 9,
   "metadata": {
    "collapsed": false
   },
   "outputs": [
    {
     "data": {
      "text/plain": [
       "bytes"
      ]
     },
     "execution_count": 9,
     "metadata": {},
     "output_type": "execute_result"
    }
   ],
   "source": [
    "type(html)"
   ]
  },
  {
   "cell_type": "code",
   "execution_count": 10,
   "metadata": {
    "collapsed": false
   },
   "outputs": [],
   "source": [
    "donnees=html.decode('utf8')"
   ]
  },
  {
   "cell_type": "code",
   "execution_count": 11,
   "metadata": {
    "collapsed": false
   },
   "outputs": [
    {
     "data": {
      "text/plain": [
       "str"
      ]
     },
     "execution_count": 11,
     "metadata": {},
     "output_type": "execute_result"
    }
   ],
   "source": [
    "type(donnees)"
   ]
  },
  {
   "cell_type": "code",
   "execution_count": 13,
   "metadata": {
    "collapsed": false
   },
   "outputs": [
    {
     "name": "stdout",
     "output_type": "stream",
     "text": [
      "num         cl.         date        h.          lat.        lon.      \r\n",
      "-           -           yyyy/mm/dd  hh:mm       deg.        deg.      \r\n",
      "0067776     A           2011/10/13  17:37        62.684     -118.688  \r\n",
      "0067776     B           2015/10/29  17:54        57.750      -93.832  \r\n",
      "0067776     B           2015/10/29  19:58        57.658      -93.743  \r\n",
      "0067776     A           2015/11/04  18:28        57.653      -93.736  \r\n",
      "0067776     A           2015/11/04  20:10        57.653      -93.737  \r\n",
      "0067776     2           2015/11/06  17:11        57.654      -93.692  \r\n",
      "0067776     B           2015/11/06  18:05        57.664      -93.695  \r\n",
      "0067776     A           2015/11/06  19:46        57.654      -93.698  \r\n",
      "0067776     A           2015/11/06  20:25        57.659      -93.686  \r\n",
      "0067776     B           2015/11/08  17:21        57.676      -93.680  \r\n",
      "0067776     B           2015/11/08  18:09        57.666      -93.734  \r\n",
      "0067776     B           2015/11/08  19:24        57.678      -93.971  \r\n",
      "0067776     B           2015/11/10  17:31        57.809      -93.733  \r\n",
      "0067776     A           2015/11/12  20:18        54.006     -112.598  \r\n",
      "0067776     A           2015/11/14  17:46        57.979      -93.069  \r\n",
      "0067776     1           2015/11/14  19:57        58.013      -92.979  \r\n",
      "0067776     B           2015/11/16  17:06        58.105      -92.981  \r\n",
      "0067776     A           2015/11/16  17:55        58.061      -92.876  \r\n",
      "0067776     A           2015/11/16  18:43        58.050      -92.850  \r\n",
      "0067776     A           2015/11/16  20:22        58.005      -92.902  \r\n",
      "0067776     A           2015/11/18  18:00        58.067      -92.952  \r\n",
      "0067776     B           2015/11/20  17:21        58.103      -92.945  \r\n",
      "0067776     A           2015/11/20  18:47        58.094      -93.004  \r\n",
      "0067776     A           2015/11/22  18:27        58.210      -92.924  \r\n",
      "0067776     B           2015/11/22  20:08        58.173      -93.208  \r\n",
      "0067776     2           2015/11/24  17:41        58.290      -93.075  \r\n",
      "0067776     B           2015/11/24  19:18        58.312      -93.117  \r\n",
      "0067776     0           2015/11/26  19:21        58.791      -93.116  \r\n",
      "0067776     A           2015/11/28  17:57        58.766      -92.914  \r\n",
      "0067776     B           2015/11/28  19:00        58.819      -92.659  \r\n",
      "0067776     1           2015/11/28  19:35        58.793      -92.960  \r\n",
      "0067776     2           2015/11/28  20:40        58.861      -92.991  \r\n",
      "0067776     A           2015/11/30  18:37        58.893      -93.064  \r\n",
      "0067776     A           2015/12/02  18:16        58.993      -93.879  \r\n",
      "0067776     B           2015/12/02  19:53        59.033      -93.953  \r\n",
      "0067776     A           2015/12/04  17:31        59.405      -94.359  \r\n",
      "0067776     B           2015/12/06  17:29        60.199      -94.617  \r\n",
      "0067776     2           2015/12/06  18:29        60.143      -94.547  \r\n",
      "0067776     A           2015/12/06  19:10        60.146      -94.554  \r\n",
      "0067776     B           2015/12/08  17:07        60.975      -93.517  \r\n",
      "0067776     A           2015/12/08  17:48        61.074      -93.715  \r\n",
      "0067776     A           2015/12/08  18:46        61.076      -93.666  \r\n",
      "0067776     A           2015/12/08  20:40        61.089      -93.630  \r\n",
      "0067776     B           2015/12/10  18:22        61.217      -91.726  \r\n",
      "0067776     B           2015/12/12  17:59        61.147      -91.455  \r\n",
      "0067776     A           2015/12/12  20:32        61.063      -91.636  \r\n",
      "0067776     B           2015/12/16  17:14        60.728      -89.628  \r\n",
      "0067776     A           2015/12/16  20:30        60.891      -89.311  \r\n",
      "0067776     B           2015/12/18  18:35        60.636      -89.233  \r\n",
      "0067776     A           2015/12/18  20:15        60.635      -89.382  \r\n",
      "0067776     B           2015/12/24  20:54        60.064      -89.448  \r\n",
      "0067776     B           2015/12/26  18:46        59.742      -88.514  \r\n",
      "0067776     A           2016/01/01  17:35        59.002      -88.118  \r\n",
      "0067776     B           2016/01/03  18:52        58.496      -89.098  \r\n",
      "0067776     A           2016/01/13  18:41        58.072      -86.652  \r\n",
      "0067776     B           2016/01/13  20:18        58.086      -86.568  \r\n",
      "0067776     A           2016/01/15  19:59        58.153      -86.851  \r\n",
      "0067776     A           2016/01/17  17:22        58.130      -86.753  \r\n",
      "0067776     A           2016/01/19  19:44        57.960      -86.637  \r\n",
      "0067776     2           2016/01/21  17:11        58.003      -86.432  \r\n",
      "0067776     B           2016/01/25  17:08        58.291      -86.399  \r\n",
      "0067776     A           2016/01/25  18:08        58.277      -86.556  \r\n",
      "0067776     B           2016/01/25  20:34        58.285      -86.581  \r\n",
      "0067776     B           2016/01/27  19:24        58.227      -86.461  \r\n",
      "0067776     B           2016/01/29  18:09        58.438      -86.933  \r\n",
      "0067776     B           2016/01/29  20:44        58.447      -86.825  \r\n",
      "0067776     B           2016/01/31  20:16        58.386      -87.404  \r\n",
      "0067776     B           2016/02/04  17:51        58.035      -87.261  \r\n",
      "0067776     B           2016/02/06  20:34        58.123      -86.808  \r\n",
      "0067776     B           2016/02/08  17:11        58.116      -87.040  \r\n",
      "0067776     A           2016/02/08  18:08        58.129      -86.929  \r\n",
      "0067776     2           2016/02/08  18:50        58.142      -86.933  \r\n",
      "0067776     B           2016/02/08  19:48        58.136      -86.928  \r\n",
      "0067776     A           2016/02/10  18:27        57.986      -86.982  \r\n",
      "0067776     A           2016/02/10  20:02        57.976      -86.954  \r\n",
      "0067776     B           2016/02/12  18:04        57.750      -86.841  \r\n",
      "0067776     B           2016/02/14  17:39        57.935      -86.846  \r\n",
      "0067776     B           2016/02/16  17:17        57.795      -86.710  \r\n",
      "0067776     B           2016/02/16  18:58        57.778      -86.752  \r\n",
      "0067776     B           2016/02/18  17:57        57.482      -86.446  \r\n",
      "0067776     B           2016/02/24  17:31        57.567      -86.964  \r\n",
      "0067776     B           2016/02/28  18:22        58.126      -87.812  \r\n",
      "0067776     B           2016/03/01  17:11        58.233      -87.752  \r\n",
      "0067776     B           2016/03/01  19:40        58.249      -87.733  \r\n",
      "0067776     A           2016/03/03  17:38        58.292      -87.814  \r\n",
      "0067776     A           2016/03/03  18:09        58.294      -87.830  \r\n",
      "0067776     B           2016/03/05  20:40        58.271      -87.782  \r\n",
      "0067776     B           2016/03/07  18:32        58.763      -87.500  \r\n",
      "0067776     1           2016/03/09  17:46        58.384      -88.512  \r\n",
      "0067776     B           2016/03/09  19:25        58.449      -88.560  \r\n",
      "0067776     A           2016/03/09  20:40        58.479      -88.554  \r\n",
      "0067776     1           2016/03/11  17:03        58.880      -89.693  \r\n",
      "0067776     B           2016/03/11  17:49        58.896      -89.692  \r\n",
      "0067776     2           2016/03/11  18:45        58.938      -89.694  \r\n",
      "0067776     B           2016/03/11  19:18        58.951      -89.714  \r\n",
      "0067776     B           2016/03/11  19:51        58.947      -89.693  \r\n",
      "0067776     B           2016/03/11  20:23        58.954      -89.735  \r\n",
      "0067776     B           2016/03/13  18:04        59.446      -90.897  \r\n",
      "0067776     A           2016/03/13  20:48        59.346      -90.902  \r\n",
      "0067776     A           2016/03/15  18:44        59.323      -91.184  \r\n",
      "0067776     B           2016/03/19  17:39        59.536      -90.164  \r\n",
      "0067776     B           2016/03/23  17:16        58.876      -89.903  \r\n",
      "0067776     B           2016/03/23  18:52        59.094      -89.282  \r\n",
      "0067776     A           2016/03/25  18:31        58.574      -89.865  \r\n",
      "0067776     A           2016/03/29  17:32        58.678      -89.740  \r\n",
      "0067776     A           2016/03/29  19:25        58.640      -89.905  \r\n",
      "0067776     A           2016/04/02  17:51        58.214      -89.482  \r\n",
      "0067776     B           2016/04/02  20:39        58.202      -89.480  \r\n",
      "0067776     B           2016/04/04  19:58        58.095      -89.389  \r\n",
      "0067776     A           2016/04/06  19:37        58.301      -89.236  \r\n",
      "0067776     B           2016/04/06  20:41        58.314      -89.238  \r\n",
      "0067776     A           2016/04/08  17:27        58.065      -88.740  \r\n",
      "0067776     A           2016/04/08  19:16        58.078      -88.673  \r\n",
      "0067776     0           2016/04/08  20:37        58.059      -88.674  \r\n",
      "0067776     B           2016/04/10  18:48        57.806      -88.483  \r\n",
      "0067776     A           2016/04/10  20:12        57.908      -88.268  \r\n",
      "0067776     A           2016/04/12  18:27        58.061      -88.051  \r\n",
      "0067776     B           2016/04/12  19:23        58.039      -88.068  \r\n",
      "0067776     B           2016/04/12  20:11        58.127      -87.724  \r\n",
      "0067776     B           2016/04/14  19:43        58.075      -89.628  \r\n",
      "0067776     A           2016/04/16  18:00        58.293      -88.921  \r\n",
      "0067776     2           2016/04/18  17:20        58.290      -88.967  \r\n",
      "0067776     A           2016/04/18  19:01        58.286      -89.017  \r\n",
      "0067776     B           2016/04/18  20:40        58.250      -89.018  \r\n",
      "0067776     B           2016/04/20  18:37        58.387      -88.519  \r\n",
      "0067776     B           2016/04/20  20:15        58.358      -88.458  \r\n",
      "0067776     A           2016/04/22  17:35        58.033      -88.010  \r\n",
      "0067776     A           2016/04/22  19:54        57.999      -88.003  \r\n",
      "0067776     A           2016/04/30  20:45        57.913      -88.220  \r\n",
      "0067776     A           2016/05/04  17:41        57.700      -88.636  \r\n",
      "0067776     B           2016/05/04  18:27        57.694      -88.664  \r\n",
      "0067776     B           2016/05/10  19:52        57.813      -89.287  \r\n",
      "0067776     B           2016/05/12  17:21        57.786      -90.004  \r\n",
      "0067776     A           2016/05/14  19:06        57.716      -90.582  \r\n",
      "0067776     A           2016/05/16  17:40        57.583      -90.812  \r\n",
      "0067776     B           2016/05/16  20:22        57.605      -89.870  \r\n",
      "0067776     B           2016/05/20  17:55        57.328      -90.715  \r\n",
      "0067776     B           2016/05/22  20:56        57.512      -91.572  \r\n",
      "0067776     B           2016/05/24  20:34        57.756      -91.955  \r\n",
      "0067776     B           2016/05/30  19:24        58.026      -92.563  \r\n",
      "0067776     B           2016/06/01  18:47        58.447      -92.239  \r\n",
      "0067776     A           2016/07/17  18:43        59.099      -93.046  \r\n",
      "0067776     A           2016/07/29  17:10        60.318     -107.459  \r\n",
      "0067776     A           2016/09/15  17:15        57.567      -93.252  \r\n",
      "0067776     A           2016/09/29  17:27        57.558      -93.320  \r\n",
      "0067776     A           2016/10/07  18:17        57.575      -93.287  \r\n",
      "0067776     A           2016/10/19  19:18        57.560      -93.306  \r\n",
      "\n"
     ]
    }
   ],
   "source": [
    "print(donnees)"
   ]
  },
  {
   "cell_type": "code",
   "execution_count": 16,
   "metadata": {
    "collapsed": false
   },
   "outputs": [],
   "source": [
    "donnees=donnees.splitlines()"
   ]
  },
  {
   "cell_type": "code",
   "execution_count": 38,
   "metadata": {
    "collapsed": false
   },
   "outputs": [
    {
     "name": "stdout",
     "output_type": "stream",
     "text": [
      "('2011/10/13', '62.684', '-118.688')\n",
      "('2015/10/29', '57.750', '-93.832')\n",
      "('2015/10/29', '57.658', '-93.743')\n",
      "('2015/11/04', '57.653', '-93.736')\n",
      "('2015/11/04', '57.653', '-93.737')\n",
      "('2015/11/06', '57.654', '-93.692')\n",
      "('2015/11/06', '57.664', '-93.695')\n",
      "('2015/11/06', '57.654', '-93.698')\n",
      "('2015/11/06', '57.659', '-93.686')\n",
      "('2015/11/08', '57.676', '-93.680')\n",
      "('2015/11/08', '57.666', '-93.734')\n",
      "('2015/11/08', '57.678', '-93.971')\n",
      "('2015/11/10', '57.809', '-93.733')\n",
      "('2015/11/12', '54.006', '-112.598')\n",
      "('2015/11/14', '57.979', '-93.069')\n",
      "('2015/11/14', '58.013', '-92.979')\n",
      "('2015/11/16', '58.105', '-92.981')\n",
      "('2015/11/16', '58.061', '-92.876')\n",
      "('2015/11/16', '58.050', '-92.850')\n",
      "('2015/11/16', '58.005', '-92.902')\n",
      "('2015/11/18', '58.067', '-92.952')\n",
      "('2015/11/20', '58.103', '-92.945')\n",
      "('2015/11/20', '58.094', '-93.004')\n",
      "('2015/11/22', '58.210', '-92.924')\n",
      "('2015/11/22', '58.173', '-93.208')\n",
      "('2015/11/24', '58.290', '-93.075')\n",
      "('2015/11/24', '58.312', '-93.117')\n",
      "('2015/11/26', '58.791', '-93.116')\n",
      "('2015/11/28', '58.766', '-92.914')\n",
      "('2015/11/28', '58.819', '-92.659')\n",
      "('2015/11/28', '58.793', '-92.960')\n",
      "('2015/11/28', '58.861', '-92.991')\n",
      "('2015/11/30', '58.893', '-93.064')\n",
      "('2015/12/02', '58.993', '-93.879')\n",
      "('2015/12/02', '59.033', '-93.953')\n",
      "('2015/12/04', '59.405', '-94.359')\n",
      "('2015/12/06', '60.199', '-94.617')\n",
      "('2015/12/06', '60.143', '-94.547')\n",
      "('2015/12/06', '60.146', '-94.554')\n",
      "('2015/12/08', '60.975', '-93.517')\n",
      "('2015/12/08', '61.074', '-93.715')\n",
      "('2015/12/08', '61.076', '-93.666')\n",
      "('2015/12/08', '61.089', '-93.630')\n",
      "('2015/12/10', '61.217', '-91.726')\n",
      "('2015/12/12', '61.147', '-91.455')\n",
      "('2015/12/12', '61.063', '-91.636')\n",
      "('2015/12/16', '60.728', '-89.628')\n",
      "('2015/12/16', '60.891', '-89.311')\n",
      "('2015/12/18', '60.636', '-89.233')\n",
      "('2015/12/18', '60.635', '-89.382')\n",
      "('2015/12/24', '60.064', '-89.448')\n",
      "('2015/12/26', '59.742', '-88.514')\n",
      "('2016/01/01', '59.002', '-88.118')\n",
      "('2016/01/03', '58.496', '-89.098')\n",
      "('2016/01/13', '58.072', '-86.652')\n",
      "('2016/01/13', '58.086', '-86.568')\n",
      "('2016/01/15', '58.153', '-86.851')\n",
      "('2016/01/17', '58.130', '-86.753')\n",
      "('2016/01/19', '57.960', '-86.637')\n",
      "('2016/01/21', '58.003', '-86.432')\n",
      "('2016/01/25', '58.291', '-86.399')\n",
      "('2016/01/25', '58.277', '-86.556')\n",
      "('2016/01/25', '58.285', '-86.581')\n",
      "('2016/01/27', '58.227', '-86.461')\n",
      "('2016/01/29', '58.438', '-86.933')\n",
      "('2016/01/29', '58.447', '-86.825')\n",
      "('2016/01/31', '58.386', '-87.404')\n",
      "('2016/02/04', '58.035', '-87.261')\n",
      "('2016/02/06', '58.123', '-86.808')\n",
      "('2016/02/08', '58.116', '-87.040')\n",
      "('2016/02/08', '58.129', '-86.929')\n",
      "('2016/02/08', '58.142', '-86.933')\n",
      "('2016/02/08', '58.136', '-86.928')\n",
      "('2016/02/10', '57.986', '-86.982')\n",
      "('2016/02/10', '57.976', '-86.954')\n",
      "('2016/02/12', '57.750', '-86.841')\n",
      "('2016/02/14', '57.935', '-86.846')\n",
      "('2016/02/16', '57.795', '-86.710')\n",
      "('2016/02/16', '57.778', '-86.752')\n",
      "('2016/02/18', '57.482', '-86.446')\n",
      "('2016/02/24', '57.567', '-86.964')\n",
      "('2016/02/28', '58.126', '-87.812')\n",
      "('2016/03/01', '58.233', '-87.752')\n",
      "('2016/03/01', '58.249', '-87.733')\n",
      "('2016/03/03', '58.292', '-87.814')\n",
      "('2016/03/03', '58.294', '-87.830')\n",
      "('2016/03/05', '58.271', '-87.782')\n",
      "('2016/03/07', '58.763', '-87.500')\n",
      "('2016/03/09', '58.384', '-88.512')\n",
      "('2016/03/09', '58.449', '-88.560')\n",
      "('2016/03/09', '58.479', '-88.554')\n",
      "('2016/03/11', '58.880', '-89.693')\n",
      "('2016/03/11', '58.896', '-89.692')\n",
      "('2016/03/11', '58.938', '-89.694')\n",
      "('2016/03/11', '58.951', '-89.714')\n",
      "('2016/03/11', '58.947', '-89.693')\n",
      "('2016/03/11', '58.954', '-89.735')\n",
      "('2016/03/13', '59.446', '-90.897')\n",
      "('2016/03/13', '59.346', '-90.902')\n",
      "('2016/03/15', '59.323', '-91.184')\n",
      "('2016/03/19', '59.536', '-90.164')\n",
      "('2016/03/23', '58.876', '-89.903')\n",
      "('2016/03/23', '59.094', '-89.282')\n",
      "('2016/03/25', '58.574', '-89.865')\n",
      "('2016/03/29', '58.678', '-89.740')\n",
      "('2016/03/29', '58.640', '-89.905')\n",
      "('2016/04/02', '58.214', '-89.482')\n",
      "('2016/04/02', '58.202', '-89.480')\n",
      "('2016/04/04', '58.095', '-89.389')\n",
      "('2016/04/06', '58.301', '-89.236')\n",
      "('2016/04/06', '58.314', '-89.238')\n",
      "('2016/04/08', '58.065', '-88.740')\n",
      "('2016/04/08', '58.078', '-88.673')\n",
      "('2016/04/08', '58.059', '-88.674')\n",
      "('2016/04/10', '57.806', '-88.483')\n",
      "('2016/04/10', '57.908', '-88.268')\n",
      "('2016/04/12', '58.061', '-88.051')\n",
      "('2016/04/12', '58.039', '-88.068')\n",
      "('2016/04/12', '58.127', '-87.724')\n",
      "('2016/04/14', '58.075', '-89.628')\n",
      "('2016/04/16', '58.293', '-88.921')\n",
      "('2016/04/18', '58.290', '-88.967')\n",
      "('2016/04/18', '58.286', '-89.017')\n",
      "('2016/04/18', '58.250', '-89.018')\n",
      "('2016/04/20', '58.387', '-88.519')\n",
      "('2016/04/20', '58.358', '-88.458')\n",
      "('2016/04/22', '58.033', '-88.010')\n",
      "('2016/04/22', '57.999', '-88.003')\n",
      "('2016/04/30', '57.913', '-88.220')\n",
      "('2016/05/04', '57.700', '-88.636')\n",
      "('2016/05/04', '57.694', '-88.664')\n",
      "('2016/05/10', '57.813', '-89.287')\n",
      "('2016/05/12', '57.786', '-90.004')\n",
      "('2016/05/14', '57.716', '-90.582')\n",
      "('2016/05/16', '57.583', '-90.812')\n",
      "('2016/05/16', '57.605', '-89.870')\n",
      "('2016/05/20', '57.328', '-90.715')\n",
      "('2016/05/22', '57.512', '-91.572')\n",
      "('2016/05/24', '57.756', '-91.955')\n",
      "('2016/05/30', '58.026', '-92.563')\n",
      "('2016/06/01', '58.447', '-92.239')\n",
      "('2016/07/17', '59.099', '-93.046')\n",
      "('2016/07/29', '60.318', '-107.459')\n",
      "('2016/09/15', '57.567', '-93.252')\n",
      "('2016/09/29', '57.558', '-93.320')\n",
      "('2016/10/07', '57.575', '-93.287')\n",
      "('2016/10/19', '57.560', '-93.306')\n"
     ]
    }
   ],
   "source": [
    "liste=[(i.split()[2], i.split()[4], i.split()[5])  for i in donnees[2:]]\n",
    "\n",
    "for i in liste:\n",
    "    print(i)"
   ]
  }
 ],
 "metadata": {
  "kernelspec": {
   "display_name": "Python 3",
   "language": "python",
   "name": "python3"
  },
  "language_info": {
   "codemirror_mode": {
    "name": "ipython",
    "version": 3
   },
   "file_extension": ".py",
   "mimetype": "text/x-python",
   "name": "python",
   "nbconvert_exporter": "python",
   "pygments_lexer": "ipython3",
   "version": "3.5.3rc1"
  }
 },
 "nbformat": 4,
 "nbformat_minor": 0
}
