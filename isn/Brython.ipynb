{
 "cells": [
  {
   "cell_type": "code",
   "execution_count": 1,
   "metadata": {},
   "outputs": [
    {
     "data": {
      "application/javascript": [
       "IPython.Cell.options_default.cm_config.lineNumbers = true"
      ],
      "text/plain": [
       "<IPython.core.display.Javascript object>"
      ]
     },
     "metadata": {},
     "output_type": "display_data"
    }
   ],
   "source": [
    "%%javascript\n",
    "IPython.Cell.options_default.cm_config.lineNumbers = true"
   ]
  },
  {
   "cell_type": "code",
   "execution_count": 2,
   "metadata": {},
   "outputs": [
    {
     "data": {
      "text/html": [
       "<style>\n",
       "/* Pour le titre comme cela il n'y a pas de numérotation au */\n",
       "#titre{\n",
       "font-size: 24pt; \n",
       "color:#ff0000;\n",
       "text-decoration: underline;\n",
       "text-align: center;\n",
       "font-weight: bold;\n",
       "}\n",
       "\n",
       "div.text_cell_render { font-size: 12pt;   line-height: 145%; }\n",
       "div.text_cell_render h1{font-size: 24pt; color:#0000ff;  text-decoration: underline;}\n",
       "div.text_cell_render h2{font-size: 18pt;color:#0000ff;  text-decoration: underline;}\n",
       "div.text_cell_render h3{font-size: 14pt;color:#0000ff;  text-decoration: underline;}\n",
       "div.text_cell_render h4{font-size: 12pt;color:#0000ff;  text-decoration: underline; }\n",
       "div.text_cell_render h5 {font-weight: 300;}\n",
       "\n",
       "\n",
       "div.cell.code_cell { /* area that contains code + output */\n",
       "    background: #ffffff;\n",
       "    border: none;\n",
       "    border-radius: 10px;\n",
       "    padding-top: 1ex;\n",
       "}\n",
       "\n",
       "div.input_area { /* box around box with code */\n",
       "    border: none;\n",
       "    background: #f5f5f5;\n",
       "    border: 1px solid #ccc;\n",
       "    border-radius: 10px;\n",
       "    padding-top: 0.5ex;\n",
       "    padding-bottom: 0.5ex;\n",
       "    padding-left: 0.5em;\n",
       "}\n",
       "\n",
       "div.input { /* box with code */\n",
       "}\n",
       "\n",
       "div.CodeMirror { /* code font */\n",
       "    font-family: \"Inconsolata-dz\", monospace;\n",
       "    font-size: 10pt;\n",
       "}\n",
       "\n",
       "\n",
       "\n",
       "\n",
       "\n",
       "/*div.text_cell_render  code { font-size: medium; border: 3px #ababab solid; background-color: #f5f5f5;}*/\n",
       "/*.rendered_html code { border: 3px #ababab solid; background-color:  #f5f5f5;}*/\n",
       ".rendered_html blockquote { margin: 1em 2em; background: red; }\n",
       ".rendered_html ol { list-style:decimal; margin: 1em 2em; }\n",
       "\n",
       "\n",
       "/* classe pour inverse video */\n",
       ".reverse{\n",
       "    background-color: black;\n",
       "    color: white;\n",
       "}\n",
       "/*  strick   <s>texte/<s>*/\n",
       ".barre{\n",
       "\n",
       "}\n",
       "\n",
       "\n",
       "</style>"
      ],
      "text/plain": [
       "<IPython.core.display.HTML object>"
      ]
     },
     "execution_count": 2,
     "metadata": {},
     "output_type": "execute_result"
    }
   ],
   "source": [
    "# Charge ma feuille de style pour nbviewer\n",
    "from IPython.core.display import display, HTML\n",
    "from  urllib.request import urlopen\n",
    "# import urllib.request, urllib.parse, urllib.error\n",
    "\n",
    "url='https://github.com/debimax/cours-debimax/raw/master/static/custom.css'\n",
    "with urlopen(url) as response:\n",
    "    styles = response.read().decode(\"utf8\")\n",
    "styles=\"<style>\\n{}\\n</style>\".format(styles)\n",
    "HTML(styles)"
   ]
  },
  {
   "cell_type": "code",
   "execution_count": 3,
   "metadata": {
    "scrolled": true
   },
   "outputs": [
    {
     "data": {
      "application/javascript": [
       "\n",
       "    require(\n",
       "        [\n",
       "            \"http://brython.info/src/brython_dist.js\"\n",
       "        ], \n",
       "        function() {\n",
       "            console.log(\"Loaded js code from http://brython.info/src/brython_dist.js!\");\n",
       "        }\n",
       "    );    \n",
       "    "
      ],
      "text/plain": [
       "<IPython.core.display.Javascript object>"
      ]
     },
     "metadata": {},
     "output_type": "display_data"
    }
   ],
   "source": [
    "%load_ext brythonmagic\n",
    "from brythonmagic import load_brython_stable\n",
    "load_brython_stable()"
   ]
  },
  {
   "cell_type": "markdown",
   "metadata": {},
   "source": [
    "<div id=\"titre\">Programmation web avec Brython</div>"
   ]
  },
  {
   "cell_type": "markdown",
   "metadata": {
    "cell_style": "center"
   },
   "source": [
    "Cours issue de la [documentation Brython](https://www.brython.info/static_doc/fr/intro.html)  \n",
    "Pour débogguer vos script avec le navigateur:\n",
    "- firefox: Outils-> Développement web->consol web (Ctrl+Maj+k))\n",
    "\n",
    "# Introduction\n",
    "\n",
    "\n",
    "\n",
    "## Qui fait quoi?\n",
    "\n",
    "\n",
    "lorsque vous saisissez une URL dans votre navigateur, que vous validez cette dernière, votre navigateur envoie une \"requête\" au serveur concerné afin qu'il nous renvoie une page web.  \n",
    "Tout d'abord, on nomme vulgairement l'échange de données entre votre navigateur et le serveur qui fournit les pages web un échange ***client / serveur***.   \n",
    "Le client représente votre navigateur.\n",
    "\n",
    "<object type=\"image/svg+xml\" data=\"http://megamaths.hd.free.fr/~pi/statics/client-serveur.svg\" width=\"400\">\n",
    "    Le navigateur ne peut lire ce kiwi\n",
    "</object>\n",
    "\n",
    "\n",
    "<center>\n",
    "<img width=400px src=\"http://megamaths.hd.free.fr/~pi/statics/client-serveur.png\" alt=\"client serveur sur internet\"   />\n",
    "</center>\n",
    "\n",
    "\n",
    "Normalement coté client c'est javascript qui est utilisé pour programmer.  \n",
    "Il existe des librairies pour facilité la programmation ***javascript*** comme ***jquery, p5js***.  N'ayant pas le temps de vous apprendre à coder en javascript nous utiliseront ***Brython***  qui nous permet de coder en python. La libraire Brython transforme ce code python en javascript (compréhensible par votre navigateur).\n",
    "\n",
    "Vous devez bien faire faire la différence le programme exécuté coté client (javascript ou brython) et le programme exécuté coté serveur (php ou python).\n",
    "\n",
    "En fait le code python est convertit en javascript qui compréhensible pour votre navigateur internet"
   ]
  },
  {
   "cell_type": "markdown",
   "metadata": {},
   "source": [
    "## Que peut on faire avec Brython?\n",
    "\n",
    "\n",
    "On peut faire la même chose qu'avec javascript\n",
    "\n",
    "- Accéder aux DOM (Document Object Model)\n",
    "- Modifier le DOM\n",
    "- Réagir aux évènements de la souris, du clavier etc...\n"
   ]
  },
  {
   "cell_type": "markdown",
   "metadata": {},
   "source": [
    "## TP  \n",
    "\n",
    "### Installation  depuis pyzo.\n",
    "- Lancer ***pyzo***.  \n",
    "On installe les fichiers nécéssaires et on prépare le dossier. Dans la console exécutez:  \n",
    "```bash\n",
    "pip install brython            # On installe brython\n",
    "pip install brython --upgrade  # Pour seulement mettre à jour brython\n",
    "mkdir test-brython             # mkdir pour make directory\n",
    "cd test-brython                # cd pour change directory\n",
    "!python -m brython --install   # On prépare les fichier pour brython. \n",
    "```  \n",
    "vous disposez des fichiers suivants :\n",
    "- ***brython.js*** : le moteur Brython, à inclure dans la page HTML\n",
    "- ***brython_stdlib.js*** : regroupe tous les fichiers de la distribution Python standard supportés par Brython\n",
    "- ***demo.html*** : une page qui donne quelques exemples d'utilisation de Brython  \n",
    "***brython.js*** contient quelques modules très utilisés : ***browser, browser.html, javascript***.  \n",
    "Si votre application utilise des modules de la distribution standard, il faut inclure ***brython_stdlib.js*** en plus de brython.js:\n",
    "```html\n",
    "<script type=\"text/javascript\" src=\"brython.js\"></script>\n",
    "<script type=\"text/javascript\" src=\"brython_stdlib.js\"></script>\n",
    "```  "
   ]
  },
  {
   "cell_type": "markdown",
   "metadata": {},
   "source": [
    "###### création d'un exemple (Hello World)\n",
    "\n",
    "- Créez le fichier ***exo1.html*** avec votre éditeur de texte (pyzo, geany, notepad++ ...)   \n",
    "\n",
    "```html\n",
    "<html>\n",
    "<head>\n",
    "  <meta charset=\"utf-8\" />\n",
    "  <script type=\"text/javascript\" src=\"./brython.js\"></script>\n",
    "  <script type=\"text/javascript\" src=\"./brython_stdlib.js\"></script>\n",
    "  <title>Clock</title>\n",
    "</head>\n",
    "<body onLoad=\"brython()\">\n",
    "<h1>Exemple 1:</h1>\n",
    "<div>\n",
    "  <button id=\"bouton\" type=\"button\">Cliquez!</button>\n",
    "  <label id='hi'>Un texte</label>\n",
    "</div> \n",
    "<script type=\"text/python\">\n",
    "from browser import document\n",
    "def affiche(ev):\n",
    "    document['hi'].text=\"Hello Word\"\n",
    "\n",
    "document[\"bouton\"].bind(\"click\", affiche)\n",
    "</script>\n",
    "</body>\n",
    "</html>\n",
    "```  \n",
    "- Les fichiers HTML peuvent être ouverts directement dans le navigateur, mais il est préférable (surtout avec chrome) de lancer un serveur web dans le répertoire de l'application.  \n",
    "Dans la console pyzo tapez:  \n",
    "```bash\n",
    "!python -m http.server 8080\n",
    "```  \n",
    "- Lancer un navigateur de votre choix à l'adresse  [http://localhost:8080](http://localhost:8080) et lancer le fichier ***test-brython/exo1.html***. "
   ]
  },
  {
   "cell_type": "markdown",
   "metadata": {},
   "source": [
    "### Explication du code.\n",
    "\n",
    "***document[\"bouton\"]***  est l'élément qui a pour ***id*** \"bouton\", donc on définit l'évènement click sur le button d'id \"bouton\" qui déclenche la fonction ***affiche***.  \n",
    "Remarque: C'est la même syntaxe que pour tkinter.\n",
    "\n",
    "Il est aussi possible d'envoyer des arguments à la fonction ***affiche***  en utilisant les fonctions ***lamda***.  \n",
    "Modifer le code comme ci-dessous.\n",
    "\n",
    "```python\n",
    "<script>\n",
    "from browser import document\n",
    "def affiche(message,ev):\n",
    "    document['hi'].text=message\n",
    "\n",
    "message=\"Hello World\"\n",
    "document[\"bouton\"].bind(\"click\", lambda ev: affiche(message,ev))\n",
    "</script>\n",
    "```\n",
    "\n",
    "La syntaxe avec la fonction lambda sera identique avec tkinter.\n",
    "\n",
    "Modifions encore le code pour cette fois intéragir avec le clavier. La touche ***Esc*** a pour keycode 27.\n",
    "\n",
    "```python\n",
    "<div>\n",
    "  <label id='hi'>Appyer sur la touche esc</label>\n",
    "</div> \n",
    "<script type=\"text/python\">\n",
    "from browser import document\n",
    "def affiche(message,ev):\n",
    "    if int(ev.keyCode)==27 :\n",
    "        document['hi'].text=message\n",
    "\n",
    "document.bind('keydown', lambda ev :  affiche(\"Hello World\", ev))\n",
    "document.bind('keyup',   lambda ev :  affiche(\"Appyer sur la touche esc\", ev))\n",
    "</script>\n",
    "```\n",
    "\n",
    "On associe à l'évènement 'keydown' (appuyer sur une touche) le déclenchement de la fonction affiche avec les paramètre \"Hello World\" et ***ev*** où ev signifie ***event (évènement)***."
   ]
  },
  {
   "cell_type": "markdown",
   "metadata": {},
   "source": [
    "### Avec le notebook\n",
    "\n",
    "On utilisera maintenant le notebook pour nos essais. On u deux cellules:  \n",
    "- La première cellules concerne le code html\n",
    "- La seconde Le script python"
   ]
  },
  {
   "cell_type": "code",
   "execution_count": null,
   "metadata": {},
   "outputs": [],
   "source": [
    "codehtml1='''\n",
    "<h1>Exemple 1:</h1>\n",
    "<div>\n",
    "  <button id=\"bouton\" type=\"button\">Cliquez!</button>\n",
    "  <label id='hi'>Un texte</label>\n",
    "</div> \n",
    "'''"
   ]
  },
  {
   "cell_type": "code",
   "execution_count": null,
   "metadata": {},
   "outputs": [],
   "source": [
    "%%brython -c html1 -h codehtml1\n",
    "from browser import document\n",
    "def affiche(ev):\n",
    "    document['hi'].text=\"Hello Word\"\n",
    "document[\"bouton\"].bind(\"click\", affiche)"
   ]
  },
  {
   "cell_type": "markdown",
   "metadata": {},
   "source": [
    "## Exemple 2 (Afficher l'heure)\n",
    "\n",
    "C'est le module ***time*** qui gère l'heure en python. Créer le fichier ***exo2.html***."
   ]
  },
  {
   "cell_type": "code",
   "execution_count": 4,
   "metadata": {},
   "outputs": [],
   "source": [
    "codehtml2='''\n",
    "<h1>exemple 2: Obtenir la date et l'heure</h1>\n",
    "<div id=\"date\"></div>\n",
    "'''"
   ]
  },
  {
   "cell_type": "code",
   "execution_count": null,
   "metadata": {},
   "outputs": [],
   "source": [
    "%%brython -c html2 -h codehtml2\n",
    "from browser import document\n",
    "from datetime import datetime\n",
    "document[\"date\"].text=datetime.now().strftime('Nous somme le%d %m %Y, il est %H:%M:%S.')"
   ]
  },
  {
   "cell_type": "markdown",
   "metadata": {},
   "source": [
    "Vous voyez tout de suite ce qui ne va pas. Il faudrait rafraichir toutes les secondes.\n",
    "On modifie donc le script comme ci-dessous. "
   ]
  },
  {
   "cell_type": "code",
   "execution_count": null,
   "metadata": {},
   "outputs": [],
   "source": [
    "%%brython \n",
    "from browser import document\n",
    "from datetime import datetime\n",
    "from browser  import timer      #https://www.brython.info/static_doc/en/timer.html\n",
    "def getClock():\n",
    "    document[\"date\"].text=datetime.now().strftime('Nous somme le%d %m %Y, il est %H:%M:%S.')\n",
    "timer = timer.set_interval(getClock,1000)"
   ]
  },
  {
   "cell_type": "markdown",
   "metadata": {},
   "source": [
    "# Accéder aux éléments de la page\n",
    "\n",
    "\n",
    "\n",
    "Pour accéder à un élément, on peut utiliser plusieurs méthodes. La plus courante est de se servir de son identifiant, c'est-à-dire de son attribut *id* : si on a une zone de saisie définie par  \n",
    "```html\n",
    "    <input id=\"data\">\n",
    "```\n",
    "\n",
    "on peut obtenir une référence à ce champ par  \n",
    "```python\n",
    "    from browser import document\n",
    "    data = document[\"data\"]\n",
    "```\n",
    "\n",
    "L'objet document du module browser référence le document HTML. Il se comporte comme un dictionnaire dont les clés sont les identifiants des éléments de la page. Si aucun élément ne possède l'identifiant spécifié, le programme déclenche une exception *KeyError*\n",
    "\n",
    "On peut aussi récupérer tous les éléments d'un certain type, par exemple tous les liens hypertexte (balise HTML A), en utilisant la syntaxe  \n",
    "\n",
    "```python\n",
    "from browser import html\n",
    "links = document[html.A]\n",
    "```\n",
    "\n",
    "Enfin, tous les éléments de la page possèdent une méthode ***get()*** qui permet de rechercher des éléments de plusieurs façons :\n",
    "\n",
    "``` elt.get(name=N)``` retourne une liste avec tous les éléments descendant de *elt* dont l'attribut name est égal à N.  \n",
    "``` elt.get(selector=S)``` retourne une liste avec tous les élements descendant de *elt* dont le sélecteur CSS correspond à S.  \n",
    "\n",
    "Quelques exemples :\n",
    "\n",
    "```python\n",
    "document.get(selector='.foo')       # éléments avec la classe \"foo\"\n",
    "document.get(selector='form')       # liste des balises \"<form>\"\n",
    "document.get(selector='H1.bar')     # balises H1 avec la classe \"bar\"\n",
    "document.get(selector='#container') # liste avec l'élément dont l'id vaut \"container\", similaire à [document[\"container\"]]\n",
    "document.get(selector='a[title]')   # balises A avec un attribut \"title\"\n",
    "```\n"
   ]
  },
  {
   "cell_type": "markdown",
   "metadata": {},
   "source": [
    "# Attributs et méthodes des éléments\n",
    "\n",
    "Les éléments de la page possèdent des attributs et des méthodes qui dépendent du type de l'objet ;  \n",
    "On peut les trouver sur de nombreux [sites Internet](https://developer.mozilla.org/fr/docs/Web/HTML/Attributs).\n",
    "\n",
    "Comme le nom des attributs peut être différent d'un navigateur à l'autre, Brython définit des attributs supplémentaires qui fonctionnent dans tous les cas :\n",
    "\n",
    "<table style=\"font-size: small\">\n",
    "<tr><th> Nom </th><th>Type </th><th> Description</th><th> L = lecture seule<br />\n",
    "L/E = lecture + écriture</th></tr>\n",
    "<tr><td> abs_left </td><td> entier </td><td> position de l'élément par rapport au bord gauche de l'écran </td><td> L </td></tr>\n",
    "<tr><td> abs_top </td><td> entier </td><td> position de l'élément par rapport au bord supérieur de l'écran </td><td> L </td></tr>\n",
    "<tr><td> children </td><td> liste </td><td> les éléments \"descendants\" de l'élément </td><td> L </td></tr>\n",
    "<tr><td> class_name </td><td> chaine </td><td> le nom de la classe de l'élément (attribut class de la balise) </td><td> L/E</td></tr>\n",
    "<tr><td> clear </td><td> méthode </td><td> elt.clear() supprime tous les descendants de l'élément </td><td> - </td></tr>\n",
    "<tr><td> height </td><td> entier </td><td> hauteur de l'élément en pixels (2) </td><td> L/E </td></tr>\n",
    "<tr><td> html </td><td> chaine </td><td> le code HTML contenu dans l'élément </td><td> L/E </td></tr>\n",
    "<tr><td> inside </td><td> méthode </td><td> elt.inside(autre) teste si elt est contenu dans l'élément autre </td><td> - </td></tr>\n",
    "<tr><td> left </td><td> entier </td><td> la position de l'élément par rapport au bord gauche du premier parent positionné (1) </td><td> L/E </td></tr>\n",
    "<tr><td> parent </td><td> instance de DOMNode </td><td> l'élément parent de l'élément (None pour document) </td><td> L </td></tr>\n",
    "<tr><td> text </td><td> chaine </td><td> le texte contenu dans l'élément </td><td> L/E </td></tr>\n",
    "<tr><td> top </td><td> entier </td><td> la position de l'élément par rapport au bord supérieur du premier parent positionné (1) </td><td> L/E </td></tr>\n",
    "<tr><td> width </td><td> entier </td><td> largeur de l'élément en pixels (2) </td><td> L/E </td></tr>\n",
    "</table>"
   ]
  },
  {
   "cell_type": "markdown",
   "metadata": {
    "collapsed": true
   },
   "source": [
    "# Les évènements\n",
    "\n",
    "- Un ***événement (event***) est la survenue d’une action (clavier, souris) dont votre application a besoin d’être informée.\n",
    "- Un ***gestionnaire d'événement (event handler)*** est une fonction de votre application qui a vocation a être appelée lorsqu’un certain événement se produira.\n",
    "\n",
    "## Evénements souris\n",
    "\n",
    "### Les événements  relatifs à la souris\n",
    "\n",
    "<table  style=\"font-size: small\">\n",
    "<tr><th> évènement</th><th></th>  </tr>\n",
    "<tr><td> mouseenter </td> <td> la souris entre dans la zone couverte par l'élément, ou un de ses descendants </td></tr>\n",
    "<tr><td> mouseleave </td> <td> la souris sort de la zone couverte par l'élément et par ses descendants </td></tr>\n",
    "<tr><td> mouseover </td> <td> la souris entre dans la zone couverte par l'élément </td></tr>\n",
    "<tr><td> mouseout </td> <td> la souris quitte la zone couverte par l'élément </td></tr>\n",
    "<tr><td> mousemove </td> <td> la souris se déplace sur l'élément </td></tr>\n",
    "<tr><td> mousedown </td> <td> appui sur le bouton gauche de la souris </td></tr>\n",
    "<tr><td> mouseup </td> <td> relâchement du bouton gauche de la souris </td></tr>\n",
    "<tr><td> click </td> <td> appui puis relâchement du bouton gauche de la souris </td></tr>\n",
    "<tr><td> dblclick </td> <td> double clic </td></tr>\n",
    "</table>\n",
    "\n",
    "### Attributs de l'objet DOMEvent\n",
    "\n",
    "Pour les événements souris, l'instance de DOM Event possède les attributs suivants\n",
    "\n",
    "<table  style=\"font-size: small\">\n",
    "<tr><th> attributs </th><th></th></tr>\n",
    "<tr><td> button </td><td> le numéro du bouton sur lequel on a appuyé </td><tr>\n",
    "<tr><td> buttons </td><td> indique sur quels boutons de la souris on a appuyé pour déclencher l'événement.<br />  Chaque bouton sur lequel on peut appuyer est représenté par un entier donné (1 : bouton gauche, 2 : bouton droit, 4   : roue).<br  />Si on appuie sur plus d'un bouton, la valeur de buttons est combinée pour produire un nouveau nombre.<br />Par exemple, si on appuie sur le bouton droit (2) et sur la roue (4), la valeur est égale à 2+4, soit 6 </td><tr>\n",
    "<tr><td> x </td><td> la position de la souris par rapport au bord gauche de la fenêtre (en pixels) </td><tr>\n",
    "<tr><td> y </td><td> la position de la souris par rapport au bord haut de la fenêtre (en pixels) </td><tr>\n",
    "<tr><td> clientX </td><td> la position de la souris par rapport au bord gauche de l'élément dans lequel la souris se trouve au moment du clic (en pixels) </td><tr>\n",
    "<tr><td> clientY </td><td> la position de la souris par rapport au bord haut de l'élément dans lequel la souris se trouve au moment du clic (en pixels) </td><tr>\n",
    "<tr><td> screenX </td><td> comme x </td><tr>\n",
    "<tr><td> screenY </td><td> comme y </td><tr>\n",
    "</table>"
   ]
  },
  {
   "cell_type": "markdown",
   "metadata": {
    "collapsed": true
   },
   "source": [
    "## Evénements clavier\n",
    "\n",
    "### Les événements relatifs au clavier\n",
    "\n",
    "<table  style=\"font-size: small\">\n",
    "<tr><th>évènement</th><th></th></tr>\n",
    "<tr><td> input </td><td> déclenché quand la valeur d'un élément &lsaquo;input&rsaquo; ou &lsaquo;textarea&rsaquo; est modifié, ou quand le contenu d'un élément contenteditable est modifié</td></tr>\n",
    "<tr><td> keydown </td><td> appui sur une touche quelconque du clavier</td></tr>\n",
    "<tr><td> keypress </td><td> appui sur une touche du clavier qui produit un caractère.<br />Par exemple, quand on entre Ctrl+C au clavier, l'événement keypress n'est déclenché qu'au moment où on appuie sur C, alors que keydown est déclenché dès l'appui sur Ctrl</td></tr>\n",
    "<tr><td> keyup </td><td> relâchement d'une touche enfoncée</td></tr>\n",
    "</table>\n",
    "\n",
    "###  Attributs de l'objet DOMEvent\n",
    "\n",
    "L'instance de ***DOMEvent*** possède les attributs suivants\n",
    "\n",
    "<table style=\"font-size: small\">\n",
    "<tr><td>***altKey***</td><td> booléen, indique si la touche Alt (ou Option sur Mac) était enfoncée quand l'événement clavier a été déclenché<br />\n",
    "Cet attribut n'est pas disponible pour l'événement *input*<br />\n",
    "Il est normalement utilisé avec *keypress*, pour pouvoir tester si on a entré Alt+&lsaquo;key&rsaquo; ou seulement &lsaquo;key&rsaquo;</td><tr>\n",
    "<tr><td>***charCode***</td><td> Le numéro de référence Unicode pour la touche<br />\n",
    "Cet attribut n'est utilisable que pour l'événement keypress</td><tr>\n",
    "<tr><td>***ctrlKey***</td>\n",
    "    <td> booléen, indique si la touche *Ctrl* était enfoncée quand l'événement clavier a été déclenché<br />\n",
    "\n",
    "    Cet attribut n'est pas disponible pour l'événement *input* \n",
    "\n",
    "    Il est normalement utilisé avec *keypress*, pour pouvoir tester si on a entré Ctrl+&lsaquo;key&rsaquo; ou seulement &lsaquo;key&rsaquo; \n",
    "<tr><td>***shiftKey***</td><td>\n",
    "    booléen, indique si la touche Majuscule était enfoncée quand l'événement clavier a été déclenché<br />\n",
    "    Cet attribut n'est pas disponible pour l'événement *input* <br />\n",
    "    Il est normalement utilisé avec keypress, pour pouvoir tester si on a entré Shift+&lsaquo;key&rsaquo; ou seulement &lsaquo;key&rsaquo; </td><tr>\n",
    " <tr><td>***which***</td><td>\n",
    "    un code numérique dépendant du système et de l'implémentation, caractérise la clé enfoncée <br />\n",
    "    noter que le résultat n'est pas le même selon qu'on gère les événements *keydown, keyup* et *keypress* </td><tr>\n",
    "</table>\n",
    " \n",
    "## Les événement focus:\n",
    "\n",
    "<table style=\"font-size: small\">\n",
    "<tr><td>***blur***</td><td>un élément a perdu le focus</td></tr>\n",
    "<tr><td>***focus***</td><td>un élément a reçu le focus</td></tr>\n",
    "</table>"
   ]
  },
  {
   "cell_type": "markdown",
   "metadata": {},
   "source": [
    "## Des exemples\n",
    "\n",
    "### Utilisation de ***onmouseover***\n",
    "\n",
    "On utilise l'attribut ***onmouseover*** de la balise HTML area en lui affectant une fonction qui affiche une chaine de caractères dépendant de la position de la souris dans l'image"
   ]
  },
  {
   "cell_type": "code",
   "execution_count": 5,
   "metadata": {},
   "outputs": [],
   "source": [
    "codehtml3='''<div id=\"description\" style=\"background-color:#700;padding:10px;color:#FFF;\"></div>\n",
    "<p></p>\n",
    "<img src=\"https://www.brython.info/static_doc/images/imagemap_example.png\" width =\"400\" height =\"400\" alt=\"Happy Family\" usemap=\"#familymap\"/>\n",
    "<p></p>\n",
    "<map name=\"familymap\" id=\"familymap\">\n",
    "'''"
   ]
  },
  {
   "cell_type": "code",
   "execution_count": 6,
   "metadata": {},
   "outputs": [
    {
     "data": {
      "text/html": [
       "  <script id=\"832580\" type=\"text/python\">\n",
       "\n",
       "from browser import document, html\n",
       "\n",
       "def writetext(txt):\n",
       "    document[\"description\"].text = txt\n",
       "\n",
       "coords = [\n",
       "    (0, 0, 160, 95),\n",
       "    (180, 0, 400, 165),\n",
       "    (0, 120, 180, 400),\n",
       "    (175, 235, 270, 400)\n",
       "]\n",
       "messages = [\"Avion volant dans le ciel par une belle journée\",\n",
       "    \"Le soleil et les planètes gazeuses géantes comme Jupiter sont, de loin, \\\n",
       "    les plus gros objets de notre système solaire.\",\n",
       "    \"C\\\"est toi ou c\\\"est moi.\",\n",
       "    \"Daniel la menace!!!!!!!!\"]\n",
       "prompt = \"Déplacer la souris sur les différents éléments pour voir une \\\n",
       "    description.\"\n",
       "\n",
       "writetext(prompt)\n",
       "\n",
       "for coord, msg in zip(coords, messages):\n",
       "    area = html.AREA(shape=\"rect\", coords=coord)\n",
       "    area.bind(\"mouseover\", lambda ev, msg=msg:writetext(msg))\n",
       "    area.bind(\"mouseout\", lambda ev:writetext(prompt))\n",
       "    document[\"familymap\"] <= area\n",
       "  </script>\n",
       "  <div id=\"html3\"><div id=\"description\" style=\"background-color:#700;padding:10px;color:#FFF;\"></div>\n",
       "<p></p>\n",
       "<img src=\"https://www.brython.info/static_doc/images/imagemap_example.png\" width =\"400\" height =\"400\" alt=\"Happy Family\" usemap=\"#familymap\"/>\n",
       "<p></p>\n",
       "<map name=\"familymap\" id=\"familymap\">\n",
       "</div>\n",
       "  <script type=\"text/javascript\">brython({debug:1, static_stdlib_import: false, ipy_id: [\"832580\"]});</script>\n"
      ],
      "text/plain": [
       "<IPython.core.display.HTML object>"
      ]
     },
     "metadata": {},
     "output_type": "display_data"
    }
   ],
   "source": [
    "%%brython -c html3 -h codehtml3\n",
    "\n",
    "from browser import document, html\n",
    "\n",
    "def writetext(txt):\n",
    "    document[\"description\"].text = txt\n",
    "\n",
    "coords = [\n",
    "    (0, 0, 160, 95),\n",
    "    (180, 0, 400, 165),\n",
    "    (0, 120, 180, 400),\n",
    "    (175, 235, 270, 400)\n",
    "]\n",
    "messages = [\"Avion volant dans le ciel par une belle journée\",\n",
    "    \"Le soleil et les planètes gazeuses géantes comme Jupiter sont, de loin, \\\n",
    "    les plus gros objets de notre système solaire.\",\n",
    "    \"C\\\"est toi ou c\\\"est moi.\",\n",
    "    \"Daniel la menace!!!!!!!!\"]\n",
    "prompt = \"Déplacer la souris sur les différents éléments pour voir une \\\n",
    "    description.\"\n",
    "\n",
    "writetext(prompt)\n",
    "\n",
    "for coord, msg in zip(coords, messages):\n",
    "    area = html.AREA(shape=\"rect\", coords=coord)\n",
    "    area.bind(\"mouseover\", lambda ev, msg=msg:writetext(msg))\n",
    "    area.bind(\"mouseout\", lambda ev:writetext(prompt))\n",
    "    document[\"familymap\"] <= area"
   ]
  },
  {
   "cell_type": "markdown",
   "metadata": {},
   "source": [
    "### Les évènements *bind* et *unbind*\n"
   ]
  },
  {
   "cell_type": "code",
   "execution_count": 7,
   "metadata": {},
   "outputs": [],
   "source": [
    "html4='''\n",
    "<div id=\"myblock\" style=\"width:100px; height:100px; background:red\"></div>\n",
    "<span id=\"mymessage\">waiting to do something</span>\n",
    "<div><button id=\"bind_click\">Bind event</button>\n",
    "<button id=\"unbind_click\">Unbind</button>\n",
    "'''"
   ]
  },
  {
   "cell_type": "code",
   "execution_count": 8,
   "metadata": {},
   "outputs": [
    {
     "ename": "KeyError",
     "evalue": "'codehtml4'",
     "output_type": "error",
     "traceback": [
      "\u001b[0;31m---------------------------------------------------------------------------\u001b[0m",
      "\u001b[0;31mKeyError\u001b[0m                                  Traceback (most recent call last)",
      "\u001b[0;32m<ipython-input-8-0395fd36a934>\u001b[0m in \u001b[0;36m<module>\u001b[0;34m()\u001b[0m\n\u001b[0;32m----> 1\u001b[0;31m \u001b[0mget_ipython\u001b[0m\u001b[0;34m(\u001b[0m\u001b[0;34m)\u001b[0m\u001b[0;34m.\u001b[0m\u001b[0mrun_cell_magic\u001b[0m\u001b[0;34m(\u001b[0m\u001b[0;34m'brython'\u001b[0m\u001b[0;34m,\u001b[0m \u001b[0;34m'-c html4 -h codehtml4'\u001b[0m\u001b[0;34m,\u001b[0m \u001b[0;34m'\\nfrom browser import document\\nfrom browser import alert\\n\\ndef myevent(ev):\\n    alert(\"it works !\")\\n\\ndef counter():\\n    alert(\\'%s event(s) attached to \"click\"\\'\\n        %len(document[\"myblock\"].events(\"click\")))\\n\\ndef bind_click(ev):\\n    document[\"myblock\"].bind(\"click\", myevent)\\n    counter()\\n    document[\"mymessage\"].text=\"event is bound, just click to see...\"\\n\\ndocument[\"bind_click\"].bind(\"click\", bind_click)\\n\\ndef unbind_click(ev):\\n    if document[\"myblock\"].events(\"click\"):\\n        document[\"myblock\"].unbind(\"click\", myevent)\\n        counter()\\n        document[\"mymessage\"].text=\"click disabled\"\\n\\n#document[\"unbind_click\"].bind(\"click\", unbind_click)'\u001b[0m\u001b[0;34m)\u001b[0m\u001b[0;34m\u001b[0m\u001b[0m\n\u001b[0m",
      "\u001b[0;32m~/.local/lib/python3.6/site-packages/IPython/core/interactiveshell.py\u001b[0m in \u001b[0;36mrun_cell_magic\u001b[0;34m(self, magic_name, line, cell)\u001b[0m\n\u001b[1;32m   2129\u001b[0m             \u001b[0mmagic_arg_s\u001b[0m \u001b[0;34m=\u001b[0m \u001b[0mself\u001b[0m\u001b[0;34m.\u001b[0m\u001b[0mvar_expand\u001b[0m\u001b[0;34m(\u001b[0m\u001b[0mline\u001b[0m\u001b[0;34m,\u001b[0m \u001b[0mstack_depth\u001b[0m\u001b[0;34m)\u001b[0m\u001b[0;34m\u001b[0m\u001b[0m\n\u001b[1;32m   2130\u001b[0m             \u001b[0;32mwith\u001b[0m \u001b[0mself\u001b[0m\u001b[0;34m.\u001b[0m\u001b[0mbuiltin_trap\u001b[0m\u001b[0;34m:\u001b[0m\u001b[0;34m\u001b[0m\u001b[0m\n\u001b[0;32m-> 2131\u001b[0;31m                 \u001b[0mresult\u001b[0m \u001b[0;34m=\u001b[0m \u001b[0mfn\u001b[0m\u001b[0;34m(\u001b[0m\u001b[0mmagic_arg_s\u001b[0m\u001b[0;34m,\u001b[0m \u001b[0mcell\u001b[0m\u001b[0;34m)\u001b[0m\u001b[0;34m\u001b[0m\u001b[0m\n\u001b[0m\u001b[1;32m   2132\u001b[0m             \u001b[0;32mreturn\u001b[0m \u001b[0mresult\u001b[0m\u001b[0;34m\u001b[0m\u001b[0m\n\u001b[1;32m   2133\u001b[0m \u001b[0;34m\u001b[0m\u001b[0m\n",
      "\u001b[0;32m<decorator-gen-125>\u001b[0m in \u001b[0;36mbrython\u001b[0;34m(self, line, cell, local_ns)\u001b[0m\n",
      "\u001b[0;32m~/.local/lib/python3.6/site-packages/IPython/core/magic.py\u001b[0m in \u001b[0;36m<lambda>\u001b[0;34m(f, *a, **k)\u001b[0m\n\u001b[1;32m    185\u001b[0m     \u001b[0;31m# but it's overkill for just that one bit of state.\u001b[0m\u001b[0;34m\u001b[0m\u001b[0;34m\u001b[0m\u001b[0m\n\u001b[1;32m    186\u001b[0m     \u001b[0;32mdef\u001b[0m \u001b[0mmagic_deco\u001b[0m\u001b[0;34m(\u001b[0m\u001b[0marg\u001b[0m\u001b[0;34m)\u001b[0m\u001b[0;34m:\u001b[0m\u001b[0;34m\u001b[0m\u001b[0m\n\u001b[0;32m--> 187\u001b[0;31m         \u001b[0mcall\u001b[0m \u001b[0;34m=\u001b[0m \u001b[0;32mlambda\u001b[0m \u001b[0mf\u001b[0m\u001b[0;34m,\u001b[0m \u001b[0;34m*\u001b[0m\u001b[0ma\u001b[0m\u001b[0;34m,\u001b[0m \u001b[0;34m**\u001b[0m\u001b[0mk\u001b[0m\u001b[0;34m:\u001b[0m \u001b[0mf\u001b[0m\u001b[0;34m(\u001b[0m\u001b[0;34m*\u001b[0m\u001b[0ma\u001b[0m\u001b[0;34m,\u001b[0m \u001b[0;34m**\u001b[0m\u001b[0mk\u001b[0m\u001b[0;34m)\u001b[0m\u001b[0;34m\u001b[0m\u001b[0m\n\u001b[0m\u001b[1;32m    188\u001b[0m \u001b[0;34m\u001b[0m\u001b[0m\n\u001b[1;32m    189\u001b[0m         \u001b[0;32mif\u001b[0m \u001b[0mcallable\u001b[0m\u001b[0;34m(\u001b[0m\u001b[0marg\u001b[0m\u001b[0;34m)\u001b[0m\u001b[0;34m:\u001b[0m\u001b[0;34m\u001b[0m\u001b[0m\n",
      "\u001b[0;32m/usr/local/lib/python3.6/dist-packages/brythonmagic.py\u001b[0m in \u001b[0;36mbrython\u001b[0;34m(self, line, cell, local_ns)\u001b[0m\n\u001b[1;32m    317\u001b[0m             \u001b[0mmarkup\u001b[0m \u001b[0;34m=\u001b[0m \u001b[0municode_to_str\u001b[0m\u001b[0;34m(\u001b[0m\u001b[0margs\u001b[0m\u001b[0;34m.\u001b[0m\u001b[0mhtml\u001b[0m\u001b[0;34m[\u001b[0m\u001b[0;36m0\u001b[0m\u001b[0;34m]\u001b[0m\u001b[0;34m[\u001b[0m\u001b[0;36m0\u001b[0m\u001b[0;34m]\u001b[0m\u001b[0;34m)\u001b[0m\u001b[0;34m\u001b[0m\u001b[0m\n\u001b[1;32m    318\u001b[0m             \u001b[0;32mif\u001b[0m \u001b[0misinstance\u001b[0m\u001b[0;34m(\u001b[0m\u001b[0mmarkup\u001b[0m\u001b[0;34m,\u001b[0m \u001b[0mstr\u001b[0m\u001b[0;34m)\u001b[0m\u001b[0;34m:\u001b[0m\u001b[0;34m\u001b[0m\u001b[0m\n\u001b[0;32m--> 319\u001b[0;31m                 \u001b[0mmarkup\u001b[0m \u001b[0;34m=\u001b[0m \u001b[0mself\u001b[0m\u001b[0;34m.\u001b[0m\u001b[0mshell\u001b[0m\u001b[0;34m.\u001b[0m\u001b[0muser_ns\u001b[0m\u001b[0;34m[\u001b[0m\u001b[0mmarkup\u001b[0m\u001b[0;34m]\u001b[0m\u001b[0;34m\u001b[0m\u001b[0m\n\u001b[0m\u001b[1;32m    320\u001b[0m             \u001b[0;32melse\u001b[0m\u001b[0;34m:\u001b[0m\u001b[0;34m\u001b[0m\u001b[0m\n\u001b[1;32m    321\u001b[0m                 \u001b[0mmarkup\u001b[0m \u001b[0;34m=\u001b[0m \u001b[0;34m\"\"\u001b[0m\u001b[0;34m\u001b[0m\u001b[0m\n",
      "\u001b[0;31mKeyError\u001b[0m: 'codehtml4'"
     ]
    }
   ],
   "source": [
    "%%brython -c html4 -h codehtml4\n",
    "\n",
    "from browser import document\n",
    "from browser import alert\n",
    "\n",
    "def myevent(ev):\n",
    "    alert(\"it works !\")\n",
    "\n",
    "def counter():\n",
    "    alert('%s event(s) attached to \"click\"'\n",
    "        %len(document[\"myblock\"].events(\"click\")))\n",
    "\n",
    "def bind_click(ev):\n",
    "    document[\"myblock\"].bind(\"click\", myevent)\n",
    "    counter()\n",
    "    document[\"mymessage\"].text=\"event is bound, just click to see...\"\n",
    "\n",
    "document[\"bind_click\"].bind(\"click\", bind_click)\n",
    "\n",
    "def unbind_click(ev):\n",
    "    if document[\"myblock\"].events(\"click\"):\n",
    "        document[\"myblock\"].unbind(\"click\", myevent)\n",
    "        counter()\n",
    "        document[\"mymessage\"].text=\"click disabled\"\n",
    "\n",
    "#document[\"unbind_click\"].bind(\"click\", unbind_click)"
   ]
  },
  {
   "cell_type": "markdown",
   "metadata": {},
   "source": [
    "### L'évènement ***[glisser-déposer](https://www.brython.info/static_doc/fr/drag_events.html)***\n",
    "\n",
    "Les événements associés aux opérations de glisser-déposer sont\n",
    "\n",
    " | Événements  |    |\n",
    "| :---:  |  :---:  |\n",
    "| drag | \tCet évènement est déclenché à la source du glisser-déposer, l'élément sur lequel l'évènement dragstart a été déclenché|\n",
    "| dragend |\tLa source du glisser-déposer recevra un évènement de ce type lorsque l'opération de glisser-déposer est terminée, qu'elle se soit bien déroulée ou non \n",
    "| dragenter |\tDéclenché lorsque le pointeur de la souris est déplacée pour la première fois au dessus d'un élément  pendant le glisser-déposer. Un écouteur d'évènement pourrait alors indiquer si le dépôt des données courantes est autorisée ou non sur cette zone. Si aucun écouteur n'a été défini, ou si ce dernier n'entraîne aucune action, alors, le épôt n'est par défaut, pas autorisé. C'est également l'évènement à prendre en charge pour donner des retours à l'utilisateur quand à la possibilité qu'il a déposer le contenu du glisser-déposer en affichant une surbrillance ou un marqueur d'insertion |\n",
    "| dragleave |\tCet évènement est déclenché quand la souris quite un élément durant un glisser-déposer. Les écouteurs évènement devraient retirer toute surbrillance ou marqueur d'insertion de cette zone |\n",
    "|dragover\t|  Cet évènement est déclenché lorsque la souris est déplacée au dessus d'un élément durant un glisser-déposer. La plupart du temps, cet évènement est utilisé pour les mêmes buts que l'évènement dragenter |\n",
    "| dragstart\t| Déclenché sur un élément lorsque qu'un glisser-déposer est entrepris. L'utilisateur requiert la possibilité de glisser-déposer l'élément sur lequel cet évènement est déclenché|\n",
    "| drop| L'évènement drop est déclenché sur l'élément sur lequel le dépôt a été effectué à la fin de l'opération de glisser déposer. Un écouteur d'évènement devrait être responsable de la récupération des données sources du glisser-déposer et de leur insertion sur la zone de dépôt. Cet évènement ne sera déclenché que si le dépôt est désiré. Il ne sera pas déclenché si l'utilisateur annule ce dernier en pressant, par exemple, sur la touche \"Echap\" de son clavier ou si le bouton de la souris a été relâché alors que le curseur était au-dessus d'une zone pour laquelle le glisser-déposer n'était pas autorisé|\n",
    "\n",
    "\n",
    "Brython implémente une API basée sur la spécification du HTML5 pour le glisser-déposer. Dans la forme basique présentée dans cet exemple, elle consiste à définir des fonctions de rappel pour 3 événements :\n",
    "- ***dragstart*** sur l'élément déplaçable (quand l'utilisateur commence à le faire glisser)\n",
    "- ***dragover*** sur la zone de destination (quand l'objet déplacé se positionne dessus)\n",
    "- ***drop*** sur la zone de destination (quand l'utilisateur relâche le bouton de la souris) \n",
    "\n",
    "Pour attacher une fonction rappel à un evenement sur un element, on utilise la méthode element.bind(evenement,rappel)\n",
    "\n",
    "Les fonctions de rappel prennent un seul argument, une instance de DOMEvent. Pour communiquer des informations pendant l'opération de glisser-déposer, cette instance possède un attribut data qui reçoit une valeur dans la fonction de rappel associée à dragstart ; cette valeur est exploitée par la fonction de rappel associée à drop pour identifier l'élement qui est en train d'être déposé.\n",
    "\n",
    "Dans l'exemple, quand l'objet déplaçable a été déposé, on ne peut plus le déplacer ; pour cela, nous supprimons les fonctions associées à un evenement sur cet objet par la méthode ***element.unbind(evenement)***.\n",
    "\n",
    "\n",
    "Exemple:  \n",
    "```python\n",
    "from browser import document\n",
    "\n",
    "panel = document[\"panel\"] # zone jaune\n",
    "\n",
    "source = document[\"source\"] # zone rouge\n",
    "# on la place à (10, 10) du bord supérieur gauche du panel\n",
    "source.style.top = \"{}px\".format(10 + panel.abs_top)\n",
    "source.style.left = \"{}px\".format(10 + panel.abs_left)\n",
    "# rend la zone rouge déplaçable\n",
    "source.draggable = True\n",
    "\n",
    "dest = document[\"dest\"] # zone verte\n",
    "# on la place à (10, 150) du bord supérieur gauche du panel\n",
    "dest.style.top = \"{}px\".format(10 + panel.abs_top)\n",
    "dest.style.left = \"{}px\".format(150 + panel.abs_left)\n",
    "\n",
    "# coordonnées de la souris relativement au bord supérieur gauche de l'objet\n",
    "# déplacé quand le glissement commence\n",
    "m0 = [None, None]\n",
    "\n",
    "def mouseover(ev):\n",
    "    \"\"\"Quand la souris passe sur l'objet déplaçable, changer le curseur.\"\"\"\n",
    "    print(\"voilà la souris !\")\n",
    "    ev.target.style.cursor = \"pointer\"\n",
    "\n",
    "source.bind(\"mouseover\", mouseover)\n",
    "\n",
    "def dragstart(ev):\n",
    "    \"\"\"Fonction appelée quand l'utilisateur commence à déplacer l'objet.\"\"\"\n",
    "    global m0\n",
    "    # calcul des coordonnées de la souris\n",
    "    # ev.x et ev.y sont les coordonnées de la souris quand l'événement est déclenché\n",
    "    # ev.target est l'objet déplacé. Ses attributs \"left\" et \"top\" sont des entiers,\n",
    "    # la distance par rapport aux bords gauche et supérieur du document\n",
    "    m0 = [ev.x - ev.target.left, ev.y - ev.target.top]\n",
    "    # associer une donnée au processus de glissement\n",
    "    ev.dataTransfer.setData(\"text\", ev.target.id)\n",
    "    # permet à l'object d'être déplacé dans l'objet destination\n",
    "    ev.dataTransfer.effectAllowed = \"move\"\n",
    "\n",
    "source.bind(\"dragstart\", dragstart)\n",
    "\n",
    "def dragover(ev):\n",
    "    \"\"\"Fonction appelée quand l'objet déplaçable vient au-dessus de la zone de\n",
    "    destination.\n",
    "    \"\"\"\n",
    "    ev.dataTransfer.dropEffect = \"move\"\n",
    "    # il faut désactiver le comportement par défaut pour ce genre d'événement\n",
    "    ev.preventDefault()\n",
    "\n",
    "dest.bind(\"dragover\", dragover)\n",
    "\n",
    "def drop(ev):\n",
    "    \"\"\"Fonction attachée à la zone de destination.\n",
    "    Elle définit ce qui se passe quand l'objet est déposé, c'est-à-dire quand \n",
    "    l'utilisateur relâche la souris alors que l'objet est au-dessus de la zone.\n",
    "    \"\"\"\n",
    "    # récupère les données stockées dans drag_start (l'id de l'objet déplacé)\n",
    "    src_id = ev.dataTransfer.getData(\"text\")\n",
    "    elt = document[src_id]\n",
    "    # définit les nouvelles coordonnées de l'objet déplacé\n",
    "    elt.style.left = \"{}px\".format(ev.x - m0[0])\n",
    "    elt.style.top = \"{}px\".format(ev.y - m0[1])\n",
    "    # ne plus déplacer l'objet\n",
    "    elt.draggable = False\n",
    "    # enlever la fonction associée à mouseover\n",
    "    elt.unbind(\"mouseover\")\n",
    "    elt.style.cursor = \"auto\"\n",
    "    ev.preventDefault()\n",
    "\n",
    "dest.bind(\"drop\", drop)\n",
    "```"
   ]
  },
  {
   "cell_type": "code",
   "execution_count": null,
   "metadata": {},
   "outputs": [],
   "source": []
  },
  {
   "cell_type": "markdown",
   "metadata": {},
   "source": [
    "# Exercices"
   ]
  },
  {
   "cell_type": "markdown",
   "metadata": {
    "solution2": "hidden",
    "solution2_first": true
   },
   "source": [
    "## Calculer votre IMC\n",
    "\n",
    "Nous traiterons des échanges client serveur dans une prochaine leçon avec flask pour programmer en python coté serveur.\n",
    "\n",
    "On imagine une page html qui vous demande votre *masse*, votre *taille* en cm dans deux champs de données et lorsqu'on click sur bouton on obtienne notre *icm*.  \n",
    "Dans un deuxième temps vérifiez que les données des champs *taille* et *masse* soient des nombres positifs.\n",
    "\n",
    "Je rappelle que la formule pour calculer l'IMC est $$IMC=\\dfrac{\\text{Masse en kg}}{\\text{Taille en m}}$$\n",
    "\n",
    "Voici la page html, je vous laisse compléter le script\n",
    "\n",
    "```html\n",
    "<html>\n",
    "<head>\n",
    "<meta charset=\"utf-8\" />\n",
    "<script type=\"text/javascript\" src=\"brython.js\"></script>\n",
    "<title>calcule IMC</title>\n",
    "</head>\n",
    "<body onLoad=\"brython()\">\n",
    "<h1>calcule IMC</h1>\n",
    "<div>\n",
    "<p>Entrer votre poids en kg: <input type=\"text\" id=\"masse\" /></p>\n",
    "<p>Entrer votre taille en cm: <input type=\"text\" id=\"taille\" /></p>\n",
    "<button id=\"calculer\">calculer</button>\n",
    "</div>\n",
    "<div>réponse: <label id=\"reponse\"></label></div>\n",
    "\n",
    "<script type=\"text/python\">\n",
    "from browser import document\n",
    "def calculImc():\n",
    "    IMC=..................\n",
    "    document[\"reponse\"].text = .................\n",
    "document[\"calculer\"].bind(\"click\", calculImc)\n",
    "</script>\n",
    "</body>\n",
    "</html>\n",
    "```\n",
    "\n"
   ]
  },
  {
   "cell_type": "markdown",
   "metadata": {
    "solution2": "hidden"
   },
   "source": [
    "```python\n",
    "def calculImc():\n",
    "    m=float(doc[\"masse\"].value)\n",
    "    t=float(doc[\"taille\"].value)/100\n",
    "    # On divise par 100 pour transformer en m.\n",
    "    imc=m/(t**2)\n",
    "    doc[\"reponse\"].text = \"IMC = {:.2f}   \".format(imc)\n",
    "```"
   ]
  },
  {
   "cell_type": "markdown",
   "metadata": {},
   "source": [
    "## Afficher les dimensions de l'ecran\n",
    "\n",
    "Créer une page html qui affiche les dimensions de l'ecran.\n",
    "\n",
    "On fera une recherche sur internet avec les mots clés:  dimension ecran javascript"
   ]
  },
  {
   "cell_type": "code",
   "execution_count": null,
   "metadata": {},
   "outputs": [],
   "source": []
  },
  {
   "cell_type": "markdown",
   "metadata": {},
   "source": [
    "## Savoir si le navigateur est un mobile.\n",
    "\n",
    "Créer une fonction qui retourne ***True***   si votre êtes sur un mobile,  ***False***  sinon. \n",
    "\n",
    "\n",
    "Après une petite recherche sur internet avec le mot cle ***mobile ou pc en javascript***  j'obtiens:\n",
    "\n",
    "\n",
    "```javascript\n",
    "if (navigator.userAgent.match(/(android|iphone|blackberry|symbian|symbianos|symbos|netfront|model-orange|javaplatform|iemobile|windows phone|samsung|htc|opera mobile|opera mobi|opera mini|presto|huawei|blazer|bolt|doris|fennec|gobrowser|iris|maemo browser|mib|cldc|minimo|semc-browser|skyfire|teashark|teleca|uzard|uzardweb|meego|nokia|bb10|playbook)/gi)) {\n",
    "    alert('mobile');\n",
    "} else {\n",
    "    alert('none');\n",
    "}\n",
    "```\n",
    "\n",
    "Donc c'est avec ***navigator.userAgent*** que l'on obtient les informations necessaires.   \n",
    "Pour connaitre votre ***useragent***  regarder le site [navigator.userAgent](http://www.useragentstring.com/)\n",
    "Sous Brython on utilisera donc ***window.navigator.userAgent***  pour déterminer son userAgent."
   ]
  },
  {
   "cell_type": "markdown",
   "metadata": {
    "solution2": "hidden",
    "solution2_first": true
   },
   "source": [
    "Début de réponse. (Avec une liste)\n",
    "\n",
    "```python\n",
    "from browser  import window\n",
    "Agent=window.navigator.userAgent\n",
    "Liste_mobile=['Phone','iPod','Android','opera mini','blackberry','palm os','palm','hiptop','avantgo','plucker','xiino','blazer','elaine','iris','3g_t','windows ce','opera mobi','windows ce; smartphone;','windows ce']\n",
    "def ismobile():\n",
    "    ..................................\n",
    "```"
   ]
  },
  {
   "cell_type": "markdown",
   "metadata": {
    "solution2": "hidden"
   },
   "source": [
    "```python\n",
    "from browser  import window\n",
    "\n",
    "def ismobile():\n",
    "    Agent=window.navigator.userAgent\n",
    "    Liste_mobile=['Phone','iPod','Android','opera mini','blackberry','palm os','palm','hiptop','avantgo','plucker','xiino','blazer','elaine','iris','3g_t','windows ce','opera mobi','windows ce; smartphone;','windows ce']\n",
    "    if sum([i in Agent for i in Liste_mobile ]) == 0:\n",
    "        return False\n",
    "    else:\n",
    "        return True\n",
    "```"
   ]
  },
  {
   "cell_type": "code",
   "execution_count": null,
   "metadata": {
    "solution2": "hidden",
    "solution2_first": true
   },
   "outputs": [],
   "source": [
    "%%brython  -c zone3\n",
    "from browser  import window, alert, document,html\n",
    "\n",
    "def ismobile():\n",
    "    Agent=window.navigator.userAgent\n",
    "    Liste_Agent=['android', 'iphone', 'blackberry', 'symbian', 'symbianos', 'symbos', 'netfront', 'modelorange', 'javaplatform', 'iemobile', 'windows phone', 'samsung', 'htc', 'opera mobile', 'opera mobi', 'opera mini', 'presto', 'huawei', 'blazer', 'bolt', 'doris', 'fennec', 'gobrowser', 'iris', 'maemo browser', 'mib', 'cldc', 'minimo', 'semc-browser', 'skyfire', 'teashark', 'teleca', 'uzard', 'uzardweb', 'meego', 'nokia', 'bb10', 'playbook']\n",
    "    #Android|webOS|iPhone|iPad|iPod|BlackBerry|IEMobile|Opera Mini\n",
    "    if sum([i in Agent for i in Liste_Agent ]) == 0:\n",
    "        return False\n",
    "    else:\n",
    "        return True\n",
    "if ismobile():\n",
    "    document['zone3'] <=\"mobile\"\n",
    "else:\n",
    "    document['zone3'] <=\"pc\""
   ]
  },
  {
   "cell_type": "code",
   "execution_count": null,
   "metadata": {},
   "outputs": [],
   "source": [
    "%%brython -c  zone\n",
    "# First of all, the import of some libraries\n",
    "from browser import document, html\n",
    "\n",
    "# All the elements will be inserted in the div with the \"zone\" id\n",
    "zone = document['zone']\n",
    "\n",
    "# We create a new div element\n",
    "newdiv = html.DIV(Id = \"new-div\")\n",
    "# Now we add some style\n",
    "newdiv.style = {\"padding\": \"5px\", \"backgroundColor\": \"#ADD8E6\"}\n",
    "\n",
    "# We create a new link and add the link to a string\n",
    "blink = html.A('brython',href=\"http://brython.info\")\n",
    "text = \"Brython is really cool, look at \"+ blink + \" for more\"\n",
    "\n",
    "# Now we add the text to the div with id=\"new-div\"\n",
    "newdiv <= html.DIV(text)\n",
    "\n",
    "# Finally, we add the newdiv to the outer div with id=\"zone\"\n",
    "zone <= newdiv"
   ]
  },
  {
   "cell_type": "markdown",
   "metadata": {},
   "source": [
    "http://pyschool.net/"
   ]
  },
  {
   "cell_type": "code",
   "execution_count": null,
   "metadata": {},
   "outputs": [],
   "source": [
    "codehtml2='''\n",
    "<div id=\"panel\"  style=\"position: relative ;width:500px;height:150px;top=0px;background-color:yellow; z-index: 1;\" >\n",
    "<div id=\"dest\" style=\"position: absolute; z-index: 2; width: 180px; height: 80px; background-color: green;\n",
    "color: white; top: 50px; left: 300px;\">\n",
    "zone de destination \n",
    "</div>\n",
    "<div id=\"source\" style=\"position: absolute; width:80px;z-index: 3; height: 40px; background-color: red; \n",
    "top: 10px; left: 10px; cursor: pointer;\" draggable=\"true\">\n",
    "objet déplaçable \n",
    "</div>\n",
    "</div>\n",
    "'''"
   ]
  },
  {
   "cell_type": "code",
   "execution_count": null,
   "metadata": {},
   "outputs": [],
   "source": [
    "%%brython -c html3 -h codehtml2\n",
    "\n",
    "from browser import document, alert\n",
    "\n",
    "panel = document[\"panel\"] # zone jaune\n",
    "\n",
    "source = document[\"source\"] # zone rouge\n",
    "# on la place à (10, 10) du bord supérieur gauche du panel\n",
    "source.style.top = \"{}px\".format(10) # + panel.abs_top)\n",
    "source.style.left = \"{}px\".format(10)# + panel.abs_left)\n",
    "# rend la zone rouge déplaçable\n",
    "source.draggable = True\n",
    "\n",
    "dest = document[\"dest\"] # zone verte\n",
    "# on la place à (10, 150) du bord supérieur gauche du panel\n",
    "dest.style.top = \"{}px\".format(10) # + panel.abs_top)\n",
    "dest.style.left = \"{}px\".format(150) # + panel.abs_left)\n",
    "\n",
    "# coordonnées de la souris relativement au bord supérieur gauche de l'objet\n",
    "# déplacé quand le glissement commence\n",
    "m0 = [None, None]\n",
    "\n",
    "def mouseover(ev):\n",
    "    \"\"\"Quand la souris passe sur l'objet déplaçable, changer le curseur.\"\"\"\n",
    "    print(\"voilà la souris !\")\n",
    "    ev.target.style.cursor = \"pointer\"\n",
    "\n",
    "source.bind(\"mouseover\", mouseover)\n",
    "\n",
    "def dragstart(ev):\n",
    "    \"\"\"Fonction appelée quand l'utilisateur commence à déplacer l'objet.\"\"\"\n",
    "    global m0\n",
    "    # calcul des coordonnées de la souris\n",
    "    # ev.x et ev.y sont les coordonnées de la souris quand l'événement est déclenché\n",
    "    # ev.target est l'objet déplacé. Ses attributs \"left\" et \"top\" sont des entiers,\n",
    "    # la distance par rapport aux bords gauche et supérieur du document\n",
    "    m0 = [ev.x - ev.target.left, ev.y - ev.target.top]\n",
    "    # associer une donnée au processus de glissement\n",
    "    ev.dataTransfer.setData(\"text\", ev.target.id)\n",
    "    # permet à l'object d'être déplacé dans l'objet destination\n",
    "    ev.dataTransfer.effectAllowed = \"move\"\n",
    "\n",
    "source.bind(\"dragstart\", dragstart)\n",
    "\n",
    "def dragover(ev):\n",
    "    \"\"\"Fonction appelée quand l'objet déplaçable vient au-dessus de la zone de\n",
    "    destination.\n",
    "    \"\"\"\n",
    "    ev.dataTransfer.dropEffect = \"move\"\n",
    "    # il faut désactiver le comportement par défaut pour ce genre d'événement\n",
    "    ev.preventDefault()\n",
    "\n",
    "dest.bind(\"dragover\", dragover)\n",
    "\n",
    "def drop(ev):\n",
    "    \"\"\"Fonction attachée à la zone de destination.\n",
    "    Elle définit ce qui se passe quand l'objet est déposé, c'est-à-dire\n",
    "    quand l'utilisateur relâche la souris alors que l'objet est au-dessus de\n",
    "    la zone.\n",
    "    \"\"\"\n",
    "    # récupère les données stockées dans drag_start (l'id de l'objet déplacé)\n",
    "    src_id = ev.dataTransfer.getData(\"text\")\n",
    "    elt = document[src_id]\n",
    "    # définit les nouvelles coordonnées de l'objet déplacé\n",
    "    elt.style.left = \"{}px\".format(ev.x - m0[0])\n",
    "    elt.style.top = \"{}px\".format(ev.y - m0[1])\n",
    "    # ne plus déplacer l'objet\n",
    "    elt.draggable = False\n",
    "    # enlever la fonction associée à mouseover\n",
    "    elt.unbind(\"mouseover\")\n",
    "    elt.style.cursor = \"auto\"\n",
    "    ev.preventDefault()\n",
    "\n",
    "\n",
    "    dest.bind(\"drop\", drop)"
   ]
  },
  {
   "cell_type": "code",
   "execution_count": null,
   "metadata": {},
   "outputs": [],
   "source": [
    "%%html\n",
    "<div id=\"recjaune\"  style=\"position: relative ;width:500px;height:150px;top=0px;background-color:yellow; z-index: 1;\" >\n",
    "<div id=\"recvert\" style=\"position: absolute; z-index: 2; width: 180px; height: 80px; background-color: green;\\\n",
    "color: white; top: 50px; left: 300px;\">\n",
    "zone de destination \n",
    "</div>\n",
    "<div id=\"rectrouge\" style=\"position: absolute; width:80px;z-index: 3; height: 40px; background-color: red; \n",
    "top: 10px; left: 10px; cursor: pointer;\" draggable=\"true\">\n",
    "objet déplaçable \n",
    "</div>\n",
    "</div>"
   ]
  },
  {
   "cell_type": "code",
   "execution_count": null,
   "metadata": {},
   "outputs": [],
   "source": []
  }
 ],
 "metadata": {
  "_draft": {
   "nbviewer_url": "https://gist.github.com/31f0c16000529e8a48628b544dd3facf"
  },
  "gist": {
   "data": {
    "description": "Brython.ipynb",
    "public": true
   },
   "id": "31f0c16000529e8a48628b544dd3facf"
  },
  "kernelspec": {
   "display_name": "Python 3",
   "language": "python",
   "name": "python3"
  },
  "language_info": {
   "codemirror_mode": {
    "name": "ipython",
    "version": 3
   },
   "file_extension": ".py",
   "mimetype": "text/x-python",
   "name": "python",
   "nbconvert_exporter": "python",
   "pygments_lexer": "ipython3",
   "version": "3.6.6"
  },
  "latex_envs": {
   "LaTeX_envs_menu_present": true,
   "autocomplete": true,
   "bibliofile": "biblio.bib",
   "cite_by": "apalike",
   "current_citInitial": 1,
   "eqLabelWithNumbers": true,
   "eqNumInitial": 1,
   "hotkeys": {
    "equation": "Ctrl-E",
    "itemize": "Ctrl-I"
   },
   "labels_anchors": false,
   "latex_user_defs": false,
   "report_style_numbering": false,
   "user_envs_cfg": false
  },
  "toc": {
   "colors": {
    "hover_highlight": "#DAA520",
    "navigate_num": "#000000",
    "navigate_text": "#333333",
    "running_highlight": "#FF0000",
    "selected_highlight": "#FFD700",
    "sidebar_border": "#EEEEEE",
    "wrapper_background": "#FFFFFF"
   },
   "moveMenuLeft": true,
   "nav_menu": {
    "height": "229px",
    "width": "252px"
   },
   "navigate_menu": true,
   "number_sections": true,
   "sideBar": false,
   "threshold": 4,
   "toc_cell": false,
   "toc_position": {
    "height": "346px",
    "left": "1px",
    "right": "1516px",
    "top": "107px",
    "width": "247px"
   },
   "toc_section_display": "block",
   "toc_window_display": false,
   "widenNotebook": false
  }
 },
 "nbformat": 4,
 "nbformat_minor": 2
}
