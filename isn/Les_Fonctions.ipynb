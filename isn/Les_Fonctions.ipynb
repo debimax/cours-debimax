{
 "cells": [
  {
   "cell_type": "code",
   "execution_count": 6,
   "metadata": {},
   "outputs": [
    {
     "data": {
      "application/javascript": [
       "IPython.Cell.options_default.cm_config.lineNumbers = true"
      ],
      "text/plain": [
       "<IPython.core.display.Javascript object>"
      ]
     },
     "metadata": {},
     "output_type": "display_data"
    }
   ],
   "source": [
    "%%javascript\n",
    "IPython.Cell.options_default.cm_config.lineNumbers = true"
   ]
  },
  {
   "cell_type": "code",
   "execution_count": 7,
   "metadata": {},
   "outputs": [
    {
     "data": {
      "text/html": [
       "<style>\n",
       "/* Pour le titre comme cela il n'y a pas de numérotation au */\n",
       "#titre{\n",
       "font-size: 24pt; \n",
       "color:#ff0000;\n",
       "text-decoration: underline;\n",
       "text-align: center;\n",
       "font-weight: bold;\n",
       "}\n",
       "\n",
       "div.text_cell_render { font-size: 12pt;   line-height: 145%; }\n",
       "div.text_cell_render h1{font-size: 24pt; color:#0000ff;  text-decoration: underline;}\n",
       "div.text_cell_render h2{font-size: 18pt;color:#0000ff;  text-decoration: underline;}\n",
       "div.text_cell_render h3{font-size: 14pt;color:#0000ff;  text-decoration: underline;}\n",
       "div.text_cell_render h4{font-size: 12pt;color:#0000ff;  text-decoration: underline; }\n",
       "div.text_cell_render h5 {font-weight: 300;}\n",
       "\n",
       "\n",
       "div.cell.code_cell { /* area that contains code + output */\n",
       "    background: #ffffff;\n",
       "    border: none;\n",
       "    border-radius: 10px;\n",
       "    padding-top: 1ex;\n",
       "}\n",
       "\n",
       "div.input_area { /* box around box with code */\n",
       "    border: none;\n",
       "    background: #f5f5f5;\n",
       "    border: 1px solid #ccc;\n",
       "    border-radius: 10px;\n",
       "    padding-top: 0.5ex;\n",
       "    padding-bottom: 0.5ex;\n",
       "    padding-left: 0.5em;\n",
       "}\n",
       "\n",
       "div.input { /* box with code */\n",
       "}\n",
       "\n",
       "div.CodeMirror { /* code font */\n",
       "    font-family: \"Inconsolata-dz\", monospace;\n",
       "    font-size: 10pt;\n",
       "}\n",
       "\n",
       "\n",
       "\n",
       "\n",
       "\n",
       "/*div.text_cell_render  code { font-size: medium; border: 3px #ababab solid; background-color: #f5f5f5;}*/\n",
       "/*.rendered_html code { border: 3px #ababab solid; background-color:  #f5f5f5;}*/\n",
       ".rendered_html blockquote { margin: 1em 2em; background: red; }\n",
       ".rendered_html ol { list-style:decimal; margin: 1em 2em; }\n",
       "\n",
       "\n",
       "/* classe pour inverse video */\n",
       ".reverse{\n",
       "    background-color: black;\n",
       "    color: white;\n",
       "}\n",
       "/*  strick   <s>texte/<s>*/\n",
       ".barre{\n",
       "\n",
       "}\n",
       "\n",
       "\n",
       "</style>"
      ],
      "text/plain": [
       "<IPython.core.display.HTML object>"
      ]
     },
     "execution_count": 7,
     "metadata": {},
     "output_type": "execute_result"
    }
   ],
   "source": [
    "# Charge ma feuille de style pour nbviewer\n",
    "from IPython.core.display import display, HTML\n",
    "from  urllib.request import urlopen\n",
    "# import urllib.request, urllib.parse, urllib.error\n",
    "\n",
    "url='https://github.com/debimax/cours-debimax/raw/master/static/custom.css'\n",
    "with urlopen(url) as response:\n",
    "    styles = response.read().decode(\"utf8\")\n",
    "styles=\"<style>\\n{}\\n</style>\".format(styles)\n",
    "HTML(styles)"
   ]
  },
  {
   "cell_type": "markdown",
   "metadata": {},
   "source": [
    "<div id=\"titre\">Les fonctions</div>\n",
    "    \n",
    "[Ref](http://apprendre-python.com/page-apprendre-creer-fonction-en-python)\n",
    "\n",
    "Une ***fonction*** (ou ***function*** ) est une *suite d'instructions* que l'on peut appeler avec un nom.\n",
    "\n",
    "# Créer ma première fonction\n",
    "\n",
    "Créons une fonction qui nous retournera un âge:"
   ]
  },
  {
   "cell_type": "code",
   "execution_count": null,
   "metadata": {},
   "outputs": [],
   "source": [
    "def indique_mon_age():\n",
    "    return 18\n",
    "indique_mon_age()"
   ]
  },
  {
   "cell_type": "markdown",
   "metadata": {},
   "source": [
    "Tout d'abord pour indiquer à l'interpréteur que vous voulez créer une fonction , on utiliser le mot clé ***def*** suivi d'un ***nom*** puis de ***parenthèses*** et ensuite d'un ***double point***.\n",
    "\n",
    "On remarque également qu'il y a une tabulation  ou plusieurs (4) espaces entre le début de la ligne et le mot clé \"***return***\", il s'agit d'une ***indentation***, c'est à dire un espace qui améliore non seulement la lecture de la fonction mais qui indique que nous sommes toujours dans la fonction.   \n",
    "Lorsque l'action demandée n'est plus dans la fonction, il ne faut plus indenter le texte. Pour indenter du texte, vous devez appuyer sur la touche TAB de votre clavier ou dans d'autres cas créer 4 espaces manuellement.\n",
    "\n",
    "# Les paramètres\n",
    "\n",
    "Créons une autre fonction:"
   ]
  },
  {
   "cell_type": "code",
   "execution_count": null,
   "metadata": {},
   "outputs": [],
   "source": [
    "def augmente_moi(a):\n",
    "    return a + 2\n",
    "print(augmente_moi(1))"
   ]
  },
  {
   "cell_type": "markdown",
   "metadata": {},
   "source": [
    "Cette fonction incrémente de 2 une valeur que l'on passe en paramètre.\n",
    "\n",
    "Il est d'ailleurs possible d'utiliser plusieurs paramètres:"
   ]
  },
  {
   "cell_type": "code",
   "execution_count": null,
   "metadata": {},
   "outputs": [],
   "source": [
    "def augmente_moi(a, b):\n",
    "    return 30 + a + b\n",
    "print(augmente_moi(1, 2))"
   ]
  },
  {
   "cell_type": "markdown",
   "metadata": {},
   "source": [
    "Si vous avez compris les principes des fonctions, vous avez compris 80% de ce qu'est la programmation.\n",
    "\n",
    "## Un paramètre est obligatoire\n",
    "\n",
    "Lorsque vous indiquez des paramètres à une fonction, ces dernièrs doivent impérativement être renseignés sans quoi une erreur apparaitra."
   ]
  },
  {
   "cell_type": "code",
   "execution_count": null,
   "metadata": {},
   "outputs": [],
   "source": [
    "def augmente_moi(a, b):\n",
    "    return 30 + a + b\n",
    "augmente_moi(1)"
   ]
  },
  {
   "cell_type": "markdown",
   "metadata": {},
   "source": [
    "## L'opérateur splat\n",
    "\n",
    "L'opérateur splat : `*` est très souvent utilisé en python.\n",
    "\n",
    "```python\n",
    "def ma_function(*var)\n",
    "def ma_function(**var)\n",
    "ma_function(*var)\n",
    "ma_function(**var)\n",
    "```\n",
    "\n",
    "###  Une liste en paramètre\n",
    "\n",
    "On peut récupérer les valeurs renseignées via une liste:"
   ]
  },
  {
   "cell_type": "code",
   "execution_count": null,
   "metadata": {},
   "outputs": [],
   "source": [
    "def augmente_moi(*param):\n",
    "    return param[0] + param[1] + param[2]\n",
    "print(augmente_moi(1, 2, 3))\n",
    "print(augmente_moi(10, 20, 30))"
   ]
  },
  {
   "cell_type": "markdown",
   "metadata": {},
   "source": [
    "### Rendre obligatoire certains paramètres avec une liste\n",
    "\n",
    "Si vous désirez rendre obligatoire uniquement certains paramètres, vous pouvez utiliser la syntaxe suivante:"
   ]
  },
  {
   "cell_type": "code",
   "execution_count": 4,
   "metadata": {},
   "outputs": [
    {
     "data": {
      "text/plain": [
       "'michel platini'"
      ]
     },
     "execution_count": 4,
     "metadata": {},
     "output_type": "execute_result"
    }
   ],
   "source": [
    "def ma_fiche(prenom, nom, *reste):\n",
    "    return prenom + \" \" + nom \n",
    "ma_fiche(\"michel\",\"platini\",\"rrr\")"
   ]
  },
  {
   "cell_type": "markdown",
   "metadata": {},
   "source": [
    "On remarque que le paramètres \" reste \" est précédé d'une étoile * .\n",
    "\n",
    "### Utiliser un dictionnaire pour les paramètres\n",
    "\n",
    "Vous pouvez utiliser un dictionnaire en paramètres pour cela vous devez ajouter une double étoile: **"
   ]
  },
  {
   "cell_type": "code",
   "execution_count": null,
   "metadata": {},
   "outputs": [],
   "source": [
    " def ma_fiche(**parametres):\n",
    "        return parametres[\"prenom\"]\n",
    "ma_fiche(prenom=\"olivier\")"
   ]
  },
  {
   "cell_type": "markdown",
   "metadata": {},
   "source": [
    "### Utilisation de splat liste au niveau des appels de fonctions\n",
    "\n",
    "Reprennons l'exemple de la fonction augmente_moi :"
   ]
  },
  {
   "cell_type": "code",
   "execution_count": null,
   "metadata": {},
   "outputs": [],
   "source": [
    "def augmente_moi(*param):\n",
    "    return param[0] + param[1] + param[2]\n",
    "print(augmente_moi(1, 2, 3))"
   ]
  },
  {
   "cell_type": "markdown",
   "metadata": {},
   "source": [
    "L'utilisation de l'étoile permet de passer par une liste:"
   ]
  },
  {
   "cell_type": "code",
   "execution_count": null,
   "metadata": {},
   "outputs": [],
   "source": [
    "data = [1, 2, 3]\n",
    "augmente_moi(*data)"
   ]
  },
  {
   "cell_type": "markdown",
   "metadata": {},
   "source": [
    "Utilisation de splat dictionnaire au niveau des appels de fonctions\n",
    "Prénons l'exemple de cette fonction:"
   ]
  },
  {
   "cell_type": "code",
   "execution_count": null,
   "metadata": {},
   "outputs": [],
   "source": [
    "def test(firstname=\"\", lastname=\"\"):\n",
    "    return \"{} {}\" .format(firstname, lastname)\n",
    "#Créons notre dictionnaire:\n",
    "data = {'firstname':'olivier', 'lastname':'engel'}\n",
    "# Testons notre variable avec une étoile *\n",
    "print(test(*data))\n",
    "# Puis avec deux étoiles **\n",
    "print(test(**data))"
   ]
  },
  {
   "cell_type": "markdown",
   "metadata": {},
   "source": [
    "# Portée des variables (variable globale et variable locale)\n",
    "\n",
    "Une variable déclarée à la racine d'un module est visible dans tout ce module. On parle alors de ***variable globale***."
   ]
  },
  {
   "cell_type": "code",
   "execution_count": null,
   "metadata": {},
   "outputs": [],
   "source": [
    "x = \"hello\"\n",
    "def test():\n",
    "    print(x)\n",
    "test()"
   ]
  },
  {
   "cell_type": "markdown",
   "metadata": {},
   "source": [
    "Et une variable déclarée dans une fonction ne sera visible que dans cette fonction.  \n",
    "On parle alors de ***variable locale*** ."
   ]
  },
  {
   "cell_type": "code",
   "execution_count": null,
   "metadata": {},
   "outputs": [],
   "source": [
    "x = False\n",
    "def test():\n",
    "    x = \"hello\"\n",
    "    print(x)\n",
    "test()\n",
    "print(x)"
   ]
  },
  {
   "cell_type": "markdown",
   "metadata": {},
   "source": [
    "# Procédure et fonctions\n",
    "\n",
    "Pour votre culture informatique sachez qu'une fonction n'est pas obligée de renvoyer une valeur , on parlera alors dans ce cas plutôt de ***procédure*** ."
   ]
  },
  {
   "cell_type": "markdown",
   "metadata": {},
   "source": [
    "## Pour aller plus loin: la fonction lambda\n",
    "\n",
    "\n",
    "Une fonction ***lambda***  (fonction anonyme) est une fonction n'ayant pas de nom. \n",
    "\n",
    "Prenons un exemple avec la fonction carré."
   ]
  },
  {
   "cell_type": "code",
   "execution_count": null,
   "metadata": {},
   "outputs": [],
   "source": [
    "def f(x):\n",
    "    return x*2\n",
    "print(f(3))\n",
    "\n",
    "g = lambda x: x*2  # 1\n",
    "print(g(3))\n",
    "\n",
    "\n",
    "print((lambda x: x*2)(3)) # 2"
   ]
  },
  {
   "cell_type": "markdown",
   "metadata": {},
   "source": [
    "\\#1  et \\#2  sont des fonctions lambda.\n",
    "\n",
    "Il est possible d'avoir des conditions ***if ...  then ... else ***."
   ]
  },
  {
   "cell_type": "code",
   "execution_count": null,
   "metadata": {},
   "outputs": [],
   "source": [
    "majorite = lambda x : print(\"mineur\") if x < 18 else print(\"majeur\")\n",
    "majorite(17)\n",
    "majorite(18)"
   ]
  },
  {
   "cell_type": "markdown",
   "metadata": {},
   "source": [
    "ou si on préfère sous cette forme."
   ]
  },
  {
   "cell_type": "code",
   "execution_count": null,
   "metadata": {},
   "outputs": [],
   "source": [
    "majorite = lambda x :  \"mineur\" if x < 18 else  \"majeur\"\n",
    "print(majorite(17))\n",
    "print(majorite(18))"
   ]
  },
  {
   "cell_type": "markdown",
   "metadata": {},
   "source": [
    "Pour définir une suite définie par récurence on peut aussi utiliser les fonctions ***lambda*** "
   ]
  },
  {
   "cell_type": "code",
   "execution_count": null,
   "metadata": {},
   "outputs": [],
   "source": [
    "u = lambda n:  1 if n<=0 else   1.2*u(n-1)-0.19\n",
    "print(u(7))"
   ]
  },
  {
   "cell_type": "markdown",
   "metadata": {},
   "source": [
    "## Exercices"
   ]
  },
  {
   "cell_type": "markdown",
   "metadata": {},
   "source": [
    "**Exercice 1**: Écrire la fonction ***EstPair(n)*** qui renvoie ***True*** si le nombre $n$ est un nombre pair,  ***False***  sinon.\n",
    "\n",
    "Remarque: Si n n'est pas un entier,  votre fonction doit retourner ***False***."
   ]
  },
  {
   "cell_type": "code",
   "execution_count": null,
   "metadata": {},
   "outputs": [],
   "source": []
  },
  {
   "cell_type": "markdown",
   "metadata": {},
   "source": [
    "**Exercice 2**: Écrire la fonction ***EstPremier(n)*** qui renvoie ***True*** si le nombre n est premier,  ***False***  sinon.\n",
    "\n",
    "Aide:  On pourra cherche sur internet avec le mot clé \"***crible d'erathostène***\""
   ]
  },
  {
   "cell_type": "code",
   "execution_count": null,
   "metadata": {},
   "outputs": [],
   "source": []
  },
  {
   "cell_type": "markdown",
   "metadata": {},
   "source": [
    "**Exercice 3**: Écrire la fonction ***FacteurPremier(n)*** qui renvoie la liste des facteurs premiers de n."
   ]
  },
  {
   "cell_type": "code",
   "execution_count": null,
   "metadata": {},
   "outputs": [],
   "source": []
  }
 ],
 "metadata": {
  "kernelspec": {
   "display_name": "Python 3",
   "language": "python",
   "name": "python3"
  },
  "language_info": {
   "codemirror_mode": {
    "name": "ipython",
    "version": 3
   },
   "file_extension": ".py",
   "mimetype": "text/x-python",
   "name": "python",
   "nbconvert_exporter": "python",
   "pygments_lexer": "ipython3",
   "version": "3.6.6"
  },
  "latex_envs": {
   "LaTeX_envs_menu_present": true,
   "autocomplete": true,
   "bibliofile": "biblio.bib",
   "cite_by": "apalike",
   "current_citInitial": 1,
   "eqLabelWithNumbers": true,
   "eqNumInitial": 1,
   "hotkeys": {
    "equation": "Ctrl-E",
    "itemize": "Ctrl-I"
   },
   "labels_anchors": false,
   "latex_user_defs": false,
   "report_style_numbering": false,
   "user_envs_cfg": false
  },
  "toc": {
   "colors": {
    "hover_highlight": "#DAA520",
    "navigate_num": "#000000",
    "navigate_text": "#333333",
    "running_highlight": "#FF0000",
    "selected_highlight": "#FFD700",
    "sidebar_border": "#EEEEEE",
    "wrapper_background": "#FFFFFF"
   },
   "moveMenuLeft": true,
   "nav_menu": {
    "height": "118px",
    "width": "252px"
   },
   "navigate_menu": true,
   "number_sections": true,
   "sideBar": true,
   "threshold": 4,
   "toc_cell": false,
   "toc_section_display": "block",
   "toc_window_display": false,
   "widenNotebook": false
  }
 },
 "nbformat": 4,
 "nbformat_minor": 2
}
