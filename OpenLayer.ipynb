{
 "cells": [
  {
   "cell_type": "code",
   "execution_count": 1,
   "metadata": {
    "collapsed": false
   },
   "outputs": [
    {
     "data": {
      "application/javascript": [
       "IPython.Cell.options_default.cm_config.lineNumbers = true"
      ],
      "text/plain": [
       "<IPython.core.display.Javascript object>"
      ]
     },
     "metadata": {},
     "output_type": "display_data"
    }
   ],
   "source": [
    "%%javascript\n",
    "IPython.Cell.options_default.cm_config.lineNumbers = true"
   ]
  },
  {
   "cell_type": "code",
   "execution_count": 1,
   "metadata": {
    "collapsed": false
   },
   "outputs": [
    {
     "data": {
      "text/html": [
       "<style>\n",
       "/* Pour le titre comme cela il n'y a pas de numérotation au */\n",
       "#titre{\n",
       "font-size: 24pt; \n",
       "color:#ff0000;\n",
       "text-decoration: underline;\n",
       "text-align: center;\n",
       "font-weight: bold;\n",
       "}\n",
       "\n",
       "div.text_cell_render { font-size: 12pt;   line-height: 145%; }\n",
       "div.text_cell_render h1{font-size: 24pt; color:#ff0000;  text-decoration: underline;}\n",
       "div.text_cell_render h2{font-size: 18pt;color:#0000ff;  text-decoration: underline;}\n",
       "div.text_cell_render h3{font-size: 14pt;color:#0000ff;  text-decoration: underline;}\n",
       "div.text_cell_render h4{font-size: 12pt;color:#0000ff;  text-decoration: underline; }\n",
       "div.text_cell_render h5 {font-weight: 300;}\n",
       "\n",
       "\n",
       "div.cell.code_cell { /* area that contains code + output */\n",
       "    background: #ffffff;\n",
       "    border: none;\n",
       "    border-radius: 10px;\n",
       "    padding-top: 1ex;\n",
       "}\n",
       "\n",
       "div.input_area { /* box around box with code */\n",
       "    border: none;\n",
       "    background: #f5f5f5;\n",
       "    border: 1px solid #ccc;\n",
       "    border-radius: 10px;\n",
       "    padding-top: 0.5ex;\n",
       "    padding-bottom: 0.5ex;\n",
       "    padding-left: 0.5em;\n",
       "}\n",
       "\n",
       "div.input { /* box with code */\n",
       "}\n",
       "\n",
       "div.CodeMirror { /* code font */\n",
       "    font-family: \"Inconsolata-dz\", monospace;\n",
       "    font-size: 10pt;\n",
       "}\n",
       "\n",
       "\n",
       "\n",
       "\n",
       "\n",
       "/*div.text_cell_render  code { font-size: medium; border: 3px #ababab solid; background-color: #f5f5f5;}*/\n",
       "/*.rendered_html code { border: 3px #ababab solid; background-color:  #f5f5f5;}*/\n",
       ".rendered_html blockquote { margin: 1em 2em; background: red; }\n",
       ".rendered_html ol { list-style:decimal; margin: 1em 2em; }\n",
       "\n",
       "\n",
       "/* classe pour inverse video */\n",
       ".reverse{\n",
       "    background-color: black;\n",
       "    color: white;\n",
       "}\n",
       "/*  strick   <s>texte/<s>*/\n",
       ".barre{\n",
       "\n",
       "}\n",
       "\n",
       "\n",
       "</style>"
      ],
      "text/plain": [
       "<IPython.core.display.HTML object>"
      ]
     },
     "execution_count": 1,
     "metadata": {},
     "output_type": "execute_result"
    }
   ],
   "source": [
    "# Charge ma feuille de style pour nbviewer\n",
    "from IPython.core.display import display, HTML\n",
    "from  urllib.request import urlopen\n",
    "# import urllib.request, urllib.parse, urllib.error\n",
    "\n",
    "url='https://github.com/debimax/cours-debimax/raw/master/static/custom.css'\n",
    "with urlopen(url) as response:\n",
    "    styles = response.read().decode(\"utf8\")\n",
    "styles=\"<style>\\n{}\\n</style>\".format(styles)\n",
    "HTML(styles)"
   ]
  },
  {
   "cell_type": "code",
   "execution_count": 19,
   "metadata": {
    "collapsed": false
   },
   "outputs": [
    {
     "name": "stdout",
     "output_type": "stream",
     "text": [
      "The brythonmagic extension is already loaded. To reload it, use:\n",
      "  %reload_ext brythonmagic\n"
     ]
    },
    {
     "data": {
      "application/javascript": [
       "\n",
       "    require(\n",
       "        [\n",
       "            \"https://openlayers.org/en/v4.1.1/build/ol.js\"\n",
       "        ], \n",
       "        function() {\n",
       "            console.log(\"Loaded js code from https://openlayers.org/en/v4.1.1/build/ol.js!\");\n",
       "        }\n",
       "    );    \n",
       "    "
      ],
      "text/plain": [
       "<IPython.core.display.Javascript object>"
      ]
     },
     "metadata": {},
     "output_type": "display_data"
    }
   ],
   "source": [
    "try:\n",
    "    %load_ext brythonmagic\n",
    "except:\n",
    "    !pip install brythonmagic\n",
    "    %load_ext brythonmagic\n",
    "from brythonmagic import load_js_lib\n",
    "load_js_lib(\"https://openlayers.org/en/v4.1.1/build/ol.js\")"
   ]
  },
  {
   "cell_type": "code",
   "execution_count": 18,
   "metadata": {
    "collapsed": false
   },
   "outputs": [
    {
     "data": {
      "application/javascript": [
       "\n",
       "    require(\n",
       "        [\n",
       "            \"http://brython.info/src/brython_dist.js\"\n",
       "        ], \n",
       "        function() {\n",
       "            console.log(\"Loaded js code from http://brython.info/src/brython_dist.js!\");\n",
       "        }\n",
       "    );    \n",
       "    "
      ],
      "text/plain": [
       "<IPython.core.display.Javascript object>"
      ]
     },
     "metadata": {},
     "output_type": "display_data"
    }
   ],
   "source": [
    "#from brythonmagic import load_brython_dev\n",
    "#load_brython_dev()\n",
    "from brythonmagic import load_brython_stable\n",
    "load_brython_stable()"
   ]
  },
  {
   "cell_type": "markdown",
   "metadata": {},
   "source": [
    "<p id=\"titre\"> OpenLayer avec brython.</p>\n",
    "\n",
    "[Reférence](http://nbviewer.jupyter.org/github/kikocorreoso/brythonmagic/blob/master/notebooks/OpenLayers%20%28python%29%20tutorial.ipynb)  \n",
    "[ExempleOL](http://jsfiddle.net/zo2La83r/)  \n",
    "[Mon exemple](http://jsfiddle.net/debimax/L94jcew0/10/)  \n",
    "\n",
    "\n",
    "# Fichier de base\n",
    "\n",
    "\n",
    "\n",
    "Dans ce TP, nous utiliserons Brython, pour accéder à la bibliothèque javascript ***OpenLayers*** et pour gérer les données à utiliser dans les cartes. \n"
   ]
  },
  {
   "cell_type": "markdown",
   "metadata": {},
   "source": [
    "\n",
    "## Qu'est-ce que OpenLayers?\n",
    "\n",
    "\n",
    "OpenLayers est une bibliothèque JavaScript open source côté client pour la création de ***cartes Web interactives*** , visible dans presque n'importe quel navigateur Web moderne.  \n",
    "Puisqu'il s'agit d'une bibliothèque ***côté client***, il ne nécessite aucun logiciel ou configuration spécial du côté serveur - vous pouvez l'utiliser sans même télécharger quoi que ce soit!\n",
    "\n",
    "Le site Web de OpenLayers se trouve à http://openlayers.org/ . \n",
    "\n",
    "\n",
    "\n",
    "Il existe deux plusieurs versions d'openlayer.  Nous utiliserons openlayer3 la dernière version.  \n",
    "Comme  ***OpenLayers est une bibliothèque JavaScript*** on doit coder en javascript  mais n'ayant pas le temps de vous aprendre javascript on utilisera ici ***brython*** que vous avez vu dans une leçon précédente et  qui permet de coder en python à la place de javascript.  \n",
    "Ce tp vous propose quelques bases."
   ]
  },
  {
   "cell_type": "markdown",
   "metadata": {},
   "source": [
    "### Un premier exemple.\n",
    "\n",
    "Compte tenu qu'internet peux nous faire faux bond au lycée si cela n'a pas été fait dans la leçon ***brython*** nous téléchargerons les fichiers nécessaires.\n",
    "\n",
    "- Créer un nouveau dossier que vous nomerez ***static***\n",
    "- Télécharger les fichiers suivant puis enregistrer les dans le dossier static.\n",
    "  - [http://www.brython.info/src/brython.js](http://www.brython.info/src/brython.js)\n",
    "  - [https://openlayers.org/en/v4.1.1/build/ol.js](https://openlayers.org/en/v4.1.1/build/ol.js)\n",
    "  - [https://openlayers.org/en/v4.1.1/css/ol.css](https://openlayers.org/en/v4.1.1/css/ol.css)\n",
    "  - [Le fichier de données 7day-M2.5.json](https://raw.githubusercontent.com/boundlessgeo/ol3-workshop/master/src/data/layers/7day-M2.5.json)\n",
    "\n",
    "Créez le fichier ***map1.html*** dans votre éditeur de texte (pyzo, geany, idle ...)\n",
    "\n",
    "\n",
    "\n",
    "```html\n",
    "<html>\n",
    "<head>\n",
    "  <meta charset=\"utf-8\" />\n",
    "  <script type=\"text/javascript\" src=\"static/brython.js\"></script>\n",
    "  <script type=\"text/javascript\" src=\"static/ol.js\"></script>\n",
    "  <link rel=\"stylesheet\" type=\"text/css\" href=\"static/ol.css\">\n",
    "  <style>\n",
    "    .map {\n",
    "    height: 400px;\n",
    "    width: 100%;\n",
    "    }\n",
    "  </style>\n",
    "</head>\n",
    "<body onload=\"brython(1)\">\n",
    "\n",
    "<div id=\"carte\" class=\"map\"></div>\n",
    "<script type=\"text/python\">\n",
    "from browser import window\n",
    "ol = window.ol\n",
    "src = ol.source.OSM.new()\n",
    "layer1 = ol.layer.Tile.new({'source': src})\n",
    "view = ol.View.new({\n",
    "        'center': ol.proj.fromLonLat([5.7626, 45.1734]), \n",
    "        'zoom': 17\n",
    "        })\n",
    "map = ol.Map.new({\n",
    "        'target': 'carte',\n",
    "        'layers': [layer1],\n",
    "        'view': view\n",
    "});\n",
    "    </script>\n",
    "</body>\n",
    "</html>\n",
    "```\n",
    "\n",
    "Il ne reste plus qu'à ouvrit ce fichier avec votre navigateur préféré."
   ]
  },
  {
   "cell_type": "markdown",
   "metadata": {},
   "source": []
  },
  {
   "cell_type": "markdown",
   "metadata": {},
   "source": [
    "Comme il s'agit simplement d'un tutoriel d'introduction, nous travaillerons principalement avec les classes suivantes:\n",
    "\n",
    "- OpenLayers.Map : une instance de cette classe sera la partie OpenLayers.Map . Leurs méthodes seront appelées lorsque nous voulons zoomer sur les zones, garder une trace des couches, jouer avec les événements, ... \n",
    "-  OpenLayers.Layer : L' OpenLayers.Layer / données / ... de notre carte sera une instance de OpenLayers.Layer ou l'une de ses sous-classes. Chaque carte devra au moins une couche, la couche de base. "
   ]
  },
  {
   "cell_type": "code",
   "execution_count": 31,
   "metadata": {
    "collapsed": true
   },
   "outputs": [],
   "source": [
    "html=\"\"\"<div id=\"map\" style=\"width: 100%; height: 300px;\"></div>\"\"\""
   ]
  },
  {
   "cell_type": "code",
   "execution_count": 30,
   "metadata": {
    "collapsed": false
   },
   "outputs": [
    {
     "data": {
      "application/javascript": [
       "\n",
       "    require(\n",
       "        [\n",
       "            \"https://cdn.rawgit.com/brython-dev/brython/master/www/src/brython_dist.js\"\n",
       "        ], \n",
       "        function() {\n",
       "            console.log(\"Loaded js code from https://cdn.rawgit.com/brython-dev/brython/master/www/src/brython_dist.js!\");\n",
       "        }\n",
       "    );    \n",
       "    "
      ],
      "text/plain": [
       "<IPython.core.display.Javascript object>"
      ]
     },
     "metadata": {},
     "output_type": "display_data"
    }
   ],
   "source": [
    "from brythonmagic import load_brython_dev\n",
    "load_brython_dev()"
   ]
  },
  {
   "cell_type": "code",
   "execution_count": 20,
   "metadata": {
    "collapsed": true
   },
   "outputs": [],
   "source": [
    "%reload_ext brythonmagic"
   ]
  },
  {
   "cell_type": "code",
   "execution_count": 33,
   "metadata": {
    "collapsed": false,
    "scrolled": true
   },
   "outputs": [
    {
     "data": {
      "text/html": [
       "  <script id=\"528405\" type=\"text/python\">\n",
       "  from browser import window\n",
       "      ol = window.ol\n",
       "      \n",
       "      src = ol.source.OSM.new()\n",
       "      layer = ol.layer.Tile.new({'source': src})\n",
       "      view = ol.View.new({\n",
       "          'center': ol.proj.fromLonLat([37.41, 8.82]),\n",
       "          'zoom': 4\n",
       "        })\n",
       "      \n",
       "      map = ol.Map.new({\n",
       "        'target': 'map',\n",
       "        'layers': [layer],\n",
       "        'view': view\n",
       "      });\n",
       "  </script>\n",
       "  <div id=\"brython_container_528405\"><div id=\"map\" style=\"width: 100%; height: 300px;\"></div></div>\n",
       "  <script type=\"text/javascript\">brython({debug:1, static_stdlib_import: false, ipy_id: [\"528405\"]});</script>\n"
      ],
      "text/plain": [
       "<IPython.core.display.HTML object>"
      ]
     },
     "metadata": {},
     "output_type": "display_data"
    },
    {
     "name": "stdout",
     "output_type": "stream",
     "text": [
      "  <script id=\"528405\" type=\"text/python\">\n",
      "  from browser import window\n",
      "      ol = window.ol\n",
      "      \n",
      "      src = ol.source.OSM.new()\n",
      "      layer = ol.layer.Tile.new({'source': src})\n",
      "      view = ol.View.new({\n",
      "          'center': ol.proj.fromLonLat([37.41, 8.82]),\n",
      "          'zoom': 4\n",
      "        })\n",
      "      \n",
      "      map = ol.Map.new({\n",
      "        'target': 'map',\n",
      "        'layers': [layer],\n",
      "        'view': view\n",
      "      });\n",
      "  </script>\n",
      "  <div id=\"brython_container_528405\"><div id=\"map\" style=\"width: 100%; height: 300px;\"></div></div>\n",
      "  <script type=\"text/javascript\">brython({debug:1, static_stdlib_import: false, ipy_id: [\"528405\"]});</script>\n",
      "\n"
     ]
    }
   ],
   "source": [
    "%%brython -h html -p\n",
    "  from browser import window\n",
    "      ol = window.ol\n",
    "      \n",
    "      src = ol.source.OSM.new()\n",
    "      layer = ol.layer.Tile.new({'source': src})\n",
    "      view = ol.View.new({\n",
    "          'center': ol.proj.fromLonLat([37.41, 8.82]),\n",
    "          'zoom': 4\n",
    "        })\n",
    "      \n",
    "      map = ol.Map.new({\n",
    "        'target': 'map',\n",
    "        'layers': [layer],\n",
    "        'view': view\n",
    "      });"
   ]
  },
  {
   "cell_type": "code",
   "execution_count": 23,
   "metadata": {
    "collapsed": false
   },
   "outputs": [
    {
     "data": {
      "text/html": [
       "  <script id=\"684164\" type=\"text/python\">\n",
       "# First of all, the import of some libraries\n",
       "from browser import document, html\n",
       "\n",
       "# All the elements will be inserted in the div with the \"zone\" id\n",
       "zone = document['zone']\n",
       "\n",
       "# We create a new div element\n",
       "newdiv = html.DIV(Id = \"new-div\")\n",
       "# Now we add some style\n",
       "newdiv.style = {\"padding\": \"5px\", \n",
       "           \"backgroundColor\": \"#ADD8E6\"}\n",
       "\n",
       "# We create a new link and add the link to a string\n",
       "blink = html.A('brython',href=\"http://brython.info\")\n",
       "text = \"Brython is really cool, look at \"+ blink + \" for more\"\n",
       "\n",
       "# Now we add the text to the div with id=\"new-div\"\n",
       "newdiv <= html.DIV(text)\n",
       "\n",
       "# Finally, we add the newdiv to the outer div with id=\"zone\"\n",
       "zone <= newdiv\n",
       "  </script>\n",
       "  <div id=\"zone\"></div>\n",
       "  <script type=\"text/javascript\">brython({debug:1, static_stdlib_import: false, ipy_id: [\"684164\"]});</script>\n"
      ],
      "text/plain": [
       "<IPython.core.display.HTML object>"
      ]
     },
     "metadata": {},
     "output_type": "display_data"
    }
   ],
   "source": [
    "%%brython -c zone\n",
    "# First of all, the import of some libraries\n",
    "from browser import document, html\n",
    "\n",
    "# All the elements will be inserted in the div with the \"zone\" id\n",
    "zone = document['zone']\n",
    "\n",
    "# We create a new div element\n",
    "newdiv = html.DIV(Id = \"new-div\")\n",
    "# Now we add some style\n",
    "newdiv.style = {\"padding\": \"5px\", \n",
    "           \"backgroundColor\": \"#ADD8E6\"}\n",
    "\n",
    "# We create a new link and add the link to a string\n",
    "blink = html.A('brython',href=\"http://brython.info\")\n",
    "text = \"Brython is really cool, look at \"+ blink + \" for more\"\n",
    "\n",
    "# Now we add the text to the div with id=\"new-div\"\n",
    "newdiv <= html.DIV(text)\n",
    "\n",
    "# Finally, we add the newdiv to the outer div with id=\"zone\"\n",
    "zone <= newdiv"
   ]
  },
  {
   "cell_type": "code",
   "execution_count": 24,
   "metadata": {
    "collapsed": false
   },
   "outputs": [
    {
     "data": {
      "application/javascript": [
       "\n",
       "    require(\n",
       "        [\n",
       "            \"https://cdnjs.cloudflare.com/ajax/libs/openlayers/2.11/OpenLayers.js\"\n",
       "        ], \n",
       "        function() {\n",
       "            console.log(\"Loaded js code from https://cdnjs.cloudflare.com/ajax/libs/openlayers/2.11/OpenLayers.js!\");\n",
       "        }\n",
       "    );    \n",
       "    "
      ],
      "text/plain": [
       "<IPython.core.display.Javascript object>"
      ]
     },
     "metadata": {},
     "output_type": "display_data"
    }
   ],
   "source": [
    "from brythonmagic import load_js_lib\n",
    "load_js_lib(\"https://cdnjs.cloudflare.com/ajax/libs/openlayers/2.11/OpenLayers.js\")"
   ]
  },
  {
   "cell_type": "code",
   "execution_count": 25,
   "metadata": {
    "collapsed": false
   },
   "outputs": [],
   "source": [
    "html=\"\"\"<div id=\"map_ex1\" style=\"width: 500px; height: 300px;\"></div>\"\"\""
   ]
  },
  {
   "cell_type": "code",
   "execution_count": 1,
   "metadata": {
    "collapsed": false,
    "scrolled": true
   },
   "outputs": [
    {
     "name": "stderr",
     "output_type": "stream",
     "text": [
      "ERROR:root:Cell magic `%%brython` not found.\n"
     ]
    }
   ],
   "source": [
    "%%brython -h html -p\n",
    "from browser import window\n"
   ]
  },
  {
   "cell_type": "code",
   "execution_count": null,
   "metadata": {
    "collapsed": true
   },
   "outputs": [],
   "source": []
  },
  {
   "cell_type": "code",
   "execution_count": 6,
   "metadata": {
    "collapsed": true
   },
   "outputs": [],
   "source": [
    "html=\"\"\"<div style=\"container: relative\">\n",
    "<div id=\"map_ex2\" class=\"ex2\"></div>\n",
    "<div id=\"data\" class=\"ex2\"></div>\n",
    "</div>\n",
    "<style>\n",
    "#data {background-color: cyan;}\n",
    ".ex2  {width: 500px; \n",
    "       height: 300px;\n",
    "       container: relative;\n",
    "       float: left;\n",
    "       padding-left: 15px;}\n",
    "</style>\"\"\""
   ]
  },
  {
   "cell_type": "markdown",
   "metadata": {
    "collapsed": true
   },
   "source": [
    "## II 1 Les couches (calques ou layers) et les sources.\n",
    "\n",
    "\n",
    "###  a. Sources WMS (\"Web Map Service\" )\n",
    "\n",
    "Quand vous ajoutez une couche à votre carte, la source de la couche est responsable typiquement d'appeler la donnée qui doit être affichée. La donnée demandée peut être soit raster, soit vecteur. Vous pouvez assimiler une donnée raster comme une information rendue comme une image côté serveur. La donnée vecteur est délivrée comme une information structurée depuis le serveur et peut potentiellement être calculée pour l'affichage via le client (votre navigateur).\n",
    "\n",
    "Il y a de nombreux types de services qui fournissent des données cartographiques raster. Cette section traite des fournisseurs qui se conforment à la spécification Web Map Service (WMS) de l'OGC (Open Geospatial Consortium, Inc.).\n",
    "\n",
    "\n",
    "\n",
    "### b. Sources tuilées\n",
    "\n",
    "### c. Fournisseurs de tuiles propriétaires\n",
    "\n",
    "### d. Données vecteur\n",
    "\n",
    "### e. Source image vecteur\n",
    "\n",
    "Comme les couches d'un oignon, chaque couche est au-dessus et couvrira la précédente; L'ordre que vous ajoutez dans les couches est important. Avec OpenLayers, vous pouvez définir arbitrairement la transparence globale de n'importe quelle couche, de sorte que vous pouvez facilement contrôler le nombre de couches qui se couvrent et changer dynamiquement l'ordre des couches à tout moment.\n",
    "\n",
    "La plupart du temps, on fait une distinction entre les couches de base et les couches non-base. Les couches de base sont les couches situées dessous et sont utilisées en arrière-plan sur les cartes pour donner un contexte général.  \n",
    "Lorsque l'on choisit une couche de base, les autres ne seront pas affichés. Sur le dessus des couches de base,  on a des couches non-base utilisées pour souligner des sujets particuliers. "
   ]
  },
  {
   "cell_type": "markdown",
   "metadata": {},
   "source": [
    "## II 1 Les couches (calques ou layers) et les sources.\n",
    "\n"
   ]
  }
 ],
 "metadata": {
  "kernelspec": {
   "display_name": "Python 3",
   "language": "python",
   "name": "python3"
  },
  "language_info": {
   "codemirror_mode": {
    "name": "ipython",
    "version": 3
   },
   "file_extension": ".py",
   "mimetype": "text/x-python",
   "name": "python",
   "nbconvert_exporter": "python",
   "pygments_lexer": "ipython3",
   "version": "3.5.3"
  },
  "latex_envs": {
   "LaTeX_envs_menu_present": true,
   "autocomplete": true,
   "bibliofile": "biblio.bib",
   "cite_by": "apalike",
   "current_citInitial": 1,
   "eqLabelWithNumbers": true,
   "eqNumInitial": 1,
   "hotkeys": {
    "equation": "Ctrl-E",
    "itemize": "Ctrl-I"
   },
   "labels_anchors": false,
   "latex_user_defs": false,
   "report_style_numbering": false,
   "user_envs_cfg": false
  },
  "toc": {
   "colors": {
    "hover_highlight": "#DAA520",
    "navigate_num": "#000000",
    "navigate_text": "#333333",
    "running_highlight": "#FF0000",
    "selected_highlight": "#FFD700",
    "sidebar_border": "#EEEEEE",
    "wrapper_background": "#FFFFFF"
   },
   "moveMenuLeft": true,
   "nav_menu": {
    "height": "211px",
    "width": "427px"
   },
   "navigate_menu": true,
   "number_sections": true,
   "sideBar": true,
   "threshold": 4,
   "toc_cell": false,
   "toc_position": {
    "height": "715px",
    "left": "0px",
    "right": "1312px",
    "top": "107px",
    "width": "375px"
   },
   "toc_section_display": "block",
   "toc_window_display": true,
   "widenNotebook": false
  }
 },
 "nbformat": 4,
 "nbformat_minor": 2
}
