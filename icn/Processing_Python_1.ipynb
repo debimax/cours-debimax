{
 "cells": [
  {
   "cell_type": "code",
   "execution_count": 1,
   "metadata": {},
   "outputs": [
    {
     "data": {
      "application/javascript": [
       "IPython.Cell.options_default.cm_config.lineNumbers = true"
      ],
      "text/plain": [
       "<IPython.core.display.Javascript object>"
      ]
     },
     "metadata": {},
     "output_type": "display_data"
    }
   ],
   "source": [
    "%%javascript\n",
    "IPython.Cell.options_default.cm_config.lineNumbers = true"
   ]
  },
  {
   "cell_type": "code",
   "execution_count": 2,
   "metadata": {},
   "outputs": [
    {
     "data": {
      "text/html": [
       "<style>\n",
       "/* Pour le titre comme cela il n'y a pas de numérotation au */\n",
       "#titre{\n",
       "font-size: 24pt; \n",
       "color:#ff0000;\n",
       "text-decoration: underline;\n",
       "text-align: center;\n",
       "font-weight: bold;\n",
       "}\n",
       "\n",
       "div.text_cell_render { font-size: 12pt;   line-height: 145%; }\n",
       "div.text_cell_render h1{font-size: 24pt; color:#0000ff;  text-decoration: underline;}\n",
       "div.text_cell_render h2{font-size: 18pt;color:#0000ff;  text-decoration: underline;}\n",
       "div.text_cell_render h3{font-size: 14pt;color:#0000ff;  text-decoration: underline;}\n",
       "div.text_cell_render h4{font-size: 12pt;color:#0000ff;  text-decoration: underline; }\n",
       "div.text_cell_render h5 {font-weight: 300;}\n",
       "\n",
       "\n",
       "div.cell.code_cell { /* area that contains code + output */\n",
       "    background: #ffffff;\n",
       "    border: none;\n",
       "    border-radius: 10px;\n",
       "    padding-top: 1ex;\n",
       "}\n",
       "\n",
       "div.input_area { /* box around box with code */\n",
       "    border: none;\n",
       "    background: #f5f5f5;\n",
       "    border: 1px solid #ccc;\n",
       "    border-radius: 10px;\n",
       "    padding-top: 0.5ex;\n",
       "    padding-bottom: 0.5ex;\n",
       "    padding-left: 0.5em;\n",
       "}\n",
       "\n",
       "div.input { /* box with code */\n",
       "}\n",
       "\n",
       "div.CodeMirror { /* code font */\n",
       "    font-family: \"Inconsolata-dz\", monospace;\n",
       "    font-size: 10pt;\n",
       "}\n",
       "\n",
       "\n",
       "\n",
       "\n",
       "\n",
       "/*div.text_cell_render  code { font-size: medium; border: 3px #ababab solid; background-color: #f5f5f5;}*/\n",
       "/*.rendered_html code { border: 3px #ababab solid; background-color:  #f5f5f5;}*/\n",
       ".rendered_html blockquote { margin: 1em 2em; background: red; }\n",
       ".rendered_html ol { list-style:decimal; margin: 1em 2em; }\n",
       "\n",
       "\n",
       "/* classe pour inverse video */\n",
       ".reverse{\n",
       "    background-color: black;\n",
       "    color: white;\n",
       "}\n",
       "/*  strick   <s>texte/<s>*/\n",
       ".barre{\n",
       "\n",
       "}\n",
       "\n",
       "\n",
       "</style>"
      ],
      "text/plain": [
       "<IPython.core.display.HTML object>"
      ]
     },
     "execution_count": 2,
     "metadata": {},
     "output_type": "execute_result"
    }
   ],
   "source": [
    "# Charge ma feuille de style pour nbviewer\n",
    "from IPython.core.display import HTML\n",
    "from  urllib.request import urlopen\n",
    "# import urllib.request, urllib.parse, urllib.error\n",
    "\n",
    "url='https://github.com/debimax/cours-debimax/raw/master/static/custom.css'\n",
    "with urlopen(url) as response:\n",
    "    styles = response.read().decode(\"utf8\")\n",
    "styles=\"<style>\\n{}\\n</style>\".format(styles)\n",
    "HTML(styles)"
   ]
  },
  {
   "cell_type": "code",
   "execution_count": 3,
   "metadata": {},
   "outputs": [],
   "source": [
    "# charge  processing  pour jupyter\n",
    "import os\n",
    "if not os.path.isfile('processing.min.js'):\n",
    "    url='https://github.com/debimax/cours-debimax/raw/master/ICN/processing.min.js'\n",
    "with urlopen(url) as response:\n",
    "    processing = response.read().decode(\"utf8\")\n",
    "    HTML(processing)\n",
    "\n",
    "# Une fonction pour afficher automatiquement les figures processing\n",
    "html_template = \"\"\"\n",
    "<script type=\"text/javascript\" src=\"processing.min.js\"></script>\n",
    "<script type=\"text/javascript\">\n",
    "var processingCode = `{script}`;\n",
    "var myCanvas = document.getElementById(\"canvas{name}\");\n",
    "var jsCode = Processing.compile(processingCode);\n",
    "var processingInstance = new Processing(myCanvas, jsCode);\n",
    "</script>\n",
    "<canvas id=\"canvas{name}\"> </canvas>\n",
    "\"\"\"\n",
    "from IPython.core.magic import register_cell_magic\n",
    "COUNT = 0\n",
    "@register_cell_magic\n",
    "def Processing(line,cell):\n",
    "    global COUNT\n",
    "    namecanvas = \"canvas-{}\".format(COUNT)\n",
    "    COUNT += 1\n",
    "    html_code = html_template.format(script=cell,name=namecanvas)\n",
    "    return HTML(html_code)\n",
    "del Processing "
   ]
  },
  {
   "cell_type": "markdown",
   "metadata": {},
   "source": [
    "<div id=\"titre\">Processing et python 1° partie</div>"
   ]
  },
  {
   "cell_type": "markdown",
   "metadata": {},
   "source": [
    "# Exécuter du code processing\n",
    "\n",
    "Pour exécuter le code  ***processing*** on peut utiliser:\n",
    "- Le logiciel ***processing*** qui est installé au lycée.\n",
    "- Le notebook (nous utiliserons cette méthode pour cette partie ***basse de processing***)\n",
    "- [processing en ligne](https://trinket.io/processing)\n",
    "\n",
    "## Avec le logiciel *processing*\n",
    "\n",
    "Ouvrez Processing.\n",
    "\n",
    "L'interface d'utilisation de Processing est composée de deux fenêtres distinctes : la fenêtre principale dans laquelle vous allez créer votre projet et la fenêtre de visualisation dans laquelle vos créations (dessins, animations, vidéos) apparaissent.\n",
    "\n",
    "On trouve plus précisément les éléments suivants dans l'interface :\n",
    "\n",
    "1. Menu\n",
    "2. Barre d'actions\n",
    "3. Barre d'onglets\n",
    "4. Zone d'édition (pour y saisir votre programme)\n",
    "5. Console (destinée aux tests et messages d'erreur)\n",
    "6. Liste déroulante pour les modes\n",
    "7. Fenêtre de visualisation (espace de dessin)\n",
    "\n",
    "\n",
    "<div style=\"width:100%;height:450px\">\n",
    "<img src=\"https://megamaths.hd.free.fr/~pi/statics/processing1.png\" style=\"float:left; height:450px\">\n",
    "<img src=\"https://megamaths.hd.free.fr/~pi/statics/processing2.png\" style=\"float:left; height:130px\">\n",
    "</div>\n",
    "\n",
    "***Processing*** n'inclut pas la prise en charge du langage de programmation Python par défaut.  \n",
    "Pour activer le support Python, vous devez installer un module complémentaire appelé ***Mode Python***.  \n",
    "- Cliquez sur la  liste déroulante pour les modes(6.) -> Ajouter un mode .... \n",
    "- Choisir ***python mode for processing3***. Patientez un peu.\n",
    "- Ouvrez un nouveau script puis selectionner ***le mode python***.\n",
    "- Écrire alors dans la Zone d'édition  \n",
    "```python\n",
    "text(\"Hello World!\", 10, 20)\n",
    "```  \n",
    "- Cliquez sur la flèche \"Executer\".  \n",
    "Vous devriez voir s'afficher la petite fenêtre de visualisation par défaut de 100 x 100 pixels, avec le mot << Hello World! >> écrit en blanc."
   ]
  },
  {
   "cell_type": "markdown",
   "metadata": {},
   "source": [
    "## Avec le *notebook jupyter*.\n",
    "\n",
    "Il faut avec exécuter la 3° cellule pour importer le fichier ***processing.min.js*** puis faire précéder le code processing  de  \n",
    "```java\n",
    "%%Processing\n",
    "```"
   ]
  },
  {
   "cell_type": "code",
   "execution_count": null,
   "metadata": {},
   "outputs": [],
   "source": [
    "%%Processing \n",
    "text(\"Hello World!\", 10, 20)"
   ]
  },
  {
   "cell_type": "markdown",
   "metadata": {},
   "source": [
    "![text](images/Ex1.svg)"
   ]
  },
  {
   "cell_type": "markdown",
   "metadata": {},
   "source": [
    "## Avec un site processing en ligne\n",
    "\n",
    "Cliquer sur [trinket.io](https://trinket.io/processing).  \n",
    "Effacer le code puis écrire:  \n",
    "```python\n",
    "from processing import *\n",
    "def draw():\n",
    "    text(\"Hello World!\", 10, 20)\n",
    "run()\n",
    "```\n",
    "- Pour stopper l'execution on clique sur le carré\t□ \n",
    "- Pour exécuter le profgramme on clique sur triangle ▶"
   ]
  },
  {
   "cell_type": "markdown",
   "metadata": {},
   "source": [
    "#  Espace de dessin\n",
    "\n",
    "\n",
    "## fenêtre\n",
    "\n",
    "L'espace de dessin constitue l'espace de représentation proprement dit. Cette fenêtre de visualisation affichera vos réalisations dans Processing en 2 ou 3 dimensions.\n",
    "\n",
    "Cet espace est créé par l'instruction size() qui prend deux arguments : ***size(largeur,hauteur);***.\n",
    "\n",
    "Par exemple, dans la fenêtre d'édition du logiciel Processing, saisissez la commande suivante :\n",
    "```java\n",
    "size(200, 20)\n",
    "```\n",
    "affichera une fenêtre de 200 pixels sur 20pixels."
   ]
  },
  {
   "cell_type": "code",
   "execution_count": 8,
   "metadata": {},
   "outputs": [
    {
     "data": {
      "text/html": [
       "\n",
       "<script type=\"text/javascript\" src=\"processing.min.js\"></script>\n",
       "<script type=\"text/javascript\">\n",
       "var processingCode = `size(200, 20)`;\n",
       "var myCanvas = document.getElementById(\"canvascanvas-3\");\n",
       "var jsCode = Processing.compile(processingCode);\n",
       "var processingInstance = new Processing(myCanvas, jsCode);\n",
       "</script>\n",
       "<canvas id=\"canvascanvas-3\"> </canvas>\n"
      ],
      "text/plain": [
       "<IPython.core.display.HTML object>"
      ]
     },
     "execution_count": 8,
     "metadata": {},
     "output_type": "execute_result"
    }
   ],
   "source": [
    "%%Processing\n",
    "size(200, 20)"
   ]
  },
  {
   "cell_type": "markdown",
   "metadata": {},
   "source": [
    "![size](images/Ex2.svg)"
   ]
  },
  {
   "cell_type": "markdown",
   "metadata": {},
   "source": [
    "Au sein d'un programme, on peut connaître à tout moment la taille de l'espace de dessin utilisé au moyen des mots-clés ***width*** et ***height***.  \n",
    "Ces instructions sont très utiles lorsque l'on souhaite notamment dessiner des formes qui puissent s'adapter ultérieurement aux éventuels changements de dimension de la fenêtre de visualisation."
   ]
  },
  {
   "cell_type": "code",
   "execution_count": null,
   "metadata": {},
   "outputs": [],
   "source": [
    "%%Processing\n",
    "size(300, 50)\n",
    "text(\"largeur: \"+width,10,25)\n",
    "text(\"hauteur: \"+height,170,25)"
   ]
  },
  {
   "cell_type": "markdown",
   "metadata": {},
   "source": [
    "![alignement-texte](images/Ex3.svg)\n",
    "\n",
    "## Le texte\n",
    "\n",
    "\n",
    "Nous venont donc de voir comment afficher un texte dans un dessin.\n",
    "\n",
    "Il est possible de modifier ce texte comme\n",
    "- La taille  avec la fonction ***textSize()***\n",
    "- L'alignement du taxte avec ***textAlign()***  \n",
    "  On peut aligner au centre (***CENTER***), à gauche (***LEFT***) ou  à droite (***RIGHT***).\n",
    "- La fonte du texte.  Par exemple on peut utiliser les fontes TrueType (.ttf) et OpenType (.otf)."
   ]
  },
  {
   "cell_type": "markdown",
   "metadata": {
    "code_folding": []
   },
   "source": [
    "```python\n",
    "size(300, 100)\n",
    "textAlign(LEFT)\n",
    "text(\"gauche\\nga\",0,25)             # \\n pour un retour à la ligne\n",
    "textAlign(CENTER)\n",
    "textSize(14)\n",
    "text(\"centre\\nce\",150,25)\n",
    "textAlign(RIGHT)\n",
    "textSize(20)\n",
    "text(\"droite\\ndr\",300,25)\n",
    "```"
   ]
  },
  {
   "cell_type": "markdown",
   "metadata": {},
   "source": [
    "![alignement-texte](images/Ex4.svg)"
   ]
  },
  {
   "cell_type": "markdown",
   "metadata": {},
   "source": [
    "# La couleur\n",
    "\n",
    "## Définition des couleurs\n",
    "\n",
    "Dessiner une image à l'écran, c'est changer la couleur des pixels. Les pixels sont des petites zones, le plus souvent carrées, qui possèdent une couleur.  \n",
    "\n",
    "Chaque couleur se définit par trois canaux qui sont le ***rouge, le vert et le bleu***. On peut aussi utiliser un quatrième canal que l'on appelle canal alpha qui correspond à la transparence.\n",
    "\n",
    "C'est le codage ***RBV*** (rouge, vert , bleu) ou ***RGB***, (Red, Green, Blue)\n",
    "\n",
    "2^8=256 qui s'écrit **\\#FF**  en base 16 (hexadécimal).  On utilise donc trois  (ou quatre) **nombres entiers entre 0 et 255**.\n",
    "\n",
    "  couleur | code RVB  | code hexadécimal  |   &nbsp;\n",
    "   :-: |  :-: | :-: | :-: \n",
    "  Noire | (0,0,0)  | \\#000000 | <img src=\"http://premtur.narod.ru/html/html2/black.gif\"   height=\"20\" width=\"20\" /> \n",
    "  Rouge | (250,0,0)  | \\#FF0000 | <img src=\"http://premtur.narod.ru/html/html2/red.gif\"  height=\"20\" width=\"20\" /> \n",
    "  Vert | (0,250,0)  | \\#00FF00 |<img src=\"http://premtur.narod.ru/html/html2/green.gif\"   height=\"20\" width=\"20\" /> \n",
    "  Bleu |  (0,0,250) | \\#0000FF | <img src=\"http://premtur.narod.ru/html/html2/blue.gif\"  height=\"20\" width=\"20\"  /> \n",
    "  Jaune |  (250,250,0) | #FFFF00| <img src=\"http://premtur.narod.ru/html/html2/yellow.gif\"  height=\"20\" width=\"20\" /> \n",
    "  Violet | (250,0,250)  | #FF00FF | <img src=\"http://premtur.narod.ru/html/html2/purple.gif\" title=\"Purple\" alt=\"Purple\"  height=\"20\" width=\"20\"  height=\"20\" width=\"20\"  />  \n",
    "   cyan | (0,250,250)  | #00FFFF |  <img src=\"http://67.media.tumblr.com/6f103f7555cb3132aa79ecefd7ae08b9/tumblr_inline_nygurldcu81qafcse_400.png\"  height=\"20\" width=\"20\"  />  \n",
    "  Blanc |  (250,250,250) | #00FFFF | <img src=\"http://premtur.narod.ru/html/html2/white.gif\"  height=\"20\" width=\"20\"  />\n",
    "\n",
    "Je vous conseille pour obtenir le code d'une couleur d'utiliser le selecteur de couleur (outil->Selecteur de couleur)\n",
    "<img src=\"https://megamaths.hd.free.fr/~pi/statics/selecteur_couleur.png\" />\n",
    "\n",
    "\n",
    "On peut aussi utiliser un quatrème code qui est la transparence  (canal alpha).  \n",
    "- *(255,0,0,128)*  correspond à la couleur rouge avec une transparence de moitié.  S'il y a un objet dessous on le vera un peu.\n",
    "- *(255,0,0,0)*  correspond à la couleur rouge avec une transparence totale donc on ne voit pas l'objet à l'écran. "
   ]
  },
  {
   "cell_type": "code",
   "execution_count": null,
   "metadata": {},
   "outputs": [],
   "source": [
    "%%Processing \n",
    "size(450, 100)\n",
    "background(0,0,255);\n",
    "textSize(20)\n",
    "fill(255,0,0)\n",
    "text(\"Un texte de couleur rouge\",10,30)\n",
    "fill(255,0,0,100)  \n",
    "text(\"Un texte de couleur rouge\",10,70)"
   ]
  },
  {
   "cell_type": "markdown",
   "metadata": {},
   "source": [
    "![exemple](images/Ex5.svg)"
   ]
  },
  {
   "cell_type": "markdown",
   "metadata": {},
   "source": [
    "## La couleur de fond\n",
    "\n",
    "On peut changer la couleur de fond en appelant la méthode ***background()***.  \n",
    "```python\n",
    "background(0, 255, 255);\n",
    "```"
   ]
  },
  {
   "cell_type": "code",
   "execution_count": null,
   "metadata": {},
   "outputs": [],
   "source": [
    "%%Processing \n",
    "background(0,250,250);"
   ]
  },
  {
   "cell_type": "markdown",
   "metadata": {},
   "source": [
    "![background](images/Ex6.svg)"
   ]
  },
  {
   "cell_type": "markdown",
   "metadata": {},
   "source": [
    "# Les axes\n",
    "\n",
    "Quand on travaille en 2 dimensions (2D), on utilise deux axes de coordonnées *x* et *y* correspondant respectivement à la largeur (axe horizontal) et à la hauteur (axe vertical) d'une situation.  \n",
    "\n",
    "Par convention de la mesure de l'espace, le coin en haut à gauche correspond aux valeurs *x=0* et *y=0*. Les valeurs *x* sont croissantes vers la droite et les valeurs y sont croissantes vers le bas, contrairement à notre habitude du plan cartésien.   \n",
    "\n",
    "Ces valeurs *x* et *y* peuvent s'étendre théoriquement à l'infini, même si, en réalité, les contraintes de la taille de votre fenêtre vont délimiter la taille maximale d’une surface de création visible. C'est donc dans cet espace que nous allons dessiner.\n",
    "\n",
    "![repère2D](https://megamaths.hd.free.fr/~pi/statics/Processing-espace-coordonnees-fr-old.png)\n",
    "\n",
    "Quand on travaille en 3 dimensions (3D), en plus des deux axes de coordonnées, on a un troisième axe de coordonnées Z, exprimant la profondeur :\n",
    "\n",
    "![repère2D](https://megamaths.hd.free.fr/~pi/statics/Processing-Presentation-installation-coordonnees3D_02-fr-old.png)\n",
    "\n",
    "Dans ce cas précis, on utilise la commande size avec un troisième paramètre indiquant que l'on travaille dans un espace en 3D  \n",
    "\n",
    "```java\n",
    "size(100, 100, P3D);\n",
    "```"
   ]
  },
  {
   "cell_type": "markdown",
   "metadata": {},
   "source": [
    "# Les formes\n",
    "\n",
    "Beaucoup de formes prédéfinies sont fournies par Processing. En voici les principales :\n",
    "\n",
    "##  Le point\n",
    "\n",
    "Pour commencer à dessiner, nous allons partir d'un point. Sur l'écran, un point est l'équivalent d'un pixel localisé dans la fenêtre de visualisation par deux axes de coordonnées, x et y correspondant respectivement à la largeur (axe horizontal) et à la hauteur (axe vertical) de l'espace de dessin. En suivant ce principe, la création d'un point dans Processing s'effectue à l'aide de l'instruction  point(x,y). Dans cet exemple, le point est très petit. Il est placé au centre de la fenêtre de visualisation.\n",
    "\n",
    "```java\n",
    "point(50, 50);\n",
    "```"
   ]
  },
  {
   "cell_type": "code",
   "execution_count": null,
   "metadata": {},
   "outputs": [],
   "source": [
    "%%Processing \n",
    "point(50,50)"
   ]
  },
  {
   "cell_type": "markdown",
   "metadata": {},
   "source": [
    "![point](images/Ex7.svg)"
   ]
  },
  {
   "cell_type": "markdown",
   "metadata": {},
   "source": [
    "Notez que le cadre de la fenêtre de visualisation (l'espace de dessin) a une dimension de 100x100, ce qui explique que le point soit situé en plein milieu. Si on le dessinait en dehors du cadre  (hors champ), avec par exemple l'instruction size(150,150), on ne le verrait pas.\n",
    "\n",
    "##  La ligne\n",
    "\n",
    "Par définition, une ligne (AB) est constituée par une infinité de points entre un point de départ A et un point d'arrivée B. Pour la construire, nous allons nous intéresser uniquement aux coordonnées x et y de A et de B.\n",
    "\n",
    "Ainsi, si par exemple dans la fenêtre par défaut, le point A se situe dans la région en bas à gauche de votre fenêtre, et que le point B se situe en haut à droite, les instructions suivantes, peuvent dessiner cette ligne sous la forme ***line(xA,yA,xB,yB)*** :\n",
    "```java\n",
    "line(15, 90, 95, 10)\n",
    "```"
   ]
  },
  {
   "cell_type": "code",
   "execution_count": null,
   "metadata": {},
   "outputs": [],
   "source": [
    "%%Processing \n",
    "line(15, 90, 95, 10)"
   ]
  },
  {
   "cell_type": "markdown",
   "metadata": {},
   "source": [
    "![line](images/Ex8.svg)"
   ]
  },
  {
   "cell_type": "markdown",
   "metadata": {},
   "source": [
    "##  Le rectangle\n",
    "\n",
    "Un rectangle se dessine par quatre valeurs en faisant l'appel de ***rect(x,y,largeur,hauteur)***.  \n",
    "La première paire de valeurs *x* et *y*, par défaut (mode CORNER) correspond au coin supérieur gauche du rectangle, à l'instar du point.  \n",
    "En revanche la seconde paire de valeurs ne va pas se référer à la position du coin inférieur droit, mais à la largeur (sur l'axe des *x*, horizontal) et à la hauteur (sur l'axe des *y*, vertical) de ce rectangle.\n",
    "\n",
    "```java\n",
    "rect(10, 10, 80, 40);\n",
    "```"
   ]
  },
  {
   "cell_type": "code",
   "execution_count": null,
   "metadata": {},
   "outputs": [],
   "source": [
    "%%Processing \n",
    "rect(10, 10, 80, 60)"
   ]
  },
  {
   "cell_type": "markdown",
   "metadata": {},
   "source": [
    "![alignement-texte](images/Ex9.svg)"
   ]
  },
  {
   "cell_type": "markdown",
   "metadata": {},
   "source": [
    "Pour que la première paire de valeurs corresponde au centre (le croisement des deux diagonales aux coordonnées 50, 50) du rectangle, il faut utiliser le mode CENTER comme suit :\n",
    "\n",
    "```java\n",
    "rectMode(CENTER);\n",
    "rect(50, 50, 80, 40);\n",
    "```"
   ]
  },
  {
   "cell_type": "code",
   "execution_count": null,
   "metadata": {},
   "outputs": [],
   "source": [
    "%%Processing \n",
    "rectMode(CENTER);\n",
    "rect(50, 50, 80, 40);"
   ]
  },
  {
   "cell_type": "markdown",
   "metadata": {},
   "source": [
    "![alignement-texte](images/Ex10.svg)"
   ]
  },
  {
   "cell_type": "markdown",
   "metadata": {},
   "source": [
    "##  L'ellipse\n",
    "\n",
    "Comme pour le rectangle, l'ellipse se construit sous les modes CENTER (par défaut), et CORNER.  \n",
    "Ainsi l'instruction suivante produit un cercle dont les coordonnées du centre sont les deux premières valeurs entre parenthèses. La troisième valeur correspond à la grandeur du diamètre sur l'axe horizontal (x) et la quatrième à la grandeur du diamètre sur l'axe vertical : notez que si les 3e et 4e valeurs sont identiques, on dessine un cercle et dans le cas contraire, une ellipse quelconque :\n",
    "\n",
    "```java\n",
    "ellipse(50, 50, 80, 80);\n",
    "```\n",
    "\n",
    "Amusez-vous à faire varier les 3e et 4e valeurs et observez-en les résultats."
   ]
  },
  {
   "cell_type": "code",
   "execution_count": null,
   "metadata": {},
   "outputs": [],
   "source": [
    "%%Processing \n",
    "ellipse(50, 50, 80, 80);"
   ]
  },
  {
   "cell_type": "markdown",
   "metadata": {},
   "source": [
    "![alignement-texte](images/Ex11.svg)"
   ]
  },
  {
   "cell_type": "markdown",
   "metadata": {},
   "source": [
    "###  Le triangle\n",
    "\n",
    "Le triangle est un plan constitué de trois points. L'invocation de triangle(x1,y1,x2,y2,x3,y3) définit les trois points de ce triangle :\n",
    "\n",
    "```java\n",
    "triangle(10, 90, 50, 10, 90, 90)\n",
    "```"
   ]
  },
  {
   "cell_type": "code",
   "execution_count": null,
   "metadata": {},
   "outputs": [],
   "source": [
    "%%Processing \n",
    "triangle(10, 90, 50, 10, 90, 90);"
   ]
  },
  {
   "cell_type": "markdown",
   "metadata": {},
   "source": [
    "![triangle-Ex12](images/Ex12.svg)"
   ]
  },
  {
   "cell_type": "markdown",
   "metadata": {},
   "source": [
    "##  L'arc\n",
    "\n",
    "Un arc ou section de cercle, peut se dessiner avec l'appel de ***arc(x, y, largeur, hauteur, début, fin)***, où la paire x, y définit le centre du cercle, la seconde paire ses dimensions et la troisième paire, le début et la fin de l'angle d'arc en radians :\n",
    "```java\n",
    "arc(50, 50, 90, 90, 0, PI)\n",
    "```"
   ]
  },
  {
   "cell_type": "code",
   "execution_count": null,
   "metadata": {},
   "outputs": [],
   "source": [
    "%%Processing \n",
    "arc(50, 50, 90, 90, 0, PI)"
   ]
  },
  {
   "cell_type": "markdown",
   "metadata": {},
   "source": [
    "![arc-Ex13](images/Ex13.svg)"
   ]
  },
  {
   "cell_type": "markdown",
   "metadata": {},
   "source": [
    "Pour les angles on utilise les angles en radian, on verra en mathématiques à la fin de seconde pourquoi on utilise des angles en degré plustôt qu'en degrés.\n",
    "\n",
    "<center>  <img src=\"https://megamaths.hd.free.fr/~pi/statics/gspp_0302.png\"   width=\"600\"></center>\n",
    "\n",
    "- On tourne dans le sens des aiguilles d'une montre, (c'est l'inverse en mathématique) \n",
    "- On peut avec la fonction ***radians()*** utiliser les angles en degré puis les convertir.\n"
   ]
  },
  {
   "cell_type": "code",
   "execution_count": null,
   "metadata": {},
   "outputs": [],
   "source": [
    "%%Processing \n",
    "size(480, 120)\n",
    "arc(90, 60, 80, 80, 0, radians(90))\n",
    "arc(190, 60, 80, 80, 0, radians(270)) \n",
    "arc(290, 60, 80, 80, radians(180), radians(450))\n",
    "arc(390, 60, 80, 80, radians(45), radians(225))"
   ]
  },
  {
   "cell_type": "markdown",
   "metadata": {},
   "source": [
    "![arcs-Ex14](images/Ex14.svg)"
   ]
  },
  {
   "cell_type": "markdown",
   "metadata": {},
   "source": [
    "##  Le quadrilatère\n",
    "\n",
    "Le quadrilatère se construit en spécifiant quatre paires de coordonnées *x* et *y* sous la forme ***quad(x1,y1,x2,y2,x3,y3,x4,y4)*** dans le sens horaire :\n",
    "```python\n",
    "quad(10, 10, 30, 15, 90, 80, 20, 80)\n",
    "```"
   ]
  },
  {
   "cell_type": "code",
   "execution_count": null,
   "metadata": {},
   "outputs": [],
   "source": [
    "%%Processing \n",
    "quad(10, 10, 30, 15, 90, 80, 20, 80)"
   ]
  },
  {
   "cell_type": "markdown",
   "metadata": {},
   "source": [
    "![quadrilatère-Ex15](images/Ex15.svg)"
   ]
  },
  {
   "cell_type": "markdown",
   "metadata": {},
   "source": [
    "##  Courbe\n",
    "\n",
    "Une courbe se dessine à l'aide de ***curve(x1, y1, x2, y2, x3, y3, x4, y4)***, où *x1* et *y1* définissent le premier point de contrôle, *x4* et *y4* le second point de contrôle , *x2* et *y2* le point de départ de la courbe et *x3, y3* le point d'arrivée de la courbe :\n",
    "```python\n",
    "curve(0, 300, 10, 60, 90, 60, 200, 100)\n",
    "```"
   ]
  },
  {
   "cell_type": "code",
   "execution_count": null,
   "metadata": {},
   "outputs": [],
   "source": [
    "%%Processing \n",
    "curve(0, 300, 10, 60, 90, 60, 200, 100);"
   ]
  },
  {
   "cell_type": "markdown",
   "metadata": {},
   "source": [
    "![curve-Ex16](images/Ex16.svg)"
   ]
  },
  {
   "cell_type": "markdown",
   "metadata": {},
   "source": [
    "##  Courbe Bézier\n",
    "\n",
    " La fonction ***bezier*** permet de dessiner une courbe de Bésier. Si le coeur vous en dit, vous en apprendrez plus sur les courbes de Bézier [ici](https://fr.wikipedia.org/wiki/Courbe_de_B%C3%A9zier) (je vous préviens, c'est très compliqué).\n",
    "\n",
    "La courbe de type Bézier se construit à l'aide de ***bezier(x1,y1,x2,y2,x3,y3,x4,y4)***\n",
    "```python\n",
    "bezier(10, 10, 70, 30, 30, 70, 90, 90)\n",
    "```"
   ]
  },
  {
   "cell_type": "code",
   "execution_count": null,
   "metadata": {},
   "outputs": [],
   "source": [
    "%%Processing \n",
    "bezier(10, 10, 70, 30, 30, 70, 90, 90)"
   ]
  },
  {
   "cell_type": "markdown",
   "metadata": {},
   "source": [
    "![bezier-Ex17](images/Ex17.svg)"
   ]
  },
  {
   "cell_type": "markdown",
   "metadata": {},
   "source": [
    "##  Courbe lissée\n",
    "\n",
    "L'appel de ***curveVertex()*** dessine plusieurs paires de coordonnées x et y, entre deux points de contrôle, sous la forme ***curveVertex(point de contrôle initial,xN,yN,xN,yN,xN,yN, point de contrôle final)*** ce qui permet de construire des courbes lissées :\n",
    "```python\n",
    "beginShape()\n",
    "curveVertex(0, 100)\n",
    "curveVertex(10, 90)\n",
    "curveVertex(25, 70)\n",
    "curveVertex(50, 10)\n",
    "curveVertex(75, 70)\n",
    "curveVertex(90, 90)\n",
    "curveVertex(100, 100)\n",
    "endShape()\n",
    "```"
   ]
  },
  {
   "cell_type": "code",
   "execution_count": null,
   "metadata": {},
   "outputs": [],
   "source": [
    "%%Processing \n",
    "beginShape();\n",
    "curveVertex(0, 100)\n",
    "curveVertex(10, 90)\n",
    "curveVertex(25, 70)\n",
    "curveVertex(50, 10)\n",
    "curveVertex(75, 70)\n",
    "curveVertex(90, 90)\n",
    "curveVertex(100, 100)\n",
    "endShape()"
   ]
  },
  {
   "cell_type": "markdown",
   "metadata": {},
   "source": [
    "![shape-Ex18](images/Ex18.svg)"
   ]
  },
  {
   "cell_type": "markdown",
   "metadata": {},
   "source": [
    "##  Formes libres\n",
    "\n",
    "Plusieurs formes libres peuvent être dessinés par une succession de points en utilisant la suite d'instructions beginShape(),vertex(x,y),...,endShape(). Chaque point se construit par ses coordonnées x et y. La fonction CLOSE dans endShape(CLOSE) indique que la figure sera fermée, c'est-à-dire que le dernier point sera relié au premier, comme dans l'exemple ci-dessous de dessin d'un hexagone :\n",
    "\n",
    "```python\n",
    "\n",
    "beginShape();\n",
    "vertex(50, 10)\n",
    "vertex(85, 30)\n",
    "vertex(85, 70)\n",
    "vertex(50, 90)\n",
    "vertex(15, 70)\n",
    "vertex(15, 30)\n",
    "endShape(CLOSE)\n",
    "```"
   ]
  },
  {
   "cell_type": "code",
   "execution_count": null,
   "metadata": {},
   "outputs": [],
   "source": [
    "%%Processing \n",
    "beginShape();\n",
    "vertex(50, 10)\n",
    "vertex(85, 30)\n",
    "vertex(85, 70)\n",
    "vertex(50, 90)\n",
    "vertex(15, 70)\n",
    "vertex(15, 30)\n",
    "endShape(CLOSE)"
   ]
  },
  {
   "cell_type": "markdown",
   "metadata": {},
   "source": [
    "![hexagone-Ex19](images/Ex19.svg)"
   ]
  },
  {
   "cell_type": "markdown",
   "metadata": {},
   "source": [
    "##  Contours\n",
    "Vous avez remarqué que jusqu'à présent, toutes les figures données en exemple comportent un contour, ainsi qu'une surface de remplissage. \n",
    "\n",
    "Il est possible de modifier le contour.  \n",
    "- Si vous voulez rendre invisible le contour, utilisez ***noStroke()*** \n",
    "- On peut aussi dessiner le contour en couleur avec la fonction ***stroke()***\n",
    "- On peut changer l'épaisseur des traits avec ***strokeWeight()***\n",
    "\n",
    "```python\n",
    "noStroke()                 # On elève le contour\n",
    "stroke(255,0,0)            # La couleur du contour est rouge\n",
    "strokeWeight(4)            # L'épaisseur est 4\n",
    "```\n",
    "\n",
    "Par exemple"
   ]
  },
  {
   "cell_type": "code",
   "execution_count": null,
   "metadata": {},
   "outputs": [],
   "source": [
    "%%Processing \n",
    "size(400, 100)\n",
    "ellipse(50, 50, 80, 80)\n",
    "noStroke() \n",
    "ellipse(150, 50, 80, 80)\n",
    "stroke(255,0,0) \n",
    "ellipse(240, 50, 80, 80)\n",
    "strokeWeight(4)\n",
    "ellipse(340, 50, 80, 80)"
   ]
  },
  {
   "cell_type": "markdown",
   "metadata": {},
   "source": [
    "![contours-Ex20](images/Ex20.svg)"
   ]
  },
  {
   "cell_type": "markdown",
   "metadata": {},
   "source": [
    "##  Remplissage\n",
    "\n",
    "De la même manière, il est possible de modifier la surface de remplissage des formes.\n",
    "  \n",
    "- Si vous voulez rendre invisible la surface, utilisez ***noFill()*** \n",
    "- Si on veux dessiner la surface en couleur on utilise la fonction ***fill()***\n",
    "```python\n",
    "noFill()                 # On enlève la surface de remplissage.\n",
    "stroke(255,0,0)          # La couleur de la surface est rouge\n",
    "```\n",
    "\n",
    "Par défaut, l'arrière-fond de la fenêtre de visualisation (l'espace de dessin) est gris neutre, les contours des figures sont noirs, et la surface de remplissage est blanche. Vous apprendrez au prochain chapitre comment modifier les couleurs à votre convenance."
   ]
  },
  {
   "cell_type": "code",
   "execution_count": null,
   "metadata": {},
   "outputs": [],
   "source": [
    "%%Processing \n",
    "size(400, 100)\n",
    "ellipse(50, 50, 80, 80)\n",
    "noFill() \n",
    "ellipse(150, 50, 80, 80)\n",
    "fill(255,0,0) \n",
    "stroke(255,0,0)\n",
    "ellipse(240, 50, 80, 80)\n",
    "fill(0,255,0)\n",
    "stroke(0,0,255)\n",
    "ellipse(340, 50, 80, 80)"
   ]
  },
  {
   "cell_type": "markdown",
   "metadata": {},
   "source": [
    "![remplissage-Ex21](images/Ex21.svg)"
   ]
  },
  {
   "cell_type": "markdown",
   "metadata": {
    "collapsed": true
   },
   "source": [
    "#  Exercices:\n",
    "\n",
    "## exercice 1:  \n",
    "\n",
    "Créer à l'aide de processing un bonhomme pacman.\n",
    "![ghosts](https://megamaths.hd.free.fr/~pi/statics/pacman.svg)\n",
    "\n",
    "\n",
    "## exercice 2:  \n",
    "Créer un des fantômes de pacman de votre choix. \n",
    "\n",
    "![ghosts](https://megamaths.hd.free.fr/~pi/statics/ghosts.svg)\n"
   ]
  },
  {
   "cell_type": "markdown",
   "metadata": {},
   "source": [
    "# IV Pour aller plus loin\n",
    "\n",
    "##  Primitives 3D\n",
    "\n",
    "Les formes prédéfinies disponibles en 3 dimensions (primitives 3D) peuvent être réalisées de manière simple en appelant size(x, y, P3D) au début de notre sketch puis en employant en fonction de vos besoins les instructions  sphere(taille) et box(longueur, largeur, profondeur). Il est également possible de produire des effets d'éclairage sur nos formes tridimensionnelles à l'aide de ***lights()***.\n",
    "\n",
    "### a La sphère\n",
    "```python\n",
    "size(100, 100, P3D);\n",
    "noStroke();            # On enlève le contour\n",
    "lights();              # éclairer l'objet 3D  \n",
    "translate(50, 50, 0);  # translation\n",
    "sphere(28);\n",
    "```"
   ]
  },
  {
   "cell_type": "code",
   "execution_count": null,
   "metadata": {},
   "outputs": [],
   "source": [
    "%%Processing \n",
    "size(100, 100, P3D);\n",
    "noStroke();\n",
    "lights();\n",
    "translate(50,50,0);\n",
    "sphere(28);"
   ]
  },
  {
   "cell_type": "markdown",
   "metadata": {},
   "source": [
    "![sphere-Ex22](images/Ex22.png)"
   ]
  },
  {
   "cell_type": "markdown",
   "metadata": {},
   "source": [
    "###  La boîte\n",
    "```java\n",
    "size(100, 100, P3D);\n",
    "noStroke();\n",
    "lights();\n",
    "translate(50, 50, 0);\n",
    "rotateY(0.5);   //rotation selon l'axe (yy')\n",
    "box(40);\n",
    "```"
   ]
  },
  {
   "cell_type": "code",
   "execution_count": null,
   "metadata": {},
   "outputs": [],
   "source": [
    "%%Processing \n",
    "size(100, 100, P3D);\n",
    "noStroke();\n",
    "lights();\n",
    "translate(50, 50, 0);\n",
    "rotateY(0.5); \n",
    "box(40);"
   ]
  },
  {
   "cell_type": "markdown",
   "metadata": {},
   "source": [
    "![cube-Ex23](images/Ex23.png)"
   ]
  }
 ],
 "metadata": {
  "kernelspec": {
   "display_name": "Python 3",
   "language": "python",
   "name": "python3"
  },
  "language_info": {
   "codemirror_mode": {
    "name": "ipython",
    "version": 3
   },
   "file_extension": ".py",
   "mimetype": "text/x-python",
   "name": "python",
   "nbconvert_exporter": "python",
   "pygments_lexer": "ipython3",
   "version": "3.7.2+"
  },
  "latex_envs": {
   "LaTeX_envs_menu_present": true,
   "autocomplete": true,
   "bibliofile": "biblio.bib",
   "cite_by": "apalike",
   "current_citInitial": 1,
   "eqLabelWithNumbers": true,
   "eqNumInitial": 1,
   "hotkeys": {
    "equation": "Ctrl-E",
    "itemize": "Ctrl-I"
   },
   "labels_anchors": false,
   "latex_user_defs": false,
   "report_style_numbering": false,
   "user_envs_cfg": false
  },
  "toc": {
   "colors": {
    "hover_highlight": "#DAA520",
    "navigate_num": "#000000",
    "navigate_text": "#333333",
    "running_highlight": "#FF0000",
    "selected_highlight": "#FFD700",
    "sidebar_border": "#EEEEEE",
    "wrapper_background": "#FFFFFF"
   },
   "moveMenuLeft": true,
   "nav_menu": {
    "height": "512px",
    "width": "252px"
   },
   "navigate_menu": true,
   "number_sections": true,
   "sideBar": true,
   "threshold": 4,
   "toc_cell": false,
   "toc_section_display": "block",
   "toc_window_display": false,
   "widenNotebook": false
  }
 },
 "nbformat": 4,
 "nbformat_minor": 1
}
