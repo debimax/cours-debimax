{
 "cells": [
  {
   "cell_type": "code",
   "execution_count": 1,
   "metadata": {},
   "outputs": [
    {
     "data": {
      "application/javascript": [
       "IPython.Cell.options_default.cm_config.lineNumbers = true"
      ],
      "text/plain": [
       "<IPython.core.display.Javascript object>"
      ]
     },
     "metadata": {},
     "output_type": "display_data"
    }
   ],
   "source": [
    "%%javascript\n",
    "IPython.Cell.options_default.cm_config.lineNumbers = true"
   ]
  },
  {
   "cell_type": "code",
   "execution_count": 2,
   "metadata": {},
   "outputs": [
    {
     "data": {
      "text/html": [
       "<style>\n",
       "\n",
       "\n",
       "div.text_cell_render { font-size: 12pt;   line-height: 145%; }\n",
       "div.text_cell_render h1{text-align: center;font-size: 24pt; color:#ff0000;  text-decoration: underline;}\n",
       "div.text_cell_render h2{font-size: 20pt;color:#ff0000;  text-decoration: underline;}\n",
       "div.text_cell_render h3{font-size: 14pt;color:#ff0000;  text-decoration: underline;}\n",
       "div.text_cell_render h4{font-size: 12pt;color:#ff0000;  text-decoration: underline; }\n",
       "div.text_cell_render h5 {font-weight: 300;}\n",
       "\n",
       "\n",
       "div.cell.code_cell { /* area that contains code + output */\n",
       "    background: #ffffff;\n",
       "    border: none;\n",
       "    border-radius: 10px;\n",
       "    padding-top: 1ex;\n",
       "}\n",
       "\n",
       "div.input_area { /* box around box with code */\n",
       "    border: none;\n",
       "    background: #f5f5f5;\n",
       "    border: 1px solid #ccc;\n",
       "    border-radius: 10px;\n",
       "    padding-top: 0.5ex;\n",
       "    padding-bottom: 0.5ex;\n",
       "    padding-left: 0.5em;\n",
       "}\n",
       "\n",
       "div.input { /* box with code */\n",
       "}\n",
       "\n",
       "div.CodeMirror { /* code font */\n",
       "    font-family: \"Inconsolata-dz\", monospace;\n",
       "    font-size: 10pt;\n",
       "}\n",
       "\n",
       "\n",
       "\n",
       "\n",
       "\n",
       "/*div.text_cell_render  code { font-size: medium; border: 3px #ababab solid; background-color: #f5f5f5;}*/\n",
       "/*.rendered_html code { border: 3px #ababab solid; background-color:  #f5f5f5;}*/\n",
       ".rendered_html blockquote { margin: 1em 2em; background: red; }\n",
       ".rendered_html ol { list-style:decimal; margin: 1em 2em; }\n",
       "\n",
       "\n",
       "/* classe pour inverse video */\n",
       ".reverse{\n",
       "    background-color: black;\n",
       "    color: white;\n",
       "}\n",
       "/*  strick   <s>texte/<s>*/\n",
       ".barre{\n",
       "\n",
       "}\n",
       "\n",
       "\n",
       "</style>"
      ],
      "text/plain": [
       "<IPython.core.display.HTML object>"
      ]
     },
     "execution_count": 2,
     "metadata": {},
     "output_type": "execute_result"
    }
   ],
   "source": [
    "# Charge ma feuille de style pour nbviewer\n",
    "from IPython.core.display import display,HTML\n",
    "from  urllib.request import urlopen\n",
    "\n",
    "url='https://github.com/debimax/cours-debimax/raw/master/documents/custom.css'\n",
    "with urlopen(url) as response:\n",
    "    styles = response.read().decode(\"utf8\")\n",
    "styles=\"<style>\\n{}\\n</style>\".format(styles)\n",
    "HTML(styles)"
   ]
  },
  {
   "cell_type": "markdown",
   "metadata": {},
   "source": [
    "# HTML\n",
    "\n",
    "- [https://www.pierre-giraud.com/html-css/cours-complet/cours-html-css-presentation.php](https://www.pierre-giraud.com/html-css/cours-complet/cours-html-css-presentation.php)\n",
    "\n",
    "\n",
    "## Préparation\n",
    "\n",
    "Pour écrire les fichiers html on a trois solutions.\n",
    "\n",
    "1. Écrire directement le code avec un **éditeur de texte** (Attention à ne pas confondre avec un traitement de texte comme openoffice ou word).  \n",
    "Au lycée on peut utiliser pyzo pour écrire directement le code puis de l’ouvrir avec un navigateur.\n",
    "2. Utiliser ce notebook avec %%html qui per met de simuler du code ***html***.\n",
    "3. Utiliser un éditeur en ligne. Nous utiliserons le site jsfiddle.net.  \n",
    "  1. Lancer le navigateur de votre choix (Firefox ou chrome), taper [http://jsfiddle.net/](http://jsfiddle.net/) dans la barre d’adresse.  \n",
    "Vous devriez voir apparaître ceci :  \n",
    "![http/jsfiddle.net/](https://megamaths.hd.free.fr/~pi/statics/jsfile1.png)  \n",
    "\n",
    "Si vous avez déjà du texte alors cliquez sur ![](https://megamaths.hd.free.fr/~pi/statics/icone-jsfile.png) -> Empty\n",
    "\n",
    "\n",
    "Testons la méthode 1.\n",
    "\n",
    "Ouvrir un editeur de texte  (notepad++ par exemple). \n",
    "Écrire le code suivant.\n",
    "\n",
    "```html\n",
    "<!DOCTYPE html>\n",
    "<html>\n",
    "<head>\n",
    "<!-- En-tête de la page -->\n",
    "<title>Titre</title>\n",
    "<meta charset=\"utf-8\" />\n",
    "</head>\n",
    "<body>\n",
    "<!-- Corps de la page -->\n",
    "<p>Hello</p>\n",
    "</body>\n",
    "</html>\n",
    "```\n",
    "\n",
    "Enregistrez le dans votre session au nom de ***exemple1.html***.Ouvrez alors un navigateur (firefox par exemple) et ouvrez votre fichier.\n",
    "\n",
    "Pour la suite de ce cours on utilisera notebook."
   ]
  },
  {
   "cell_type": "code",
   "execution_count": 7,
   "metadata": {},
   "outputs": [
    {
     "data": {
      "text/html": [
       "<!DOCTYPE html>\n",
       "<html>\n",
       "<head>\n",
       "<!-- En-tête de la page -->\n",
       "<title>Titre</title>\n",
       "<meta charset=\"utf-8\" />\n",
       "</head>\n",
       "<body>\n",
       "<!-- Corps de la page -->\n",
       "<p>Hello</p>\n",
       "</body>\n",
       "</html>"
      ],
      "text/plain": [
       "<IPython.core.display.HTML object>"
      ]
     },
     "metadata": {},
     "output_type": "display_data"
    }
   ],
   "source": [
    "%%html\n",
    "<!DOCTYPE html>\n",
    "<html>\n",
    "<head>\n",
    "<!-- En-tête de la page -->\n",
    "<title>Titre</title>\n",
    "<meta charset=\"utf-8\" />\n",
    "</head>\n",
    "<body>\n",
    "<!-- Corps de la page -->\n",
    "<p>Hello</p>\n",
    "</body>\n",
    "</html>"
   ]
  },
  {
   "cell_type": "markdown",
   "metadata": {},
   "source": [
    "ou plus simplement"
   ]
  },
  {
   "cell_type": "code",
   "execution_count": 10,
   "metadata": {},
   "outputs": [
    {
     "data": {
      "text/html": [
       "<p>hello</p>"
      ],
      "text/plain": [
       "<IPython.core.display.HTML object>"
      ]
     },
     "metadata": {},
     "output_type": "display_data"
    }
   ],
   "source": [
    "%%html\n",
    "<p>hello</p>"
   ]
  },
  {
   "cell_type": "markdown",
   "metadata": {},
   "source": [
    "À noter :\n",
    "- La ligne `<meta charset=\"utf-8\" />` sert à ce que les accents « français » soient bien pris en compte.\n",
    "- Lorsque vous réaliserez une nouvelle page html, vous ferez un « copier-coller » de cet en-tête.\n",
    "- Tous les documents html que vous enregistrerez devront avoir l'extension : .html"
   ]
  },
  {
   "cell_type": "markdown",
   "metadata": {},
   "source": [
    "## Organiser une page :\n",
    "\n",
    "### Les balises\n",
    "\n",
    "Les pages HTML sont remplies de ce qu’on appelle des balises. Celles-ci sont invisibles à l’écran pour vos visiteurs, mais elles permettent à l’ordinateur de comprendre ce qu’il doit afficher.  \n",
    "Les balises se repèrent facilement. Elles sont entourées de « ***chevrons*** », c’est-à-dire des symboles < et > ,comme ceci :  \n",
    "`< balise >`. Elles indiquent la nature du texte qu’elles encadrent (un titre, une image . . .).\n",
    "\n",
    "On distingue deux types de balises : les balises en paires et les balises orphelines.\n",
    "\n",
    "- Les balises en paires s’ouvrent, contiennent du texte, et se ferment plus loin.  \n",
    "Voici à quoi elles ressemblent : `< title > Ceci est un titre < /title >`.\n",
    "-  Les balisent orphelines servent souvent à insérer un élément à un endroit précis, par exemple une image.  \n",
    "Voici à quoi elles ressemblent `<image />`.\n",
    "\n",
    "### Les incontournables\n",
    "\n",
    "-  `<!DOCTYPE html>` signifie que la page est écrite en HTML5\n",
    "-  `<html> . . . </html>` englobe tout le contenu de la page\n",
    "-  `<head> . . . </head>` pour l’entête (header).  \n",
    "Cette balise encadre des informations générales sur la page comme le titre, l’encodage (utf-8 ici)\n",
    "- `<body> ... </body>` encadrent le contenu du site web.\n",
    "\n",
    "## Organiser son texte\n",
    "\n",
    "### Les paragraphes\n",
    "\n",
    "- `<p> ... </p>` pour encadrer un paragraphe\n",
    "- `<br />` pour sauter une ligne  \n",
    "\n",
    "Écrire quelques lignes sur votre page et tester le résultat."
   ]
  },
  {
   "cell_type": "code",
   "execution_count": 12,
   "metadata": {},
   "outputs": [
    {
     "data": {
      "text/html": [
       "<head>\n",
       "<!-- En-tête de la page -->\n",
       "<title>Titre</title>\n",
       "<meta charset=\"utf-8\" />\n",
       "</head>"
      ],
      "text/plain": [
       "<IPython.core.display.HTML object>"
      ]
     },
     "metadata": {},
     "output_type": "display_data"
    }
   ],
   "source": [
    "%%html\n"
   ]
  },
  {
   "cell_type": "markdown",
   "metadata": {},
   "source": [
    "### Les titres\n",
    "\n",
    "En HTML, on peut utiliser six niveaux de titres différents. On a donc six balises de titres différentes :\n",
    "\n",
    "- `<h1>...</h1>`: signifie « titre très important ».\n",
    "- `<h2>...</h2>`: signifie « titre important ».\n",
    "- `<h3>...</h3>`: pareil, c’est un titre un peu moins important.\n",
    "- `<h4>...</h4>`: titre encore moins important.\n",
    "- `<h5>...</h5>`: titre pas important.\n",
    "- `<h6>...</h6>`: titre pas important du tout.\n",
    "\n",
    "### Les listes\n",
    "\n",
    "Les listes nous permettent souvent de mieux structurer notre texte et d’ordonner nos informations.\n",
    "\n",
    "Il existe plusieurs types de listes dont :\n",
    "- les listes à puces (unordonned en anglais) : `<ul> ... </ul>`.\n",
    "- les listes numérotées (ordonned en anglais) : `<ol>...</ol>`.  \n",
    "Dans les deux cas, les différentes lignes sont encadrées par les balises `<li> ... </li>`.\n",
    "\n",
    "Exemples :"
   ]
  },
  {
   "cell_type": "code",
   "execution_count": 13,
   "metadata": {},
   "outputs": [
    {
     "data": {
      "text/html": [
       "<ul>\n",
       "<li> Fraises </li>\n",
       "<li> Framboises </li>\n",
       "<li> Cerises </li>\n",
       "</ul>"
      ],
      "text/plain": [
       "<IPython.core.display.HTML object>"
      ]
     },
     "metadata": {},
     "output_type": "display_data"
    }
   ],
   "source": [
    "%%html\n",
    "<ul>\n",
    "<li> Fraises </li>\n",
    "<li> Framboises </li>\n",
    "<li> Cerises </li>\n",
    "</ul>"
   ]
  },
  {
   "cell_type": "code",
   "execution_count": 16,
   "metadata": {},
   "outputs": [
    {
     "data": {
      "text/html": [
       "<ol>\n",
       "<li> Fraises </li>\n",
       "<li> Framboises </li>\n",
       "<li> Cerises </li>\n",
       "</ol>"
      ],
      "text/plain": [
       "<IPython.core.display.HTML object>"
      ]
     },
     "metadata": {},
     "output_type": "display_data"
    }
   ],
   "source": [
    "%%html\n",
    "<ol>\n",
    "<li> Fraises </li>\n",
    "<li> Framboises </li>\n",
    "<li> Cerises </li>\n",
    "</ol>"
   ]
  },
  {
   "cell_type": "markdown",
   "metadata": {},
   "source": [
    "### Les tableaux\n",
    "\n",
    "Pour créer un tableau simple, nous allons avoir besoin de trois éléments HTML :  \n",
    "- La balise `<table>` ( « tableau » en français) va définir le tableau ;\n",
    "- La balise `<tr>`, pour « table row » ou « ligne de tableau » en français va nous servir à introduire une nouvelle\n",
    "ligne ;\n",
    "- La balise `<td>`, pour « table data » ou « donnée de tableau » en français va nous permettre d’ajouter des cellules.\n",
    "- La balise `<th>` est utilisé pour définir les titres d’un tableau html. Elle est équivalente à la balise `<td>` en terme de propriétés.\n",
    "\n",
    "\n",
    "Exemples :"
   ]
  },
  {
   "cell_type": "code",
   "execution_count": 17,
   "metadata": {},
   "outputs": [
    {
     "data": {
      "text/html": [
       "<table>\n",
       "<tr><th>Nom</th><th>prénom</th><th>âge</th></tr>\n",
       "<tr><td>Onette</td><td>Camille</td><td>15</td></tr>\n",
       "<tr><td>Vanille</td><td>Douglas</td><td>16</td></tr>\n",
       "<tr><td>Bijoba</td><td>Joe</td><td>16</td></tr>\n",
       "</table>"
      ],
      "text/plain": [
       "<IPython.core.display.HTML object>"
      ]
     },
     "metadata": {},
     "output_type": "display_data"
    }
   ],
   "source": [
    "%%html\n",
    "<table>\n",
    "<tr><th>Nom</th><th>prénom</th><th>âge</th></tr>\n",
    "<tr><td>Onette</td><td>Camille</td><td>15</td></tr>\n",
    "<tr><td>Vanille</td><td>Douglas</td><td>16</td></tr>\n",
    "<tr><td>Bijoba</td><td>Joe</td><td>16</td></tr>\n",
    "</table>"
   ]
  },
  {
   "cell_type": "markdown",
   "metadata": {},
   "source": [
    "Pour obtenir les lignes il faut utiliser du code CSS que nous verrons donc plus tard.  \n",
    "- ***colspan*** Spécifie le nombre de colonnes sur lequel s’étendra la cellule. Cela permet de scinder les colonnes.\n",
    "- ***rowspan*** spécifie le nombre de lignes sur lequel s’étendra la cellule. Cela permet de scinder les lignes.\n",
    "\n",
    "Exemple :"
   ]
  },
  {
   "cell_type": "code",
   "execution_count": 26,
   "metadata": {},
   "outputs": [
    {
     "data": {
      "text/html": [
       "<table cellpadding=\"3px\" cellspacing=\"0px\" rules=\"all\" style=\"border:solid 1px black; border-collapse:collapse\">\n",
       "<tr>\n",
       "<th>Titre 1</th> <th>Titre 2</th>\n",
       "</tr>\n",
       "<tr>\n",
       "<td>Valeur1</td> <td>Valeur2</td>\n",
       "</tr>\n",
       "<tr>\n",
       "<td colspan=\"2\" style=\"background-color:lightyellow;\">Cellule avec colspan</td>\n",
       "</tr>\n",
       "<tr>\n",
       "<td rowspan=\"2\" style=\"background-color:lightsteelblue;\">Cellule avec rowspan</td>\n",
       "<td>Valeur 3</td>\n",
       "</tr>\n",
       "<tr>\n",
       "<td>Valeur 4</td>\n",
       "</tr>\n",
       "</table>"
      ],
      "text/plain": [
       "<IPython.core.display.HTML object>"
      ]
     },
     "metadata": {},
     "output_type": "display_data"
    }
   ],
   "source": [
    "%%html\n",
    "<table cellpadding=\"3px\" cellspacing=\"0px\" rules=\"all\" style=\"border:solid 1px black; border-collapse:collapse\">\n",
    "<tr>\n",
    "<th>Titre 1</th> <th>Titre 2</th>\n",
    "</tr>\n",
    "<tr>\n",
    "<td>Valeur1</td> <td>Valeur2</td>\n",
    "</tr>\n",
    "<tr>\n",
    "<td colspan=\"2\" style=\"background-color:lightyellow;\">Cellule avec colspan</td>\n",
    "</tr>\n",
    "<tr>\n",
    "<td rowspan=\"2\" style=\"background-color:lightsteelblue;\">Cellule avec rowspan</td>\n",
    "<td>Valeur 3</td>\n",
    "</tr>\n",
    "<tr>\n",
    "<td>Valeur 4</td>\n",
    "</tr>\n",
    "</table>"
   ]
  },
  {
   "cell_type": "markdown",
   "metadata": {},
   "source": [
    "## TP :\n",
    "\n",
    "Je désire avoir un livre de cuisine avec quatre recettes de cuisine (une entrée, un plats et deux dessert) que vous aimez bien.    \n",
    "Chaque recettes doit contenir la **liste des ingrédients**, **une image du plat** et **le texte de la recette**.\n",
    "\n",
    "Le fichier Recettes.html doit contenir :\n",
    "- Première partie : Les entrée\n",
    "- Deuxième partie : Les plats\n",
    "- Troisième partie : Les desserts.\n",
    "\n",
    "**Me faire vérifier** puis après transformer ce site en 4 pages.\n",
    "\n",
    "- Une page ***Recettes.html*** avec des liens vers les recettes\n",
    "- Une page ***entree.html*** avec les recettes des entrées.\n",
    "- Une page ***plat.html*** avec les recettes des plats.\n",
    "- Une page ***dessert.html*** avec les recettes des desserts."
   ]
  },
  {
   "cell_type": "code",
   "execution_count": null,
   "metadata": {},
   "outputs": [],
   "source": []
  }
 ],
 "metadata": {
  "kernelspec": {
   "display_name": "Python 3",
   "language": "python",
   "name": "python3"
  },
  "language_info": {
   "codemirror_mode": {
    "name": "ipython",
    "version": 3
   },
   "file_extension": ".py",
   "mimetype": "text/x-python",
   "name": "python",
   "nbconvert_exporter": "python",
   "pygments_lexer": "ipython3",
   "version": "3.6.6rc1+"
  },
  "toc": {
   "colors": {
    "hover_highlight": "#DAA520",
    "navigate_num": "#000000",
    "navigate_text": "#333333",
    "running_highlight": "#FF0000",
    "selected_highlight": "#FFD700",
    "sidebar_border": "#EEEEEE",
    "wrapper_background": "#FFFFFF"
   },
   "moveMenuLeft": true,
   "nav_menu": {
    "height": "216px",
    "width": "252px"
   },
   "navigate_menu": true,
   "number_sections": true,
   "sideBar": true,
   "threshold": 4,
   "toc_cell": false,
   "toc_section_display": "block",
   "toc_window_display": false,
   "widenNotebook": false
  }
 },
 "nbformat": 4,
 "nbformat_minor": 2
}
