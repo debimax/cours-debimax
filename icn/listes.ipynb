{
 "cells": [
  {
   "cell_type": "code",
   "execution_count": 4,
   "metadata": {},
   "outputs": [
    {
     "data": {
      "application/javascript": [
       "IPython.Cell.options_default.cm_config.lineNumbers = true;\n"
      ],
      "text/plain": [
       "<IPython.core.display.Javascript object>"
      ]
     },
     "metadata": {},
     "output_type": "display_data"
    }
   ],
   "source": [
    "%%javascript\n",
    "IPython.Cell.options_default.cm_config.lineNumbers = true;"
   ]
  },
  {
   "cell_type": "code",
   "execution_count": 5,
   "metadata": {},
   "outputs": [
    {
     "data": {
      "text/html": [
       "<style>\n",
       "/* Pour le titre comme cela il n'y a pas de numérotation au */\n",
       "#titre{\n",
       "font-size: 24pt; \n",
       "color:#ff0000;\n",
       "text-decoration: underline;\n",
       "text-align: center;\n",
       "font-weight: bold;\n",
       "}\n",
       "\n",
       "div.text_cell_render { font-size: 12pt;   line-height: 145%; }\n",
       "div.text_cell_render h1{font-size: 24pt; color:#0000ff;  text-decoration: underline;}\n",
       "div.text_cell_render h2{font-size: 18pt;color:#0000ff;  text-decoration: underline;}\n",
       "div.text_cell_render h3{font-size: 14pt;color:#0000ff;  text-decoration: underline;}\n",
       "div.text_cell_render h4{font-size: 12pt;color:#0000ff;  text-decoration: underline; }\n",
       "div.text_cell_render h5 {font-weight: 300;}\n",
       "\n",
       "\n",
       "div.cell.code_cell { /* area that contains code + output */\n",
       "    background: #ffffff;\n",
       "    border: none;\n",
       "    border-radius: 10px;\n",
       "    padding-top: 1ex;\n",
       "}\n",
       "\n",
       "div.input_area { /* box around box with code */\n",
       "    border: none;\n",
       "    background: #f5f5f5;\n",
       "    border: 1px solid #ccc;\n",
       "    border-radius: 10px;\n",
       "    padding-top: 0.5ex;\n",
       "    padding-bottom: 0.5ex;\n",
       "    padding-left: 0.5em;\n",
       "}\n",
       "\n",
       "div.input { /* box with code */\n",
       "}\n",
       "\n",
       "div.CodeMirror { /* code font */\n",
       "    font-family: \"Inconsolata-dz\", monospace;\n",
       "    font-size: 10pt;\n",
       "}\n",
       "\n",
       "\n",
       "\n",
       "\n",
       "\n",
       "/*div.text_cell_render  code { font-size: medium; border: 3px #ababab solid; background-color: #f5f5f5;}*/\n",
       "/*.rendered_html code { border: 3px #ababab solid; background-color:  #f5f5f5;}*/\n",
       ".rendered_html blockquote { margin: 1em 2em; background: red; }\n",
       ".rendered_html ol { list-style:decimal; margin: 1em 2em; }\n",
       "\n",
       "\n",
       "/* classe pour inverse video */\n",
       ".reverse{\n",
       "    background-color: black;\n",
       "    color: white;\n",
       "}\n",
       "/*  strick   <s>texte/<s>*/\n",
       ".barre{\n",
       "\n",
       "}\n",
       "\n",
       "\n",
       "</style>"
      ],
      "text/plain": [
       "<IPython.core.display.HTML object>"
      ]
     },
     "execution_count": 5,
     "metadata": {},
     "output_type": "execute_result"
    }
   ],
   "source": [
    "# Charge ma feuille de style pour nbviewer\n",
    "from IPython.core.display import HTML\n",
    "from  urllib.request import urlopen\n",
    "# import urllib.request, urllib.parse, urllib.error\n",
    "\n",
    "url='https://github.com/debimax/cours-debimax/raw/master/static/custom.css'\n",
    "with urlopen(url) as response:\n",
    "    styles = response.read().decode(\"utf8\")\n",
    "styles=\"<style>\\n{}\\n</style>\".format(styles)\n",
    "HTML(styles)"
   ]
  },
  {
   "cell_type": "markdown",
   "metadata": {},
   "source": [
    "<div id=\"titre\">Le slicing et les structures de liste</div>"
   ]
  },
  {
   "cell_type": "markdown",
   "metadata": {},
   "source": [
    "# Spécificités des listes\n",
    "\n",
    "## Exemple\n",
    "\n",
    "Une listes est une collection d'éléments modifiables pouvant contenir différents types de données.    \n",
    "Il est bien sûr possible de modifier les éléments d'une liste:  \n",
    "par exemple"
   ]
  },
  {
   "cell_type": "code",
   "execution_count": null,
   "metadata": {},
   "outputs": [],
   "source": [
    "L=[1,3,5,7,8]\n",
    "print(L)"
   ]
  },
  {
   "cell_type": "code",
   "execution_count": null,
   "metadata": {},
   "outputs": [],
   "source": [
    "L=[1,3,'cinq','sept']\n",
    "print(L)"
   ]
  },
  {
   "cell_type": "markdown",
   "metadata": {},
   "source": [
    "`[]`  représente une liste vide"
   ]
  },
  {
   "cell_type": "code",
   "execution_count": null,
   "metadata": {},
   "outputs": [],
   "source": [
    "print([])"
   ]
  },
  {
   "cell_type": "markdown",
   "metadata": {},
   "source": [
    "Pour accéder aux éléments d'une liste on utilise les \"crochet\".\n",
    "\n",
    "Par exemple \n",
    "- `L[0]` est le premier élément de la liste\n",
    "- `L[1]` est le deuxième élément de la liste\n",
    "- `L[2]` est le troisième élément de la liste\n",
    "- `L[-1]` est le dernier élément de la liste"
   ]
  },
  {
   "cell_type": "code",
   "execution_count": null,
   "metadata": {},
   "outputs": [],
   "source": [
    "L=[1,3,'cinq','sept','neuf']\n",
    "print(L[0])\n",
    "print(L[1])\n",
    "print(L[2])\n",
    "print(L[-1])"
   ]
  },
  {
   "cell_type": "code",
   "execution_count": null,
   "metadata": {},
   "outputs": [],
   "source": [
    "Une liste peut elle même contenir une autre liste."
   ]
  },
  {
   "cell_type": "code",
   "execution_count": null,
   "metadata": {},
   "outputs": [],
   "source": [
    "L=[1,2,['a','b',['000','001','010']]]\n",
    "print(L)     # c'est une liste\n",
    "print(L[2])  # Le 3°  élément elle lui même une liste (c'est une sous liste)\n",
    "print(L[2][2]) # Le 3°  élément de la sous liste est encore une liste. C'est donc une sous sous liste\n",
    "print(L[2][2][0]) # On accède enfin à  l'élément de la sous sous liste"
   ]
  },
  {
   "cell_type": "markdown",
   "metadata": {},
   "source": [
    "## Quelques fonctions sur les listes\n",
    "\n",
    "### len()\n",
    "\n",
    "La fonction `len()` permet de connaître la taille d'une liste (nombre d'éléments qu'elle contient)."
   ]
  },
  {
   "cell_type": "code",
   "execution_count": null,
   "metadata": {},
   "outputs": [],
   "source": [
    "L=[1,3,'cinq','sept']\n",
    "len(L)"
   ]
  },
  {
   "cell_type": "markdown",
   "metadata": {},
   "source": [
    "Mais attention : cette fonction ne compte que les éléments de _<< premier niveau >>_ ! Si vous avez une structure de liste complexe contenant des sous-listes, chaque sous-liste ne comptera que comme un seul élément:"
   ]
  },
  {
   "cell_type": "code",
   "execution_count": null,
   "metadata": {},
   "outputs": [],
   "source": [
    "L=[1,2,['a','b',['000','001','010']]]\n",
    "print(len(L))"
   ]
  },
  {
   "cell_type": "markdown",
   "metadata": {},
   "source": [
    "### sum()\n",
    "\n",
    "Si votre liste est une collection de nombres (flotant en entier)  la fonction `sum()`  permet de faire la somme des éléments."
   ]
  },
  {
   "cell_type": "code",
   "execution_count": 7,
   "metadata": {},
   "outputs": [
    {
     "name": "stdout",
     "output_type": "stream",
     "text": [
      "[1, 3, 5, 7]\n",
      "16\n"
     ]
    }
   ],
   "source": [
    "L=[1,3,5,7]\n",
    "print(L)\n",
    "print(sum(L))"
   ]
  },
  {
   "cell_type": "markdown",
   "metadata": {},
   "source": [
    "### Transformer un texte en liste\n",
    "\n",
    "La fonction ***split()*** permet de ***découper*** la chaîne de caractères qui lui est passée en paramètre suivant un ou des caractère(s) de séparation et renvoie une liste des chaînes découpées. Les caractères de séparation lui sont également passés en paramètre et, si ce n'est pas le cas, ce sera le caractère espace qui sera utilisé :"
   ]
  },
  {
   "cell_type": "code",
   "execution_count": 22,
   "metadata": {},
   "outputs": [
    {
     "name": "stdout",
     "output_type": "stream",
     "text": [
      "['Pablo', 'Neruda', 'Saint', 'martin', \"d'hère\"]\n"
     ]
    }
   ],
   "source": [
    "str=\"Pablo Neruda Saint martin d'hère\"\n",
    "#On coupe selon un espace\n",
    "L=str.split()\n",
    "print(L)"
   ]
  },
  {
   "cell_type": "code",
   "execution_count": 20,
   "metadata": {},
   "outputs": [
    {
     "data": {
      "text/plain": [
       "['P', 'blo Nerud', ' S', 'int m', \"rtin d'hère\"]"
      ]
     },
     "execution_count": 20,
     "metadata": {},
     "output_type": "execute_result"
    }
   ],
   "source": [
    "texte=\"Pablo Neruda Saint martin d'hère\"\n",
    "L=texte.split('a')\n",
    "print(L)"
   ]
  },
  {
   "cell_type": "markdown",
   "metadata": {
    "collapsed": true
   },
   "source": [
    "Pour couper selon  chaque lettre on pourra utiliser une compréhension de liste que l'on expliquera après dans le cours."
   ]
  },
  {
   "cell_type": "code",
   "execution_count": null,
   "metadata": {},
   "outputs": [],
   "source": [
    "texte=\"Pablo Neruda Saint martin d'hère\"\n",
    "L=[i for i in texte]\n",
    "print(L)"
   ]
  },
  {
   "cell_type": "markdown",
   "metadata": {},
   "source": [
    "## Les méthodes de listes\n",
    "\n",
    "### Ajouter des éléments\n",
    "La méthode ***append(x)*** permet de rajouter l'élément x à la fin de la liste.\n",
    "\n",
    "Ce n'est pas une fonction et l'écriture est différente.  On écrit: ***Liste.append(élmt à ajouter)***"
   ]
  },
  {
   "cell_type": "code",
   "execution_count": null,
   "metadata": {
    "collapsed": true
   },
   "outputs": [],
   "source": [
    "l=[1,2,3,4]\n",
    "l.append(5)\n",
    "print(l)"
   ]
  },
  {
   "cell_type": "markdown",
   "metadata": {},
   "source": [
    "La méthode ***insert(n,x)*** permet d'insérer l'élément x dans la liste à l'indice n."
   ]
  },
  {
   "cell_type": "code",
   "execution_count": null,
   "metadata": {
    "collapsed": true
   },
   "outputs": [],
   "source": [
    "l=[1,2,3,4]\n",
    "l.insert(1,8)\n",
    "print(l)"
   ]
  },
  {
   "cell_type": "markdown",
   "metadata": {},
   "source": [
    "La méthode ***extend(l2)*** permet de réaliser la concaténation de deux listes sans réaffectation.  \n",
    "Cette opération est réalisable avec réaffectation en utilisant l'opérateur **+** :"
   ]
  },
  {
   "cell_type": "markdown",
   "metadata": {},
   "source": [
    "l1=[1,2,3]\n",
    "l2=[4,5,6]\n",
    "l1.extend(l2)\n",
    "l1"
   ]
  },
  {
   "cell_type": "code",
   "execution_count": null,
   "metadata": {
    "collapsed": true
   },
   "outputs": [],
   "source": [
    "l1=[1,2,3]\n",
    "l1=l1+l2  #On peut remplacer par l1+=l2\n",
    "print(l1)"
   ]
  },
  {
   "cell_type": "markdown",
   "metadata": {},
   "source": [
    "### Supprimer des éléments\n",
    "\n",
    "- La méthode ***clear()*** (depuis python3.3) permet d'effacer la liste"
   ]
  },
  {
   "cell_type": "code",
   "execution_count": null,
   "metadata": {
    "collapsed": true
   },
   "outputs": [],
   "source": [
    "l=[1,2,3]\n",
    "l.clear()\n",
    "print(l)"
   ]
  },
  {
   "cell_type": "markdown",
   "metadata": {},
   "source": [
    "- ***remove(x)*** supprime la première occurrence de x."
   ]
  },
  {
   "cell_type": "code",
   "execution_count": null,
   "metadata": {
    "collapsed": true
   },
   "outputs": [],
   "source": [
    "l=[1,2,3,1]\n",
    "l.remove(1)\n",
    "print(l)"
   ]
  },
  {
   "cell_type": "markdown",
   "metadata": {},
   "source": [
    "l.remove(1)\n",
    "l"
   ]
  },
  {
   "cell_type": "code",
   "execution_count": null,
   "metadata": {
    "collapsed": true
   },
   "outputs": [],
   "source": [
    "l.remove(1)\n",
    "print(l)"
   ]
  },
  {
   "cell_type": "markdown",
   "metadata": {},
   "source": [
    "- La méthode ***l.pop([i])*** Retourne l'élément de la liste l d'indice i et supprime cet élément  de la liste."
   ]
  },
  {
   "cell_type": "code",
   "execution_count": null,
   "metadata": {
    "collapsed": true
   },
   "outputs": [],
   "source": [
    "l=[1,2,3,1]\n",
    "a=l.pop(2)\n",
    "print(a)\n",
    "print(l)"
   ]
  },
  {
   "cell_type": "markdown",
   "metadata": {},
   "source": [
    "- La fonction ***del*** supprime aussi un élément précis en fonction de son indice :"
   ]
  },
  {
   "cell_type": "code",
   "execution_count": null,
   "metadata": {
    "collapsed": true
   },
   "outputs": [],
   "source": [
    "l=[1,2,3,1]\n",
    "del l[2]\n",
    "print(l)"
   ]
  },
  {
   "cell_type": "code",
   "execution_count": null,
   "metadata": {},
   "outputs": [],
   "source": [
    "distrib = ['debian','ubuntu','fedora']\n",
    "'debian' in distrib"
   ]
  },
  {
   "cell_type": "markdown",
   "metadata": {},
   "source": [
    "### Autres méthodes\n",
    "\n",
    "- Pour savoir si un élément appartient bien à une liste on utilise le mot-clé **_in_**.  \n",
    "Si l'élément testé est dans la liste, la valeur retournée sera **_True_** et sinon ce sera **_False_**:"
   ]
  },
  {
   "cell_type": "code",
   "execution_count": null,
   "metadata": {
    "collapsed": true
   },
   "outputs": [],
   "source": [
    "'mandriva' in distrib"
   ]
  },
  {
   "cell_type": "markdown",
   "metadata": {},
   "source": [
    "- Il est également possible d'obtenir l'indice de la première occurrence d'un élément par la méthode **_index()_**:"
   ]
  },
  {
   "cell_type": "code",
   "execution_count": null,
   "metadata": {
    "collapsed": true
   },
   "outputs": [],
   "source": [
    "distrib.index('ubuntu')"
   ]
  },
  {
   "cell_type": "markdown",
   "metadata": {},
   "source": [
    "Il faut évidemment que l'élément se trouve dans la liste"
   ]
  },
  {
   "cell_type": "code",
   "execution_count": null,
   "metadata": {},
   "outputs": [],
   "source": [
    "distrib = ['debian','ubuntu','fedora']\n",
    "distrib.index('gentoo')"
   ]
  },
  {
   "cell_type": "markdown",
   "metadata": {},
   "source": [
    "Pour éviter ce type d'erreur on utilisera ***try: ...   except: ***  ou on vérifira la présence avant de l'élément."
   ]
  },
  {
   "cell_type": "code",
   "execution_count": null,
   "metadata": {},
   "outputs": [],
   "source": [
    "distrib = ['debian','ubuntu','fedora']\n",
    "#nom='debian'\n",
    "nom='gentoo'\n",
    "try: \n",
    "    print(distrib.index(nom))\n",
    "except:\n",
    "    print(\"{} n'est pas dans la liste\".format(nom))"
   ]
  },
  {
   "cell_type": "code",
   "execution_count": null,
   "metadata": {},
   "outputs": [],
   "source": [
    "distrib = ['debian','ubuntu','fedora']\n",
    "\n",
    "#nom='debian'\n",
    "nom='gentoo'\n",
    "if nom in distrib :\n",
    "    print(distrib.index(nom))\n",
    "else:\n",
    "    print(\"{} n'est pas dans la liste\".format(nom))"
   ]
  },
  {
   "cell_type": "markdown",
   "metadata": {},
   "source": [
    "## Les compréhensions de listes\n",
    "\n",
    "Nous souhaitons obtenir la liste des carrés pour i allant de 0 à 20.  \n",
    "Une première méthode peut être celle-ci"
   ]
  },
  {
   "cell_type": "code",
   "execution_count": null,
   "metadata": {
    "collapsed": true
   },
   "outputs": [],
   "source": [
    "carre=[]                 # On créer une liste vide\n",
    "for i in range(21):      # pour i allant de 0 à 20\n",
    "    carre.append(i**2)   # On ajoute le carré\n",
    "print(carre)             # On affiche la liste"
   ]
  },
  {
   "cell_type": "markdown",
   "metadata": {},
   "source": [
    "Python implémente un mécanisme appelé << **_compréhension de listes_** >>, permettant d'utiliser une fonction qui sera appliquée sur chacun des éléments d'une liste."
   ]
  },
  {
   "cell_type": "code",
   "execution_count": null,
   "metadata": {
    "collapsed": true
   },
   "outputs": [],
   "source": [
    "l=[i**2 for i in range(21)]\n",
    "print(l)"
   ]
  },
  {
   "cell_type": "markdown",
   "metadata": {},
   "source": [
    "À l'aide de l'instruction ***for i in range(21)***, on récupère les entiers i de 0 à 20, et on place les carré (i\\*\\*2 ) dans la liste.    \n",
    "Ce mécanisme peut produire des résultats plus complexes et on peut aussi appliquer une condition aux éléments *i* à utiliser.\n",
    "\n",
    "Voici une deuxième méthode (souvent plus efficace) pour construire les listes en python."
   ]
  },
  {
   "cell_type": "code",
   "execution_count": null,
   "metadata": {
    "collapsed": true
   },
   "outputs": [],
   "source": [
    "carre=[i**2 for i in range(21) if i%2==0 and i>2]  # si i est pair et strictement supérieur à 2\n",
    "carre"
   ]
  },
  {
   "cell_type": "code",
   "execution_count": null,
   "metadata": {
    "collapsed": true
   },
   "outputs": [],
   "source": [
    "import random\n",
    "l=[random.randint(1,6) for i in range(20)]\n",
    "l # liste de 20 nombres aléatoires entre 1 et 6"
   ]
  },
  {
   "cell_type": "markdown",
   "metadata": {},
   "source": [
    "Il y a donc différentes façon de construire une liste\n",
    "\n",
    "ou par ***compréhension***\n",
    "\n",
    "les compréhensions de listes peuvent également être utilisés avec les dictionnaires.\n",
    "\n",
    "##  À retenir\n",
    "\n",
    "Il faut savoir ajouter, rechercher , enlever un élément dans une liste\n",
    "Les méthodes à connaitre sont ***append(), insert(), remove(), count(), index(), pop()*** ainsi que la fonction ***del***"
   ]
  },
  {
   "cell_type": "markdown",
   "metadata": {},
   "source": [
    "# Le slicing\n",
    "\n",
    "Le **_slicing_** est une méthode applicable à tous les objets de type liste ordonnée (liste ou chaîne de caractère mais pas aux dictionnaires). ll s'agit d'un << découpage en tranches >> des éléments d'une liste de manière à récupérer des objets respectant cette découpe.donc \n",
    "\n",
    "Pour cela, nous devrons spécifier l'indice de l'élément de départ, l'indice de l'élément d'arrivée (qui ne sera pas compris dans la plage) et le pas de déplacement. Pour une variable v donnée, l'écriture se fera en utilisant la notation entre crochets et en séparant chacun des paramètres par le caractère deux-points: **_v[début:fin:pas]_**. Cette écriture peut se traduire par : << les caractères de la variable **_v_** depuis l'indice **_début_** jusqu'à l'indice **_fin_** non compris avec un déplacement de **_pas_** caractère(s) >>.  \n",
    "\n",
    "Pour bien comprendre le fonctionnement du slicing, nous commencerons par l'appliquer aux chaînes de caractères avant de voir les listes et les tuples.\n",
    "\n",
    "##  Le slicing sur une liste\n",
    "\n",
    "Voici un premier exemple simple"
   ]
  },
  {
   "cell_type": "code",
   "execution_count": null,
   "metadata": {
    "collapsed": true
   },
   "outputs": [],
   "source": [
    "c='Pablo Neruda'\n",
    "c[:5]"
   ]
  },
  {
   "cell_type": "code",
   "execution_count": null,
   "metadata": {
    "collapsed": true
   },
   "outputs": [],
   "source": [
    "c[6:12]"
   ]
  },
  {
   "cell_type": "markdown",
   "metadata": {},
   "source": [
    "Vous avez remarque que dans ce code aucune indication de pas n'a été donnée : c'est la valeur par défaut qui est alors utilisée, c'est-a-dire **_1_**. De même, si la valeur de début est omise, la valeur par défaut utilisée sera **_0_** et si la valeur de fin est omise, la valeur par défaut utilisée sera la _taille de la chaîne+1_."
   ]
  },
  {
   "cell_type": "code",
   "execution_count": null,
   "metadata": {
    "collapsed": true
   },
   "outputs": [],
   "source": [
    "c[:5] # équivaut à c[0:5], équivaut à c[0:5:1]"
   ]
  },
  {
   "cell_type": "code",
   "execution_count": null,
   "metadata": {
    "collapsed": true
   },
   "outputs": [],
   "source": [
    "c[6:] # équivaut à c[6:12], équivaut à c[6:12:1]"
   ]
  },
  {
   "cell_type": "markdown",
   "metadata": {},
   "source": [
    "Du fait de ces valeurs par défaut, que pensez vous que l'on sélectionne en tapant: c[:] ou encore c[::]?  "
   ]
  },
  {
   "cell_type": "code",
   "execution_count": null,
   "metadata": {
    "collapsed": true
   },
   "outputs": [],
   "source": [
    "c[:]"
   ]
  },
  {
   "cell_type": "code",
   "execution_count": null,
   "metadata": {
    "collapsed": true
   },
   "outputs": [],
   "source": [
    "c[::]"
   ]
  },
  {
   "cell_type": "markdown",
   "metadata": {},
   "source": [
    "La chaîne entière, bien sûr :\n",
    "\n",
    "Il devient alors très simple d'inverser une chaîne en utilisant le pas :"
   ]
  },
  {
   "cell_type": "code",
   "execution_count": null,
   "metadata": {
    "collapsed": true
   },
   "outputs": [],
   "source": [
    "c[::-1]"
   ]
  },
  {
   "cell_type": "markdown",
   "metadata": {},
   "source": [
    "Une première solution pour effectuer une copie peut être d'utiliser le slicing.  \n",
    "En effet, l'opération [:] renvoie une nouvelle liste, ce qui résout le problème des pointeurs vers la même zone mémoire, comme le montrent l'exemple suivant :"
   ]
  },
  {
   "cell_type": "code",
   "execution_count": null,
   "metadata": {
    "collapsed": true
   },
   "outputs": [],
   "source": [
    "listea =[1, 2, 3]\n",
    "listeb =listea[:]\n",
    "print(listea)\n",
    "print(listeb)"
   ]
  },
  {
   "cell_type": "code",
   "execution_count": null,
   "metadata": {
    "collapsed": true
   },
   "outputs": [],
   "source": [
    "listeb[0]=0\n",
    "print(listeb)"
   ]
  },
  {
   "cell_type": "markdown",
   "metadata": {},
   "source": [
    "Cette copie peut paraître satisfaisante... et elle l'est, mais à condition de ne manipuler que des listes de premier niveau ne comportant aucune sous-liste :"
   ]
  },
  {
   "cell_type": "code",
   "execution_count": null,
   "metadata": {
    "collapsed": true
   },
   "outputs": [],
   "source": [
    "listea=[1,2,3,[4,5,6]]\n",
    "listeb =listea[:]\n",
    "print(listea)\n",
    "print(listeb)"
   ]
  },
  {
   "cell_type": "code",
   "execution_count": null,
   "metadata": {
    "collapsed": true
   },
   "outputs": [],
   "source": [
    "listeb[3][0]=0\n",
    "print(listeb)"
   ]
  },
  {
   "cell_type": "markdown",
   "metadata": {
    "collapsed": true
   },
   "source": [
    "En effet, le slicing n'effectue pas de copie récursive: en cas de sous-liste, on retombe dans la problématique des pointeurs mémoire. La solution est alors d'utiliser un module spécifique, le module **_copy_**, qui permet d'effectuer une copie récursive. Bien que n'ayant pas encore approfondi la manipulation des modules, voici comment réaliser une copie de liste par cette méthode:"
   ]
  },
  {
   "cell_type": "markdown",
   "metadata": {},
   "source": [
    "from copy   import *\n",
    "listea=[1,2,3,[4,5,6]]\n",
    "listeb=deepcopy(listea)\n",
    "print(listea)\n",
    "print(listeb)"
   ]
  },
  {
   "cell_type": "markdown",
   "metadata": {},
   "source": [
    "# Exercices sur les listes\n",
    "\n",
    "**Exercice 1**:  Créer la fonction  ***SommeEntierPaire(n)***  qui créer une liste des n premiers entier paire  (avec 0)  puis retourne la somme de cette liste avec la fonction ***sum()***.   "
   ]
  },
  {
   "cell_type": "code",
   "execution_count": null,
   "metadata": {},
   "outputs": [],
   "source": [
    "def SommeEntierPaire(n):\n",
    "    \n",
    "    \n",
    "    \n",
    "    return somme\n",
    "\n",
    "print(SommeEntierPaire(5))   #  0+2+4+6+8+10=30"
   ]
  },
  {
   "cell_type": "markdown",
   "metadata": {},
   "source": [
    "**Exercice 2**: On met un grain de riz sur la 1° case d'un échiquier, deux sur la deuxième, 4 sur la troisième, 8 sur la quatrième etc....\n",
    "\n",
    "Combien y a t il de grain de grain sur l'échiquier?  \n",
    "\n",
    "Créer un script qui retournera une liste avec le nombre de nombre de grain de chaque case.\n",
    "\n",
    "On calculera ensuite le nombre total de grain de riz.  "
   ]
  },
  {
   "cell_type": "code",
   "execution_count": null,
   "metadata": {},
   "outputs": [],
   "source": [
    "def listeriz():\n",
    "    liste=[]\n",
    "    \n",
    "    \n",
    "    \n",
    "    return liste\n",
    "\n",
    "print(liste)\n",
    "print(sum(liste))"
   ]
  },
  {
   "cell_type": "markdown",
   "metadata": {},
   "source": [
    "Modifier le script précédent pour un damier  (10*10)."
   ]
  },
  {
   "cell_type": "code",
   "execution_count": null,
   "metadata": {},
   "outputs": [],
   "source": []
  },
  {
   "cell_type": "markdown",
   "metadata": {},
   "source": [
    "***Exercice 3 :*** Échange de valeurs\n",
    "\n",
    "Écrire une fonction ***echange(L)*** qui échange les valeurs de la première et de la dernière case d’une liste quelconque non vide.\n",
    "Je rappelle que ***len(L)***  renvoie le nombre d'élément de ***L***\n"
   ]
  },
  {
   "cell_type": "code",
   "execution_count": null,
   "metadata": {},
   "outputs": [],
   "source": [
    " def echange(L):\n",
    "        \n",
    "        \n",
    "        \n",
    "print([6, 12, 18, 5])"
   ]
  }
 ],
 "metadata": {
  "kernelspec": {
   "display_name": "Python 3",
   "language": "python",
   "name": "python3"
  },
  "language_info": {
   "codemirror_mode": {
    "name": "ipython",
    "version": 3
   },
   "file_extension": ".py",
   "mimetype": "text/x-python",
   "name": "python",
   "nbconvert_exporter": "python",
   "pygments_lexer": "ipython3",
   "version": "3.7.3rc1"
  },
  "latex_envs": {
   "LaTeX_envs_menu_present": true,
   "autocomplete": true,
   "bibliofile": "biblio.bib",
   "cite_by": "apalike",
   "current_citInitial": 1,
   "eqLabelWithNumbers": true,
   "eqNumInitial": 1,
   "hotkeys": {
    "equation": "Ctrl-E",
    "itemize": "Ctrl-I"
   },
   "labels_anchors": false,
   "latex_user_defs": false,
   "report_style_numbering": false,
   "user_envs_cfg": false
  },
  "toc": {
   "colors": {
    "hover_highlight": "#DAA520",
    "navigate_num": "#000000",
    "navigate_text": "#333333",
    "running_highlight": "#FF0000",
    "selected_highlight": "#FFD700",
    "sidebar_border": "#EEEEEE",
    "wrapper_background": "#FFFFFF"
   },
   "moveMenuLeft": true,
   "nav_menu": {
    "height": "452px",
    "width": "252px"
   },
   "navigate_menu": true,
   "number_sections": true,
   "sideBar": true,
   "threshold": 4,
   "toc_cell": false,
   "toc_position": {
    "height": "677px",
    "left": "0px",
    "right": "1486px",
    "top": "107px",
    "width": "201px"
   },
   "toc_section_display": "block",
   "toc_window_display": false,
   "widenNotebook": false
  }
 },
 "nbformat": 4,
 "nbformat_minor": 1
}
