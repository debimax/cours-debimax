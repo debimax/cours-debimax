{
 "cells": [
  {
   "cell_type": "code",
   "execution_count": 2,
   "metadata": {
    "collapsed": false
   },
   "outputs": [
    {
     "data": {
      "application/javascript": [
       "IPython.Cell.options_default.cm_config.lineNumbers = true;"
      ],
      "text/plain": [
       "<IPython.core.display.Javascript object>"
      ]
     },
     "metadata": {},
     "output_type": "display_data"
    }
   ],
   "source": [
    "%%javascript\n",
    "IPython.Cell.options_default.cm_config.lineNumbers = true;"
   ]
  },
  {
   "cell_type": "code",
   "execution_count": 3,
   "metadata": {
    "collapsed": false
   },
   "outputs": [
    {
     "data": {
      "text/html": [
       "<style>\n",
       "/* Pour le titre comme cela il n'y a pas de numérotation au */\n",
       "#titre{\n",
       "font-size: 24pt; \n",
       "color:#ff0000;\n",
       "text-decoration: underline;\n",
       "text-align: center;\n",
       "font-weight: bold;\n",
       "}\n",
       "\n",
       "div.text_cell_render { font-size: 12pt;   line-height: 145%; }\n",
       "div.text_cell_render h1{font-size: 24pt; color:#0000ff;  text-decoration: underline;}\n",
       "div.text_cell_render h2{font-size: 18pt;color:#0000ff;  text-decoration: underline;}\n",
       "div.text_cell_render h3{font-size: 14pt;color:#0000ff;  text-decoration: underline;}\n",
       "div.text_cell_render h4{font-size: 12pt;color:#0000ff;  text-decoration: underline; }\n",
       "div.text_cell_render h5 {font-weight: 300;}\n",
       "\n",
       "\n",
       "div.cell.code_cell { /* area that contains code + output */\n",
       "    background: #ffffff;\n",
       "    border: none;\n",
       "    border-radius: 10px;\n",
       "    padding-top: 1ex;\n",
       "}\n",
       "\n",
       "div.input_area { /* box around box with code */\n",
       "    border: none;\n",
       "    background: #f5f5f5;\n",
       "    border: 1px solid #ccc;\n",
       "    border-radius: 10px;\n",
       "    padding-top: 0.5ex;\n",
       "    padding-bottom: 0.5ex;\n",
       "    padding-left: 0.5em;\n",
       "}\n",
       "\n",
       "div.input { /* box with code */\n",
       "}\n",
       "\n",
       "div.CodeMirror { /* code font */\n",
       "    font-family: \"Inconsolata-dz\", monospace;\n",
       "    font-size: 10pt;\n",
       "}\n",
       "\n",
       "\n",
       "\n",
       "\n",
       "\n",
       "/*div.text_cell_render  code { font-size: medium; border: 3px #ababab solid; background-color: #f5f5f5;}*/\n",
       "/*.rendered_html code { border: 3px #ababab solid; background-color:  #f5f5f5;}*/\n",
       ".rendered_html blockquote { margin: 1em 2em; background: red; }\n",
       ".rendered_html ol { list-style:decimal; margin: 1em 2em; }\n",
       "\n",
       "\n",
       "/* classe pour inverse video */\n",
       ".reverse{\n",
       "    background-color: black;\n",
       "    color: white;\n",
       "}\n",
       "/*  strick   <s>texte/<s>*/\n",
       ".barre{\n",
       "\n",
       "}\n",
       "\n",
       "\n",
       "</style>"
      ],
      "text/plain": [
       "<IPython.core.display.HTML object>"
      ]
     },
     "execution_count": 3,
     "metadata": {},
     "output_type": "execute_result"
    }
   ],
   "source": [
    "# Charge ma feuille de style pour nbviewer\n",
    "from IPython.core.display import HTML\n",
    "from  urllib.request import urlopen\n",
    "# import urllib.request, urllib.parse, urllib.error\n",
    "\n",
    "url='https://github.com/debimax/cours-debimax/raw/master/static/custom.css'\n",
    "with urlopen(url) as response:\n",
    "    styles = response.read().decode(\"utf8\")\n",
    "styles=\"<style>\\n{}\\n</style>\".format(styles)\n",
    "HTML(styles)"
   ]
  },
  {
   "cell_type": "markdown",
   "metadata": {},
   "source": [
    "<div id=\"titre\"> Site internet en python avec flask</div>"
   ]
  },
  {
   "cell_type": "markdown",
   "metadata": {},
   "source": [
    "\n",
    "## Préliminaires\n",
    "\n",
    "Classiquement sur internet on utilise un serveur ***lamp*** :  \n",
    "**l**inux (os), **a**pache (serveur), **m**ysql (base de données), **p**hp (language de programmation pour avoir des pages dynamiques).\n",
    "\n",
    "Il existe de nombreux outils pour le web écrit en python: *serveur Web* (Zope, gunicorn) ; *script cgi*; *frameworks Web* (Flask, Django, cherrypy etc ...), \n",
    "\n",
    "nous utiliserons le framework ***flask***. Pour se documenter je vous conseille ces quelques sites suivants.  \n",
    "- [http://flask.pocoo.org/docs](http://flask.pocoo.org/docs)\n",
    "- [http://openclassrooms.com/courses/creez-vos-applications-web-avec-flask](http://openclassrooms.com/courses/creez-vos-applications-web-avec-flask)\n",
    "- [http://pub.phyks.me/sdz/sdz/creez-vos-applications-web-avec-flask.html](http://pub.phyks.me/sdz/sdz/creez-vos-applications-web-avec-flask.html)\n",
    "- [https://www.tutorialspoint.com/flask/flask_quick_guide.htm](https://www.tutorialspoint.com/flask/flask_quick_guide.htm)\n",
    "\n",
    "Nous avons besoin de quelques fichiers pour commencer.\n",
    "\n",
    "- Depuis le lycée copiez le dossier ***Harp->General/isn/isn-flask***  dans votre session  \n",
    "- Sinon sur internet:\n",
    "  - Télécharger le fichier [isn-flask.tar.gz](https://github.com/debimax/cours-debimax/raw/master/documents/isn-flask.tar.gz) si vous êtes sous linux ou   [isn-flask.zip](https://github.com/debimax/cours-debimax/raw/master/documents/isn-flask.zip) si vous êtes sous windows.\n",
    "  - Décompressez le (en console : tar zxvf isn-flask.tar.gz).\n",
    "  \n",
    "  \n",
    "Ouvrez pyzo puis installez le module ***flask***  \n",
    "```bash\n",
    "pip install flask\n",
    "```"
   ]
  },
  {
   "cell_type": "markdown",
   "metadata": {},
   "source": [
    "## Flask et les templates\n",
    "\n",
    "###  Le principe\n",
    "\n",
    "lorsque vous saisissez une URL dans votre navigateur, que vous validez cette dernière, votre navigateur envoie une \"requête\" au serveur concerné afin qu'il nous renvoie une page web.  \n",
    "Tout d'abord, on nomme vulgairement l'échange de données entre votre navigateur et le serveur qui fournit les pages web un échange ***client / serveur***.   \n",
    "Le client représente votre navigateur.\n",
    "\n",
    "<center><img width=400px src=\"https://github.com/debimax/cours-debimax/raw/master/images/client-serveur.png\" /></center>\n",
    "\n",
    "Nous programmerons donc \"coté serveur\" en python.   \n",
    "\n",
    "Avec *Flask* on pourrait mettre le code dans un seul *fichier.py* mais on utilise de préférence des ***templates*** (avec ***jinja***).  \n",
    "L'arborescence d'un projet Flask sera :\n",
    "\n",
    "```\n",
    "   projet/script.py\n",
    "   projet/static/\n",
    "   projet/templates\n",
    "   projet/templates/les_templates.html\n",
    "```\n",
    "\n",
    "Les templates se mettent dans le dossier ***templates/***. Le dossier ***static/*** contiendra lui toutes les images, fichiers\n",
    "css, js ...  \n",
    "\n",
    "Ouvrez avec *pyzo* le fichier ***exemple.py*** :\n"
   ]
  },
  {
   "cell_type": "markdown",
   "metadata": {
    "variables": {
     " ligne ": "<p><strong>NameError</strong>: name &#39;ligne&#39; is not defined</p>\n",
     " titre ": "<p><strong>NameError</strong>: name &#39;titre&#39; is not defined</p>\n"
    }
   },
   "source": [
    "\n",
    "```python\n",
    "01#!/usr/bin/python3\n",
    "02# -*- coding: utf-8 -*-\n",
    "03from flask import Flask, render_template, url_for\n",
    "04app = Flask(__name__)   # Initialise l'application Flask\n",
    "05\n",
    "06@app.route('/')  # C'est un décorateur, on donne la route ici \"/\"  l'adresse sera donc localhost:5000/\n",
    "07def accueil():\n",
    "08    Lignes=['ligne {}'.format(i) for i in range(1,10)] # Que fait cette ligne?\n",
    "09    return render_template(\"accueil.html\", titre=\"Bienvenue !\",lignes=Lignes) # On utilise le template accueil.html, avec les variables titre et lignes\n",
    "10\n",
    "11if __name__ == __main__ :\n",
    "12    app.run(debug=True)\n",
    "```\n",
    "\n",
    "Dans le code ci-dessous, quel est le contenu de la variable ***lignes***?\n",
    "\n",
    "```python\n",
    " liges=['ligne{}'.format(i) for i in range(1,10)]\n",
    "```\n",
    "\n",
    "...............................................................................................................\n",
    "\n",
    "Exécuter le fichier ***exemple.py***  depuis *pyzo*, le server est lancé.  \n",
    "Ouvrez un navigateur internet à l'adresse [http://localhost:5000](http://localhost:5000).\n",
    "\n",
    "<center><img width=600px  align=\"left;\"  src=\"https://raw.githubusercontent.com/debimax/cours-debimax/master/images/flask.png\" /></center>\n",
    "\n",
    "Regardons  maintenant fichier ***templates/accueil.html***.\n",
    "\n",
    "```html\n",
    "01<html>\n",
    "02<head>\n",
    "03<meta charset=\"utf-8\" />\n",
    "04<title>{{ titre }}</title>\n",
    "05<!-- On importe notre frichier css -->\n",
    "06<link href=\"{{ url_for('static', filename='mon_style.css') }}\" rel=\"stylesheet\" type=\"text/css\" />\n",
    "07<!-- On importe la librairie Brython -->\n",
    "08<script type=\"text/javascript\" src=\"{{url_for('static', filename='brython.js') }}\"></script>\n",
    "09<script type=\"text/javascript\" src=\"{{url_for('static', filename='brython_stdlib.js') }}\"></script>\n",
    "10</head>\n",
    "11\n",
    "12<body onload=\"brython(1)\">\n",
    "13<header  class=\"site-header\"><h1>{{ titre }}</h1></header>  <!-- On affiche le titre -->\n",
    "14<section  class=\"site-content\">\n",
    "15  <ul>\n",
    "16    {% for ligne in lignes %}   <!-- Avec jinja on peut utiliser des boucles des conditions etc. (voir la documentation) -->\n",
    "17      <li>{{ ligne }}</li>        <!-- On affiche le contenu de la liste ligne -->\n",
    "18    {% endfor %}\n",
    "19  </ul>\n",
    "20</section>\n",
    "21<footer>\n",
    "22{% include 'foot.html' %}\n",
    "23</footer>\n",
    "24</body>\n",
    "25</html>\n",
    "```\n",
    "\n",
    "\n",
    "\n",
    "Le fichier *templates/accueil.html*  s'appelle un ***template*** et le logiciel qui gère ces templates est ***jinja*** (on dit aussi moteur de templates).\n",
    "\n",
    "Quelques explications sur le template:  \n",
    "- Tout ce qui est contenu entre ***{{ }}*** ou ***{%  %}*** est exécuté par ***jinja***\n",
    "-  Flask (les autres aussi d'ailleur) utilise le dossier ***static*** pour tous les fichiers statics comme les images, les fichers css, js etc ...\n",
    "- url_for('static', filename='mon_style.css')  correspond donc à l'adresse du fichier /static/monstyle.css\n",
    "- Le favicon (ligne 12) est la petite icone que l'on voit à coté du titre ici bienvenue !.\n",
    "\n",
    "\n"
   ]
  },
  {
   "cell_type": "markdown",
   "metadata": {
    "variables": {
     "</span> <span class=\"cm-attribute\">url_for(</span><span class=\"cm-string cm-error\">'static'</span> <span class=\"cm-attribute\">,</span> <span class=\"cm-attribute\">filename</span>=<span class=\"cm-string\">'favicon.ico'</span><span class=\"cm-attribute\">)": "<p><strong>SyntaxError</strong>: invalid syntax (<ipython-input-1-6cf102dc3cc7>, line 1)</p>\n",
     "</span> <span class=\"cm-attribute\">url_for(</span><span class=\"cm-string cm-error\">'static'</span><span class=\"cm-attribute\">,filename</span> =<span class=\"cm-string\">'fleur.png'</span><span class=\"cm-attribute\">)</span> <span class=\"cm-attribute\">": "<p><strong>SyntaxError</strong>: invalid syntax (<ipython-input-1-3088f20b2131>, line 1)</p>\n"
    }
   },
   "source": [
    "### Les images\n",
    "\n",
    "Ajoutons une image.  J'ai déjà mis deux  images dans le dossier ***static/*** (favicon.ico et fleur.png).  \n",
    "Il suffit donc de rajouter dans ***templates/accueil.html***\n",
    "\n",
    "Je rappelle la syntaxe avec flaks pour les liens des fichiers ***href=\"{{ url_for('nom_du_dossier', filename='nom_du_fichier') }}\"***\n",
    "\n",
    "  <span class=\"reverse\">09&lt;script type=\"text/javascript\" src=\"{{url_for('static', filename='brython_stdlib.js') }}\"&gt;&lt;/script&gt;</span>\n",
    "```html\n",
    "10\n",
    "11<!-- Les images -->\n",
    "12<link rel=\"shortcut icon\" href=\"{{ url_for('static', filename='favicon.ico') }}\">\n",
    "```  \n",
    " <span class=\"reverse\">13&lt;/head&gt;</span>  \n",
    "  <span class=\"reverse\">14</span>\n",
    "\n",
    "```html\n",
    "15<body onload=\"brython(1)\">\n",
    "16 <header class=\"site-header\"><h1>{ titre }} <img src=\"{{ url_for('static',filename ='fleur.png') }}\" alt=\"fleur\" title=\"fleur\" border=\"0\"></h1></header>\n",
    "```\n",
    " <span class=\"reverse\">17&lt;section  class=\"site-content\"&gt;</span>"
   ]
  },
  {
   "cell_type": "markdown",
   "metadata": {
    "variables": {
     " nom ": "<p><strong>NameError</strong>: name &#39;nom&#39; is not defined</p>\n",
     " prenom ": "<p><strong>NameError</strong>: name &#39;prenom&#39; is not defined</p>\n",
     " titre ": "<p><strong>NameError</strong>: name &#39;titre&#39; is not defined</p>\n",
     " url_for('hello') ": "<p><strong>NameError</strong>: name &#39;url_for&#39; is not defined</p>\n",
     " url_for('static', filename = 'fleur.png') ": "<p><strong>NameError</strong>: name &#39;url_for&#39; is not defined</p>\n",
     " url_for('static', filename='favicon.ico') ": "<p><strong>NameError</strong>: name &#39;url_for&#39; is not defined</p>\n",
     " url_for('static', filename='mon_style.css') ": "<p><strong>NameError</strong>: name &#39;url_for&#39; is not defined</p>\n",
     "url_for('static', filename='mes_scripts.js') ": "<p><strong>NameError</strong>: name &#39;url_for&#39; is not defined</p>\n"
    }
   },
   "source": [
    "\n",
    "## Les formulaires\n",
    "\n",
    "\n",
    "\n",
    "\n",
    "Dans le protocole ***HTTP***, une ***méthode*** est une Commande spécifiant un type de requête, c'est-à-dire qu'elle demande au serveur d'effectuer une action. En général l'action concerne une ressource identifiée par l'URL qui suit le nom de la méthode\n",
    "\n",
    "- La méthode ***get***:      \n",
    "C'est la méthode la plus courante pour demander une ressource.\n",
    "- La méthode ***post***:  \n",
    "Cette méthode est utilisée pour transmettre des données en vue d'un traitement à une ressource (le plus souvent depuis un formulaire HTML). L'URI fournie est l'URI d'une ressource à laquelle s'appliqueront les données envoyées. Le résultat peut être la création de nouvelles ressources ou la modification de ressources existantes.\n",
    "\n",
    "### Exemple de formulaire utilisant la méthode POST\n",
    "\n",
    "Une page internet utilise souvent des champs de formulaire avec la balise ***INPUT*** et il existe de nombreux champs de formulaires. Regardez sur ce site quelques possibilités [http://www.startyourdev.com/html/tag-html-balise-input](http://www.startyourdev.com/html/tag-html-balise-input)\n",
    "\n",
    "Modifions la page ***templates/accueil.html*** pour mettre un *formulaire*\n",
    "\n",
    "```html\n",
    "17  </ul>\n",
    "18  <div id=\"content\">\n",
    "19     <form method=\"post\" action=\"{{ url_for('hello') }}\">\n",
    "20     <label for=\"nom\">Entrez votre nom:</label>\n",
    "21     <input type=\"text\" name=\"nom\" /><br />\n",
    "22     <label for=\"prenom\">Entrez votre prénom:</label>\n",
    "23     <input type=\"text\" name=\"prenom\" /><br />\n",
    "24     <input type=\"submit\" />\n",
    "25     </form>\n",
    "26 </div>\n",
    "27 </section>\n",
    "```\n",
    "\n",
    "pour le fichier ***exemple.py*** on importe ***flask.request***\n",
    "```python\n",
    "03 from flask import Flask, render_template, url_for, request\n",
    "```  \n",
    "et on crée une nouvelle route. \n",
    "\n",
    "```python\n",
    "09      return render_template(\"accueil.html\", titre=\"Bienvenue !\",lignes=lignes)\n",
    "10\n",
    "11 @app.route('/hello/', methods=['POST'])\n",
    "12 def hello():\n",
    "13     nom=request.form['nom']\n",
    "14     prenom=request.form['prenom']\n",
    "15     return render_template('page2.html' ,titre=\"Page 2\", nom=nom, prenom=prenom)\n",
    "```\n",
    "\n",
    "Il ne reste plus qu'à créer le deuxième template ***templates/page2.html*** *(pensez à copier les lignes depuis templates/accueil.html)*.\n",
    "\n",
    "```html\n",
    "01 <!DOCTYPE html>\n",
    "02 <html>\n",
    "03 <head>\n",
    "04 <meta charset=\"utf-8\" />\n",
    "05 <title>{{ titre }}</title>\n",
    "06 <link href=\"{{ url_for('static', filename='mon_style.css') }}\" rel=\"stylesheet\" type=\"text/css\" />\n",
    "07 <script type=\"text/javascript\" src=\"{{url_for('static', filename='mes_scripts.js') }}\"></script>\n",
    "08 <link rel=\"shortcut icon\" href=\"{{ url_for('static', filename='favicon.ico') }}\">\n",
    "09 </head>\n",
    "10 <body>\n",
    "11 <h1>{{ titre }} <img src=\"{{ url_for('static', filename = 'fleur.png') }}\"  alt=\"fleur\" title=\"fleur\" border=\"0\"></h1>\n",
    "12 <section>\n",
    "13 <p>Bonjour <b>{{ prenom }} {{ nom }}.</b></p>\n",
    "14 </section>\n",
    "15 <footer>Nous sommes le <em class=\"Rouge\" id=\"date\"></em><script type=\"text/javascript\">window.onload=datejs('date');</script> et il est <em class=\"Rouge\" id=\"heure\"></em><script type=\"text/javascript\">window.onload=heurejs('heure');</script> heures. </footer>\n",
    "16 </body>\n",
    "17 </html>\n",
    "```\n"
   ]
  },
  {
   "cell_type": "markdown",
   "metadata": {
    "variables": {
     " nom ": "<p><strong>NameError</strong>: name &#39;nom&#39; is not defined</p>\n",
     " prenom ": "<p><strong>NameError</strong>: name &#39;prenom&#39; is not defined</p>\n",
     " url_for('accueil') ": "<p><strong>NameError</strong>: name &#39;url_for&#39; is not defined</p>\n"
    }
   },
   "source": [
    "###  Formulaire qui redirige vers la même page\n",
    "\n",
    "Il est nécessaire d'utiliser à la fois la méthode ***POST*** et la méthode ***GET***.  \n",
    "La méthode ***GET***  quand on arrive sur la page, puis la méthode ***POST*** quand on transmet les informations.  \n",
    "\n",
    "Modifier le fichier *exemple.py* \n",
    "\n",
    "```python\n",
    "03 from flask import Flask, render_template, url_for, request\n",
    "04 app = Flask(__name__) # Initialise l'application Flask\n",
    "05 \n",
    "06 @app.route('/', methods=['GET','POST'])  # On doit indiquer que l'on utilise les deux méthodes\n",
    "07 def accueil():\n",
    "08         lignes=['ligne {}'.format(i) for i in range(1,10)]\n",
    "09         try:\n",
    "10                 nom=request.form['nom']\n",
    "11         except:\n",
    "12                 nom=''\n",
    "13         try:\n",
    "14                 prenom=request.form['prenom']\n",
    "15         except:\n",
    "16                 prenom=''\n",
    "17         titre=\"Méthode {}\".format(request.method)\n",
    "17         return render_template(\"accueil.html\", titre=titre,lignes=lignes,nom=nom,prenom=prenom)\n",
    "18\n",
    "19 if __name__ == '__main__':\n",
    "20         app.run(debug=True)\n",
    "```\n",
    "\n",
    "et le template acceuil.html\n",
    "\n",
    "```html\n",
    "17 </ul>\n",
    "18 \n",
    "19 {% if  request.method == GET %}\n",
    "20 <div id=\"content\">\n",
    "21      <form method=\"post\" action=\"{{ url_for('accueil') }}\">\n",
    "22      <label for=\"nom\">Entrez votre nom:</label>\n",
    "23      <input type=\"text\" name=\"nom\" /><br />\n",
    "24      <label for=\"prenom\">Entrez votre prénom:</label>\n",
    "25      <input type=\"text\" name=\"prenom\" /><br />\n",
    "26      <input type=\"submit\" />\n",
    "27      </form>\n",
    "28 </div>\n",
    "29 {% else %}\n",
    "30\n",
    "31 {% if  nom != '' or prenom != '' %}\n",
    "32 <p>bonjour {{ prenom }} {{ nom }}</p>\n",
    "33 {% endif %}\n",
    "34\n",
    "35 {% endif %}\n",
    "36 </section>\n",
    "\n",
    "```"
   ]
  },
  {
   "cell_type": "markdown",
   "metadata": {},
   "source": [
    "## Mettre le site sur internet\n",
    "\n",
    "Habituellement on s'héberge soit même mais il est possible de mettre son site chez un hébergeur. Il en existe plusieurs qui autorisent les scripts python.\n",
    "\n",
    "Ouvrez le navigateur pablo à l'adresse [https://isn-flask.herokuapp.com/](https://isn-flask.herokuapp.com/)  \n",
    "Oui vous avez reconnu notre tp.\n",
    "\n",
    "Pour héberger son site gratuitement on dispose de:\n",
    "* [heroku](https://www.heroku.com/) qui necessite l'utilisation de *git* pour poser le code.\n",
    "* [pythonanywhere](https://www.pythonanywhere.com)  \n",
    "\n",
    "Je préfère ***heroku*** mais je conseillerai ***pythonanywhere*** pour les élèves d'isn pour sa simplicité d'utilisation.  \n",
    "Il y en a d'autres [http://sametmax.com/quel-hebergement-web-pour-les-projets-python/](http://sametmax.com/quel-hebergement-web-pour-les-projets-python/)"
   ]
  },
  {
   "cell_type": "markdown",
   "metadata": {},
   "source": [
    "## Prolongement\n",
    "- Utilisation d'une base de donnée\n",
    "- Créer une image aux couleurs aléatoire (module pil) et l'afficher.\n"
   ]
  },
  {
   "cell_type": "markdown",
   "metadata": {},
   "source": [
    "## Exercices\n",
    "\n",
    "1. - Créer un dossier ***static/file/*** et mettre dans ce dossier quelques fichiers textes (.txt) et images (.png ou .jpg).  \n",
    "   - Créer dans le fichier ***exemple.py*** une fonction ***listdir()*** qui retourne la liste les noms des fichiers contenus dans le dossier  ***static/file/***  *(On utilisera la librairie **os** pour lister)*.\n",
    "   - modifier le ***templates/accueil.html*** pour faire afficher le nom des fichiers.\n",
    "2. Modifier alors la fonction ***listdir()*** pour n'afficher que le nom des images.\n",
    "3. Afficher cette fois les images dans la page internet."
   ]
  },
  {
   "cell_type": "code",
   "execution_count": null,
   "metadata": {
    "collapsed": false
   },
   "outputs": [],
   "source": []
  },
  {
   "cell_type": "markdown",
   "metadata": {},
   "source": [
    "\n",
    "```html\n",
    "<span class=\"reverse\">toto</span>\n",
    "<p><s>toto</s></p>\n",
    "```\n",
    "\n",
    "<span class=\"reverse\">toto</span>\n",
    "<p><s>toto</s></p>\n",
    "\n"
   ]
  }
 ],
 "metadata": {
  "celltoolbar": "Raw Cell Format",
  "kernelspec": {
   "display_name": "Python 3",
   "language": "python",
   "name": "python3"
  },
  "language_info": {
   "codemirror_mode": {
    "name": "ipython",
    "version": 3
   },
   "file_extension": ".py",
   "mimetype": "text/x-python",
   "name": "python",
   "nbconvert_exporter": "python",
   "pygments_lexer": "ipython3",
   "version": "3.5.3"
  },
  "latex_envs": {
   "LaTeX_envs_menu_present": true,
   "autocomplete": true,
   "bibliofile": "biblio.bib",
   "cite_by": "apalike",
   "current_citInitial": 1,
   "eqLabelWithNumbers": true,
   "eqNumInitial": 1,
   "hotkeys": {
    "equation": "Ctrl-E",
    "itemize": "Ctrl-I"
   },
   "labels_anchors": false,
   "latex_user_defs": false,
   "report_style_numbering": false,
   "user_envs_cfg": false
  },
  "toc": {
   "colors": {
    "hover_highlight": "#DAA520",
    "navigate_num": "#000000",
    "navigate_text": "#333333",
    "running_highlight": "#FF0000",
    "selected_highlight": "#FFD700",
    "sidebar_border": "#EEEEEE",
    "wrapper_background": "#FFFFFF"
   },
   "moveMenuLeft": true,
   "nav_menu": {
    "height": "285px",
    "width": "252px"
   },
   "navigate_menu": true,
   "number_sections": true,
   "sideBar": true,
   "threshold": 4,
   "toc_cell": false,
   "toc_section_display": "block",
   "toc_window_display": false,
   "widenNotebook": false
  }
 },
 "nbformat": 4,
 "nbformat_minor": 0
}
