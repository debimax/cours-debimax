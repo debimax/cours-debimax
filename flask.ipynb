{
 "cells": [
  {
   "cell_type": "code",
   "execution_count": 1,
   "metadata": {
    "collapsed": false
   },
   "outputs": [
    {
     "data": {
      "application/javascript": [
       "IPython.Cell.options_default.cm_config.lineNumbers = true;"
      ],
      "text/plain": [
       "<IPython.core.display.Javascript object>"
      ]
     },
     "metadata": {},
     "output_type": "display_data"
    }
   ],
   "source": [
    "%%javascript\n",
    "IPython.Cell.options_default.cm_config.lineNumbers = true;"
   ]
  },
  {
   "cell_type": "code",
   "execution_count": 2,
   "metadata": {
    "collapsed": false
   },
   "outputs": [
    {
     "data": {
      "text/html": [
       "<style>\n",
       "/* Pour le titre comme cela il n'y a pas de numérotation au */\n",
       "#titre{\n",
       "font-size: 24pt; \n",
       "color:#ff0000;\n",
       "text-decoration: underline;\n",
       "text-align: center;\n",
       "font-weight: bold;\n",
       "}\n",
       "\n",
       "div.text_cell_render { font-size: 12pt;   line-height: 145%; }\n",
       "div.text_cell_render h1{font-size: 24pt; color:#0000ff;  text-decoration: underline;}\n",
       "div.text_cell_render h2{font-size: 18pt;color:#0000ff;  text-decoration: underline;}\n",
       "div.text_cell_render h3{font-size: 14pt;color:#0000ff;  text-decoration: underline;}\n",
       "div.text_cell_render h4{font-size: 12pt;color:#0000ff;  text-decoration: underline; }\n",
       "div.text_cell_render h5 {font-weight: 300;}\n",
       "\n",
       "\n",
       "div.cell.code_cell { /* area that contains code + output */\n",
       "    background: #ffffff;\n",
       "    border: none;\n",
       "    border-radius: 10px;\n",
       "    padding-top: 1ex;\n",
       "}\n",
       "\n",
       "div.input_area { /* box around box with code */\n",
       "    border: none;\n",
       "    background: #f5f5f5;\n",
       "    border: 1px solid #ccc;\n",
       "    border-radius: 10px;\n",
       "    padding-top: 0.5ex;\n",
       "    padding-bottom: 0.5ex;\n",
       "    padding-left: 0.5em;\n",
       "}\n",
       "\n",
       "div.input { /* box with code */\n",
       "}\n",
       "\n",
       "div.CodeMirror { /* code font */\n",
       "    font-family: \"Inconsolata-dz\", monospace;\n",
       "    font-size: 10pt;\n",
       "}\n",
       "\n",
       "\n",
       "\n",
       "\n",
       "\n",
       "/*div.text_cell_render  code { font-size: medium; border: 3px #ababab solid; background-color: #f5f5f5;}*/\n",
       "/*.rendered_html code { border: 3px #ababab solid; background-color:  #f5f5f5;}*/\n",
       ".rendered_html blockquote { margin: 1em 2em; background: red; }\n",
       ".rendered_html ol { list-style:decimal; margin: 1em 2em; }\n",
       "\n",
       "\n",
       "/* classe pour inverse video */\n",
       ".reverse{\n",
       "    background-color: black;\n",
       "    color: white;\n",
       "}\n",
       "/*  strick   <s>texte/<s>*/\n",
       ".barre{\n",
       "\n",
       "}\n",
       "\n",
       "\n",
       "</style>"
      ],
      "text/plain": [
       "<IPython.core.display.HTML object>"
      ]
     },
     "execution_count": 2,
     "metadata": {},
     "output_type": "execute_result"
    }
   ],
   "source": [
    "# Charge ma feuille de style pour nbviewer\n",
    "from IPython.core.display import HTML\n",
    "from  urllib.request import urlopen\n",
    "# import urllib.request, urllib.parse, urllib.error\n",
    "\n",
    "url='https://github.com/debimax/cours-debimax/raw/master/static/custom.css'\n",
    "with urlopen(url) as response:\n",
    "    styles = response.read().decode(\"utf8\")\n",
    "styles=\"<style>\\n{}\\n</style>\".format(styles)\n",
    "HTML(styles)"
   ]
  },
  {
   "cell_type": "markdown",
   "metadata": {},
   "source": [
    "<div id=\"titre\"> Site internet en python avec flask</div>"
   ]
  },
  {
   "cell_type": "markdown",
   "metadata": {},
   "source": [
    "\n",
    "## Préliminaires\n",
    "\n",
    "Classiquement sur internet on utilise un serveur ***lamp*** :  \n",
    "**l**inux (os), **a**pache (serveur), **m**ysql (base de données), **p**hp (language de programmation pour avoir des pages dynamiques).\n",
    "\n",
    "Il existe de nombreux outils pour le web écrit en python: *serveur Web* (Zope, gunicorn) ; *script cgi*; *frameworks Web* (Flask, Django, cherrypy etc ...), \n",
    "\n",
    "nous utiliserons le framework ***flask***. Pour se documenter je vous conseille ces quelques sites suivants.  \n",
    "- [http://flask.pocoo.org/docs](http://flask.pocoo.org/docs)\n",
    "- [http://openclassrooms.com/courses/creez-vos-applications-web-avec-flask](http://openclassrooms.com/courses/creez-vos-applications-web-avec-flask)\n",
    "- [http://pub.phyks.me/sdz/sdz/creez-vos-applications-web-avec-flask.html](http://pub.phyks.me/sdz/sdz/creez-vos-applications-web-avec-flask.html)\n",
    "- [https://www.tutorialspoint.com/flask/flask_quick_guide.htm](https://www.tutorialspoint.com/flask/flask_quick_guide.htm)\n",
    "\n",
    "Nous avons besoin de quelques fichiers pour commencer.\n",
    "\n",
    "- Depuis le lycée copiez le dossier ***Harp->General/isn/isn-flask***  dans votre session  \n",
    "- Sinon sur internet:\n",
    "  - Télécharger le fichier [isn-flask.tar.gz](https://github.com/debimax/cours-debimax/raw/master/documents/isn-flask.tar.gz) si vous êtes sous linux ou   [isn-flask.zip](https://github.com/debimax/cours-debimax/raw/master/documents/isn-flask.zip) si vous êtes sous windows.\n",
    "  - Décompressez le (en console : tar zxvf isn-flask.tar.gz).\n",
    "  \n",
    "  \n",
    "Ouvrez pyzo puis installez le module ***flask***  \n",
    "```bash\n",
    "pip install flask\n",
    "```"
   ]
  },
  {
   "cell_type": "markdown",
   "metadata": {},
   "source": [
    "## Flask et les templates\n",
    "\n",
    "###  Le principe\n",
    "\n",
    "lorsque vous saisissez une URL dans votre navigateur, que vous validez cette dernière, votre navigateur envoie une \"requête\" au serveur concerné afin qu'il nous renvoie une page web.  \n",
    "Tout d'abord, on nomme vulgairement l'échange de données entre votre navigateur et le serveur qui fournit les pages web un échange ***client / serveur***.   \n",
    "Le client représente votre navigateur.\n",
    "\n",
    "<center><img width=400px src=\"https://github.com/debimax/cours-debimax/raw/master/images/client-serveur.png\" /></center>\n",
    "\n",
    "Nous programmerons donc \"coté serveur\" en python.   \n",
    "\n",
    "Avec *Flask* on pourrait mettre le code dans un seul *fichier.py* mais on utilise de préférence des ***templates*** (avec ***jinja***).  \n",
    "L'arborescence d'un projet Flask sera :\n",
    "\n",
    "```\n",
    "   projet/script.py\n",
    "   projet/static/\n",
    "   projet/templates\n",
    "   projet/templates/les_templates.html\n",
    "```\n",
    "Le dossier ***static/*** contiendra lui toutes les images, fichiers css, js ... \n",
    "Les ***templates*** se mettent dans le dossier ***templates/*** et  Le logiciel qui gère ces templates est ***jinja*** (on dit aussi moteur de templates).  \n",
    "\n",
    "Ouvrez avec *pyzo* le fichier ***exemple.py*** :"
   ]
  },
  {
   "cell_type": "markdown",
   "metadata": {
    "variables": {
     " ligne ": "<p><strong>NameError</strong>: name &#39;ligne&#39; is not defined</p>\n",
     " titre ": "<p><strong>NameError</strong>: name &#39;titre&#39; is not defined</p>\n"
    }
   },
   "source": [
    "```python\n",
    "01#!/usr/bin/python3\n",
    "02# -*- coding: utf-8 -*-\n",
    "03from flask import Flask, render_template, url_for\n",
    "04app = Flask(__name__)   # Initialise l'application Flask\n",
    "05\n",
    "06@app.route('/')  # C'est un décorateur, on donne la route ici \"/\"  l'adresse sera donc localhost:5000/\n",
    "07def accueil():\n",
    "08    Lignes=['ligne {}'.format(i) for i in range(1,10)] # Que fait cette ligne?\n",
    "09    return render_template(\"accueil.html\", titre=\"Bienvenue !\",lignes=Lignes) # On utilise le template accueil.html, avec les variables titre et lignes\n",
    "10\n",
    "11if __name__ == '__main__' :\n",
    "12    app.run(debug=True)\n",
    "```\n",
    "\n",
    "Dans le code ci-dessous, quel est le contenu de la variable ***Lignes***?\n",
    "\n",
    "```python\n",
    " Lignes=['ligne{}'.format(i) for i in range(1,10)]\n",
    "```\n",
    "\n",
    "...............................................................................................................\n",
    "\n",
    "Exécuter le fichier ***exemple.py***  depuis *pyzo*, le server est lancé.  \n",
    "Ouvrez un navigateur internet à l'adresse [http://localhost:5000](http://localhost:5000).\n",
    "\n",
    "<center><img width=600px  align=\"left;\"  src=\"https://raw.githubusercontent.com/debimax/cours-debimax/master/images/isnflask1.png\" /></center>\n",
    "\n",
    "\n",
    "\n",
    "Les templates sont des fichiers HTML dans lesquels on place des sections de code Jinja2, qui ressemble fortement à du Python.  \n",
    "Regardons  maintenant fichier ***templates/accueil.html***.\n",
    "\n",
    "```html\n",
    "01<html>\n",
    "02<head>\n",
    "03<meta charset=\"utf-8\" />\n",
    "04<title>ISN Pablo Neruda</title>\n",
    "05<!-- On importe notre frichier css -->\n",
    "06<link href=\"{{ url_for('static', filename='mon_style.css') }}\" rel=\"stylesheet\" type=\"text/css\" />\n",
    "07<!-- On importe la librairie Brython -->\n",
    "08<script type=\"text/javascript\" src=\"{{url_for('static', filename='brython.js') }}\"></script>\n",
    "09<script type=\"text/javascript\" src=\"{{url_for('static', filename='brython_stdlib.js') }}\"></script>\n",
    "10</head>\n",
    "11\n",
    "12<body onload=\"brython(1)\">\n",
    "13<header  class=\"site-header\"><h1>{{ titre }}</h1></header>  <!-- On affiche le titre -->\n",
    "14<section  class=\"site-content\">\n",
    "15  <ul>\n",
    "16    {% for ligne in lignes %}   <!-- Avec jinja on peut utiliser des boucles des conditions etc. (voir la documentation) -->\n",
    "17      <li>{{ ligne }}</li>        <!-- On affiche le contenu de la liste ligne -->\n",
    "18    {% endfor %}\n",
    "19  </ul>\n",
    "20</section>\n",
    "21<footer>\n",
    "22{% include 'foot.html' %}\n",
    "23</footer>\n",
    "24</body>\n",
    "25</html>\n",
    "```\n",
    "\n",
    "\n",
    "Quelques explications sur le template:  \n",
    "- Tout ce qui est contenu entre ***{{ ...... }}*** ou ***{% ...... %}*** est exécuté par ***jinja***  \n",
    "  '{{ ...... }}' ne fait qu'afficher le contenu d'une variable, tandis que '{% ...... %}' sert à tout le reste.\n",
    "- url_for('static', filename='mon_style.css')  correspond donc à l'adresse du fichier /static/monstyle.css"
   ]
  },
  {
   "cell_type": "markdown",
   "metadata": {
    "variables": {
     "</span> <span class=\"cm-attribute\">url_for(</span><span class=\"cm-string cm-error\">'static'</span> <span class=\"cm-attribute\">,</span> <span class=\"cm-attribute\">filename</span>=<span class=\"cm-string\">'favicon.ico'</span><span class=\"cm-attribute\">)": "<p><strong>SyntaxError</strong>: invalid syntax (<ipython-input-1-6cf102dc3cc7>, line 1)</p>\n",
     "</span> <span class=\"cm-attribute\">url_for(</span><span class=\"cm-string cm-error\">'static'</span><span class=\"cm-attribute\">,filename</span> =<span class=\"cm-string\">'fleur.png'</span><span class=\"cm-attribute\">)</span> <span class=\"cm-attribute\">": "<p><strong>SyntaxError</strong>: invalid syntax (<ipython-input-1-3088f20b2131>, line 1)</p>\n"
    }
   },
   "source": [
    "### Les images\n",
    "\n",
    "Ajoutons une image.  J'ai déjà mis deux  images dans le dossier ***static/*** (favicon.ico et fleur.png).  \n",
    "Il suffit donc de rajouter dans ***templates/accueil.html***\n",
    "\n",
    "Je rappelle la syntaxe avec flaks pour les liens des fichiers ***href=\"{{ url_for('nom_du_dossier', filename='nom_du_fichier') }}\"***\n",
    "\n",
    "  <span class=\"reverse\">09&lt;script type=\"text/javascript\" src=\"{{url_for('static', filename='brython_stdlib.js') }}\"&gt;&lt;/script&gt;</span>\n",
    "```html\n",
    "10\n",
    "11<!-- Les images -->\n",
    "12<link rel=\"shortcut icon\" href=\"{{ url_for('static', filename='favicon.ico') }}\">\n",
    "```  \n",
    "  <span class=\"reverse\">13&lt;/head&gt;</span>  \n",
    "  <span class=\"reverse\">14</span>  \n",
    "  <span class=\"reverse\">15&lt;body onload=\"brython(1)\"&gt;</span>  \n",
    "\n",
    "```html\n",
    "16 <header class=\"site-header\"><h1>{{ titre }} <img src=\"{{ url_for('static',filename ='fleur.png') }}\" alt=\"fleur\" title=\"fleur\" border=\"0\"></h1></header>\n",
    "```\n",
    " <span class=\"reverse\">17&lt;section  class=\"site-content\"&gt;</span>\n",
    " \n",
    " \n",
    "Le ***favicon*** (ligne 12) est la petite icone que l'on voit dans l'onglet.\n",
    "\n",
    "<center><img width=600px  align=\"left;\"  src=\"https://raw.githubusercontent.com/debimax/cours-debimax/master/images/isnflask2.png\" /></center>"
   ]
  },
  {
   "cell_type": "markdown",
   "metadata": {
    "variables": {
     " nom ": "<p><strong>NameError</strong>: name &#39;nom&#39; is not defined</p>\n",
     " prenom ": "<p><strong>NameError</strong>: name &#39;prenom&#39; is not defined</p>\n",
     " titre ": "<p><strong>NameError</strong>: name &#39;titre&#39; is not defined</p>\n",
     " url_for('hello') ": "<p><strong>NameError</strong>: name &#39;url_for&#39; is not defined</p>\n",
     " url_for('static', filename = 'fleur.png') ": "<p><strong>NameError</strong>: name &#39;url_for&#39; is not defined</p>\n",
     " url_for('static', filename='favicon.ico') ": "<p><strong>NameError</strong>: name &#39;url_for&#39; is not defined</p>\n",
     " url_for('static', filename='mon_style.css') ": "<p><strong>NameError</strong>: name &#39;url_for&#39; is not defined</p>\n",
     "url_for('static', filename='mes_scripts.js') ": "<p><strong>NameError</strong>: name &#39;url_for&#39; is not defined</p>\n"
    }
   },
   "source": [
    "\n",
    "## Les formulaires\n",
    "\n",
    "\n",
    "### Intérêt d'un formulaire\n",
    "\n",
    "Le lecteur saisit des informations en remplissant des champs ou en cliquant sur des boutons, puis appuie sur un bouton de soumission (submit) pour l'envoyer soit à un script de page web dynamique tel que PHP, python etc... ou un script CGI. \n",
    "\n",
    "\n",
    "### Le principe\n",
    "\n",
    "Les formulaires sont délimités par la balise ***&lt;FORM&gt; ... &lt;/FORM&gt;***.  \n",
    "Il est possible d'insérer dans une balise ***&lt;FORM&gt;***  n'importe quel élément HTML de base (textes, boutons, tableaux, liens,...) mais il est surtout intéressant d'insérer des éléments interactifs. Ces éléments interactifs sont :\n",
    "\n",
    "-  La balise ***&lt;INPUT&gt;:*** un ensemble de boutons et de champs de saisie\n",
    "-  La balise ***&lt;TEXTAREA&gt;:*** une zone de saisie\n",
    "-  La balise ***&lt;SELECT&gt;:*** une liste à choix multiples\n",
    "\n",
    "Regarder ce que l'on peut faire avec la balise &lt;[input](http://www.startyourdev.com/html/tag-html-balise-input)&gt;  \n",
    "\n"
   ]
  },
  {
   "cell_type": "code",
   "execution_count": 7,
   "metadata": {
    "collapsed": false
   },
   "outputs": [
    {
     "data": {
      "text/html": [
       "<input type=\"text\" placeholder=\"Saisir un texte\" />"
      ],
      "text/plain": [
       "<IPython.core.display.HTML object>"
      ]
     },
     "execution_count": 7,
     "metadata": {},
     "output_type": "execute_result"
    }
   ],
   "source": [
    "code='<input type=\"text\" placeholder=\"Saisir un texte\" />'\n",
    "HTML(code)"
   ]
  },
  {
   "cell_type": "code",
   "execution_count": 10,
   "metadata": {
    "collapsed": false
   },
   "outputs": [
    {
     "data": {
      "text/html": [
       "<input type=\"number\" min=\"20\" max=\"80\" value=\"50\" step=\"2\" onkeypress=\"return false;\" />"
      ],
      "text/plain": [
       "<IPython.core.display.HTML object>"
      ]
     },
     "execution_count": 10,
     "metadata": {},
     "output_type": "execute_result"
    }
   ],
   "source": [
    "code='<input type=\"number\" min=\"20\" max=\"80\" value=\"50\" step=\"2\" onkeypress=\"return false;\" />'\n",
    "HTML(code)"
   ]
  },
  {
   "cell_type": "code",
   "execution_count": 11,
   "metadata": {
    "collapsed": false
   },
   "outputs": [
    {
     "data": {
      "text/html": [
       "<input type=\"file\" style=\"width:200px; font-size:10px;\" />"
      ],
      "text/plain": [
       "<IPython.core.display.HTML object>"
      ]
     },
     "execution_count": 11,
     "metadata": {},
     "output_type": "execute_result"
    }
   ],
   "source": [
    "code='<input type=\"file\" style=\"width:200px; font-size:10px;\" />'\n",
    "HTML(code)"
   ]
  },
  {
   "cell_type": "code",
   "execution_count": 18,
   "metadata": {
    "collapsed": false
   },
   "outputs": [
    {
     "data": {
      "text/html": [
       "<input type=\"color\" value=\"#f9429e\" onchange=\"document.getElementById('selColor').innerHTML = this.value;\" />\n",
       "<span id=\"selColor\">Couleur : #f9429e</span>"
      ],
      "text/plain": [
       "<IPython.core.display.HTML object>"
      ]
     },
     "execution_count": 18,
     "metadata": {},
     "output_type": "execute_result"
    }
   ],
   "source": [
    "code='''<input type=\"color\" value=\"#f9429e\" onchange=\"document.getElementById('selColor').innerHTML = this.value;\" />\n",
    "<span id=\"selColor\">Couleur : #f9429e</span>'''\n",
    "HTML(code)"
   ]
  },
  {
   "cell_type": "code",
   "execution_count": 21,
   "metadata": {
    "collapsed": false
   },
   "outputs": [
    {
     "data": {
      "text/html": [
       "<input type=radio name=\"carte\"  value=\"v\"  checked><label for=\"IdCheckBox\">Visa</label>\n",
       "<input type=radio name=\"carte\" value=\"m\"><label for=\"IdCheckBox\">MasterCard</label>\n"
      ],
      "text/plain": [
       "<IPython.core.display.HTML object>"
      ]
     },
     "execution_count": 21,
     "metadata": {},
     "output_type": "execute_result"
    }
   ],
   "source": [
    "code='''<input type=radio name=\"carte\"  value=\"v\"  checked><label for=\"IdCheckBox\">Visa</label>\n",
    "<input type=radio name=\"carte\" value=\"m\"><label for=\"IdCheckBox\">MasterCard</label>\n",
    "'''\n",
    "HTML(code)"
   ]
  },
  {
   "cell_type": "code",
   "execution_count": 23,
   "metadata": {
    "collapsed": false
   },
   "outputs": [
    {
     "data": {
      "text/html": [
       "<input type=\"image\" src=\"https://openclipart.org/image/2400px/svg_to_png/215467/icon_go.png\" style=\"height:80px;\" />"
      ],
      "text/plain": [
       "<IPython.core.display.HTML object>"
      ]
     },
     "execution_count": 23,
     "metadata": {},
     "output_type": "execute_result"
    }
   ],
   "source": [
    "code='''<input type=\"image\" src=\"https://openclipart.org/image/2400px/svg_to_png/215467/icon_go.png\" style=\"height:80px;\" />'''\n",
    "HTML(code)"
   ]
  },
  {
   "cell_type": "code",
   "execution_count": 31,
   "metadata": {
    "collapsed": false
   },
   "outputs": [
    {
     "data": {
      "text/html": [
       "<input type=\"button\" value=\"GO !\" style=\"cursor:pointer; padding:5px 20px; background-color:#24DB00; \n",
       "color:white; border:dotted 2px grey; border-radius:5px;\" /> \t\n"
      ],
      "text/plain": [
       "<IPython.core.display.HTML object>"
      ]
     },
     "execution_count": 31,
     "metadata": {},
     "output_type": "execute_result"
    }
   ],
   "source": [
    "code='''<input type=\"button\" value=\"GO !\" style=\"cursor:pointer; padding:5px 20px; background-color:#24DB00; \n",
    "color:white; border:dotted 2px grey; border-radius:5px;\" /> \t\n",
    "'''\n",
    "HTML(code)"
   ]
  },
  {
   "cell_type": "code",
   "execution_count": null,
   "metadata": {
    "collapsed": true
   },
   "outputs": [],
   "source": []
  },
  {
   "cell_type": "markdown",
   "metadata": {},
   "source": [
    "Nous avons avec ces exemples, obtenu des informations (texte,  code couleur etc...) . La balise ***&lt;form&gt;***  sert à transmettre ces informations.  \n",
    "Pour cela on doit indiquer une ***methode*** d'envoie des données et une ***action***\n",
    "\n",
    "- ***METHOD*** indique sous quelle forme seront envoyées les réponses. Il y a deux méthodes ***GET*** ou ***POST*** ?  \n",
    "Le choix de la méthode dépend de la façon dont les données sont reçues, de la taille et la nature des données.\n",
    "  - ***La méthode GET:*** Elle correspond à un envoi des données codées dans l'URL, et séparées de l'adresse du script par un point d'interrogation.  \n",
    "Noter que lorsqu'on utilise le bouton retour, les requêtes GET sont exécutées à nouveau.\n",
    "Les données de formulaire doivent être uniquement des codes ASCII. La taille d'une URL est limitée à par le serveur. \n",
    "  - ***La méthode POST:*** Elle correspond à un envoi de données stockées dans le corps de la requête.\n",
    "\n",
    "- ***ACTION*** indique l'url de la page qui recevra et traitera les informations soumises. Cela peut aussi être l'envoie d'un mail (mailto:adresse.email@machine)."
   ]
  },
  {
   "cell_type": "markdown",
   "metadata": {},
   "source": [
    "### Exemple de formulaire utilisant la méthode GET\n",
    "\n",
    "Modifions la page ***templates/accueil.html*** pour mettre un *formulaire*\n",
    "\n",
    "<span class=\"reverse\">22&lt;/ul&gt;</span> \n",
    "```html\n",
    "23<div id=\"content\">\n",
    "24    <form method=\"post\" action=\"{{ url_for('hello') }}\">\n",
    "25    <label for=\"nom\">Entrez votre nom:</label>\n",
    "26    <input type=\"text\" name=\"nom\" /><br />\n",
    "27    <label for=\"prenom\">Entrez votre prénom:</label>\n",
    "28    <input type=\"text\" name=\"prenom\" /><br />\n",
    "29    <input type=\"submit\" />\n",
    "30    </form>\n",
    "31</div>\n",
    "```\n",
    "<span class=\"reverse\">32&lt;/section&gt;</span>"
   ]
  },
  {
   "cell_type": "markdown",
   "metadata": {},
   "source": [
    "### Exemple de formulaire utilisant la méthode POST\n",
    "\n",
    "Modifions la page ***templates/accueil.html*** pour mettre un *formulaire*\n",
    "\n",
    "<span class=\"reverse\">22&lt;/ul&gt;</span> \n",
    "```html\n",
    "23<div id=\"content\">\n",
    "24    <form method=\"post\" action=\"{{ url_for('hello') }}\">\n",
    "25    <label for=\"nom\">Entrez votre nom:</label>\n",
    "26    <input type=\"text\" name=\"nom\" /><br />\n",
    "27    <label for=\"prenom\">Entrez votre prénom:</label>\n",
    "28    <input type=\"text\" name=\"prenom\" /><br />\n",
    "29    <input type=\"submit\" />\n",
    "30    </form>\n",
    "31</div>\n",
    "```\n",
    "<span class=\"reverse\">32&lt;/section&gt;</span> \n",
    "\n",
    "pour le fichier ***exemple.py*** on importe ***flask.request***\n",
    "```python\n",
    "03from flask import Flask, render_template, url_for, request\n",
    "```  \n",
    "et on crée une nouvelle route. \n",
    "\n",
    "\n",
    "<span class=\"reverse\">09return render_template(\"accueil.html\", titre=\"Bienvenue !\",lignes=Lignes)</span> \n",
    "```python\n",
    "10\n",
    "11@app.route('/hello/', methods=['POST'])\n",
    "12def hello():\n",
    "13    Nom=request.form['nom']\n",
    "14    Prenom=request.form['prenom']\n",
    "15    return render_template('page2.html' ,titre=\"Page 2\", nom=Nom, prenom=Prenom)\n",
    "16\n",
    "```\n",
    "<span class=\"reverse\">17if __name__ == '__main__':</span>  \n",
    "<span class=\"reverse\">18    app.run(debug=True)</span>\n",
    "\n",
    "Le nom et le prenom sont envoyé au 2° template dans avec variables nom et prenom avec la méthode ***POST***.  \n",
    "On les affiche dans le template ***page2.html*** avec {{ nom }} et {{ prenom }}.  \n",
    "Regarder le code du  deuxième template ***templates/page2.html***."
   ]
  },
  {
   "cell_type": "markdown",
   "metadata": {
    "variables": {
     " nom ": "<p><strong>NameError</strong>: name &#39;nom&#39; is not defined</p>\n",
     " prenom ": "<p><strong>NameError</strong>: name &#39;prenom&#39; is not defined</p>\n",
     " url_for('accueil') ": "<p><strong>NameError</strong>: name &#39;url_for&#39; is not defined</p>\n"
    }
   },
   "source": [
    "###  Formulaire qui redirige vers la même page\n",
    "\n",
    "Il est nécessaire d'utiliser à la fois la méthode ***POST*** et la méthode ***GET***.  \n",
    "La méthode ***GET***  quand on arrive sur la page, puis la méthode ***POST*** quand on transmet les informations.  \n",
    "\n",
    "Modifier le fichier *exemple.py* \n",
    "\n",
    "```python\n",
    "03from flask import Flask, render_template, url_for, request\n",
    "04app = Flask(__name__) # Initialise l'application Flask\n",
    "05 \n",
    "06@app.route('/', methods=['GET','POST'])  # On doit indiquer que l'on utilise les deux méthodes\n",
    "07def accueil():\n",
    "08    lignes=['ligne {}'.format(i) for i in range(1,10)]\n",
    "09    try:\n",
    "10        nom=request.form['nom']\n",
    "11    except:\n",
    "12        nom=''\n",
    "13    try:\n",
    "14        prenom=request.form['prenom']\n",
    "15    except:\n",
    "16        prenom=''\n",
    "17    titre=\"Méthode {}\".format(request.method)\n",
    "17    return render_template(\"accueil.html\", titre=titre,lignes=lignes,nom=nom,prenom=prenom)\n",
    "18\n",
    "19if __name__ == '__main__':\n",
    "20    app.run(debug=True)\n",
    "```\n",
    "\n",
    "et le template acceuil.html\n",
    "\n",
    "<span class=\"reverse\">22&lt;/ul&gt;</span> \n",
    "```html\n",
    "23{% if  request.method == 'GET' %}\n",
    "24    <div id=\"content\">\n",
    "25        <form method=\"post\" action=\"{{ url_for('accueil') }}\">\n",
    "26        <label for=\"nom\">Entrez votre nom:</label>\n",
    "27        <input type=\"text\" name=\"nom\" /><br />\n",
    "28        <label for=\"prenom\">Entrez votre prénom:</label>\n",
    "29        <input type=\"text\" name=\"prenom\" /><br />\n",
    "30        <input type=\"submit\" />\n",
    "31        </form>\n",
    "32        </form>\n",
    "33    </div>\n",
    "34{% else %}\n",
    "35    {% if  nom != '' or prenom != '' %}\n",
    "36        <p>bonjour {{ prenom }} {{ nom }}</p>\n",
    "37    {% endif %}\n",
    "38{% endif %}\n",
    "```\n",
    "<span class=\"reverse\">39&lt;/section&gt;</span> "
   ]
  },
  {
   "cell_type": "markdown",
   "metadata": {},
   "source": [
    "## Mettre le site sur internet\n",
    "\n",
    "Habituellement on s'héberge soit même mais il est possible de mettre son site chez un hébergeur. Il en existe plusieurs qui autorisent les scripts python.\n",
    "\n",
    "Ouvrez le navigateur pablo à l'adresse [https://isn-flask.herokuapp.com/](https://isn-flask.herokuapp.com/)  \n",
    "Oui vous avez reconnu notre tp.\n",
    "\n",
    "Pour héberger son site gratuitement on dispose de:\n",
    "* [heroku](https://www.heroku.com/) qui necessite l'utilisation de *git* pour poser le code.\n",
    "* [pythonanywhere](https://www.pythonanywhere.com)  \n",
    "\n",
    "Je préfère ***heroku*** mais je conseillerai ***pythonanywhere*** pour les élèves d'isn pour sa simplicité d'utilisation.  \n",
    "Il y en a d'autres [http://sametmax.com/quel-hebergement-web-pour-les-projets-python/](http://sametmax.com/quel-hebergement-web-pour-les-projets-python/)"
   ]
  },
  {
   "cell_type": "markdown",
   "metadata": {},
   "source": [
    "## Exercices\n",
    "\n",
    "### Exercice 1\n",
    "\n",
    "On ne souhaite pas  afficher les images lorsque le client est un téléphone mobile.\n",
    "\n",
    "\n",
    "Pour Flask ***request.user_agent***  détermine l'***useragent***.\n",
    "\n",
    "Dans exemple.py, il faut modifier l'import du  module Flask\n",
    "```python\n",
    "03from flask import Flask, render_template, url_for, request\n",
    "```\n",
    "\n",
    "Ajouter la fonction ***ismobile()*** que nous avons déjà utilisé pour brython.\n",
    "\n",
    "```python\n",
    "09def ismobile():\n",
    "10    Agent=window.navigator.userAgent\n",
    "11    if\n",
    "12re.search('android|iphone|blackberry|symbian|symbianos|symbos|netfront|modelorange|javaplatform|iemobile|windows phone|samsung|htc|opera mobile|opera mobi|opera mini|presto|huawei|blazer|bolt|doris|fennec|gobrowser|iris|maemo browser|mib|cldc|minimo|semc-browser|skyfire|teashark|teleca|uzard|uzardweb|meego|nokia|bb10|playbook', Agent, re.IGNORECASE):\n",
    "    return True\n",
    "else:\n",
    "    return False\n",
    "```\n",
    "\n",
    "Transmettre si c'est un mobile template html\n",
    "\n",
    "```python\n",
    "15return render_template(\"accueil.html\", titre=\"Bienvenue !\",lignes=Lignes,ismobile=ismobile()))\n",
    "```\n",
    " \n",
    "\n",
    "Modifier alors le template ***acceuil.html*** pour ne pas afficher les images si c'est un mobile.\n",
    "\n",
    "Pour vérifier si cela fonctionne avec le mobile  on poura le  remplacer ***ismobile=ismobile()*** par ***ismobile=True***\n",
    "\n",
    "\n",
    "\n",
    "### Exercice 2\n",
    "\n",
    "1. - Créer un dossier ***static/file/*** et mettre dans ce dossier quelques fichiers textes (.txt) et images (.png ou .jpg).  \n",
    "   - À partir de la console pyzo esssayez de lister les noms des fichiers contenus dans un dossier quelconque *(On utilisera la librairie **os** pour lister)*.  \n",
    "   ***Aide module OS***: [ce site](http://apprendre-python.com/page-gestion-fichiers-dossiers-python)  ou [le site w3big](http://www.w3big.com/fr/python3/python3-os-file-methods.html)\n",
    "   - Modifier le fichier ***exemple.py*** en ajoutant une fonction ***listdir()*** qui retourne la liste les noms des fichiers contenus dans le dossier  ***static/file/*** .  \n",
    "   - modifier le ***templates/accueil.html*** pour faire afficher le nom des fichiers.\n",
    "2. Modifier alors la fonction ***listdir()*** pour n'afficher que le nom des images.\n",
    "3. Afficher cette fois les images dans la page internet avec la balise &lsaquo;img   /&rsaquo;.\n"
   ]
  },
  {
   "cell_type": "markdown",
   "metadata": {},
   "source": [
    "## Prolongement\n",
    "- Utilisation d'une base de donnée\n",
    "- Créer une image aux couleurs aléatoire (module pil) et l'afficher.\n"
   ]
  },
  {
   "cell_type": "code",
   "execution_count": null,
   "metadata": {
    "collapsed": true
   },
   "outputs": [],
   "source": []
  },
  {
   "cell_type": "markdown",
   "metadata": {},
   "source": [
    "window.navigator.userAgent  \n",
    "window.navigator.platform"
   ]
  }
 ],
 "metadata": {
  "celltoolbar": "Raw Cell Format",
  "kernelspec": {
   "display_name": "Python 3",
   "language": "python",
   "name": "python3"
  },
  "language_info": {
   "codemirror_mode": {
    "name": "ipython",
    "version": 3
   },
   "file_extension": ".py",
   "mimetype": "text/x-python",
   "name": "python",
   "nbconvert_exporter": "python",
   "pygments_lexer": "ipython3",
   "version": "3.5.3+"
  },
  "latex_envs": {
   "LaTeX_envs_menu_present": true,
   "autocomplete": true,
   "bibliofile": "biblio.bib",
   "cite_by": "apalike",
   "current_citInitial": 1,
   "eqLabelWithNumbers": true,
   "eqNumInitial": 1,
   "hotkeys": {
    "equation": "Ctrl-E",
    "itemize": "Ctrl-I"
   },
   "labels_anchors": false,
   "latex_user_defs": false,
   "report_style_numbering": false,
   "user_envs_cfg": false
  },
  "toc": {
   "colors": {
    "hover_highlight": "#DAA520",
    "navigate_num": "#000000",
    "navigate_text": "#333333",
    "running_highlight": "#FF0000",
    "selected_highlight": "#FFD700",
    "sidebar_border": "#EEEEEE",
    "wrapper_background": "#FFFFFF"
   },
   "moveMenuLeft": true,
   "nav_menu": {
    "height": "285px",
    "width": "252px"
   },
   "navigate_menu": true,
   "number_sections": true,
   "sideBar": true,
   "threshold": 4,
   "toc_cell": false,
   "toc_section_display": "block",
   "toc_window_display": false,
   "widenNotebook": false
  }
 },
 "nbformat": 4,
 "nbformat_minor": 0
}
