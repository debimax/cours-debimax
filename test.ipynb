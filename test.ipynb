{
 "metadata": {
  "name": "",
  "signature": "sha256:86f68347cbef08486cb11db1f96ebf4b4162760233be0c0e2a41faabc26ef777"
 },
 "nbformat": 3,
 "nbformat_minor": 0,
 "worksheets": [
  {
   "cells": [
    {
     "cell_type": "code",
     "collapsed": false,
     "input": [
      "\n",
      "# Charge ma feuille de style pour nbviewer\n",
      "from IPython import utils\n",
      "from IPython.core.display import HTML\n",
      "import os\n",
      "def css_styling():\n",
      "    base = utils.path.get_ipython_dir()\n",
      "    styles = \"<style>\\n%s\\n</style>\" % (open('./documents/custom.css','r').read())\n",
      "    return HTML(styles)\n",
      "css_styling()"
     ],
     "language": "python",
     "metadata": {},
     "outputs": [
      {
       "html": [
        "<style>\n",
        "\n",
        "body{counter-reset: h1 0 h2 0 h3 0 h4 0;}\n",
        "h1:before {counter-increment: h1;}\n",
        "h2:before {content: counter(h2,upper-roman) \"  \"; counter-increment: h2;counter-reset: h3 0 }\n",
        "h3:before { content: counter(h2,upper-roman) \".\" counter(h3) \"  \";   counter-increment: h3; }\n",
        "h4:before { content: counter(h2,upper-roman) \".\" counter(h3) \".\" counter(h4, lower-alpha) \")  \";   counter-increment: h4; }\n",
        "h1 { counter-reset: h2 0 ;  }\n",
        "h2 { counter-reset: h3 0 ;}\n",
        "h3 { counter-reset: h4 0 ;}\n",
        "h4 {}\n",
        "\n",
        "\n",
        "/*\n",
        "div.cell h1 { counter-reset: h2 h3 h4 h5;  }\n",
        "div.cell h2 { counter-reset: h3 h4 h5;  }\n",
        "div.cell h3 { counter-reset: h4 h5;  }\n",
        "*/\n",
        "\n",
        "\n",
        "\n",
        "\n",
        "</style>"
       ],
       "metadata": {},
       "output_type": "pyout",
       "prompt_number": 7,
       "text": [
        "<IPython.core.display.HTML at 0x7fd5a37d2438>"
       ]
      }
     ],
     "prompt_number": 7
    },
    {
     "cell_type": "markdown",
     "metadata": {},
     "source": [
      "# title\n",
      "## level 2\n",
      "\n",
      "### level 3\n",
      "\n",
      "## level 2\n",
      "\n",
      "### level 3\n",
      "\n",
      "### level 3"
     ]
    },
    {
     "cell_type": "code",
     "collapsed": false,
     "input": [
      "print(\"It's good\")"
     ],
     "language": "python",
     "metadata": {},
     "outputs": [
      {
       "output_type": "stream",
       "stream": "stdout",
       "text": [
        "It's good\n"
       ]
      }
     ],
     "prompt_number": 8
    },
    {
     "cell_type": "markdown",
     "metadata": {},
     "source": [
      "# title"
     ]
    },
    {
     "cell_type": "markdown",
     "metadata": {},
     "source": [
      "## level 2"
     ]
    },
    {
     "cell_type": "markdown",
     "metadata": {},
     "source": [
      "### level 3"
     ]
    },
    {
     "cell_type": "markdown",
     "metadata": {},
     "source": [
      "## level 2  "
     ]
    },
    {
     "cell_type": "markdown",
     "metadata": {},
     "source": [
      "### level 3"
     ]
    },
    {
     "cell_type": "markdown",
     "metadata": {},
     "source": [
      "### level 3"
     ]
    },
    {
     "cell_type": "code",
     "collapsed": false,
     "input": [
      "print(\"It's no good\")"
     ],
     "language": "python",
     "metadata": {},
     "outputs": [
      {
       "output_type": "stream",
       "stream": "stdout",
       "text": [
        "It's no good\n"
       ]
      }
     ],
     "prompt_number": 10
    },
    {
     "cell_type": "code",
     "collapsed": false,
     "input": [
      "print(Out[1])"
     ],
     "language": "python",
     "metadata": {},
     "outputs": [
      {
       "output_type": "stream",
       "stream": "stdout",
       "text": [
        "<IPython.core.display.HTML object at 0x7fd5a37c3780>\n"
       ]
      }
     ],
     "prompt_number": 18
    },
    {
     "cell_type": "code",
     "collapsed": false,
     "input": [],
     "language": "python",
     "metadata": {},
     "outputs": []
    }
   ],
   "metadata": {}
  }
 ]
}