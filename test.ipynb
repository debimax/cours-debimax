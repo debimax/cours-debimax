{
 "metadata": {
  "name": "",
  "signature": "sha256:85c26924d6e8978eca0d9c4b4e32e15414894c60c9017118bcf798d385fc1e4d"
 },
 "nbformat": 3,
 "nbformat_minor": 0,
 "worksheets": [
  {
   "cells": [
    {
     "cell_type": "code",
     "collapsed": false,
     "input": [
      "\n",
      "# Charge ma feuille de style pour nbviewer\n",
      "from IPython import utils\n",
      "from IPython.core.display import HTML\n",
      "import os\n",
      "def css_styling():\n",
      "    base = utils.path.get_ipython_dir()\n",
      "    styles = \"<style>\\n%s\\n</style>\" % (open('./documents/custom.css','r').read())\n",
      "    return HTML(styles)\n",
      "css_styling()"
     ],
     "language": "python",
     "metadata": {},
     "outputs": [
      {
       "html": [
        "<style>\n",
        "\n",
        "body{counter-reset: h1 0 h2 0 h3 0 h4 0 h5 0;}\n",
        "h1:before {counter-increment: h1;}\n",
        "h2:before {content: counter(h2,upper-roman) \"  \"; counter-increment: h2;counter-reset: h3 0 }\n",
        "h3:before { content: counter(h2,upper-roman) \".\" counter(h3) \"  \";   counter-increment: h3; }\n",
        "h4:before { content: counter(h2,upper-roman) \".\" counter(h3) \".\" counter(h4, lower-alpha) \")  \";   counter-increment: h4; }\n",
        "h1 { counter-reset: h2 0 ;  }\n",
        "h2 { counter-reset: h3 0 ;  border: 3px #ababab solid; background-color: #ddd;}\n",
        "h3 { counter-reset: h4 0 ;}\n",
        "h4 { counter-reset: h5 0;}\n",
        "\n",
        "\n",
        "/*\n",
        "div.cell h1 { counter-reset: h2 h3 h4 h5;  }\n",
        "div.cell h2 { counter-reset: h3 h4 h5;  }\n",
        "div.cell h3 { counter-reset: h4 h5;  }\n",
        "*/\n",
        "\n",
        "\n",
        "div.text_cell_render { font-size: 12pt;   line-height: 145%; }\n",
        "div.text_cell_render h1{text-align: center;font-size: 24pt; color:#ff0000;  text-decoration: underline;}\n",
        "div.text_cell_render h2{font-size: 20pt;color:#ff0000;  text-decoration: underline;}\n",
        "div.text_cell_render h3{font-size: 14pt;color:#ff0000;  text-decoration: underline;}\n",
        "div.text_cell_render h4{font-size: 12pt;color:#ff0000;  text-decoration: underline; }\n",
        "div.text_cell_render h5 {font-weight: 300;}\n",
        "\n",
        "div.text_cell_render  code { font-size: medium; border: 3px #ababab solid; background-color: #f5f5f5;}\n",
        "/*.rendered_html code { border: 3px #ababab solid; background-color: #ddd;}*/\n",
        ".rendered_html blockquote { margin: 1em 2em; background: red; }\n",
        ".rendered_html ol { list-style:decimal; margin: 1em 2em; }\n",
        "\n",
        "\n",
        "</style>"
       ],
       "metadata": {},
       "output_type": "pyout",
       "prompt_number": 23,
       "text": [
        "<IPython.core.display.HTML at 0x7ff2a1d75f60>"
       ]
      }
     ],
     "prompt_number": 23
    },
    {
     "cell_type": "markdown",
     "metadata": {},
     "source": [
      "# title\n",
      "## level 2\n",
      "\n",
      "### level 3\n",
      "\n",
      "## level 2\n",
      "\n",
      "### level 3\n",
      "\n",
      "### level 3"
     ]
    },
    {
     "cell_type": "markdown",
     "metadata": {},
     "source": [
      "# title"
     ]
    },
    {
     "cell_type": "markdown",
     "metadata": {},
     "source": [
      "## level 2"
     ]
    },
    {
     "cell_type": "markdown",
     "metadata": {},
     "source": [
      "### level 3"
     ]
    },
    {
     "cell_type": "markdown",
     "metadata": {},
     "source": [
      "## level 2  "
     ]
    },
    {
     "cell_type": "code",
     "collapsed": false,
     "input": [
      "print('ok')\n"
     ],
     "language": "python",
     "metadata": {},
     "outputs": [
      {
       "output_type": "stream",
       "stream": "stdout",
       "text": [
        "ok\n"
       ]
      }
     ],
     "prompt_number": 24
    },
    {
     "cell_type": "markdown",
     "metadata": {},
     "source": [
      "```python\n",
      "print('ok')\n",
      "```\n",
      "\n",
      "### level 3\n"
     ]
    },
    {
     "cell_type": "markdown",
     "metadata": {},
     "source": [
      "### level 3"
     ]
    }
   ],
   "metadata": {}
  }
 ]
}