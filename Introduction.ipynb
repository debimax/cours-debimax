{
 "cells": [
  {
   "cell_type": "markdown",
   "metadata": {
    "cell_style": "center"
   },
   "source": [
    "<div classe id=\"titre\"> Cours ISN</div>\n",
    "\n",
    "# Introduction\n",
    "\n",
    "## Mes cours\n",
    "\n",
    "Mes cours sont disponibles ici: [https://github.com/debimax/cours-debimax](https://github.com/debimax/cours-debimax)\n",
    "\n",
    "Deux fichiers seront important pour vous aider.\n",
    "- [/documents/algorithmique-python3.pdf](https://github.com/debimax/cours-debimax/raw/master/documents/algorithmique-python3.pdf) qui regroupe l’essentiel de mes cours\n",
    "- [/documents/memento_python.pdf](https://github.com/debimax/cours-debimax/raw/master/documents/aidememoire.pdf) qui est comme son nom l'indique mon mémento pour python.  \n",
    "\n",
    "\n",
    "Télécharger par exemple cette introduction ***[introduction.ipynb](https://github.com/debimax/cours-debimax)***->sélectionner ***introduction.ipynb***->Cliquer sur ***RAW***->Enregistrer sous (CTRL+S)\n",
    "\n",
    "## Pyzo\n",
    "\n",
    "Nous utilisons au lycée pour programmer le logiciel ***[pyzo](http://www.pyzo.org/start.html)***\n",
    "\n",
    "Je vous conseille d'installer chez vous ***[pyzo](http://www.pyzo.org/start.html)*** et ***[miniconda](http://www.pyzo.org/start.html)***.\n",
    "\n",
    "Mes cours sont au format ***ipynb*** utilisable avec le logiciel ***jupyter*** (son ancien nom est ipython).  \n",
    "On intallera jupyter à partir de pyzo.\n",
    "\n",
    "Lancer pyzo  \n",
    "Pour la première utilisation il faut faire quelques réglages. Dans le ***shell python***, exécuter les séquences suivantes.\n",
    "\n",
    "1. ***Installer différent module pour python***\n",
    "  - conda install numpy (sans doute python sera mis à jour alors soyez patient)\n",
    "  - pip install sympy\n",
    "1. ***Installer jupyter***\n",
    "  - pip install jupyter\n",
    "  - pip install jupyter_nbextensions\n",
    "  - pip install jupyter_contrib_nbextensions\n",
    "  - pip install jupyter_nbextensions_configurator\n",
    "\n",
    "## Jupyter\n",
    "\n",
    "1. ***Lire un fichier ipynb.***  \n",
    "  - Première méthode:    \n",
    "    Dans votre gestionnaire de fichier, sélectionner le fichier ***introduction.ipynb*** puis indiquer alors pour ouvrir ce fichier l’application *c/Programme file32/jupyter/jupyter*\n",
    "  - Deuxième méthode:  \n",
    "    Taper notebook dans le shell python (votre navigateur s’ouvre) new->Indiquez le fichier ***introduction***\n",
    "1. ***Installer quelques extensions:***    \n",
    "La première fois il faut taper l'adresse: [http://localhost:8888/nbextensions](http://localhost:8888/nbextensions)     puis cocher les extensions:\n",
    "  - Exercise2\n",
    "  - Chrome Clipboard\n",
    "  - Codefolding in Editor\n",
    "  - Nbextensions edit menu item\n",
    "  - Table of content (2)  \n",
    "     Cocher bien:\n",
    "     - Automatically number notebook's sections\n",
    "     - Display Table of Contents as a sidebar (otherwise as a floating window)\n",
    "  \n",
    " Quiter tout puis relancer le fichier ***introduction.ipynb***. Le menu a changé.\n",
    " \n",
    " \n",
    "-  ***Edit -> nbextensions config*** pour ouvrir la page des extensions.\n",
    "-  <img width=30px align=\"left\" src=\"https://github.com/debimax/cours-debimax/raw/master/images/jupyter-table_of_content.png\" /> Table of content:  Pour la table des matières.\n",
    "  \n",
    "Si tout fonctionne vous pouvez passer à la deuxième leçon [Les bases de python](https://github.com/debimax/cours-debimax/raw/master/flask.ipynb)\n",
    "  \n",
    " # Les bases de python\n",
    " \n",
    " ## [Bases Python](https://github.com/debimax/cours-debimax/raw/master/bases.ipynb)\n",
    " \n",
    " ## [Listes, chaînes de caractères et dictionnaires](https://github.com/debimax/cours-debimax/raw/master/string-listes.ipynb)\n",
    " \n",
    " # Internet et Python\n",
    " \n",
    " ## [Brython  (coté client)](https://github.com/debimax/cours-debimax/raw/master/Brython.ipynb)\n",
    " \n",
    " ## [Parser des pages internet](https://github.com/debimax/cours-debimax/raw/master/Parser_des_pages_internet.ipynb)\n",
    " \n",
    " ## [Flask coté serveur](https://github.com/debimax/cours-debimax/raw/master/flask.ipynb)\n",
    " "
   ]
  },
  {
   "cell_type": "code",
   "execution_count": null,
   "metadata": {
    "collapsed": true
   },
   "outputs": [],
   "source": []
  }
 ],
 "metadata": {
  "kernelspec": {
   "display_name": "Python 3",
   "language": "python",
   "name": "python3"
  },
  "language_info": {
   "codemirror_mode": {
    "name": "ipython",
    "version": 3
   },
   "file_extension": ".py",
   "mimetype": "text/x-python",
   "name": "python",
   "nbconvert_exporter": "python",
   "pygments_lexer": "ipython3",
   "version": "3.5.3"
  },
  "latex_envs": {
   "LaTeX_envs_menu_present": true,
   "autocomplete": true,
   "bibliofile": "biblio.bib",
   "cite_by": "apalike",
   "current_citInitial": 1,
   "eqLabelWithNumbers": true,
   "eqNumInitial": 1,
   "hotkeys": {
    "equation": "Ctrl-E",
    "itemize": "Ctrl-I"
   },
   "labels_anchors": false,
   "latex_user_defs": false,
   "report_style_numbering": false,
   "user_envs_cfg": false
  },
  "toc": {
   "colors": {
    "hover_highlight": "#DAA520",
    "navigate_num": "#000000",
    "navigate_text": "#333333",
    "running_highlight": "#FF0000",
    "selected_highlight": "#FFD700",
    "sidebar_border": "#EEEEEE",
    "wrapper_background": "#FFFFFF"
   },
   "moveMenuLeft": true,
   "nav_menu": {
    "height": "86px",
    "width": "252px"
   },
   "navigate_menu": true,
   "number_sections": true,
   "sideBar": true,
   "threshold": 4,
   "toc_cell": false,
   "toc_section_display": "block",
   "toc_window_display": true,
   "widenNotebook": false
  }
 },
 "nbformat": 4,
 "nbformat_minor": 2
}
