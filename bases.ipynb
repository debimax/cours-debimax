{
 "metadata": {
  "name": "",
  "signature": "sha256:a1f7756e7733e4eb5abe4a0e1f255e45fcebc8247d790d8559f9d994b270c450"
 },
 "nbformat": 3,
 "nbformat_minor": 0,
 "worksheets": [
  {
   "cells": [
    {
     "cell_type": "heading",
     "level": 1,
     "metadata": {},
     "source": [
      "1 Les bases de python3"
     ]
    },
    {
     "cell_type": "markdown",
     "metadata": {},
     "source": [
      "## 1.1 Hello World\n",
      "On ne va pas y \u00e9chapper, quand on apprend un langage, le premier programme \u00e9tudi\u00e9 est le programme qui affiche \"Hello World!\".\n",
      "On utilisera ipython qui est shell python am\u00e9lior\u00e9."
     ]
    },
    {
     "cell_type": "code",
     "collapsed": false,
     "input": [
      "print(\"Hello World !\")"
     ],
     "language": "python",
     "metadata": {},
     "outputs": []
    },
    {
     "cell_type": "markdown",
     "metadata": {},
     "source": [
      "C'est relativement simple.\n",
      "\n",
      "Remarquez au passage l'absence de point-virgule en fin de ligne, contrairement au C, \u00e0 Java et \u00e0 bon nombre de langages.\n",
      "\n",
      "## 1.2 Les diff\u00e9rents types de donn\u00e9es\n",
      "\n",
      "Pour pouvoir travailler sur les types, nous aurons besoin de faire appel \u00e0 une fonction : la fonction **_type()_**.  \n",
      "Le r\u00f4le de cette fonction est d'afficher le type de l'\u00e9l\u00e9ment qui lui est pass\u00e9 en param\u00e8tre. \n",
      "\n",
      "### a)   Les donn\u00e9es num\u00e9riques\n",
      "Parmi les donn\u00e9es manipulables, on va bien entendu pouvoir utiliser des nombres. Ceux-ci sont class\u00e9s en quatre types num\u00e9riques :   \n",
      "#### **i. _Entier_** : \n",
      "permet de repr\u00e9senter les entiers sur 32 bits (de -2147483648 \u00e0 2147483647)."
     ]
    },
    {
     "cell_type": "code",
     "collapsed": false,
     "input": [
      "type(2)"
     ],
     "language": "python",
     "metadata": {},
     "outputs": []
    },
    {
     "cell_type": "code",
     "collapsed": false,
     "input": [
      "type(2147483647)"
     ],
     "language": "python",
     "metadata": {},
     "outputs": []
    },
    {
     "cell_type": "markdown",
     "metadata": {},
     "source": [
      "Des pr\u00e9fixes particuliers permettent d'utiliser la notation octale (en base huit) ou hexad\u00e9cimale (en base seize). \n",
      "- Pour la notation octale, il faudra pr\u00e9fixer les entiers par **_0o_** (le chiffre z\u00e9ro suivi de la lettre << o >> en minuscule).   \n",
      "  Par exemple, 12 en notation octale vaut 8+2=10 :\n"
     ]
    },
    {
     "cell_type": "code",
     "collapsed": false,
     "input": [
      "0o12"
     ],
     "language": "python",
     "metadata": {},
     "outputs": []
    },
    {
     "cell_type": "markdown",
     "metadata": {},
     "source": [
      "- Pour la notation hexad\u00e9cimale, le pr\u00e9fixe sera 0x (le chiffre z\u00e9ro suivi de la lettre \u00ab x \u00bb en minuscule).  \n",
      "Ainsi, 12 en notation hexad\u00e9cimale vaut 16+2=18 :"
     ]
    },
    {
     "cell_type": "code",
     "collapsed": false,
     "input": [
      "0x12"
     ],
     "language": "python",
     "metadata": {},
     "outputs": []
    },
    {
     "cell_type": "markdown",
     "metadata": {},
     "source": [
      "On peut convertir aussi un nombre ou un texte en entier avec la fonction ***int()***"
     ]
    },
    {
     "cell_type": "code",
     "collapsed": false,
     "input": [
      "type(int(\"16\"))"
     ],
     "language": "python",
     "metadata": {},
     "outputs": []
    },
    {
     "cell_type": "markdown",
     "metadata": {},
     "source": [
      "#### ii. **_Flottant_** : \n",
      "pour les nombres flottants. Le symbole utilis\u00e9 pour d\u00e9terminer la partie d\u00e9cimale est le\n",
      "point. On peut \u00e9galement utiliser la lettre E ou e pour signaler un exposant en base 10 (101, 102,\n",
      "etc.).\n"
     ]
    },
    {
     "cell_type": "code",
     "collapsed": false,
     "input": [
      "type(3.14)"
     ],
     "language": "python",
     "metadata": {},
     "outputs": []
    },
    {
     "cell_type": "code",
     "collapsed": false,
     "input": [
      "2e3"
     ],
     "language": "python",
     "metadata": {},
     "outputs": []
    },
    {
     "cell_type": "code",
     "collapsed": false,
     "input": [
      "type(2e1)"
     ],
     "language": "python",
     "metadata": {},
     "outputs": []
    },
    {
     "cell_type": "markdown",
     "metadata": {},
     "source": [
      "On peut convertir aussi un nombre ou un texte en flottant avec la fonction ***float()***"
     ]
    },
    {
     "cell_type": "code",
     "collapsed": false,
     "input": [
      "float(3)"
     ],
     "language": "python",
     "metadata": {},
     "outputs": []
    },
    {
     "cell_type": "code",
     "collapsed": false,
     "input": [
      "float('3')"
     ],
     "language": "python",
     "metadata": {},
     "outputs": []
    },
    {
     "cell_type": "markdown",
     "metadata": {},
     "source": [
      "#### iii. **_Complexe_** :\n",
      "\n",
      "Pour les nombres complexes qui sont repr\u00e9sent\u00e9s par leur partie r\u00e9elle et leur partie imaginaire.  \n",
      "En Python, la partie imaginaire sera logiquement suivie de la lettre J ou j.  \n",
      "En informatique, on utilise souvent la variable i  comme variable de boucle (dont nous parlerons par la suite), Pour \u00e9viter toute confusion, la partie imaginaire des complexes se note donc j. Voici comment \u00e9crire le complexe 2 + 3i :"
     ]
    },
    {
     "cell_type": "code",
     "collapsed": false,
     "input": [
      "2+3j"
     ],
     "language": "python",
     "metadata": {},
     "outputs": []
    },
    {
     "cell_type": "code",
     "collapsed": false,
     "input": [
      "type(2+3j)"
     ],
     "language": "python",
     "metadata": {},
     "outputs": []
    },
    {
     "cell_type": "markdown",
     "metadata": {},
     "source": [
      "#### iv. Probl\u00e8me avec les flottants \n",
      "L'interpr\u00e9teur interactif peut \u00eatre utilis\u00e9 comme une calculette. Pour l'instant nous ne parlerons que des op\u00e9rations \u00e9l\u00e9mentaires **+,-,* ** et **/** auxquelles nous ajouterons le quotient de la division euclidienne not\u00e9 **//** (ou **_div_** ) et le reste de la division euclidienne not\u00e9 **%** (ou **_mod_** ). Voici quelques exemples de calculs : "
     ]
    },
    {
     "cell_type": "code",
     "collapsed": false,
     "input": [
      "7/3"
     ],
     "language": "python",
     "metadata": {},
     "outputs": []
    },
    {
     "cell_type": "code",
     "collapsed": false,
     "input": [
      "7.0/3"
     ],
     "language": "python",
     "metadata": {},
     "outputs": []
    },
    {
     "cell_type": "code",
     "collapsed": false,
     "input": [
      "7//3"
     ],
     "language": "python",
     "metadata": {},
     "outputs": []
    },
    {
     "cell_type": "code",
     "collapsed": false,
     "input": [
      "7%3"
     ],
     "language": "python",
     "metadata": {},
     "outputs": []
    },
    {
     "cell_type": "markdown",
     "metadata": {},
     "source": [
      "Les r\u00e9sultats paraissent ici logiques: 7/3 et 7.0/3.0 donnent le m\u00eame r\u00e9sultat sous la forme d'un flottant et 7//3 a pour r\u00e9sultat 2 qui est bien le quotient de la division euclidienne de 7 par 3.  \n",
      "Si vous utilisez les calculs en Python, l'usage de la division peut donc \u00eatre source d'erreur et il faudra donc bien se souvenir de la version de Python employ\u00e9e. Mais il y a pire ... et ce n'est pas l'apanage de Python.\n",
      "\n",
      "Le ph\u00e9nom\u00e8ne que je m'appr\u00eate \u00e0 souligner est vrai pour absolument tous les langages, mais il est bien souvent oubli\u00e9. Quel est le r\u00e9sultat d'une op\u00e9ration simple telle que 0.7 + 0.1 ? \n",
      "\n",
      "Vous pensez que le r\u00e9sultat est 0.8 ? Testons donc en Python :\n"
     ]
    },
    {
     "cell_type": "code",
     "collapsed": false,
     "input": [
      "0.7+0.1"
     ],
     "language": "python",
     "metadata": {},
     "outputs": []
    },
    {
     "cell_type": "markdown",
     "metadata": {},
     "source": [
      "On dirait qu'il y a un probl\u00e8me ... En fait cela provient de la repr\u00e9sentation des flottants en machine :  \n",
      "ils sont arrondis !\n",
      "En Python, la solution consistera a utiliser un module sp\u00e9cial, le module **_Decimal_**."
     ]
    },
    {
     "cell_type": "code",
     "collapsed": false,
     "input": [
      "from decimal import *\n",
      "Decimal('0.1')+Decimal('0.7')"
     ],
     "language": "python",
     "metadata": {},
     "outputs": []
    },
    {
     "cell_type": "markdown",
     "metadata": {},
     "source": [
      "Si vous manipulez des flottants pour des calculs pr\u00e9cis, m\u00e9fiez vous !  \n",
      "En dehors des op\u00e9rateurs \u00e9l\u00e9mentaires, les \u00e9l\u00e9ments num\u00e9riques peuvent \u00eatre assign\u00e9s \u00e0 des variables \u00e0 l'aide du signe =(**_variable = valeur_** ) et il est possible d'effectuer une op\u00e9ration en utilisant l'ancienne valeur d'une variable \u00e0 l'aide de +=, -=, *= et /= (__variable += valeur__ \u00e9quivaut \u00e0 __variable = variable + valeur__ ).  \n",
      "Voici un petit exemple :"
     ]
    },
    {
     "cell_type": "code",
     "collapsed": false,
     "input": [
      "a=2"
     ],
     "language": "python",
     "metadata": {},
     "outputs": []
    },
    {
     "cell_type": "code",
     "collapsed": false,
     "input": [
      "a"
     ],
     "language": "python",
     "metadata": {},
     "outputs": []
    },
    {
     "cell_type": "code",
     "collapsed": false,
     "input": [
      "a+=3"
     ],
     "language": "python",
     "metadata": {},
     "outputs": []
    },
    {
     "cell_type": "code",
     "collapsed": false,
     "input": [
      "a"
     ],
     "language": "python",
     "metadata": {},
     "outputs": []
    },
    {
     "cell_type": "markdown",
     "metadata": {},
     "source": [
      "Les op\u00e9rateurs d'incr\u00e9mentation ou de d\u00e9cr\u00e9mentation ++ ou - n'existent pas en Python.  \n",
      "Par contre, vous avez la possibilit\u00e9 d'effectuer des affectations de variables multiples avec une m\u00eame\n",
      "valeur :\n"
     ]
    },
    {
     "cell_type": "code",
     "collapsed": false,
     "input": [
      "a=b=1"
     ],
     "language": "python",
     "metadata": {},
     "outputs": []
    },
    {
     "cell_type": "code",
     "collapsed": false,
     "input": [
      "a"
     ],
     "language": "python",
     "metadata": {},
     "outputs": []
    },
    {
     "cell_type": "code",
     "collapsed": false,
     "input": [
      "b"
     ],
     "language": "python",
     "metadata": {},
     "outputs": []
    },
    {
     "cell_type": "markdown",
     "metadata": {},
     "source": [
      "Et vous pouvez \u00e9galement effectuer des affectations multiples de variables ayant des valeurs diff\u00e9rentes en s\u00e9parant les noms de variables et les valeurs par des virgules :"
     ]
    },
    {
     "cell_type": "code",
     "collapsed": false,
     "input": [
      " a,b = 2,3"
     ],
     "language": "python",
     "metadata": {},
     "outputs": []
    },
    {
     "cell_type": "code",
     "collapsed": false,
     "input": [
      "a"
     ],
     "language": "python",
     "metadata": {},
     "outputs": []
    },
    {
     "cell_type": "code",
     "collapsed": false,
     "input": [
      "b"
     ],
     "language": "python",
     "metadata": {},
     "outputs": []
    },
    {
     "cell_type": "markdown",
     "metadata": {},
     "source": [
      "Ce m\u00e9canisme peut para\u00eetre anodin, mais il permet de r\u00e9aliser tr\u00e8s simplement une permutation de valeurs sans avoir recours a une variable interm\u00e9diaire :"
     ]
    },
    {
     "cell_type": "code",
     "collapsed": false,
     "input": [
      "a=2\n",
      "b=3\n",
      "a,b = b,a"
     ],
     "language": "python",
     "metadata": {},
     "outputs": []
    },
    {
     "cell_type": "code",
     "collapsed": false,
     "input": [
      "a"
     ],
     "language": "python",
     "metadata": {},
     "outputs": []
    },
    {
     "cell_type": "code",
     "collapsed": false,
     "input": [
      "b"
     ],
     "language": "python",
     "metadata": {},
     "outputs": []
    },
    {
     "cell_type": "markdown",
     "metadata": {},
     "source": [
      "Enfin, un op\u00e9rateur \\** pour \u00e9lever un nombre a une puissance quelconque."
     ]
    },
    {
     "cell_type": "code",
     "collapsed": false,
     "input": [
      "2**3"
     ],
     "language": "python",
     "metadata": {},
     "outputs": []
    },
    {
     "cell_type": "markdown",
     "metadata": {},
     "source": [
      "Apr\u00e8s avoir vu les types num\u00e9riques, voyons maintenant comment stocker des cha\u00eenes de caract\u00e8res."
     ]
    },
    {
     "cell_type": "markdown",
     "metadata": {},
     "source": [
      "### b)     Les cha\u00eene caract\u00e8res\n",
      "Les cha\u00eenes de caract\u00e8res sont encadr\u00e9es par des apostrophes ou des guillemets. Le choix de l'un ou de l'autre n'a aucun impact au niveau des performances.  \n",
      "La concat\u00e9nation (assemblage de plusieurs cha\u00eenes pour n'en produire qu'une seule) se fait \u00e0 l'aide de l'op\u00e9rateur +. Enfin, l'op\u00e9rateur * permet de r\u00e9p\u00e9ter une cha\u00eene. Voyons cela sous forme d'exemples :"
     ]
    },
    {
     "cell_type": "code",
     "collapsed": false,
     "input": [
      "a=\"Hello \"\n",
      "b=\"World !\"\n",
      "a+b"
     ],
     "language": "python",
     "metadata": {},
     "outputs": []
    },
    {
     "cell_type": "code",
     "collapsed": false,
     "input": [
      "3*a"
     ],
     "language": "python",
     "metadata": {},
     "outputs": []
    },
    {
     "cell_type": "markdown",
     "metadata": {},
     "source": [
      "L'acc\u00e8s \u00e0 un caract\u00e8re particulier de la cha\u00eene se fait en indiquant sa position entre crochets (le premier caract\u00e8re est \u00e0 la position 0) :"
     ]
    },
    {
     "cell_type": "code",
     "collapsed": false,
     "input": [
      "a[0]"
     ],
     "language": "python",
     "metadata": {},
     "outputs": []
    },
    {
     "cell_type": "markdown",
     "metadata": {},
     "source": [
      "En Python, on peut faire beaucoup de choses avec les cha\u00eenes de caract\u00e8res ... nous verrons cela plus en d\u00e9tail dans l'article consacr\u00e9 aux cha\u00eenes et aux listes.  \n",
      "\n",
      "### c) Les bol\u00e9ens\n",
      "Les valeurs bool\u00e9ennes sont not\u00e9es **_True_** et **_False_** (attention \u00e0 la majuscule). \n",
      "\n",
      "Dans le cadre d'un test, les valeurs **_0_**, **_\"\"_** (la cha\u00eene vide) et **_None_** sont consid\u00e9r\u00e9es comme \u00e9tant \u00e9gales \u00e0 **_False_**. Ces valeurs sont retourn\u00e9es comme r\u00e9sultats des tests r\u00e9alis\u00e9s \u00e0 l'aide des op\u00e9rateurs de comparaison :  \n",
      "**==** pour l'\u00e9galit\u00e9, **!=** pour la diff\u00e9rence, puis **<**, **>**, **<=** , et **>=**.  \n",
      "Exemple :"
     ]
    },
    {
     "cell_type": "code",
     "collapsed": false,
     "input": [
      "2==3"
     ],
     "language": "python",
     "metadata": {},
     "outputs": []
    },
    {
     "cell_type": "code",
     "collapsed": false,
     "input": [
      "2<=3"
     ],
     "language": "python",
     "metadata": {},
     "outputs": []
    },
    {
     "cell_type": "markdown",
     "metadata": {},
     "source": [
      "Pour combiner les tests, on utilise les op\u00e9rateurs bool\u00e9ens (ou connecteurs logiques): \n",
      "\n",
      "\n",
      "\n",
      "**_and_** (et), **_or_** (ou), ***xor*** et ***not*** (non).\n",
      "\n",
      "- et : <condition1> et <condition2> est vraie si les deux conditions sont vraies simultan\u00e9ment.\n",
      "- ou : <condition1> ou <condition2> est vraie si au moins une des deux conditions est vraie.\n",
      "- xor : xor est un ou exclusif (eXclusive OR). La condition <condition1> xor <condition2> est vraie si exactement une des deux conditions est vraie.\n",
      "- non : non(<condition1>) est le contraire de <condition1>.\n",
      "\n",
      "<div style=\"width: 200px; float:left\">\n",
      "<table>\n",
      "<tr><th>et</th><th>V</th><th>F</th></tr>\n",
      "<tr><td>**V**</td><td>V</td><td>F</td><tr>\n",
      "<tr><td>**F**</td><td>F</td><td>F</td><tr>\n",
      "</table>\n",
      "</div>\n",
      "<div style=\"width: 200px; float:left\">\n",
      "<table>\n",
      "<tr><th>ou</th><th>V</th><th>F</th></tr>\n",
      "<tr><td>**V**</td><td>V</td><td>V</td><tr>\n",
      "<tr><td>**F**</td><td>V</td><td>F</td><tr>\n",
      "</table>\n",
      "</div>\n",
      "<div style=\"width: 200px; float:left\">\n",
      "<table>\n",
      "<tr><th>xor</th><th>V</th><th>F</th></tr>\n",
      "<tr><td>**V**</td><td>F</td><td>V</td><tr>\n",
      "<tr><td>**F**</td><td>V</td><td>F</td><tr>\n",
      "</table>\n",
      "</div>\n",
      "<div style=\"width: 200px; float:left\">\n",
      "<table>\n",
      "<tr><th>not</th><th>V</th><th>F</th></tr>\n",
      "<tr><td></td><td>F</td><td>V</td><tr>\n",
      "</table>\n",
      "</div>\n"
     ]
    },
    {
     "cell_type": "markdown",
     "metadata": {},
     "source": [
      "Voici des exemples de combinaisons de tests : \n",
      "\n",
      "| Algorithmique | python |\n",
      "| :-: |:-:|\n",
      "|a=b | a== b|\n",
      "|a$\\neq$b  | a!=b|\n",
      "|A et B | A and B <html><br /></html> A & B|\n",
      "|A ou B | A or B <html><br /></html> A <html>&#124;</html> B  |\n",
      "|A xor B| A ^ B|\n",
      "|non A  |  not(A)|"
     ]
    },
    {
     "cell_type": "code",
     "collapsed": false,
     "input": [
      "1>2 and True"
     ],
     "language": "python",
     "metadata": {},
     "outputs": []
    },
    {
     "cell_type": "code",
     "collapsed": false,
     "input": [
      "2>1 and True"
     ],
     "language": "python",
     "metadata": {},
     "outputs": []
    },
    {
     "cell_type": "code",
     "collapsed": false,
     "input": [
      "1>2 or True"
     ],
     "language": "python",
     "metadata": {},
     "outputs": []
    },
    {
     "cell_type": "markdown",
     "metadata": {},
     "source": [
      "### d) Les listes, les tuples et les dictionnaires\n",
      "\n",
      "Nous allons maintenant voir trois types particuliers pr\u00e9sentant de fortes similitudes : les listes, les tuples et les dictionnaires. Ces types \u00e9tant un peu complexes, il ne s'agit ici que d'un premier aper\u00e7u, nous les \u00e9tudierons plus en d\u00e9tail dans l'article leur \u00e9tant consacr\u00e9.  \n",
      "#### i. Les listes \n",
      "Une liste est un ensemble d'\u00e9l\u00e9ments \u00e9ventuellement de diff\u00e9rents types. Une liste se d\u00e9finit \u00e0 laide des crochets et une liste vide est symbolis\u00e9e par [].  \n",
      "L'acc\u00e8s \u00e0 un \u00e9l\u00e9ment de la liste se fait en donnant son index, de la m\u00eame mani\u00e8re qu'avec les cha\u00eenes de caract\u00e8res :"
     ]
    },
    {
     "cell_type": "code",
     "collapsed": false,
     "input": [
      "maliste=[3.14, \"cours isn\", 1+1j, 5]\n",
      "maliste[1]"
     ],
     "language": "python",
     "metadata": {},
     "outputs": []
    },
    {
     "cell_type": "markdown",
     "metadata": {},
     "source": [
      "#### ii.Les tuples \n",
      "Les tuples sont des listes particuli\u00e8res, on ne peux pas les modifier, nous verrons l'int\u00e9r\u00eat plus tard. Ils sont d\u00e9finis par des parenth\u00e8ses et leurs \u00e9l\u00e9ments sont accessibles de la m\u00eame mani\u00e8re que pour les listes.  \n",
      "Notez que pour lever toute ambigu\u00eft\u00e9, un tuple ne contenant qu'un seul \u00e9l\u00e9ment sera not\u00e9 (\u00e9l\u00e9ment,). Si vous omettez la virgule, Python pensera qu'il s'agit d'un parenth\u00e8sage superflu et vous n'aurez donc pas cr\u00e9\u00e9 un tuple.  "
     ]
    },
    {
     "cell_type": "code",
     "collapsed": false,
     "input": [
      "t=(2,3)\n",
      "type(t)"
     ],
     "language": "python",
     "metadata": {},
     "outputs": []
    },
    {
     "cell_type": "code",
     "collapsed": false,
     "input": [
      "type((2))"
     ],
     "language": "python",
     "metadata": {},
     "outputs": []
    },
    {
     "cell_type": "code",
     "collapsed": false,
     "input": [
      "type((2,))"
     ],
     "language": "python",
     "metadata": {},
     "outputs": []
    },
    {
     "cell_type": "markdown",
     "metadata": {},
     "source": [
      "L'exemple des listes peut tout a fait \u00eatre rapport\u00e9 aux tuples :"
     ]
    },
    {
     "cell_type": "code",
     "collapsed": false,
     "input": [
      "montuple=(3.14, \"cours isn\", 1+1j, 5)\n",
      "montuple[1]"
     ],
     "language": "python",
     "metadata": {},
     "outputs": []
    },
    {
     "cell_type": "markdown",
     "metadata": {},
     "source": [
      "#### Les dictionnaires \n",
      "\n",
      "Un dictionnaire est une liste o\u00f9 l'acc\u00e8s aux \u00e9l\u00e9ments se fait \u00e0 l'aide d'une cl\u00e9 alphanum\u00e9rique ou purement num\u00e9rique. Il s'agit d'une association cl\u00e9/valeur sous la forme **_cl\u00e9:valeur_**.  \n",
      "Les dictionnaires sont d\u00e9finis a l'aide des **accolades**. Dans d'autres langages les dictionnaires sont aussi appel\u00e9s tableaux associatifs ou tables de hachage. Voici un exemple d'utilisation d'un dictionnaire :"
     ]
    },
    {
     "cell_type": "code",
     "collapsed": false,
     "input": [
      " t ={ 'nom' : 'Meilland' , 'prenom' : 'jean claude' }\n",
      " t['nom']"
     ],
     "language": "python",
     "metadata": {},
     "outputs": []
    },
    {
     "cell_type": "markdown",
     "metadata": {},
     "source": [
      "### e) Le type byte\n",
      "Le type ***byte*** est un type souvent utilis\u00e9 avec python3.  C'est un tableau d'octets."
     ]
    },
    {
     "cell_type": "code",
     "collapsed": false,
     "input": [
      "unbyte=b'ceci est un byte'\n",
      "print(unbyte)\n",
      "type(unbyte)"
     ],
     "language": "python",
     "metadata": {},
     "outputs": []
    },
    {
     "cell_type": "markdown",
     "metadata": {},
     "source": [
      "\u00c0 quoi sert un byte?\n",
      "\n",
      "G\u00e9n\u00e9ralement \u00e0 tout \u00e9change de donn\u00e9es. Par exemple:  \n",
      "- Executer un logiciel quelconque sur l'ordinateur,\n",
      "- Parser une page internet (analyse syntaxique qui permet d'obtenir le code de la page internet),\n",
      "- lire un fichier texte \n",
      "- etc..\n",
      "\n",
      "Voici un exemple ou on execute le logiciel  giac(xcas)  pour calculer la d\u00e9riv\u00e9e de la fonction $f(x)=\\dfrac{1}{x}$"
     ]
    },
    {
     "cell_type": "code",
     "collapsed": false,
     "input": [
      "import subprocess\n",
      "a=subprocess.check_output([\"giac\", \"deriver('1/x','x'\"])\n",
      "print(a)\n",
      "print(type(a))"
     ],
     "language": "python",
     "metadata": {},
     "outputs": []
    },
    {
     "cell_type": "markdown",
     "metadata": {},
     "source": [
      "Le ***b***  est l\u00e0 pour signifier que la type est byte\n"
     ]
    },
    {
     "cell_type": "code",
     "collapsed": false,
     "input": [
      "b=a.decode('utf8')\n",
      "print(b)\n",
      "print(type(b))"
     ],
     "language": "python",
     "metadata": {},
     "outputs": []
    },
    {
     "cell_type": "markdown",
     "metadata": {},
     "source": [
      "On peut passer du type byte \u00e0 string en encodant en utf8 par exemple."
     ]
    },
    {
     "cell_type": "markdown",
     "metadata": {},
     "source": [
      "### f) \u00c0 retenir\n",
      "\n",
      "Les diff\u00e9rents types entiers, flottants, complexes, cha\u00eenes de caract\u00e8res, bol\u00e9ens, listes,  tuples et dictionnaires.\n",
      "\n",
      "- ***entier***: 3  \n",
      "- ***flottant***: 2.3  \n",
      "- ***complexe***: 1+2j  \n",
      "- ***cha\u00eenes de caract\u00e8res (string)***: 'ISN'  \n",
      "- ***Bol\u00e9en***: True  \n",
      "- ***Listes***: [0,1,2,3]  \n",
      "- ***Tuples***: (0,1,2,3)  \n",
      "- ***Dictionnaires***: {'zero':0, 'un':1, 'deux':2,'trois':3}  \n",
      "- ***Byte***: b'toto'\n",
      "\n",
      "On aura toujours \u00e0 l'esprit que 0.2+0.7=0.8999999999999999$\\neq0.9$\n",
      "\n",
      "- ***int()*** permet de convertir, un nombre ou une cha\u00eene de caract\u00e8re en un entier.  \n",
      "- ***float()*** permet de convertir, un nombre ou une cha\u00eene de caract\u00e8re en un flottant.\n",
      "\n",
      "- Quelques op\u00e9rateur d\u00e9j\u00e0 vu et tr\u00e8s utiles\n",
      "\n",
      "<html><table>\n",
      "    <tr><th>Op\u00e9ration</th><th>algorithme </th><th>python</th></tr>\n",
      "    <tr><td>addition</td><td>2+3</td><td>2+3</td>\n",
      "    <tr><td>Soustraction</td><td>12-5</td><td>12-5</td>\n",
      "    <tr><td>Multiplication </td><td> 3*6 </td><td>3*6 </td>\n",
      "    <tr><td>Division </td><td> 7/2 </td><td> 7/2</td>\n",
      "    <tr><td>Quotient de la division euclidienne </td><td> 7 div 2 ou div(7,2) </td><td> 7//2 </td>  \n",
      "    <tr><td>Reste de la division euclidienne </td><td>  7 mod 2 ou mod(7,2) </td><td>  7%2 </td>\n",
      "    <tr><td>puissance </td><td> $7^2$ </td><td>7\\*\\*2</td>\n",
      "    <tr><td>racine carr\u00e9e </td><td> $\\sqrt{2}$ ou sqrt(2) </td><td> sqrt(2)</td> \n",
      "  </table>\n",
      "</html>"
     ]
    },
    {
     "cell_type": "markdown",
     "metadata": {},
     "source": [
      "## 1.3 Le syntaxe g\u00e9n\u00e9rale\n",
      "\n",
      "### a) indentation\n",
      "\n",
      "Python oblige donc le d\u00e9veloppeur \u00e0 structurer son code a l'aide des ***indentations*** : ce sont elles qui d\u00e9termineront les blocs (s\u00e9quences d'instructions li\u00e9es) et non les accolades comme dans la majorit\u00e9 des langages.\n",
      "\n",
      "### b) Commentaires \n",
      "Le caract\u00e8re **\\#** permet d'indiquer que tous les caract\u00e8res suivants sur la m\u00eame ligne ne doivent pas \u00eatre interpr\u00e9t\u00e9s. il s'agit de commentaires\n",
      "\n",
      "###  c) Variables\n",
      "\n",
      "Python utilise le symbole ***=*** pour affecter une valeur \u00e0 une variable.  \n",
      "par exemple:"
     ]
    },
    {
     "cell_type": "code",
     "collapsed": false,
     "input": [
      " a = 12 # Affectation d'un entier \u00e0 la variable a"
     ],
     "language": "python",
     "metadata": {},
     "outputs": []
    },
    {
     "cell_type": "code",
     "collapsed": false,
     "input": [
      "a==12"
     ],
     "language": "python",
     "metadata": {},
     "outputs": []
    },
    {
     "cell_type": "markdown",
     "metadata": {},
     "source": [
      "Attention: a=12 place la valeur 12 dans la variable a mais a==12 v\u00e9rifie si la variable a est \u00e9gale \u00e0 12,  c'est donc un bol\u00e9en. (True ici car a est bien \u00e9gal \u00e0 12).\n",
      "\n",
      "### d) Les op\u00e9rateurs\n",
      "\n"
     ]
    },
    {
     "cell_type": "markdown",
     "metadata": {},
     "source": [
      "##1.4 Les entr\u00e9es et les sorties  E/S\n",
      "\n",
      "### a) Entrer des donn\u00e9es\n",
      "Il est parfois n\u00e9cessaire d'entrer des donn\u00e9es"
     ]
    },
    {
     "cell_type": "code",
     "collapsed": false,
     "input": [
      "a=input(\"Entrer un texte a: \")\n",
      "type(a)"
     ],
     "language": "python",
     "metadata": {},
     "outputs": []
    },
    {
     "cell_type": "code",
     "collapsed": false,
     "input": [
      "b=int(input(\"Entrer un entier b: \"))\n",
      "type(b)"
     ],
     "language": "python",
     "metadata": {},
     "outputs": []
    },
    {
     "cell_type": "code",
     "collapsed": false,
     "input": [
      "c=float(input(\"Entrer un r\u00e9el c: \"))\n",
      "type(c)"
     ],
     "language": "python",
     "metadata": {},
     "outputs": []
    },
    {
     "cell_type": "markdown",
     "metadata": {},
     "source": [
      "### b) Afficher un texte ou la valeur d'une variable\n",
      "\n",
      "On utilise pour afficher un texte ou la valeur d'une variable la fonction ***print()***"
     ]
    },
    {
     "cell_type": "code",
     "collapsed": false,
     "input": [
      "print('toto')"
     ],
     "language": "python",
     "metadata": {},
     "outputs": []
    },
    {
     "cell_type": "code",
     "collapsed": false,
     "input": [
      "a='Meilland jean claude'\n",
      "b='Lebowski Jeff'\n",
      "print(a,b)"
     ],
     "language": "python",
     "metadata": {},
     "outputs": []
    },
    {
     "cell_type": "markdown",
     "metadata": {},
     "source": [
      "print(a)"
     ]
    },
    {
     "cell_type": "code",
     "collapsed": false,
     "input": [
      "print(a,b,sep='\\n')  # sep signifie s\u00e9parateur  et \\n pour newline"
     ],
     "language": "python",
     "metadata": {},
     "outputs": []
    },
    {
     "cell_type": "markdown",
     "metadata": {},
     "source": [
      "On peut assi afficher du texte et des variables. Il existe plusieurs m\u00e9thodes\n",
      "\n",
      "  #### i. m\u00e9thode 1"
     ]
    },
    {
     "cell_type": "code",
     "collapsed": false,
     "input": [
      "a=12\n",
      "print(\"La valeur de la variable a est \",str(a),\".\",sep='') # par defaut sep est un espace"
     ],
     "language": "python",
     "metadata": {},
     "outputs": []
    },
    {
     "cell_type": "markdown",
     "metadata": {},
     "source": [
      "#### ii. M\u00e9thode 2"
     ]
    },
    {
     "cell_type": "code",
     "collapsed": false,
     "input": [
      "print(\"La valeur de la variable a est \" + str(a) + \".\") # autre forme avec des +"
     ],
     "language": "python",
     "metadata": {},
     "outputs": []
    },
    {
     "cell_type": "markdown",
     "metadata": {},
     "source": [
      "#### iii. M\u00e9thode 3  avec la m\u00e9thode format()\n",
      "\n",
      "Avec python3  il est conseill\u00e9 d'utiliser cette m\u00e9thode"
     ]
    },
    {
     "cell_type": "code",
     "collapsed": false,
     "input": [
      "print(\"La valeur de la variable a est {}.\".format(a)) # Cette m\u00e9thode est \u00e0 pr\u00e9f\u00e9rer"
     ],
     "language": "python",
     "metadata": {},
     "outputs": []
    },
    {
     "cell_type": "markdown",
     "metadata": {},
     "source": [
      "On remplace {} par le contenu de la variable a. Peu importe ici si a est un texte, un flottant Le r\u00e9sultat sera affich\u00e9.\n",
      "\n",
      "Voici des exemple un peu plus complexe"
     ]
    },
    {
     "cell_type": "code",
     "collapsed": false,
     "input": [
      "a=4\n",
      "b=5\n",
      "print(\"Le produit de {} par {} est {}\".format(a,b,a*b))"
     ],
     "language": "python",
     "metadata": {},
     "outputs": []
    },
    {
     "cell_type": "code",
     "collapsed": false,
     "input": [
      " print(\"{0}*{1}={2} et {0}/{1}={3}\".format(a,b,a*b,a/b))"
     ],
     "language": "python",
     "metadata": {},
     "outputs": []
    },
    {
     "cell_type": "markdown",
     "metadata": {},
     "source": [
      "### c) \u00c0 retenir\n",
      "\n",
      "- On utilise le caractre ***\\#*** pour \u00e9crire un commentaire\n",
      "- Python utilise le symbole ***=*** pour affecter une valeur \u00e0 une variable.  \n",
      "Attention \u00e0 ne pas confondre a=12 et a==12.\n",
      "- ***input(\"texte\")***  permet de saisir du texte pour un programme.  \n",
      "- Il faudra \u00e9ventuellement convertir ce texte dans le type voulu avec ***int()*** ou ***float()***\n",
      "- On utilise de pr\u00e9f\u00e9rence la m\u00e9thode ***format()*** pour afficher du texte et des variables.  \n",
      "<html><br /><code>print(\"Le produit de {} par {} est {}\".format(a,b,a*b))</code></html>"
     ]
    },
    {
     "cell_type": "markdown",
     "metadata": {},
     "source": [
      "##1.5 Les structures de boucle et de test\n",
      "\n",
      "### a) Les structures de test\n",
      "\n",
      "- Si ...  alors ...  sinon\n",
      "<html>\n",
      "<div  style=\"background-color:#80BFFF\">\n",
      "<code style=\"background-color:#80BFFF\">\n",
      "if condition:\n",
      "    # Traitement bloc 1\n",
      "else:\n",
      "    # Traitement bloc 2\n",
      "</code></div></html>\n",
      "\n",
      "  Pour les tests multiples, il faudra encha\u00eener les if en cascade gr\u00e2ce \u00e0 l'instruction elif, contraction de else if :\n",
      "\n",
      "  <html>\n",
      "<div  style=\"background-color:#80BFFF\">\n",
      "<code style=\"background-color:#80BFFF\">\n",
      "if condition:\n",
      "           # Traitement bloc 1\n",
      "elif:\n",
      "    # Traitement bloc 2\n",
      "else:\n",
      "    # Traitement bloc 3\n",
      "</code></div></html>\n",
      "\n",
      "  Par exemple:"
     ]
    },
    {
     "cell_type": "code",
     "collapsed": false,
     "input": [
      "a=3\n",
      "if a>1:\n",
      "    print('a>1')\n",
      "else:\n",
      "    print('a<=2')"
     ],
     "language": "python",
     "metadata": {},
     "outputs": []
    },
    {
     "cell_type": "markdown",
     "metadata": {},
     "source": [
      "- ***try*** pour g\u00e9rer les erreurs  \n",
      "  Ce n'est pas exectement unestructure de test mais elle s'en rapproche.\n",
      " \n",
      "  <html>\n",
      "<div  style=\"background-color:#80BFFF\">\n",
      "<code style=\"background-color:#80BFFF\">try:\n",
      "    # commandes\n",
      "except:\n",
      "    # traitement des erreurs\n",
      "finaly:\n",
      "    # commandes \u00e0 ex\u00e9cuter dans tous les cas</code></div></html>\n",
      "    \n",
      "    par exemple:"
     ]
    },
    {
     "cell_type": "code",
     "collapsed": false,
     "input": [
      "a=1\n",
      "b=0\n",
      "try:\n",
      "    c=a/b\n",
      "    print(c)\n",
      "except (ZeroDivisionError): print('Vous ne pouvez pas diviser par 0')\n",
      "except: print('il y a une autre erreur')"
     ],
     "language": "python",
     "metadata": {},
     "outputs": []
    },
    {
     "cell_type": "markdown",
     "metadata": {},
     "source": [
      "Modifier le programme pr\u00e9c\u00e9dent en modifiant la 2\u00b0 ligne par:  <html><code  style=\"background-color:#80BFFF\">b='a'</code><html>"
     ]
    },
    {
     "cell_type": "markdown",
     "metadata": {},
     "source": [
      "### b) Les structures de boucle\n",
      "\n",
      "Pour les boucles il existe deux structures. \n",
      "#### i. La boucle for  \n",
      "La boucle **_for_** prend ses valeurs dans une liste :\n",
      "\n",
      "**for *variable* in *liste_valeurs* **. \u00c0 chaque it\u00e9ration la variable prendra pour valeur un \u00e9l\u00e9ment de la liste."
     ]
    },
    {
     "cell_type": "code",
     "collapsed": false,
     "input": [
      "for e in [ 'pomme' , 'poire' , 'kiwi' ]:\n",
      "    print(e)"
     ],
     "language": "python",
     "metadata": {},
     "outputs": []
    },
    {
     "cell_type": "markdown",
     "metadata": {},
     "source": [
      "Pour cr\u00e9er une boucle \u00e9quivalente aux boucles traditionnelles << pour i allant de m \u00e0 n, faire ... >>, nous utiliserons la fonction ***range()***.  \n",
      "La syntaxe g\u00e9n\u00e9rale est ***for i in range(m,n,p):***  \n",
      "**i prend alors toutes les valeurs de m \u00e0 n-1 par pas de p**"
     ]
    },
    {
     "cell_type": "code",
     "collapsed": false,
     "input": [
      "for i in range(0,4):\n",
      "    print(i)"
     ],
     "language": "python",
     "metadata": {},
     "outputs": []
    },
    {
     "cell_type": "code",
     "collapsed": false,
     "input": [
      "for i in range(4):\n",
      "    print(i)"
     ],
     "language": "python",
     "metadata": {},
     "outputs": []
    },
    {
     "cell_type": "code",
     "collapsed": false,
     "input": [
      "for i in range(0,6,2):\n",
      "    print(i)"
     ],
     "language": "python",
     "metadata": {},
     "outputs": []
    },
    {
     "cell_type": "code",
     "collapsed": false,
     "input": [
      "for i in range(4,0,-1):\n",
      "    print(i)"
     ],
     "language": "python",
     "metadata": {},
     "outputs": []
    },
    {
     "cell_type": "markdown",
     "metadata": {},
     "source": [
      "Le mot-cl\u00e9 **_continue_** permet de passer \u00e0 l'it\u00e9ration suivante et le mot-cl\u00e9 **_break_** permet de sortir de la boucle :"
     ]
    },
    {
     "cell_type": "code",
     "collapsed": false,
     "input": [
      "for i in range(0,10):\n",
      "    if i==2:\n",
      "        continue\n",
      "    if i==6:\n",
      "        break\n",
      "    print(i)"
     ],
     "language": "python",
     "metadata": {},
     "outputs": []
    },
    {
     "cell_type": "markdown",
     "metadata": {},
     "source": [
      "#### ii. La boucle while\n",
      "\n",
      "La seconde structure de boucle est le *<< tant que >>* : tant qu'une condition est vraie, on boucle.  \n",
      "Attention : dans ce type de boucle on utilise une variable de boucle dont la valeur doit changer pour pouvoir sortir de la boucle :"
     ]
    },
    {
     "cell_type": "code",
     "collapsed": false,
     "input": [
      "i=0\n",
      "while i<4:\n",
      "    print(i)\n",
      "    i+=1 #\u00e9quivalent \u00e0 i=i+1"
     ],
     "language": "python",
     "metadata": {},
     "outputs": []
    },
    {
     "cell_type": "markdown",
     "metadata": {},
     "source": [
      "La boucle **_while_** accepte elle aussi les mots-cl\u00e9s **_continue_** et **_break_**.\n",
      "\n",
      "\n",
      "### c) \u00c0 retenir\n",
      "\n",
      "Il faut absolument savoir utiliser les test ***if*** et boucles ***for*** et ***while***\n",
      "\n",
      "Il n'y a que les exercices qui vous permettrons de vous familiariser avec ceci. \n",
      "\n",
      "## 1.5 La structure d'un programme\n",
      "\n",
      "Avec L'ensemble des instructions que nous avons vu, vous pouvez \u00e9crire des programmes plus longs que les quelques lignes test\u00e9es dans l'interpr\u00e9teur interactif. Vous allez donc avoir besoin de stocker vos scripts dans des fichiers d'extension **.py**.  \n",
      "\n",
      "Pour ex\u00e9cuter ces fichiers de code vous aurez alors deux possibilit\u00e9s :\n",
      " - soit lancer simplement dans un terminal :  \n",
      "   python3 monFichier.py\n",
      " - soit ajouter \u00e0 votre code source une ligne indiquant o\u00f9 se trouve l'interpr\u00e9teur Python \u00e0 utiliser :  "
     ]
    },
    {
     "cell_type": "code",
     "collapsed": false,
     "input": [
      "#!/usr/bin/python3"
     ],
     "language": "python",
     "metadata": {},
     "outputs": []
    },
    {
     "cell_type": "markdown",
     "metadata": {},
     "source": [
      "Cette ligne doit \u00eatre la premi\u00e8re ligne de votre fichier. Ensuite vous n'avez plus qu'a rendre votre fichier ex\u00e9cutable (chmod u+x monFichier.py ) et vous pourrez lancer votre script par :  ./monFichier.py"
     ]
    },
    {
     "cell_type": "markdown",
     "metadata": {},
     "source": [
      "## 1.6 Exercices\n",
      "\n",
      "**Exercice 1**: Demander \u00e0 l'utilisateur de saisir les longueurs et largeurs d'un rectangle, afficher sa surface.\n",
      "\n",
      "**Exercice 2**: Saisir une note, afficher \"ajourn\u00e9\" si la note est inf\u00e9rieure \u00e0 8, \"oral vous avez eu << la note >>\" entre 8 et 10, \"admis\" au dessus de 10.\n",
      "\n",
      "**Exercice 3**: Saisir trois entiers a,b et c. Puis d\u00e9termine le nombre de racines ainsi que les racines du polyn\u00f4me $ax^2+bx+c$\n",
      "\n",
      "Aide! Pour utiliser la racine carr\u00e9  (square root en anglais) il faut importer la librairie ***math***.  \n",
      "Par exemple pour calculer $\\sqrt(2)$\n",
      "<html>\n",
      "<div  style=\"background-color:#80BFFF\">\n",
      "<code style=\"background-color:#80BFFF\">import math\n",
      "math.sqrt(2)\n",
      "</code></div></html>\n",
      "\n",
      "\n",
      "**Exercice 4**:  Une compagnie d'assurance effectue des remboursements en laissant une somme, appel\u00e9e franchise, \u00e0 la charge du client. La franchise repr\u00e9sente 10% du montant des dommages sans toutefois\n",
      "pouvoir \u00eatre inf\u00e9rieure \u00e0 15 euros ou sup\u00e9rieure \u00e0 500 euros.  \n",
      "\n",
      "\u00c9crire un algorithme demandant \u00e0 l'utilisateur de saisir le montant des dommages et lui affichant le montant rembours\u00e9 ainsi que le montant de la franchise.\n",
      "\n",
      "**Exercice 5**:  Qu'affiche le programme suivant:\n",
      "\n",
      "<html>\n",
      "<div  style=\"background-color:#80BFFF\">\n",
      "<code style=\"background-color:#80BFFF\">a=1  \n",
      "b=2  \n",
      "if a>=b:\n",
      "    a=b\n",
      "else:\n",
      "    b=a\n",
      "print(\"a={} et b={}\".format(a,b))\n",
      "</code></div></html>\n",
      "    \n",
      "**Exercice 6**: Saisir une valeur et afficher sa valeur absolue (sans utiliser math.fabs bien sur).\n",
      "\n",
      "**Exercice 7**: Saisir trois valeurs puis afficher la plus petite de ces valeurs.\n",
      "\n",
      "**Exercice 8**:  Saisir trois valeurs puis afficher  le nombre de valeurs \u00e9gales.\n",
      "\n",
      "**Exercice 9**:  La factorielle de l'entier $n$ est le nombre not\u00e9 $n!$ avec $n! = n \u00d7 (n - 1) \u00d7 \u00b7 \u00b7 \u00b7 \u00d7 2 \u00d7 1$.  \n",
      "\u00c9crire un algorithme calculant la factorielle d'un nombre saisi par l'utilisateur.\n",
      "\n",
      "**Exercice 10**: \u00c9crire un algorithme qui  cr\u00e9er un nombre al\u00e9atoire entre 1 et 1000.  \n",
      "il faudra ensuite trouver ce nombre en saisissant des nombres tant que que le nombre myst\u00e8re n'a pas \u00e9t\u00e9 trouv\u00e9, et afficher \u00e0 chaque fois le texte \"c'est plus\" (le nombre propos\u00e9 est trop petit) ou \"c'est moins\" (le nombre propos\u00e9 est trop grand) selon les cas.  \n",
      "\u00c0 la fin il faudra afficher le texte \"Nombre d'essais n\u00e9cessaires : \" puis, le nombre d'essais qui ont \u00e9t\u00e9 n\u00e9cessaires.\n",
      "\n",
      "\n",
      "On utilisera pour g\u00e9n\u00e9rer le nombre al\u00e9atoire entre 1 et 1000 le code ci-dessous\n",
      "\n",
      "  <html>\n",
      "<div  style=\"background-color:#80BFFF\">\n",
      "<code style=\"background-color:#80BFFF\">import random\n",
      "mystere=random.randint(1,1000)\n",
      "</code></div></html>\n",
      "\n",
      "**Exercice 11**:  \u00c9crire un algorithme demandant \u00e0 l'utilisateur de saisir la valeur d'une variable n et qui affiche la table de multiplication de n.\n",
      "\n",
      "\n",
      "<html><table><tr><td></td><td><b>1</b></td><td><b>2</b></td><td><b>3</b></td><td><b>4</b></td><td><b>5</b></td><td><b>6</b></td><td><b>7</b></td><td><b>8</b></td><td><b>9</b></td></tr>\n",
      "    <tr><td><b>1</b></td><td>1</td><td>2</td><td>3</td><td>4</td><td>5</td><td>6</td><td>7</td><td>8</td><td>9</td></tr>\n",
      "    <tr><td><b>2</b></td><td>2</td><td>4</td><td>6</td><td>8</td><td>10</td><td>12</td><td>14</td><td>16</td><td>18</td></tr>\n",
      "    <tr><td><b>3</b></td><td>3</td><td>6</td><td>9</td><td>12</td><td>15</td><td>18</td><td>21</td><td>24</td><td>27</td></tr>\n",
      "    <tr><td><b>4</b></td><td>4</td><td>8</td><td>12</td><td>16</td><td>20</td><td>24</td><td>28</td><td>32</td><td>36</td></tr>\n",
      "    <tr><td><b>5</b></td><td>5</td><td>10</td><td>15</td><td>20</td><td>25</td><td>30</td><td>35</td><td>40</td><td>49</td></tr>\n",
      "    <tr><td><b>6</b></td><td>6</td><td>12</td><td>18</td><td>24</td><td>30</td><td>36</td><td>42</td><td>48</td><td>54</td></tr>\n",
      "    <tr><td><b>7</b></td><td>7</td><td>14</td><td>21</td><td>28</td><td>35</td><td>42</td><td>49</td><td>56</td><td>63</td></tr>\n",
      "    <tr><td><b>8</b></td><td>8</td><td>16</td><td>24</td><td>32</td><td>40</td><td>48</td><td>56</td><td>64</td><td>72</td></tr>\n",
      "    <tr><td><b>9</b></td><td>9</td><td>18</td><td>27</td><td>36</td><td>45</td><td>54</td><td>63</td><td>72</td><td>81</td></tr>\n",
      "    </table>\n",
      "</html>\n",
      " \n",
      "**Exercice 12**:  \u00c9crire un programme demandant \u00e0 l'utilisateur de saisir une valeur num\u00e9rique positive n et affichant toutes les valeurs n, n - 1, . . . , 2, 1, 0.\n",
      "\n",
      "\n",
      "**Exercice 13**: \u00c9crire un algorithme demandant la saisie d'un nombre n et calculant $n^n$ .  \n",
      "Par exemple, si l'utilisateur saisit 3, l'algorithme lui affiche  \n",
      "- a) $3$^$3 = 27$.\n",
      "- b) $3$^$3 = 3 \\times 3 \\times 3 = 27$.  (plus difficile) \n",
      "\n",
      "**Exercice 14**:  \u00c9crivez un algorithme saisissant un nombre $n$ et calculant la somme suivante :\n",
      "\n",
      "$$S=1+2+3+...+n$$\n",
      "\n",
      "**Exercice 15**:  \u00c9crivez un algorithme saisissant un nombre n et calculant la somme suivante :\n",
      "\n",
      "$$S=\\dfrac{1}{1}-\\dfrac{1}{2}+\\dfrac{1}{3}-\\dfrac{1}{4}+ ... + \\dfrac{(-1)^{n+1}}{n}$$\n",
      "\n",
      "\n",
      "**Exercice 16**: Soit $(u_n)$ la suite d\u00e9finie par $u_n=0.8 \\times n +1$  \n",
      "Afficher les 100 premiers termes termes de la suites $(u_n)$\n",
      "\n",
      "**Exercice 17**:  Soit $(u_n)$ la suite d\u00e9finie par $\\left\\lbrace\\begin{array}{l} u_{n+1}=0.8\\times u_n+1 \\\\ u_0=2\\\\ \\end{array}\\right.$  \n",
      "Afficher les 100 premiers termes termes de la suites $(u_n)$\n",
      "\n",
      "**Exercice 18**:  Soit $(u_n)$ la suite d\u00e9finie par  $\\left\\lbrace\\begin{array}{l} u_{n+1}=2 \\times u_n\\\\ u_0=0.1\\\\ \\end{array}\\right.$  \n",
      "\n",
      "D\u00e9terminer $n$  tel que $u_n \\geq 384\\ 400\\ 000\\ 000$   (distance terre lune en mm)\n",
      "\n",
      "**Exercice 18**:   On veut empiler des bo\u00eetes cubiques comme indiqu\u00e9 ci-dessous.\n",
      "\n",
      "  <center><img src=\"./images/base_de_pb_ouverts_130.png\"></center>\n",
      "\n",
      " On dispose de 500 boites, combien de rang\u00e9s pourra t on faire?\n",
      " \n",
      " \u00c9crire un programme pour r\u00e9pondre \u00e0 cette question.\n",
      "\n",
      "\n",
      "[Chapitre suivant: Le slicing et les structures de liste](./slicing.ipynb \"Manipuler les listes\")"
     ]
    },
    {
     "cell_type": "code",
     "collapsed": false,
     "input": [],
     "language": "python",
     "metadata": {},
     "outputs": []
    }
   ],
   "metadata": {}
  }
 ]
}