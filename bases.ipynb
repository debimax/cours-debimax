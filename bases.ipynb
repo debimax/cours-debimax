{
 "metadata": {
  "name": "",
  "signature": "sha256:dcb3139d10befd5a1ea7da63d43215eb7419d70df4f05290877d370e0208c997"
 },
 "nbformat": 3,
 "nbformat_minor": 0,
 "worksheets": [
  {
   "cells": [
    {
     "cell_type": "markdown",
     "metadata": {},
     "source": [
      "# <center>Les bases de python3</center> # \n",
      "---\n",
      "\n",
      "## 1.1 Hello World\n",
      "On ne va pas y \u00e9chapper, quand on apprend un langage, le premier programme \u00e9tudi\u00e9 est le programme qui affiche \"Hello World!\".\n",
      "On utilisera ipython qui est shell python am\u00e9lior\u00e9."
     ]
    },
    {
     "cell_type": "code",
     "collapsed": false,
     "input": [
      "print(\"Hello World !\")"
     ],
     "language": "python",
     "metadata": {},
     "outputs": []
    },
    {
     "cell_type": "markdown",
     "metadata": {},
     "source": [
      "C'est relativement simple.\n",
      "\n",
      "Remarquez au passage l'absence de point-virgule en fin de ligne, contrairement au C, \u00e0 Java et \u00e0 bon nombre de langages.\n",
      "\n",
      "## 1.2 Les diff\u00e9rents types de donn\u00e9es\n",
      "\n",
      "Pour pouvoir travailler sur les types, nous aurons besoin de faire appel \u00e0 une fonction : la fonction **_type()_**.  \n",
      "Le r\u00f4le de cette fonction est d'afficher le type de l'\u00e9l\u00e9ment qui lui est pass\u00e9 en param\u00e8tre. \n",
      "\n",
      "### a)   Les donn\u00e9es num\u00e9riques\n",
      "Parmi les donn\u00e9es manipulables, on va bien entendu pouvoir utiliser des nombres. Ceux-ci sont class\u00e9s en quatre types num\u00e9riques :   \n",
      "#### **i. _Entier_** : \n",
      "permet de repr\u00e9senter les entiers sur 32 bits (de -2147483648 \u00e0 2147483647)."
     ]
    },
    {
     "cell_type": "code",
     "collapsed": false,
     "input": [
      "type(2)"
     ],
     "language": "python",
     "metadata": {},
     "outputs": [
      {
       "metadata": {},
       "output_type": "pyout",
       "prompt_number": 2,
       "text": [
        "int"
       ]
      }
     ],
     "prompt_number": 2
    },
    {
     "cell_type": "code",
     "collapsed": false,
     "input": [
      "type(2147483647)"
     ],
     "language": "python",
     "metadata": {},
     "outputs": [
      {
       "metadata": {},
       "output_type": "pyout",
       "prompt_number": 3,
       "text": [
        "int"
       ]
      }
     ],
     "prompt_number": 3
    },
    {
     "cell_type": "markdown",
     "metadata": {},
     "source": [
      "Des pr\u00e9fixes particuliers permettent d'utiliser la notation octale (en base huit) ou hexad\u00e9cimale (en base seize). \n",
      "- Pour la notation octale, il faudra pr\u00e9fixer les entiers par **_0o_** (le chiffre z\u00e9ro suivi de la lettre << o >> en minuscule).   \n",
      "  Par exemple, 12 en notation octale vaut 8+2=10 :\n"
     ]
    },
    {
     "cell_type": "code",
     "collapsed": false,
     "input": [
      "0o12"
     ],
     "language": "python",
     "metadata": {},
     "outputs": [
      {
       "metadata": {},
       "output_type": "pyout",
       "prompt_number": 4,
       "text": [
        "10"
       ]
      }
     ],
     "prompt_number": 4
    },
    {
     "cell_type": "markdown",
     "metadata": {},
     "source": [
      "- Pour la notation hexad\u00e9cimale, le pr\u00e9fixe sera 0x (le chiffre z\u00e9ro suivi de la lettre \u00ab x \u00bb en minuscule).  \n",
      "Ainsi, 12 en notation hexad\u00e9cimale vaut 16+2=18 :"
     ]
    },
    {
     "cell_type": "code",
     "collapsed": false,
     "input": [
      "0x12"
     ],
     "language": "python",
     "metadata": {},
     "outputs": [
      {
       "metadata": {},
       "output_type": "pyout",
       "prompt_number": 2,
       "text": [
        "18"
       ]
      }
     ],
     "prompt_number": 2
    },
    {
     "cell_type": "markdown",
     "metadata": {},
     "source": [
      "On peut forcer un nombre ou texte en entier avec la fonction _int()_"
     ]
    },
    {
     "cell_type": "code",
     "collapsed": false,
     "input": [
      " type(int(\"16\"))"
     ],
     "language": "python",
     "metadata": {},
     "outputs": [
      {
       "metadata": {},
       "output_type": "pyout",
       "prompt_number": 3,
       "text": [
        "int"
       ]
      }
     ],
     "prompt_number": 3
    },
    {
     "cell_type": "markdown",
     "metadata": {},
     "source": [
      "#### ii. **_Flottant_** : \n",
      "pour les nombres flottants. Le symbole utilis\u00e9 pour d\u00e9terminer la partie d\u00e9cimale est le\n",
      "point. On peut \u00e9galement utiliser la lettre E ou e pour signaler un exposant en base 10 (101, 102,\n",
      "etc.).\n"
     ]
    },
    {
     "cell_type": "code",
     "collapsed": false,
     "input": [
      "type(3.14)"
     ],
     "language": "python",
     "metadata": {},
     "outputs": [
      {
       "metadata": {},
       "output_type": "pyout",
       "prompt_number": 9,
       "text": [
        "float"
       ]
      }
     ],
     "prompt_number": 9
    },
    {
     "cell_type": "code",
     "collapsed": false,
     "input": [
      "2e1"
     ],
     "language": "python",
     "metadata": {},
     "outputs": [
      {
       "metadata": {},
       "output_type": "pyout",
       "prompt_number": 7,
       "text": [
        "20.0"
       ]
      }
     ],
     "prompt_number": 7
    },
    {
     "cell_type": "code",
     "collapsed": false,
     "input": [
      "type(2e1)"
     ],
     "language": "python",
     "metadata": {},
     "outputs": [
      {
       "metadata": {},
       "output_type": "pyout",
       "prompt_number": 8,
       "text": [
        "float"
       ]
      }
     ],
     "prompt_number": 8
    },
    {
     "cell_type": "markdown",
     "metadata": {},
     "source": [
      "#### iii. **_Complexe_** :\n",
      "\n",
      "Pour les nombres complexes qui sont repr\u00e9sent\u00e9s par leur partie r\u00e9elle et leur partie imaginaire.  \n",
      "En Python, la partie imaginaire sera logiquement suivie de la lettre J ou j.  \n",
      "En informatique, on utilise souvent la variable i  comme variable de boucle (dont nous parlerons par la suite), Pour \u00e9viter toute confusion, la partie imaginaire des complexes se note donc j. Voici comment \u00e9crire le complexe 2 + 3i :"
     ]
    },
    {
     "cell_type": "code",
     "collapsed": false,
     "input": [
      "2+3j"
     ],
     "language": "python",
     "metadata": {},
     "outputs": [
      {
       "metadata": {},
       "output_type": "pyout",
       "prompt_number": 10,
       "text": [
        "(2+3j)"
       ]
      }
     ],
     "prompt_number": 10
    },
    {
     "cell_type": "code",
     "collapsed": false,
     "input": [
      "type(2+3j)"
     ],
     "language": "python",
     "metadata": {},
     "outputs": [
      {
       "metadata": {},
       "output_type": "pyout",
       "prompt_number": 11,
       "text": [
        "complex"
       ]
      }
     ],
     "prompt_number": 11
    },
    {
     "cell_type": "markdown",
     "metadata": {},
     "source": [
      "#### iv. Probl\u00e8me avec les flottants \n",
      "L'interpr\u00e9teur interactif peut \u00eatre utilis\u00e9 comme une calculette. Pour l'instant nous ne parlerons que des op\u00e9rations \u00e9l\u00e9mentaires **+,-,* ** et **/** auxquelles nous ajouterons le quotient de la division euclidienne not\u00e9 **//** (ou **_div_** ) et le reste de la division euclidienne not\u00e9 **%** (ou **_mod_** ). Voici quelques exemples de calculs : "
     ]
    },
    {
     "cell_type": "code",
     "collapsed": false,
     "input": [
      "7/3"
     ],
     "language": "python",
     "metadata": {},
     "outputs": [
      {
       "metadata": {},
       "output_type": "pyout",
       "prompt_number": 12,
       "text": [
        "2.3333333333333335"
       ]
      }
     ],
     "prompt_number": 12
    },
    {
     "cell_type": "code",
     "collapsed": false,
     "input": [
      "7.0/3"
     ],
     "language": "python",
     "metadata": {},
     "outputs": [
      {
       "metadata": {},
       "output_type": "pyout",
       "prompt_number": 13,
       "text": [
        "2.3333333333333335"
       ]
      }
     ],
     "prompt_number": 13
    },
    {
     "cell_type": "code",
     "collapsed": false,
     "input": [
      "7//3"
     ],
     "language": "python",
     "metadata": {},
     "outputs": [
      {
       "metadata": {},
       "output_type": "pyout",
       "prompt_number": 14,
       "text": [
        "2"
       ]
      }
     ],
     "prompt_number": 14
    },
    {
     "cell_type": "code",
     "collapsed": false,
     "input": [
      "7%3"
     ],
     "language": "python",
     "metadata": {},
     "outputs": [
      {
       "metadata": {},
       "output_type": "pyout",
       "prompt_number": 15,
       "text": [
        "1"
       ]
      }
     ],
     "prompt_number": 15
    },
    {
     "cell_type": "markdown",
     "metadata": {},
     "source": [
      "Les r\u00e9sultats paraissent ici logiques: 7/3 et 7.0/3.0 donnent le m\u00eame r\u00e9sultat sous la forme d'un flottant et 7//3 a pour r\u00e9sultat 2 qui est bien le quotient de la division euclidienne de 7 par 3.  \n",
      "Si vous utilisez les calculs en Python, l'usage de la division peut donc \u00eatre source d'erreur et il faudra donc bien se souvenir de la version de Python employ\u00e9e. Mais il y a pire ... et ce n'est pas l'apanage de Python.\n",
      "\n",
      "Le ph\u00e9nom\u00e8ne que je m'appr\u00eate \u00e0 souligner est vrai pour absolument tous les langages, mais il est bien souvent oubli\u00e9. Quel est le r\u00e9sultat d'une op\u00e9ration simple telle que 0.7 + 0.1 ? \n",
      "\n",
      "Vous pensez que le r\u00e9sultat est 0.8 ? Testons donc en Python :\n"
     ]
    },
    {
     "cell_type": "code",
     "collapsed": false,
     "input": [
      "0.7+0.1"
     ],
     "language": "python",
     "metadata": {},
     "outputs": [
      {
       "metadata": {},
       "output_type": "pyout",
       "prompt_number": 16,
       "text": [
        "0.7999999999999999"
       ]
      }
     ],
     "prompt_number": 16
    },
    {
     "cell_type": "markdown",
     "metadata": {},
     "source": [
      "On dirait qu'il y a un probl\u00e8me ... En fait cela provient de la repr\u00e9sentation des flottants en machine :  \n",
      "ils sont arrondis !\n",
      "En Python, la solution consistera a utiliser un module sp\u00e9cial, le module **_Decimal_**."
     ]
    },
    {
     "cell_type": "code",
     "collapsed": false,
     "input": [
      "from decimal import *"
     ],
     "language": "python",
     "metadata": {},
     "outputs": [],
     "prompt_number": 17
    },
    {
     "cell_type": "code",
     "collapsed": false,
     "input": [
      "Decimal('0.1')+Decimal('0.7')"
     ],
     "language": "python",
     "metadata": {},
     "outputs": [
      {
       "metadata": {},
       "output_type": "pyout",
       "prompt_number": 19,
       "text": [
        "Decimal('0.8')"
       ]
      }
     ],
     "prompt_number": 19
    },
    {
     "cell_type": "markdown",
     "metadata": {},
     "source": [
      "Si vous manipulez des flottants pour des calculs pr\u00e9cis, m\u00e9fiez vous !  \n",
      "En dehors des op\u00e9rateurs \u00e9l\u00e9mentaires, les \u00e9l\u00e9ments num\u00e9riques peuvent \u00eatre assign\u00e9s \u00e0 des variables \u00e0 l'aide du signe =(**_variable = valeur_** ) et il est possible d'effectuer une op\u00e9ration en utilisant l'ancienne valeur d'une variable \u00e0 l'aide de +=, -=, *= et /= (__variable += valeur__ \u00e9quivaut \u00e0 __variable = variable + valeur__ ).  \n",
      "Voici un petit exemple :"
     ]
    },
    {
     "cell_type": "code",
     "collapsed": false,
     "input": [
      "a=2"
     ],
     "language": "python",
     "metadata": {},
     "outputs": [],
     "prompt_number": 52
    },
    {
     "cell_type": "code",
     "collapsed": false,
     "input": [
      "a"
     ],
     "language": "python",
     "metadata": {},
     "outputs": [
      {
       "metadata": {},
       "output_type": "pyout",
       "prompt_number": 53,
       "text": [
        "2"
       ]
      }
     ],
     "prompt_number": 53
    },
    {
     "cell_type": "code",
     "collapsed": false,
     "input": [
      "a+=3"
     ],
     "language": "python",
     "metadata": {},
     "outputs": [],
     "prompt_number": 22
    },
    {
     "cell_type": "code",
     "collapsed": false,
     "input": [
      "a"
     ],
     "language": "python",
     "metadata": {},
     "outputs": [
      {
       "metadata": {},
       "output_type": "pyout",
       "prompt_number": 23,
       "text": [
        "5"
       ]
      }
     ],
     "prompt_number": 23
    },
    {
     "cell_type": "markdown",
     "metadata": {},
     "source": [
      "Les op\u00e9rateurs d'incr\u00e9mentation ou de d\u00e9cr\u00e9mentation ++ ou - n'existent pas en Python.  \n",
      "Par contre, vous avez la possibilit\u00e9 d'effectuer des affectations de variables multiples avec une m\u00eame\n",
      "valeur :\n"
     ]
    },
    {
     "cell_type": "code",
     "collapsed": false,
     "input": [
      "a=b=1"
     ],
     "language": "python",
     "metadata": {},
     "outputs": [],
     "prompt_number": 29
    },
    {
     "cell_type": "code",
     "collapsed": false,
     "input": [
      "a"
     ],
     "language": "python",
     "metadata": {},
     "outputs": [
      {
       "metadata": {},
       "output_type": "pyout",
       "prompt_number": 25,
       "text": [
        "1"
       ]
      }
     ],
     "prompt_number": 25
    },
    {
     "cell_type": "code",
     "collapsed": false,
     "input": [
      "b"
     ],
     "language": "python",
     "metadata": {},
     "outputs": [
      {
       "metadata": {},
       "output_type": "pyout",
       "prompt_number": 26,
       "text": [
        "1"
       ]
      }
     ],
     "prompt_number": 26
    },
    {
     "cell_type": "markdown",
     "metadata": {},
     "source": [
      "Et vous pouvez \u00e9galement effectuer des affectations multiples de variables ayant des valeurs diff\u00e9rentes en s\u00e9parant les noms de variables et les valeurs par des virgules :"
     ]
    },
    {
     "cell_type": "code",
     "collapsed": false,
     "input": [
      " a,b = 2,3"
     ],
     "language": "python",
     "metadata": {},
     "outputs": [],
     "prompt_number": 30
    },
    {
     "cell_type": "code",
     "collapsed": false,
     "input": [
      "a"
     ],
     "language": "python",
     "metadata": {},
     "outputs": [
      {
       "metadata": {},
       "output_type": "pyout",
       "prompt_number": 31,
       "text": [
        "2"
       ]
      }
     ],
     "prompt_number": 31
    },
    {
     "cell_type": "code",
     "collapsed": false,
     "input": [
      "b"
     ],
     "language": "python",
     "metadata": {},
     "outputs": [
      {
       "metadata": {},
       "output_type": "pyout",
       "prompt_number": 32,
       "text": [
        "3"
       ]
      }
     ],
     "prompt_number": 32
    },
    {
     "cell_type": "markdown",
     "metadata": {},
     "source": [
      "Ce m\u00e9canisme peut para\u00eetre anodin, mais il permet de r\u00e9aliser tr\u00e8s simplement une permutation de valeurs sans avoir recours a une variable interm\u00e9diaire :"
     ]
    },
    {
     "cell_type": "code",
     "collapsed": false,
     "input": [
      "a=2\n",
      "b=3\n",
      "a,b = b,a"
     ],
     "language": "python",
     "metadata": {},
     "outputs": [],
     "prompt_number": 50
    },
    {
     "cell_type": "code",
     "collapsed": false,
     "input": [
      "a"
     ],
     "language": "python",
     "metadata": {},
     "outputs": [
      {
       "metadata": {},
       "output_type": "pyout",
       "prompt_number": 43,
       "text": [
        "3"
       ]
      }
     ],
     "prompt_number": 43
    },
    {
     "cell_type": "code",
     "collapsed": false,
     "input": [
      "b"
     ],
     "language": "python",
     "metadata": {},
     "outputs": [
      {
       "metadata": {},
       "output_type": "pyout",
       "prompt_number": 44,
       "text": [
        "2"
       ]
      }
     ],
     "prompt_number": 44
    },
    {
     "cell_type": "markdown",
     "metadata": {},
     "source": [
      "Enfin, un op\u00e9rateur \\** pour \u00e9lever un nombre a une puissance quelconque."
     ]
    },
    {
     "cell_type": "code",
     "collapsed": false,
     "input": [
      "2**3"
     ],
     "language": "python",
     "metadata": {},
     "outputs": [
      {
       "metadata": {},
       "output_type": "pyout",
       "prompt_number": 45,
       "text": [
        "8"
       ]
      }
     ],
     "prompt_number": 45
    },
    {
     "cell_type": "markdown",
     "metadata": {},
     "source": [
      "Apr\u00e8s avoir vu les types num\u00e9riques, voyons maintenant comment stocker des cha\u00eenes de caract\u00e8res."
     ]
    },
    {
     "cell_type": "markdown",
     "metadata": {},
     "source": [
      "### b)     Les cha\u00eene caract\u00e8res\n",
      "Les cha\u00eenes de caract\u00e8res sont encadr\u00e9es par des apostrophes ou des guillemets. Le choix de l'un ou de l'autre n'a aucun impact au niveau des performances.  \n",
      "La concat\u00e9nation (assemblage de plusieurs cha\u00eenes pour n'en produire qu'une seule) se fait \u00e0 l'aide de l'op\u00e9rateur +. Enfin, l'op\u00e9rateur * permet de r\u00e9p\u00e9ter une cha\u00eene. Voyons cela sous forme d'exemples :"
     ]
    },
    {
     "cell_type": "code",
     "collapsed": false,
     "input": [
      "a=\"Hello \"\n",
      "b= \"World !\"\n",
      "a+b"
     ],
     "language": "python",
     "metadata": {},
     "outputs": [
      {
       "metadata": {},
       "output_type": "pyout",
       "prompt_number": 47,
       "text": [
        "'Hello World !'"
       ]
      }
     ],
     "prompt_number": 47
    },
    {
     "cell_type": "code",
     "collapsed": false,
     "input": [
      "3*a"
     ],
     "language": "python",
     "metadata": {},
     "outputs": [
      {
       "metadata": {},
       "output_type": "pyout",
       "prompt_number": 48,
       "text": [
        "'Hello Hello Hello '"
       ]
      }
     ],
     "prompt_number": 48
    },
    {
     "cell_type": "markdown",
     "metadata": {},
     "source": [
      "L'acc\u00e8s \u00e0 un caract\u00e8re particulier de la cha\u00eene se fait en indiquant sa position entre crochets (le premier caract\u00e8re est \u00e0 la position 0) :"
     ]
    },
    {
     "cell_type": "code",
     "collapsed": false,
     "input": [
      "a[0]"
     ],
     "language": "python",
     "metadata": {},
     "outputs": [
      {
       "metadata": {},
       "output_type": "pyout",
       "prompt_number": 49,
       "text": [
        "'H'"
       ]
      }
     ],
     "prompt_number": 49
    },
    {
     "cell_type": "markdown",
     "metadata": {},
     "source": [
      "En Python, on peut faire beaucoup de choses avec les cha\u00eenes de caract\u00e8res ... nous verrons cela plus en d\u00e9tail dans l'article consacr\u00e9 aux cha\u00eenes et aux listes.  \n",
      "\n",
      "### c) Les bol\u00e9ens\n",
      "Les valeurs bool\u00e9ennes sont not\u00e9es **_True_** et **_False_** (attention \u00e0 la majuscule). \n",
      "\n",
      "Dans le cadre d'un test, les valeurs **_0_**, **_\"\"_** (la cha\u00eene vide) et **_None_** sont consid\u00e9r\u00e9es comme \u00e9tant \u00e9gales \u00e0 **_False_**. Ces valeurs sont retourn\u00e9es comme r\u00e9sultats des tests r\u00e9alis\u00e9s \u00e0 l'aide des op\u00e9rateurs de comparaison :  \n",
      "== pour l'\u00e9galit\u00e9, != pour la diff\u00e9rence, puis <, >, <= , et >=.  \n",
      "Exemple :"
     ]
    },
    {
     "cell_type": "code",
     "collapsed": false,
     "input": [
      "2==3"
     ],
     "language": "python",
     "metadata": {},
     "outputs": [
      {
       "metadata": {},
       "output_type": "pyout",
       "prompt_number": 54,
       "text": [
        "False"
       ]
      }
     ],
     "prompt_number": 54
    },
    {
     "cell_type": "code",
     "collapsed": false,
     "input": [
      "2<=3"
     ],
     "language": "python",
     "metadata": {},
     "outputs": [
      {
       "metadata": {},
       "output_type": "pyout",
       "prompt_number": 55,
       "text": [
        "True"
       ]
      }
     ],
     "prompt_number": 55
    },
    {
     "cell_type": "markdown",
     "metadata": {},
     "source": [
      "Pour combiner les tests, on utilise les op\u00e9rateurs bool\u00e9ens : **_and_** (et), **_or_** (ou) et **_not_** (non).  \n",
      "Voici des exemples de combinaisons de tests :"
     ]
    },
    {
     "cell_type": "code",
     "collapsed": false,
     "input": [
      "0 and True"
     ],
     "language": "python",
     "metadata": {},
     "outputs": [
      {
       "metadata": {},
       "output_type": "pyout",
       "prompt_number": 56,
       "text": [
        "0"
       ]
      }
     ],
     "prompt_number": 56
    },
    {
     "cell_type": "code",
     "collapsed": false,
     "input": [
      "1 and True"
     ],
     "language": "python",
     "metadata": {},
     "outputs": [
      {
       "metadata": {},
       "output_type": "pyout",
       "prompt_number": 57,
       "text": [
        "True"
       ]
      }
     ],
     "prompt_number": 57
    },
    {
     "cell_type": "code",
     "collapsed": false,
     "input": [
      "not(0 or True)"
     ],
     "language": "python",
     "metadata": {},
     "outputs": [
      {
       "metadata": {},
       "output_type": "pyout",
       "prompt_number": 58,
       "text": [
        "False"
       ]
      }
     ],
     "prompt_number": 58
    },
    {
     "cell_type": "markdown",
     "metadata": {},
     "source": [
      "### d) Les listes, les tuples et les dictionnaires\n",
      "\n",
      "Nous allons maintenant voir trois types particuliers pr\u00e9sentant de fortes similitudes : les listes, les tuples et les dictionnaires. Ces types \u00e9tant un peu complexes, il ne s'agit ici que d'un premier aper\u00e7u, nous les \u00e9tudierons plus en d\u00e9tail dans l'article leur \u00e9tant consacr\u00e9.  \n",
      "#### i. Les listes \n",
      "Une liste est un ensemble d'\u00e9l\u00e9ments \u00e9ventuellement de diff\u00e9rents types. Une liste se d\u00e9finit \u00e0 laide des crochets et une liste vide est symbolis\u00e9e par [].  \n",
      "L'acc\u00e8s \u00e0 un \u00e9l\u00e9ment de la liste se fait en donnant son index, de la m\u00eame mani\u00e8re qu'avec les cha\u00eenes de caract\u00e8res :"
     ]
    },
    {
     "cell_type": "code",
     "collapsed": false,
     "input": [
      "maliste=[3.14, \"cours isn\", 1+1j, 5]\n",
      "maliste[1]"
     ],
     "language": "python",
     "metadata": {},
     "outputs": [
      {
       "metadata": {},
       "output_type": "pyout",
       "prompt_number": 1,
       "text": [
        "'cours isn'"
       ]
      }
     ],
     "prompt_number": 1
    },
    {
     "cell_type": "markdown",
     "metadata": {},
     "source": [
      "#### ii.Les tuples \n",
      "Les tuples sont des listes particuli\u00e8res dont nous verrons l'int\u00e9r\u00eat plus tard. Ils sont d\u00e9finis par des parenth\u00e8ses et leurs \u00e9l\u00e9ments sont accessibles de la m\u00eame mani\u00e8re que pour les listes.  \n",
      "Notez que pour lever toute ambigu\u00eft\u00e9, un tuple ne contenant qu'un seul \u00e9l\u00e9ment sera not\u00e9 (\u00e9l\u00e9ment,). Si vous omettez la virgule, Python pensera qu'il s'agit d'un parenth\u00e8sage superflu et vous n'aurez donc pas cr\u00e9\u00e9 un tuple.  "
     ]
    },
    {
     "cell_type": "code",
     "collapsed": false,
     "input": [
      "type((2))"
     ],
     "language": "python",
     "metadata": {},
     "outputs": [
      {
       "metadata": {},
       "output_type": "pyout",
       "prompt_number": 3,
       "text": [
        "int"
       ]
      }
     ],
     "prompt_number": 3
    },
    {
     "cell_type": "code",
     "collapsed": false,
     "input": [
      "type((2,))"
     ],
     "language": "python",
     "metadata": {},
     "outputs": [
      {
       "metadata": {},
       "output_type": "pyout",
       "prompt_number": 4,
       "text": [
        "tuple"
       ]
      }
     ],
     "prompt_number": 4
    },
    {
     "cell_type": "markdown",
     "metadata": {},
     "source": [
      "L'exemple des listes peut tout a fait \u00eatre rapport\u00e9 aux tuples :"
     ]
    },
    {
     "cell_type": "code",
     "collapsed": false,
     "input": [
      "montuple=(3.14, \"cours isn\", 1+1j, 5)\n",
      "montuple[1]"
     ],
     "language": "python",
     "metadata": {},
     "outputs": [
      {
       "metadata": {},
       "output_type": "pyout",
       "prompt_number": 2,
       "text": [
        "'cours isn'"
       ]
      }
     ],
     "prompt_number": 2
    },
    {
     "cell_type": "markdown",
     "metadata": {},
     "source": [
      "#### Les dictionnaires \n",
      "Pour en finir avec notre aper\u00e7u des types complexes, voici les dictionnaires.  \n",
      "Un dictionnaire est une liste o\u00f9 l'acc\u00e8s aux \u00e9l\u00e9ments se fait \u00e0 l'aide d'une cl\u00e9 alphanum\u00e9rique ou purement num\u00e9rique. Il s'agit d'une association cl\u00e9/valeur sous la forme **_cl\u00e9:valeur_**.  \n",
      "Les dictionnaires sont d\u00e9finis a l'aide des **accolades**. Dans d'autres langages les dictionnaires sont aussi appel\u00e9s tableaux associatifs ou tables de hachage. Voici un exemple d'utilisation d'un dictionnaire :"
     ]
    },
    {
     "cell_type": "code",
     "collapsed": false,
     "input": [
      " t ={ 'nom' : 'toto' , 'prenom' : 'titi' }\n",
      " t['nom']"
     ],
     "language": "python",
     "metadata": {},
     "outputs": [
      {
       "metadata": {},
       "output_type": "pyout",
       "prompt_number": 8,
       "text": [
        "'toto'"
       ]
      }
     ],
     "prompt_number": 8
    },
    {
     "cell_type": "markdown",
     "metadata": {},
     "source": [
      "## 1.3 Le syntaxe g\u00e9n\u00e9rale\n",
      "\n",
      "Python oblige donc le d\u00e9veloppeur \u00e0 structurer son code a l'aide des indentations : ce sont elles qui d\u00e9termineront les blocs (s\u00e9quences d'instructions li\u00e9es) et non les accolades comme dans la majorit\u00e9 des langages. Les blocs de code sont d\u00e9termin\u00e9s par :\n",
      "- la pr\u00e9sence du caract\u00e8re : en fin de ligne ;  \n",
      "- une indentation des lignes suivantes \u00e0 l'aide de tabulations ou d'espaces (attention a ne pas m\u00e9langer les deux, Python n'aime pas \u00e7a du tout : votre code ne fonctionnera pas et vous n'obtiendrez pas de message d'erreur explicite).  \n",
      "\n",
      "Enfin, il n'y a pas de point-virgule en fin de ligne. M\u00eame si ce caract\u00e8re peut-\u00eatre utilis\u00e9 pour s\u00e9parer des instructions sur une m\u00eame ligne, son usage est d\u00e9conseill\u00e9, Le caract\u00e8re **\\#** permet d'indiquer que tous les caract\u00e8res suivants sur la m\u00eame ligne ne doivent pas \u00eatre interpr\u00e9t\u00e9s. il s'agit de commentaires\n"
     ]
    },
    {
     "cell_type": "code",
     "collapsed": false,
     "input": [
      " a = 12 # Affectation d un entier"
     ],
     "language": "python",
     "metadata": {},
     "outputs": [],
     "prompt_number": 17
    },
    {
     "cell_type": "markdown",
     "metadata": {},
     "source": [
      "Pour pouvoir cr\u00e9er r\u00e9ellement un script, il nous faut des structures permettant d'effectuer des tests et des traitements r\u00e9p\u00e9titifs. C'est ce que nous allons voir dans la suite.\n",
      "\n",
      "##1.4 Les structures de boucle et de test\n",
      "\n",
      "### a) Les structures de test\n",
      "\n",
      "Il n'existe en fait qu'une seule structure de test en Python : le test _<< si alors >>_ utilisant les instructions if et else.  \n",
      "Au niveau de la construction du test, il faudra v\u00e9rifier une condition et si cette derni\u00e8re est vraie ex\u00e9cuter un bloc (et donc penser aux deux-points en fin de ligne et a l'indentation).  \n",
      "La structure d'un test est donc :  \n",
      "**if** condition:   \n",
      ">  \\# Traitement bloc 1\n",
      "\n",
      "**else:**  \n",
      ">  \\# Traitement bloc 2  \n",
      "\n",
      "Pour les tests multiples, il faudra encha\u00eener les **_if_** en cascade gr\u00e2ce \u00e0 l'instruction **_elif_**, contraction\n",
      "de else if :\n",
      "\n",
      "\n",
      "**if** condition:  \n",
      ">  \\# Traitement bloc 1\n",
      "\n",
      "**elif:**  \n",
      ">  \\# Traitement bloc 2\n",
      "\n",
      "**else:**\n",
      "\n",
      ">  \\# Traitement bloc 3\n",
      "\n",
      "Voici un exemple"
     ]
    },
    {
     "cell_type": "code",
     "collapsed": false,
     "input": [
      "a=3\n",
      "if a>1:\n",
      "    print('a>1')\n",
      "else:\n",
      "    print('a<=2')"
     ],
     "language": "python",
     "metadata": {},
     "outputs": [
      {
       "output_type": "stream",
       "stream": "stdout",
       "text": [
        "a>1\n"
       ]
      }
     ],
     "prompt_number": 13
    },
    {
     "cell_type": "markdown",
     "metadata": {},
     "source": [
      "Notez qu'en mode interactif, Python affiche des points de suspension pour indiquer que votre commande est incompl\u00e8te car un bloc a \u00e9t\u00e9 ouvert mais pas ferm\u00e9. ll faut appuyer sur **< Entr\u00e9e \\>** dans la derni\u00e8re ligne pour fermer le bloc.\n",
      "\n",
      "### b) Les structures de boucle\n",
      "\n",
      "Pour les boucles il existe deux structures. La premi\u00e8re est le **_for_** qui prend ses valeurs dans une liste :\n",
      "\n",
      "**_for variable in liste_valeurs_**. \u00c0 chaque it\u00e9ration la variable prendra pour valeur un \u00e9l\u00e9ment de la liste."
     ]
    },
    {
     "cell_type": "code",
     "collapsed": false,
     "input": [
      "for e in [ 'pomme' , 'poire' , 'kiwi' ]:\n",
      "    print(e)"
     ],
     "language": "python",
     "metadata": {},
     "outputs": [
      {
       "output_type": "stream",
       "stream": "stdout",
       "text": [
        "pomme\n",
        "poire\n",
        "kiwi\n"
       ]
      }
     ],
     "prompt_number": 16
    },
    {
     "cell_type": "markdown",
     "metadata": {},
     "source": [
      "Pour cr\u00e9er une boucle \u00e9quivalente aux boucles traditionnelles _<< pour i variant de n \u00e0 m, faire ... >>_, nous utiliserons la fonction **_range_**.   \n",
      "En utilisant cette fonction, on peut donc mimer le comportement d'une boucle for traditionnelle avec une variable qui prendra ses valeurs entre deux entiers donn\u00e9s :"
     ]
    },
    {
     "cell_type": "code",
     "collapsed": false,
     "input": [
      "for i in range(0,4):\n",
      "    print(i)"
     ],
     "language": "python",
     "metadata": {},
     "outputs": [
      {
       "output_type": "stream",
       "stream": "stdout",
       "text": [
        "0\n",
        "1\n",
        "2\n",
        "3\n"
       ]
      }
     ],
     "prompt_number": 18
    },
    {
     "cell_type": "markdown",
     "metadata": {},
     "source": [
      "Le mot-cl\u00e9 **_continue_** permet de passer \u00e0 l'it\u00e9ration suivante et le mot-cl\u00e9 **_break_** permet de sortir de la boucle :"
     ]
    },
    {
     "cell_type": "code",
     "collapsed": false,
     "input": [
      "for i in range(0,10):\n",
      "    if i==2:\n",
      "        continue\n",
      "    if i==4:\n",
      "        break\n",
      "    print(i)"
     ],
     "language": "python",
     "metadata": {},
     "outputs": [
      {
       "output_type": "stream",
       "stream": "stdout",
       "text": [
        "0\n",
        "1\n",
        "3\n"
       ]
      }
     ],
     "prompt_number": 19
    },
    {
     "cell_type": "markdown",
     "metadata": {},
     "source": [
      "La seconde structure de boucle est le _<< tant que >>_ : tant qu'une condition est vraie, on boucle.  \n",
      "Attention : dans ce type de boucle on utilise une variable de boucle dont la valeur doit changer pour pouvoir sortir de la boucle :"
     ]
    },
    {
     "cell_type": "code",
     "collapsed": false,
     "input": [
      "i=0\n",
      "while i<4:\n",
      "    print(i)\n",
      "    i+=1 #\u00e9quivalent \u00e0 i=i+1"
     ],
     "language": "python",
     "metadata": {},
     "outputs": [
      {
       "output_type": "stream",
       "stream": "stdout",
       "text": [
        "0\n",
        "1\n",
        "2\n",
        "3\n"
       ]
      }
     ],
     "prompt_number": 23
    },
    {
     "cell_type": "markdown",
     "metadata": {},
     "source": [
      "La boucle **_while_** accepte elle aussi les mots-cl\u00e9s **_continue_** et **_break_**.\n",
      "\n",
      "## 1.5 La structure d'un programme\n",
      "\n",
      "Avec L'ensemble des instructions que nous avons vu, vous pouvez \u00e9crire des programmes plus longs que les quelques lignes test\u00e9es dans l'interpr\u00e9teur interactif. Vous allez donc avoir besoin de stocker vos scripts dans des fichiers d'extension **.py**.  \n",
      "\n",
      "Pour ex\u00e9cuter ces fichiers de code vous aurez alors deux possibilit\u00e9s :\n",
      " - soit lancer simplement dans un terminal :  \n",
      "   python monFichier.py\n",
      " - soit ajouter \u00e0 votre code source une ligne indiquant o\u00f9 se trouve l'interpr\u00e9teur Python \u00e0 utiliser :  "
     ]
    },
    {
     "cell_type": "code",
     "collapsed": false,
     "input": [
      "#!/usr/bin/python"
     ],
     "language": "python",
     "metadata": {},
     "outputs": [],
     "prompt_number": 25
    },
    {
     "cell_type": "markdown",
     "metadata": {},
     "source": [
      "Cette ligne doit \u00eatre la premi\u00e8re ligne de votre fichier. Ensuite vous n'avez plus qu'a rendre votre fichier ex\u00e9cutable (chmod u+x monFichier.py ) et vous pourrez lancer votre script par :  ./monFichier.py\n"
     ]
    }
   ],
   "metadata": {}
  }
 ]
}