{
 "cells": [
  {
   "cell_type": "code",
   "execution_count": 1,
   "metadata": {},
   "outputs": [
    {
     "data": {
      "application/javascript": [
       "IPython.Cell.options_default.cm_config.lineNumbers = true;"
      ],
      "text/plain": [
       "<IPython.core.display.Javascript object>"
      ]
     },
     "metadata": {},
     "output_type": "display_data"
    }
   ],
   "source": [
    "%%javascript\n",
    "IPython.Cell.options_default.cm_config.lineNumbers = true;"
   ]
  },
  {
   "cell_type": "code",
   "execution_count": 1,
   "metadata": {},
   "outputs": [
    {
     "data": {
      "text/html": [
       "<style>\n",
       "/* Pour le titre comme cela il n'y a pas de numérotation au */\n",
       "#titre{\n",
       "font-size: 24pt; \n",
       "color:#ff0000;\n",
       "text-decoration: underline;\n",
       "text-align: center;\n",
       "font-weight: bold;\n",
       "}\n",
       "\n",
       "div.text_cell_render { font-size: 12pt;   line-height: 145%; }\n",
       "div.text_cell_render h1{font-size: 24pt; color:#0000ff;  text-decoration: underline;}\n",
       "div.text_cell_render h2{font-size: 18pt;color:#0000ff;  text-decoration: underline;}\n",
       "div.text_cell_render h3{font-size: 14pt;color:#0000ff;  text-decoration: underline;}\n",
       "div.text_cell_render h4{font-size: 12pt;color:#0000ff;  text-decoration: underline; }\n",
       "div.text_cell_render h5 {font-weight: 300;}\n",
       "\n",
       "\n",
       "div.cell.code_cell { /* area that contains code + output */\n",
       "    background: #ffffff;\n",
       "    border: none;\n",
       "    border-radius: 10px;\n",
       "    padding-top: 1ex;\n",
       "}\n",
       "\n",
       "div.input_area { /* box around box with code */\n",
       "    border: none;\n",
       "    background: #f5f5f5;\n",
       "    border: 1px solid #ccc;\n",
       "    border-radius: 10px;\n",
       "    padding-top: 0.5ex;\n",
       "    padding-bottom: 0.5ex;\n",
       "    padding-left: 0.5em;\n",
       "}\n",
       "\n",
       "div.input { /* box with code */\n",
       "}\n",
       "\n",
       "div.CodeMirror { /* code font */\n",
       "    font-family: \"Inconsolata-dz\", monospace;\n",
       "    font-size: 10pt;\n",
       "}\n",
       "\n",
       "\n",
       "\n",
       "\n",
       "\n",
       "/*div.text_cell_render  code { font-size: medium; border: 3px #ababab solid; background-color: #f5f5f5;}*/\n",
       "/*.rendered_html code { border: 3px #ababab solid; background-color:  #f5f5f5;}*/\n",
       ".rendered_html blockquote { margin: 1em 2em; background: red; }\n",
       ".rendered_html ol { list-style:decimal; margin: 1em 2em; }\n",
       "\n",
       "\n",
       "/* classe pour inverse video */\n",
       ".reverse{\n",
       "    background-color: black;\n",
       "    color: white;\n",
       "}\n",
       "/*  strick   <s>texte/<s>*/\n",
       ".barre{\n",
       "\n",
       "}\n",
       "\n",
       "\n",
       "</style>"
      ],
      "text/plain": [
       "<IPython.core.display.HTML object>"
      ]
     },
     "execution_count": 1,
     "metadata": {},
     "output_type": "execute_result"
    }
   ],
   "source": [
    "# Charge ma feuille de style pour nbviewer\n",
    "from IPython.core.display import HTML\n",
    "from  urllib.request import urlopen\n",
    "# import urllib.request, urllib.parse, urllib.error\n",
    "\n",
    "url='https://github.com/debimax/cours-debimax/raw/master/static/custom.css'\n",
    "with urlopen(url) as response:\n",
    "    styles = response.read().decode(\"utf8\")\n",
    "styles=\"<style>\\n{}\\n</style>\".format(styles)\n",
    "HTML(styles)"
   ]
  },
  {
   "cell_type": "markdown",
   "metadata": {},
   "source": [
    "# Turtle\n",
    "\n",
    "## Introduction\n",
    "\n",
    "Un des gros avantages de ce module est la rapidité avec laquelle on peut implémenter un petit algorithme.\n",
    "\n",
    "Il suffit en début de programme d’importer le module Turtle et en fin de programme de sortir par un clic dans la fenêtre graphique. Il est important de ne pas oublier cette étape pour que la fenêtre graphique se ferme facilement, au moment voulu.\n",
    "\n",
    "## Le squelette\n",
    "\n",
    "```python\n",
    "\"\"\"\n",
    "Descrition du programme\n",
    "\"\"\"\n",
    "\n",
    "import turtle\n",
    "from turtle import *  # importation du module turtle\n",
    "\n",
    "instructions\n",
    "instructions\n",
    "instructions\n",
    "\n",
    "exitonclick()\n",
    "```\n",
    "\n",
    "## Quelques instructions\n",
    "\n",
    "Les instructions de dessin élémentaires sont:\n",
    "\n",
    "Il faut au début importer le module ***turtle*** avec   \n",
    "\n",
    "```python\n",
    "from  turtle import *\n",
    "```\n",
    "\n",
    "Les principales fonctions du module turtle sont :\n",
    "\n",
    "commande | $~$ \n",
    "----:    | :----- \n",
    "$\\bullet$ ***reset()*** | On efface tout et on recommence  \n",
    "$\\bullet$ ***goto(x,y)*** | Aller à l’endroit de coordonnées x et y  \n",
    "$\\bullet$ ***forward(distance)*** | Avancer d’une distance donnée\n",
    "$\\bullet$ ***backward(distance)*** | Reculer  \n",
    "$\\bullet$ ***up()***  |  Relever le crayon (pour pouvoir avancer sans dessiner)  \n",
    "$\\bullet$ ***down()***  | Abaisser le crayon (pour pouvoir recommencer à dessiner)  \n",
    "$\\bullet$ ***color(couleur)*** |  Couleur peut être une chaîne prédéfinie (’red’, ’blue’, ’green’, etc.)  \n",
    "$\\bullet$ ***left(angle)***  | Tourner à gauche d’un angle donné (exprimé en degré)  \n",
    "$\\bullet$ ***right(angle)***  | Tourner à droite  \n",
    "$\\bullet$ ***width(épaisseur)***  | Choisir l’épaisseur du tracé  \n",
    "$\\bullet$ ***fill(1)***  | Remplir un contour fermé à l’aide de la couleur sélectionnée (on termine la construction par fill(0))  \n",
    "$\\bullet$ ***write(texte)***  |  texte doit être une chaîne de caractères délimitée avec des \" ou des ’\n"
   ]
  },
  {
   "cell_type": "code",
   "execution_count": 4,
   "metadata": {},
   "outputs": [],
   "source": [
    "from  turtle  import *  #On importe le module\n",
    "def triangle(n):        #On définit une fonction triangle\n",
    "    down()              #stylo en position écriture\n",
    "    for i in range(3):  #Pour i allant de 0 à 3 faire\n",
    "        forward(n)      #On avance de n\n",
    "        left(120)       #On tourne à gauche de 120°\n",
    "    up()                #On releve le stylo\n",
    "\n",
    "def draw():\n",
    "    reset()             #On efface tout\n",
    "    color('blue')       #On met la couleur bleue\n",
    "    up()                #stylo en position écriture\n",
    "    goto(-200,-100)     #On va au point de coordonnées (-200,-100)\n",
    "    down()              #stylo en position écriture\n",
    "    cote=100            #cote prend la valeur 100\n",
    "    for i in range (5): #Pour i allant de 0 à 4 faire\n",
    "        triangle(cote)\n",
    "        forward(cote)   #On avance de cote\n",
    "        cote=cote-20    #cote prend la valeur cote-20\n",
    "\n",
    "write(\"Appuyez sur la touche entrer\")\n",
    "onkey(draw, \"Return\")   # Si on appuie sur la touche  Entrer on exécute la fonction draw\n",
    "onkey(bye, \"Escape\" )   # bye() est une fonction interne de turtle.\n",
    "listen()                #On écoute pour savoir s'il y a des évènements.\n",
    "mainloop()              # Le programme fonctionne en boucle"
   ]
  },
  {
   "cell_type": "code",
   "execution_count": null,
   "metadata": {},
   "outputs": [],
   "source": []
  }
 ],
 "metadata": {
  "kernelspec": {
   "display_name": "Python 3",
   "language": "python",
   "name": "python3"
  },
  "language_info": {
   "codemirror_mode": {
    "name": "ipython",
    "version": 3
   },
   "file_extension": ".py",
   "mimetype": "text/x-python",
   "name": "python",
   "nbconvert_exporter": "python",
   "pygments_lexer": "ipython3",
   "version": "3.7.3rc1"
  },
  "latex_envs": {
   "LaTeX_envs_menu_present": true,
   "autocomplete": true,
   "bibliofile": "biblio.bib",
   "cite_by": "apalike",
   "current_citInitial": 1,
   "eqLabelWithNumbers": true,
   "eqNumInitial": 1,
   "hotkeys": {
    "equation": "Ctrl-E",
    "itemize": "Ctrl-I"
   },
   "labels_anchors": false,
   "latex_user_defs": false,
   "report_style_numbering": false,
   "user_envs_cfg": false
  },
  "toc": {
   "colors": {
    "hover_highlight": "#DAA520",
    "navigate_num": "#000000",
    "navigate_text": "#333333",
    "running_highlight": "#FF0000",
    "selected_highlight": "#FFD700",
    "sidebar_border": "#EEEEEE",
    "wrapper_background": "#FFFFFF"
   },
   "moveMenuLeft": true,
   "nav_menu": {
    "height": "512px",
    "width": "252px"
   },
   "navigate_menu": true,
   "number_sections": true,
   "sideBar": false,
   "threshold": 4,
   "toc_cell": false,
   "toc_position": {
    "height": "350px",
    "left": "1px",
    "right": "1475px",
    "top": "107px",
    "width": "302px"
   },
   "toc_section_display": "block",
   "toc_window_display": false,
   "widenNotebook": false
  }
 },
 "nbformat": 4,
 "nbformat_minor": 1
}
