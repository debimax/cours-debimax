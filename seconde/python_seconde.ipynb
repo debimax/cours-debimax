{
 "cells": [
  {
   "cell_type": "code",
   "execution_count": 1,
   "metadata": {},
   "outputs": [
    {
     "data": {
      "application/javascript": [
       "IPython.Cell.options_default.cm_config.lineNumbers = true;"
      ],
      "text/plain": [
       "<IPython.core.display.Javascript object>"
      ]
     },
     "metadata": {},
     "output_type": "display_data"
    }
   ],
   "source": [
    "%%javascript\n",
    "IPython.Cell.options_default.cm_config.lineNumbers = true;"
   ]
  },
  {
   "cell_type": "code",
   "execution_count": 2,
   "metadata": {},
   "outputs": [
    {
     "data": {
      "text/html": [
       "<style>\n",
       "/* Pour le titre comme cela il n'y a pas de numérotation au */\n",
       "#titre{\n",
       "font-size: 24pt; \n",
       "color:#ff0000;\n",
       "text-decoration: underline;\n",
       "text-align: center;\n",
       "font-weight: bold;\n",
       "}\n",
       "\n",
       "div.text_cell_render { font-size: 12pt;   line-height: 145%; }\n",
       "div.text_cell_render h1{font-size: 24pt; color:#0000ff;  text-decoration: underline;}\n",
       "div.text_cell_render h2{font-size: 18pt;color:#0000ff;  text-decoration: underline;}\n",
       "div.text_cell_render h3{font-size: 14pt;color:#0000ff;  text-decoration: underline;}\n",
       "div.text_cell_render h4{font-size: 12pt;color:#0000ff;  text-decoration: underline; }\n",
       "div.text_cell_render h5 {font-weight: 300;}\n",
       "\n",
       "\n",
       "div.cell.code_cell { /* area that contains code + output */\n",
       "    background: #ffffff;\n",
       "    border: none;\n",
       "    border-radius: 10px;\n",
       "    padding-top: 1ex;\n",
       "}\n",
       "\n",
       "div.input_area { /* box around box with code */\n",
       "    border: none;\n",
       "    background: #f5f5f5;\n",
       "    border: 1px solid #ccc;\n",
       "    border-radius: 10px;\n",
       "    padding-top: 0.5ex;\n",
       "    padding-bottom: 0.5ex;\n",
       "    padding-left: 0.5em;\n",
       "}\n",
       "\n",
       "div.input { /* box with code */\n",
       "}\n",
       "\n",
       "div.CodeMirror { /* code font */\n",
       "    font-family: \"Inconsolata-dz\", monospace;\n",
       "    font-size: 10pt;\n",
       "}\n",
       "\n",
       "\n",
       "\n",
       "\n",
       "\n",
       "/*div.text_cell_render  code { font-size: medium; border: 3px #ababab solid; background-color: #f5f5f5;}*/\n",
       "/*.rendered_html code { border: 3px #ababab solid; background-color:  #f5f5f5;}*/\n",
       ".rendered_html blockquote { margin: 1em 2em; background: red; }\n",
       ".rendered_html ol { list-style:decimal; margin: 1em 2em; }\n",
       "\n",
       "\n",
       "/* classe pour inverse video */\n",
       ".reverse{\n",
       "    background-color: black;\n",
       "    color: white;\n",
       "}\n",
       "/*  strick   <s>texte/<s>*/\n",
       ".barre{\n",
       "\n",
       "}\n",
       "\n",
       "\n",
       "</style>"
      ],
      "text/plain": [
       "<IPython.core.display.HTML object>"
      ]
     },
     "execution_count": 2,
     "metadata": {},
     "output_type": "execute_result"
    }
   ],
   "source": [
    "# Charge ma feuille de style pour nbviewer\n",
    "from IPython.core.display import HTML\n",
    "from  urllib.request import urlopen\n",
    "# import urllib.request, urllib.parse, urllib.error\n",
    "\n",
    "url='https://github.com/debimax/cours-debimax/raw/master/static/custom.css'\n",
    "with urlopen(url) as response:\n",
    "    styles = response.read().decode(\"utf8\")\n",
    "styles=\"<style>\\n{}\\n</style>\".format(styles)\n",
    "HTML(styles)"
   ]
  },
  {
   "cell_type": "markdown",
   "metadata": {},
   "source": [
    "# Les bases de python\n",
    "\n",
    "Ref: [http://www.france-ioi.org](http://www.france-ioi.org/algo/chapters.php?progression=1)\n",
    "\n",
    "Partons d'un exercice fait en classe.\n",
    "\n",
    "\n",
    "**Exercice 1**:  (Récoltes)\n",
    "Votre programme doit lire un entier, qui représente la longueur du côté d'un champ carré. Il doit ensuite afficher la masse que l'on pourra récolter de ce champ si l'on suppose que la production sera de 23 kg par mètre carré.\n",
    "\n",
    "| Variables: | c, m  |\n",
    "| :--: | :--: |  \n",
    "| Entrée: | 10  |\n",
    "| Sortie:  |  2300  |\n",
    "\n",
    "L'algorithme que nous avons fait en classe était:\n",
    "\n",
    "```python\n",
    "saisir la longueur du coté c\n",
    "m <- 23*c^2\n",
    "afficher  m\n",
    "```\n"
   ]
  },
  {
   "cell_type": "markdown",
   "metadata": {},
   "source": [
    "## Saisir (Entrer des données)\n",
    "\n",
    "Il est parfois nécessaire d'entrer des données. On utilise pour cela la fonction ***input()***\n",
    "Cela correspond à saisir en algorithmique."
   ]
  },
  {
   "cell_type": "code",
   "execution_count": null,
   "metadata": {},
   "outputs": [],
   "source": [
    "a=input(\"Saisir un nombre a: \")   # On saisit a\n",
    "print(a)                          # On affiche a\n",
    "type(a)                           # On affiche le type de a"
   ]
  },
  {
   "cell_type": "markdown",
   "metadata": {},
   "source": [
    "Il existe plusieurs type. ***str***  signifie ***string***.  C'est une ***chaine de caractère***.  \n",
    "Il existe aussi les type ***int***  pour ***integer*** (ou ***entier***)  et  ***float***  pour ***floatant*** (C'est un nombre décimal).\n",
    "\n",
    "Pour obtenir un entier on utilisera:"
   ]
  },
  {
   "cell_type": "code",
   "execution_count": null,
   "metadata": {},
   "outputs": [],
   "source": [
    "b=int(input(\"Saisir un entier b: \"))\n",
    "print(b)\n",
    "type(b)"
   ]
  },
  {
   "cell_type": "markdown",
   "metadata": {},
   "source": [
    "Et pour un flotant:"
   ]
  },
  {
   "cell_type": "code",
   "execution_count": null,
   "metadata": {},
   "outputs": [],
   "source": [
    "c=float(input(\"Saisir un réel c: \"))\n",
    "print(c)\n",
    "type(c)"
   ]
  },
  {
   "cell_type": "markdown",
   "metadata": {},
   "source": [
    "Vous devez retenir que la fonction ***input()*** créer un texte (***string***) et si on veut des nombre il faut les convertir.\n",
    "\n",
    "- ***int()*** pour convertir le texte '4'  en nombre entier 4.\n",
    "- ***float()*** pour convertir le texte '3.14'  en nombre décimal  3.14"
   ]
  },
  {
   "cell_type": "markdown",
   "metadata": {},
   "source": [
    "##  Variables\n",
    "\n",
    "Les variables ont un ***type***. Nous avons déjà vu le type \n",
    "- ***integer***(entier)\n",
    "- ***float***(nombre décimal)\n",
    "- ***string***(chaîne de caractères)\n",
    "Il en existe d'autre\n",
    "\n",
    "Python utilise le symbole ***=*** pour affecter une valeur à une variable.  \n",
    "par exemple:"
   ]
  },
  {
   "cell_type": "code",
   "execution_count": null,
   "metadata": {},
   "outputs": [],
   "source": [
    "a=2\n",
    "print(a)"
   ]
  },
  {
   "cell_type": "markdown",
   "metadata": {},
   "source": [
    "Ne confondez pas ***a=2***  avec ***a==2***\n",
    "\n",
    "- ***a=2***  signifie que a prend la valeur 2   soit a<-2   en algorithmique\n",
    "- ***a==2*** teste si le contenu de la variable a est égale à 2."
   ]
  },
  {
   "cell_type": "code",
   "execution_count": null,
   "metadata": {},
   "outputs": [],
   "source": [
    "a==2"
   ]
  },
  {
   "cell_type": "code",
   "execution_count": null,
   "metadata": {},
   "outputs": [],
   "source": [
    "a==3"
   ]
  },
  {
   "cell_type": "code",
   "execution_count": null,
   "metadata": {},
   "outputs": [],
   "source": [
    "a=2\n",
    "print(a)\n",
    "a=a+3\n",
    "print(a)"
   ]
  },
  {
   "cell_type": "markdown",
   "metadata": {},
   "source": [
    "Vous avez aussi la possibilité d'effectuer des affectations de variables multiples avec une même\n",
    "valeur :\n"
   ]
  },
  {
   "cell_type": "code",
   "execution_count": null,
   "metadata": {},
   "outputs": [],
   "source": [
    "a=b=1\n",
    "print(a)\n",
    "print(b)"
   ]
  },
  {
   "cell_type": "markdown",
   "metadata": {},
   "source": [
    "Et vous pouvez également effectuer des affectations multiples de variables ayant des valeurs différentes en séparant les noms de variables et les valeurs par des virgules :"
   ]
  },
  {
   "cell_type": "code",
   "execution_count": null,
   "metadata": {},
   "outputs": [],
   "source": [
    "a,b = 2,3\n",
    "print(a)\n",
    "print(b)"
   ]
  },
  {
   "cell_type": "markdown",
   "metadata": {},
   "source": [
    "## Afficher  (print)\n",
    "\n",
    "Pour afficher en python on utilise la fonction  ***print()***"
   ]
  },
  {
   "cell_type": "code",
   "execution_count": null,
   "metadata": {},
   "outputs": [],
   "source": [
    "print(\"Bonjour\")\n",
    "print(\"Ceci est du texte\")\n",
    "print(3)\n",
    "print(2.5)\n",
    "print(\"Le\",\"lycée\",\"pablo\",\"Neruda\")"
   ]
  },
  {
   "cell_type": "markdown",
   "metadata": {},
   "source": [
    "Pour afficher le contenu d'une variable dans du texte il existe plusieurs méthodes\n",
    "\n",
    "### Méthode 1: "
   ]
  },
  {
   "cell_type": "code",
   "execution_count": null,
   "metadata": {},
   "outputs": [],
   "source": [
    "a='cinq'\n",
    "print(\"Le contenu de la variable a est\",a,\".\")"
   ]
  },
  {
   "cell_type": "code",
   "execution_count": null,
   "metadata": {},
   "outputs": [],
   "source": [
    "b=5\n",
    "print(\"Le contenu de la variable b est\",b,\".\")"
   ]
  },
  {
   "cell_type": "markdown",
   "metadata": {},
   "source": [
    "Cette méthode est parfois limité, il est alors préférable d'utiliser la deuxième méthode.\n",
    "\n",
    "###  Méthode 2: en utilisant la méthode ***format()***\n",
    "\n",
    "On remplace ***{}*** par le contenu de la variable a. Peu importe si a est un texte, un flottant ou un entier,  le résultat sera affiché."
   ]
  },
  {
   "cell_type": "code",
   "execution_count": null,
   "metadata": {},
   "outputs": [],
   "source": [
    "a=\"5\"\n",
    "print(\"La valeur de la variable a est {}.\".format(a)) # a est de type string"
   ]
  },
  {
   "cell_type": "code",
   "execution_count": null,
   "metadata": {},
   "outputs": [],
   "source": [
    "b=5\n",
    "print(\"La valeur de la variable a est {}.\".format(a)) # a est de type string"
   ]
  },
  {
   "cell_type": "code",
   "execution_count": null,
   "metadata": {},
   "outputs": [],
   "source": [
    "a=4\n",
    "b=5\n",
    "print(\"Le produit de {} par {} est {}\".format(a,b,a*b))"
   ]
  },
  {
   "cell_type": "code",
   "execution_count": null,
   "metadata": {},
   "outputs": [],
   "source": [
    "a=4\n",
    "b=5\n",
    "print(\"{0}*{1}={2} et {0}/{1}={3}\".format(a,b,a*b,a/b))"
   ]
  },
  {
   "cell_type": "markdown",
   "metadata": {},
   "source": [
    "## Les opérateurs"
   ]
  },
  {
   "cell_type": "markdown",
   "metadata": {},
   "source": [
    "Il existe de nombreux opérateurs comme l'addition ***+*** la soustraction ***-*** la multiplication ***\\****  et la division ***\\\\*** \n",
    "\n",
    "En voici d'autre que l'on utilise souvent.\n",
    "\n",
    "7***//***2 est le ***quotient*** de la division euclidienne de 7 par 2"
   ]
  },
  {
   "cell_type": "code",
   "execution_count": null,
   "metadata": {},
   "outputs": [],
   "source": [
    "7//2"
   ]
  },
  {
   "cell_type": "markdown",
   "metadata": {},
   "source": [
    "7***%***2 est le ***reste*** de la division euclidienne."
   ]
  },
  {
   "cell_type": "code",
   "execution_count": null,
   "metadata": {},
   "outputs": [],
   "source": [
    "7%2"
   ]
  },
  {
   "cell_type": "markdown",
   "metadata": {},
   "source": [
    "7\\*\\*2 pour 7 à la ***puissance*** 2"
   ]
  },
  {
   "cell_type": "code",
   "execution_count": null,
   "metadata": {},
   "outputs": [],
   "source": [
    "7**2"
   ]
  },
  {
   "cell_type": "markdown",
   "metadata": {},
   "source": [
    "***sqrt(2)*** pour la ***racine carré*** de 2.  \n",
    "Attention il faut auparavant importer la librairie ***math***"
   ]
  },
  {
   "cell_type": "code",
   "execution_count": null,
   "metadata": {},
   "outputs": [],
   "source": [
    "import math\n",
    "math.sqrt(2)"
   ]
  },
  {
   "cell_type": "markdown",
   "metadata": {},
   "source": [
    "ou alors"
   ]
  },
  {
   "cell_type": "code",
   "execution_count": null,
   "metadata": {},
   "outputs": [],
   "source": [
    "from math import sqrt\n",
    "sqrt(2)"
   ]
  },
  {
   "cell_type": "markdown",
   "metadata": {},
   "source": [
    "**Attention**: Le phénomène que je m'apprête à souligner est vrai pour absolument tous les langages, mais il est bien souvent oublié.  \n",
    "Quel est le résultat d'une opération simple telle que 0.7 + 0.1 ?\n",
    "\n",
    "Vous pensez que le résultat est 0.8 ? Testons donc en Python :"
   ]
  },
  {
   "cell_type": "code",
   "execution_count": null,
   "metadata": {},
   "outputs": [],
   "source": [
    "0.7+0.1"
   ]
  },
  {
   "cell_type": "markdown",
   "metadata": {},
   "source": [
    "On dirait qu'il y a un problème ... En fait cela provient de la représentation des flottants en machine :  \n",
    "ils sont arrondis !\n",
    "En Python, la solution consistera a utiliser un module spécial, le module **_Decimal_**."
   ]
  },
  {
   "cell_type": "code",
   "execution_count": null,
   "metadata": {},
   "outputs": [],
   "source": [
    "from decimal import *\n",
    "Decimal('0.1')+Decimal('0.7')"
   ]
  },
  {
   "cell_type": "markdown",
   "metadata": {},
   "source": [
    "**Si vous manipulez des flottants pour des calculs précis, méfiez vous !  **"
   ]
  },
  {
   "cell_type": "markdown",
   "metadata": {},
   "source": [
    "## Notre exemple  \n",
    "\n",
    "```python\n",
    "saisir la longueur du coté c\n",
    "m <- 23*c^2\n",
    "afficher m\n",
    "```\n",
    "deviendra en python"
   ]
  },
  {
   "cell_type": "code",
   "execution_count": null,
   "metadata": {},
   "outputs": [],
   "source": [
    "cote=float(input(\"Entrer la longueur du coté du carré: \")) # c'est un réel donc on utilise float\n",
    "masse=23*cote**2                                           # On calcule la masse\n",
    "print(\"La masse que l'on pourra récolter est\",masse,\"kg\")  # On affiche"
   ]
  },
  {
   "cell_type": "markdown",
   "metadata": {},
   "source": [
    "## retenir\n",
    "\n",
    "Les différents types entiers, flottants, complexes, chaînes de caractères, boléens, listes,  tuples et dictionnaires.\n",
    "\n",
    "- ***entier***: 3  \n",
    "- ***flottant***: 2.3  \n",
    "- ***chaînes de caractères (string)***: 'Neruda'  \n",
    "\n",
    "On aura toujours à l'esprit que 0.2+0.7=0.8999999999999999$\\neq 0.9$\n",
    "\n",
    "- ***int()*** permet de convertir, un nombre ou une chaîne de caractère en un entier.  \n",
    "- ***float()*** permet de convertir, un nombre ou une chaîne de caractère en un flottant.\n",
    "\n",
    "- Quelques opérateur déjà vu et très utiles\n",
    "\n",
    "Opération | algorithme | python\n",
    " ---:    |   :---  |  :---  \n",
    "addition | 2+3 | 2+3\n",
    "Soustraction | 12-5 | 12-5\n",
    "Multiplication | 3*6 | 3*6\n",
    "Division  | 7/2 | 7/\n",
    "Quotient de la division euclidienne | 7 div 2 ou div(7,2) | 7//2  \n",
    "Reste de la division euclidienne | 7 mod 2 ou mod(7,2) | 7%2\n",
    "puissance | $7^2$ | 7\\*\\*2\n",
    "racine carrée | $\\sqrt{2}$ ou sqrt(2) | math.sqrt(2)"
   ]
  },
  {
   "cell_type": "markdown",
   "metadata": {},
   "source": [
    "# Compléments\n",
    "\n",
    "## Généralités"
   ]
  },
  {
   "cell_type": "markdown",
   "metadata": {},
   "source": [
    "###  commentaire\n",
    "\n",
    "Pour écrire  un commentaire  sans qu'il soit interprété utilise le caractère ***\\#***.  \n",
    "On utlilise les commentaires pour expliquer ce que l'on fait."
   ]
  },
  {
   "cell_type": "code",
   "execution_count": null,
   "metadata": {},
   "outputs": [],
   "source": [
    "print(\"Bonjour\")\n",
    "print(\"Ceci est du texte\")\n",
    "# print(\"Celui ci n'est pas interprété\")"
   ]
  },
  {
   "cell_type": "markdown",
   "metadata": {},
   "source": [
    "### Flottant\n",
    "\n",
    "Ce sont les nombres à ***virgule flottante***  \n",
    "Le symbole utilisé pour déterminer la partie décimale est le point. Par exemple ***3.14***  \n",
    "On peut également utiliser la lettre E ou e pour signaler un exposant en base 10 pour écrire un nombre en notation scientifique.  \n",
    "\n",
    "Par exemple ***3E5***  ou ***3e5***"
   ]
  },
  {
   "cell_type": "code",
   "execution_count": null,
   "metadata": {},
   "outputs": [],
   "source": [
    "print(type(3E5))\n",
    "print(3E5)"
   ]
  },
  {
   "cell_type": "markdown",
   "metadata": {},
   "source": [
    "### Chaine de caractère"
   ]
  },
  {
   "cell_type": "code",
   "execution_count": null,
   "metadata": {},
   "outputs": [],
   "source": [
    "a=\"Hello \"\n",
    "b=\"World !\"\n",
    "a+b"
   ]
  },
  {
   "cell_type": "markdown",
   "metadata": {},
   "source": [
    "on parle de ***concaténation*** des variables *a* et *b*."
   ]
  },
  {
   "cell_type": "code",
   "execution_count": null,
   "metadata": {},
   "outputs": [],
   "source": [
    "3*a"
   ]
  },
  {
   "cell_type": "markdown",
   "metadata": {},
   "source": [
    "L'accès à un caractère particulier de la chaîne se fait en indiquant sa position entre crochets (le premier caractère est à la position 0) :"
   ]
  },
  {
   "cell_type": "code",
   "execution_count": null,
   "metadata": {},
   "outputs": [],
   "source": [
    "a[0]"
   ]
  },
  {
   "cell_type": "markdown",
   "metadata": {},
   "source": [
    "## À retenir\n",
    "\n",
    "- On utilise le caractère ***\\#*** pour écrire un commentaire\n",
    "- Python utilise le symbole ***=*** pour affecter une valeur à une variable (Attention à ne pas confondre a=12 et a==12).\n",
    "- ***input(\"texte\")***  permet de saisir du texte pour un programme.  \n",
    "- Il faudra éventuellement convertir ce texte dans le type voulu avec ***int()*** ou ***float()***\n",
    "- On utilise de préférence la méthode ***format()*** pour afficher du texte et des variables.  \n",
    "```python\n",
    "print(\"Le produit de {} par {} est {}\".format(a,b,a*b))\n",
    "```\n",
    "- Condition (si ...  alors ....  sinon....)  \n",
    "```python\n",
    "if condition:\n",
    "    # Traitement bloc 1\n",
    "else:\n",
    "    # Traitement bloc 2\n",
    "```"
   ]
  },
  {
   "cell_type": "markdown",
   "metadata": {},
   "source": [
    "# Les structures de boucle et de test\n",
    "\n",
    "## Les structures de test\n",
    "\n",
    "### Si ...  alors ...  sinon\n",
    "\n",
    "```python\n",
    "if condition:\n",
    "    # Traitement bloc 1\n",
    "else:\n",
    "    # Traitement bloc 2\n",
    "```\n",
    "\n",
    "Pour les tests multiples, il faudra enchaîner les if en cascade grâce à l'instruction elif, contraction de else if :\n",
    "\n",
    "\n",
    "```python\n",
    "if condition:\n",
    "    # Traitement bloc 1\n",
    "elif:\n",
    "    # Traitement bloc 2\n",
    "else:\n",
    "    # Traitement bloc 3\n",
    "```\n",
    "\n",
    "Par exemple:"
   ]
  },
  {
   "cell_type": "code",
   "execution_count": null,
   "metadata": {},
   "outputs": [],
   "source": [
    "a=3\n",
    "if a<5:\n",
    "    print(']-inf;5[')\n",
    "elif 5<=a<10:\n",
    "    print('[5;10[')\n",
    "else:\n",
    "    print('[10;+inf[')"
   ]
  },
  {
   "cell_type": "markdown",
   "metadata": {},
   "source": [
    "**Exercice 1**: (Tarif du bateau)\n",
    "-  Votre programme doit lire l'âge d'une personne et afficher soit \"Tarif réduit\" si cette personne a strictement moins de 18 ans, soit \"Tarif plein\" dans le cas contraire.\n",
    "\n",
    "Variables: |  age   |       |  age   \n",
    "   ---:    |   :---    | :---: | :--- \n",
    "Entrée:    |   16  |       |  18    \n",
    "Sortie:    |  Tarif réduit  |       |  Tarif plein\n"
   ]
  },
  {
   "cell_type": "code",
   "execution_count": null,
   "metadata": {},
   "outputs": [],
   "source": [
    "age=int(input(\"Saisir votre age: \"))\n"
   ]
  },
  {
   "cell_type": "markdown",
   "metadata": {
    "collapsed": true
   },
   "source": [
    "**Exercice 2**: (Bornes kilométriques)\n",
    "-   Votre programme doit lire deux entiers, correspondant à deux numéros de bornes kilométriques, et il doit afficher la distance séparant ces deux bornes. Notez que le résultat doit être un nombre positif ou nul.\n",
    "\n",
    "Variables: |  b1, b2, d     |       | b1, b2, d   \n",
    "   ---:    |   :---    | :---: | :--- \n",
    "Entrée:    |   25; 15  |       |  15; 25    \n",
    "Sortie:    |    10     |       |   10"
   ]
  },
  {
   "cell_type": "code",
   "execution_count": null,
   "metadata": {},
   "outputs": [],
   "source": [
    "b1=int(input(\"Saisir la première borne \"))\n",
    "b2=int(input(\"Saisir la seuxième borne \"))\n"
   ]
  },
  {
   "cell_type": "markdown",
   "metadata": {},
   "source": [
    "**Exercice 3: (Tarifs de l'auberge)**\n",
    "\n",
    "L'auberge dans laquelle vous vous arrêtez pour la nuit adapte ses prix en fonction de l'âge du client et du poids de ses bagages.\n",
    "\n",
    "**Ce que doit faire votre programme :**  Une chambre ne coûte rien si on a 60 ans (l'âge de l'aubergiste !) et 5 écus si on a strictement moins de 10 ans. Pour les autres personnes c'est 30 écus plus un supplément de 10 écus si on a au moins 20 kilos de bagages.\n",
    "\n",
    "Votre programme doit lire deux entiers, l'âge et le poids des bagages de la personne et doit afficher le prix, sous la forme d'un entier.\n",
    "\n",
    "**Exemple: **\n",
    "\n",
    "Variables: |    age, masse |       |  age   \n",
    "   ---:    |      :---     | :---: | :--- \n",
    "Entrée:    |      22; 25   |       |  60; 30 \n",
    "Sortie:    |        40     |       |  0"
   ]
  },
  {
   "cell_type": "code",
   "execution_count": null,
   "metadata": {},
   "outputs": [],
   "source": []
  },
  {
   "cell_type": "markdown",
   "metadata": {
    "collapsed": true
   },
   "source": [
    "**Exercice 4: (Type d'arbres)**\n",
    "\n",
    "Alors que vous traversez une forêt vous ne pouvez vous empêcher d'admirer la végétation autour de vous et notamment les nombreuses espèces d'arbres.\n",
    "\n",
    "**Ce que doit faire votre programme :**  \n",
    "Il existe 4 types d'arbres :\n",
    "\n",
    "- le \"Tinuviel\" fait moins de 5 mètres de haut et ses feuilles sont composées de plus de 8 folioles\n",
    "- le \"Calaelen\" fait plus de 10 mètres de haut et ses feuilles sont composées de plus 10 folioles\n",
    "- le \"Falarion\" fait moins de 8 mètres de haut et ses feuilles sont composées de moins de 5 folioles\n",
    "- le \"Dorthonion\" fait plus de 12 mètres de haut et ses feuilles sont composées de moins de 7 folioles\n",
    "\n",
    "**Votre programme** lira deux entiers, la hauteur et le nombre de folioles de l'arbre, et affichera le nom de l'arbre correspondant.\n",
    "\n",
    "Toutes les inégalités sont à prendre au sens large, c'est-à-dire que \"moins\" signifie \"moins ou égal\" ou et \"plus\" signifie \"plus ou égal\".\n",
    "\n",
    "**Exemples**\n",
    "\n",
    "Variables: |   hauteur ; nbfolioles      |       | hauteur , nbfolioles \n",
    "   ---:    |   :---     | :---: | :--- \n",
    "Entrée:    |   12; 12   |       | 4; 9    \n",
    "Sortie:    | Calaelen  |       | Tinuviel"
   ]
  },
  {
   "cell_type": "code",
   "execution_count": null,
   "metadata": {},
   "outputs": [],
   "source": []
  },
  {
   "cell_type": "markdown",
   "metadata": {},
   "source": [
    "## Les structures de boucle\n",
    "\n",
    "Pour les boucles il existe deux structures. \n",
    "\n",
    "### La boucle for\n",
    "La boucle **_for_** prend ses valeurs dans une liste :\n",
    "\n",
    "**for *variable* in *liste_valeurs* **. À chaque itération la variable prendra pour valeur un élément de la liste."
   ]
  },
  {
   "cell_type": "code",
   "execution_count": null,
   "metadata": {},
   "outputs": [],
   "source": [
    "for e in [ 'pomme' , 'poire' , 'kiwi' ]:\n",
    "    print(e)"
   ]
  },
  {
   "cell_type": "markdown",
   "metadata": {},
   "source": [
    "Pour créer une boucle équivalente aux boucles traditionnelles << pour i allant de m à n, faire ... >>, nous utiliserons la fonction ***range()***.  \n",
    "La syntaxe générale est ***for i in range(m,n,p):***  \n",
    "**i prend alors toutes les valeurs de m à n-1 par pas de p**"
   ]
  },
  {
   "cell_type": "code",
   "execution_count": null,
   "metadata": {},
   "outputs": [],
   "source": [
    "for i in range(0,4):\n",
    "    print(i)"
   ]
  },
  {
   "cell_type": "code",
   "execution_count": null,
   "metadata": {},
   "outputs": [],
   "source": [
    "for i in range(4):\n",
    "    print(i)"
   ]
  },
  {
   "cell_type": "code",
   "execution_count": null,
   "metadata": {},
   "outputs": [],
   "source": [
    "for i in range(0,6,2):\n",
    "    print(i)"
   ]
  },
  {
   "cell_type": "code",
   "execution_count": null,
   "metadata": {},
   "outputs": [],
   "source": [
    "for i in range(4,0,-1):\n",
    "    print(i)"
   ]
  },
  {
   "cell_type": "markdown",
   "metadata": {},
   "source": [
    "**Exercice 5: (Les punitions)**\n",
    "\n",
    "- Votre programme doit lire un entier, le nombre de lignes souhaité, et écrira autant de fois que demandé la phrase << Je dois suivre en cours >>.\n",
    "- Exemple:\n",
    "\n",
    "Variables: |  nblignes    \n",
    "   ---:    |   :---    \n",
    "Entrée:    |   3  \n",
    "Sortie:    |    Je dois suivre en cours\n",
    "           |   Je dois suivre en cours\n",
    "           |    Je dois suivre en cours"
   ]
  },
  {
   "cell_type": "code",
   "execution_count": null,
   "metadata": {},
   "outputs": [],
   "source": []
  },
  {
   "cell_type": "markdown",
   "metadata": {},
   "source": [
    "**Exercice 6:  (Calcul des dénivelées)**\n",
    "\n",
    "Aujourd'hui c'est l'étape de montagne et vous allez devoir franchir plusieurs cols. Vous allez passer votre temps à monter, descendre, remonter, redescendre, etc...  \n",
    "\n",
    "***Ce que doit faire votre programme :***  \n",
    "- Votre programme lira d'abord un entier représentant le nombre de montées et descentes que vous avez réalisées.  \n",
    "Pour chaque montée ou descente, il faut ensuite lire un entier représentant la variation d'altitude, cet entier étant strictement positif dans le cas d'une montée et strictement négatif dans le cas d'une descente (il n'y a rien à compter pour les tronçons qui sont bien à plat).  \n",
    "Votre programme devra afficher l'altitude totale montée puis l'altitude totale descendue (ces deux nombres sont positifs).\n",
    "- ***Exemple:***\n",
    "\n",
    "Variables: |  nblignes    \n",
    "   ---:    |   :---    \n",
    "Entrée:    |  5; 4; 7; -6; -3; 2\n",
    "Sortie:    |  13; 9"
   ]
  },
  {
   "cell_type": "code",
   "execution_count": null,
   "metadata": {},
   "outputs": [],
   "source": []
  },
  {
   "cell_type": "markdown",
   "metadata": {},
   "source": [
    "###  La boucle while\n",
    "\n",
    "La seconde structure de boucle est le *<< tant que >>* : tant qu'une condition est vraie, on boucle.  \n",
    "Attention : dans ce type de boucle on utilise une variable de boucle dont la valeur doit changer pour pouvoir sortir de la boucle :"
   ]
  },
  {
   "cell_type": "code",
   "execution_count": null,
   "metadata": {},
   "outputs": [],
   "source": [
    "i=0\n",
    "while i<4:\n",
    "    print(i)\n",
    "    i=i+1"
   ]
  },
  {
   "cell_type": "markdown",
   "metadata": {},
   "source": [
    "***Exercice 7: (somme)***\n",
    "\n",
    "- ***Ce que doit faire votre programme :***  \n",
    "Votre programme devra lire une suite d'entiers positifs et afficher leur somme. On ne sait pas combien il y aura d'entiers, mais la suite se termine toujours par la valeur -1 (qui n'est pas une dépense, juste un marqueur de fin).\n",
    "- ***Exemples:***\n",
    "\n",
    "Variables: |    i, somme    |       | i, somme\n",
    "   ---:    |   :---     | :---: | :--- \n",
    "Entrée:    |   1000; 2000; 500; -1   |       |  -1 \n",
    "Sortie:    | 3500 |       | 0"
   ]
  },
  {
   "cell_type": "code",
   "execution_count": null,
   "metadata": {},
   "outputs": [],
   "source": []
  },
  {
   "cell_type": "markdown",
   "metadata": {},
   "source": [
    "***Exercice 8: (Le nombre mystère)***\n",
    "\n",
    "- ***Ce que doit faire votre programme :***  \n",
    "Votre programme doit donner un nombre au hasard entre 1 et 99.  \n",
    "Il faudra proposer des nombres pour trouver ce nombre mystère et  afficher à chaque proposition de nombre le texte ***<< c'est plus >>*** lorsque le nombre proposé est trop petit  ou ***<< c'est moins >>*** lorsque le nombre proposé est trop grand.  \n",
    "À la fin, il faudra afficher le texte << Bravo vous avez gagné >> et le nombre d'essais qui ont été nécessaires.\n",
    "- ***Exemples***  \n",
    "\n",
    "Variables: |    nb_coups, mystere, essai    \n",
    "   ---:    |   :---    \n",
    "Entrée:    |   5; 45; 43; 44   \n",
    "Sortie:    |    c'est plus \n",
    "           |    c'est moins\n",
    "           |    c'est plus\n",
    "           |    Bravo vous avez gagné en 4 essais.\n",
    "           \n",
    " Pour donner un nombre au hasard entre 1 et 100 on utilisera:\n",
    " \n",
    "```python\n",
    "import random\n",
    "mystere=random.randint(1,99)\n",
    "```"
   ]
  },
  {
   "cell_type": "code",
   "execution_count": null,
   "metadata": {},
   "outputs": [],
   "source": [
    "import random\n",
    "mystere=random.randint(1,99)\n"
   ]
  },
  {
   "cell_type": "markdown",
   "metadata": {
    "collapsed": true
   },
   "source": [
    "#  Les fonctions\n",
    "\n",
    "## Définition \n",
    "\n",
    "Les fonctions se définissent de la façon suivante\n",
    "```python\n",
    "def nomfonction(arg):\n",
    "    instruction\n",
    "    return variable\n",
    "```\n",
    "Par exemple pour la fonction carré on écrira:"
   ]
  },
  {
   "cell_type": "code",
   "execution_count": null,
   "metadata": {},
   "outputs": [],
   "source": [
    "def carre(x):\n",
    "    y=x**2\n",
    "    return y\n",
    "print(carre(4))\n",
    "print(carre(6))"
   ]
  },
  {
   "cell_type": "markdown",
   "metadata": {},
   "source": [
    "##  Exercices\n",
    "\n",
    "\n",
    "\n",
    "**Exercice 9**: (Tarif du bateau)\n",
    "\n",
    "\n",
    "Transformer les exercices 1 en fonction\n",
    "\n",
    "-  Votre fonction doit lire l'âge d'une personne et afficher soit \"Tarif réduit\" si cette personne a strictement moins de 18 ans, soit \"Tarif plein\" dans le cas contraire.\n",
    "- Exemple:\n",
    "\n",
    "Variables: |  age   |       |  age   \n",
    "   ---:    |   :---    | :---: | :--- \n",
    "Entrée:    |   16  |       |  18    \n",
    "Sortie:    |  Tarif réduit  |       |  Tarif plein"
   ]
  },
  {
   "cell_type": "code",
   "execution_count": null,
   "metadata": {},
   "outputs": [],
   "source": [
    "def bateau(age):\n",
    "\n",
    "    \n",
    "    \n",
    "print(bateau(16))\n",
    "print(bateau(18))"
   ]
  },
  {
   "cell_type": "markdown",
   "metadata": {
    "collapsed": true
   },
   "source": [
    "**Exercice 10**: (Bornes kilométriques)  \n",
    "Transformer les exercices 1 en fonction\n",
    "-   Votre fonction doit lire deux entiers, correspondant à deux numéros de bornes kilométriques, et il doit afficher la distance séparant ces deux bornes. Notez que le résultat doit être un nombre positif ou nul.\n",
    "- Exemple:\n",
    "\n",
    "Variables: |  b1, b2, d     |       | b1, b2, d   \n",
    "   ---:    |   :---    | :---: | :--- \n",
    "Entrée:    |   25; 15  |       |  15; 25    \n",
    "Sortie:    |    10     |       |   10"
   ]
  },
  {
   "cell_type": "code",
   "execution_count": null,
   "metadata": {},
   "outputs": [],
   "source": [
    "def bornes(b1,b2):\n",
    "    \n",
    "    \n",
    "    \n",
    "print(bornes(25,15))\n",
    "print(bornes(15,25))"
   ]
  },
  {
   "cell_type": "markdown",
   "metadata": {},
   "source": [
    "**Exercice 11**: Soit les points $A(x_a,y_a)$ et $B(x_b,y_b)$ dans un repère orthonormé.\n",
    "\n",
    "- Créer un programme pour calculer la distance ***AB***.\n",
    "- Exemple:\n",
    "\n",
    "Variables: | xA, yA xB, yB |        | xA, yA xB, yB\n",
    "   ---:    |      :---     | :---:  | :--- \n",
    "Entrée:    | 1; 2; 4; 6    |        | 1; 2; 5; 7\n",
    "Sortie:    |     5         |        | 6.4031242374328485\n",
    "\n",
    "Aide! Pour utiliser la racine carré  (square root en anglais) il faut importer la librairie ***math***.  \n",
    "Par exemple pour calculer $\\sqrt(2)$\n",
    "\n",
    "```python\n",
    "import math\n",
    "math.sqrt(2)\n",
    "```\n",
    "- Transformer votre programme en fonction"
   ]
  },
  {
   "cell_type": "code",
   "execution_count": null,
   "metadata": {},
   "outputs": [],
   "source": []
  },
  {
   "cell_type": "code",
   "execution_count": null,
   "metadata": {},
   "outputs": [],
   "source": []
  },
  {
   "cell_type": "markdown",
   "metadata": {},
   "source": [
    "# Le module turtle\n",
    "\n",
    "\n",
    "Le module turtle est un ensemble d’outils permettant de dessiner à l’aide d’instructions simples comme Scratch \n",
    "\n",
    "Il faut au début importer le module ***turtle*** avec   \n",
    "\n",
    "```python\n",
    "from  turtle import *\n",
    "```\n",
    "\n",
    "Les principales fonctions du module turtle sont :\n",
    "\n",
    "commande | $~$ \n",
    ":---- | :-----  \n",
    "$\\bullet$ ***reset()*** | On efface tout et on recommence  \n",
    "$\\bullet$ ***goto(x,y)*** | Aller à l’endroit de coordonnées x et y  \n",
    "$\\bullet$ ***forward(distance)*** | Avancer d’une distance donnée\n",
    "$\\bullet$ ***backward(distance)*** | Reculer  \n",
    "$\\bullet$ ***up()***  |  Relever le crayon (pour pouvoir avancer sans dessiner)  \n",
    "$\\bullet$ ***down()***  | Abaisser le crayon (pour pouvoir recommencer à dessiner)  \n",
    "$\\bullet$ ***color(couleur)*** |  Couleur peut être une chaîne prédéfinie (’red’, ’blue’, ’green’, etc.)  \n",
    "$\\bullet$ ***left(angle)***  | Tourner à gauche d’un angle donné (exprimé en degré)  \n",
    "$\\bullet$ ***right(angle)***  | Tourner à droite  \n",
    "$\\bullet$ ***width(épaisseur)***  | Choisir l’épaisseur du tracé  \n",
    "$\\bullet$ ***fill(1)***  | Remplir un contour fermé à l’aide de la couleur sélectionnée (on termine la construction par fill(0))  \n",
    "$\\bullet$ ***write(texte)***  |  texte doit être une chaîne de caractères délimitée avec des \" ou des ’\n",
    "\n",
    "Voici par exemple ce que vous avez eu au brevet."
   ]
  },
  {
   "cell_type": "code",
   "execution_count": null,
   "metadata": {},
   "outputs": [],
   "source": [
    "from  turtle  import *  #On importe le module\n",
    "def triangle(n):        #On définit une fonction triangle\n",
    "    down()              #stylo en position écriture\n",
    "    for i in range(3):  #Pour i allant de 0 à 3 faire\n",
    "        forward(n)      #On avance de n\n",
    "        left(120)       #On tourne à gauche de 120°\n",
    "    up()                #On releve le stylo\n",
    "\n",
    "def draw():\n",
    "    reset()             #On efface tout\n",
    "    color('blue')       #On met la couleur bleue\n",
    "    up()                #stylo en position écriture\n",
    "    goto(-200,-100)     #On va au point de coordonnées (-200,-100)\n",
    "    down()              #stylo en position écriture\n",
    "    cote=100            #cote prend la valeur 100\n",
    "    for i in range (5): #Pour i allant de 0 à 4 faire\n",
    "        triangle(cote)\n",
    "        forward(cote)   #On avance de cote\n",
    "        cote=cote-20    #cote prend la valeur cote-20\n",
    "\n",
    "write(\"Appuyez sur la touche entrer\")\n",
    "onkey(draw, \"Return\")   # Si on appuie sur la touche  Entrer on exécute la fonction draw\n",
    "onkey(bye, \"Escape\" )   # bye() est une fonction interne de turtle.\n",
    "listen()                #On écoute pour savoir s'il y a des évènements.\n",
    "mainloop()              # Le programme fonctionne en boucle"
   ]
  },
  {
   "cell_type": "code",
   "execution_count": null,
   "metadata": {},
   "outputs": [],
   "source": []
  }
 ],
 "metadata": {
  "kernelspec": {
   "display_name": "Python 3",
   "language": "python",
   "name": "python3"
  },
  "language_info": {
   "codemirror_mode": {
    "name": "ipython",
    "version": 3
   },
   "file_extension": ".py",
   "mimetype": "text/x-python",
   "name": "python",
   "nbconvert_exporter": "python",
   "pygments_lexer": "ipython3",
   "version": "3.6.5rc1"
  },
  "latex_envs": {
   "LaTeX_envs_menu_present": true,
   "autocomplete": true,
   "bibliofile": "biblio.bib",
   "cite_by": "apalike",
   "current_citInitial": 1,
   "eqLabelWithNumbers": true,
   "eqNumInitial": 1,
   "hotkeys": {
    "equation": "Ctrl-E",
    "itemize": "Ctrl-I"
   },
   "labels_anchors": false,
   "latex_user_defs": false,
   "report_style_numbering": false,
   "user_envs_cfg": false
  },
  "toc": {
   "colors": {
    "hover_highlight": "#DAA520",
    "navigate_num": "#000000",
    "navigate_text": "#333333",
    "running_highlight": "#FF0000",
    "selected_highlight": "#FFD700",
    "sidebar_border": "#EEEEEE",
    "wrapper_background": "#FFFFFF"
   },
   "moveMenuLeft": true,
   "nav_menu": {
    "height": "512px",
    "width": "252px"
   },
   "navigate_menu": true,
   "number_sections": true,
   "sideBar": false,
   "threshold": 4,
   "toc_cell": false,
   "toc_position": {
    "height": "350px",
    "left": "1px",
    "right": "1475px",
    "top": "107px",
    "width": "302px"
   },
   "toc_section_display": "block",
   "toc_window_display": false,
   "widenNotebook": false
  }
 },
 "nbformat": 4,
 "nbformat_minor": 1
}
