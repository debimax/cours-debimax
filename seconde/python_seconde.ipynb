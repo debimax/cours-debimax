{
 "cells": [
  {
   "cell_type": "code",
   "execution_count": 1,
   "metadata": {},
   "outputs": [
    {
     "data": {
      "application/javascript": [
       "IPython.Cell.options_default.cm_config.lineNumbers = true;"
      ],
      "text/plain": [
       "<IPython.core.display.Javascript object>"
      ]
     },
     "metadata": {},
     "output_type": "display_data"
    }
   ],
   "source": [
    "%%javascript\n",
    "IPython.Cell.options_default.cm_config.lineNumbers = true;"
   ]
  },
  {
   "cell_type": "code",
   "execution_count": 2,
   "metadata": {},
   "outputs": [
    {
     "data": {
      "text/html": [
       "<style>\n",
       "/* Pour le titre comme cela il n'y a pas de numérotation au */\n",
       "#titre{\n",
       "font-size: 24pt; \n",
       "color:#ff0000;\n",
       "text-decoration: underline;\n",
       "text-align: center;\n",
       "font-weight: bold;\n",
       "}\n",
       "\n",
       "div.text_cell_render { font-size: 12pt;   line-height: 145%; }\n",
       "div.text_cell_render h1{font-size: 24pt; color:#0000ff;  text-decoration: underline;}\n",
       "div.text_cell_render h2{font-size: 18pt;color:#0000ff;  text-decoration: underline;}\n",
       "div.text_cell_render h3{font-size: 14pt;color:#0000ff;  text-decoration: underline;}\n",
       "div.text_cell_render h4{font-size: 12pt;color:#0000ff;  text-decoration: underline; }\n",
       "div.text_cell_render h5 {font-weight: 300;}\n",
       "\n",
       "\n",
       "div.cell.code_cell { /* area that contains code + output */\n",
       "    background: #ffffff;\n",
       "    border: none;\n",
       "    border-radius: 10px;\n",
       "    padding-top: 1ex;\n",
       "}\n",
       "\n",
       "div.input_area { /* box around box with code */\n",
       "    border: none;\n",
       "    background: #f5f5f5;\n",
       "    border: 1px solid #ccc;\n",
       "    border-radius: 10px;\n",
       "    padding-top: 0.5ex;\n",
       "    padding-bottom: 0.5ex;\n",
       "    padding-left: 0.5em;\n",
       "}\n",
       "\n",
       "div.input { /* box with code */\n",
       "}\n",
       "\n",
       "div.CodeMirror { /* code font */\n",
       "    font-family: \"Inconsolata-dz\", monospace;\n",
       "    font-size: 10pt;\n",
       "}\n",
       "\n",
       "\n",
       "\n",
       "\n",
       "\n",
       "/*div.text_cell_render  code { font-size: medium; border: 3px #ababab solid; background-color: #f5f5f5;}*/\n",
       "/*.rendered_html code { border: 3px #ababab solid; background-color:  #f5f5f5;}*/\n",
       ".rendered_html blockquote { margin: 1em 2em; background: red; }\n",
       ".rendered_html ol { list-style:decimal; margin: 1em 2em; }\n",
       "\n",
       "\n",
       "/* classe pour inverse video */\n",
       ".reverse{\n",
       "    background-color: black;\n",
       "    color: white;\n",
       "}\n",
       "/*  strick   <s>texte/<s>*/\n",
       ".barre{\n",
       "\n",
       "}\n",
       "\n",
       "\n",
       "</style>"
      ],
      "text/plain": [
       "<IPython.core.display.HTML object>"
      ]
     },
     "execution_count": 2,
     "metadata": {},
     "output_type": "execute_result"
    }
   ],
   "source": [
    "# Charge ma feuille de style pour nbviewer\n",
    "from IPython.core.display import HTML\n",
    "from  urllib.request import urlopen\n",
    "# import urllib.request, urllib.parse, urllib.error\n",
    "\n",
    "url='https://github.com/debimax/cours-debimax/raw/master/static/custom.css'\n",
    "with urlopen(url) as response:\n",
    "    styles = response.read().decode(\"utf8\")\n",
    "styles=\"<style>\\n{}\\n</style>\".format(styles)\n",
    "HTML(styles)"
   ]
  },
  {
   "cell_type": "markdown",
   "metadata": {},
   "source": [
    "# Les bases de python\n",
    "\n",
    "Ref: [http://www.france-ioi.org](http://www.france-ioi.org/algo/chapters.php?progression=1)\n",
    "\n",
    "Partons d'un exemple d'un algorithme écrit en pseudo code.\n",
    "\n",
    "\n",
    "**Exemple 1**:  (Récoltes)\n",
    "Votre programme doit lire un entier, qui représente la longueur du côté d'un champ carré. Il doit ensuite afficher la masse que l'on pourra récolter de ce champ si l'on suppose que la production sera de 23 kg par mètre carré.\n",
    "\n",
    "| Variables: | c, m  |\n",
    "| :--: | :--: |  \n",
    "| Entrée: | 10  |\n",
    "| Sortie:  |  2300  |\n",
    "\n",
    "L'algorithme pourra s'écrire:\n",
    "\n",
    "```python\n",
    "saisir la longueur du coté c\n",
    "m <- 23*c^2\n",
    "afficher  m\n",
    "```\n"
   ]
  },
  {
   "cell_type": "markdown",
   "metadata": {},
   "source": [
    "## Saisir (Entrer des données)\n",
    "\n",
    "\n",
    "Il existe plusieurs types pour les variables en  python.  \n",
    "- ***str***  signifie ***string***.  C'est une ***chaine de caractère***.   \n",
    "  \"Pablo neruda\", 'Pablo neruda', \"5\", \"3.14\"  sont des chaînes de caractères.  \n",
    "  On utilise des ***simples quotes*** (Apostrophes) ou  ***double quotes***.\n",
    "- ***int***  pour ***integer*** (ou ***entier  relatif***)   \n",
    "  5,  100, -4  sont des entiers.\n",
    "- ***float***  pour ***flottant*** (C'est un nombre décimal). \n",
    "  3.14, 1.414,  5.0   sont des flotants.  \n",
    "  On utlise un point  pour la virgule  comme les anglo saxons.\n",
    "  \n",
    "  \n",
    "Il est parfois nécessaire d'entrer des données. On utilise pour cela la fonction ***input()***\n",
    "Cela correspond à ***saisir*** en algorithmique."
   ]
  },
  {
   "cell_type": "code",
   "execution_count": null,
   "metadata": {},
   "outputs": [],
   "source": [
    "a=input(\"Saisir un nombre a: \")   # On saisit a\n",
    "print(a)                          # On affiche a\n",
    "print(type(a))                    # On affiche le type de a"
   ]
  },
  {
   "cell_type": "code",
   "execution_count": null,
   "metadata": {},
   "outputs": [],
   "source": [
    "b=int(input(\"Saisir un entier b: \"))\n",
    "print(b)\n",
    "print(type(b)"
   ]
  },
  {
   "cell_type": "code",
   "execution_count": null,
   "metadata": {},
   "outputs": [],
   "source": [
    "c=float(input(\"Saisir un réel c: \"))\n",
    "print(c)\n",
    "print(type(c))"
   ]
  },
  {
   "cell_type": "markdown",
   "metadata": {},
   "source": [
    "- Vous devez retenir que la fonction ***input()*** créer une chaîne de caractère (***string***) et si on veut des nombre il faut les convertir.\n",
    "- ***int()*** permet de convertir une chaîne de caractère en un entier.\n",
    "- ***float()*** permet de convertir une chaîne de caractère en un flottant."
   ]
  },
  {
   "cell_type": "markdown",
   "metadata": {},
   "source": [
    "##  Variables\n",
    "\n",
    "Les variables ont un ***type***. Nous avons déjà vu le type \n",
    "- ***integer***(entier)\n",
    "- ***float***(nombre décimal)\n",
    "- ***string***(chaîne de caractères)\n",
    "Il en existe d'autre\n",
    "\n",
    "Python utilise le symbole ***=*** pour affecter une valeur à une variable.  \n",
    "par exemple:"
   ]
  },
  {
   "cell_type": "code",
   "execution_count": null,
   "metadata": {},
   "outputs": [],
   "source": [
    "a=2\n",
    "print(a)"
   ]
  },
  {
   "cell_type": "markdown",
   "metadata": {},
   "source": [
    "Ne confondez pas ***a=2***  avec ***a==2***\n",
    "\n",
    "- ***a=2***  $\\quad$ signifie que a prend la valeur 2   soit $a\\leftarrow 2$   en algorithmique.\n",
    "- ***a==2*** $\\quad$ teste si le contenu de la variable a est égale à 2."
   ]
  },
  {
   "cell_type": "code",
   "execution_count": null,
   "metadata": {},
   "outputs": [],
   "source": [
    "a==2"
   ]
  },
  {
   "cell_type": "code",
   "execution_count": null,
   "metadata": {},
   "outputs": [],
   "source": [
    "a==3"
   ]
  },
  {
   "cell_type": "code",
   "execution_count": null,
   "metadata": {},
   "outputs": [],
   "source": [
    "a=2\n",
    "print(a)\n",
    "a=a+3\n",
    "print(a)"
   ]
  },
  {
   "cell_type": "markdown",
   "metadata": {},
   "source": [
    "Vous avez aussi la possibilité d'effectuer des affectations de variables multiples avec une même\n",
    "valeur :\n"
   ]
  },
  {
   "cell_type": "code",
   "execution_count": null,
   "metadata": {},
   "outputs": [],
   "source": [
    "a=b=1\n",
    "print(a)\n",
    "print(b)"
   ]
  },
  {
   "cell_type": "markdown",
   "metadata": {},
   "source": [
    "Et vous pouvez également effectuer des affectations multiples de variables ayant des valeurs différentes en séparant les noms de variables et les valeurs par des virgules :"
   ]
  },
  {
   "cell_type": "code",
   "execution_count": null,
   "metadata": {},
   "outputs": [],
   "source": [
    "a,b = 2,3\n",
    "print(a)\n",
    "print(b)"
   ]
  },
  {
   "cell_type": "markdown",
   "metadata": {},
   "source": [
    "## Afficher  (print)\n",
    "\n",
    "Pour afficher en python on utilise la fonction  ***print()***"
   ]
  },
  {
   "cell_type": "code",
   "execution_count": null,
   "metadata": {},
   "outputs": [],
   "source": [
    "print(\"Bonjour\")\n",
    "print(\"Ceci est du texte\")\n",
    "print(3)\n",
    "print(2.5)\n",
    "print(\"Le\",\"lycée\",\"pablo\",\"Neruda\")"
   ]
  },
  {
   "cell_type": "markdown",
   "metadata": {},
   "source": [
    "Pour afficher le contenu d'une variable dans du texte il existe plusieurs méthodes\n",
    "\n",
    "### Méthode 1: "
   ]
  },
  {
   "cell_type": "code",
   "execution_count": null,
   "metadata": {},
   "outputs": [],
   "source": [
    "a='cinq'\n",
    "print(\"Le contenu de la variable a est\",a,\".\")"
   ]
  },
  {
   "cell_type": "code",
   "execution_count": null,
   "metadata": {},
   "outputs": [],
   "source": [
    "b=5\n",
    "print(\"Le contenu de la variable b est\",b,\".\")"
   ]
  },
  {
   "cell_type": "markdown",
   "metadata": {},
   "source": [
    "Cette méthode est parfois limité, il est alors préférable d'utiliser la deuxième méthode.\n",
    "\n",
    "###  Méthode 2: en utilisant la méthode ***format()***\n",
    "\n",
    "On remplace ***{}*** par le contenu de la variable ***a***. Peu importe si ***a*** est un texte, un flottant ou un entier,  le résultat sera affiché."
   ]
  },
  {
   "cell_type": "code",
   "execution_count": null,
   "metadata": {},
   "outputs": [],
   "source": [
    "a=\"5\"\n",
    "print(\"La valeur de la variable a est {}.\".format(a)) # a est de type string"
   ]
  },
  {
   "cell_type": "code",
   "execution_count": null,
   "metadata": {},
   "outputs": [],
   "source": [
    "b=5\n",
    "print(\"La valeur de la variable a est {}.\".format(b)) # a est de type integer"
   ]
  },
  {
   "cell_type": "code",
   "execution_count": null,
   "metadata": {},
   "outputs": [],
   "source": [
    "a=4\n",
    "b=5\n",
    "print(\"Le produit de {} par {} est {}\".format(a,b,a*b))"
   ]
  },
  {
   "cell_type": "code",
   "execution_count": null,
   "metadata": {},
   "outputs": [],
   "source": [
    "a=4\n",
    "b=5\n",
    "print(\"{0}*{1}={2} et {0}/{1}={3}\".format(a,b,a*b,a/b))"
   ]
  },
  {
   "cell_type": "markdown",
   "metadata": {},
   "source": [
    "## Les opérateurs"
   ]
  },
  {
   "cell_type": "markdown",
   "metadata": {},
   "source": [
    "Il existe de nombreux opérateurs comme l'addition ***+*** la soustraction ***-*** la multiplication ***\\****  et la division ***\\\\*** \n",
    "\n",
    "En voici d'autre que l'on utilise souvent.\n",
    "\n",
    "7***//***2 est le ***quotient*** de la division euclidienne de 7 par 2"
   ]
  },
  {
   "cell_type": "code",
   "execution_count": null,
   "metadata": {},
   "outputs": [],
   "source": [
    "7//2"
   ]
  },
  {
   "cell_type": "markdown",
   "metadata": {},
   "source": [
    "7***%***2 est le ***reste*** de la division euclidienne."
   ]
  },
  {
   "cell_type": "code",
   "execution_count": null,
   "metadata": {},
   "outputs": [],
   "source": [
    "7%2"
   ]
  },
  {
   "cell_type": "markdown",
   "metadata": {},
   "source": [
    "7\\*\\*2 pour 7 à la ***puissance*** 2"
   ]
  },
  {
   "cell_type": "code",
   "execution_count": null,
   "metadata": {},
   "outputs": [],
   "source": [
    "7**2"
   ]
  },
  {
   "cell_type": "markdown",
   "metadata": {},
   "source": [
    "***sqrt(2)*** pour la ***racine carré*** de 2.  \n",
    "Attention il faut auparavant importer la librairie ***math***"
   ]
  },
  {
   "cell_type": "code",
   "execution_count": null,
   "metadata": {},
   "outputs": [],
   "source": [
    "import math\n",
    "math.sqrt(2)"
   ]
  },
  {
   "cell_type": "markdown",
   "metadata": {},
   "source": [
    "ou alors"
   ]
  },
  {
   "cell_type": "code",
   "execution_count": null,
   "metadata": {},
   "outputs": [],
   "source": [
    "from math import sqrt\n",
    "sqrt(2)"
   ]
  },
  {
   "cell_type": "markdown",
   "metadata": {},
   "source": [
    "**Attention**: Le phénomène que je m'apprête à souligner est vrai pour absolument tous les langages, mais il est bien souvent oublié.  \n",
    "Quel est le résultat d'une opération simple telle que 0.7 + 0.1 ?\n",
    "\n",
    "Vous pensez que le résultat est 0.8 ? Testons donc en Python :"
   ]
  },
  {
   "cell_type": "code",
   "execution_count": null,
   "metadata": {},
   "outputs": [],
   "source": [
    "0.7+0.1"
   ]
  },
  {
   "cell_type": "markdown",
   "metadata": {},
   "source": [
    "On dirait qu'il y a un problème ... En fait cela provient de la représentation des flottants en machine :  \n",
    "ils sont arrondis !\n",
    "En Python, la solution consistera a utiliser un module spécial, le module **_decimal_**."
   ]
  },
  {
   "cell_type": "code",
   "execution_count": null,
   "metadata": {},
   "outputs": [],
   "source": [
    "from decimal import *\n",
    "Decimal('0.1')+Decimal('0.7')"
   ]
  },
  {
   "cell_type": "markdown",
   "metadata": {},
   "source": [
    "**Si vous manipulez des flottants pour des calculs précis, méfiez vous !  **"
   ]
  },
  {
   "cell_type": "markdown",
   "metadata": {},
   "source": [
    "###  commentaire\n",
    "\n",
    "Pour écrire  un commentaire  sans qu'il soit interprété utilise le caractère ***\\#***.  \n",
    "On utlilise les commentaires pour expliquer ce que l'on fait."
   ]
  },
  {
   "cell_type": "code",
   "execution_count": null,
   "metadata": {},
   "outputs": [],
   "source": [
    "print(\"Bonjour\")\n",
    "print(\"Ceci est du texte\")\n",
    "# print(\"Celui ci n'est pas interprété\")"
   ]
  },
  {
   "cell_type": "markdown",
   "metadata": {},
   "source": [
    "Vous voyez qu'après le symbol ***\\#***  la couleur n'est pas la même.  \n",
    "Tout ce qui suit \\# n'est pas interprété par ***python***"
   ]
  },
  {
   "cell_type": "markdown",
   "metadata": {},
   "source": [
    "## Notre exemple  \n",
    "\n",
    "Je rappelle  notre algorithme.\n",
    "\n",
    "```python\n",
    "saisir la longueur du coté c\n",
    "m <- 23*c^2\n",
    "afficher m\n",
    "```\n",
    "Pour le convertir en python on écrira."
   ]
  },
  {
   "cell_type": "code",
   "execution_count": null,
   "metadata": {},
   "outputs": [],
   "source": [
    "cote=float(input(\"Entrer la longueur du coté du carré: \")) # c'est un réel donc on utilise float\n",
    "masse=23*cote**2                                           # On calcule la masse\n",
    "print(\"La masse que l'on pourra récolter est\",masse,\"kg\")  # On affiche"
   ]
  },
  {
   "cell_type": "markdown",
   "metadata": {},
   "source": [
    "## retenir\n",
    "\n",
    "Les différents types entiers, flottants, complexes, chaînes de caractères, boléens, listes,  tuples et dictionnaires.\n",
    "\n",
    "- ***entier***: 3  \n",
    "- ***flottant***: 2.3  \n",
    "- ***chaînes de caractères (string)***: 'Neruda'  \n",
    "- ***int()*** permet de convertir, un nombre ou une chaîne de caractère en un entier.  \n",
    "- ***float()*** permet de convertir, un entier ou une chaîne de caractère en un flottant.\n",
    "\n",
    "- On utilise le caractère ***\\#*** pour écrire un commentaire\n",
    "- Python utilise le symbole ***=*** pour affecter une valeur à une variable (Attention à ne pas confondre a=12 et a==12).\n",
    "- ***input(\"texte\")***  permet de saisir du texte pour un programme.  \n",
    "- Il faudra éventuellement convertir ce texte dans le type voulu avec ***`int()`*** ou ***`float()`***\n",
    "- On utilise pour afficher du texte et des variables la fonction  ***`print()`***. \n",
    "```python\n",
    "print(\"Le produit de \",a,\" par \",b, \" est \",a*b,\".\")\n",
    "print(\"Le produit de {} par {} est {}.\".format(a,b,a*b))\n",
    "```\n",
    "- On aura toujours à l'esprit que 0.2+0.7=0.8999999999999999$\\neq 0.9$\n",
    "- Quelques opérateur déjà vu et très utiles\n",
    "\n",
    "\n",
    "<table>\n",
    "    <tr><th>Opération</th><th>algorithme</th><th>python</th></tr>\n",
    "    <tr><td>addition</td><td>2+3</td><td>2+3</td></tr>  \n",
    "    <tr><td>Multiplication</td><td>3\\*6</td><td>3\\*6</td></tr>\n",
    "    <tr><td>Division</td><td>7/2</td><td>7/2</td></tr>\n",
    "    <tr><td>Quotient de la division euclidienne</td><td>7 div 2 ou div(7,2)</td><td>7//2</td></tr>\n",
    "    <tr><td>Reste de la division euclidienne</td><td>7 mod 2 ou mod(7,2)</td><td>7%2</td></tr>\n",
    "    <tr><td>puissance</td><td>$7^2$</td><td>7\\*\\*2</td></tr>\n",
    "    <tr><td>racine carrée</td><td>$\\sqrt{2}$ ou sqrt(2)</td><td>math.sqrt(2)</td></tr>\n",
    "</table>"
   ]
  },
  {
   "cell_type": "markdown",
   "metadata": {},
   "source": [
    "## Complément chaine de caractère"
   ]
  },
  {
   "cell_type": "code",
   "execution_count": null,
   "metadata": {},
   "outputs": [],
   "source": [
    "a=\"Hello \"\n",
    "b=\"World !\"\n",
    "a+b"
   ]
  },
  {
   "cell_type": "markdown",
   "metadata": {},
   "source": [
    "on parle de ***concaténation*** des chaînes de caractères  *a* et *b*."
   ]
  },
  {
   "cell_type": "code",
   "execution_count": null,
   "metadata": {},
   "outputs": [],
   "source": [
    "3*a"
   ]
  },
  {
   "cell_type": "markdown",
   "metadata": {},
   "source": [
    "permet de répéter plusieurs fois un même texte.\n",
    "\n",
    "L'accès à un caractère particulier de la chaîne se fait en indiquant sa position entre crochets.  \n",
    "Le premier caractère est à la position 0."
   ]
  },
  {
   "cell_type": "code",
   "execution_count": null,
   "metadata": {},
   "outputs": [],
   "source": [
    "a[0]"
   ]
  },
  {
   "cell_type": "code",
   "execution_count": null,
   "metadata": {},
   "outputs": [],
   "source": [
    "a[2]"
   ]
  },
  {
   "cell_type": "markdown",
   "metadata": {},
   "source": [
    "# Les fonctions\n",
    "\n",
    "\n",
    "Lorsqu'on a besoin d'utiliser plusieurs fois un même bloc d'instructions, on peut l'encapsuler dans une fonction. On peut ainsi étendre le langage avec une nouvelle instruction.\n",
    "\n",
    "Dans la définition d'une fonction, on précise son nom et en général des paramètres formels d'entrée et une valeur de retour. En Python on définit une fonction ainsi :\n",
    "\n",
    "```python\n",
    "def mafonction(parametre1, parametre2):\n",
    "    #bloc d'instructions (optionnel)\n",
    "    return valeur\n",
    "```\n",
    "\n",
    "Par exemple la fonction ***`carre(x)`*** qui prend en paramètre un nombre $x$ et qui retourne son carré, s'écrira :"
   ]
  },
  {
   "cell_type": "code",
   "execution_count": null,
   "metadata": {},
   "outputs": [],
   "source": [
    "def carre(x):\n",
    "    return x ** 2"
   ]
  },
  {
   "cell_type": "markdown",
   "metadata": {},
   "source": [
    "Pour utiliser cette fonction ***carre(x)*** on écrira:"
   ]
  },
  {
   "cell_type": "code",
   "execution_count": null,
   "metadata": {},
   "outputs": [],
   "source": [
    "res = carre(3)\n",
    "print(res)"
   ]
  },
  {
   "cell_type": "markdown",
   "metadata": {},
   "source": [
    "ou en une seule ligne"
   ]
  },
  {
   "cell_type": "code",
   "execution_count": null,
   "metadata": {},
   "outputs": [],
   "source": [
    "print(carre(3))\n",
    "print(carre(4))\n",
    "print(carre(5))"
   ]
  },
  {
   "cell_type": "markdown",
   "metadata": {},
   "source": [
    "Une fonction peut prendre plusieurs paramètres.  \n",
    "\n",
    "En mathématique on a la formule  $\\overrightarrow{AB}\\begin{pmatrix} x_B-x_A \\\\ y_B-y_A \\end{pmatrix}$\n",
    "\n",
    "La fonction ***coord_vecteur(xA, yA, xB, yB)*** qui prend en paramètres  les coordonnées des points $A(x_A, y_A)$ et $B(x_B, y_B)$,   et qui retourne les coordonnées du vecteur $\\overrightarrow{AB}$ peut s'écrire :"
   ]
  },
  {
   "cell_type": "code",
   "execution_count": null,
   "metadata": {},
   "outputs": [],
   "source": [
    "def coord_vecteur(xA, yA, xB, yB):\n",
    "    return (xB - xA, yB - yA)"
   ]
  },
  {
   "cell_type": "code",
   "execution_count": null,
   "metadata": {},
   "outputs": [],
   "source": [
    "print(coord_vecteur(1, -3, 4, 6))"
   ]
  },
  {
   "cell_type": "markdown",
   "metadata": {},
   "source": [
    "Remarque: (3,9) est un type particulier en python et s'appelle un ***tuple***.\n",
    "\n",
    "Il existe aussi des fonctions sans paramètres d'entrée ou sans valeur de retour. Par exemple, une fonction qui affiche le nom complet d'un acronyme peut s'écrire :"
   ]
  },
  {
   "cell_type": "code",
   "execution_count": null,
   "metadata": {},
   "outputs": [],
   "source": [
    "def icn():\n",
    "    print(\"Informatique et Création Numérique\")\n",
    "icn()\n",
    "icn()"
   ]
  },
  {
   "cell_type": "markdown",
   "metadata": {},
   "source": [
    "## Exercices  fonctions\n",
    "\n",
    "\n",
    "**Exercice 1 (fonctions):**\n"
   ]
  },
  {
   "cell_type": "markdown",
   "metadata": {},
   "source": [
    "***1) a.***   $\\quad$  Écrire une fonction `coord_milieu(xA, yA, xB, yB)` qui retourne le couple de coordonnées du milieu du segment $[AB]$."
   ]
  },
  {
   "cell_type": "code",
   "execution_count": null,
   "metadata": {},
   "outputs": [],
   "source": [
    "def coord_milieu(xA, yA, xB, yB):\n",
    "    \n",
    "    \n",
    "    "
   ]
  },
  {
   "cell_type": "markdown",
   "metadata": {},
   "source": [
    "***1) b.*** $\\quad$  Écrire une fonction `distance(xA, yA, xB, yB)` qui retourne la distance séparant les points de coordonnées ***(xA, yA)*** et ***(xB, yB)***.  \n",
    "\n",
    "La fonction racine carrée se trouve dans le module ***math*** et s'appelle ***sqrt***, pour l'utiliser dans un script, il faut d'abord l'importer avec l'instruction suivante :\n",
    "\n",
    "```python\n",
    "    from math import sqrt\n",
    "```"
   ]
  },
  {
   "cell_type": "code",
   "execution_count": null,
   "metadata": {},
   "outputs": [],
   "source": [
    "from math import sqrt\n",
    "def distance(xA, yA, xB, yB):\n",
    "    "
   ]
  },
  {
   "cell_type": "markdown",
   "metadata": {},
   "source": [
    "***1) c.***  $\\quad$ Écrire une fonction `coord_symetrique(xA,yA,xB,yB)`  qui retourne le couple de coordonnées du symétrique du point $A$ par rapport au point $B$. "
   ]
  },
  {
   "cell_type": "code",
   "execution_count": null,
   "metadata": {},
   "outputs": [],
   "source": []
  },
  {
   "cell_type": "markdown",
   "metadata": {},
   "source": [
    "***Exercice 2 (fonctions):***   \n",
    "  \n",
    "La fonction ***random()*** du modue  ***random*** renvoie un nombre réel  aléatoire dans l'intervalle $[0,1[$.  \n",
    "Voici un exemple."
   ]
  },
  {
   "cell_type": "code",
   "execution_count": null,
   "metadata": {},
   "outputs": [],
   "source": [
    "from random import random\n",
    "def alea():\n",
    "    return random()\n",
    "\n",
    "print(alea())"
   ]
  },
  {
   "cell_type": "markdown",
   "metadata": {},
   "source": [
    "***2) a.*** $\\quad$   Écrire en Python une fonction ***`alea2a()`*** qui retourne un nombre aléatoire dans l'intervalle $[0;2[$."
   ]
  },
  {
   "cell_type": "code",
   "execution_count": null,
   "metadata": {},
   "outputs": [],
   "source": [
    "from random import random\n",
    "def alea2a():\n",
    "    "
   ]
  },
  {
   "cell_type": "markdown",
   "metadata": {},
   "source": [
    "***2) b.*** $\\quad$   Écrire en Python une fonction ***`alea2b()`*** qui retourne un nombre aléatoire dans l'intervalle $[1;3[$"
   ]
  },
  {
   "cell_type": "code",
   "execution_count": null,
   "metadata": {},
   "outputs": [],
   "source": [
    "from random import random\n",
    "def alea2b():\n",
    "   "
   ]
  },
  {
   "cell_type": "markdown",
   "metadata": {},
   "source": [
    "***2) c.***  $\\quad$   En utilisant la fonction ***randint()***  du module ***random***, écrire en Python une fonction ***`somme2de()`*** qui retourne la somme des faces de deux dés cubiques équilibré dont les faces sont numérotées de 1 à 6.\n",
    "\n",
    "on rappelle que la fonction ***randint(a,b)*** renvoie un nombre entier aléatoire dans l'intervalle $[a,b]$"
   ]
  },
  {
   "cell_type": "code",
   "execution_count": null,
   "metadata": {},
   "outputs": [],
   "source": [
    "from random import randint\n",
    "def somme2de():"
   ]
  },
  {
   "cell_type": "markdown",
   "metadata": {},
   "source": [
    "***Exercice 3 (fonctions)***  \n",
    "    \n",
    "La surface ***S*** en mètre carrées de la peau d'un adulte est donment née approximativement par la formule $ \\dfrac{\\sqrt[]{L\\times M}}{6}$ où ***L*** est la taille de l'individu en mètres et ***M***  sa masse en kilogramme.\n",
    "\n",
    "- Écrire une fonction **`surface(L,M)`** qui retourne la surface corporelle d'un adulte.\n",
    "- Vérifier que la surface corporelle d'un individu de $1,8m$ et $75 kg$ est d'environ $1,94m^2$.\n",
    "\n",
    "On importera la fonction ***sqrt*** du module ***math***."
   ]
  },
  {
   "cell_type": "code",
   "execution_count": null,
   "metadata": {},
   "outputs": [],
   "source": [
    "from math import sqrt\n",
    "\n"
   ]
  },
  {
   "cell_type": "markdown",
   "metadata": {},
   "source": [
    "**Exercice 4 (fonctions):**  \n",
    "\n",
    "L'indice de masse corporelle (IMC) est une grandeur qui permet d'estimer la corpulence d'une personne.  \n",
    "Il se calcule en fonction de la taille en mètre et de la masse en kilogramme.  \n",
    "La formue est $IMC=\\dfrac{masse}{taille^2}$  \n",
    "Écrire une fonction **`imc(masse,taille)`** qui retourne l'indice de la masse corporelle."
   ]
  },
  {
   "cell_type": "code",
   "execution_count": null,
   "metadata": {},
   "outputs": [],
   "source": []
  },
  {
   "cell_type": "markdown",
   "metadata": {},
   "source": [
    "# Les structures de boucle et de test\n",
    "\n",
    "## Les structures de test\n",
    "\n",
    "### Si ...  alors ...  sinon\n",
    "\n",
    "```python\n",
    "if condition:\n",
    "    # Traitement bloc 1\n",
    "else:\n",
    "    # Traitement bloc 2\n",
    "```\n",
    "\n",
    "Pour les tests multiples, il faudra enchaîner les if en cascade grâce à l'instruction elif, contraction de else if :\n",
    "\n",
    "\n",
    "```python\n",
    "if condition:\n",
    "    # Traitement bloc 1\n",
    "elif:\n",
    "    # Traitement bloc 2\n",
    "else:\n",
    "    # Traitement bloc 3\n",
    "```\n",
    "\n",
    "Par exemple:"
   ]
  },
  {
   "cell_type": "code",
   "execution_count": null,
   "metadata": {},
   "outputs": [],
   "source": [
    "a=3\n",
    "if a<5:\n",
    "    print(']-inf;5[')\n",
    "elif 5<=a<10:\n",
    "    print('[5;10[')\n",
    "else:\n",
    "    print('[10;+inf[')"
   ]
  },
  {
   "cell_type": "markdown",
   "metadata": {},
   "source": [
    "**Exercice 1 (si):** Tarif du bateau\n",
    "\n",
    "- **Ce que  votre fonction doit faire**   \n",
    "Écrire une fonction ***`tarif(age)`*** qui doit lire l'âge d'une personne et afficher soit \"Tarif réduit\" si cette personne a strictement moins de 18 ans, soit \"Tarif plein\" dans le cas contraire.\n",
    "\n",
    "- **Exemple**  \n",
    "\n",
    "<table style=\"border:1px solid black;\">\n",
    "<tr style=\"border:1px solid black;\"><th>Variables:</th><th>age</th><th></th><th>age</th></tr>\n",
    "<tr><td>Entrée:</td><td>16</td><td></td><td>18</td></tr>\n",
    "<tr><td>Sortie:</td><td>Tarif réduit</td><td></td><td>Tarif plein</td></tr>\n",
    "</table>"
   ]
  },
  {
   "cell_type": "code",
   "execution_count": null,
   "metadata": {},
   "outputs": [],
   "source": [
    "def tarif(age):\n",
    "    "
   ]
  },
  {
   "cell_type": "markdown",
   "metadata": {
    "collapsed": true
   },
   "source": [
    "***Exercice 2 (si):*** Bornes kilométriques\n",
    "\n",
    "-  Écrire une fonction ***`bornes(a,b)`*** qui doit lire deux entiers, correspondant à deux numéros de bornes kilométriques, et  afficher la distance séparant ces deux bornes.  \n",
    " Notez que le résultat doit être un nombre positif ou nul.\n",
    "\n",
    "\n",
    "<table style=\"border:1px solid black;\">\n",
    "<tr style=\"border:1px solid black;\"><th>Variables:</th><th> b1, b2, d</th><th></th><th> b1, b2, d</th></tr>\n",
    "<tr><td>Entrée:</td><td>25; 15</td><td></td><td>15; 25</td></tr>\n",
    "<tr><td>Sortie:</td><td>10</td><td></td><td>10</td></tr>\n",
    "</table>"
   ]
  },
  {
   "cell_type": "code",
   "execution_count": null,
   "metadata": {},
   "outputs": [],
   "source": [
    "def bornes(b1,b2):\n"
   ]
  },
  {
   "cell_type": "markdown",
   "metadata": {},
   "source": [
    "***Exercice 3 (si):***  \n",
    "\n",
    "On veux construire un triangle.\n",
    "\n",
    "**Ce que  votre fonction doit faire** \n",
    "\n",
    "Écrire une fonction ***`estconstructible(a,b,c)`***  qui renvoie \t***True*** si l'on peut construire un triangle de côtés $a, b, c$ et ***False*** si ce triangle n'est pas constructible.\n",
    "\n",
    "Aide: rechercher le mot  *inégalité triangulaire*.\n",
    "\n",
    "**Exemples**\n",
    "\n",
    "<table style=\"border:1px solid black;\">\n",
    "<tr style=\"border:1px solid black;\"><th>Variables:</th><th>a, b, c</th><th></th><th>a, b, c</th></tr>\n",
    "<tr><td>Entrée:</td><td>2 , 3, 6</td><td></td><td>2 3 4</td></tr>\n",
    "<tr><td>Sortie:</td><td>False</td><td></td><td>True</td></tr>\n",
    "</table>"
   ]
  },
  {
   "cell_type": "code",
   "execution_count": null,
   "metadata": {},
   "outputs": [],
   "source": []
  },
  {
   "cell_type": "markdown",
   "metadata": {
    "collapsed": true
   },
   "source": [
    "***Exercice 4 (si):***\n",
    "\n",
    "On lance un dé (équilibré, à six faces). \n",
    "- Le joueur gagne 3€ s'il tombe sur une face paire strictement  inférieure à 6 \n",
    "- Il gagne 4€ s'il tombe sur 6.\n",
    "- Il perd 2€ s'il tombe sur une face impaire.\n",
    "\n",
    "**Ce que  votre fonction doit faire**\n",
    "\n",
    "Écrire une fonction ***`jeude()`*** qui simulera un lancer de dé et affichera la valeur du dé et le gain correspondant.\n",
    "\n",
    "**Exemples**\n",
    "\n",
    "<table style=\"border:1px solid black;\">\n",
    "<tr style=\"border:1px solid black;\"><th>Variables:</th><th>de, gain</th><th></th><th>de, gain</th></tr>\n",
    "<tr><td>Entrée:</td><td></td><td></td><td></td></tr>\n",
    "<tr><td>Sortie:</td><td>dé=2<br /> gain=3€</td><td></td><td>dé=1<br /> gain=-2€</td></tr>\n",
    "</table>"
   ]
  },
  {
   "cell_type": "code",
   "execution_count": null,
   "metadata": {},
   "outputs": [],
   "source": []
  },
  {
   "cell_type": "markdown",
   "metadata": {},
   "source": [
    "## Les structures de boucle\n",
    "\n",
    "Pour les boucles il existe deux structures. \n",
    "\n",
    "### La boucle for\n",
    "La boucle **_for_** prend ses valeurs dans une liste :\n",
    "\n",
    "**for *variable* in *liste_valeurs* **. À chaque itération la variable prendra pour valeur un élément de la liste."
   ]
  },
  {
   "cell_type": "code",
   "execution_count": null,
   "metadata": {},
   "outputs": [],
   "source": [
    "for e in [ 'pomme' , 'poire' , 'kiwi' ]:\n",
    "    print(e)"
   ]
  },
  {
   "cell_type": "markdown",
   "metadata": {},
   "source": [
    "Pour créer une boucle équivalente aux boucles traditionnelles << pour i allant de m à n, faire ... >>, nous utiliserons la fonction ***range()***.  \n",
    "La syntaxe générale est ***for i in range(m,n,p):***  \n",
    "**i prend alors toutes les valeurs de m à n-1 par pas de p**"
   ]
  },
  {
   "cell_type": "code",
   "execution_count": null,
   "metadata": {},
   "outputs": [],
   "source": [
    "for i in range(0,4):\n",
    "    print(i)"
   ]
  },
  {
   "cell_type": "code",
   "execution_count": null,
   "metadata": {},
   "outputs": [],
   "source": [
    "for i in range(4):\n",
    "    print(i)"
   ]
  },
  {
   "cell_type": "code",
   "execution_count": null,
   "metadata": {},
   "outputs": [],
   "source": [
    "for i in range(0,6,2):\n",
    "    print(i)"
   ]
  },
  {
   "cell_type": "code",
   "execution_count": null,
   "metadata": {},
   "outputs": [],
   "source": [
    "for i in range(4,0,-1):\n",
    "    print(i)"
   ]
  },
  {
   "cell_type": "markdown",
   "metadata": {},
   "source": [
    "**Exercice 1 (for):** Les punitions\n",
    "\n",
    "- Écrire une fonction ***`punition(nblignes)`*** qui écrira autant de fois que demandé la phrase << Je dois suivre en cours >>.\n",
    "- Exemple:\n",
    "\n",
    "\n",
    "<table style=\"border:1px solid black;\">\n",
    "<tr style=\"border:1px solid black;\"><th>Variables:</th><th>nblignes</th></tr>\n",
    "<tr><td>Entrée:</td><td>3</td></tr>\n",
    "<tr><td>Sortie:</td><td>Je dois suivre en cours<br />Je dois suivre en cours<br />Je dois suivre en cours<td></tr>\n",
    "</table>"
   ]
  },
  {
   "cell_type": "code",
   "execution_count": null,
   "metadata": {},
   "outputs": [],
   "source": []
  },
  {
   "cell_type": "markdown",
   "metadata": {},
   "source": [
    "**Exercice 2 (for):**  \n",
    "Qu'affiche le script ci-dessous?  \n",
    "Réfléchissez bien avant de l'exécuter."
   ]
  },
  {
   "cell_type": "code",
   "execution_count": null,
   "metadata": {},
   "outputs": [],
   "source": [
    "for i in range(1,10):\n",
    "    print(i)"
   ]
  },
  {
   "cell_type": "markdown",
   "metadata": {},
   "source": [
    "**Exercice 3 (for):**  \n",
    "Écrire une fonction  **`table(n)`**  qui affiche la table des multiples d'un entier **n** pour des multiplicateurs variant de 1 à 10."
   ]
  },
  {
   "cell_type": "code",
   "execution_count": null,
   "metadata": {},
   "outputs": [],
   "source": []
  },
  {
   "cell_type": "markdown",
   "metadata": {},
   "source": [
    "**Exercice 4 (for):**  \n",
    "Écrire une fonction ***`table_multiple(m)`*** programme pour afficher la table de multiplications $m$ pour des multiplicateurs variant de 1 à 10.\n",
    "\n",
    "<table style=\"border:1px solid black;\">\n",
    "<tr style=\"border:1px solid black;\"><th>Variables:</th><th>m</th></tr>\n",
    "<tr><td>Entrée:</td><td>3</td></tr>\n",
    "<tr><td>Sortie:</td><td>1&times;3=3 <br /> 2&times;3=6 <br />3&times;3=9<br /> &#8226;&#8226;&#8226;&#8226;&#8226;&#8226;</td></tr>\n",
    "</table>\n"
   ]
  },
  {
   "cell_type": "code",
   "execution_count": null,
   "metadata": {},
   "outputs": [],
   "source": []
  },
  {
   "cell_type": "markdown",
   "metadata": {},
   "source": [
    "**Exercice 5 (for):**  \n",
    "On rappelle que l'on peut plusieurs fois une chaine de caractère avec l'opérateur **\\***\n",
    "Par exemple `'o'*11`"
   ]
  },
  {
   "cell_type": "code",
   "execution_count": null,
   "metadata": {},
   "outputs": [],
   "source": [
    "print('o'*11)"
   ]
  },
  {
   "cell_type": "markdown",
   "metadata": {},
   "source": [
    "On rappelle `\"abc\"+\"def\"`  permet de concaténer deux chaînes de caractères"
   ]
  },
  {
   "cell_type": "code",
   "execution_count": null,
   "metadata": {},
   "outputs": [],
   "source": [
    "print(\"abc\"+\"def\")"
   ]
  },
  {
   "cell_type": "markdown",
   "metadata": {},
   "source": [
    "Écrire un script qui affiche le motif ci-dessous :\n",
    "\n",
    "```python\n",
    "o\n",
    "oo\n",
    "ooo\n",
    "oooo\n",
    "ooooo\n",
    "oooooo\n",
    "ooooooo\n",
    "oooooooo\n",
    "ooooooooo\n",
    "oooooooooo\n",
    "```"
   ]
  },
  {
   "cell_type": "code",
   "execution_count": null,
   "metadata": {},
   "outputs": [],
   "source": []
  },
  {
   "cell_type": "markdown",
   "metadata": {},
   "source": [
    "**Exercice 6 (for):**  \n",
    "Écrire un script qui affiche le motif ci-dessous :\n",
    "    \n",
    "```python\n",
    "ooooooooo\n",
    "oooooooo\n",
    "ooooooo\n",
    "oooooo\n",
    "ooooo\n",
    "oooo\n",
    "ooo\n",
    "oo\n",
    "o\n",
    "```"
   ]
  },
  {
   "cell_type": "code",
   "execution_count": null,
   "metadata": {},
   "outputs": [],
   "source": []
  },
  {
   "cell_type": "markdown",
   "metadata": {},
   "source": [
    "**Exercice 7 (for):**  \n",
    "\n",
    "Écrire un script qui affiche le motif ci-dessous :\n",
    "    \n",
    "```python\n",
    "         o\n",
    "        oo\n",
    "       ooo\n",
    "      oooo\n",
    "     ooooo\n",
    "    oooooo\n",
    "   ooooooo\n",
    "  oooooooo\n",
    " ooooooooo\n",
    "oooooooooo\n",
    "```"
   ]
  },
  {
   "cell_type": "code",
   "execution_count": null,
   "metadata": {},
   "outputs": [],
   "source": []
  },
  {
   "cell_type": "markdown",
   "metadata": {},
   "source": [
    "**Exercice 8 (for):**  (difficile)\n",
    "\n",
    "Écrire un script qui affiche le motif ci-dessous :\n",
    "    \n",
    "```python\n",
    "     o     \n",
    "    ooo    \n",
    "   ooooo   \n",
    "  ooooooo  \n",
    " ooooooooo \n",
    "ooooooooooo\n",
    "```"
   ]
  },
  {
   "cell_type": "code",
   "execution_count": null,
   "metadata": {},
   "outputs": [],
   "source": []
  },
  {
   "cell_type": "markdown",
   "metadata": {},
   "source": [
    "**Exercice 9 (for):**  (difficile)\n",
    "\n",
    "Écrire un script qui affiche le motif ci-dessous :\n",
    "    \n",
    "```python\n",
    "     o     \n",
    "    ooo    \n",
    "   ooooo   \n",
    "  ooooooo  \n",
    " ooooooooo \n",
    "ooooooooooo\n",
    " ooooooooo \n",
    "  ooooooo  \n",
    "   ooooo   \n",
    "    ooo    \n",
    "     o\n",
    "```"
   ]
  },
  {
   "cell_type": "code",
   "execution_count": null,
   "metadata": {},
   "outputs": [],
   "source": []
  },
  {
   "cell_type": "markdown",
   "metadata": {},
   "source": [
    "**Exercice 10 (for):**  \n",
    "    \n",
    "Un jeu à deux joueurs.\n",
    "\n",
    "- Le joueur 1 et le joueur 2 lancent chacun un dé (dé classique , équilibré, à six faces).\n",
    "- Le joueur qui obtient une valeur strictement supérieure à celle obtenue par l'autre joueur gagne. En cas d'égalité, la partie est nulle.\n",
    "\n",
    "a) Écrire une fonction **`lance_2de()`** en Python qui simule le lancer de deux dé et renvoie \n",
    "- 1 si le joueur 1 gagne,\n",
    "- 2  si le joueur 2 gagne\n",
    "- 0 en cas de match nulle."
   ]
  },
  {
   "cell_type": "code",
   "execution_count": null,
   "metadata": {},
   "outputs": [],
   "source": []
  },
  {
   "cell_type": "markdown",
   "metadata": {},
   "source": [
    "b) Écrire une fonction **`frequence(n)`** en Python qui renvoie la fréquence de parties gagnées par le joueur 1 lors de $n$ parties."
   ]
  },
  {
   "cell_type": "code",
   "execution_count": null,
   "metadata": {},
   "outputs": [],
   "source": []
  },
  {
   "cell_type": "markdown",
   "metadata": {},
   "source": [
    "Observer les valeurs obtenues pour la fréquence de parties gagnées par le joueur 1 pour de grandes valeurs de $n$.  \n",
    "Expliquez ces valeurs."
   ]
  },
  {
   "cell_type": "code",
   "execution_count": null,
   "metadata": {},
   "outputs": [],
   "source": []
  },
  {
   "cell_type": "markdown",
   "metadata": {},
   "source": [
    "**Exercice 11 (for):** Paradoxe du duc de Toscane\n",
    "\n",
    "À la cour de Florence, le Duc de Toscane, qui avait sans doute observé un grand nombre de lancers de 3 dés (équilibrés, 6 faces), avait constaté que la somme 10 était obtenue légèrement plus souvent que la somme 9 (en ajoutant les faces supérieures des trois dés) ce qu’il trouvait paradoxal puisqu’il existe six façons d’écrire 10 ou 9 comme sommes de trois entiers entre 1 et 6 :  \n",
    "- 10=6+3+1=6+2+2=5+4+1=5+3+2=4+4+2=4+4+3\n",
    "- 9=6+2+1=5+3+1=5+2+2=4+4+1=4+3+2=3+3+3\n",
    "\n",
    "0n trouve quatre décompositions en trois entiers distincts pour 10 et 9 mais deux décompositions .\n",
    "\n",
    "1. Écrire un script qui détermine les probabilités d'obtenir 10 ou 9 lorsqu'on lance trois dés (équilibrés, 6 faces) et qu'on calcule la somme des faces supérieures.\n",
    "2. Qu'auriez-vous répondu au duc de Toscane pour résoudre son paradoxe ? "
   ]
  },
  {
   "cell_type": "code",
   "execution_count": null,
   "metadata": {},
   "outputs": [],
   "source": []
  },
  {
   "cell_type": "markdown",
   "metadata": {},
   "source": [
    "###  La boucle while\n",
    "\n",
    "La seconde structure de boucle est le *<< tant que >>* : tant qu'une condition est vraie, on boucle.  \n",
    "**Attention** : dans ce type de boucle on utilise une variable de boucle dont la valeur doit changer pour pouvoir sortir de la boucle :"
   ]
  },
  {
   "cell_type": "code",
   "execution_count": null,
   "metadata": {},
   "outputs": [],
   "source": [
    "i=0\n",
    "while i<4:\n",
    "    print(i)\n",
    "    i=i+1"
   ]
  },
  {
   "cell_type": "code",
   "execution_count": null,
   "metadata": {},
   "outputs": [],
   "source": [
    "i=0\n",
    "while i<4:\n",
    "    i=i+1\n",
    "    print(i)"
   ]
  },
  {
   "cell_type": "markdown",
   "metadata": {},
   "source": [
    "**Exercice 1 (while):**\n",
    "\n",
    "- ***Ce que doit faire votre programme :***  \n",
    "Votre programme devra lire une suite d'entiers positifs et afficher leur somme. On ne sait pas combien il y aura d'entiers, mais la suite se termine toujours par la valeur -1 (qui n'est pas une dépense, juste un marqueur de fin).\n",
    "- ***Exemples:***\n",
    "\n",
    "\n",
    "<table style=\"border:1px solid black;\">\n",
    "<tr style=\"border:1px solid black;\"><th>Variables:</th><th>i, somme</th><th></th><th>i, somme</th></tr>\n",
    "<tr><td>Entrée:</td><td>1; 2; 5; -1</td><td></td><td>-1</td></tr>\n",
    "<tr><td>Sortie:</td><td>8</td><td></td><td>0</td></tr>\n",
    "</table>"
   ]
  },
  {
   "cell_type": "code",
   "execution_count": null,
   "metadata": {},
   "outputs": [],
   "source": []
  },
  {
   "cell_type": "markdown",
   "metadata": {},
   "source": [
    "**Exercice 2 (while):** Le nombre mystère\n",
    "\n",
    "- ***Ce que doit faire votre programme :***  \n",
    "Votre programme doit donner un nombre au hasard entre 1 et 99.  \n",
    "Il faudra proposer des nombres pour trouver ce nombre mystère et  afficher à chaque proposition de nombre le texte ***<< c'est plus >>*** lorsque le nombre proposé est trop petit  ou ***<< c'est moins >>*** lorsque le nombre proposé est trop grand.  \n",
    "À la fin, il faudra afficher le texte << Bravo vous avez gagné >> et le nombre d'essais qui ont été nécessaires.\n",
    "- ***Exemples***  \n",
    "\n",
    "<table style=\"border:1px solid black;\">\n",
    "<tr style=\"border:1px solid black;\"><th>Variables:</th><th>nb_coups, mystere, essai</th></tr>\n",
    "<tr><td>Entrée:</td><td>8; 45; 43; 44 </td></tr>\n",
    "<tr><td>Sortie:</td><td>c'est plus<br />c'est moins<br />c'est plus<br />Bravo vous avez gagné en 4 essais.<td></tr>\n",
    "</table>\n",
    "\n",
    "Pour donner un nombre au hasard entre 1 et 100 on utilisera:\n",
    " \n",
    "```python\n",
    "import random\n",
    "mystere=random.randint(1,100)\n",
    "```"
   ]
  },
  {
   "cell_type": "code",
   "execution_count": 18,
   "metadata": {},
   "outputs": [],
   "source": [
    "import random\n",
    "mystere=random.randint(1,100)\n"
   ]
  },
  {
   "cell_type": "markdown",
   "metadata": {},
   "source": [
    "**Exercice 3 (while):**  Mercato  \n",
    "\n",
    "C’est le mercato et un attaquant est convoité par deux clubs F et G qui lui proposent le même salaire mensuel mais des systèmes différents pour les primes par but marqué :\n",
    "\n",
    "- Le club **F** lui propose une prime de 8 000 euros par but marqué pour les dix premiers buts marqués puis de 11 300 euros par but marqué à partir du onzième but.\n",
    "- Le club **G** lui propose une prime de 10 000 euros par but marqué quel que soit le nombre de buts inscrits.\n",
    "\n",
    "\n",
    "1. Écrire des fonctions `F(n)` et `G(n)` qui retournent respectivement les montants des primes offertes par les clubs **F** et **G** en fonction du nombre n de buts marqués.\n",
    "2. Si l'attaquant inscrit 12 buts lors de la prochaine saison, dans quel club touchera-t-il la prime la plus importante ? Justifier la réponse.\n",
    "3. Écrire un script qui détermine le nombre de buts que doit marquer l’attaquant pour que le montant de la prime offerte par le club F soit la plus intéressante.\n"
   ]
  },
  {
   "cell_type": "code",
   "execution_count": null,
   "metadata": {},
   "outputs": [],
   "source": []
  },
  {
   "cell_type": "markdown",
   "metadata": {},
   "source": [
    "**Exercice 4 (while):**  \n",
    "\n",
    "Écrire une fonction **`seuil_somme(p)`** qui retourne le plus petit entier $n$ tel que \n",
    "\n",
    "$$1+2+3+...+n\\geqslant p$$"
   ]
  },
  {
   "cell_type": "code",
   "execution_count": null,
   "metadata": {},
   "outputs": [],
   "source": []
  },
  {
   "cell_type": "markdown",
   "metadata": {},
   "source": [
    "**Exercice 5 (while):**  \n",
    "    \n",
    "On lance un dé équilibré à six faces numérotées de 1 à 6.\n",
    "\n",
    "Le code Python ci-dessous permet d'afficher la face supérieure du dé lors de dix lancers successifs d'un dé à 6 faces. "
   ]
  },
  {
   "cell_type": "code",
   "execution_count": null,
   "metadata": {},
   "outputs": [],
   "source": [
    "from random import randint\n",
    "for i in range(10):\n",
    "    print(i)"
   ]
  },
  {
   "cell_type": "markdown",
   "metadata": {},
   "source": [
    "***a)*** $\\quad$ Écrire une fonction **`moyenneDe(n)`** qui retourne la valeur moyenne des faces obtenues sur un échantillon de $n$ lancers."
   ]
  },
  {
   "cell_type": "code",
   "execution_count": null,
   "metadata": {},
   "outputs": [],
   "source": [
    "def moyenneDe(n):\n",
    "    "
   ]
  },
  {
   "cell_type": "markdown",
   "metadata": {},
   "source": [
    "***b)*** $\\quad$ Écrire une fonction **`premier6()`** qui retourne le rang du premier 6 obtenu lorsqu'on lance successivement le dé."
   ]
  },
  {
   "cell_type": "code",
   "execution_count": null,
   "metadata": {},
   "outputs": [],
   "source": [
    "def premier6(n):"
   ]
  },
  {
   "cell_type": "markdown",
   "metadata": {},
   "source": [
    "***c)*** $\\quad$ Écrire un script qui utilise cette fonction 10000 fois et calcule le temps d'attente moyen du 6 pour cet échantillon de taille 1000."
   ]
  },
  {
   "cell_type": "code",
   "execution_count": null,
   "metadata": {},
   "outputs": [],
   "source": []
  }
 ],
 "metadata": {
  "kernelspec": {
   "display_name": "Python 3",
   "language": "python",
   "name": "python3"
  },
  "language_info": {
   "codemirror_mode": {
    "name": "ipython",
    "version": 3
   },
   "file_extension": ".py",
   "mimetype": "text/x-python",
   "name": "python",
   "nbconvert_exporter": "python",
   "pygments_lexer": "ipython3",
   "version": "3.6.7"
  },
  "latex_envs": {
   "LaTeX_envs_menu_present": true,
   "autocomplete": true,
   "bibliofile": "biblio.bib",
   "cite_by": "apalike",
   "current_citInitial": 1,
   "eqLabelWithNumbers": true,
   "eqNumInitial": 1,
   "hotkeys": {
    "equation": "Ctrl-E",
    "itemize": "Ctrl-I"
   },
   "labels_anchors": false,
   "latex_user_defs": false,
   "report_style_numbering": false,
   "user_envs_cfg": false
  },
  "toc": {
   "colors": {
    "hover_highlight": "#DAA520",
    "navigate_num": "#000000",
    "navigate_text": "#333333",
    "running_highlight": "#FF0000",
    "selected_highlight": "#FFD700",
    "sidebar_border": "#EEEEEE",
    "wrapper_background": "#FFFFFF"
   },
   "moveMenuLeft": true,
   "nav_menu": {
    "height": "512px",
    "width": "252px"
   },
   "navigate_menu": true,
   "number_sections": true,
   "sideBar": false,
   "threshold": 4,
   "toc_cell": false,
   "toc_position": {
    "height": "350px",
    "left": "1px",
    "right": "1475px",
    "top": "107px",
    "width": "302px"
   },
   "toc_section_display": "block",
   "toc_window_display": false,
   "widenNotebook": false
  }
 },
 "nbformat": 4,
 "nbformat_minor": 1
}
