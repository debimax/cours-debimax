{
 "metadata": {
  "name": "",
  "signature": "sha256:4a66d109a3096defd8743ee38211bff8b426576cafccb99b53e36c2799c7d5e5"
 },
 "nbformat": 3,
 "nbformat_minor": 0,
 "worksheets": [
  {
   "cells": [
    {
     "cell_type": "markdown",
     "metadata": {},
     "source": [
      "# <center>Le slicing et les structures de liste</center> # \n",
      "---\n",
      "\n",
      "## 2.1 la cha\u00eene de caract\u00e8res.\n",
      "\n",
      "Une cha\u00eene de caract\u00e8res est une liste particuli\u00e8re ne contenant que des caract\u00e8res.  \n",
      "Comme pour une liste, on peut acc\u00e9der \u00e0 ses \u00e9l\u00e9ments (les caract\u00e8res) en sp\u00e9cifiant un indice :"
     ]
    },
    {
     "cell_type": "code",
     "collapsed": false,
     "input": [
      "chaine= \"Lyc\u00e9e Pablo Neruda\"\n",
      "chaine[0]"
     ],
     "language": "python",
     "metadata": {},
     "outputs": [
      {
       "metadata": {},
       "output_type": "pyout",
       "prompt_number": 127,
       "text": [
        "'L'"
       ]
      }
     ],
     "prompt_number": 127
    },
    {
     "cell_type": "markdown",
     "metadata": {},
     "source": [
      "Par contre, il est impossible de modifier une cha\u00eene de caract\u00e8res ! On dit alors qu'il s'agit d'une liste\n",
      "non modifiable :"
     ]
    },
    {
     "cell_type": "code",
     "collapsed": false,
     "input": [
      "chaine[1]= \"a\""
     ],
     "language": "python",
     "metadata": {},
     "outputs": [
      {
       "ename": "TypeError",
       "evalue": "'str' object does not support item assignment",
       "output_type": "pyerr",
       "traceback": [
        "\u001b[0;31m---------------------------------------------------------------------------\u001b[0m\n\u001b[0;31mTypeError\u001b[0m                                 Traceback (most recent call last)",
        "\u001b[0;32m<ipython-input-128-9227b6c9858e>\u001b[0m in \u001b[0;36m<module>\u001b[0;34m()\u001b[0m\n\u001b[0;32m----> 1\u001b[0;31m \u001b[0mchaine\u001b[0m\u001b[0;34m[\u001b[0m\u001b[0;36m1\u001b[0m\u001b[0;34m]\u001b[0m\u001b[0;34m=\u001b[0m \u001b[0;34m\"a\"\u001b[0m\u001b[0;34m\u001b[0m\u001b[0m\n\u001b[0m",
        "\u001b[0;31mTypeError\u001b[0m: 'str' object does not support item assignment"
       ]
      }
     ],
     "prompt_number": 128
    },
    {
     "cell_type": "markdown",
     "metadata": {},
     "source": [
      "Si vous d\u00e9cidiez de lui ajouter des caract\u00e8res en fin de cha\u00eene \u00e0 l'aide d'une concat\u00e9nation du type\n",
      "suivant :"
     ]
    },
    {
     "cell_type": "code",
     "collapsed": false,
     "input": [
      "chaine=chaine+\"!\"\n",
      "chaine"
     ],
     "language": "python",
     "metadata": {},
     "outputs": [
      {
       "metadata": {},
       "output_type": "pyout",
       "prompt_number": 12,
       "text": [
        "'Lyc\u00e9e Pablo Neruda!!'"
       ]
      }
     ],
     "prompt_number": 12
    },
    {
     "cell_type": "markdown",
     "metadata": {},
     "source": [
      "En fait, ici, nous r\u00e9alisons une nouvelle affectation : la variable chaine est \u00e9cras\u00e9e (effac\u00e9e puis remplac\u00e9e) par la valeur chaine+' !'. Il ne s'agit pas d'une modification au sens propre du terme.  \n",
      "\n",
      "Les cha\u00eenes de caract\u00e8res admettent une \u00e9criture particuli\u00e8re appel\u00e9e << _formatage_ >>.   \n",
      "Le formatage consiste \u00e0 \u00e9crire une cha\u00eene de caract\u00e8res en y ins\u00e9rant des variables dont nous donnerons la valeur par la suite. On peut voir ce m\u00e9canisme comme dans un texte \u00e0 trous pour lequel la r\u00e9ponse serait donn\u00e9e a posteriori.  \n",
      "\n",
      "On utilisera les expressions de formatage issues du C :\n",
      "  - %d pour d\u00e9signer un entier :  \n",
      "  - %f pour un flottant ;  \n",
      "  - %s pour une cha\u00eene de caract\u00e8res (string) ;  \n",
      "  - %.4f pour forcer l'affichage de 4 chiffres apr\u00e8s la virgule ;\n",
      "  - %02d pour forcer l'affichage d'un entier sur deux caract\u00e8res ;\n",
      "  - etc ...  \n",
      "  \n",
      "Avec Python3, le formatage est r\u00e9alis\u00e9 par la m\u00e9thode format qui s'applique \u00e0 une cha\u00eene de caract\u00e8res.  \n",
      "Les indications de formatage sont donn\u00e9es avec des accolades {}. Il est possible d'utiliser les expressions vues pr\u00e9c\u00e9demment en utilisant le caract\u00e8re :."
     ]
    },
    {
     "cell_type": "code",
     "collapsed": false,
     "input": [
      " a=2\n",
      " b=3\n",
      " \"{}*{}={}\".format(a,b,a*b)"
     ],
     "language": "python",
     "metadata": {},
     "outputs": [
      {
       "metadata": {},
       "output_type": "pyout",
       "prompt_number": 14,
       "text": [
        "'2*3=6'"
       ]
      }
     ],
     "prompt_number": 14
    },
    {
     "cell_type": "code",
     "collapsed": false,
     "input": [
      "\"{0}*{1}={2} et {0}+{1}={3}\".format(a,b,a*b,a+b)"
     ],
     "language": "python",
     "metadata": {},
     "outputs": [
      {
       "metadata": {},
       "output_type": "pyout",
       "prompt_number": 16,
       "text": [
        "'2*3=6 et 2+3=5'"
       ]
      }
     ],
     "prompt_number": 16
    },
    {
     "cell_type": "code",
     "collapsed": false,
     "input": [
      "chaine=\"un entier sur deux chiffres: {:02d}\"\n",
      "chaine.format(6)"
     ],
     "language": "python",
     "metadata": {},
     "outputs": [
      {
       "metadata": {},
       "output_type": "pyout",
       "prompt_number": 19,
       "text": [
        "'un entier sur deux chiffres: 06'"
       ]
      }
     ],
     "prompt_number": 19
    },
    {
     "cell_type": "markdown",
     "metadata": {},
     "source": [
      "## 2.2 Les sp\u00e9cificit\u00e9s des tuples\n",
      "\n",
      "Les tuples sont \u00e9galement des listes non modifiables (les cha\u00eenes de caract\u00e8res sont donc en fait des tuples particuliers) :"
     ]
    },
    {
     "cell_type": "code",
     "collapsed": false,
     "input": [
      "t=(1,2,3)\n",
      "t[0]"
     ],
     "language": "python",
     "metadata": {},
     "outputs": [
      {
       "metadata": {},
       "output_type": "pyout",
       "prompt_number": 21,
       "text": [
        "1"
       ]
      }
     ],
     "prompt_number": 21
    },
    {
     "cell_type": "code",
     "collapsed": false,
     "input": [
      "t[0]=0"
     ],
     "language": "python",
     "metadata": {},
     "outputs": [
      {
       "ename": "TypeError",
       "evalue": "'tuple' object does not support item assignment",
       "output_type": "pyerr",
       "traceback": [
        "\u001b[0;31m---------------------------------------------------------------------------\u001b[0m\n\u001b[0;31mTypeError\u001b[0m                                 Traceback (most recent call last)",
        "\u001b[0;32m<ipython-input-22-525eef5334c1>\u001b[0m in \u001b[0;36m<module>\u001b[0;34m()\u001b[0m\n\u001b[0;32m----> 1\u001b[0;31m \u001b[0mt\u001b[0m\u001b[0;34m[\u001b[0m\u001b[0;36m0\u001b[0m\u001b[0;34m]\u001b[0m\u001b[0;34m=\u001b[0m\u001b[0;36m0\u001b[0m\u001b[0;34m\u001b[0m\u001b[0m\n\u001b[0m",
        "\u001b[0;31mTypeError\u001b[0m: 'tuple' object does not support item assignment"
       ]
      }
     ],
     "prompt_number": 22
    },
    {
     "cell_type": "markdown",
     "metadata": {},
     "source": [
      "Attention de ne pas utiliser le mot-cl\u00e9 tuple comme nom de variable: \n",
      "ce dernier permet de cr\u00e9er un tuple de mani\u00e8re explicite. Il vous faudra utiliser en param\u00e8tre. . . une liste. Il permet donc d'effectuer une conversion :"
     ]
    },
    {
     "cell_type": "code",
     "collapsed": false,
     "input": [
      "l=[1,2,3]\n",
      "t=tuple(l)\n",
      "t"
     ],
     "language": "python",
     "metadata": {},
     "outputs": [
      {
       "metadata": {},
       "output_type": "pyout",
       "prompt_number": 24,
       "text": [
        "(1, 2, 3)"
       ]
      }
     ],
     "prompt_number": 24
    },
    {
     "cell_type": "code",
     "collapsed": false,
     "input": [
      "l"
     ],
     "language": "python",
     "metadata": {},
     "outputs": [
      {
       "metadata": {},
       "output_type": "pyout",
       "prompt_number": 25,
       "text": [
        "[1, 2, 3]"
       ]
      }
     ],
     "prompt_number": 25
    },
    {
     "cell_type": "code",
     "collapsed": false,
     "input": [
      "t=tuple('1234')\n",
      "t"
     ],
     "language": "python",
     "metadata": {},
     "outputs": [
      {
       "metadata": {},
       "output_type": "pyout",
       "prompt_number": 27,
       "text": [
        "('1', '2', '3', '4')"
       ]
      }
     ],
     "prompt_number": 27
    },
    {
     "cell_type": "markdown",
     "metadata": {},
     "source": [
      "Tout comme avec les cha\u00eenes, il sera possible de concat\u00e9ner des tuples et avoir la sensation d'avoir modifi\u00e9 un tuple alors que nous aurons simplement r\u00e9affect\u00e9 une variable :"
     ]
    },
    {
     "cell_type": "code",
     "collapsed": false,
     "input": [
      "t=(1,2,3)\n",
      "t=t+(4,5,6)\n",
      "t"
     ],
     "language": "python",
     "metadata": {},
     "outputs": [
      {
       "metadata": {},
       "output_type": "pyout",
       "prompt_number": 29,
       "text": [
        "(1, 2, 3, 4, 5, 6)"
       ]
      }
     ],
     "prompt_number": 29
    },
    {
     "cell_type": "markdown",
     "metadata": {},
     "source": [
      "Pour rappel, un tuple ne contenant qu'un seul \u00e9l\u00e9ment est not\u00e9 entre parenth\u00e8ses, mais avec une virgule pr\u00e9c\u00e9dant la derni\u00e8re parenth\u00e8se:  \n",
      "Quel peut \u00eatre l'int\u00e9r\u00eat d'utiliser ce type plut\u00f4t qu'une liste ?\n",
      "\n",
      "Tout d'abord, les donn\u00e9es ne peuvent pas \u00eatre modifi\u00e9es par erreur mais surtout, leur impl\u00e9mentation en machine fait qu'elles occupent moins d'espace m\u00e9moire et que leur traitement par l'interpr\u00e9teur est plus rapide que pour des valeurs identiques mais stock\u00e9es sous forme de listes.  \n",
      "\n",
      "De plus, de par leur aspect non modifiable, les valeurs contenues dans un tuple peuvent \u00eatre utilis\u00e9es en tant que cl\u00e9 pour acc\u00e9der \u00e0 une valeur dans un dictionnaire (alors que c'est beaucoup plus dangereux avec les valeurs contenues dans une liste) :\n"
     ]
    },
    {
     "cell_type": "code",
     "collapsed": false,
     "input": [
      "l=['cle1','cle2','cle3']\n",
      "t=('cle1','cle2','cle3')\n",
      "d={'cle1':1,'cle2':2,'cle3':3}\n",
      "d[l[0]]"
     ],
     "language": "python",
     "metadata": {},
     "outputs": [
      {
       "metadata": {},
       "output_type": "pyout",
       "prompt_number": 32,
       "text": [
        "1"
       ]
      }
     ],
     "prompt_number": 32
    },
    {
     "cell_type": "code",
     "collapsed": false,
     "input": [
      "l[0]= 'cle_modifiee'\n",
      "d[l[0]]"
     ],
     "language": "python",
     "metadata": {},
     "outputs": [
      {
       "ename": "KeyError",
       "evalue": "'cle_modifiee'",
       "output_type": "pyerr",
       "traceback": [
        "\u001b[0;31m---------------------------------------------------------------------------\u001b[0m\n\u001b[0;31mKeyError\u001b[0m                                  Traceback (most recent call last)",
        "\u001b[0;32m<ipython-input-36-889b3f38b977>\u001b[0m in \u001b[0;36m<module>\u001b[0;34m()\u001b[0m\n\u001b[1;32m      1\u001b[0m \u001b[0ml\u001b[0m\u001b[0;34m[\u001b[0m\u001b[0;36m0\u001b[0m\u001b[0;34m]\u001b[0m\u001b[0;34m=\u001b[0m \u001b[0;34m'cle_modifiee'\u001b[0m\u001b[0;34m\u001b[0m\u001b[0m\n\u001b[0;32m----> 2\u001b[0;31m \u001b[0md\u001b[0m\u001b[0;34m[\u001b[0m\u001b[0ml\u001b[0m\u001b[0;34m[\u001b[0m\u001b[0;36m0\u001b[0m\u001b[0;34m]\u001b[0m\u001b[0;34m]\u001b[0m\u001b[0;34m\u001b[0m\u001b[0m\n\u001b[0m",
        "\u001b[0;31mKeyError\u001b[0m: 'cle_modifiee'"
       ]
      }
     ],
     "prompt_number": 36
    },
    {
     "cell_type": "markdown",
     "metadata": {},
     "source": [
      "## 2.3 Les sp\u00e9cificit\u00e9s des listes\n",
      "\n",
      "Nous avons vu que les listes \u00e9taient des \u00e9l\u00e9ments modifiables pouvant contenir diff\u00e9rents types de donn\u00e9es.  \n",
      "Il est bien s\u00fbr possible de modifier les \u00e9l\u00e9ments d'une liste:"
     ]
    },
    {
     "cell_type": "code",
     "collapsed": false,
     "input": [
      "l=[1,2,3,4]\n",
      "l"
     ],
     "language": "python",
     "metadata": {},
     "outputs": [
      {
       "metadata": {},
       "output_type": "pyout",
       "prompt_number": 40,
       "text": [
        "[1, 2, 3, 4]"
       ]
      }
     ],
     "prompt_number": 40
    },
    {
     "cell_type": "code",
     "collapsed": false,
     "input": [
      "l[0]=0\n",
      "l"
     ],
     "language": "python",
     "metadata": {},
     "outputs": [
      {
       "metadata": {},
       "output_type": "pyout",
       "prompt_number": 44,
       "text": [
        "[0, 2, 3, 4, 5, 5]"
       ]
      }
     ],
     "prompt_number": 44
    },
    {
     "cell_type": "markdown",
     "metadata": {},
     "source": [
      "Plusieurs **m\u00e9thodes** peuvent \u00eatre employ\u00e9es pour ajouter des \u00e9l\u00e9ments a une liste existante (sans r\u00e9affectation). La m\u00e9thode **_append()_** ajoute un \u00e9l\u00e9ment en fin de liste et la m\u00e9thode **_insert()_** permet de sp\u00e9cifier l'indice o\u00f9 ins\u00e9rer un \u00e9l\u00e9ment :"
     ]
    },
    {
     "cell_type": "code",
     "collapsed": false,
     "input": [
      "l.append(5)\n",
      "l"
     ],
     "language": "python",
     "metadata": {},
     "outputs": [
      {
       "metadata": {},
       "output_type": "pyout",
       "prompt_number": 43,
       "text": [
        "[0, 2, 3, 4, 5, 5]"
       ]
      }
     ],
     "prompt_number": 43
    },
    {
     "cell_type": "code",
     "collapsed": false,
     "input": [
      "l.insert(1,1)\n",
      "l"
     ],
     "language": "python",
     "metadata": {},
     "outputs": [
      {
       "metadata": {},
       "output_type": "pyout",
       "prompt_number": 45,
       "text": [
        "[0, 1, 2, 3, 4, 5, 5]"
       ]
      }
     ],
     "prompt_number": 45
    },
    {
     "cell_type": "markdown",
     "metadata": {},
     "source": [
      "La m\u00e9thode **_extend()_** permet de r\u00e9aliser la concat\u00e9nation de deux listes sans r\u00e9affectation. Cette op\u00e9ration est r\u00e9alisable avec r\u00e9affectation en utilisant l'op\u00e9rateur **+** :"
     ]
    },
    {
     "cell_type": "code",
     "collapsed": false,
     "input": [
      "l1=[1,2,3]\n",
      "l2=[4,5,6]\n",
      "l1.extend(l2)\n",
      "l1"
     ],
     "language": "python",
     "metadata": {},
     "outputs": [
      {
       "metadata": {},
       "output_type": "pyout",
       "prompt_number": 46,
       "text": [
        "[1, 2, 3, 4, 5, 6]"
       ]
      }
     ],
     "prompt_number": 46
    },
    {
     "cell_type": "code",
     "collapsed": false,
     "input": [
      "l1=[1,2,3]\n",
      "l1=l1+l2  #On peur remplacer par l1+=l2\n",
      "l1"
     ],
     "language": "python",
     "metadata": {},
     "outputs": [
      {
       "metadata": {},
       "output_type": "pyout",
       "prompt_number": 51,
       "text": [
        "[1, 2, 3, 4, 5, 6]"
       ]
      }
     ],
     "prompt_number": 51
    },
    {
     "cell_type": "markdown",
     "metadata": {},
     "source": [
      "Pour supprimer un \u00e9l\u00e9ment, on peut utiliser la m\u00e9thode **_remove()_** qui supprime la premi\u00e8re occurrence de la valeur pass\u00e9e en param\u00e8tre ou la commande **_del_** qui supprime un \u00e9l\u00e9ment pr\u00e9cis en fonction de son indice :"
     ]
    },
    {
     "cell_type": "code",
     "collapsed": false,
     "input": [
      "l=[1,2,3,1]\n",
      "l.remove(1)\n",
      "l"
     ],
     "language": "python",
     "metadata": {},
     "outputs": [
      {
       "metadata": {},
       "output_type": "pyout",
       "prompt_number": 52,
       "text": [
        "[2, 3, 1]"
       ]
      }
     ],
     "prompt_number": 52
    },
    {
     "cell_type": "code",
     "collapsed": false,
     "input": [
      "l.remove(1)\n",
      "l"
     ],
     "language": "python",
     "metadata": {},
     "outputs": [
      {
       "metadata": {},
       "output_type": "pyout",
       "prompt_number": 53,
       "text": [
        "[2, 3]"
       ]
      }
     ],
     "prompt_number": 53
    },
    {
     "cell_type": "code",
     "collapsed": false,
     "input": [
      "l.remove(1)"
     ],
     "language": "python",
     "metadata": {},
     "outputs": [
      {
       "ename": "ValueError",
       "evalue": "list.remove(x): x not in list",
       "output_type": "pyerr",
       "traceback": [
        "\u001b[0;31m---------------------------------------------------------------------------\u001b[0m\n\u001b[0;31mValueError\u001b[0m                                Traceback (most recent call last)",
        "\u001b[0;32m<ipython-input-55-ce3fdfde5d67>\u001b[0m in \u001b[0;36m<module>\u001b[0;34m()\u001b[0m\n\u001b[0;32m----> 1\u001b[0;31m \u001b[0ml\u001b[0m\u001b[0;34m.\u001b[0m\u001b[0mremove\u001b[0m\u001b[0;34m(\u001b[0m\u001b[0;36m1\u001b[0m\u001b[0;34m)\u001b[0m\u001b[0;34m\u001b[0m\u001b[0m\n\u001b[0m",
        "\u001b[0;31mValueError\u001b[0m: list.remove(x): x not in list"
       ]
      }
     ],
     "prompt_number": 55
    },
    {
     "cell_type": "code",
     "collapsed": false,
     "input": [
      "l=[1,2,3,1]\n",
      "del l[3]\n",
      "l"
     ],
     "language": "python",
     "metadata": {},
     "outputs": [
      {
       "metadata": {},
       "output_type": "pyout",
       "prompt_number": 57,
       "text": [
        "[1, 2, 3]"
       ]
      }
     ],
     "prompt_number": 57
    },
    {
     "cell_type": "markdown",
     "metadata": {},
     "source": [
      "Pour savoir si un \u00e9l\u00e9ment appartient bien \u00e0 une liste on utilise le mot-cl\u00e9 **_in_**. Si l'\u00e9l\u00e9ment test\u00e9 est dans la liste, la valeur retourn\u00e9e sera **_True_** et sinon ce sera **_False_**:"
     ]
    },
    {
     "cell_type": "code",
     "collapsed": false,
     "input": [
      "distrib = ['debian','ubuntu','fedora']\n",
      "'debian' in distrib"
     ],
     "language": "python",
     "metadata": {},
     "outputs": [
      {
       "metadata": {},
       "output_type": "pyout",
       "prompt_number": 58,
       "text": [
        "True"
       ]
      }
     ],
     "prompt_number": 58
    },
    {
     "cell_type": "code",
     "collapsed": false,
     "input": [
      "'mandriva' in distrib"
     ],
     "language": "python",
     "metadata": {},
     "outputs": [
      {
       "metadata": {},
       "output_type": "pyout",
       "prompt_number": 59,
       "text": [
        "False"
       ]
      }
     ],
     "prompt_number": 59
    },
    {
     "cell_type": "markdown",
     "metadata": {},
     "source": [
      "Il est \u00e9galement possible d'obtenir l'indice de la premi\u00e8re occurrence d'un \u00e9l\u00e9ment par la m\u00e9thode **_index()_**:"
     ]
    },
    {
     "cell_type": "code",
     "collapsed": false,
     "input": [
      "distrib.index('ubuntu')"
     ],
     "language": "python",
     "metadata": {},
     "outputs": [
      {
       "metadata": {},
       "output_type": "pyout",
       "prompt_number": 60,
       "text": [
        "1"
       ]
      }
     ],
     "prompt_number": 60
    },
    {
     "cell_type": "markdown",
     "metadata": {},
     "source": [
      "Pour conna\u00eetre la taille d'une liste (nombre d'\u00e9l\u00e9ments qu'elle contient), on pourra utiliser la fonction **_len()_**:\n",
      "\n",
      "Mais attention : cette fonction ne compte que les \u00e9l\u00e9ments de _<< premier niveau >>_ ! Si vous avez une structure de liste complexe contenant des sous-listes, chaque sous-liste ne comptera que comme un seul \u00e9l\u00e9ment:"
     ]
    },
    {
     "cell_type": "code",
     "collapsed": false,
     "input": [
      "l=[1,2,['a','b',['000','001','010']]]\n",
      "len(l)"
     ],
     "language": "python",
     "metadata": {},
     "outputs": [
      {
       "metadata": {},
       "output_type": "pyout",
       "prompt_number": 61,
       "text": [
        "3"
       ]
      }
     ],
     "prompt_number": 61
    },
    {
     "cell_type": "markdown",
     "metadata": {},
     "source": [
      "Ce probl\u00e8me du d\u00e9compte des sous-listes nous am\u00e8nera \u00e0 un autre probl\u00e8me : celui de la copie des listes que nous aborderons apr\u00e8s le slicing.  \n",
      "l'acc\u00e8s aux \u00e9l\u00e9ments d'une sous liste s'effectue en sp\u00e9cifiant l'indice de la sous-liste suivi de l'indice de l'\u00e9l\u00e9ment souhait\u00e9 dans la sous-liste, etc. En reprenant la liste utilis\u00e9e dans l'exemple pr\u00e9c\u00e9dent :\n"
     ]
    },
    {
     "cell_type": "code",
     "collapsed": false,
     "input": [
      "l=[1,2,['a','b',['000','001','010']]]\n",
      "len(l)"
     ],
     "language": "python",
     "metadata": {},
     "outputs": [
      {
       "metadata": {},
       "output_type": "pyout",
       "prompt_number": 62,
       "text": [
        "3"
       ]
      }
     ],
     "prompt_number": 62
    },
    {
     "cell_type": "code",
     "collapsed": false,
     "input": [
      "l[0]"
     ],
     "language": "python",
     "metadata": {},
     "outputs": [
      {
       "metadata": {},
       "output_type": "pyout",
       "prompt_number": 63,
       "text": [
        "1"
       ]
      }
     ],
     "prompt_number": 63
    },
    {
     "cell_type": "code",
     "collapsed": false,
     "input": [
      "l[2]"
     ],
     "language": "python",
     "metadata": {},
     "outputs": [
      {
       "metadata": {},
       "output_type": "pyout",
       "prompt_number": 64,
       "text": [
        "['a', 'b', ['000', '001', '010']]"
       ]
      }
     ],
     "prompt_number": 64
    },
    {
     "cell_type": "code",
     "collapsed": false,
     "input": [
      "l[2][0]"
     ],
     "language": "python",
     "metadata": {},
     "outputs": [
      {
       "metadata": {},
       "output_type": "pyout",
       "prompt_number": 65,
       "text": [
        "'a'"
       ]
      }
     ],
     "prompt_number": 65
    },
    {
     "cell_type": "code",
     "collapsed": false,
     "input": [
      "l[2][2]"
     ],
     "language": "python",
     "metadata": {},
     "outputs": [
      {
       "metadata": {},
       "output_type": "pyout",
       "prompt_number": 66,
       "text": [
        "['000', '001', '010']"
       ]
      }
     ],
     "prompt_number": 66
    },
    {
     "cell_type": "code",
     "collapsed": false,
     "input": [
      "l[2][2][1]"
     ],
     "language": "python",
     "metadata": {},
     "outputs": [
      {
       "metadata": {},
       "output_type": "pyout",
       "prompt_number": 67,
       "text": [
        "'001'"
       ]
      }
     ],
     "prompt_number": 67
    },
    {
     "cell_type": "markdown",
     "metadata": {},
     "source": [
      "Pour compl\u00e9ter cet approfondissement sur les listes, sachez que Python impl\u00e9mente un m\u00e9canisme appel\u00e9 << **_compr\u00e9hension de listes_** >>, permettant d'utiliser une fonction qui sera appliqu\u00e9e sur chacun des \u00e9l\u00e9ments d'une liste. Voici un exemple :"
     ]
    },
    {
     "cell_type": "code",
     "collapsed": false,
     "input": [
      "l=[0,1,2,3,4,5]\n",
      "carre=[x**2 for x in l]\n",
      "carre"
     ],
     "language": "python",
     "metadata": {},
     "outputs": [
      {
       "metadata": {},
       "output_type": "pyout",
       "prompt_number": 68,
       "text": [
        "[0, 1, 4, 9, 16, 25]"
       ]
      }
     ],
     "prompt_number": 68
    },
    {
     "cell_type": "markdown",
     "metadata": {},
     "source": [
      "\u00c0 l'aide de l'instruction _for x in l_, on r\u00e9cup\u00e8re un \u00e0 un les \u00e9l\u00e9ments contenus dans la liste _l_ et on les place dans la variable _x_.  \n",
      "On \u00e9l\u00e8ve ensuite chacune des valeurs au carr\u00e9 (x\\*\\*2 ) dans un contexte de liste, ce qui produit une nouvelle liste. Ce m\u00e9canisme peut produire des r\u00e9sultats plus complexes.  \n",
      "Il peut \u00e9galement \u00eatre utilis\u00e9 avec les dictionnaires.\n",
      "\n",
      "## 2.4 Les sp\u00e9cificit\u00e9s des dictionnaires\n",
      "Comme nous l'avons vu, les dictionnaires sont des listes d'\u00e9l\u00e9ments indic\u00e9s par des cl\u00e9s.  \n",
      "Comme pour les listes, la commande **_del_** permet de supprimer un \u00e9l\u00e9ment et son mot cl\u00e9 , << **_in_** >> permet de v\u00e9rifier l'existence d'une cl\u00e9 :"
     ]
    },
    {
     "cell_type": "code",
     "collapsed": false,
     "input": [
      "d={'cle1':1, 'cle2':2, 'cle3':3}\n",
      "del d['cle2']\n",
      "d"
     ],
     "language": "python",
     "metadata": {},
     "outputs": [
      {
       "metadata": {},
       "output_type": "pyout",
       "prompt_number": 71,
       "text": [
        "{'cle3': 3, 'cle1': 1}"
       ]
      }
     ],
     "prompt_number": 71
    },
    {
     "cell_type": "code",
     "collapsed": false,
     "input": [
      "'cle1' in d"
     ],
     "language": "python",
     "metadata": {},
     "outputs": [
      {
       "metadata": {},
       "output_type": "pyout",
       "prompt_number": 72,
       "text": [
        "True"
       ]
      }
     ],
     "prompt_number": 72
    },
    {
     "cell_type": "code",
     "collapsed": false,
     "input": [
      "'cle2' in d"
     ],
     "language": "python",
     "metadata": {},
     "outputs": [
      {
       "metadata": {},
       "output_type": "pyout",
       "prompt_number": 73,
       "text": [
        "False"
       ]
      }
     ],
     "prompt_number": 73
    },
    {
     "cell_type": "markdown",
     "metadata": {},
     "source": [
      "Vous aurez pu remarquer lors de l'affichage du dictionnaire **_d_**, que les couples _cl\u00e9/valeur_ n'\u00e9taient pas affich\u00e9s dans l'ordre de cr\u00e9ation.  \n",
      "C'est tout \u00e0 fait normal car les dictionnaires ne sont pas ordonn\u00e9s !  \n",
      "Plusieurs m\u00e9thodes permettent de r\u00e9cup\u00e9rer des listes de cl\u00e9s, de valeurs et de couples _cl\u00e9/valeur_ :"
     ]
    },
    {
     "cell_type": "code",
     "collapsed": false,
     "input": [
      "courses ={'pommes':3, 'poires':5 , 'kiwis':7}\n",
      "courses.keys()"
     ],
     "language": "python",
     "metadata": {},
     "outputs": [
      {
       "metadata": {},
       "output_type": "pyout",
       "prompt_number": 74,
       "text": [
        "dict_keys(['kiwis', 'pommes', 'poires'])"
       ]
      }
     ],
     "prompt_number": 74
    },
    {
     "cell_type": "code",
     "collapsed": false,
     "input": [
      "courses.values()"
     ],
     "language": "python",
     "metadata": {},
     "outputs": [
      {
       "metadata": {},
       "output_type": "pyout",
       "prompt_number": 75,
       "text": [
        "dict_values([7, 3, 5])"
       ]
      }
     ],
     "prompt_number": 75
    },
    {
     "cell_type": "code",
     "collapsed": false,
     "input": [
      "courses.items()"
     ],
     "language": "python",
     "metadata": {},
     "outputs": [
      {
       "metadata": {},
       "output_type": "pyout",
       "prompt_number": 76,
       "text": [
        "dict_items([('kiwis', 7), ('pommes', 3), ('poires', 5)])"
       ]
      }
     ],
     "prompt_number": 76
    },
    {
     "cell_type": "markdown",
     "metadata": {},
     "source": [
      "Ces m\u00e9thodes renvoient **des objets it\u00e9rables**: ce ne sont pas des listes et ils ne consomment donc pas autant de place m\u00e9moire que pour stocker une liste, on ne stocke qu'un _pointeur_ vers l'\u00e9l\u00e9ment courant.  \n",
      "Avec ces structures vous pourrez toujours utiliser les boucles **_for_** classiques, par contre vous n'aurez plus un acc\u00e8s direct aux valeurs en sp\u00e9cifiant leur indice.\n",
      "\n",
      "Dans un dictionnaire, pour obtenir la valeur correspondant \u00e0 une cl\u00e9 on peut bien entendu utiliser la notation classique **_dictionnaire[cl\u00e9]_**, mais on peut aussi utiliser la m\u00e9thode **_get()_** qui renvoie la valeur associ\u00e9e a la cl\u00e9 pass\u00e9e en premier param\u00e8tre ou, si elle n'existe pas, la valeur pass\u00e9e en second param\u00e9tr\u00e9 :"
     ]
    },
    {
     "cell_type": "code",
     "collapsed": false,
     "input": [
      "courses ={ 'pommes':3, 'poires':5 , 'kiwis':7}\n",
      "courses.get( 'pommes' , 'stock epuise' )"
     ],
     "language": "python",
     "metadata": {},
     "outputs": [
      {
       "metadata": {},
       "output_type": "pyout",
       "prompt_number": 86,
       "text": [
        "3"
       ]
      }
     ],
     "prompt_number": 86
    },
    {
     "cell_type": "code",
     "collapsed": false,
     "input": [
      "courses.get('salades' , 'stock epuise')"
     ],
     "language": "python",
     "metadata": {},
     "outputs": [
      {
       "metadata": {},
       "output_type": "pyout",
       "prompt_number": 87,
       "text": [
        "'stock epuise'"
       ]
      }
     ],
     "prompt_number": 87
    },
    {
     "cell_type": "markdown",
     "metadata": {},
     "source": [
      "On peut fusionner deux dictionnaires avec la m\u00e9thode **_update()_** : Notez que si une cl\u00e9 existe d\u00e9j\u00e0, la valeur stock\u00e9e sera \u00e9cras\u00e9e:"
     ]
    },
    {
     "cell_type": "code",
     "collapsed": false,
     "input": [
      "courses ={ 'pommes':3, 'poires':5 , 'kiwis':7}\n",
      "courses2={ 'kiwis':3, 'salades':2}\n",
      "courses.update(courses2)\n",
      "courses"
     ],
     "language": "python",
     "metadata": {},
     "outputs": [
      {
       "metadata": {},
       "output_type": "pyout",
       "prompt_number": 88,
       "text": [
        "{'kiwis': 3, 'salades': 2, 'pommes': 3, 'poires': 5}"
       ]
      }
     ],
     "prompt_number": 88
    },
    {
     "cell_type": "markdown",
     "metadata": {},
     "source": [
      "## 2.5 Le slicing\n",
      "\n",
      "Le **_slicing_** est une m\u00e9thode applicable \u00e0 tous les objets de type liste ordonn\u00e9e (donc pas aux dictionnaires). ll s'agit d'un << d\u00e9coupage en tranches >> des \u00e9l\u00e9ments d'une liste de mani\u00e8re \u00e0 r\u00e9cup\u00e9rer des objets respectant cette d\u00e9coupe.\n",
      "\n",
      "Pour cela, nous devrons sp\u00e9cifier l'indice de l'\u00e9l\u00e9ment de d\u00e9part, l'indice de l'\u00e9l\u00e9ment d'arriv\u00e9e (qui ne sera pas compris dans la plage) et le pas de d\u00e9placement. Pour une variable v donn\u00e9e, l'\u00e9criture se fera en utilisant la notation entre crochets et en s\u00e9parant chacun des param\u00e8tres par le caract\u00e8re deux-points: **_v[d\u00e9but:fin:pas]_**. Cette \u00e9criture peut se traduire par : << les caract\u00e8res de la variable **_v_** depuis l'indice **_d\u00e9but_** jusqu'\u00e0 l'indice **_fin_** non compris avec un d\u00e9placement de **_pas_** caract\u00e8re(s) >>.  \n",
      "\n",
      "Pour bien comprendre le fonctionnement du slicing, nous commencerons par l'appliquer aux cha\u00eenes de caract\u00e8res avant de voir les listes et les tuples.\n",
      "\n",
      "### a)    Le slicing sur une cha\u00eene de carat\u00e8re\n",
      "\n",
      "Voici un premier exemple simple"
     ]
    },
    {
     "cell_type": "code",
     "collapsed": false,
     "input": [
      "c='Pablo Neruda'\n",
      "c[:5]"
     ],
     "language": "python",
     "metadata": {},
     "outputs": [
      {
       "metadata": {},
       "output_type": "pyout",
       "prompt_number": 90,
       "text": [
        "'Pablo'"
       ]
      }
     ],
     "prompt_number": 90
    },
    {
     "cell_type": "code",
     "collapsed": false,
     "input": [
      "c[6:12]"
     ],
     "language": "python",
     "metadata": {},
     "outputs": [
      {
       "metadata": {},
       "output_type": "pyout",
       "prompt_number": 93,
       "text": [
        "'Neruda'"
       ]
      }
     ],
     "prompt_number": 93
    },
    {
     "cell_type": "markdown",
     "metadata": {},
     "source": [
      "Vous avez remarque que dans ce code aucune indication de pas n'a \u00e9t\u00e9 donn\u00e9e : c'est la valeur par d\u00e9faut qui est alors utilis\u00e9e, c'est-a-dire **_1_**. De m\u00eame, si la valeur de d\u00e9but est omise, la valeur par d\u00e9faut utilis\u00e9e sera **_0_** et si la valeur de fin est omise, la valeur par d\u00e9faut utilis\u00e9e sera la _taille de la cha\u00eene+1_."
     ]
    },
    {
     "cell_type": "code",
     "collapsed": false,
     "input": [
      "c[:5] # \u00e9quivaut \u00e0 c[0:5], \u00e9quivaut \u00e0 c[0:5:1]"
     ],
     "language": "python",
     "metadata": {},
     "outputs": [
      {
       "metadata": {},
       "output_type": "pyout",
       "prompt_number": 95,
       "text": [
        "'Pablo'"
       ]
      }
     ],
     "prompt_number": 95
    },
    {
     "cell_type": "code",
     "collapsed": false,
     "input": [
      "c[6:] # \u00e9quivaut \u00e0 c[6:12], \u00e9quivaut \u00e0 c[6:12:1]"
     ],
     "language": "python",
     "metadata": {},
     "outputs": [
      {
       "metadata": {},
       "output_type": "pyout",
       "prompt_number": 96,
       "text": [
        "'Neruda'"
       ]
      }
     ],
     "prompt_number": 96
    },
    {
     "cell_type": "markdown",
     "metadata": {},
     "source": [
      "Du fait de ces valeurs par d\u00e9faut, que pensez vous que l'on s\u00e9lectionne en tapant: c[:] ou encore c[::]?  \n",
      "La cha\u00eene enti\u00e8re, bien s\u00fbr :"
     ]
    },
    {
     "cell_type": "code",
     "collapsed": false,
     "input": [
      "c[:]"
     ],
     "language": "python",
     "metadata": {},
     "outputs": [
      {
       "metadata": {},
       "output_type": "pyout",
       "prompt_number": 97,
       "text": [
        "'Pablo Neruda'"
       ]
      }
     ],
     "prompt_number": 97
    },
    {
     "cell_type": "markdown",
     "metadata": {},
     "source": [
      "Il devient alors tr\u00e8s simple d'inverser une cha\u00eene en utilisant le pas :"
     ]
    },
    {
     "cell_type": "code",
     "collapsed": false,
     "input": [
      "c[::-1]"
     ],
     "language": "python",
     "metadata": {},
     "outputs": [
      {
       "metadata": {},
       "output_type": "pyout",
       "prompt_number": 98,
       "text": [
        "'adureN olbaP'"
       ]
      }
     ],
     "prompt_number": 98
    },
    {
     "cell_type": "markdown",
     "metadata": {},
     "source": [
      "Une premi\u00e8re solution pour effectuer une copie peut \u00eatre d'utiliser le slicing.  \n",
      "En effet, l'op\u00e9ration [:] renvoie une nouvelle liste, ce qui r\u00e9sout le probl\u00e8me des pointeurs vers la m\u00eame zone m\u00e9moire, comme le montrent l'exemple suivant :"
     ]
    },
    {
     "cell_type": "code",
     "collapsed": false,
     "input": [
      "listea =[1, 2, 3]\n",
      "listeb =listea[:]\n",
      "listea"
     ],
     "language": "python",
     "metadata": {},
     "outputs": [
      {
       "metadata": {},
       "output_type": "pyout",
       "prompt_number": 99,
       "text": [
        "[1, 2, 3]"
       ]
      }
     ],
     "prompt_number": 99
    },
    {
     "cell_type": "code",
     "collapsed": false,
     "input": [
      "listeb"
     ],
     "language": "python",
     "metadata": {},
     "outputs": [
      {
       "metadata": {},
       "output_type": "pyout",
       "prompt_number": 100,
       "text": [
        "[1, 2, 3]"
       ]
      }
     ],
     "prompt_number": 100
    },
    {
     "cell_type": "code",
     "collapsed": false,
     "input": [
      "listeb[0]=0\n",
      "listeb"
     ],
     "language": "python",
     "metadata": {},
     "outputs": [
      {
       "metadata": {},
       "output_type": "pyout",
       "prompt_number": 102,
       "text": [
        "[0, 2, 3]"
       ]
      }
     ],
     "prompt_number": 102
    },
    {
     "cell_type": "code",
     "collapsed": false,
     "input": [
      "listea"
     ],
     "language": "python",
     "metadata": {},
     "outputs": [
      {
       "metadata": {},
       "output_type": "pyout",
       "prompt_number": 103,
       "text": [
        "[1, 2, 3]"
       ]
      }
     ],
     "prompt_number": 103
    },
    {
     "cell_type": "markdown",
     "metadata": {},
     "source": [
      "Cette copie peut para\u00eetre satisfaisante... et elle l'est, mais \u00e0 condition de ne manipuler que des listes de premier niveau ne comportant aucune sous-liste :"
     ]
    },
    {
     "cell_type": "code",
     "collapsed": false,
     "input": [
      "listea=[1,2,3,[4,5,6]]\n",
      "listeb =listea[:]\n",
      "listea"
     ],
     "language": "python",
     "metadata": {},
     "outputs": [
      {
       "metadata": {},
       "output_type": "pyout",
       "prompt_number": 112,
       "text": [
        "[1, 2, 3, [4, 5, 6]]"
       ]
      }
     ],
     "prompt_number": 112
    },
    {
     "cell_type": "code",
     "collapsed": false,
     "input": [
      "listeb"
     ],
     "language": "python",
     "metadata": {},
     "outputs": [
      {
       "metadata": {},
       "output_type": "pyout",
       "prompt_number": 113,
       "text": [
        "[1, 2, 3, [4, 5, 6]]"
       ]
      }
     ],
     "prompt_number": 113
    },
    {
     "cell_type": "code",
     "collapsed": false,
     "input": [
      "listeb[3][0]=0\n",
      "listeb"
     ],
     "language": "python",
     "metadata": {},
     "outputs": [
      {
       "metadata": {},
       "output_type": "pyout",
       "prompt_number": 114,
       "text": [
        "[1, 2, 3, [0, 5, 6]]"
       ]
      }
     ],
     "prompt_number": 114
    },
    {
     "cell_type": "code",
     "collapsed": false,
     "input": [
      "listea"
     ],
     "language": "python",
     "metadata": {},
     "outputs": [
      {
       "metadata": {},
       "output_type": "pyout",
       "prompt_number": 115,
       "text": [
        "[1, 2, 3, [0, 5, 6]]"
       ]
      }
     ],
     "prompt_number": 115
    },
    {
     "cell_type": "markdown",
     "metadata": {},
     "source": [
      "En effet, le slicing n'effectue pas de copie r\u00e9cursive: en cas de sous-liste, on retombe dans la probl\u00e9matique des pointeurs m\u00e9moire. La solution est alors d'utiliser un module sp\u00e9cifique, le module **_copy_**, qui permet d'effectuer une copie r\u00e9cursive. Bien que n'ayant pas encore approfondi la manipulation des modules, voici comment r\u00e9aliser une copie de liste par cette m\u00e9thode:"
     ]
    },
    {
     "cell_type": "code",
     "collapsed": false,
     "input": [
      "from copy   import *\n",
      "listea=[1,2,3,[4,5,6]]\n",
      "listeb=deepcopy(listea)\n",
      "listea"
     ],
     "language": "python",
     "metadata": {},
     "outputs": [
      {
       "metadata": {},
       "output_type": "pyout",
       "prompt_number": 116,
       "text": [
        "[1, 2, 3, [4, 5, 6]]"
       ]
      }
     ],
     "prompt_number": 116
    },
    {
     "cell_type": "code",
     "collapsed": false,
     "input": [
      "listeb"
     ],
     "language": "python",
     "metadata": {},
     "outputs": [
      {
       "metadata": {},
       "output_type": "pyout",
       "prompt_number": 117,
       "text": [
        "[1, 2, 3, [4, 5, 6]]"
       ]
      }
     ],
     "prompt_number": 117
    },
    {
     "cell_type": "code",
     "collapsed": false,
     "input": [
      "listeb[3][0]=0\n",
      "listeb"
     ],
     "language": "python",
     "metadata": {},
     "outputs": [
      {
       "metadata": {},
       "output_type": "pyout",
       "prompt_number": 118,
       "text": [
        "[1, 2, 3, [0, 5, 6]]"
       ]
      }
     ],
     "prompt_number": 118
    },
    {
     "cell_type": "code",
     "collapsed": false,
     "input": [
      "listea"
     ],
     "language": "python",
     "metadata": {},
     "outputs": [
      {
       "metadata": {},
       "output_type": "pyout",
       "prompt_number": 119,
       "text": [
        "[1, 2, 3, [4, 5, 6]]"
       ]
      }
     ],
     "prompt_number": 119
    },
    {
     "cell_type": "markdown",
     "metadata": {},
     "source": [
      "Le probl\u00e8me est exactement le m\u00eame avec la copie de dictionnaires. Il faudra utiliser ici la m\u00e9thode **_copy()_**:"
     ]
    },
    {
     "cell_type": "code",
     "collapsed": false,
     "input": [
      "dicoa={ 'cle1':1, 'cle2':2, 'cle3':3}\n",
      "dicob=dicoa.copy()\n",
      "dicoa"
     ],
     "language": "python",
     "metadata": {},
     "outputs": [
      {
       "metadata": {},
       "output_type": "pyout",
       "prompt_number": 121,
       "text": [
        "{'cle3': 3, 'cle1': 1, 'cle2': 2}"
       ]
      }
     ],
     "prompt_number": 121
    },
    {
     "cell_type": "code",
     "collapsed": false,
     "input": [
      "dicob"
     ],
     "language": "python",
     "metadata": {},
     "outputs": [
      {
       "metadata": {},
       "output_type": "pyout",
       "prompt_number": 122,
       "text": [
        "{'cle3': 3, 'cle1': 1, 'cle2': 2}"
       ]
      }
     ],
     "prompt_number": 122
    },
    {
     "cell_type": "code",
     "collapsed": false,
     "input": [
      "dicob['cle1']=0"
     ],
     "language": "python",
     "metadata": {},
     "outputs": [],
     "prompt_number": 123
    },
    {
     "cell_type": "code",
     "collapsed": false,
     "input": [
      "dicob"
     ],
     "language": "python",
     "metadata": {},
     "outputs": [
      {
       "metadata": {},
       "output_type": "pyout",
       "prompt_number": 124,
       "text": [
        "{'cle3': 3, 'cle1': 0, 'cle2': 2}"
       ]
      }
     ],
     "prompt_number": 124
    },
    {
     "cell_type": "code",
     "collapsed": false,
     "input": [
      "dicoa"
     ],
     "language": "python",
     "metadata": {},
     "outputs": [
      {
       "metadata": {},
       "output_type": "pyout",
       "prompt_number": 125,
       "text": [
        "{'cle3': 3, 'cle1': 1, 'cle2': 2}"
       ]
      }
     ],
     "prompt_number": 125
    },
    {
     "cell_type": "markdown",
     "metadata": {},
     "source": [
      "## Conclusion\n",
      "\n",
      "Les structures de liste en Python sont particuli\u00e8rement fournies et il existe pour chacune d'elles de nombreuses m\u00e9thodes permettant de manipuler leurs \u00e9l\u00e9ments.  \n",
      "Le slicing repr\u00e9sente un raccourci efficace pour r\u00e9cup\u00e9rer ou modifier des \u00e9l\u00e9ments d'une liste: il masque la complexit\u00e9 des op\u00e9rations sous une syntaxe claire et lisible... pour peu que l'on ait pris le temps de se familiariser avec elle."
     ]
    }
   ],
   "metadata": {}
  }
 ]
}