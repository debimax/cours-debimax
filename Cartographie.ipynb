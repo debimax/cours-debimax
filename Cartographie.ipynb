{
 "cells": [
  {
   "cell_type": "code",
   "execution_count": 1,
   "metadata": {},
   "outputs": [
    {
     "data": {
      "application/javascript": [
       "IPython.Cell.options_default.cm_config.lineNumbers = true"
      ],
      "text/plain": [
       "<IPython.core.display.Javascript object>"
      ]
     },
     "metadata": {},
     "output_type": "display_data"
    }
   ],
   "source": [
    "%%javascript\n",
    "IPython.Cell.options_default.cm_config.lineNumbers = true"
   ]
  },
  {
   "cell_type": "code",
   "execution_count": 77,
   "metadata": {},
   "outputs": [
    {
     "data": {
      "text/html": [
       "<style>\n",
       "/* Pour le titre comme cela il n'y a pas de numérotation au */\n",
       "#titre{\n",
       "font-size: 24pt; \n",
       "color:#ff0000;\n",
       "text-decoration: underline;\n",
       "text-align: center;\n",
       "font-weight: bold;\n",
       "}\n",
       "\n",
       "div.text_cell_render { font-size: 12pt;   line-height: 145%; }\n",
       "div.text_cell_render h1{font-size: 24pt; color:#0000ff;  text-decoration: underline;}\n",
       "div.text_cell_render h2{font-size: 18pt;color:#0000ff;  text-decoration: underline;}\n",
       "div.text_cell_render h3{font-size: 14pt;color:#0000ff;  text-decoration: underline;}\n",
       "div.text_cell_render h4{font-size: 12pt;color:#0000ff;  text-decoration: underline; }\n",
       "div.text_cell_render h5 {font-weight: 300;}\n",
       "\n",
       "\n",
       "div.cell.code_cell { /* area that contains code + output */\n",
       "    background: #ffffff;\n",
       "    border: none;\n",
       "    border-radius: 10px;\n",
       "    padding-top: 1ex;\n",
       "}\n",
       "\n",
       "div.input_area { /* box around box with code */\n",
       "    border: none;\n",
       "    background: #f5f5f5;\n",
       "    border: 1px solid #ccc;\n",
       "    border-radius: 10px;\n",
       "    padding-top: 0.5ex;\n",
       "    padding-bottom: 0.5ex;\n",
       "    padding-left: 0.5em;\n",
       "}\n",
       "\n",
       "div.input { /* box with code */\n",
       "}\n",
       "\n",
       "div.CodeMirror { /* code font */\n",
       "    font-family: \"Inconsolata-dz\", monospace;\n",
       "    font-size: 10pt;\n",
       "}\n",
       "\n",
       "\n",
       "\n",
       "\n",
       "\n",
       "/*div.text_cell_render  code { font-size: medium; border: 3px #ababab solid; background-color: #f5f5f5;}*/\n",
       "/*.rendered_html code { border: 3px #ababab solid; background-color:  #f5f5f5;}*/\n",
       ".rendered_html blockquote { margin: 1em 2em; background: red; }\n",
       ".rendered_html ol { list-style:decimal; margin: 1em 2em; }\n",
       "\n",
       "\n",
       "/* classe pour inverse video */\n",
       ".reverse{\n",
       "    background-color: black;\n",
       "    color: white;\n",
       "}\n",
       "/*  strick   <s>texte/<s>*/\n",
       ".barre{\n",
       "\n",
       "}\n",
       "\n",
       "\n",
       "</style>"
      ],
      "text/plain": [
       "<IPython.core.display.HTML object>"
      ]
     },
     "execution_count": 77,
     "metadata": {},
     "output_type": "execute_result"
    }
   ],
   "source": [
    "# Charge ma feuille de style pour nbviewer\n",
    "from IPython.core.display import display, HTML\n",
    "from  urllib.request import urlopen\n",
    "# import urllib.request, urllib.parse, urllib.error\n",
    "\n",
    "url='https://github.com/debimax/cours-debimax/raw/master/static/custom.css'\n",
    "with urlopen(url) as response:\n",
    "    styles = response.read().decode(\"utf8\")\n",
    "styles=\"<style>\\n{}\\n</style>\".format(styles)\n",
    "HTML(styles)"
   ]
  },
  {
   "cell_type": "markdown",
   "metadata": {},
   "source": [
    "# Créer des cartes avec python facilement\n",
    "\n",
    "## Débuter\n",
    "\n",
    "\n",
    "Pour créer des cartes facilement on utilisera le module Folium.  \n",
    "Folium les librairies JavaScript Leaflet.js et d3js pour fournir le résultat.  \n",
    "\n",
    "Ouvre ***pyzo***. Il faudra installer le module ***folium*** la première fois. Dans le shell python écrire:\n",
    "\n",
    "```python\n",
    "pip install folium\n",
    "```\n",
    "\n",
    "Il faut disposer d'une connection internet.  \n",
    "Pour trouver les latitudes et longitudes des points j'utilise [openstreetmap](http://www.openstreetmap.org/#map=6/46.868/3.098).  À l'aide de la sourie  ***clic droit -> Show adress*** et je copie les coordonnées.\n",
    "\n",
    "Créer en suite votre 1° carte"
   ]
  },
  {
   "cell_type": "code",
   "execution_count": 50,
   "metadata": {},
   "outputs": [],
   "source": [
    "import folium\n",
    "carte = folium.Map(location=[45.1734,5.7626], zoom_start=16)"
   ]
  },
  {
   "cell_type": "markdown",
   "metadata": {},
   "source": [
    "Pour l'afficher dans Jupyter-notebook on utilise   ***display(macarte)***\n",
    "Ayant quelques bug on enregistrera la carte avant dans le fichier un fichier html de votre dossier personnel (au lycée c'est P://) puis on la visualisera.\n",
    "```python\n",
    "macarte.save(path='P://macarte.html')\n",
    "```"
   ]
  },
  {
   "cell_type": "code",
   "execution_count": 51,
   "metadata": {},
   "outputs": [],
   "source": [
    "carte.save('images/macarte1.html')"
   ]
  },
  {
   "cell_type": "code",
   "execution_count": 52,
   "metadata": {},
   "outputs": [
    {
     "data": {
      "text/html": [
       "<iframe width=100%  height=400  src='images/macarte1.html'></iframe>"
      ],
      "text/plain": [
       "<IPython.core.display.HTML object>"
      ]
     },
     "metadata": {},
     "output_type": "display_data"
    }
   ],
   "source": [
    "%%html\n",
    "<iframe width=100%  height=400  src='images/macarte1.html'></iframe>"
   ]
  },
  {
   "cell_type": "markdown",
   "metadata": {},
   "source": [
    "Vous pouvez visualiser la carte en ouvrant le fichier ***macarte.html***  avec firefox par exemple.\n",
    "\n",
    "Une carte est constitué de couches (***layers***)  et de tuiles (***tiles***).\n",
    "\n",
    "La tuile par défaut est ***OpenStreetMap***, mais on peux utiliser d'autres tuiles \n",
    "\n",
    "- OpenStreetMap\n",
    "- Stamen Terrain\n",
    "- stamenwatercolor\n",
    "- Mapbox Bright\n",
    "- Stamen Toner\n",
    "- Cartodb Positron"
   ]
  },
  {
   "cell_type": "code",
   "execution_count": 53,
   "metadata": {},
   "outputs": [],
   "source": [
    "carte=folium.Map(\n",
    "    location=[45.1734,5.7626],\n",
    "    tiles='Stamen Toner',\n",
    "    zoom_start=16\n",
    ")\n",
    "carte.save('images/macarte2.html')"
   ]
  },
  {
   "cell_type": "code",
   "execution_count": 54,
   "metadata": {},
   "outputs": [
    {
     "data": {
      "text/html": [
       "<iframe width=100%  height=400  src='images/macarte2.html'></iframe>"
      ],
      "text/plain": [
       "<IPython.core.display.HTML object>"
      ]
     },
     "metadata": {},
     "output_type": "display_data"
    }
   ],
   "source": [
    "%%html\n",
    "<iframe width=100%  height=400  src='images/macarte2.html'></iframe>"
   ]
  },
  {
   "cell_type": "markdown",
   "metadata": {},
   "source": [
    "##  Les marqueurs\n",
    "\n",
    "Il existe différent marqueurs.\n",
    "\n",
    "\n",
    "### Les icones"
   ]
  },
  {
   "cell_type": "code",
   "execution_count": 55,
   "metadata": {},
   "outputs": [],
   "source": [
    "carte=folium.Map(\n",
    "    location=[45.1734,5.7626],\n",
    "    tiles='Stamen Terrain',\n",
    "    zoom_start=16\n",
    ")\n",
    "\n",
    "# tooltip = 'Cliquez!'  \n",
    "\n",
    "folium.Marker(location=[45.17252,5.76261], popup='<i>Salle des sports</i>').add_to(carte)\n",
    "folium.Marker(location=[45.17329,5.76161], popup='<b>Salle 135</b>').add_to(carte)\n",
    "folium.Marker(location=[45.17393,5.76167], popup='<b>La cantine</b>').add_to(carte)\n",
    "carte.save('images/macarte3.html')"
   ]
  },
  {
   "cell_type": "code",
   "execution_count": 56,
   "metadata": {},
   "outputs": [
    {
     "data": {
      "text/html": [
       "<iframe width=100%  height=400  src='images/macarte3.html'></iframe>"
      ],
      "text/plain": [
       "<IPython.core.display.HTML object>"
      ]
     },
     "metadata": {},
     "output_type": "display_data"
    }
   ],
   "source": [
    "%%html\n",
    "<iframe width=100%  height=400  src='images/macarte3.html'></iframe>"
   ]
  },
  {
   "cell_type": "markdown",
   "metadata": {},
   "source": [
    "On peux modifier l'apparance des marqueurs."
   ]
  },
  {
   "cell_type": "code",
   "execution_count": 57,
   "metadata": {},
   "outputs": [],
   "source": [
    "carte=folium.Map(\n",
    "    location=[45.1734,5.7626],\n",
    "    tiles='Stamen Toner',\n",
    "    zoom_start=16\n",
    ")\n",
    "folium.Marker(location=[45.17252,5.76261],\n",
    "              popup='<i>Salle des sports</i>',\n",
    "             icon=folium.Icon(icon='cloud')\n",
    "             ).add_to(carte)\n",
    "folium.Marker(location=[45.17329,5.76161],\n",
    "              popup='<b>Salle 135</b>',\n",
    "             icon=folium.Icon(color='green')\n",
    "             ).add_to(carte)\n",
    "folium.Marker(location=[45.17393,5.76167],\n",
    "              popup='<b>La cantine</b>',\n",
    "             icon=folium.Icon(color='red', icon='info-sign')\n",
    "             ).add_to(carte)\n",
    "carte.save('images/macarte4.html')"
   ]
  },
  {
   "cell_type": "code",
   "execution_count": 58,
   "metadata": {},
   "outputs": [
    {
     "data": {
      "text/html": [
       "<iframe width=100%  height=400  src='images/macarte4.html'></iframe>"
      ],
      "text/plain": [
       "<IPython.core.display.HTML object>"
      ]
     },
     "metadata": {},
     "output_type": "display_data"
    }
   ],
   "source": [
    "%%html\n",
    "<iframe width=100%  height=400  src='images/macarte4.html'></iframe>"
   ]
  },
  {
   "cell_type": "markdown",
   "metadata": {},
   "source": [
    "On peux utiliser les couleurs:\n",
    "\n",
    "red , blue , green, purple , orange , darkred , lightred , beige , darkblue , darkgreen , cadetblue , darkpurple, white ,  pink , lightblue , lightgreen , gray , black , lightgray\n",
    "\n",
    "\n",
    "Pour les types d'icon regardez [ce site]( https://github.com/lvoogdt/Leaflet.awesome-markers\n",
    ")\n",
    "\n",
    "###  Cercles\n",
    "\n",
    "Circle and CircleMarker, implemented to reflect radii in units of meters and pixels respectively, are available as features. See the features.py for more options.\n"
   ]
  },
  {
   "cell_type": "code",
   "execution_count": 59,
   "metadata": {
    "code_folding": []
   },
   "outputs": [],
   "source": [
    "carte=folium.Map(\n",
    "    location=[45.1734,5.7626],\n",
    "    tiles='Stamen Toner',\n",
    "    zoom_start=16\n",
    ")\n",
    "folium.Circle(\n",
    "    radius=50,\n",
    "    location=[45.17252,5.76261],\n",
    "    popup='Salle des sport',\n",
    "    color='crimson',\n",
    "    fill=False,\n",
    ").add_to(carte)\n",
    "\n",
    "folium.CircleMarker(\n",
    "    location=[45.17393,5.76167],\n",
    "    radius=30,\n",
    "    popup='Cantine',\n",
    "    color='#3186cc',\n",
    "    fill=True,\n",
    "    fill_color='#3186cc'\n",
    ").add_to(carte)\n",
    "carte.save('images/macarte5.html')"
   ]
  },
  {
   "cell_type": "code",
   "execution_count": 60,
   "metadata": {},
   "outputs": [
    {
     "data": {
      "text/html": [
       "<iframe width=100%  height=400  src='images/macarte5.html'></iframe>"
      ],
      "text/plain": [
       "<IPython.core.display.HTML object>"
      ]
     },
     "metadata": {},
     "output_type": "display_data"
    }
   ],
   "source": [
    "%%html\n",
    "<iframe width=100%  height=400  src='images/macarte5.html'></iframe>"
   ]
  },
  {
   "cell_type": "markdown",
   "metadata": {},
   "source": [
    "###  Les polygones\n",
    "\n",
    "On utilise une liste de cooronnées de points et on trace le polygone avec la méthode ***PolyLine***."
   ]
  },
  {
   "cell_type": "code",
   "execution_count": 61,
   "metadata": {},
   "outputs": [],
   "source": [
    "import  folium\n",
    "carte=folium.Map(\n",
    "    location=[45.1734,5.7626],\n",
    "    tiles='Stamen Toner',\n",
    "    zoom_start=16\n",
    ")\n",
    "folium.PolyLine(\n",
    "    locations=[(45.17252,5.76261),(45.17393,5.76167),(45.17393,5.76236)],\n",
    "    popup='Course',\n",
    "    weight=7,\n",
    "    color='crimson',\n",
    ").add_to(carte)\n",
    "\n",
    "carte.save('images/macarte6.html')"
   ]
  },
  {
   "cell_type": "code",
   "execution_count": 62,
   "metadata": {},
   "outputs": [
    {
     "data": {
      "text/html": [
       "<iframe width=100%  height=400  src='images/macarte6.html'></iframe>"
      ],
      "text/plain": [
       "<IPython.core.display.HTML object>"
      ]
     },
     "metadata": {},
     "output_type": "display_data"
    }
   ],
   "source": [
    "%%html\n",
    "<iframe width=100%  height=400  src='images/macarte6.html'></iframe>"
   ]
  },
  {
   "cell_type": "markdown",
   "metadata": {},
   "source": [
    "###  Utiliser les données json ou geojson\n",
    "\n",
    "***json***  signifie *JavaScript Object Notation*.  On utilise ces fichiers pour transmettre des données au navigateurs. \n",
    "\n",
    "Nous allons créer la carte de france avec les départements, les regions et les communes de l'isère.  \n",
    "L'exemple suivant ne fonctionne pas avec la fonction *display* dans jupyter-notebook (bug?)  donc on créera le fichier html.\n",
    "\n",
    "Dans votre répertoire personnel créer le dossier ***images***.   \n",
    "Télécharger les données geojson:\n",
    "-  [departements](https://github.com/gregoiredavid/france-geojson/raw/master/departements.geojson)\n",
    "-  [regions](https://github.com/gregoiredavid/france-geojson/raw/master/regions.geojson)\n",
    "-  [communes de l'isère](https://github.com/gregoiredavid/france-geojson/raw/master/departements/38-isere/communes-38-isere.geojson)\n",
    "\n",
    "\n",
    "Mettre ces fichiers ***.geojson*** dans le dossier *images* crée précédemment.\n",
    "\n",
    "Pensez à modifier les adresses de sauvegarde ou lecture dans le script ci-dessous.  par  exemple \n",
    "```python\n",
    "departements = os.path.join('P://images/', 'departements.geojson')\n",
    "m.save('P://macarte.html')\n",
    "```"
   ]
  },
  {
   "cell_type": "code",
   "execution_count": 63,
   "metadata": {
    "code_folding": []
   },
   "outputs": [],
   "source": [
    "import folium               \n",
    "import pandas as pd\n",
    "import os\n",
    "#https://github.com/gregoiredavid/france-geojson\n",
    "departements = os.path.join('images/', 'departements.geojson')\n",
    "regions = os.path.join('images/', 'regions.geojson')\n",
    "communes = os.path.join('images/', 'communes-38-isere.geojson')\n",
    "\n",
    "carte = folium.Map(location=[46.875,3.098], zoom_start=6)\n",
    "carte.choropleth(geo_data=communes,fill_opacity=0, line_opacity=1)\n",
    "carte.choropleth(geo_data=departements, fill_opacity=0, line_opacity=1, line_color='black' )\n",
    "carte.choropleth(geo_data=regions, fill_opacity=0, line_opacity=1, line_color='red',line_weight=3 )\n",
    "\n",
    "carte.save('images/macarte7.html')"
   ]
  },
  {
   "cell_type": "code",
   "execution_count": 64,
   "metadata": {},
   "outputs": [
    {
     "data": {
      "text/html": [
       "<iframe width=100%  height=400  src='images/macarte7.html'></iframe>"
      ],
      "text/plain": [
       "<IPython.core.display.HTML object>"
      ]
     },
     "metadata": {},
     "output_type": "display_data"
    }
   ],
   "source": [
    "%%html\n",
    "<iframe width=100%  height=400  src='images/macarte7.html'></iframe>"
   ]
  },
  {
   "cell_type": "markdown",
   "metadata": {},
   "source": [
    "## Des sites intéressants\n",
    "\n",
    "\n",
    "- [https://deparkes.co.uk/2016/06/03/plot-lines-in-folium/](https://deparkes.co.uk/2016/06/03/plot-lines-in-folium/)\n",
    "- [Données geojson  france](https://github.com/gregoiredavid/france-geojson)"
   ]
  },
  {
   "cell_type": "markdown",
   "metadata": {},
   "source": [
    "## Exercices \n",
    "\n",
    "Aller sur le site [http://argonautica.jason.oceanobs.com/html/argonautica/affiche_donnees_fr.html](http://argonautica.jason.oceanobs.com/html/argonautica/affiche_donnees_fr.html)  pour obtenir les coordonnées de déplacement d'un annimal de votre choix.\n",
    "\n",
    "Par exemple [l'ours sakari](http://argonautica.jason.oceanobs.com/documents/argonautica/localisations/sakari/sakari.txt)\n",
    "\n",
    "Reconstituer une carte indiquant le parcours de l'animal."
   ]
  },
  {
   "cell_type": "code",
   "execution_count": null,
   "metadata": {},
   "outputs": [],
   "source": []
  }
 ],
 "metadata": {
  "kernelspec": {
   "display_name": "Python 3",
   "language": "python",
   "name": "python3"
  },
  "language_info": {
   "codemirror_mode": {
    "name": "ipython",
    "version": 3
   },
   "file_extension": ".py",
   "mimetype": "text/x-python",
   "name": "python",
   "nbconvert_exporter": "python",
   "pygments_lexer": "ipython3",
   "version": "3.6.4"
  },
  "latex_envs": {
   "LaTeX_envs_menu_present": true,
   "autocomplete": true,
   "bibliofile": "biblio.bib",
   "cite_by": "apalike",
   "current_citInitial": 1,
   "eqLabelWithNumbers": true,
   "eqNumInitial": 1,
   "hotkeys": {
    "equation": "Ctrl-E",
    "itemize": "Ctrl-I"
   },
   "labels_anchors": false,
   "latex_user_defs": false,
   "report_style_numbering": false,
   "user_envs_cfg": false
  },
  "toc": {
   "colors": {
    "hover_highlight": "#DAA520",
    "navigate_num": "#000000",
    "navigate_text": "#333333",
    "running_highlight": "#FF0000",
    "selected_highlight": "#FFD700",
    "sidebar_border": "#EEEEEE",
    "wrapper_background": "#FFFFFF"
   },
   "moveMenuLeft": true,
   "nav_menu": {
    "height": "118px",
    "width": "252px"
   },
   "navigate_menu": true,
   "number_sections": true,
   "sideBar": true,
   "threshold": "3",
   "toc_cell": false,
   "toc_section_display": "block",
   "toc_window_display": false,
   "widenNotebook": false
  }
 },
 "nbformat": 4,
 "nbformat_minor": 2
}
