{
 "cells": [
  {
   "cell_type": "markdown",
   "metadata": {},
   "source": [
    "# <center>Cours python3</center>\n",
    "\n",
    "## 1 ) [Les bases de python](./bases.ipynb \"Débuter avec l'exemple hello world\")\n",
    "## 2 ) [Les méthodes pour les types string, liste et tuple](./string-listes.ipynb \"Manipuler les listes\")\n",
    "## 3 ) [Traitement des images](./images.ipynb \"Traitement des images\")\n",
    "## 4 ) [Un site internet avec python et flask](./flask.ipynb \"Utiliser une librairie C avec python\")"
   ]
  },
  {
   "cell_type": "markdown",
   "metadata": {},
   "source": [
    "Pour utiliser ipython en ligne\n",
    "\n",
    "- [http://tmpnb.org](http://tmpnb.org) pour les cours 1 et 2.\n",
    "- [https://www.getdatajoy.com](https://www.getdatajoy.com)\n",
    "\n",
    "\n",
    "\n",
    "1) et 2) est en partie inspiré de ouvrage [Linux Pratique HS n°23 : La programmation avec Python](http://numerique.ed-diamond.com/produit/50/9786000048501/Linux%20Pratique%20HS%20n23%20%20La%20programmation%20avec%20Python  La programmation avec Python\")\n",
    "\n",
    "Si vous voullez au format papier pensez à l'acheter sur leur site (il traite par contre de python2)."
   ]
  }
 ],
 "metadata": {
  "kernelspec": {
   "display_name": "Python 3",
   "language": "python",
   "name": "python3"
  },
  "language_info": {
   "codemirror_mode": {
    "name": "ipython",
    "version": 3
   },
   "file_extension": ".py",
   "mimetype": "text/x-python",
   "name": "python",
   "nbconvert_exporter": "python",
   "pygments_lexer": "ipython3",
   "version": "3.5.3+"
  },
  "latex_envs": {
   "LaTeX_envs_menu_present": true,
   "autocomplete": true,
   "bibliofile": "biblio.bib",
   "cite_by": "apalike",
   "current_citInitial": 1,
   "eqLabelWithNumbers": true,
   "eqNumInitial": 1,
   "hotkeys": {
    "equation": "Ctrl-E",
    "itemize": "Ctrl-I"
   },
   "labels_anchors": false,
   "latex_user_defs": false,
   "report_style_numbering": false,
   "user_envs_cfg": false
  },
  "toc": {
   "colors": {
    "hover_highlight": "#DAA520",
    "navigate_num": "#000000",
    "navigate_text": "#333333",
    "running_highlight": "#FF0000",
    "selected_highlight": "#FFD700",
    "sidebar_border": "#EEEEEE",
    "wrapper_background": "#FFFFFF"
   },
   "moveMenuLeft": true,
   "nav_menu": {
    "height": "136px",
    "width": "252px"
   },
   "navigate_menu": true,
   "number_sections": true,
   "sideBar": true,
   "threshold": 4,
   "toc_cell": false,
   "toc_section_display": "block",
   "toc_window_display": false,
   "widenNotebook": false
  }
 },
 "nbformat": 4,
 "nbformat_minor": 0
}
