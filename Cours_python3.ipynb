{
 "metadata": {
  "name": "",
  "signature": "sha256:a392a2790384a095977aef1a50296d7ce0f332d7830e9993d06c613746d65d1f"
 },
 "nbformat": 3,
 "nbformat_minor": 0,
 "worksheets": [
  {
   "cells": [
    {
     "cell_type": "markdown",
     "metadata": {},
     "source": [
      "# <center>Cours python3</center>\n",
      "\n",
      "#1) [Les bases de python](./bases.ipynb \"D\u00e9buter avec l'exemple hello world\")\n",
      "#2) [Les m\u00e9thodes pour les types string, liste et tuple](./string-listes.ipynb \"Manipuler les listes\")\n",
      "#3) [Traitement des images](./imgaes.ipynb \"Traitement des images\")\n",
      "#4) [Un site internet avec python et flask](./flask.ipynb \"Utiliser une librairie C avec python\")"
     ]
    },
    {
     "cell_type": "markdown",
     "metadata": {},
     "source": [
      "1) et 2) est en partie inspir\u00e9 de ouvrage [Linux Pratique HS n\u00b023 : La programmation avec Python](http://numerique.ed-diamond.com/produit/50/9786000048501/Linux%20Pratique%20HS%20n23%20%20La%20programmation%20avec%20Python  La programmation avec Python\")\n",
      "\n",
      "Si vous voullez l'avoir au format papier pensez \u00e0 l'acheter sur leur site."
     ]
    },
    {
     "cell_type": "code",
     "collapsed": false,
     "input": [],
     "language": "python",
     "metadata": {},
     "outputs": []
    }
   ],
   "metadata": {}
  }
 ]
}