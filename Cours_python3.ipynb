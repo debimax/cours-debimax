{
 "metadata": {
  "name": "",
  "signature": "sha256:207f9702b779a2bfdcde288132d2818664d2bd75f0c8c55a27c13a83e4d2cb42"
 },
 "nbformat": 3,
 "nbformat_minor": 0,
 "worksheets": [
  {
   "cells": [
    {
     "cell_type": "markdown",
     "metadata": {},
     "source": [
      "# <center>Cours python3</center>\n",
      "\n",
      "#1) [Les bases de python](./bases.ipynb \"D\u00e9buter avec l'exemple hello world\")\n",
      "#2) [Le slicing et les structures de liste](./slicing.ipynb \"Manipuler les listes\")"
     ]
    },
    {
     "cell_type": "markdown",
     "metadata": {},
     "source": [
      "Ce cours est en tr\u00e8s grande partie inspir\u00e9 de ouvrage [Linux Pratique HS n\u00b023 : La programmation avec Python](http://numerique.ed-diamond.com/produit/50/9786000048501/Linux%20Pratique%20HS%20n23%20%20La%20programmation%20avec%20Python  La programmation avec Python\")\n",
      "\n",
      "Si vous voullez l'avoir au format papier pensez \u00e0 l'acheter sur leur site."
     ]
    }
   ],
   "metadata": {}
  }
 ]
}