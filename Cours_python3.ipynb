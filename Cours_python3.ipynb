{
 "metadata": {
  "name": "",
  "signature": "sha256:c2ed0f4e6eb60a8eb6e6cd215a1dca3b17aa4b44f51ed90083364549f5a13ef9"
 },
 "nbformat": 3,
 "nbformat_minor": 0,
 "worksheets": [
  {
   "cells": [
    {
     "cell_type": "markdown",
     "metadata": {},
     "source": [
      "# <center>Cours python3</center>\n",
      "\n",
      "#1) [Les bases de python](./bases.ipynb \"D\u00e9buter avec l'exemple hello world\")\n",
      "#2) [Les m\u00e9thodes pour les types string, liste et tuple](./slicing.ipynb \"Manipuler les listes\")\n",
      "#4) [Un site internet avec python et flask](./flask.ipynb \"Utiliser une librairie C avec python\")"
     ]
    },
    {
     "cell_type": "markdown",
     "metadata": {},
     "source": [
      "Ce cours est en tr\u00e8s grande partie inspir\u00e9 de ouvrage [Linux Pratique HS n\u00b023 : La programmation avec Python](http://numerique.ed-diamond.com/produit/50/9786000048501/Linux%20Pratique%20HS%20n23%20%20La%20programmation%20avec%20Python  La programmation avec Python\")\n",
      "\n",
      "Si vous voullez l'avoir au format papier pensez \u00e0 l'acheter sur leur site."
     ]
    },
    {
     "cell_type": "code",
     "collapsed": false,
     "input": [],
     "language": "python",
     "metadata": {},
     "outputs": []
    }
   ],
   "metadata": {}
  }
 ]
}