{
 "cells": [
  {
   "cell_type": "markdown",
   "metadata": {},
   "source": [
    "# <center>Cours python3</center>\n",
    "\n",
    "## 1 ) [Les bases de python](./bases.ipynb \"Débuter avec l'exemple hello world\")\n",
    "## 2 ) [Les méthodes pour les types string, liste et tuple](./string-listes.ipynb \"Manipuler les listes\")\n",
    "## 3 ) [Traitement des images](./images.ipynb \"Traitement des images\")\n",
    "## 4 ) [Un site internet avec python et flask](./flask.ipynb \"Utiliser une librairie C avec python\")"
   ]
  },
  {
   "cell_type": "markdown",
   "metadata": {},
   "source": [
    "Pour utiliser ipython en ligne\n",
    "\n",
    "- [http://tmpnb.org](http://tmpnb.org) pour les cours 1 et 2.\n",
    "- [https://www.getdatajoy.com](https://www.getdatajoy.com)\n",
    "\n",
    "\n",
    "\n",
    "1) et 2) est en partie inspiré de ouvrage [Linux Pratique HS n°23 : La programmation avec Python](http://numerique.ed-diamond.com/produit/50/9786000048501/Linux%20Pratique%20HS%20n23%20%20La%20programmation%20avec%20Python  La programmation avec Python\")\n",
    "\n",
    "Si vous voullez au format papier pensez à l'acheter sur leur site (il traite par contre de python2)."
   ]
  }
 ],
 "metadata": {
  "kernelspec": {
   "display_name": "Python 3",
   "language": "python",
   "name": "python3"
  },
  "language_info": {
   "codemirror_mode": {
    "name": "ipython",
    "version": 3
   },
   "file_extension": ".py",
   "mimetype": "text/x-python",
   "name": "python",
   "nbconvert_exporter": "python",
   "pygments_lexer": "ipython3",
   "version": "3.4.3+"
  }
 },
 "nbformat": 4,
 "nbformat_minor": 0
}
