{
 "metadata": {
  "name": "",
  "signature": "sha256:e7a5c340d12e27c1305b7f1c691f6b96726652ee0a77e38304a625a1c8e658ca"
 },
 "nbformat": 3,
 "nbformat_minor": 0,
 "worksheets": [
  {
   "cells": [
    {
     "cell_type": "markdown",
     "metadata": {},
     "source": [
      "# <center>Cours python3</center>\n",
      "\n",
      "#1) [Les bases de python](./bases.ipynb \"D\u00e9buter avec l'exemple hello world\")\n",
      "#2) [Le slicing et les structures de liste](./slicing.ipynb \"Manipuler les listes\")\n",
      "#2) [Ctype: utilisation d'une librairie c](./ctypes.ipynb \"Utiliser une librairie C avec python\")"
     ]
    },
    {
     "cell_type": "markdown",
     "metadata": {},
     "source": [
      "Ce cours est en tr\u00e8s grande partie inspir\u00e9 de ouvrage [Linux Pratique HS n\u00b023 : La programmation avec Python](http://numerique.ed-diamond.com/produit/50/9786000048501/Linux%20Pratique%20HS%20n23%20%20La%20programmation%20avec%20Python  La programmation avec Python\")\n",
      "\n",
      "Si vous voullez l'avoir au format papier pensez \u00e0 l'acheter sur leur site."
     ]
    }
   ],
   "metadata": {}
  }
 ]
}