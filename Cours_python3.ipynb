{
 "metadata": {
  "name": "",
  "signature": "sha256:73a1692c618007cb809e03e3f87599ca032bf3cc93f214002b8b8d7b433592cc"
 },
 "nbformat": 3,
 "nbformat_minor": 0,
 "worksheets": [
  {
   "cells": [
    {
     "cell_type": "markdown",
     "metadata": {},
     "source": [
      "# <center>Cours python3</center>\n",
      "\n",
      "#1) [Les bases de python](./bases.ipynb \"D\u00e9buter avec l'exemple hello world\")\n",
      "#2) [Les m\u00e9thodes pour les types string, liste et tuple](./string-listes.ipynb \"Manipuler les listes\")\n",
      "#3) [Traitement des images](./images.ipynb \"Traitement des images\")\n",
      "#4) [Un site internet avec python et flask](./flask.ipynb \"Utiliser une librairie C avec python\")"
     ]
    },
    {
     "cell_type": "markdown",
     "metadata": {},
     "source": [
      "Pour utiliser ipython en ligne\n",
      "\n",
      "- [http://tmpnb.org](http://tmpnb.org) pour les cours 1 et 2.\n",
      "- [https://www.getdatajoy.com](https://www.getdatajoy.com)\n",
      "\n",
      "\n",
      "\n",
      "1) et 2) est en partie inspir\u00e9 de ouvrage [Linux Pratique HS n\u00b023 : La programmation avec Python](http://numerique.ed-diamond.com/produit/50/9786000048501/Linux%20Pratique%20HS%20n23%20%20La%20programmation%20avec%20Python  La programmation avec Python\")\n",
      "\n",
      "Si vous voullez au format papier pensez \u00e0 l'acheter sur leur site (il traite par contre de python2)."
     ]
    }
   ],
   "metadata": {}
  }
 ]
}